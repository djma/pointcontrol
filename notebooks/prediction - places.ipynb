{
 "metadata": {
  "name": "",
  "signature": "sha256:ada7a80aae46a72a4a44e8ac4ec977a2708ebecd1b22777c72f27229092fe3e6"
 },
 "nbformat": 3,
 "nbformat_minor": 0,
 "worksheets": [
  {
   "cells": [
    {
     "cell_type": "code",
     "collapsed": false,
     "input": [
      "import sqlite3\n",
      "import pandas as pd\n",
      "import numpy as np\n",
      "from scipy import stats\n",
      "from StringIO import StringIO \n",
      "from datetime import datetime\n",
      "\n",
      "conn = sqlite3.connect(\"../data.db\")\n",
      "\n",
      "#    con = sqlite3.connect(\"../data.db\")\n",
      "#    tempfile = StringIO()\n",
      "#    for line in con.iterdump():\n",
      "#        tempfile.write('%s\\n' % line)\n",
      "#    con.close()\n",
      "#    tempfile.seek(0)\n",
      "\n",
      "#    # Create a database in memory and import from tempfile\n",
      "#    conn = sqlite3.connect(\":memory:\")\n",
      "#    conn.cursor().executescript(tempfile.read())\n",
      "#    conn.commit()\n",
      "#    conn.row_factory = sqlite3.Row\n",
      "\n",
      "c = conn.cursor()\n",
      "c2 = conn.cursor()"
     ],
     "language": "python",
     "metadata": {},
     "outputs": [],
     "prompt_number": 1
    },
    {
     "cell_type": "code",
     "collapsed": false,
     "input": [
      "lettermap = {\n",
      "    \"U\" : 0, \n",
      "    \"E\" : 1,\n",
      "    \"D\" : 2,\n",
      "    \"C\" : 3,\n",
      "    \"B\" : 4,\n",
      "    \"A\" : 5}\n",
      "\n",
      "yearmap = {\n",
      "    2015 : 0.0,\n",
      "    2014 : -0.1,\n",
      "    2013 : -0.2,\n",
      "    2012 : -0.3,\n",
      "    2011 : -0.4,\n",
      "    2010 : -0.5,\n",
      "}\n",
      "\n",
      "def getLatestRating(fencerid, prior_to_date, weapon):\n",
      "    c = conn.cursor()\n",
      "    q = c.execute(\"\"\"\n",
      "      SELECT r.ts_mu, r.ts_sigma\n",
      "      FROM adjusted_ratings r , bouts b, events e, tournaments t\n",
      "      WHERE r.fencerid = %(fencerid)s\n",
      "        AND r.boutid = b.boutid\n",
      "        AND e.weapon = '%(weapon)s'\n",
      "        AND r.weapon = '%(weapon)s'\n",
      "        AND b.eventid = e.eventid\n",
      "        AND e.tournamentid = t.tournamentid\n",
      "        AND t.start_date < '%(prior_to_date)s'\n",
      "      ORDER BY t.start_date desc, b.boutid desc\n",
      "      LIMIT 1;\n",
      "    \"\"\" % {\n",
      "    \"fencerid\" : fencerid,\n",
      "    \"weapon\" : weapon,\n",
      "    \"prior_to_date\" : prior_to_date,\n",
      "    }).fetchone()\n",
      "    if q:\n",
      "        return q[0]\n",
      "    else:\n",
      "        return 25.0\n",
      "    \n",
      "def getLatestLetter(fencerid, prior_to_date, weapon):\n",
      "    c = conn.cursor()\n",
      "    q = c.execute(\"\"\"\n",
      "      SELECT p.rating_earned_letter, p.rating_earned_year, t.start_date \n",
      "      FROM promotions p, events e, tournaments t\n",
      "      WHERE p.fencerid = %(fencerid)s\n",
      "        AND e.weapon = '%(weapon)s'\n",
      "        AND p.eventid = e.eventid\n",
      "        AND e.tournamentid = t.tournamentid\n",
      "        AND t.start_date < '%(prior_to_date)s'\n",
      "      ORDER BY t.start_date desc, e.eventid desc\n",
      "      LIMIT 1; \n",
      "    \"\"\" % {\n",
      "    \"fencerid\" : fencerid,\n",
      "    \"weapon\" : weapon,\n",
      "    \"prior_to_date\" : prior_to_date,\n",
      "    }).fetchone()\n",
      "    if q:\n",
      "        return (q[0], q[1])\n",
      "    else:\n",
      "        return (\"U\", 2015)\n",
      "    \n",
      "def scoreEventPrediction(eventid):\n",
      "    c = conn.cursor()\n",
      "    results = c.execute(\"\"\"\n",
      "        SELECT *\n",
      "        FROM tournament_results\n",
      "        WHERE eventid = %(eventid)s;\n",
      "        \"\"\" % {\n",
      "        \"eventid\" : eventid\n",
      "        })\n",
      "    places = []\n",
      "    pre_mu = []\n",
      "    pre_le = []\n",
      "    for r in results:\n",
      "        fencerid, eventid, weapon, tournamentid, entries, place, start_date = r\n",
      "        ts_mu = getLatestRating(fencerid, start_date, weapon)\n",
      "        letter, year = getLatestLetter(fencerid, start_date, weapon)\n",
      "        places.append(-place)\n",
      "        #pre_mu.append(float(ts_mu) + np.random.randn() * 0.0001)\n",
      "        #pre_le.append(lettermap[letter] + yearmap[year] + np.random.randn() * 0.0001)\n",
      "        pre_mu.append(float(ts_mu))\n",
      "        pre_le.append(lettermap[letter] + yearmap[year])\n",
      "    if len(places) > 0:\n",
      "        letter_tau = stats.kendalltau(places,pre_le)[0]\n",
      "        mu_tau = stats.kendalltau(places,pre_mu)[0]\n",
      "        if np.isnan(letter_tau):\n",
      "            letter_tau = 0.0\n",
      "        if np.isnan(mu_tau):\n",
      "            mu_tau = 0.0\n",
      "        return (letter_tau, mu_tau, len(places))\n",
      "    else:\n",
      "        return None"
     ],
     "language": "python",
     "metadata": {},
     "outputs": [],
     "prompt_number": 4
    },
    {
     "cell_type": "code",
     "collapsed": false,
     "input": [
      "np.random.seed(0)\n",
      "\n",
      "\n",
      "events = c.execute(\"\"\"\n",
      "SELECT e.*, t.start_date\n",
      "FROM events e, tournaments t\n",
      "WHERE weapon = 'Saber'\n",
      "  AND e.tournamentid = t.tournamentid\n",
      "  AND t.start_date > '2014-06-20'\n",
      "ORDER BY t.start_date ASC\n",
      "\"\"\")\n",
      "\n",
      "collected_taus = []\n",
      "\n",
      "for event in events:\n",
      "    eventid, tournamentid, weapon, start_date = event\n",
      "    taus = scoreEventPrediction(eventid)\n",
      "    if taus:\n",
      "        collected_taus += [{\"eventid\" : eventid, \n",
      "                            \"start_date\" : start_date, \n",
      "                            \"letter_tau\" : taus[0], \n",
      "                            \"mu_tau\" : taus[1], \n",
      "                            \"num_fencers\" : taus[2],\n",
      "                            }]\n",
      "        print taus, start_date\n",
      "d = pd.DataFrame(collected_taus)"
     ],
     "language": "python",
     "metadata": {},
     "outputs": [
      {
       "output_type": "stream",
       "stream": "stdout",
       "text": [
        "(0.70534634663486273, 0.70912925734042553, 18) 2014-06-21\n",
        "(0.3857583749052298, 0.55205244747388349, 6)"
       ]
      },
      {
       "output_type": "stream",
       "stream": "stdout",
       "text": [
        " 2014-06-21\n",
        "(0.0, 0.4728054288446501, 8)"
       ]
      },
      {
       "output_type": "stream",
       "stream": "stdout",
       "text": [
        " 2014-06-21\n",
        "(0.0, -0.10540925533894598, 5)"
       ]
      },
      {
       "output_type": "stream",
       "stream": "stdout",
       "text": [
        " 2014-06-21\n",
        "(0.0, -0.40118870990143901, 9)"
       ]
      },
      {
       "output_type": "stream",
       "stream": "stdout",
       "text": [
        " 2014-06-22\n",
        "(0.0, -0.36829475375170051, 12)"
       ]
      },
      {
       "output_type": "stream",
       "stream": "stdout",
       "text": [
        " 2014-06-22\n",
        "(0.0, -0.29629629629629628, 8)"
       ]
      },
      {
       "output_type": "stream",
       "stream": "stdout",
       "text": [
        " 2014-06-22\n",
        "(0.0, -0.014528909813786649, 21)"
       ]
      },
      {
       "output_type": "stream",
       "stream": "stdout",
       "text": [
        " 2014-06-22\n",
        "(0.44245586872274145, 0.45502645502645495, 20)"
       ]
      },
      {
       "output_type": "stream",
       "stream": "stdout",
       "text": [
        " 2014-06-22\n",
        "(0.35856858280031806, 0.76063882925566484, 9)"
       ]
      },
      {
       "output_type": "stream",
       "stream": "stdout",
       "text": [
        " 2014-06-22\n",
        "(0.53893631456158819, 0.52720126751610552, 16)"
       ]
      },
      {
       "output_type": "stream",
       "stream": "stdout",
       "text": [
        " 2014-06-22\n",
        "(0.59761430466719689, 0.071428571428571452, 6)"
       ]
      },
      {
       "output_type": "stream",
       "stream": "stdout",
       "text": [
        " 2014-06-26\n",
        "(0.0, -0.23809523809523808, 7)"
       ]
      },
      {
       "output_type": "stream",
       "stream": "stdout",
       "text": [
        " 2014-07-10\n",
        "(0.80641964901200791, 0.83872713290032774, 13)"
       ]
      },
      {
       "output_type": "stream",
       "stream": "stdout",
       "text": [
        " 2014-07-10\n",
        "(0.0, -0.10540925533894598, 5)"
       ]
      },
      {
       "output_type": "stream",
       "stream": "stdout",
       "text": [
        " 2014-07-11\n",
        "(0.50869365119807719, 0.50383147365577885, 12)"
       ]
      },
      {
       "output_type": "stream",
       "stream": "stdout",
       "text": [
        " 2014-07-11\n",
        "(0.33333333333333331, 0.31622776601683794, 5)"
       ]
      },
      {
       "output_type": "stream",
       "stream": "stdout",
       "text": [
        " 2014-07-11\n",
        "(0.69751844888288528, 0.65683104010890381, 17)"
       ]
      },
      {
       "output_type": "stream",
       "stream": "stdout",
       "text": [
        " 2014-07-11\n",
        "(0.0, 0.73786478737262184, 5)"
       ]
      },
      {
       "output_type": "stream",
       "stream": "stdout",
       "text": [
        " 2014-07-11\n",
        "(0.0, 0.071428571428571452, 6)"
       ]
      },
      {
       "output_type": "stream",
       "stream": "stdout",
       "text": [
        " 2014-07-12\n",
        "(0.0, 1.0, 4)"
       ]
      },
      {
       "output_type": "stream",
       "stream": "stdout",
       "text": [
        " 2014-07-12\n",
        "(0.33774067250567508, 0.64379447509657517, 32)"
       ]
      },
      {
       "output_type": "stream",
       "stream": "stdout",
       "text": [
        " 2014-07-13\n",
        "(0.57564051904679059, 0.59669418971861643, 14)"
       ]
      },
      {
       "output_type": "stream",
       "stream": "stdout",
       "text": [
        " 2014-07-13\n",
        "(0.58272583432804059, 0.51675232658689307, 15)"
       ]
      },
      {
       "output_type": "stream",
       "stream": "stdout",
       "text": [
        " 2014-07-17\n",
        "(0.0, 0.69006555934235436, 6)"
       ]
      },
      {
       "output_type": "stream",
       "stream": "stdout",
       "text": [
        " 2014-07-19\n",
        "(0.40526897572606824, 0.48677248677248669, 20)"
       ]
      },
      {
       "output_type": "stream",
       "stream": "stdout",
       "text": [
        " 2014-07-19\n",
        "(0.7745966692414834, 0.54772255750516619, 4)"
       ]
      },
      {
       "output_type": "stream",
       "stream": "stdout",
       "text": [
        " 2014-07-19\n",
        "(0.64635961249377405, 0.80903983495589049, 10)"
       ]
      },
      {
       "output_type": "stream",
       "stream": "stdout",
       "text": [
        " 2014-07-19\n",
        "(0.69395423593525363, 0.65909090909090917, 10)"
       ]
      },
      {
       "output_type": "stream",
       "stream": "stdout",
       "text": [
        " 2014-07-19\n",
        "(0.0, 0.41403933560541262, 6)"
       ]
      },
      {
       "output_type": "stream",
       "stream": "stdout",
       "text": [
        " 2014-07-19\n",
        "(0.0, 1.0, 2)"
       ]
      },
      {
       "output_type": "stream",
       "stream": "stdout",
       "text": [
        " 2014-07-19\n",
        "(0.4630704205995177, 0.62637362637362659, 14)"
       ]
      },
      {
       "output_type": "stream",
       "stream": "stdout",
       "text": [
        " 2014-07-19\n",
        "(0.0, 0.0, 2)"
       ]
      },
      {
       "output_type": "stream",
       "stream": "stdout",
       "text": [
        " 2014-07-19\n",
        "(0.54772255750516619, 0.25000000000000006, 7)"
       ]
      },
      {
       "output_type": "stream",
       "stream": "stdout",
       "text": [
        " 2014-07-19\n",
        "(0.0, -0.54772255750516619, 4)"
       ]
      },
      {
       "output_type": "stream",
       "stream": "stdout",
       "text": [
        " 2014-07-19\n",
        "(0.36514837167011077, 0.4879500364742666, 7)"
       ]
      },
      {
       "output_type": "stream",
       "stream": "stdout",
       "text": [
        " 2014-07-20\n",
        "(0.60894276207042175, 0.66057825907581624, 11)"
       ]
      },
      {
       "output_type": "stream",
       "stream": "stdout",
       "text": [
        " 2014-07-20\n",
        "(0.66130709318846947, 0.63366460869567687, 23)"
       ]
      },
      {
       "output_type": "stream",
       "stream": "stdout",
       "text": [
        " 2014-07-20\n",
        "(0.0, 0.91287092917527701, 4)"
       ]
      },
      {
       "output_type": "stream",
       "stream": "stdout",
       "text": [
        " 2014-07-20\n",
        "(0.0, -0.18184824186332696, 8)"
       ]
      },
      {
       "output_type": "stream",
       "stream": "stdout",
       "text": [
        " 2014-07-20\n",
        "(0.0, 0.0, 4)"
       ]
      },
      {
       "output_type": "stream",
       "stream": "stdout",
       "text": [
        " 2014-07-20\n",
        "(0.66666666666666663, 0.0, 5)"
       ]
      },
      {
       "output_type": "stream",
       "stream": "stdout",
       "text": [
        " 2014-07-20\n",
        "(0.0, 0.061538461538461549, 12)"
       ]
      },
      {
       "output_type": "stream",
       "stream": "stdout",
       "text": [
        " 2014-07-20\n",
        "(0.60395543942554952, 0.72076577590353841, 21)"
       ]
      },
      {
       "output_type": "stream",
       "stream": "stdout",
       "text": [
        " 2014-07-20\n",
        "(0.0, -0.07407407407407407, 8)"
       ]
      },
      {
       "output_type": "stream",
       "stream": "stdout",
       "text": [
        " 2014-07-20\n",
        "(0.0, 0.94868329805051377, 5)"
       ]
      },
      {
       "output_type": "stream",
       "stream": "stdout",
       "text": [
        " 2014-07-21\n",
        "(0.75454463541768479, 0.78469797740972647, 15)"
       ]
      },
      {
       "output_type": "stream",
       "stream": "stdout",
       "text": [
        " 2014-07-24\n",
        "(0.0, 0.3669879217087868, 11)"
       ]
      },
      {
       "output_type": "stream",
       "stream": "stdout",
       "text": [
        " 2014-07-25\n",
        "(-0.072739296745330778, 0.25458753860865774, 8)"
       ]
      },
      {
       "output_type": "stream",
       "stream": "stdout",
       "text": [
        " 2014-07-26\n",
        "(0.35553315341612896, 0.42176248989638448, 17)"
       ]
      },
      {
       "output_type": "stream",
       "stream": "stdout",
       "text": [
        " 2014-07-26\n",
        "(0.5031473844418981, 0.41391867719235809, 15)"
       ]
      },
      {
       "output_type": "stream",
       "stream": "stdout",
       "text": [
        " 2014-07-26\n",
        "(0.0, -0.29277002188455997, 7)"
       ]
      },
      {
       "output_type": "stream",
       "stream": "stdout",
       "text": [
        " 2014-07-27\n",
        "(0.57705592796774741, 0.45925925925925914, 17)"
       ]
      },
      {
       "output_type": "stream",
       "stream": "stdout",
       "text": [
        " 2014-07-31\n",
        "(0.42700841014689916, 0.83650191257130402, 8)"
       ]
      },
      {
       "output_type": "stream",
       "stream": "stdout",
       "text": [
        " 2014-08-01\n",
        "(0.64176662953106312, 0.71587203247824349, 17)"
       ]
      },
      {
       "output_type": "stream",
       "stream": "stdout",
       "text": [
        " 2014-08-02\n",
        "(0.57637075958512396, 0.62203474478494925, 56)"
       ]
      },
      {
       "output_type": "stream",
       "stream": "stdout",
       "text": [
        " 2014-08-02\n",
        "(0.81356028779700296, 0.87025436358725439, 12)"
       ]
      },
      {
       "output_type": "stream",
       "stream": "stdout",
       "text": [
        " 2014-08-02\n",
        "(0.57285109932413181, 0.57629188100504447, 16)"
       ]
      },
      {
       "output_type": "stream",
       "stream": "stdout",
       "text": [
        " 2014-08-03\n",
        "(0.0, 0.22222222222222218, 5)"
       ]
      },
      {
       "output_type": "stream",
       "stream": "stdout",
       "text": [
        " 2014-08-03\n",
        "(0.47200689334476431, 0.43691379602659719, 15)"
       ]
      },
      {
       "output_type": "stream",
       "stream": "stdout",
       "text": [
        " 2014-08-03\n",
        "(0.41358509593425563, 0.29565619799454146, 15)"
       ]
      },
      {
       "output_type": "stream",
       "stream": "stdout",
       "text": [
        " 2014-08-03\n",
        "(0.0, -0.23145502494313788, 6)"
       ]
      },
      {
       "output_type": "stream",
       "stream": "stdout",
       "text": [
        " 2014-08-03\n",
        "(0.0, -0.54006172486732174, 6)"
       ]
      },
      {
       "output_type": "stream",
       "stream": "stdout",
       "text": [
        " 2014-08-03\n",
        "(0.0, -0.36464644927248774, 9)"
       ]
      },
      {
       "output_type": "stream",
       "stream": "stdout",
       "text": [
        " 2014-08-03\n",
        "(0.39845138398826135, 0.30416608424135833, 16)"
       ]
      },
      {
       "output_type": "stream",
       "stream": "stdout",
       "text": [
        " 2014-08-03\n",
        "(0.68035872097282502, 0.71428571428571452, 14)"
       ]
      },
      {
       "output_type": "stream",
       "stream": "stdout",
       "text": [
        " 2014-08-07\n",
        "(0.32339395733760257, 0.40498356958421777, 19)"
       ]
      },
      {
       "output_type": "stream",
       "stream": "stdout",
       "text": [
        " 2014-08-08\n",
        "(0.45157675828971883, 0.55384615384615399, 12)"
       ]
      },
      {
       "output_type": "stream",
       "stream": "stdout",
       "text": [
        " 2014-08-08\n",
        "(0.54772255750516619, 0.74161984870956643, 7)"
       ]
      },
      {
       "output_type": "stream",
       "stream": "stdout",
       "text": [
        " 2014-08-08\n",
        "(0.2672612419124244, 0.69006555934235436, 6)"
       ]
      },
      {
       "output_type": "stream",
       "stream": "stdout",
       "text": [
        " 2014-08-09\n",
        "(0.0, -0.54772255750516619, 4)"
       ]
      },
      {
       "output_type": "stream",
       "stream": "stdout",
       "text": [
        " 2014-08-09\n",
        "(0.60601094778225717, 0.52420774218592969, 25)"
       ]
      },
      {
       "output_type": "stream",
       "stream": "stdout",
       "text": [
        " 2014-08-09\n",
        "(0.35856858280031817, 0.36623351038235719, 9)"
       ]
      },
      {
       "output_type": "stream",
       "stream": "stdout",
       "text": [
        " 2014-08-09\n",
        "(0.87831006565368019, 0.70429521227376379, 9)"
       ]
      },
      {
       "output_type": "stream",
       "stream": "stdout",
       "text": [
        " 2014-08-10\n",
        "(0.27216552697590868, 0.10910894511799617, 8)"
       ]
      },
      {
       "output_type": "stream",
       "stream": "stdout",
       "text": [
        " 2014-08-10\n",
        "(0.0, 0.15584415584415581, 13)"
       ]
      },
      {
       "output_type": "stream",
       "stream": "stdout",
       "text": [
        " 2014-08-15\n",
        "(0.0, 0.30988989340045608, 9)"
       ]
      },
      {
       "output_type": "stream",
       "stream": "stdout",
       "text": [
        " 2014-08-15\n",
        "(0.45226701686664544, 0.4944132324730442, 10)"
       ]
      },
      {
       "output_type": "stream",
       "stream": "stdout",
       "text": [
        " 2014-08-16\n",
        "(0.21982600255746484, 0.53400575069917433, 15)"
       ]
      },
      {
       "output_type": "stream",
       "stream": "stdout",
       "text": [
        " 2014-08-16\n",
        "(0.36697309481256407, 0.35201239038410331, 16)"
       ]
      },
      {
       "output_type": "stream",
       "stream": "stdout",
       "text": [
        " 2014-08-16\n",
        "(0.37714971786250906, 0.71346267086175785, 23)"
       ]
      },
      {
       "output_type": "stream",
       "stream": "stdout",
       "text": [
        " 2014-08-16\n",
        "(0.10379985922153639, 0.59779004773956412, 17)"
       ]
      },
      {
       "output_type": "stream",
       "stream": "stdout",
       "text": [
        " 2014-08-16\n",
        "(0.34625555384327716, 0.52071694084716047, 31)"
       ]
      },
      {
       "output_type": "stream",
       "stream": "stdout",
       "text": [
        " 2014-08-16\n",
        "(0.43327293068258343, 0.37742567804819854, 24)"
       ]
      },
      {
       "output_type": "stream",
       "stream": "stdout",
       "text": [
        " 2014-08-16\n",
        "(0.0, 0.52380952380952384, 7)"
       ]
      },
      {
       "output_type": "stream",
       "stream": "stdout",
       "text": [
        " 2014-08-16\n",
        "(0.0, -0.70710678118654757, 4)"
       ]
      },
      {
       "output_type": "stream",
       "stream": "stdout",
       "text": [
        " 2014-08-16\n",
        "(0.57975090436420318, 0.55777335102271686, 14)"
       ]
      },
      {
       "output_type": "stream",
       "stream": "stdout",
       "text": [
        " 2014-08-17\n",
        "(0.69282032302755103, 0.78072005835882663, 7)"
       ]
      },
      {
       "output_type": "stream",
       "stream": "stdout",
       "text": [
        " 2014-08-18\n",
        "(0.0, -0.098692754243965342, 12)"
       ]
      },
      {
       "output_type": "stream",
       "stream": "stdout",
       "text": [
        " 2014-08-22\n",
        "(0.57552430269843136, 0.62301587301587291, 23)"
       ]
      },
      {
       "output_type": "stream",
       "stream": "stdout",
       "text": [
        " 2014-08-23\n",
        "(0.0, 0.54772255750516619, 4)"
       ]
      },
      {
       "output_type": "stream",
       "stream": "stdout",
       "text": [
        " 2014-08-23\n",
        "(0.45226701686664544, 0.44946657497549475, 10)"
       ]
      },
      {
       "output_type": "stream",
       "stream": "stdout",
       "text": [
        " 2014-08-23\n",
        "(0.0, 0.12621954107435029, 15)"
       ]
      },
      {
       "output_type": "stream",
       "stream": "stdout",
       "text": [
        " 2014-08-23\n",
        "(0.0, -0.99999999999999989, 3)"
       ]
      },
      {
       "output_type": "stream",
       "stream": "stdout",
       "text": [
        " 2014-08-23\n",
        "(0.0, 1.0, 2)"
       ]
      },
      {
       "output_type": "stream",
       "stream": "stdout",
       "text": [
        " 2014-08-23\n",
        "(0.45283341285172629, 0.59740259740259727, 13)"
       ]
      },
      {
       "output_type": "stream",
       "stream": "stdout",
       "text": [
        " 2014-08-23\n",
        "(0.69429326473458752, 0.61538805712339872, 25)"
       ]
      },
      {
       "output_type": "stream",
       "stream": "stdout",
       "text": [
        " 2014-08-23\n",
        "(0.64285714285714302, 0.82807867121082523, 6)"
       ]
      },
      {
       "output_type": "stream",
       "stream": "stdout",
       "text": [
        " 2014-08-23\n",
        "(0.0, 0.4879500364742666, 7)"
       ]
      },
      {
       "output_type": "stream",
       "stream": "stdout",
       "text": [
        " 2014-08-23\n",
        "(0.61434934543333419, 0.70780515842461211, 24)"
       ]
      },
      {
       "output_type": "stream",
       "stream": "stdout",
       "text": [
        " 2014-08-23\n",
        "(0.53452248382484879, 0.82807867121082523, 6)"
       ]
      },
      {
       "output_type": "stream",
       "stream": "stdout",
       "text": [
        " 2014-08-23\n",
        "(0.0, 0.028171808490950551, 9)"
       ]
      },
      {
       "output_type": "stream",
       "stream": "stdout",
       "text": [
        " 2014-08-23\n",
        "(0.78502617076363701, 0.52910793527110633, 20)"
       ]
      },
      {
       "output_type": "stream",
       "stream": "stdout",
       "text": [
        " 2014-08-24\n",
        "(0.56336115655711194, 0.57263595627538166, 56)"
       ]
      },
      {
       "output_type": "stream",
       "stream": "stdout",
       "text": [
        " 2014-08-24\n",
        "(0.0, -0.66666666666666663, 5)"
       ]
      },
      {
       "output_type": "stream",
       "stream": "stdout",
       "text": [
        " 2014-08-24\n",
        "(0.0, 0.27602622373694174, 6)"
       ]
      },
      {
       "output_type": "stream",
       "stream": "stdout",
       "text": [
        " 2014-08-24\n",
        "(0.40761973229205462, 0.47329623282815592, 12)"
       ]
      },
      {
       "output_type": "stream",
       "stream": "stdout",
       "text": [
        " 2014-08-24\n",
        "(0.0, 0.57763018724946391, 25)"
       ]
      },
      {
       "output_type": "stream",
       "stream": "stdout",
       "text": [
        " 2014-08-30\n",
        "(0.0, 0.25458753860865774, 8)"
       ]
      },
      {
       "output_type": "stream",
       "stream": "stdout",
       "text": [
        " 2014-08-30\n",
        "(0.39186469392548634, 0.50807349133681845, 31)"
       ]
      },
      {
       "output_type": "stream",
       "stream": "stdout",
       "text": [
        " 2014-08-30\n",
        "(0.65598521124921583, 0.67373427182710977, 51)"
       ]
      },
      {
       "output_type": "stream",
       "stream": "stdout",
       "text": [
        " 2014-08-30\n",
        "(0.25879450504783924, 0.49078471295144421, 30)"
       ]
      },
      {
       "output_type": "stream",
       "stream": "stdout",
       "text": [
        " 2014-08-30\n",
        "(0.5803762390440258, 0.62718147320639517, 44)"
       ]
      },
      {
       "output_type": "stream",
       "stream": "stdout",
       "text": [
        " 2014-08-30\n",
        "(0.0, 0.39779612647907758, 14)"
       ]
      },
      {
       "output_type": "stream",
       "stream": "stdout",
       "text": [
        " 2014-08-30\n",
        "(0.43665397596519023, 0.53675073457515121, 46)"
       ]
      },
      {
       "output_type": "stream",
       "stream": "stdout",
       "text": [
        " 2014-08-30\n",
        "(0.6571251511947056, 0.77647168487004214, 25)"
       ]
      },
      {
       "output_type": "stream",
       "stream": "stdout",
       "text": [
        " 2014-08-30\n",
        "(0.0, 0.35478743759344977, 15)"
       ]
      },
      {
       "output_type": "stream",
       "stream": "stdout",
       "text": [
        " 2014-08-30\n",
        "(0.54520516986605794, 0.43026527297494643, 17)"
       ]
      },
      {
       "output_type": "stream",
       "stream": "stdout",
       "text": [
        " 2014-08-30\n",
        "(0.32539568672798419, 0.58554004376911994, 7)"
       ]
      },
      {
       "output_type": "stream",
       "stream": "stdout",
       "text": [
        " 2014-08-30\n",
        "(0.62994078834871203, 0.73786478737262184, 5)"
       ]
      },
      {
       "output_type": "stream",
       "stream": "stdout",
       "text": [
        " 2014-08-31\n",
        "(1.0, -1.0, 2)"
       ]
      },
      {
       "output_type": "stream",
       "stream": "stdout",
       "text": [
        " 2014-08-31\n",
        "(0.61899825194805014, 0.65210445384039473, 24)"
       ]
      },
      {
       "output_type": "stream",
       "stream": "stdout",
       "text": [
        " 2014-08-31\n",
        "(0.50811340453036924, 0.60328193111288586, 18)"
       ]
      },
      {
       "output_type": "stream",
       "stream": "stdout",
       "text": [
        " 2014-08-31\n",
        "(0.41041575653690232, 0.62530011022095056, 21)"
       ]
      },
      {
       "output_type": "stream",
       "stream": "stdout",
       "text": [
        " 2014-08-31\n",
        "(0.38000325331169532, 0.4976133515281192, 15)"
       ]
      },
      {
       "output_type": "stream",
       "stream": "stdout",
       "text": [
        " 2014-08-31\n",
        "(0.69300774906182683, 0.78954203395172273, 13)"
       ]
      },
      {
       "output_type": "stream",
       "stream": "stdout",
       "text": [
        " 2014-09-06\n",
        "(0.40451991747794536, 0.29277002188455997, 7)"
       ]
      },
      {
       "output_type": "stream",
       "stream": "stdout",
       "text": [
        " 2014-09-06\n",
        "(0.35355339059327384, 0.83650191257130402, 8)"
       ]
      },
      {
       "output_type": "stream",
       "stream": "stdout",
       "text": [
        " 2014-09-06\n",
        "(0.0, 0.050964719143762563, 10)"
       ]
      },
      {
       "output_type": "stream",
       "stream": "stdout",
       "text": [
        " 2014-09-06\n",
        "(0.0, 0.18257418583505539, 4)"
       ]
      },
      {
       "output_type": "stream",
       "stream": "stdout",
       "text": [
        " 2014-09-06\n",
        "(0.67222690570861388, 0.71786410554124136, 25)"
       ]
      },
      {
       "output_type": "stream",
       "stream": "stdout",
       "text": [
        " 2014-09-06\n",
        "(0.40815591614647662, 0.44574971728259816, 19)"
       ]
      },
      {
       "output_type": "stream",
       "stream": "stdout",
       "text": [
        " 2014-09-06\n",
        "(0.0, 0.13801311186847087, 6)"
       ]
      },
      {
       "output_type": "stream",
       "stream": "stdout",
       "text": [
        " 2014-09-06\n",
        "(0.80178372573727319, 0.50000000000000011, 6)"
       ]
      },
      {
       "output_type": "stream",
       "stream": "stdout",
       "text": [
        " 2014-09-06\n",
        "(0.66666666666666663, 0.22222222222222218, 5)"
       ]
      },
      {
       "output_type": "stream",
       "stream": "stdout",
       "text": [
        " 2014-09-06\n",
        "(0.46997802379414283, 0.57066869571452528, 20)"
       ]
      },
      {
       "output_type": "stream",
       "stream": "stdout",
       "text": [
        " 2014-09-07\n",
        "(0.56387337873940835, 0.58333792627411474, 23)"
       ]
      },
      {
       "output_type": "stream",
       "stream": "stdout",
       "text": [
        " 2014-09-07\n",
        "(0.55755948218758244, 0.57705228193406477, 18)"
       ]
      },
      {
       "output_type": "stream",
       "stream": "stdout",
       "text": [
        " 2014-09-07\n",
        "(0.69282032302755103, 0.78072005835882663, 7)"
       ]
      },
      {
       "output_type": "stream",
       "stream": "stdout",
       "text": [
        " 2014-09-07\n",
        "(0.3116511459654997, 0.53874905537022444, 17)"
       ]
      },
      {
       "output_type": "stream",
       "stream": "stdout",
       "text": [
        " 2014-09-07\n",
        "(0.35747593856530263, 0.4745933137688601, 16)"
       ]
      },
      {
       "output_type": "stream",
       "stream": "stdout",
       "text": [
        " 2014-09-13\n",
        "(0.78571428571428592, 0.82807867121082523, 6)"
       ]
      },
      {
       "output_type": "stream",
       "stream": "stdout",
       "text": [
        " 2014-09-13\n",
        "(1.0, 1.0, 2)"
       ]
      },
      {
       "output_type": "stream",
       "stream": "stdout",
       "text": [
        " 2014-09-13\n",
        "(0.47809144373375712, 0.55132201874426612, 19)"
       ]
      },
      {
       "output_type": "stream",
       "stream": "stdout",
       "text": [
        " 2014-09-13\n",
        "(0.30765859722299904, 0.62797052363745898, 20)"
       ]
      },
      {
       "output_type": "stream",
       "stream": "stdout",
       "text": [
        " 2014-09-13\n",
        "(0.0, 0.25962738689849213, 15)"
       ]
      },
      {
       "output_type": "stream",
       "stream": "stdout",
       "text": [
        " 2014-09-13\n",
        "(0.0, 0.30939698726150483, 14)"
       ]
      },
      {
       "output_type": "stream",
       "stream": "stdout",
       "text": [
        " 2014-09-13\n",
        "(0.43309933042202325, 0.67783020109213565, 16)"
       ]
      },
      {
       "output_type": "stream",
       "stream": "stdout",
       "text": [
        " 2014-09-13\n",
        "(0.0, 0.87831006565367986, 7)"
       ]
      },
      {
       "output_type": "stream",
       "stream": "stdout",
       "text": [
        " 2014-09-13\n",
        "(0.0, 0.69006555934235436, 6)"
       ]
      },
      {
       "output_type": "stream",
       "stream": "stdout",
       "text": [
        " 2014-09-13\n",
        "(0.84866842479150562, 0.82807867121082523, 6)"
       ]
      },
      {
       "output_type": "stream",
       "stream": "stdout",
       "text": [
        " 2014-09-13\n",
        "(0.5049398062198942, 0.77491302484758318, 17)"
       ]
      },
      {
       "output_type": "stream",
       "stream": "stdout",
       "text": [
        " 2014-09-13\n",
        "(0.31139957766460924, 0.16418367637453657, 17)"
       ]
      },
      {
       "output_type": "stream",
       "stream": "stdout",
       "text": [
        " 2014-09-13\n",
        "(0.47140452079103162, 0.77067463558845228, 11)"
       ]
      },
      {
       "output_type": "stream",
       "stream": "stdout",
       "text": [
        " 2014-09-13\n",
        "(0.49085771415610707, 0.49836333439760139, 18)"
       ]
      },
      {
       "output_type": "stream",
       "stream": "stdout",
       "text": [
        " 2014-09-13\n",
        "(0.38199360943222443, 0.65689432020593408, 19)"
       ]
      },
      {
       "output_type": "stream",
       "stream": "stdout",
       "text": [
        " 2014-09-13\n",
        "(0.35906243357116302, 0.75488247016379173, 22)"
       ]
      },
      {
       "output_type": "stream",
       "stream": "stdout",
       "text": [
        " 2014-09-13\n",
        "(0.39048716158114904, 0.47931575161222284, 27)"
       ]
      },
      {
       "output_type": "stream",
       "stream": "stdout",
       "text": [
        " 2014-09-13\n",
        "(0.63128756144870468, 0.5277466577999862, 52)"
       ]
      },
      {
       "output_type": "stream",
       "stream": "stdout",
       "text": [
        " 2014-09-13\n",
        "(0.62318146068988667, 0.60324689496736617, 52)"
       ]
      },
      {
       "output_type": "stream",
       "stream": "stdout",
       "text": [
        " 2014-09-13\n",
        "(0.0, 0.31622776601683794, 5)"
       ]
      },
      {
       "output_type": "stream",
       "stream": "stdout",
       "text": [
        " 2014-09-13\n",
        "(0.0, 0.0, 6)"
       ]
      },
      {
       "output_type": "stream",
       "stream": "stdout",
       "text": [
        " 2014-09-13\n",
        "(0.10015467913343834, 0.50926168487510359, 26)"
       ]
      },
      {
       "output_type": "stream",
       "stream": "stdout",
       "text": [
        " 2014-09-13\n",
        "(0.30369887999256412, 0.47117562807504126, 15)"
       ]
      },
      {
       "output_type": "stream",
       "stream": "stdout",
       "text": [
        " 2014-09-13\n",
        "(0.0, 0.23606684260939012, 18)"
       ]
      },
      {
       "output_type": "stream",
       "stream": "stdout",
       "text": [
        " 2014-09-13\n",
        "(0.0, -0.15000000000000002, 7)"
       ]
      },
      {
       "output_type": "stream",
       "stream": "stdout",
       "text": [
        " 2014-09-13\n",
        "(0.60525015588281561, 0.73031234247179722, 21)"
       ]
      },
      {
       "output_type": "stream",
       "stream": "stdout",
       "text": [
        " 2014-09-13\n",
        "(-0.023669053416557548, 0.62762055656679228, 16)"
       ]
      },
      {
       "output_type": "stream",
       "stream": "stdout",
       "text": [
        " 2014-09-13\n",
        "(0.0, 0.94868329805051377, 5)"
       ]
      },
      {
       "output_type": "stream",
       "stream": "stdout",
       "text": [
        " 2014-09-13\n",
        "(0.38706936721401902, 0.35543891619423706, 20)"
       ]
      },
      {
       "output_type": "stream",
       "stream": "stdout",
       "text": [
        " 2014-09-13\n",
        "(0.41382563786957433, 0.59324164221107512, 16)"
       ]
      },
      {
       "output_type": "stream",
       "stream": "stdout",
       "text": [
        " 2014-09-14\n",
        "(0.0, -0.071428571428571452, 6)"
       ]
      },
      {
       "output_type": "stream",
       "stream": "stdout",
       "text": [
        " 2014-09-14\n",
        "(0.0, -0.15272610224946212, 16)"
       ]
      },
      {
       "output_type": "stream",
       "stream": "stdout",
       "text": [
        " 2014-09-14\n",
        "(0.51639777949432231, 0.34285714285714292, 9)"
       ]
      },
      {
       "output_type": "stream",
       "stream": "stdout",
       "text": [
        " 2014-09-14\n",
        "(0.57249016616003634, 0.63802886564529593, 36)"
       ]
      },
      {
       "output_type": "stream",
       "stream": "stdout",
       "text": [
        " 2014-09-14\n",
        "(0.0, 0.13110565838010915, 16)"
       ]
      },
      {
       "output_type": "stream",
       "stream": "stdout",
       "text": [
        " 2014-09-14\n",
        "(0.0, 0.50397222201913316, 23)"
       ]
      },
      {
       "output_type": "stream",
       "stream": "stdout",
       "text": [
        " 2014-09-14\n",
        "(0.63060353528461155, 0.60802758739633578, 26)"
       ]
      },
      {
       "output_type": "stream",
       "stream": "stdout",
       "text": [
        " 2014-09-14\n",
        "(0.0, 0.69006555934235436, 6)"
       ]
      },
      {
       "output_type": "stream",
       "stream": "stdout",
       "text": [
        " 2014-09-14\n",
        "(0.0, 0.54772255750516619, 4)"
       ]
      },
      {
       "output_type": "stream",
       "stream": "stdout",
       "text": [
        " 2014-09-14\n",
        "(0.56181517900236655, 0.59567901234567922, 26)"
       ]
      },
      {
       "output_type": "stream",
       "stream": "stdout",
       "text": [
        " 2014-09-14\n",
        "(0.6714990179993483, 0.48892661616362104, 21)"
       ]
      },
      {
       "output_type": "stream",
       "stream": "stdout",
       "text": [
        " 2014-09-14\n",
        "(0.61507074427285047, 0.41957027502705013, 19)"
       ]
      },
      {
       "output_type": "stream",
       "stream": "stdout",
       "text": [
        " 2014-09-14\n",
        "(0.0, 0.25354627641855498, 9)"
       ]
      },
      {
       "output_type": "stream",
       "stream": "stdout",
       "text": [
        " 2014-09-18\n",
        "(0.70744118970899494, 0.61185534673579378, 18)"
       ]
      },
      {
       "output_type": "stream",
       "stream": "stdout",
       "text": [
        " 2014-09-19\n",
        "(0.44444444444444436, 0.73786478737262184, 5)"
       ]
      },
      {
       "output_type": "stream",
       "stream": "stdout",
       "text": [
        " 2014-09-19\n",
        "(0.31752644813856012, 0.40006613209931929, 8)"
       ]
      },
      {
       "output_type": "stream",
       "stream": "stdout",
       "text": [
        " 2014-09-19\n",
        "(0.338501600193165, 0.44946657497549475, 10)"
       ]
      },
      {
       "output_type": "stream",
       "stream": "stdout",
       "text": [
        " 2014-09-20\n",
        "(0.5337605126836239, 0.69102331908064241, 8)"
       ]
      },
      {
       "output_type": "stream",
       "stream": "stdout",
       "text": [
        " 2014-09-20\n",
        "(0.086066296582387028, 0.47708429822142284, 11)"
       ]
      },
      {
       "output_type": "stream",
       "stream": "stdout",
       "text": [
        " 2014-09-20\n",
        "(0.58134134145146621, 0.73412698412698407, 23)"
       ]
      },
      {
       "output_type": "stream",
       "stream": "stdout",
       "text": [
        " 2014-09-20\n",
        "(0.35634832254989918, 0.55205244747388349, 6)"
       ]
      },
      {
       "output_type": "stream",
       "stream": "stdout",
       "text": [
        " 2014-09-20\n",
        "(0.27695585470349865, 0.44946657497549475, 10)"
       ]
      },
      {
       "output_type": "stream",
       "stream": "stdout",
       "text": [
        " 2014-09-20\n",
        "(0.66666666666666663, 0.50395263067896967, 5)"
       ]
      },
      {
       "output_type": "stream",
       "stream": "stdout",
       "text": [
        " 2014-09-20\n",
        "(0.0, 0.33333333333333331, 6)"
       ]
      },
      {
       "output_type": "stream",
       "stream": "stdout",
       "text": [
        " 2014-09-20\n",
        "(0.35856858280031817, 0.70429521227376379, 9)"
       ]
      },
      {
       "output_type": "stream",
       "stream": "stdout",
       "text": [
        " 2014-09-20\n",
        "(0.23586408826243163, 0.57284253256820516, 15)"
       ]
      },
      {
       "output_type": "stream",
       "stream": "stdout",
       "text": [
        " 2014-09-20\n",
        "(0.5709531732003299, 0.56490195531102483, 12)"
       ]
      },
      {
       "output_type": "stream",
       "stream": "stdout",
       "text": [
        " 2014-09-20\n",
        "(0.51110125199995204, 0.59160797830996159, 9)"
       ]
      },
      {
       "output_type": "stream",
       "stream": "stdout",
       "text": [
        " 2014-09-20\n",
        "(0.22377812209978409, 0.50732310917462486, 15)"
       ]
      },
      {
       "output_type": "stream",
       "stream": "stdout",
       "text": [
        " 2014-09-20\n",
        "(0.56448102221358021, 0.64896766179480614, 30)"
       ]
      },
      {
       "output_type": "stream",
       "stream": "stdout",
       "text": [
        " 2014-09-20\n",
        "(0.30900738065633165, 0.48812537813354095, 45)"
       ]
      },
      {
       "output_type": "stream",
       "stream": "stdout",
       "text": [
        " 2014-09-20\n",
        "(0.49240350272528982, 0.58430799288240576, 25)"
       ]
      },
      {
       "output_type": "stream",
       "stream": "stdout",
       "text": [
        " 2014-09-20\n",
        "(0.49089754295500931, 0.53225947742621416, 30)"
       ]
      },
      {
       "output_type": "stream",
       "stream": "stdout",
       "text": [
        " 2014-09-20\n",
        "(0.56244099182140506, 0.62731054392423391, 17)"
       ]
      },
      {
       "output_type": "stream",
       "stream": "stdout",
       "text": [
        " 2014-09-20\n",
        "(0.50000000000000011, 0.69006555934235436, 6)"
       ]
      },
      {
       "output_type": "stream",
       "stream": "stdout",
       "text": [
        " 2014-09-20\n",
        "(0.54559547157637878, 0.44448853396833099, 26)"
       ]
      },
      {
       "output_type": "stream",
       "stream": "stdout",
       "text": [
        " 2014-09-20\n",
        "(0.55855192191975234, 0.55503027670444061, 15)"
       ]
      },
      {
       "output_type": "stream",
       "stream": "stdout",
       "text": [
        " 2014-09-20\n",
        "(0.29235267310234309, 0.53039483530543685, 14)"
       ]
      },
      {
       "output_type": "stream",
       "stream": "stdout",
       "text": [
        " 2014-09-20\n",
        "(0.0, -0.11547005383792516, 7)"
       ]
      },
      {
       "output_type": "stream",
       "stream": "stdout",
       "text": [
        " 2014-09-20\n",
        "(0.3799388356322686, 0.58461538461538476, 12)"
       ]
      },
      {
       "output_type": "stream",
       "stream": "stdout",
       "text": [
        " 2014-09-20\n",
        "(0.0, 0.31854262538441463, 22)"
       ]
      },
      {
       "output_type": "stream",
       "stream": "stdout",
       "text": [
        " 2014-09-20\n",
        "(0.0, 1.0, 2)"
       ]
      },
      {
       "output_type": "stream",
       "stream": "stdout",
       "text": [
        " 2014-09-20\n",
        "(0.66302137299384134, 0.64864902769859301, 31)"
       ]
      },
      {
       "output_type": "stream",
       "stream": "stdout",
       "text": [
        " 2014-09-20\n",
        "(0.51189069688899158, 0.5393598899705937, 10)"
       ]
      },
      {
       "output_type": "stream",
       "stream": "stdout",
       "text": [
        " 2014-09-20\n",
        "(0.18409161892105755, 0.44858255641739153, 25)"
       ]
      },
      {
       "output_type": "stream",
       "stream": "stdout",
       "text": [
        " 2014-09-20\n",
        "(0.0, 0.19999999999999996, 5)"
       ]
      },
      {
       "output_type": "stream",
       "stream": "stdout",
       "text": [
        " 2014-09-20\n",
        "(0.47140452079103184, 0.24444444444444449, 10)"
       ]
      },
      {
       "output_type": "stream",
       "stream": "stdout",
       "text": [
        " 2014-09-20\n",
        "(0.20539595906443736, 0.33850160019316528, 12)"
       ]
      },
      {
       "output_type": "stream",
       "stream": "stdout",
       "text": [
        " 2014-09-21\n",
        "(0.0, 0.39036002917941331, 7)"
       ]
      },
      {
       "output_type": "stream",
       "stream": "stdout",
       "text": [
        " 2014-09-21\n",
        "(0.16984155512168936, 0.55503027670444061, 15)"
       ]
      },
      {
       "output_type": "stream",
       "stream": "stdout",
       "text": [
        " 2014-09-21\n",
        "(0.0, 0.5504818825631802, 11)"
       ]
      },
      {
       "output_type": "stream",
       "stream": "stdout",
       "text": [
        " 2014-09-21\n",
        "(0.0, 1.0, 2)"
       ]
      },
      {
       "output_type": "stream",
       "stream": "stdout",
       "text": [
        " 2014-09-21\n",
        "(0.0, -1.0, 2)"
       ]
      },
      {
       "output_type": "stream",
       "stream": "stdout",
       "text": [
        " 2014-09-21\n",
        "(0.47579588521974553, 0.39913326008660249, 22)"
       ]
      },
      {
       "output_type": "stream",
       "stream": "stdout",
       "text": [
        " 2014-09-21\n",
        "(0.0, -0.21428571428571433, 6)"
       ]
      },
      {
       "output_type": "stream",
       "stream": "stdout",
       "text": [
        " 2014-09-21\n",
        "(0.46616806143139849, 0.30939698726150483, 14)"
       ]
      },
      {
       "output_type": "stream",
       "stream": "stdout",
       "text": [
        " 2014-09-21\n",
        "(0.52696518641396761, 0.4711538461538462, 15)"
       ]
      },
      {
       "output_type": "stream",
       "stream": "stdout",
       "text": [
        " 2014-09-21\n",
        "(0.80829037686547611, 0.68313005106397329, 7)"
       ]
      },
      {
       "output_type": "stream",
       "stream": "stdout",
       "text": [
        " 2014-09-21\n",
        "(0.0, 0.097590007294853329, 7)"
       ]
      },
      {
       "output_type": "stream",
       "stream": "stdout",
       "text": [
        " 2014-09-21\n",
        "(0.64253960411568634, 0.42257712736425829, 9)"
       ]
      },
      {
       "output_type": "stream",
       "stream": "stdout",
       "text": [
        " 2014-09-21\n",
        "(0.0, 0.32732683535398854, 8)"
       ]
      },
      {
       "output_type": "stream",
       "stream": "stdout",
       "text": [
        " 2014-09-21\n",
        "(0.99999999999999989, 0.99999999999999989, 3)"
       ]
      },
      {
       "output_type": "stream",
       "stream": "stdout",
       "text": [
        " 2014-09-21\n",
        "(0.71515110753956046, 0.67599608593119065, 31)"
       ]
      },
      {
       "output_type": "stream",
       "stream": "stdout",
       "text": [
        " 2014-09-27\n",
        "(0.64104339580650782, 0.74642002729217871, 21)"
       ]
      },
      {
       "output_type": "stream",
       "stream": "stdout",
       "text": [
        " 2014-09-27\n",
        "(0.5514016524319203, 0.66811437014496511, 22)"
       ]
      },
      {
       "output_type": "stream",
       "stream": "stdout",
       "text": [
        " 2014-09-27\n",
        "(0.52194134573772799, 0.71287268478263655, 23)"
       ]
      },
      {
       "output_type": "stream",
       "stream": "stdout",
       "text": [
        " 2014-09-27\n",
        "(0.57735026918962584, 0.39036002917941331, 7)"
       ]
      },
      {
       "output_type": "stream",
       "stream": "stdout",
       "text": [
        " 2014-09-27\n",
        "(1.0, 1.0, 2)"
       ]
      },
      {
       "output_type": "stream",
       "stream": "stdout",
       "text": [
        " 2014-09-27\n",
        "(0.0, -0.322329185610152, 8)"
       ]
      },
      {
       "output_type": "stream",
       "stream": "stdout",
       "text": [
        " 2014-09-27\n",
        "(0.65682592051096222, 0.57826086956521727, 22)"
       ]
      },
      {
       "output_type": "stream",
       "stream": "stdout",
       "text": [
        " 2014-09-27\n",
        "(0.0, -0.11208970766356102, 12)"
       ]
      },
      {
       "output_type": "stream",
       "stream": "stdout",
       "text": [
        " 2014-09-27\n",
        "(0.0, -0.36893239368631092, 7)"
       ]
      },
      {
       "output_type": "stream",
       "stream": "stdout",
       "text": [
        " 2014-09-27\n",
        "(0.0, 0.70429521227376379, 9)"
       ]
      },
      {
       "output_type": "stream",
       "stream": "stdout",
       "text": [
        " 2014-09-27\n",
        "(0.0, 0.37500000000000006, 15)"
       ]
      },
      {
       "output_type": "stream",
       "stream": "stdout",
       "text": [
        " 2014-09-27\n",
        "(0.0, -0.35856858280031817, 6)"
       ]
      },
      {
       "output_type": "stream",
       "stream": "stdout",
       "text": [
        " 2014-09-27\n",
        "(0.53677403221073705, 0.61111111111111105, 11)"
       ]
      },
      {
       "output_type": "stream",
       "stream": "stdout",
       "text": [
        " 2014-09-27\n",
        "(0.31434730673096573, 0.4944132324730442, 10)"
       ]
      },
      {
       "output_type": "stream",
       "stream": "stdout",
       "text": [
        " 2014-09-27\n",
        "(0.65835896933795923, 0.68907563025210072, 16)"
       ]
      },
      {
       "output_type": "stream",
       "stream": "stdout",
       "text": [
        " 2014-09-27\n",
        "(0.74681604481493846, 0.76376261582597327, 8)"
       ]
      },
      {
       "output_type": "stream",
       "stream": "stdout",
       "text": [
        " 2014-09-27\n",
        "(0.0, 1.0, 2)"
       ]
      },
      {
       "output_type": "stream",
       "stream": "stdout",
       "text": [
        " 2014-09-27\n",
        "(0.0, -0.036369648372665389, 8)"
       ]
      },
      {
       "output_type": "stream",
       "stream": "stdout",
       "text": [
        " 2014-09-27\n",
        "(-0.086066296582387028, 0.40368671387966548, 11)"
       ]
      },
      {
       "output_type": "stream",
       "stream": "stdout",
       "text": [
        " 2014-09-27\n",
        "(0.34341479757995447, 0.51378309039230152, 11)"
       ]
      },
      {
       "output_type": "stream",
       "stream": "stdout",
       "text": [
        " 2014-09-27\n",
        "(0.077289815960028041, 0.14022235687718171, 17)"
       ]
      },
      {
       "output_type": "stream",
       "stream": "stdout",
       "text": [
        " 2014-09-27\n",
        "(0.0, 0.66666666666666663, 4)"
       ]
      },
      {
       "output_type": "stream",
       "stream": "stdout",
       "text": [
        " 2014-09-27\n",
        "(0.46563418796102551, 0.59330822682198825, 15)"
       ]
      },
      {
       "output_type": "stream",
       "stream": "stdout",
       "text": [
        " 2014-09-27\n",
        "(0.15724272550828775, 0.08653846153846155, 15)"
       ]
      },
      {
       "output_type": "stream",
       "stream": "stdout",
       "text": [
        " 2014-09-27\n",
        "(0.0, 0.33333333333333326, 3)"
       ]
      },
      {
       "output_type": "stream",
       "stream": "stdout",
       "text": [
        " 2014-09-27\n",
        "(0.0, 0.54772255750516619, 4)"
       ]
      },
      {
       "output_type": "stream",
       "stream": "stdout",
       "text": [
        " 2014-09-27\n",
        "(0.0, 0.33333333333333326, 3)"
       ]
      },
      {
       "output_type": "stream",
       "stream": "stdout",
       "text": [
        " 2014-09-27\n",
        "(0.63508529610858844, 0.58554004376911994, 7)"
       ]
      },
      {
       "output_type": "stream",
       "stream": "stdout",
       "text": [
        " 2014-09-27\n",
        "(0.0, 0.19518001458970666, 7)"
       ]
      },
      {
       "output_type": "stream",
       "stream": "stdout",
       "text": [
        " 2014-09-27\n",
        "(0.0, 0.17323371679589586, 12)"
       ]
      },
      {
       "output_type": "stream",
       "stream": "stdout",
       "text": [
        " 2014-09-27\n",
        "(0.0, 0.33333333333333326, 3)"
       ]
      },
      {
       "output_type": "stream",
       "stream": "stdout",
       "text": [
        " 2014-09-27\n",
        "(0.0, 0.32062002869004108, 12)"
       ]
      },
      {
       "output_type": "stream",
       "stream": "stdout",
       "text": [
        " 2014-09-28\n",
        "(0.0, 0.30178043106110869, 19)"
       ]
      },
      {
       "output_type": "stream",
       "stream": "stdout",
       "text": [
        " 2014-09-28\n",
        "(0.0, 0.50963894465259563, 15)"
       ]
      },
      {
       "output_type": "stream",
       "stream": "stdout",
       "text": [
        " 2014-09-28\n",
        "(0.0, 0.51187513271288676, 20)"
       ]
      },
      {
       "output_type": "stream",
       "stream": "stdout",
       "text": [
        " 2014-09-28\n",
        "(0.47905050476530348, 0.64907877653283574, 20)"
       ]
      },
      {
       "output_type": "stream",
       "stream": "stdout",
       "text": [
        " 2014-09-28\n",
        "(0.28782358367000094, 0.52277330217393347, 23)"
       ]
      },
      {
       "output_type": "stream",
       "stream": "stdout",
       "text": [
        " 2014-09-28\n",
        "(0.0, 0.14773421007131962, 13)"
       ]
      },
      {
       "output_type": "stream",
       "stream": "stdout",
       "text": [
        " 2014-09-28\n",
        "(0.74689528322420462, 0.5358913016456669, 15)"
       ]
      },
      {
       "output_type": "stream",
       "stream": "stdout",
       "text": [
        " 2014-09-28\n",
        "(0.69181686685515709, 0.65742703152176474, 23)"
       ]
      },
      {
       "output_type": "stream",
       "stream": "stdout",
       "text": [
        " 2014-09-28\n",
        "(0.48013301926263374, 0.66909090909090885, 24)"
       ]
      },
      {
       "output_type": "stream",
       "stream": "stdout",
       "text": [
        " 2014-09-28\n",
        "(0.69859608003016338, 0.61224489795918391, 53)"
       ]
      },
      {
       "output_type": "stream",
       "stream": "stdout",
       "text": [
        " 2014-09-28\n",
        "(0.0, 0.28571428571428575, 9)"
       ]
      },
      {
       "output_type": "stream",
       "stream": "stdout",
       "text": [
        " 2014-09-28\n",
        "(0.54073807043587474, 0.40131578947368424, 18)"
       ]
      },
      {
       "output_type": "stream",
       "stream": "stdout",
       "text": [
        " 2014-09-28\n",
        "(0.0, -0.33333333333333326, 3)"
       ]
      },
      {
       "output_type": "stream",
       "stream": "stdout",
       "text": [
        " 2014-09-28\n",
        "(0.0, 0.0, 1)"
       ]
      },
      {
       "output_type": "stream",
       "stream": "stdout",
       "text": [
        " 2014-09-28\n",
        "(0.0, 0.0, 4)"
       ]
      },
      {
       "output_type": "stream",
       "stream": "stdout",
       "text": [
        " 2014-09-28\n",
        "(0.0, 0.0, 9)"
       ]
      },
      {
       "output_type": "stream",
       "stream": "stdout",
       "text": [
        " 2014-09-28\n",
        "(0.59917127032270523, 0.58095238095238111, 15)"
       ]
      },
      {
       "output_type": "stream",
       "stream": "stdout",
       "text": [
        " 2014-10-02\n",
        "(0.0, 0.19999999999999996, 5)"
       ]
      },
      {
       "output_type": "stream",
       "stream": "stdout",
       "text": [
        " 2014-10-02\n",
        "(0.0, 0.35555555555555546, 17)"
       ]
      },
      {
       "output_type": "stream",
       "stream": "stdout",
       "text": [
        " 2014-10-03\n",
        "(0.66453034301258729, 0.50657894736842102, 18)"
       ]
      },
      {
       "output_type": "stream",
       "stream": "stdout",
       "text": [
        " 2014-10-03\n",
        "(0.0, 0.30384015629885097, 25)"
       ]
      },
      {
       "output_type": "stream",
       "stream": "stdout",
       "text": [
        " 2014-10-03\n",
        "(0.27840970120038577, 0.31578947368421056, 21)"
       ]
      },
      {
       "output_type": "stream",
       "stream": "stdout",
       "text": [
        " 2014-10-03\n",
        "(0.61096341839171997, 0.53146088023854643, 41)"
       ]
      },
      {
       "output_type": "stream",
       "stream": "stdout",
       "text": [
        " 2014-10-03\n",
        "(0.0, 0.67419986246324204, 10)"
       ]
      },
      {
       "output_type": "stream",
       "stream": "stdout",
       "text": [
        " 2014-10-03\n",
        "(0.0, 0.39036002917941331, 7)"
       ]
      },
      {
       "output_type": "stream",
       "stream": "stdout",
       "text": [
        " 2014-10-04\n",
        "(0.50917507721731547, 0.28721347895177629, 8)"
       ]
      },
      {
       "output_type": "stream",
       "stream": "stdout",
       "text": [
        " 2014-10-04\n",
        "(0.58210576169153838, 0.63809523809523827, 15)"
       ]
      },
      {
       "output_type": "stream",
       "stream": "stdout",
       "text": [
        " 2014-10-04\n",
        "(0.0, 0.18257418583505539, 4)"
       ]
      },
      {
       "output_type": "stream",
       "stream": "stdout",
       "text": [
        " 2014-10-04\n",
        "(0.66666666666666663, 0.73786478737262184, 5)"
       ]
      },
      {
       "output_type": "stream",
       "stream": "stdout",
       "text": [
        " 2014-10-04\n",
        "(0.39840953644479765, 0.69129528232358928, 20)"
       ]
      },
      {
       "output_type": "stream",
       "stream": "stdout",
       "text": [
        " 2014-10-04\n",
        "(0.0, -0.35634832254989918, 6)"
       ]
      },
      {
       "output_type": "stream",
       "stream": "stdout",
       "text": [
        " 2014-10-04\n",
        "(0.60073604607515463, 0.13908716006604674, 15)"
       ]
      },
      {
       "output_type": "stream",
       "stream": "stdout",
       "text": [
        " 2014-10-04\n",
        "(0.0, 0.66666666666666663, 4)"
       ]
      },
      {
       "output_type": "stream",
       "stream": "stdout",
       "text": [
        " 2014-10-04\n",
        "(0.35856858280031817, 0.27774602993176545, 9)"
       ]
      },
      {
       "output_type": "stream",
       "stream": "stdout",
       "text": [
        " 2014-10-04\n",
        "(0.0, 0.82807867121082523, 6)"
       ]
      },
      {
       "output_type": "stream",
       "stream": "stdout",
       "text": [
        " 2014-10-04\n",
        "(0.51189069688899158, 0.4944132324730442, 10)"
       ]
      },
      {
       "output_type": "stream",
       "stream": "stdout",
       "text": [
        " 2014-10-04\n",
        "(0.47611176051489246, 0.60531555936298742, 13)"
       ]
      },
      {
       "output_type": "stream",
       "stream": "stdout",
       "text": [
        " 2014-10-04\n",
        "(0.47434164902525688, 0.78072005835882663, 7)"
       ]
      },
      {
       "output_type": "stream",
       "stream": "stdout",
       "text": [
        " 2014-10-04\n",
        "(0.4715112579192629, 0.6512345679012348, 26)"
       ]
      },
      {
       "output_type": "stream",
       "stream": "stdout",
       "text": [
        " 2014-10-04\n",
        "(0.0, 0.12309149097933271, 8)"
       ]
      },
      {
       "output_type": "stream",
       "stream": "stdout",
       "text": [
        " 2014-10-04\n",
        "(0.60677987621691798, 0.87831006565367986, 7)"
       ]
      },
      {
       "output_type": "stream",
       "stream": "stdout",
       "text": [
        " 2014-10-04\n",
        "(0.0, -0.88191710368819687, 5)"
       ]
      },
      {
       "output_type": "stream",
       "stream": "stdout",
       "text": [
        " 2014-10-04\n",
        "(0.54772255750516619, 0.54772255750516619, 4)"
       ]
      },
      {
       "output_type": "stream",
       "stream": "stdout",
       "text": [
        " 2014-10-05\n",
        "(0.51995675970693833, 0.61505718211696814, 21)"
       ]
      },
      {
       "output_type": "stream",
       "stream": "stdout",
       "text": [
        " 2014-10-05\n",
        "(0.5609918032807315, 0.58495841063817688, 38)"
       ]
      },
      {
       "output_type": "stream",
       "stream": "stdout",
       "text": [
        " 2014-10-05\n",
        "(0.14547859349066156, 0.59259259259259256, 8)"
       ]
      },
      {
       "output_type": "stream",
       "stream": "stdout",
       "text": [
        " 2014-10-05\n",
        "(0.56582515211573825, 0.58430654746814314, 10)"
       ]
      },
      {
       "output_type": "stream",
       "stream": "stdout",
       "text": [
        " 2014-10-05\n",
        "(0.0, -0.21428571428571433, 6)"
       ]
      },
      {
       "output_type": "stream",
       "stream": "stdout",
       "text": [
        " 2014-10-05\n",
        "(0.40824829046386302, 0.69102331908064241, 8)"
       ]
      },
      {
       "output_type": "stream",
       "stream": "stdout",
       "text": [
        " 2014-10-05\n",
        "(0.3667676063172331, 0.36721508850349577, 18)"
       ]
      },
      {
       "output_type": "stream",
       "stream": "stdout",
       "text": [
        " 2014-10-05\n",
        "(0.44966110715295388, 0.57519989139901706, 20)"
       ]
      },
      {
       "output_type": "stream",
       "stream": "stdout",
       "text": [
        " 2014-10-05\n",
        "(0.57510631114271948, 0.70820052782817033, 18)"
       ]
      },
      {
       "output_type": "stream",
       "stream": "stdout",
       "text": [
        " 2014-10-05\n",
        "(0.75244294717342775, 0.76555900235095264, 15)"
       ]
      },
      {
       "output_type": "stream",
       "stream": "stdout",
       "text": [
        " 2014-10-05\n",
        "(0.0, -0.052704627669472988, 7)"
       ]
      },
      {
       "output_type": "stream",
       "stream": "stdout",
       "text": [
        " 2014-10-05\n",
        "(0.0, 0.54772255750516619, 4)"
       ]
      },
      {
       "output_type": "stream",
       "stream": "stdout",
       "text": [
        " 2014-10-05\n",
        "(0.0, 0.5745944049142232, 14)"
       ]
      },
      {
       "output_type": "stream",
       "stream": "stdout",
       "text": [
        " 2014-10-05\n",
        "(0.35634832254989918, 0.07715167498104597, 6)"
       ]
      },
      {
       "output_type": "stream",
       "stream": "stdout",
       "text": [
        " 2014-10-05\n",
        "(0.0, 0.0, 1)"
       ]
      },
      {
       "output_type": "stream",
       "stream": "stdout",
       "text": [
        " 2014-10-05\n",
        "(0.59761430466719689, 0.69006555934235436, 6)"
       ]
      },
      {
       "output_type": "stream",
       "stream": "stdout",
       "text": [
        " 2014-10-05\n",
        "(0.54644621891366807, 0.68035483164186028, 19)"
       ]
      },
      {
       "output_type": "stream",
       "stream": "stdout",
       "text": [
        " 2014-10-05\n",
        "(0.0, 0.0, 5)"
       ]
      },
      {
       "output_type": "stream",
       "stream": "stdout",
       "text": [
        " 2014-10-05\n",
        "(0.14854397775557662, 0.31927949188664428, 24)"
       ]
      },
      {
       "output_type": "stream",
       "stream": "stdout",
       "text": [
        " 2014-10-05\n",
        "(0.63368466414249636, 0.6277539496593173, 24)"
       ]
      },
      {
       "output_type": "stream",
       "stream": "stdout",
       "text": [
        " 2014-10-05\n",
        "(0.5224292591605757, 0.57705228193406477, 18)"
       ]
      },
      {
       "output_type": "stream",
       "stream": "stdout",
       "text": [
        " 2014-10-05\n",
        "(0.0, 0.78072005835882663, 7)"
       ]
      },
      {
       "output_type": "stream",
       "stream": "stdout",
       "text": [
        " 2014-10-10\n",
        "(0.0, 0.33333333333333326, 3)"
       ]
      },
      {
       "output_type": "stream",
       "stream": "stdout",
       "text": [
        " 2014-10-11\n",
        "(0.0, 0.54772255750516619, 4)"
       ]
      },
      {
       "output_type": "stream",
       "stream": "stdout",
       "text": [
        " 2014-10-11\n",
        "(0.0, -1.0, 2)"
       ]
      },
      {
       "output_type": "stream",
       "stream": "stdout",
       "text": [
        " 2014-10-11\n",
        "(0.0, 0.4879500364742666, 7)"
       ]
      },
      {
       "output_type": "stream",
       "stream": "stdout",
       "text": [
        " 2014-10-11\n",
        "(0.0, 0.59259259259259256, 8)"
       ]
      },
      {
       "output_type": "stream",
       "stream": "stdout",
       "text": [
        " 2014-10-11\n",
        "(0.0, 0.0, 6)"
       ]
      },
      {
       "output_type": "stream",
       "stream": "stdout",
       "text": [
        " 2014-10-12\n",
        "(0.0, 0.1320989873168695, 11)"
       ]
      },
      {
       "output_type": "stream",
       "stream": "stdout",
       "text": [
        " 2014-10-12\n",
        "(0.46227374711143376, 0.61244720188076207, 15)"
       ]
      },
      {
       "output_type": "stream",
       "stream": "stdout",
       "text": [
        " 2014-10-12\n",
        "(0.21428571428571433, -0.13801311186847087, 6)"
       ]
      },
      {
       "output_type": "stream",
       "stream": "stdout",
       "text": [
        " 2014-10-12\n",
        "(0.0, 0.20286020648339484, 11)"
       ]
      },
      {
       "output_type": "stream",
       "stream": "stdout",
       "text": [
        " 2014-10-12\n",
        "(0.0, -0.33333333333333331, 5)"
       ]
      },
      {
       "output_type": "stream",
       "stream": "stdout",
       "text": [
        " 2014-10-13\n",
        "(0.0, 0.096560909917053545, 10)"
       ]
      },
      {
       "output_type": "stream",
       "stream": "stdout",
       "text": [
        " 2014-10-13\n",
        "(0.0, -0.25482359571881286, 10)"
       ]
      },
      {
       "output_type": "stream",
       "stream": "stdout",
       "text": [
        " 2014-10-13\n",
        "(0.0, 0.14444444444444443, 14)"
       ]
      },
      {
       "output_type": "stream",
       "stream": "stdout",
       "text": [
        " 2014-10-13\n",
        "(0.75592894601845451, 0.96609178307929611, 6)"
       ]
      },
      {
       "output_type": "stream",
       "stream": "stdout",
       "text": [
        " 2014-10-13\n",
        "(0.0, 0.05000000000000001, 7)"
       ]
      },
      {
       "output_type": "stream",
       "stream": "stdout",
       "text": [
        " 2014-10-13\n",
        "(0.53294578278922455, 0.46610195643655233, 44)"
       ]
      },
      {
       "output_type": "stream",
       "stream": "stdout",
       "text": [
        " 2014-10-17\n",
        "(0.48476440589048597, 0.61818193967865898, 57)"
       ]
      },
      {
       "output_type": "stream",
       "stream": "stdout",
       "text": [
        " 2014-10-17\n",
        "(0.0, -0.69006555934235436, 6)"
       ]
      },
      {
       "output_type": "stream",
       "stream": "stdout",
       "text": [
        " 2014-10-17\n",
        "(0.0, -0.33333333333333326, 3)"
       ]
      },
      {
       "output_type": "stream",
       "stream": "stdout",
       "text": [
        " 2014-10-17\n",
        "(0.0, 0.58373873929260134, 21)"
       ]
      },
      {
       "output_type": "stream",
       "stream": "stdout",
       "text": [
        " 2014-10-17\n",
        "(0.0, -0.0095693779904306234, 21)"
       ]
      },
      {
       "output_type": "stream",
       "stream": "stdout",
       "text": [
        " 2014-10-17\n",
        "(-0.12772627439820738, 0.4237526614360721, 76)"
       ]
      },
      {
       "output_type": "stream",
       "stream": "stdout",
       "text": [
        " 2014-10-17\n",
        "(0.23637588720475075, 0.38646961663426821, 47)"
       ]
      },
      {
       "output_type": "stream",
       "stream": "stdout",
       "text": [
        " 2014-10-17\n",
        "(0.47130355677214192, 0.56426116838487983, 94)"
       ]
      },
      {
       "output_type": "stream",
       "stream": "stdout",
       "text": [
        " 2014-10-17\n",
        "(0.49079810057089951, 0.58557622730345182, 31)"
       ]
      },
      {
       "output_type": "stream",
       "stream": "stdout",
       "text": [
        " 2014-10-17\n",
        "(0.50684508825664065, 0.59779004773956412, 17)"
       ]
      },
      {
       "output_type": "stream",
       "stream": "stdout",
       "text": [
        " 2014-10-17\n",
        "(0.0, 0.0, 2)"
       ]
      },
      {
       "output_type": "stream",
       "stream": "stdout",
       "text": [
        " 2014-10-17\n",
        "(0.64733887497014975, 0.80000000000000016, 9)"
       ]
      },
      {
       "output_type": "stream",
       "stream": "stdout",
       "text": [
        " 2014-10-17\n",
        "(0.14617633655117157, 0.110498924021966, 14)"
       ]
      },
      {
       "output_type": "stream",
       "stream": "stdout",
       "text": [
        " 2014-10-18\n",
        "(0.0, 0.097590007294853329, 7)"
       ]
      },
      {
       "output_type": "stream",
       "stream": "stdout",
       "text": [
        " 2014-10-18\n",
        "(0.33658091640304461, 0.52307692307692322, 12)"
       ]
      },
      {
       "output_type": "stream",
       "stream": "stdout",
       "text": [
        " 2014-10-18\n",
        "(0.49901087934784533, 0.3483943475124438, 13)"
       ]
      },
      {
       "output_type": "stream",
       "stream": "stdout",
       "text": [
        " 2014-10-18\n",
        "(0.45226701686664544, 0.023262105259961773, 10)"
       ]
      },
      {
       "output_type": "stream",
       "stream": "stdout",
       "text": [
        " 2014-10-18\n",
        "(0.57616108096681651, 0.39629696195060854, 11)"
       ]
      },
      {
       "output_type": "stream",
       "stream": "stdout",
       "text": [
        " 2014-10-18\n",
        "(0.29356828197599311, 0.5504818825631802, 11)"
       ]
      },
      {
       "output_type": "stream",
       "stream": "stdout",
       "text": [
        " 2014-10-18\n",
        "(0.61624339547738005, 0.71287268478263655, 23)"
       ]
      },
      {
       "output_type": "stream",
       "stream": "stdout",
       "text": [
        " 2014-10-18\n",
        "(0.64124578022715961, 0.59103331504475565, 56)"
       ]
      },
      {
       "output_type": "stream",
       "stream": "stdout",
       "text": [
        " 2014-10-18\n",
        "(0.47882588321924963, 0.41956824962270561, 55)"
       ]
      },
      {
       "output_type": "stream",
       "stream": "stdout",
       "text": [
        " 2014-10-18\n",
        "(0.60607048152127363, 0.62571428571428589, 27)"
       ]
      },
      {
       "output_type": "stream",
       "stream": "stdout",
       "text": [
        " 2014-10-18\n",
        "(0.28924061042487476, 0.54481513324408004, 19)"
       ]
      },
      {
       "output_type": "stream",
       "stream": "stdout",
       "text": [
        " 2014-10-18\n",
        "(0.0, 0.26967994498529685, 10)"
       ]
      },
      {
       "output_type": "stream",
       "stream": "stdout",
       "text": [
        " 2014-10-18\n",
        "(0.0, 0.9296696802013682, 9)"
       ]
      },
      {
       "output_type": "stream",
       "stream": "stdout",
       "text": [
        " 2014-10-18\n",
        "(0.0, 0.4297097345034806, 20)"
       ]
      },
      {
       "output_type": "stream",
       "stream": "stdout",
       "text": [
        " 2014-10-18\n",
        "(0.0, 0.45933540141057155, 15)"
       ]
      },
      {
       "output_type": "stream",
       "stream": "stdout",
       "text": [
        " 2014-10-18\n",
        "(0.27216552697590862, 0.57821895543480517, 23)"
       ]
      },
      {
       "output_type": "stream",
       "stream": "stdout",
       "text": [
        " 2014-10-18\n",
        "(0.35856858280031817, 0.22857142857142862, 9)"
       ]
      },
      {
       "output_type": "stream",
       "stream": "stdout",
       "text": [
        " 2014-10-18\n",
        "(0.0, 1.0, 2)"
       ]
      },
      {
       "output_type": "stream",
       "stream": "stdout",
       "text": [
        " 2014-10-18\n",
        "(0.59761430466719689, 0.41403933560541262, 6)"
       ]
      },
      {
       "output_type": "stream",
       "stream": "stdout",
       "text": [
        " 2014-10-18\n",
        "(0.40824829046386302, 0.25458753860865774, 8)"
       ]
      },
      {
       "output_type": "stream",
       "stream": "stdout",
       "text": [
        " 2014-10-18\n",
        "(0.41137667560372121, 0.53436671448340178, 12)"
       ]
      },
      {
       "output_type": "stream",
       "stream": "stdout",
       "text": [
        " 2014-10-19\n",
        "(0.38662768765070538, 0.2317029877015053, 19)"
       ]
      },
      {
       "output_type": "stream",
       "stream": "stdout",
       "text": [
        " 2014-10-19\n",
        "(0.0, -0.66666666666666663, 5)"
       ]
      },
      {
       "output_type": "stream",
       "stream": "stdout",
       "text": [
        " 2014-10-19\n",
        "(0.62418168177754541, 0.62207705774430533, 25)"
       ]
      },
      {
       "output_type": "stream",
       "stream": "stdout",
       "text": [
        " 2014-10-19\n",
        "(0.4837828779433046, 0.47947061924549744, 28)"
       ]
      },
      {
       "output_type": "stream",
       "stream": "stdout",
       "text": [
        " 2014-10-19\n",
        "(0.46717834772484557, 0.53756335345181328, 25)"
       ]
      },
      {
       "output_type": "stream",
       "stream": "stdout",
       "text": [
        " 2014-10-19\n",
        "(0.45868247229386311, 0.56818181818181823, 10)"
       ]
      },
      {
       "output_type": "stream",
       "stream": "stdout",
       "text": [
        " 2014-10-19\n",
        "(0.5971123930019735, 0.41989591128347081, 14)"
       ]
      },
      {
       "output_type": "stream",
       "stream": "stdout",
       "text": [
        " 2014-10-19\n",
        "(0.0, 0.15909090909090912, 10)"
       ]
      },
      {
       "output_type": "stream",
       "stream": "stdout",
       "text": [
        " 2014-10-19\n",
        "(0.59317101400173955, 0.27777777777777773, 11)"
       ]
      },
      {
       "output_type": "stream",
       "stream": "stdout",
       "text": [
        " 2014-10-19\n",
        "(0.77605987887679706, 0.78518518518518499, 17)"
       ]
      },
      {
       "output_type": "stream",
       "stream": "stdout",
       "text": [
        " 2014-10-19\n",
        "(0.75814250550343543, -0.068181818181818191, 10)"
       ]
      },
      {
       "output_type": "stream",
       "stream": "stdout",
       "text": [
        " 2014-10-19\n",
        "(0.0, 0.37062465833055058, 8)"
       ]
      },
      {
       "output_type": "stream",
       "stream": "stdout",
       "text": [
        " 2014-10-23\n",
        "(0.54827853481131084, 0.55143082217121464, 27)"
       ]
      },
      {
       "output_type": "stream",
       "stream": "stdout",
       "text": [
        " 2014-10-23\n",
        "(0.66666666666666652, 0.73786478737262184, 5)"
       ]
      },
      {
       "output_type": "stream",
       "stream": "stdout",
       "text": [
        " 2014-10-24\n",
        "(0.48880881334855925, 0.44038550605054416, 11)"
       ]
      },
      {
       "output_type": "stream",
       "stream": "stdout",
       "text": [
        " 2014-10-24\n",
        "(0.7745966692414834, 0.91287092917527701, 4)"
       ]
      },
      {
       "output_type": "stream",
       "stream": "stdout",
       "text": [
        " 2014-10-24\n",
        "(0.50272064582711884, 0.59411764705882331, 19)"
       ]
      },
      {
       "output_type": "stream",
       "stream": "stdout",
       "text": [
        " 2014-10-24\n",
        "(0.14078408064233677, 0.3636379272568564, 19)"
       ]
      },
      {
       "output_type": "stream",
       "stream": "stdout",
       "text": [
        " 2014-10-25\n",
        "(0.40478127690269355, 0.57255321052371111, 51)"
       ]
      },
      {
       "output_type": "stream",
       "stream": "stdout",
       "text": [
        " 2014-10-25\n",
        "(0.53366659172517128, 0.64950622391306878, 23)"
       ]
      },
      {
       "output_type": "stream",
       "stream": "stdout",
       "text": [
        " 2014-10-25\n",
        "(0.45759572224986494, 0.5202878779701039, 21)"
       ]
      },
      {
       "output_type": "stream",
       "stream": "stdout",
       "text": [
        " 2014-10-25\n",
        "(0.67065605301540943, 0.42744212113137964, 20)"
       ]
      },
      {
       "output_type": "stream",
       "stream": "stdout",
       "text": [
        " 2014-10-25\n",
        "(0.44212557235879785, 0.58444127988399808, 33)"
       ]
      },
      {
       "output_type": "stream",
       "stream": "stdout",
       "text": [
        " 2014-10-25\n",
        "(0.69816005768797018, 0.42108908477425211, 13)"
       ]
      },
      {
       "output_type": "stream",
       "stream": "stdout",
       "text": [
        " 2014-10-25\n",
        "(0.53430880303125139, 0.368755987186976, 23)"
       ]
      },
      {
       "output_type": "stream",
       "stream": "stdout",
       "text": [
        " 2014-10-25\n",
        "(0.0, 0.83650191257130402, 8)"
       ]
      },
      {
       "output_type": "stream",
       "stream": "stdout",
       "text": [
        " 2014-10-25\n",
        "(0.0, -0.15392840253090984, 19)"
       ]
      },
      {
       "output_type": "stream",
       "stream": "stdout",
       "text": [
        " 2014-10-25\n",
        "(0.0, 0.47970806300088481, 17)"
       ]
      },
      {
       "output_type": "stream",
       "stream": "stdout",
       "text": [
        " 2014-10-25\n",
        "(0.0, 0.31915345116156463, 20)"
       ]
      },
      {
       "output_type": "stream",
       "stream": "stdout",
       "text": [
        " 2014-10-25\n",
        "(0.41056019142373373, 0.74539252866291328, 17)"
       ]
      },
      {
       "output_type": "stream",
       "stream": "stdout",
       "text": [
        " 2014-10-25\n",
        "(0.3550358012483632, 0.52720126751610552, 16)"
       ]
      },
      {
       "output_type": "stream",
       "stream": "stdout",
       "text": [
        " 2014-10-25\n",
        "(0.0, 1.0, 2)"
       ]
      },
      {
       "output_type": "stream",
       "stream": "stdout",
       "text": [
        " 2014-10-25\n",
        "(0.57735026918962584, 0.69006555934235436, 6)"
       ]
      },
      {
       "output_type": "stream",
       "stream": "stdout",
       "text": [
        " 2014-10-25\n",
        "(0.55205244747388349, 0.33333333333333331, 6)"
       ]
      },
      {
       "output_type": "stream",
       "stream": "stdout",
       "text": [
        " 2014-10-25\n",
        "(0.0, 0.33333333333333326, 3)"
       ]
      },
      {
       "output_type": "stream",
       "stream": "stdout",
       "text": [
        " 2014-10-25\n",
        "(0.0, -0.16574838603294897, 9)"
       ]
      },
      {
       "output_type": "stream",
       "stream": "stdout",
       "text": [
        " 2014-10-25\n",
        "(0.35176323534072423, 0.11363636363636366, 10)"
       ]
      },
      {
       "output_type": "stream",
       "stream": "stdout",
       "text": [
        " 2014-10-25\n",
        "(0.69388866648871106, -0.036369648372665389, 8)"
       ]
      },
      {
       "output_type": "stream",
       "stream": "stdout",
       "text": [
        " 2014-10-25\n",
        "(0.0, 0.19518001458970666, 7)"
       ]
      },
      {
       "output_type": "stream",
       "stream": "stdout",
       "text": [
        " 2014-10-25\n",
        "(0.0, 0.40000000000000008, 4)"
       ]
      },
      {
       "output_type": "stream",
       "stream": "stdout",
       "text": [
        " 2014-10-25\n",
        "(0.0, -0.20454545454545459, 10)"
       ]
      },
      {
       "output_type": "stream",
       "stream": "stdout",
       "text": [
        " 2014-10-25\n",
        "(0.0, 0.30988989340045608, 9)"
       ]
      },
      {
       "output_type": "stream",
       "stream": "stdout",
       "text": [
        " 2014-10-25\n",
        "(0.31622776601683789, 0.39999999999999991, 5)"
       ]
      },
      {
       "output_type": "stream",
       "stream": "stdout",
       "text": [
        " 2014-10-25\n",
        "(0.35856858280031817, 0.13801311186847087, 6)"
       ]
      },
      {
       "output_type": "stream",
       "stream": "stdout",
       "text": [
        " 2014-10-25\n",
        "(0.0, 0.0, 1)"
       ]
      },
      {
       "output_type": "stream",
       "stream": "stdout",
       "text": [
        " 2014-10-25\n",
        "(0.0, 0.0, 1)"
       ]
      },
      {
       "output_type": "stream",
       "stream": "stdout",
       "text": [
        " 2014-10-25\n",
        "(0.0, 0.0, 1)"
       ]
      },
      {
       "output_type": "stream",
       "stream": "stdout",
       "text": [
        " 2014-10-25\n",
        "(0.0, 0.0, 2)"
       ]
      },
      {
       "output_type": "stream",
       "stream": "stdout",
       "text": [
        " 2014-10-25\n",
        "(0.36689969285267143, -0.06933752452815363, 15)"
       ]
      },
      {
       "output_type": "stream",
       "stream": "stdout",
       "text": [
        " 2014-10-25\n",
        "(0.0, -0.35856858280031817, 6)"
       ]
      },
      {
       "output_type": "stream",
       "stream": "stdout",
       "text": [
        " 2014-10-25\n",
        "(0.0, -0.43643578047198478, 9)"
       ]
      },
      {
       "output_type": "stream",
       "stream": "stdout",
       "text": [
        " 2014-10-25\n",
        "(0.56195573525833054, 0.56046338444006594, 18)"
       ]
      },
      {
       "output_type": "stream",
       "stream": "stdout",
       "text": [
        " 2014-10-25\n",
        "(0.0, 0.0, 16)"
       ]
      },
      {
       "output_type": "stream",
       "stream": "stdout",
       "text": [
        " 2014-10-25\n",
        "(0.70538809337714525, 0.64392510436116457, 16)"
       ]
      },
      {
       "output_type": "stream",
       "stream": "stdout",
       "text": [
        " 2014-10-25\n",
        "(0.0, 0.18516401995451032, 9)"
       ]
      },
      {
       "output_type": "stream",
       "stream": "stdout",
       "text": [
        " 2014-10-25\n",
        "(0.55256648465489311, 0.5504818825631802, 11)"
       ]
      },
      {
       "output_type": "stream",
       "stream": "stdout",
       "text": [
        " 2014-10-25\n",
        "(0.3544587784792832, 0.1679438245519263, 12)"
       ]
      },
      {
       "output_type": "stream",
       "stream": "stdout",
       "text": [
        " 2014-10-25\n",
        "(0.0, 0.33333333333333326, 3)"
       ]
      },
      {
       "output_type": "stream",
       "stream": "stdout",
       "text": [
        " 2014-10-25\n",
        "(0.65405360355455711, 0.52726117325361277, 40)"
       ]
      },
      {
       "output_type": "stream",
       "stream": "stdout",
       "text": [
        " 2014-10-25\n",
        "(0.53296553752068676, 0.3355335772422095, 18)"
       ]
      },
      {
       "output_type": "stream",
       "stream": "stdout",
       "text": [
        " 2014-10-25\n",
        "(0.0, 0.68313005106397329, 7)"
       ]
      },
      {
       "output_type": "stream",
       "stream": "stdout",
       "text": [
        " 2014-10-25\n",
        "(0.50000000000000011, 0.5345224838248489, 8)"
       ]
      },
      {
       "output_type": "stream",
       "stream": "stdout",
       "text": [
        " 2014-10-25\n",
        "(0.0, -0.54772255750516619, 4)"
       ]
      },
      {
       "output_type": "stream",
       "stream": "stdout",
       "text": [
        " 2014-10-25\n",
        "(0.0, -0.057142857142857155, 9)"
       ]
      },
      {
       "output_type": "stream",
       "stream": "stdout",
       "text": [
        " 2014-10-26\n",
        "(0.0, -0.06009967640704203, 16)"
       ]
      },
      {
       "output_type": "stream",
       "stream": "stdout",
       "text": [
        " 2014-10-26\n",
        "(0.35898747147446286, 0.43404648300994059, 16)"
       ]
      },
      {
       "output_type": "stream",
       "stream": "stdout",
       "text": [
        " 2014-10-26\n",
        "(0.53258630287663822, 0.59740259740259727, 13)"
       ]
      },
      {
       "output_type": "stream",
       "stream": "stdout",
       "text": [
        " 2014-10-26\n",
        "(0.54772255750516619, 0.052704627669472988, 7)"
       ]
      },
      {
       "output_type": "stream",
       "stream": "stdout",
       "text": [
        " 2014-10-26\n",
        "(0.28718502366078141, 0.74041884411792203, 15)"
       ]
      },
      {
       "output_type": "stream",
       "stream": "stdout",
       "text": [
        " 2014-10-26\n",
        "(0.7077760731311632, 0.77248727933642836, 10)"
       ]
      },
      {
       "output_type": "stream",
       "stream": "stdout",
       "text": [
        " 2014-10-26\n",
        "(0.35856858280031817, 0.55205244747388349, 6)"
       ]
      },
      {
       "output_type": "stream",
       "stream": "stdout",
       "text": [
        " 2014-10-26\n",
        "(0.0, 0.58554004376911994, 7)"
       ]
      },
      {
       "output_type": "stream",
       "stream": "stdout",
       "text": [
        " 2014-10-26\n",
        "(0.0, -0.33333333333333326, 3)"
       ]
      },
      {
       "output_type": "stream",
       "stream": "stdout",
       "text": [
        " 2014-10-26\n",
        "(0.66981722704899782, 0.71090079328898859, 33)"
       ]
      },
      {
       "output_type": "stream",
       "stream": "stdout",
       "text": [
        " 2014-10-26\n",
        "(0.0, -0.13483997249264842, 10)"
       ]
      },
      {
       "output_type": "stream",
       "stream": "stdout",
       "text": [
        " 2014-10-26\n",
        "(0.0, -0.34285714285714292, 9)"
       ]
      },
      {
       "output_type": "stream",
       "stream": "stdout",
       "text": [
        " 2014-10-26\n",
        "(0.0, 0.58554004376911994, 7)"
       ]
      },
      {
       "output_type": "stream",
       "stream": "stdout",
       "text": [
        " 2014-10-26\n",
        "(0.0, 0.27692307692307699, 12)"
       ]
      },
      {
       "output_type": "stream",
       "stream": "stdout",
       "text": [
        " 2014-10-26\n",
        "(0.35634832254989918, 0.82807867121082523, 6)"
       ]
      },
      {
       "output_type": "stream",
       "stream": "stdout",
       "text": [
        " 2014-10-26\n",
        "(0.0, 0.32258735880781836, 13)"
       ]
      },
      {
       "output_type": "stream",
       "stream": "stdout",
       "text": [
        " 2014-10-26\n",
        "(0.0, 0.69006555934235436, 6)"
       ]
      },
      {
       "output_type": "stream",
       "stream": "stdout",
       "text": [
        " 2014-10-26\n",
        "(0.50917507721731547, 0.32732683535398854, 8)"
       ]
      },
      {
       "output_type": "stream",
       "stream": "stdout",
       "text": [
        " 2014-10-26\n",
        "(0.0, 0.33946736991660226, 9)"
       ]
      },
      {
       "output_type": "stream",
       "stream": "stdout",
       "text": [
        " 2014-10-26\n",
        "(0.45116596130213676, 0.56506216855636138, 22)"
       ]
      },
      {
       "output_type": "stream",
       "stream": "stdout",
       "text": [
        " 2014-10-26\n",
        "(0.80178372573727319, 0.41403933560541262, 6)"
       ]
      },
      {
       "output_type": "stream",
       "stream": "stdout",
       "text": [
        " 2014-10-26\n",
        "(0.0, -0.59761430466719689, 6)"
       ]
      },
      {
       "output_type": "stream",
       "stream": "stdout",
       "text": [
        " 2014-10-26\n",
        "(0.0, -0.66666666666666663, 5)"
       ]
      },
      {
       "output_type": "stream",
       "stream": "stdout",
       "text": [
        " 2014-10-26\n",
        "(0.0, -0.43033148291193518, 11)"
       ]
      },
      {
       "output_type": "stream",
       "stream": "stdout",
       "text": [
        " 2014-10-26\n",
        "(0.0, -0.22222222222222218, 5)"
       ]
      },
      {
       "output_type": "stream",
       "stream": "stdout",
       "text": [
        " 2014-10-26\n",
        "(0.0, 0.45000000000000007, 7)"
       ]
      },
      {
       "output_type": "stream",
       "stream": "stdout",
       "text": [
        " 2014-10-28\n",
        "(0.5473615268431421, 0.54800718472062304, 31)"
       ]
      },
      {
       "output_type": "stream",
       "stream": "stdout",
       "text": [
        " 2014-10-31\n",
        "(0.46636527934440064, 0.59939485612439758, 32)"
       ]
      },
      {
       "output_type": "stream",
       "stream": "stdout",
       "text": [
        " 2014-10-31\n",
        "(0.59220950340316758, 0.63969409370487385, 71)"
       ]
      },
      {
       "output_type": "stream",
       "stream": "stdout",
       "text": [
        " 2014-10-31\n",
        "(0.3716269868990501, 0.55658792346102592, 30)"
       ]
      },
      {
       "output_type": "stream",
       "stream": "stdout",
       "text": [
        " 2014-10-31\n",
        "(0.0, -0.26352313834736496, 7)"
       ]
      },
      {
       "output_type": "stream",
       "stream": "stdout",
       "text": [
        " 2014-10-31\n",
        "(0.0, -0.23328473740792166, 11)"
       ]
      },
      {
       "output_type": "stream",
       "stream": "stdout",
       "text": [
        " 2014-10-31\n",
        "(0.0, -0.6804138174397717, 8)"
       ]
      },
      {
       "output_type": "stream",
       "stream": "stdout",
       "text": [
        " 2014-10-31\n",
        "(0.62514040881917976, 0.69208508735982344, 19)"
       ]
      },
      {
       "output_type": "stream",
       "stream": "stdout",
       "text": [
        " 2014-10-31\n",
        "(0.40000000000000008, 0.18257418583505539, 4)"
       ]
      },
      {
       "output_type": "stream",
       "stream": "stdout",
       "text": [
        " 2014-10-31\n",
        "(0.54772255750516619, 0.39036002917941331, 7)"
       ]
      },
      {
       "output_type": "stream",
       "stream": "stdout",
       "text": [
        " 2014-11-01\n",
        "(0.37397879600338307, 0.19847906537954926, 12)"
       ]
      },
      {
       "output_type": "stream",
       "stream": "stdout",
       "text": [
        " 2014-11-01\n",
        "(0.52164053095730067, 0.34686583016987055, 17)"
       ]
      },
      {
       "output_type": "stream",
       "stream": "stdout",
       "text": [
        " 2014-11-01\n",
        "(0.63524081680428413, 0.53436671448340178, 12)"
       ]
      },
      {
       "output_type": "stream",
       "stream": "stdout",
       "text": [
        " 2014-11-01\n",
        "(0.45157675828971883, 0.47329623282815592, 12)"
       ]
      },
      {
       "output_type": "stream",
       "stream": "stdout",
       "text": [
        " 2014-11-01\n",
        "(0.0, -0.33333333333333326, 3)"
       ]
      },
      {
       "output_type": "stream",
       "stream": "stdout",
       "text": [
        " 2014-11-01\n",
        "(0.5896919751144688, 0.4728054288446501, 8)"
       ]
      },
      {
       "output_type": "stream",
       "stream": "stdout",
       "text": [
        " 2014-11-01\n",
        "(0.54772255750516619, 0.15000000000000002, 7)"
       ]
      },
      {
       "output_type": "stream",
       "stream": "stdout",
       "text": [
        " 2014-11-01\n",
        "(0.0, -0.99999999999999989, 3)"
       ]
      },
      {
       "output_type": "stream",
       "stream": "stdout",
       "text": [
        " 2014-11-01\n",
        "(0.0, -0.4755563543407304, 12)"
       ]
      },
      {
       "output_type": "stream",
       "stream": "stdout",
       "text": [
        " 2014-11-01\n",
        "(0.65047069737725571, 0.61639675570229646, 18)"
       ]
      },
      {
       "output_type": "stream",
       "stream": "stdout",
       "text": [
        " 2014-11-01\n",
        "(0.0, 0.10540925533894598, 5)"
       ]
      },
      {
       "output_type": "stream",
       "stream": "stdout",
       "text": [
        " 2014-11-01\n",
        "(0.0, 0.45933540141057155, 15)"
       ]
      },
      {
       "output_type": "stream",
       "stream": "stdout",
       "text": [
        " 2014-11-01\n",
        "(0.52373148735434571, 0.65807821196794947, 13)"
       ]
      },
      {
       "output_type": "stream",
       "stream": "stdout",
       "text": [
        " 2014-11-01\n",
        "(0.0, 0.816982446237566, 9)"
       ]
      },
      {
       "output_type": "stream",
       "stream": "stdout",
       "text": [
        " 2014-11-01\n",
        "(0.0, 0.44276099200053293, 12)"
       ]
      },
      {
       "output_type": "stream",
       "stream": "stdout",
       "text": [
        " 2014-11-01\n",
        "(0.61530337867572416, 0.61008172182592924, 28)"
       ]
      },
      {
       "output_type": "stream",
       "stream": "stdout",
       "text": [
        " 2014-11-01\n",
        "(0.0, 0.0, 4)"
       ]
      },
      {
       "output_type": "stream",
       "stream": "stdout",
       "text": [
        " 2014-11-01\n",
        "(0.54772255750516619, 0.65000000000000013, 7)"
       ]
      },
      {
       "output_type": "stream",
       "stream": "stdout",
       "text": [
        " 2014-11-01\n",
        "(0.64963291155911096, 0.71287268478263655, 23)"
       ]
      },
      {
       "output_type": "stream",
       "stream": "stdout",
       "text": [
        " 2014-11-01\n",
        "(0.53935988997059381, 0.4879500364742666, 7)"
       ]
      },
      {
       "output_type": "stream",
       "stream": "stdout",
       "text": [
        " 2014-11-01\n",
        "(-0.48038446141526153, 0.40006613209931929, 8)"
       ]
      },
      {
       "output_type": "stream",
       "stream": "stdout",
       "text": [
        " 2014-11-01\n",
        "(0.0, 0.99999999999999989, 3)"
       ]
      },
      {
       "output_type": "stream",
       "stream": "stdout",
       "text": [
        " 2014-11-01\n",
        "(0.045175395145262573, 0.59160797830996159, 9)"
       ]
      },
      {
       "output_type": "stream",
       "stream": "stdout",
       "text": [
        " 2014-11-01\n",
        "(0.0, 0.99999999999999989, 3)"
       ]
      },
      {
       "output_type": "stream",
       "stream": "stdout",
       "text": [
        " 2014-11-01\n",
        "(0.45175497835169381, 0.63492952232532762, 20)"
       ]
      },
      {
       "output_type": "stream",
       "stream": "stdout",
       "text": [
        " 2014-11-01\n",
        "(0.48368769563251274, 0.51656761925536709, 13)"
       ]
      },
      {
       "output_type": "stream",
       "stream": "stdout",
       "text": [
        " 2014-11-01\n",
        "(0.72949787701905988, 0.6000000000000002, 15)"
       ]
      },
      {
       "output_type": "stream",
       "stream": "stdout",
       "text": [
        " 2014-11-01\n",
        "(0.64807406984078608, 0.53526436132806043, 9)"
       ]
      },
      {
       "output_type": "stream",
       "stream": "stdout",
       "text": [
        " 2014-11-01\n",
        "(0.28079335089217539, 0.22222831910473489, 17)"
       ]
      },
      {
       "output_type": "stream",
       "stream": "stdout",
       "text": [
        " 2014-11-01\n",
        "(0.61977978680091217, 0.7142857142857143, 7)"
       ]
      },
      {
       "output_type": "stream",
       "stream": "stdout",
       "text": [
        " 2014-11-01\n",
        "(0.47140452079103184, 0.33333333333333331, 9)"
       ]
      },
      {
       "output_type": "stream",
       "stream": "stdout",
       "text": [
        " 2014-11-01\n",
        "(0.0, 0.33333333333333331, 6)"
       ]
      },
      {
       "output_type": "stream",
       "stream": "stdout",
       "text": [
        " 2014-11-01\n",
        "(0.63245553203367577, 0.79999999999999982, 5)"
       ]
      },
      {
       "output_type": "stream",
       "stream": "stdout",
       "text": [
        " 2014-11-01\n",
        "(0.0, 0.82807867121082523, 6)"
       ]
      },
      {
       "output_type": "stream",
       "stream": "stdout",
       "text": [
        " 2014-11-01\n",
        "(0.0, 0.88888888888888873, 5)"
       ]
      },
      {
       "output_type": "stream",
       "stream": "stdout",
       "text": [
        " 2014-11-01\n",
        "(0.0, 0.43404648300994059, 16)"
       ]
      },
      {
       "output_type": "stream",
       "stream": "stdout",
       "text": [
        " 2014-11-01\n",
        "(0.0, 0.34285714285714292, 9)"
       ]
      },
      {
       "output_type": "stream",
       "stream": "stdout",
       "text": [
        " 2014-11-01\n",
        "(0.48239866086317618, 0.40704578920534712, 19)"
       ]
      },
      {
       "output_type": "stream",
       "stream": "stdout",
       "text": [
        " 2014-11-01\n",
        "(0.0, 0.0, 1)"
       ]
      },
      {
       "output_type": "stream",
       "stream": "stdout",
       "text": [
        " 2014-11-01\n",
        "(0.0, 0.0, 1)"
       ]
      },
      {
       "output_type": "stream",
       "stream": "stdout",
       "text": [
        " 2014-11-01\n",
        "(0.13608276348795434, 0.22222222222222218, 5)"
       ]
      },
      {
       "output_type": "stream",
       "stream": "stdout",
       "text": [
        " 2014-11-01\n",
        "(0.0, 0.0, 2)"
       ]
      },
      {
       "output_type": "stream",
       "stream": "stdout",
       "text": [
        " 2014-11-01\n",
        "(0.0, 0.0, 6)"
       ]
      },
      {
       "output_type": "stream",
       "stream": "stdout",
       "text": [
        " 2014-11-02\n",
        "(0.0, 0.41403933560541262, 6)"
       ]
      },
      {
       "output_type": "stream",
       "stream": "stdout",
       "text": [
        " 2014-11-02\n",
        "(0.6804138174397717, 0.31622776601683794, 5)"
       ]
      },
      {
       "output_type": "stream",
       "stream": "stdout",
       "text": [
        " 2014-11-02\n",
        "(0.55470019622522915, 0.1679438245519263, 12)"
       ]
      },
      {
       "output_type": "stream",
       "stream": "stdout",
       "text": [
        " 2014-11-02\n",
        "(0.69395423593525363, 0.5393598899705937, 10)"
       ]
      },
      {
       "output_type": "stream",
       "stream": "stdout",
       "text": [
        " 2014-11-02\n",
        "(0.030772872744833181, 0.30240736837950305, 10)"
       ]
      },
      {
       "output_type": "stream",
       "stream": "stdout",
       "text": [
        " 2014-11-02\n",
        "(0.0, 0.19720265943665385, 9)"
       ]
      },
      {
       "output_type": "stream",
       "stream": "stdout",
       "text": [
        " 2014-11-02\n",
        "(0.0, 0.58554004376911994, 7)"
       ]
      },
      {
       "output_type": "stream",
       "stream": "stdout",
       "text": [
        " 2014-11-02\n",
        "(0.0, 0.45696366318744014, 18)"
       ]
      },
      {
       "output_type": "stream",
       "stream": "stdout",
       "text": [
        " 2014-11-02\n",
        "(0.0, 0.18184824186332696, 8)"
       ]
      },
      {
       "output_type": "stream",
       "stream": "stdout",
       "text": [
        " 2014-11-02\n",
        "(0.0, 0.35371516291498234, 22)"
       ]
      },
      {
       "output_type": "stream",
       "stream": "stdout",
       "text": [
        " 2014-11-02\n",
        "(0.1740776559556978, 0.3595732599803958, 10)"
       ]
      },
      {
       "output_type": "stream",
       "stream": "stdout",
       "text": [
        " 2014-11-02\n",
        "(0.0, 0.7745966692414834, 4)"
       ]
      },
      {
       "output_type": "stream",
       "stream": "stdout",
       "text": [
        " 2014-11-02\n",
        "(0.0, -0.50917507721731547, 8)"
       ]
      },
      {
       "output_type": "stream",
       "stream": "stdout",
       "text": [
        " 2014-11-02\n",
        "(0.0, 0.0, 1)"
       ]
      },
      {
       "output_type": "stream",
       "stream": "stdout",
       "text": [
        " 2014-11-02\n",
        "(0.28022426915890253, 0.61244720188076207, 15)"
       ]
      },
      {
       "output_type": "stream",
       "stream": "stdout",
       "text": [
        " 2014-11-04\n",
        "(0.0, 0.058848988633649978, 9)"
       ]
      },
      {
       "output_type": "stream",
       "stream": "stdout",
       "text": [
        " 2014-11-06\n",
        "(0.0, 0.42257712736425829, 9)"
       ]
      },
      {
       "output_type": "stream",
       "stream": "stdout",
       "text": [
        " 2014-11-06\n",
        "(0.35634832254989918, 0.69006555934235436, 6)"
       ]
      },
      {
       "output_type": "stream",
       "stream": "stdout",
       "text": [
        " 2014-11-08\n",
        "(0.46188021535170065, 0.4879500364742666, 7)"
       ]
      },
      {
       "output_type": "stream",
       "stream": "stdout",
       "text": [
        " 2014-11-08\n",
        "(0.0, 0.94868329805051377, 5)"
       ]
      },
      {
       "output_type": "stream",
       "stream": "stdout",
       "text": [
        " 2014-11-08\n",
        "(0.0, 0.55503027670444061, 15)"
       ]
      },
      {
       "output_type": "stream",
       "stream": "stdout",
       "text": [
        " 2014-11-08\n",
        "(0.0, 0.18257418583505539, 4)"
       ]
      },
      {
       "output_type": "stream",
       "stream": "stdout",
       "text": [
        " 2014-11-08\n",
        "(0.0, 0.34090909090909094, 10)"
       ]
      },
      {
       "output_type": "stream",
       "stream": "stdout",
       "text": [
        " 2014-11-08\n",
        "(0.31622776601683789, 0.10540925533894598, 5)"
       ]
      },
      {
       "output_type": "stream",
       "stream": "stdout",
       "text": [
        " 2014-11-08\n",
        "(0.0, 0.0, 4)"
       ]
      },
      {
       "output_type": "stream",
       "stream": "stdout",
       "text": [
        " 2014-11-08\n",
        "(0.0, 0.54772255750516619, 4)"
       ]
      },
      {
       "output_type": "stream",
       "stream": "stdout",
       "text": [
        " 2014-11-08\n",
        "(0.74161984870956643, 0.65000000000000013, 7)"
       ]
      },
      {
       "output_type": "stream",
       "stream": "stdout",
       "text": [
        " 2014-11-08\n",
        "(0.0, 0.34641016151377552, 7)"
       ]
      },
      {
       "output_type": "stream",
       "stream": "stdout",
       "text": [
        " 2014-11-08\n",
        "(0.88888888888888873, 0.73786478737262184, 5)"
       ]
      },
      {
       "output_type": "stream",
       "stream": "stdout",
       "text": [
        " 2014-11-09\n",
        "(0.74028799516774113, 0.62170355305204472, 19)"
       ]
      },
      {
       "output_type": "stream",
       "stream": "stdout",
       "text": [
        " 2014-11-09\n",
        "(0.0, 0.22222222222222218, 5)"
       ]
      },
      {
       "output_type": "stream",
       "stream": "stdout",
       "text": [
        " 2014-11-09\n",
        "(0.0, -0.22222222222222221, 8)"
       ]
      },
      {
       "output_type": "stream",
       "stream": "stdout",
       "text": [
        " 2014-11-09\n",
        "(0.0, 0.13554167679840737, 20)"
       ]
      },
      {
       "output_type": "stream",
       "stream": "stdout",
       "text": [
        " 2014-11-09\n",
        "(0.0, 0.76063882925566484, 9)"
       ]
      },
      {
       "output_type": "stream",
       "stream": "stdout",
       "text": [
        " 2014-11-09\n",
        "(0.0, 0.36627219163600816, 18)"
       ]
      },
      {
       "output_type": "stream",
       "stream": "stdout",
       "text": [
        " 2014-11-09\n",
        "(0.0, -0.31622776601683794, 5)"
       ]
      },
      {
       "output_type": "stream",
       "stream": "stdout",
       "text": [
        " 2014-11-09\n",
        "(0.0, 0.0, 8)"
       ]
      },
      {
       "output_type": "stream",
       "stream": "stdout",
       "text": [
        " 2014-11-09\n",
        "(0.62360956446232352, 0.69006555934235436, 6)"
       ]
      },
      {
       "output_type": "stream",
       "stream": "stdout",
       "text": [
        " 2014-11-09\n",
        "(0.0, 0.18184824186332696, 8)"
       ]
      },
      {
       "output_type": "stream",
       "stream": "stdout",
       "text": [
        " 2014-11-09\n",
        "(0.0, 0.52704627669472992, 5)"
       ]
      },
      {
       "output_type": "stream",
       "stream": "stdout",
       "text": [
        " 2014-11-09\n",
        "(0.53935988997059381, 0.58554004376911994, 7)"
       ]
      },
      {
       "output_type": "stream",
       "stream": "stdout",
       "text": [
        " 2014-11-09\n",
        "(0.4714186853775284, 0.61244720188076207, 15)"
       ]
      },
      {
       "output_type": "stream",
       "stream": "stdout",
       "text": [
        " 2014-11-09\n",
        "(0.59761430466719689, 0.41403933560541262, 6)"
       ]
      },
      {
       "output_type": "stream",
       "stream": "stdout",
       "text": [
        " 2014-11-09\n",
        "(0.0, 0.44444444444444442, 8)"
       ]
      },
      {
       "output_type": "stream",
       "stream": "stdout",
       "text": [
        " 2014-11-09\n",
        "(0.0, -0.33333333333333326, 3)"
       ]
      },
      {
       "output_type": "stream",
       "stream": "stdout",
       "text": [
        " 2014-11-09\n",
        "(0.0, -0.057142857142857155, 9)"
       ]
      },
      {
       "output_type": "stream",
       "stream": "stdout",
       "text": [
        " 2014-11-09\n",
        "(0.0, -0.10910894511799617, 8)"
       ]
      },
      {
       "output_type": "stream",
       "stream": "stdout",
       "text": [
        " 2014-11-09\n",
        "(0.0, 0.10540925533894598, 5)"
       ]
      },
      {
       "output_type": "stream",
       "stream": "stdout",
       "text": [
        " 2014-11-09\n",
        "(0.0, 0.33028912953790812, 11)"
       ]
      },
      {
       "output_type": "stream",
       "stream": "stdout",
       "text": [
        " 2014-11-11\n",
        "(0.0, 0.76376261582597327, 8)"
       ]
      },
      {
       "output_type": "stream",
       "stream": "stdout",
       "text": [
        " 2014-11-14\n",
        "(0.0, 0.47062080533501166, 10)"
       ]
      },
      {
       "output_type": "stream",
       "stream": "stdout",
       "text": [
        " 2014-11-14\n",
        "(0.22885182707624938, 0.5358913016456669, 15)"
       ]
      },
      {
       "output_type": "stream",
       "stream": "stdout",
       "text": [
        " 2014-11-14\n",
        "(0.33732109476623257, 0.50945992463491341, 39)"
       ]
      },
      {
       "output_type": "stream",
       "stream": "stdout",
       "text": [
        " 2014-11-15\n",
        "(0.57553523808128038, 0.65248624750068063, 63)"
       ]
      },
      {
       "output_type": "stream",
       "stream": "stdout",
       "text": [
        " 2014-11-15\n",
        "(0.61015211966174021, 0.66348637649398567, 21)"
       ]
      },
      {
       "output_type": "stream",
       "stream": "stdout",
       "text": [
        " 2014-11-15\n",
        "(0.64635961249377405, 0.62925320496569259, 10)"
       ]
      },
      {
       "output_type": "stream",
       "stream": "stdout",
       "text": [
        " 2014-11-15\n",
        "(0.0, 0.70429521227376379, 9)"
       ]
      },
      {
       "output_type": "stream",
       "stream": "stdout",
       "text": [
        " 2014-11-15\n",
        "(0.0, 0.50961538461538469, 15)"
       ]
      },
      {
       "output_type": "stream",
       "stream": "stdout",
       "text": [
        " 2014-11-15\n",
        "(0.42163702135578385, 0.66299354413179601, 14)"
       ]
      },
      {
       "output_type": "stream",
       "stream": "stdout",
       "text": [
        " 2014-11-15\n",
        "(0.49272544215266362, 0.42678197846541877, 16)"
       ]
      },
      {
       "output_type": "stream",
       "stream": "stdout",
       "text": [
        " 2014-11-15\n",
        "(0.70541135374583219, 0.49040728636381847, 15)"
       ]
      },
      {
       "output_type": "stream",
       "stream": "stdout",
       "text": [
        " 2014-11-15\n",
        "(0.0, -0.33333333333333326, 3)"
       ]
      },
      {
       "output_type": "stream",
       "stream": "stdout",
       "text": [
        " 2014-11-15\n",
        "(-0.81649658092772615, -0.33333333333333326, 3)"
       ]
      },
      {
       "output_type": "stream",
       "stream": "stdout",
       "text": [
        " 2014-11-15\n",
        "(0.31622776601683794, 0.59999999999999987, 5)"
       ]
      },
      {
       "output_type": "stream",
       "stream": "stdout",
       "text": [
        " 2014-11-15\n",
        "(0.0, -0.45000000000000007, 7)"
       ]
      },
      {
       "output_type": "stream",
       "stream": "stdout",
       "text": [
        " 2014-11-15\n",
        "(0.0, -0.018871283902409931, 11)"
       ]
      },
      {
       "output_type": "stream",
       "stream": "stdout",
       "text": [
        " 2014-11-15\n",
        "(0.52704627669472981, 0.35359655687029123, 14)"
       ]
      },
      {
       "output_type": "stream",
       "stream": "stdout",
       "text": [
        " 2014-11-15\n",
        "(0.64940541683266362, 0.50961538461538469, 15)"
       ]
      },
      {
       "output_type": "stream",
       "stream": "stdout",
       "text": [
        " 2014-11-15\n",
        "(0.0, 0.54772255750516619, 4)"
       ]
      },
      {
       "output_type": "stream",
       "stream": "stdout",
       "text": [
        " 2014-11-15\n",
        "(0.0, 0.54554472558998091, 8)"
       ]
      },
      {
       "output_type": "stream",
       "stream": "stdout",
       "text": [
        " 2014-11-15\n",
        "(0.0, -1.0, 2)"
       ]
      },
      {
       "output_type": "stream",
       "stream": "stdout",
       "text": [
        " 2014-11-15\n",
        "(0.0, 0.42257712736425829, 9)"
       ]
      },
      {
       "output_type": "stream",
       "stream": "stdout",
       "text": [
        " 2014-11-15\n",
        "(0.0, 0.46409548089225722, 14)"
       ]
      },
      {
       "output_type": "stream",
       "stream": "stdout",
       "text": [
        " 2014-11-15\n",
        "(0.38005847503304613, 0.56666666666666665, 14)"
       ]
      },
      {
       "output_type": "stream",
       "stream": "stdout",
       "text": [
        " 2014-11-15\n",
        "(0.44120545309701575, 0.18453386155653298, 84)"
       ]
      },
      {
       "output_type": "stream",
       "stream": "stdout",
       "text": [
        " 2014-11-15\n",
        "(0.30976470286677443, 0.17024634512732048, 51)"
       ]
      },
      {
       "output_type": "stream",
       "stream": "stdout",
       "text": [
        " 2014-11-15\n",
        "(0.68810235320397539, 0.62925320496569259, 10)"
       ]
      },
      {
       "output_type": "stream",
       "stream": "stdout",
       "text": [
        " 2014-11-15\n",
        "(0.81649658092772615, 0.99999999999999989, 3)"
       ]
      },
      {
       "output_type": "stream",
       "stream": "stdout",
       "text": [
        " 2014-11-15\n",
        "(0.45291081365783831, 0.30692490702242575, 15)"
       ]
      },
      {
       "output_type": "stream",
       "stream": "stdout",
       "text": [
        " 2014-11-15\n",
        "(0.0, -0.66666666666666663, 5)"
       ]
      },
      {
       "output_type": "stream",
       "stream": "stdout",
       "text": [
        " 2014-11-15\n",
        "(0.0, -0.5846845821518305, 10)"
       ]
      },
      {
       "output_type": "stream",
       "stream": "stdout",
       "text": [
        " 2014-11-15\n",
        "(0.0, -0.14985372985307105, 18)"
       ]
      },
      {
       "output_type": "stream",
       "stream": "stdout",
       "text": [
        " 2014-11-15\n",
        "(0.59898132354373024, 0.56728168544233626, 20)"
       ]
      },
      {
       "output_type": "stream",
       "stream": "stdout",
       "text": [
        " 2014-11-15\n",
        "(0.69385327032644706, 0.68935287817529778, 15)"
       ]
      },
      {
       "output_type": "stream",
       "stream": "stdout",
       "text": [
        " 2014-11-15\n",
        "(0.48507125007266599, 0.33995032944622405, 16)"
       ]
      },
      {
       "output_type": "stream",
       "stream": "stdout",
       "text": [
        " 2014-11-15\n",
        "(0.66720064085452979, 0.33028912953790812, 11)"
       ]
      },
      {
       "output_type": "stream",
       "stream": "stdout",
       "text": [
        " 2014-11-15\n",
        "(0.35856858280031817, 0.69006555934235436, 6)"
       ]
      },
      {
       "output_type": "stream",
       "stream": "stdout",
       "text": [
        " 2014-11-15\n",
        "(0.75619354982307563, 0.67303294306224448, 21)"
       ]
      },
      {
       "output_type": "stream",
       "stream": "stdout",
       "text": [
        " 2014-11-15\n",
        "(0.3857583749052298, 0.69006555934235436, 6)"
       ]
      },
      {
       "output_type": "stream",
       "stream": "stdout",
       "text": [
        " 2014-11-15\n",
        "(0.6192686611815682, 0.55492256552509156, 30)"
       ]
      },
      {
       "output_type": "stream",
       "stream": "stdout",
       "text": [
        " 2014-11-15\n",
        "(0.0, 0.084515425472851652, 9)"
       ]
      },
      {
       "output_type": "stream",
       "stream": "stdout",
       "text": [
        " 2014-11-15\n",
        "(0.66666666666666663, 0.94868329805051377, 5)"
       ]
      },
      {
       "output_type": "stream",
       "stream": "stdout",
       "text": [
        " 2014-11-15\n",
        "(0.35856858280031817, 0.82807867121082523, 6)"
       ]
      },
      {
       "output_type": "stream",
       "stream": "stdout",
       "text": [
        " 2014-11-15\n",
        "(0.0, 1.0, 2)"
       ]
      },
      {
       "output_type": "stream",
       "stream": "stdout",
       "text": [
        " 2014-11-15\n",
        "(0.0, 0.91287092917527701, 4)"
       ]
      },
      {
       "output_type": "stream",
       "stream": "stdout",
       "text": [
        " 2014-11-15\n",
        "(0.0, 0.99999999999999989, 3)"
       ]
      },
      {
       "output_type": "stream",
       "stream": "stdout",
       "text": [
        " 2014-11-15\n",
        "(0.0, 0.32732683535398854, 8)"
       ]
      },
      {
       "output_type": "stream",
       "stream": "stdout",
       "text": [
        " 2014-11-15\n",
        "(0.84866842479150562, 0.96609178307929611, 6)"
       ]
      },
      {
       "output_type": "stream",
       "stream": "stdout",
       "text": [
        " 2014-11-15\n",
        "(0.12401526747230449, 0.40337558727168854, 16)"
       ]
      },
      {
       "output_type": "stream",
       "stream": "stdout",
       "text": [
        " 2014-11-15\n",
        "(0.0, 0.33333333333333326, 3)"
       ]
      },
      {
       "output_type": "stream",
       "stream": "stdout",
       "text": [
        " 2014-11-15\n",
        "(0.36514837167011077, 0.25000000000000006, 7)"
       ]
      },
      {
       "output_type": "stream",
       "stream": "stdout",
       "text": [
        " 2014-11-15\n",
        "(0.23570226039551587, 0.0, 4)"
       ]
      },
      {
       "output_type": "stream",
       "stream": "stdout",
       "text": [
        " 2014-11-15\n",
        "(0.71970160600858157, 0.70909090909090888, 11)"
       ]
      },
      {
       "output_type": "stream",
       "stream": "stdout",
       "text": [
        " 2014-11-15\n",
        "(0.43033148291193518, 0.20000000000000001, 6)"
       ]
      },
      {
       "output_type": "stream",
       "stream": "stdout",
       "text": [
        " 2014-11-15\n",
        "(0.47628967220784008, 0.48619526569665039, 14)"
       ]
      },
      {
       "output_type": "stream",
       "stream": "stdout",
       "text": [
        " 2014-11-15\n",
        "(0.0, 0.99999999999999989, 3)"
       ]
      },
      {
       "output_type": "stream",
       "stream": "stdout",
       "text": [
        " 2014-11-15\n",
        "(0.18898223650461363, 0.41403933560541262, 6)"
       ]
      },
      {
       "output_type": "stream",
       "stream": "stdout",
       "text": [
        " 2014-11-15\n",
        "(0.80000000000000016, 0.54772255750516619, 4)"
       ]
      },
      {
       "output_type": "stream",
       "stream": "stdout",
       "text": [
        " 2014-11-15\n",
        "(0.70856623945999531, 0.5393598899705937, 10)"
       ]
      },
      {
       "output_type": "stream",
       "stream": "stdout",
       "text": [
        " 2014-11-15\n",
        "(0.0, -0.13894669485837502, 12)"
       ]
      },
      {
       "output_type": "stream",
       "stream": "stdout",
       "text": [
        " 2014-11-15\n",
        "(0.55470019622522915, 0.30769230769230776, 12)"
       ]
      },
      {
       "output_type": "stream",
       "stream": "stdout",
       "text": [
        " 2014-11-15\n",
        "(0.0, -0.54772255750516619, 7)"
       ]
      },
      {
       "output_type": "stream",
       "stream": "stdout",
       "text": [
        " 2014-11-15\n",
        "(0.0, 0.0, 4)"
       ]
      },
      {
       "output_type": "stream",
       "stream": "stdout",
       "text": [
        " 2014-11-15\n",
        "(0.0, 0.19518001458970666, 7)"
       ]
      },
      {
       "output_type": "stream",
       "stream": "stdout",
       "text": [
        " 2014-11-15\n",
        "(0.0, 0.10540925533894598, 5)"
       ]
      },
      {
       "output_type": "stream",
       "stream": "stdout",
       "text": [
        " 2014-11-15\n",
        "(0.54772255750516619, 0.87831006565367986, 7)"
       ]
      },
      {
       "output_type": "stream",
       "stream": "stdout",
       "text": [
        " 2014-11-15\n",
        "(0.0, -0.028171808490950551, 9)"
       ]
      },
      {
       "output_type": "stream",
       "stream": "stdout",
       "text": [
        " 2014-11-16\n",
        "(0.0, 0.25954954703479516, 12)"
       ]
      },
      {
       "output_type": "stream",
       "stream": "stdout",
       "text": [
        " 2014-11-16\n",
        "(0.0, 0.26470588235294107, 19)"
       ]
      },
      {
       "output_type": "stream",
       "stream": "stdout",
       "text": [
        " 2014-11-16\n",
        "(0.0, 0.40727542001167877, 24)"
       ]
      },
      {
       "output_type": "stream",
       "stream": "stdout",
       "text": [
        " 2014-11-16\n",
        "(0.15452881976289165, 0.29326365653516784, 42)"
       ]
      },
      {
       "output_type": "stream",
       "stream": "stdout",
       "text": [
        " 2014-11-16\n",
        "(0.49702797304454671, 0.20043620553453648, 22)"
       ]
      },
      {
       "output_type": "stream",
       "stream": "stdout",
       "text": [
        " 2014-11-16\n",
        "(0.48876532532430023, 0.46607142857142869, 34)"
       ]
      },
      {
       "output_type": "stream",
       "stream": "stdout",
       "text": [
        " 2014-11-16\n",
        "(0.0, 0.69102331908064241, 8)"
       ]
      },
      {
       "output_type": "stream",
       "stream": "stdout",
       "text": [
        " 2014-11-16\n",
        "(0.66666666666666663, 0.52704627669472992, 5)"
       ]
      },
      {
       "output_type": "stream",
       "stream": "stdout",
       "text": [
        " 2014-11-16\n",
        "(0.0, 0.33333333333333326, 3)"
       ]
      },
      {
       "output_type": "stream",
       "stream": "stdout",
       "text": [
        " 2014-11-16\n",
        "(0.0, 0.0, 1)"
       ]
      },
      {
       "output_type": "stream",
       "stream": "stdout",
       "text": [
        " 2014-11-16\n",
        "(-0.11952286093343933, -0.39999999999999991, 5)"
       ]
      },
      {
       "output_type": "stream",
       "stream": "stdout",
       "text": [
        " 2014-11-16\n",
        "(0.33333333333333326, 0.33333333333333326, 3)"
       ]
      },
      {
       "output_type": "stream",
       "stream": "stdout",
       "text": [
        " 2014-11-16\n",
        "(0.66437441167163003, 0.66590038517825056, 30)"
       ]
      },
      {
       "output_type": "stream",
       "stream": "stdout",
       "text": [
        " 2014-11-16\n",
        "(0.0, 0.53874905537022444, 17)"
       ]
      },
      {
       "output_type": "stream",
       "stream": "stdout",
       "text": [
        " 2014-11-16\n",
        "(0.050062617432175889, 0.58575401784670544, 20)"
       ]
      },
      {
       "output_type": "stream",
       "stream": "stdout",
       "text": [
        " 2014-11-16\n",
        "(0.70913316187429953, 0.66191222841687913, 27)"
       ]
      },
      {
       "output_type": "stream",
       "stream": "stdout",
       "text": [
        " 2014-11-16\n",
        "(0.0, 0.99999999999999989, 3)"
       ]
      },
      {
       "output_type": "stream",
       "stream": "stdout",
       "text": [
        " 2014-11-16\n",
        "(0.70710678118654735, 0.68313005106397329, 7)"
       ]
      },
      {
       "output_type": "stream",
       "stream": "stdout",
       "text": [
        " 2014-11-16\n",
        "(0.0, 0.61904761904761907, 7)"
       ]
      },
      {
       "output_type": "stream",
       "stream": "stdout",
       "text": [
        " 2014-11-16\n",
        "(0.50888168907586229, 0.61111111111111116, 9)"
       ]
      },
      {
       "output_type": "stream",
       "stream": "stdout",
       "text": [
        " 2014-11-16\n",
        "(0.52613679150164705, 0.61111111111111116, 9)"
       ]
      },
      {
       "output_type": "stream",
       "stream": "stdout",
       "text": [
        " 2014-11-16\n",
        "(0.42882193396843665, 0.64102564102564108, 13)"
       ]
      },
      {
       "output_type": "stream",
       "stream": "stdout",
       "text": [
        " 2014-11-16\n",
        "(0.66782307112062833, 0.61828402233531166, 8)"
       ]
      },
      {
       "output_type": "stream",
       "stream": "stdout",
       "text": [
        " 2014-11-16\n",
        "(0.54772255750516619, 0.66666666666666663, 4)"
       ]
      },
      {
       "output_type": "stream",
       "stream": "stdout",
       "text": [
        " 2014-11-16\n",
        "(0.70710678118654757, 0.54772255750516619, 4)"
       ]
      },
      {
       "output_type": "stream",
       "stream": "stdout",
       "text": [
        " 2014-11-16\n",
        "(0.0, 0.18257418583505539, 4)"
       ]
      },
      {
       "output_type": "stream",
       "stream": "stdout",
       "text": [
        " 2014-11-16\n",
        "(0.15000000000000002, 0.29277002188455997, 7)"
       ]
      },
      {
       "output_type": "stream",
       "stream": "stdout",
       "text": [
        " 2014-11-16\n",
        "(0.18077538151554673, 0.15392840253090984, 19)"
       ]
      },
      {
       "output_type": "stream",
       "stream": "stdout",
       "text": [
        " 2014-11-16\n",
        "(0.0, 0.0, 8)"
       ]
      },
      {
       "output_type": "stream",
       "stream": "stdout",
       "text": [
        " 2014-11-16\n",
        "(0.0, 0.0, 4)"
       ]
      },
      {
       "output_type": "stream",
       "stream": "stdout",
       "text": [
        " 2014-11-16\n",
        "(0.3898865145819661, 0.22271770159368703, 16)"
       ]
      },
      {
       "output_type": "stream",
       "stream": "stdout",
       "text": [
        " 2014-11-16\n",
        "(0.68972470204354253, 0.66057825907581624, 11)"
       ]
      },
      {
       "output_type": "stream",
       "stream": "stdout",
       "text": [
        " 2014-11-21\n",
        "(0.0, -0.16006534613300824, 14)"
       ]
      },
      {
       "output_type": "stream",
       "stream": "stdout",
       "text": [
        " 2014-11-22\n",
        "(0.0, -0.31644743690431765, 23)"
       ]
      },
      {
       "output_type": "stream",
       "stream": "stdout",
       "text": [
        " 2014-11-22\n",
        "(0.36665190482356119, 0.50417432528710437, 25)"
       ]
      },
      {
       "output_type": "stream",
       "stream": "stdout",
       "text": [
        " 2014-11-22\n",
        "(0.0, 0.12671051872498812, 29)"
       ]
      },
      {
       "output_type": "stream",
       "stream": "stdout",
       "text": [
        " 2014-11-22\n",
        "(0.39081297076961902, 0.66975627647210589, 26)"
       ]
      },
      {
       "output_type": "stream",
       "stream": "stdout",
       "text": [
        " 2014-11-22\n",
        "(0.70017700763467727, 0.62321527936188814, 34)"
       ]
      },
      {
       "output_type": "stream",
       "stream": "stdout",
       "text": [
        " 2014-11-22\n",
        "(0.50000000000000011, 0.50000000000000011, 8)"
       ]
      },
      {
       "output_type": "stream",
       "stream": "stdout",
       "text": [
        " 2014-11-22\n",
        "(0.70641725710135683, 0.83650191257130402, 8)"
       ]
      },
      {
       "output_type": "stream",
       "stream": "stdout",
       "text": [
        " 2014-11-22\n",
        "(0.77689859606735601, 0.58554004376911994, 7)"
       ]
      },
      {
       "output_type": "stream",
       "stream": "stdout",
       "text": [
        " 2014-11-22\n",
        "(0.39283710065919314, 0.61111111111111116, 9)"
       ]
      },
      {
       "output_type": "stream",
       "stream": "stdout",
       "text": [
        " 2014-11-22\n",
        "(0.0, 0.0, 2)"
       ]
      },
      {
       "output_type": "stream",
       "stream": "stdout",
       "text": [
        " 2014-11-22\n",
        "(0.72468863045525345, 0.70719311374058247, 14)"
       ]
      },
      {
       "output_type": "stream",
       "stream": "stdout",
       "text": [
        " 2014-11-22\n",
        "(0.52835138709583906, 0.56802071081139782, 21)"
       ]
      },
      {
       "output_type": "stream",
       "stream": "stdout",
       "text": [
        " 2014-11-22\n",
        "(0.0, 0.0, 1)"
       ]
      },
      {
       "output_type": "stream",
       "stream": "stdout",
       "text": [
        " 2014-11-22\n",
        "(0.0, 0.0, 2)"
       ]
      },
      {
       "output_type": "stream",
       "stream": "stdout",
       "text": [
        " 2014-11-22\n",
        "(0.0, -1.0, 2)"
       ]
      },
      {
       "output_type": "stream",
       "stream": "stdout",
       "text": [
        " 2014-11-22\n",
        "(0.6204420883115398, 0.60646423455869847, 13)"
       ]
      },
      {
       "output_type": "stream",
       "stream": "stdout",
       "text": [
        " 2014-11-22\n",
        "(0.67748574014851071, 0.66299354413179601, 14)"
       ]
      },
      {
       "output_type": "stream",
       "stream": "stdout",
       "text": [
        " 2014-11-22\n",
        "(0.59215652546379216, 0.80952380952380953, 7)"
       ]
      },
      {
       "output_type": "stream",
       "stream": "stdout",
       "text": [
        " 2014-11-22\n",
        "(0.76666666666666694, 0.72222222222222221, 9)"
       ]
      },
      {
       "output_type": "stream",
       "stream": "stdout",
       "text": [
        " 2014-11-22\n",
        "(0.3595591752833896, 0.31795789816918213, 46)"
       ]
      },
      {
       "output_type": "stream",
       "stream": "stdout",
       "text": [
        " 2014-11-22\n",
        "(0.45326889510413715, 0.42232874539460002, 79)"
       ]
      },
      {
       "output_type": "stream",
       "stream": "stdout",
       "text": [
        " 2014-11-22\n",
        "(0.0, 0.33333333333333326, 3)"
       ]
      },
      {
       "output_type": "stream",
       "stream": "stdout",
       "text": [
        " 2014-11-22\n",
        "(0.23570226039551592, 0.036369648372665389, 9)"
       ]
      },
      {
       "output_type": "stream",
       "stream": "stdout",
       "text": [
        " 2014-11-22\n",
        "(0.6107840935999469, 0.70213759255544217, 20)"
       ]
      },
      {
       "output_type": "stream",
       "stream": "stdout",
       "text": [
        " 2014-11-22\n",
        "(0.91287092917527701, 0.66666666666666663, 4)"
       ]
      },
      {
       "output_type": "stream",
       "stream": "stdout",
       "text": [
        " 2014-11-22\n",
        "(0.63245553203367577, 0.59999999999999987, 5)"
       ]
      },
      {
       "output_type": "stream",
       "stream": "stdout",
       "text": [
        " 2014-11-22\n",
        "(0.42640143271122094, 0.39629696195060854, 11)"
       ]
      },
      {
       "output_type": "stream",
       "stream": "stdout",
       "text": [
        " 2014-11-22\n",
        "(0.26688025634181195, 0.40006613209931929, 8)"
       ]
      },
      {
       "output_type": "stream",
       "stream": "stdout",
       "text": [
        " 2014-11-22\n",
        "(0.46056618647183833, 0.61904761904761907, 7)"
       ]
      },
      {
       "output_type": "stream",
       "stream": "stdout",
       "text": [
        " 2014-11-22\n",
        "(0.37824434307572025, 0.28647647292020378, 29)"
       ]
      },
      {
       "output_type": "stream",
       "stream": "stdout",
       "text": [
        " 2014-11-22\n",
        "(0.59761430466719667, 0.59999999999999987, 5)"
       ]
      },
      {
       "output_type": "stream",
       "stream": "stdout",
       "text": [
        " 2014-11-22\n",
        "(0.071611487403943297, 0.46666666666666667, 6)"
       ]
      },
      {
       "output_type": "stream",
       "stream": "stdout",
       "text": [
        " 2014-11-22\n",
        "(0.0, 0.0, 1)"
       ]
      },
      {
       "output_type": "stream",
       "stream": "stdout",
       "text": [
        " 2014-11-22\n",
        "(0.0, 0.0, 1)"
       ]
      },
      {
       "output_type": "stream",
       "stream": "stdout",
       "text": [
        " 2014-11-22\n",
        "(0.0, 0.0, 6)"
       ]
      },
      {
       "output_type": "stream",
       "stream": "stdout",
       "text": [
        " 2014-11-22\n",
        "(0.23570226039551587, 0.0, 4)"
       ]
      },
      {
       "output_type": "stream",
       "stream": "stdout",
       "text": [
        " 2014-11-23\n",
        "(0.57735026918962584, 0.33333333333333331, 6)"
       ]
      },
      {
       "output_type": "stream",
       "stream": "stdout",
       "text": [
        " 2014-11-23\n",
        "(0.11547005383792516, 0.33333333333333331, 6)"
       ]
      },
      {
       "output_type": "stream",
       "stream": "stdout",
       "text": [
        " 2014-11-23\n",
        "(1.0, 1.0, 4)"
       ]
      },
      {
       "output_type": "stream",
       "stream": "stdout",
       "text": [
        " 2014-11-23\n",
        "(0.91287092917527701, 0.33333333333333331, 4)"
       ]
      },
      {
       "output_type": "stream",
       "stream": "stdout",
       "text": [
        " 2014-11-23\n",
        "(0.81649658092772615, 0.80952380952380953, 7)"
       ]
      },
      {
       "output_type": "stream",
       "stream": "stdout",
       "text": [
        " 2014-11-23\n",
        "(0.0, 0.0, 1)"
       ]
      },
      {
       "output_type": "stream",
       "stream": "stdout",
       "text": [
        " 2014-11-23\n",
        "(0.94868329805051377, 0.79999999999999982, 5)"
       ]
      },
      {
       "output_type": "stream",
       "stream": "stdout",
       "text": [
        " 2014-11-23\n",
        "(-0.11952286093343933, 0.0, 5)"
       ]
      },
      {
       "output_type": "stream",
       "stream": "stdout",
       "text": [
        " 2014-11-23\n",
        "(0.72532356648207419, 0.66666666666666663, 9)"
       ]
      },
      {
       "output_type": "stream",
       "stream": "stdout",
       "text": [
        " 2014-11-23\n",
        "(0.63245553203367577, 0.59999999999999987, 5)"
       ]
      },
      {
       "output_type": "stream",
       "stream": "stdout",
       "text": [
        " 2014-11-23\n",
        "(0.0, -0.33333333333333326, 3)"
       ]
      },
      {
       "output_type": "stream",
       "stream": "stdout",
       "text": [
        " 2014-11-23\n",
        "(0.72786026424261063, 0.62925320496569259, 10)"
       ]
      },
      {
       "output_type": "stream",
       "stream": "stdout",
       "text": [
        " 2014-11-23\n",
        "(0.59237834711946313, 0.53039483530543685, 14)"
       ]
      },
      {
       "output_type": "stream",
       "stream": "stdout",
       "text": [
        " 2014-11-23\n",
        "(-1.0, -1.0, 2)"
       ]
      },
      {
       "output_type": "stream",
       "stream": "stdout",
       "text": [
        " 2014-11-23\n",
        "(0.48809353009197631, 0.0, 7)"
       ]
      },
      {
       "output_type": "stream",
       "stream": "stdout",
       "text": [
        " 2014-11-23\n",
        "(-0.81649658092772615, -1.0, 4)"
       ]
      },
      {
       "output_type": "stream",
       "stream": "stdout",
       "text": [
        " 2014-11-23\n",
        "(0.4763305116224667, 0.047619047619047616, 7)"
       ]
      },
      {
       "output_type": "stream",
       "stream": "stdout",
       "text": [
        " 2014-11-23\n",
        "(0.47178209756024825, 0.40311288741492751, 15)"
       ]
      },
      {
       "output_type": "stream",
       "stream": "stdout",
       "text": [
        " 2014-11-23\n",
        "(0.0, 0.14679516868351472, 11)"
       ]
      },
      {
       "output_type": "stream",
       "stream": "stdout",
       "text": [
        " 2014-11-23\n",
        "(0.81649658092772615, 0.99999999999999989, 3)"
       ]
      },
      {
       "output_type": "stream",
       "stream": "stdout",
       "text": [
        " 2014-11-23\n",
        "(0.0, -1.0, 2)"
       ]
      },
      {
       "output_type": "stream",
       "stream": "stdout",
       "text": [
        " 2014-11-23\n",
        "(0.0, 0.44276099200053293, 12)"
       ]
      },
      {
       "output_type": "stream",
       "stream": "stdout",
       "text": [
        " 2014-11-23\n",
        "(0.0, 0.25458753860865774, 8)"
       ]
      },
      {
       "output_type": "stream",
       "stream": "stdout",
       "text": [
        " 2014-11-23\n",
        "(0.0, 0.81292014419570224, 13)"
       ]
      },
      {
       "output_type": "stream",
       "stream": "stdout",
       "text": [
        " 2014-11-23\n",
        "(0.0, 0.58554004376911994, 7)"
       ]
      },
      {
       "output_type": "stream",
       "stream": "stdout",
       "text": [
        " 2014-11-23\n",
        "(0.0, 0.16806722689075626, 16)"
       ]
      },
      {
       "output_type": "stream",
       "stream": "stdout",
       "text": [
        " 2014-11-23\n",
        "(0.41902624070313926, 0.3669879217087868, 11)"
       ]
      },
      {
       "output_type": "stream",
       "stream": "stdout",
       "text": [
        " 2014-11-23\n",
        "(0.090721842325302893, 0.036369648372665389, 8)"
       ]
      },
      {
       "output_type": "stream",
       "stream": "stdout",
       "text": [
        " 2014-11-23\n",
        "(0.0, 0.54554472558998091, 8)"
       ]
      },
      {
       "output_type": "stream",
       "stream": "stdout",
       "text": [
        " 2014-11-23\n",
        "(0.0, 0.35714285714285721, 6)"
       ]
      },
      {
       "output_type": "stream",
       "stream": "stdout",
       "text": [
        " 2014-11-23\n",
        "(0.0, 0.39036002917941331, 7)"
       ]
      },
      {
       "output_type": "stream",
       "stream": "stdout",
       "text": [
        " 2014-11-23\n",
        "(0.0, 0.0, 7)"
       ]
      },
      {
       "output_type": "stream",
       "stream": "stdout",
       "text": [
        " 2014-11-23\n",
        "(0.0, 0.25458753860865774, 8)"
       ]
      },
      {
       "output_type": "stream",
       "stream": "stdout",
       "text": [
        " 2014-11-23\n",
        "(0.38005847503304613, 0.50829505050104362, 14)"
       ]
      },
      {
       "output_type": "stream",
       "stream": "stdout",
       "text": [
        " 2014-11-23\n",
        "(0.0, 0.15217391304347822, 22)"
       ]
      },
      {
       "output_type": "stream",
       "stream": "stdout",
       "text": [
        " 2014-11-28\n",
        "(0.0, 0.46299810246679307, 33)"
       ]
      },
      {
       "output_type": "stream",
       "stream": "stdout",
       "text": [
        " 2014-11-28\n",
        "(0.0092767731347413868, 0.52030134015674656, 37)"
       ]
      },
      {
       "output_type": "stream",
       "stream": "stdout",
       "text": [
        " 2014-11-28\n",
        "(-0.013393711360872675, 0.52879460518662724, 66)"
       ]
      },
      {
       "output_type": "stream",
       "stream": "stdout",
       "text": [
        " 2014-11-28\n",
        "(0.46570013793444631, 0.69283038599657798, 52)"
       ]
      },
      {
       "output_type": "stream",
       "stream": "stdout",
       "text": [
        " 2014-11-28\n",
        "(0.40649340666060935, 0.48059560241786248, 80)"
       ]
      },
      {
       "output_type": "stream",
       "stream": "stdout",
       "text": [
        " 2014-11-28\n",
        "(0.51542594781643647, 0.54036598879496145, 92)"
       ]
      },
      {
       "output_type": "stream",
       "stream": "stdout",
       "text": [
        " 2014-11-28\n",
        "(0.39738820598687524, 0.5864512603509231, 45)"
       ]
      },
      {
       "output_type": "stream",
       "stream": "stdout",
       "text": [
        " 2014-11-28\n",
        "(0.81649658092772615, 0.99999999999999989, 3)"
       ]
      },
      {
       "output_type": "stream",
       "stream": "stdout",
       "text": [
        " 2014-11-28\n",
        "(0.66666666666666652, 0.94868329805051377, 5)"
       ]
      },
      {
       "output_type": "stream",
       "stream": "stdout",
       "text": [
        " 2014-11-28\n",
        "(0.75592894601845451, 0.82807867121082523, 6)"
       ]
      },
      {
       "output_type": "stream",
       "stream": "stdout",
       "text": [
        " 2014-11-28\n",
        "(0.43082021842766449, 0.58718067473405888, 11)"
       ]
      },
      {
       "output_type": "stream",
       "stream": "stdout",
       "text": [
        " 2014-11-28\n",
        "(0.39368111183261667, 0.76555900235095264, 15)"
       ]
      },
      {
       "output_type": "stream",
       "stream": "stdout",
       "text": [
        " 2014-11-28\n",
        "(0.57833410230923299, 0.76355928016567431, 22)"
       ]
      },
      {
       "output_type": "stream",
       "stream": "stdout",
       "text": [
        " 2014-11-28\n",
        "(1.0, 1.0, 2)"
       ]
      },
      {
       "output_type": "stream",
       "stream": "stdout",
       "text": [
        " 2014-11-28\n",
        "(0.10475656017578482, 0.61111111111111105, 11)"
       ]
      },
      {
       "output_type": "stream",
       "stream": "stdout",
       "text": [
        " 2014-11-29\n",
        "(0.0, 0.0, 1)"
       ]
      },
      {
       "output_type": "stream",
       "stream": "stdout",
       "text": [
        " 2014-11-29\n",
        "(0.0, 0.55205244747388349, 6)"
       ]
      },
      {
       "output_type": "stream",
       "stream": "stdout",
       "text": [
        " 2014-11-29\n",
        "(0.0, -0.15386436372416604, 12)"
       ]
      },
      {
       "output_type": "stream",
       "stream": "stdout",
       "text": [
        " 2014-11-29\n",
        "(0.50990195135927874, 0.44199569608786399, 14)"
       ]
      },
      {
       "output_type": "stream",
       "stream": "stdout",
       "text": [
        " 2014-11-29\n",
        "(0.58386336804921235, 0.55210836882541492, 36)"
       ]
      },
      {
       "output_type": "stream",
       "stream": "stdout",
       "text": [
        " 2014-11-29\n",
        "(0.13263707095903693, 0.49836333439760139, 18)"
       ]
      },
      {
       "output_type": "stream",
       "stream": "stdout",
       "text": [
        " 2014-11-29\n",
        "(0.40832097777690485, 0.4213524198914585, 38)"
       ]
      },
      {
       "output_type": "stream",
       "stream": "stdout",
       "text": [
        " 2014-11-29\n",
        "(0.81649658092772603, 0.52704627669472992, 5)"
       ]
      },
      {
       "output_type": "stream",
       "stream": "stdout",
       "text": [
        " 2014-11-29\n",
        "(0.43643578047198478, 0.53526436132806043, 9)"
       ]
      },
      {
       "output_type": "stream",
       "stream": "stdout",
       "text": [
        " 2014-11-30\n",
        "(0.0, -1.0, 2)"
       ]
      },
      {
       "output_type": "stream",
       "stream": "stdout",
       "text": [
        " 2014-11-30\n",
        "(0.0, -0.18184824186332696, 8)"
       ]
      },
      {
       "output_type": "stream",
       "stream": "stdout",
       "text": [
        " 2014-11-30\n",
        "(0.54423580292234597, 0.55921052631578949, 18)"
       ]
      },
      {
       "output_type": "stream",
       "stream": "stdout",
       "text": [
        " 2014-11-30\n",
        "(0.3050695435482863, 0.62387946690493756, 11)"
       ]
      },
      {
       "output_type": "stream",
       "stream": "stdout",
       "text": [
        " 2014-12-05\n",
        "(0.59448576194494074, 0.67664026389106935, 30)"
       ]
      },
      {
       "output_type": "stream",
       "stream": "stdout",
       "text": [
        " 2014-12-05\n",
        "(0.80178372573727319, 0.27602622373694174, 6)"
       ]
      },
      {
       "output_type": "stream",
       "stream": "stdout",
       "text": [
        " 2014-12-05\n",
        "(0.0, 0.65963290298052413, 20)"
       ]
      },
      {
       "output_type": "stream",
       "stream": "stdout",
       "text": [
        " 2014-12-06\n",
        "(0.0, 0.57478253018019232, 19)"
       ]
      },
      {
       "output_type": "stream",
       "stream": "stdout",
       "text": [
        " 2014-12-06\n",
        "(0.0, -0.62994078834871203, 5)"
       ]
      },
      {
       "output_type": "stream",
       "stream": "stdout",
       "text": [
        " 2014-12-06\n",
        "(0.61288283585049275, 0.61055696931556958, 27)"
       ]
      },
      {
       "output_type": "stream",
       "stream": "stdout",
       "text": [
        " 2014-12-06\n",
        "(0.35856858280031817, 0.69006555934235436, 6)"
       ]
      },
      {
       "output_type": "stream",
       "stream": "stdout",
       "text": [
        " 2014-12-06\n",
        "(0.59761430466719689, 0.55205244747388349, 6)"
       ]
      },
      {
       "output_type": "stream",
       "stream": "stdout",
       "text": [
        " 2014-12-07\n",
        "(0.69388866648871106, 0.40006613209931929, 8)"
       ]
      },
      {
       "output_type": "stream",
       "stream": "stdout",
       "text": [
        " 2014-12-07\n",
        "(0.82443453814860779, 0.6461538461538463, 12)"
       ]
      },
      {
       "output_type": "stream",
       "stream": "stdout",
       "text": [
        " 2014-12-07\n",
        "(0.089087080637474794, 0.071428571428571452, 6)"
       ]
      },
      {
       "output_type": "stream",
       "stream": "stdout",
       "text": [
        " 2014-12-12\n",
        "(0.81649658092772615, 0.99999999999999989, 3)"
       ]
      },
      {
       "output_type": "stream",
       "stream": "stdout",
       "text": [
        " 2014-12-12\n",
        "(1.0, 1.0, 2)"
       ]
      },
      {
       "output_type": "stream",
       "stream": "stdout",
       "text": [
        " 2014-12-12\n",
        "(0.81649658092772615, 0.99999999999999989, 3)"
       ]
      },
      {
       "output_type": "stream",
       "stream": "stdout",
       "text": [
        " 2014-12-12\n",
        "(0.0, 0.0, 1)"
       ]
      },
      {
       "output_type": "stream",
       "stream": "stdout",
       "text": [
        " 2014-12-12\n",
        "(0.0, 0.0, 5)"
       ]
      },
      {
       "output_type": "stream",
       "stream": "stdout",
       "text": [
        " 2014-12-12\n",
        "(0.0, -1.0, 2)"
       ]
      },
      {
       "output_type": "stream",
       "stream": "stdout",
       "text": [
        " 2014-12-12\n",
        "(-1.0, -1.0, 2)"
       ]
      },
      {
       "output_type": "stream",
       "stream": "stdout",
       "text": [
        " 2014-12-12\n",
        "(0.81649658092772615, 0.33333333333333326, 3)"
       ]
      },
      {
       "output_type": "stream",
       "stream": "stdout",
       "text": [
        " 2014-12-12\n",
        "(0.23145502494313788, 0.27602622373694174, 6)"
       ]
      },
      {
       "output_type": "stream",
       "stream": "stdout",
       "text": [
        " 2014-12-13\n",
        "(0.56270395876266399, 0.58065724585407308, 13)"
       ]
      },
      {
       "output_type": "stream",
       "stream": "stdout",
       "text": [
        " 2014-12-13\n",
        "(0.0, 0.0075485135609639721, 17)"
       ]
      },
      {
       "output_type": "stream",
       "stream": "stdout",
       "text": [
        " 2014-12-13\n",
        "(0.098050276216525664, 0.22818481806519444, 30)"
       ]
      },
      {
       "output_type": "stream",
       "stream": "stdout",
       "text": [
        " 2014-12-13\n",
        "(0.083659310176281865, 0.27055798098367295, 20)"
       ]
      },
      {
       "output_type": "stream",
       "stream": "stdout",
       "text": [
        " 2014-12-13\n",
        "(0.66666666666666652, 0.94868329805051377, 5)"
       ]
      },
      {
       "output_type": "stream",
       "stream": "stdout",
       "text": [
        " 2014-12-13\n",
        "(0.0, -0.33333333333333326, 3)"
       ]
      },
      {
       "output_type": "stream",
       "stream": "stdout",
       "text": [
        " 2014-12-13\n",
        "(0.0, 0.31622776601683794, 5)"
       ]
      },
      {
       "output_type": "stream",
       "stream": "stdout",
       "text": [
        " 2014-12-13\n",
        "(0.54772255750516619, 0.68313005106397329, 7)"
       ]
      },
      {
       "output_type": "stream",
       "stream": "stdout",
       "text": [
        " 2014-12-13\n",
        "(0.88191710368819687, 0.94868329805051377, 5)"
       ]
      },
      {
       "output_type": "stream",
       "stream": "stdout",
       "text": [
        " 2014-12-13\n",
        "(0.54031713359518019, 0.44079901323976539, 18)"
       ]
      },
      {
       "output_type": "stream",
       "stream": "stdout",
       "text": [
        " 2014-12-13\n",
        "(0.6425434242425252, 0.68074115587590089, 20)"
       ]
      },
      {
       "output_type": "stream",
       "stream": "stdout",
       "text": [
        " 2014-12-13\n",
        "(0.60974984362021101, 0.74642002729217882, 15)"
       ]
      },
      {
       "output_type": "stream",
       "stream": "stdout",
       "text": [
        " 2014-12-13\n",
        "(0.47140452079103173, 0.30792014356780029, 17)"
       ]
      },
      {
       "output_type": "stream",
       "stream": "stdout",
       "text": [
        " 2014-12-13\n",
        "(0.0, 0.0, 2)"
       ]
      },
      {
       "output_type": "stream",
       "stream": "stdout",
       "text": [
        " 2014-12-13\n",
        "(0.0, -0.43643578047198478, 9)"
       ]
      },
      {
       "output_type": "stream",
       "stream": "stdout",
       "text": [
        " 2014-12-13\n",
        "(0.0, 0.40242181829276696, 12)"
       ]
      },
      {
       "output_type": "stream",
       "stream": "stdout",
       "text": [
        " 2014-12-13\n",
        "(0.56800857815350558, 0.43403952975542837, 11)"
       ]
      },
      {
       "output_type": "stream",
       "stream": "stdout",
       "text": [
        " 2014-12-13\n",
        "(0.69126037720305455, 0.81417368409866198, 10)"
       ]
      },
      {
       "output_type": "stream",
       "stream": "stdout",
       "text": [
        " 2014-12-13\n",
        "(0.0, 0.4105589501287088, 19)"
       ]
      },
      {
       "output_type": "stream",
       "stream": "stdout",
       "text": [
        " 2014-12-13\n",
        "(0.0, 0.34017741582093014, 19)"
       ]
      },
      {
       "output_type": "stream",
       "stream": "stdout",
       "text": [
        " 2014-12-13\n",
        "(0.0, 0.030769230769230774, 12)"
       ]
      },
      {
       "output_type": "stream",
       "stream": "stdout",
       "text": [
        " 2014-12-13\n",
        "(0.0, 0.097590007294853329, 7)"
       ]
      },
      {
       "output_type": "stream",
       "stream": "stdout",
       "text": [
        " 2014-12-13\n",
        "(0.0, 0.30622360094038104, 15)"
       ]
      },
      {
       "output_type": "stream",
       "stream": "stdout",
       "text": [
        " 2014-12-13\n",
        "(0.55470019622522904, 0.63158617693953589, 15)"
       ]
      },
      {
       "output_type": "stream",
       "stream": "stdout",
       "text": [
        " 2014-12-13\n",
        "(0.0, 0.99999999999999989, 3)"
       ]
      },
      {
       "output_type": "stream",
       "stream": "stdout",
       "text": [
        " 2014-12-13\n",
        "(0.67567981313381209, 0.48619526569665039, 14)"
       ]
      },
      {
       "output_type": "stream",
       "stream": "stdout",
       "text": [
        " 2014-12-13\n",
        "(0.0, 0.18184824186332696, 8)"
       ]
      },
      {
       "output_type": "stream",
       "stream": "stdout",
       "text": [
        " 2014-12-13\n",
        "(0.38712761654045053, 0.7112192093352796, 21)"
       ]
      },
      {
       "output_type": "stream",
       "stream": "stdout",
       "text": [
        " 2014-12-13\n",
        "(0.04417261042993862, 0.31954383440814854, 27)"
       ]
      },
      {
       "output_type": "stream",
       "stream": "stdout",
       "text": [
        " 2014-12-13\n",
        "(0.6167156791937396, 0.66827884250708014, 46)"
       ]
      },
      {
       "output_type": "stream",
       "stream": "stdout",
       "text": [
        " 2014-12-13\n",
        "(0.78127435026987135, 0.52904326844482208, 13)"
       ]
      },
      {
       "output_type": "stream",
       "stream": "stdout",
       "text": [
        " 2014-12-13\n",
        "(0.55997925024579354, 0.54118305690029955, 52)"
       ]
      },
      {
       "output_type": "stream",
       "stream": "stdout",
       "text": [
        " 2014-12-13\n",
        "(0.81649658092772615, 0.33333333333333326, 3)"
       ]
      },
      {
       "output_type": "stream",
       "stream": "stdout",
       "text": [
        " 2014-12-13\n",
        "(0.81649658092772615, 0.33333333333333326, 3)"
       ]
      },
      {
       "output_type": "stream",
       "stream": "stdout",
       "text": [
        " 2014-12-13\n",
        "(0.81649658092772615, 0.99999999999999989, 3)"
       ]
      },
      {
       "output_type": "stream",
       "stream": "stdout",
       "text": [
        " 2014-12-13\n",
        "(0.33333333333333326, 0.99999999999999989, 3)"
       ]
      },
      {
       "output_type": "stream",
       "stream": "stdout",
       "text": [
        " 2014-12-13\n",
        "(0.0, 0.0, 5)"
       ]
      },
      {
       "output_type": "stream",
       "stream": "stdout",
       "text": [
        " 2014-12-13\n",
        "(0.0, -0.39477101697586142, 13)"
       ]
      },
      {
       "output_type": "stream",
       "stream": "stdout",
       "text": [
        " 2014-12-13\n",
        "(0.0, 0.0, 7)"
       ]
      },
      {
       "output_type": "stream",
       "stream": "stdout",
       "text": [
        " 2014-12-13\n",
        "(0.0, 0.0, 11)"
       ]
      },
      {
       "output_type": "stream",
       "stream": "stdout",
       "text": [
        " 2014-12-13\n",
        "(0.0, 0.0, 8)"
       ]
      },
      {
       "output_type": "stream",
       "stream": "stdout",
       "text": [
        " 2014-12-13\n",
        "(0.0, 0.0, 11)"
       ]
      },
      {
       "output_type": "stream",
       "stream": "stdout",
       "text": [
        " 2014-12-13\n",
        "(0.17817416127494959, 0.27602622373694174, 6)"
       ]
      },
      {
       "output_type": "stream",
       "stream": "stdout",
       "text": [
        " 2014-12-14\n",
        "(0.0, -0.27602622373694174, 6)"
       ]
      },
      {
       "output_type": "stream",
       "stream": "stdout",
       "text": [
        " 2014-12-14\n",
        "(0.88640526042791823, 0.82807867121082523, 6)"
       ]
      },
      {
       "output_type": "stream",
       "stream": "stdout",
       "text": [
        " 2014-12-14\n",
        "(0.60302268915552737, 0.58430654746814314, 10)"
       ]
      },
      {
       "output_type": "stream",
       "stream": "stdout",
       "text": [
        " 2014-12-14\n",
        "(0.54772255750516619, 0.0, 4)"
       ]
      },
      {
       "output_type": "stream",
       "stream": "stdout",
       "text": [
        " 2014-12-14\n",
        "(0.57735026918962584, 0.33333333333333331, 6)"
       ]
      },
      {
       "output_type": "stream",
       "stream": "stdout",
       "text": [
        " 2014-12-14\n",
        "(0.42700841014689916, 0.69102331908064241, 8)"
       ]
      },
      {
       "output_type": "stream",
       "stream": "stdout",
       "text": [
        " 2014-12-14\n",
        "(0.83666002653407534, 0.39999999999999991, 5)"
       ]
      },
      {
       "output_type": "stream",
       "stream": "stdout",
       "text": [
        " 2014-12-14\n",
        "(0.63245553203367577, 0.0, 5)"
       ]
      },
      {
       "output_type": "stream",
       "stream": "stdout",
       "text": [
        " 2014-12-14\n",
        "(-0.19738550848793071, 0.61904761904761907, 7)"
       ]
      },
      {
       "output_type": "stream",
       "stream": "stdout",
       "text": [
        " 2014-12-14\n",
        "(0.10000000000000003, 0.5, 9)"
       ]
      },
      {
       "output_type": "stream",
       "stream": "stdout",
       "text": [
        " 2014-12-14\n",
        "(0.99999999999999989, 0.99999999999999989, 3)"
       ]
      },
      {
       "output_type": "stream",
       "stream": "stdout",
       "text": [
        " 2014-12-14\n",
        "(0.81649658092772615, 0.99999999999999989, 3)"
       ]
      },
      {
       "output_type": "stream",
       "stream": "stdout",
       "text": [
        " 2014-12-14\n",
        "(0.99999999999999989, 0.99999999999999989, 3)"
       ]
      },
      {
       "output_type": "stream",
       "stream": "stdout",
       "text": [
        " 2014-12-14\n",
        "(0.54772255750516619, 0.66666666666666663, 4)"
       ]
      },
      {
       "output_type": "stream",
       "stream": "stdout",
       "text": [
        " 2014-12-14\n",
        "(-0.40000000000000008, -0.18257418583505539, 4)"
       ]
      },
      {
       "output_type": "stream",
       "stream": "stdout",
       "text": [
        " 2014-12-14\n",
        "(0.0, 0.21428571428571433, 6)"
       ]
      },
      {
       "output_type": "stream",
       "stream": "stdout",
       "text": [
        " 2014-12-14\n",
        "(0.51434449987363962, 0.61904761904761907, 7)"
       ]
      },
      {
       "output_type": "stream",
       "stream": "stdout",
       "text": [
        " 2014-12-14\n",
        "(0.0, 0.59999999999999987, 5)"
       ]
      },
      {
       "output_type": "stream",
       "stream": "stdout",
       "text": [
        " 2014-12-14\n",
        "(0.19999999999999996, 0.19999999999999996, 5)"
       ]
      },
      {
       "output_type": "stream",
       "stream": "stdout",
       "text": [
        " 2014-12-14\n",
        "(1.0, 1.0, 2)"
       ]
      },
      {
       "output_type": "stream",
       "stream": "stdout",
       "text": [
        " 2014-12-14\n",
        "(0.0, 0.0, 3)"
       ]
      },
      {
       "output_type": "stream",
       "stream": "stdout",
       "text": [
        " 2014-12-14\n",
        "(0.91287092917527701, 0.0, 4)"
       ]
      },
      {
       "output_type": "stream",
       "stream": "stdout",
       "text": [
        " 2014-12-14\n",
        "(0.46656947481584349, 0.52380952380952384, 7)"
       ]
      },
      {
       "output_type": "stream",
       "stream": "stdout",
       "text": [
        " 2014-12-14\n",
        "(0.7937253933193773, 0.6428571428571429, 8)"
       ]
      },
      {
       "output_type": "stream",
       "stream": "stdout",
       "text": [
        " 2014-12-14\n",
        "(0.38924947208076138, 0.73333333333333328, 6)"
       ]
      },
      {
       "output_type": "stream",
       "stream": "stdout",
       "text": [
        " 2014-12-14\n",
        "(0.66666666666666663, -0.33333333333333331, 4)"
       ]
      },
      {
       "output_type": "stream",
       "stream": "stdout",
       "text": [
        " 2014-12-14\n",
        "(0.70641725710135683, 0.76376261582597327, 8)"
       ]
      },
      {
       "output_type": "stream",
       "stream": "stdout",
       "text": [
        " 2014-12-14\n",
        "(0.35043832202523129, 0.61904761904761907, 7)"
       ]
      },
      {
       "output_type": "stream",
       "stream": "stdout",
       "text": [
        " 2014-12-14\n",
        "(0.0, -0.15811388300841897, 7)"
       ]
      },
      {
       "output_type": "stream",
       "stream": "stdout",
       "text": [
        " 2014-12-14\n",
        "(0.0, 0.51378309039230152, 11)"
       ]
      },
      {
       "output_type": "stream",
       "stream": "stdout",
       "text": [
        " 2014-12-14\n",
        "(0.0, 0.25354627641855498, 9)"
       ]
      },
      {
       "output_type": "stream",
       "stream": "stdout",
       "text": [
        " 2014-12-14\n",
        "(0.54772255750516619, 0.29277002188455997, 7)"
       ]
      },
      {
       "output_type": "stream",
       "stream": "stdout",
       "text": [
        " 2014-12-14\n",
        "(0.0, 0.42257712736425829, 9)"
       ]
      },
      {
       "output_type": "stream",
       "stream": "stdout",
       "text": [
        " 2014-12-14\n",
        "(0.0, 0.0, 1)"
       ]
      },
      {
       "output_type": "stream",
       "stream": "stdout",
       "text": [
        " 2014-12-14\n",
        "(0.0, -1.0, 2)"
       ]
      },
      {
       "output_type": "stream",
       "stream": "stdout",
       "text": [
        " 2014-12-14\n",
        "(0.42310870827835589, 0.18698939800169134, 11)"
       ]
      },
      {
       "output_type": "stream",
       "stream": "stdout",
       "text": [
        " 2014-12-14\n",
        "(0.55701340165095514, 0.22019275302527208, 11)"
       ]
      },
      {
       "output_type": "stream",
       "stream": "stdout",
       "text": [
        " 2014-12-14\n",
        "(0.55910614468161024, 0.3632227453446662, 21)"
       ]
      },
      {
       "output_type": "stream",
       "stream": "stdout",
       "text": [
        " 2014-12-14\n",
        "(0.32972867688732671, 0.46154379560908243, 21)"
       ]
      },
      {
       "output_type": "stream",
       "stream": "stdout",
       "text": [
        " 2014-12-14\n",
        "(0.0, -1.0, 2)"
       ]
      },
      {
       "output_type": "stream",
       "stream": "stdout",
       "text": [
        " 2014-12-14\n",
        "(0.99999999999999989, 0.33333333333333326, 3)"
       ]
      },
      {
       "output_type": "stream",
       "stream": "stdout",
       "text": [
        " 2014-12-14\n",
        "(0.73786478737262184, 0.19999999999999996, 5)"
       ]
      },
      {
       "output_type": "stream",
       "stream": "stdout",
       "text": [
        " 2014-12-14\n",
        "(0.0, 0.55205244747388349, 6)"
       ]
      },
      {
       "output_type": "stream",
       "stream": "stdout",
       "text": [
        " 2014-12-14\n",
        "(0.43694361598643672, 0.55903156614969074, 32)"
       ]
      },
      {
       "output_type": "stream",
       "stream": "stdout",
       "text": [
        " 2014-12-19\n",
        "(0.0, 0.097590007294853329, 7)"
       ]
      },
      {
       "output_type": "stream",
       "stream": "stdout",
       "text": [
        " 2014-12-19\n",
        "(0.2302217852275816, 0.43384050009413316, 22)"
       ]
      },
      {
       "output_type": "stream",
       "stream": "stdout",
       "text": [
        " 2014-12-19\n",
        "(0.0, -0.2062356050006082, 21)"
       ]
      },
      {
       "output_type": "stream",
       "stream": "stdout",
       "text": [
        " 2014-12-19\n",
        "(0.0, 0.55980313826329953, 29)"
       ]
      },
      {
       "output_type": "stream",
       "stream": "stdout",
       "text": [
        " 2014-12-19\n",
        "(0.23014393758875593, 0.56081132287397628, 39)"
       ]
      },
      {
       "output_type": "stream",
       "stream": "stdout",
       "text": [
        " 2014-12-19\n",
        "(0.0, -0.33946736991660226, 9)"
       ]
      },
      {
       "output_type": "stream",
       "stream": "stdout",
       "text": [
        " 2014-12-19\n",
        "(0.0, 0.062507630791799398, 12)"
       ]
      },
      {
       "output_type": "stream",
       "stream": "stdout",
       "text": [
        " 2014-12-19\n",
        "(0.0, -0.04803844614152615, 12)"
       ]
      },
      {
       "output_type": "stream",
       "stream": "stdout",
       "text": [
        " 2014-12-19\n",
        "(0.0, 0.20000000000000001, 6)"
       ]
      },
      {
       "output_type": "stream",
       "stream": "stdout",
       "text": [
        " 2014-12-20\n",
        "(0.0, 0.41222575117290999, 12)"
       ]
      },
      {
       "output_type": "stream",
       "stream": "stdout",
       "text": [
        " 2014-12-20\n",
        "(0.55638285415399547, 0.68909996158913456, 16)"
       ]
      },
      {
       "output_type": "stream",
       "stream": "stdout",
       "text": [
        " 2014-12-20\n",
        "(0.3994455991791635, 0.64262640488111755, 18)"
       ]
      },
      {
       "output_type": "stream",
       "stream": "stdout",
       "text": [
        " 2014-12-20\n",
        "(0.6284431879440463, 0.68197087864934924, 18)"
       ]
      },
      {
       "output_type": "stream",
       "stream": "stdout",
       "text": [
        " 2014-12-20\n",
        "(0.70710678118654757, 0.33333333333333331, 4)"
       ]
      },
      {
       "output_type": "stream",
       "stream": "stdout",
       "text": [
        " 2014-12-20\n",
        "(0.0, 1.0, 2)"
       ]
      },
      {
       "output_type": "stream",
       "stream": "stdout",
       "text": [
        " 2014-12-20\n",
        "(1.0000000000000002, -0.18257418583505539, 4)"
       ]
      },
      {
       "output_type": "stream",
       "stream": "stdout",
       "text": [
        " 2014-12-20\n",
        "(0.48349377841522811, -0.13801311186847087, 6)"
       ]
      },
      {
       "output_type": "stream",
       "stream": "stdout",
       "text": [
        " 2014-12-20\n",
        "(0.07412493166611013, 0.41403933560541262, 6)"
       ]
      },
      {
       "output_type": "stream",
       "stream": "stdout",
       "text": [
        " 2014-12-20\n",
        "(0.0, 0.0, 2)"
       ]
      },
      {
       "output_type": "stream",
       "stream": "stdout",
       "text": [
        " 2014-12-20\n",
        "(0.0, 0.58554004376911994, 7)"
       ]
      },
      {
       "output_type": "stream",
       "stream": "stdout",
       "text": [
        " 2014-12-20\n",
        "(0.0, 0.41111111111111109, 14)"
       ]
      },
      {
       "output_type": "stream",
       "stream": "stdout",
       "text": [
        " 2014-12-20\n",
        "(0.0, 0.0, 3)"
       ]
      },
      {
       "output_type": "stream",
       "stream": "stdout",
       "text": [
        " 2014-12-20\n",
        "(0.0, 0.0, 3)"
       ]
      },
      {
       "output_type": "stream",
       "stream": "stdout",
       "text": [
        " 2014-12-20\n",
        "(0.0, 0.0, 3)"
       ]
      },
      {
       "output_type": "stream",
       "stream": "stdout",
       "text": [
        " 2014-12-20\n",
        "(0.83666002653407534, 0.99999999999999978, 5)"
       ]
      },
      {
       "output_type": "stream",
       "stream": "stdout",
       "text": [
        " 2014-12-20\n",
        "(0.72959726190522867, 0.65072515199830971, 15)"
       ]
      },
      {
       "output_type": "stream",
       "stream": "stdout",
       "text": [
        " 2014-12-20\n",
        "(0.49497474683058312, 0.58554004376911994, 7)"
       ]
      },
      {
       "output_type": "stream",
       "stream": "stdout",
       "text": [
        " 2014-12-20\n",
        "(0.0, 1.0, 2)"
       ]
      },
      {
       "output_type": "stream",
       "stream": "stdout",
       "text": [
        " 2014-12-20\n",
        "(0.84515425472851657, 0.7142857142857143, 7)"
       ]
      },
      {
       "output_type": "stream",
       "stream": "stdout",
       "text": [
        " 2014-12-20\n",
        "(0.77459666924148318, 0.79999999999999982, 5)"
       ]
      },
      {
       "output_type": "stream",
       "stream": "stdout",
       "text": [
        " 2014-12-20\n",
        "(0.57800597669133935, 0.5393598899705937, 10)"
       ]
      },
      {
       "output_type": "stream",
       "stream": "stdout",
       "text": [
        " 2014-12-20\n",
        "(0.7745966692414834, 0.54772255750516619, 4)"
       ]
      },
      {
       "output_type": "stream",
       "stream": "stdout",
       "text": [
        " 2014-12-20\n",
        "(0.0, 0.0, 1)"
       ]
      },
      {
       "output_type": "stream",
       "stream": "stdout",
       "text": [
        " 2014-12-20\n",
        "(0.0, 0.0, 1)"
       ]
      },
      {
       "output_type": "stream",
       "stream": "stdout",
       "text": [
        " 2014-12-20\n",
        "(0.0, 0.0, 1)"
       ]
      },
      {
       "output_type": "stream",
       "stream": "stdout",
       "text": [
        " 2014-12-20\n",
        "(0.0, 0.99999999999999989, 3)"
       ]
      },
      {
       "output_type": "stream",
       "stream": "stdout",
       "text": [
        " 2014-12-20\n",
        "(0.0, 0.54605263157894735, 18)"
       ]
      },
      {
       "output_type": "stream",
       "stream": "stdout",
       "text": [
        " 2014-12-21\n",
        "(0.32539568672798408, 0.3753681829748195, 19)"
       ]
      },
      {
       "output_type": "stream",
       "stream": "stdout",
       "text": [
        " 2014-12-21\n",
        "(0.0, 0.51668490644422216, 31)"
       ]
      },
      {
       "output_type": "stream",
       "stream": "stdout",
       "text": [
        " 2014-12-21\n",
        "(0.4188410288959652, 0.5335761963508614, 24)"
       ]
      },
      {
       "output_type": "stream",
       "stream": "stdout",
       "text": [
        " 2014-12-21\n",
        "(0.49432427344924679, 0.58540272403449112, 37)"
       ]
      },
      {
       "output_type": "stream",
       "stream": "stdout",
       "text": [
        " 2014-12-21\n",
        "(0.0, 0.67419986246324204, 10)"
       ]
      },
      {
       "output_type": "stream",
       "stream": "stdout",
       "text": [
        " 2014-12-21\n",
        "(0.0, 0.55205244747388349, 6)"
       ]
      },
      {
       "output_type": "stream",
       "stream": "stdout",
       "text": [
        " 2014-12-21\n",
        "(0.59950121718117422, 0.4976133515281192, 15)"
       ]
      },
      {
       "output_type": "stream",
       "stream": "stdout",
       "text": [
        " 2014-12-21\n",
        "(0.37355454312035041, 0.30891149673914248, 23)"
       ]
      },
      {
       "output_type": "stream",
       "stream": "stdout",
       "text": [
        " 2014-12-21\n",
        "(0.29226064833588494, 0.45910450047444479, 20)"
       ]
      },
      {
       "output_type": "stream",
       "stream": "stdout",
       "text": [
        " 2014-12-21\n",
        "(0.80178372573727319, 0.69006555934235436, 6)"
       ]
      },
      {
       "output_type": "stream",
       "stream": "stdout",
       "text": [
        " 2014-12-21\n",
        "(0.0, 0.0, 4)"
       ]
      },
      {
       "output_type": "stream",
       "stream": "stdout",
       "text": [
        " 2014-12-21\n",
        "(0.0, -0.50917507721731547, 8)"
       ]
      },
      {
       "output_type": "stream",
       "stream": "stdout",
       "text": [
        " 2014-12-21\n",
        "(0.0, 0.0, 8)"
       ]
      },
      {
       "output_type": "stream",
       "stream": "stdout",
       "text": [
        " 2014-12-21\n",
        "(0.0, 0.0, 7)"
       ]
      },
      {
       "output_type": "stream",
       "stream": "stdout",
       "text": [
        " 2014-12-21\n",
        "(0.0, 0.0, 13)"
       ]
      },
      {
       "output_type": "stream",
       "stream": "stdout",
       "text": [
        " 2014-12-21\n",
        "(0.44474958999666075, 0.27602622373694174, 6)"
       ]
      },
      {
       "output_type": "stream",
       "stream": "stdout",
       "text": [
        " 2014-12-24\n",
        "(0.0, -0.071428571428571452, 6)"
       ]
      },
      {
       "output_type": "stream",
       "stream": "stdout",
       "text": [
        " 2014-12-26\n",
        "(0.82495791138430563, 0.61828402233531166, 8)"
       ]
      },
      {
       "output_type": "stream",
       "stream": "stdout",
       "text": [
        " 2014-12-27\n",
        "(0.0, -0.33658091640304461, 12)"
       ]
      },
      {
       "output_type": "stream",
       "stream": "stdout",
       "text": [
        " 2014-12-27\n",
        "(0.0, -0.27224556389190907, 19)"
       ]
      },
      {
       "output_type": "stream",
       "stream": "stdout",
       "text": [
        " 2014-12-27\n",
        "(0.0, 0.0, 15)"
       ]
      },
      {
       "output_type": "stream",
       "stream": "stdout",
       "text": [
        " 2014-12-27\n",
        "(0.4364357804719845, 0.014621148776883761, 20)"
       ]
      },
      {
       "output_type": "stream",
       "stream": "stdout",
       "text": [
        " 2014-12-27\n",
        "(0.1195621711995683, 0.62571428571428589, 27)"
       ]
      },
      {
       "output_type": "stream",
       "stream": "stdout",
       "text": [
        " 2014-12-28\n",
        "(0.48869385232037638, 0.58761837177265019, 54)"
       ]
      },
      {
       "output_type": "stream",
       "stream": "stdout",
       "text": [
        " 2014-12-28\n",
        "(0.36514837167011077, 0.25000000000000006, 7)"
       ]
      },
      {
       "output_type": "stream",
       "stream": "stdout",
       "text": [
        " 2014-12-28\n",
        "(0.7745966692414834, 0.91287092917527701, 4)"
       ]
      },
      {
       "output_type": "stream",
       "stream": "stdout",
       "text": [
        " 2014-12-29\n",
        "(1.0, -1.0, 2)"
       ]
      },
      {
       "output_type": "stream",
       "stream": "stdout",
       "text": [
        " 2014-12-30\n",
        "(0.54683170970896389, 0.79195076771878015, 25)"
       ]
      },
      {
       "output_type": "stream",
       "stream": "stdout",
       "text": [
        " 2014-12-31\n",
        "(0.60179347659407045, 0.48026315789473684, 18)"
       ]
      },
      {
       "output_type": "stream",
       "stream": "stdout",
       "text": [
        " 2015-01-01\n",
        "(0.44721359549995793, 0.73333333333333328, 6)"
       ]
      },
      {
       "output_type": "stream",
       "stream": "stdout",
       "text": [
        " 2015-01-01\n",
        "(0.63090709821514068, 0.50961538461538469, 15)"
       ]
      },
      {
       "output_type": "stream",
       "stream": "stdout",
       "text": [
        " 2015-01-01\n",
        "(0.059345613376108719, 0.3483943475124438, 13)"
       ]
      },
      {
       "output_type": "stream",
       "stream": "stdout",
       "text": [
        " 2015-01-02\n",
        "(0.39458247768411053, 0.2504541329810166, 24)"
       ]
      },
      {
       "output_type": "stream",
       "stream": "stdout",
       "text": [
        " 2015-01-02\n",
        "(0.40102208598815675, 0.44601435422051133, 32)"
       ]
      },
      {
       "output_type": "stream",
       "stream": "stdout",
       "text": [
        " 2015-01-02\n",
        "(0.4605773162440901, 0.41137459238322804, 33)"
       ]
      },
      {
       "output_type": "stream",
       "stream": "stdout",
       "text": [
        " 2015-01-02\n",
        "(0.30633942587241997, 0.17679827843514562, 14)"
       ]
      },
      {
       "output_type": "stream",
       "stream": "stdout",
       "text": [
        " 2015-01-02\n",
        "(0.089253257018856128, 0.35578567834237812, 15)"
       ]
      },
      {
       "output_type": "stream",
       "stream": "stdout",
       "text": [
        " 2015-01-02\n",
        "(0.44010474732368093, 0.5826873400945749, 43)"
       ]
      },
      {
       "output_type": "stream",
       "stream": "stdout",
       "text": [
        " 2015-01-02\n",
        "(0.55211779072409406, 0.54288625015980796, 32)"
       ]
      },
      {
       "output_type": "stream",
       "stream": "stdout",
       "text": [
        " 2015-01-02\n",
        "(0.28331529878993122, 0.32214946483475804, 25)"
       ]
      },
      {
       "output_type": "stream",
       "stream": "stdout",
       "text": [
        " 2015-01-02\n",
        "(0.0, 0.49454545454545434, 24)"
       ]
      },
      {
       "output_type": "stream",
       "stream": "stdout",
       "text": [
        " 2015-01-02\n",
        "(0.0, -0.036369648372665389, 8)"
       ]
      },
      {
       "output_type": "stream",
       "stream": "stdout",
       "text": [
        " 2015-01-02\n",
        "(0.0, 0.41391867719235809, 15)"
       ]
      },
      {
       "output_type": "stream",
       "stream": "stdout",
       "text": [
        " 2015-01-02\n",
        "(-0.091814629760977734, 0.34450155105792868, 15)"
       ]
      },
      {
       "output_type": "stream",
       "stream": "stdout",
       "text": [
        " 2015-01-02\n",
        "(0.46723234973355326, 0.28663859672016567, 31)"
       ]
      },
      {
       "output_type": "stream",
       "stream": "stdout",
       "text": [
        " 2015-01-02\n",
        "(0.0, -0.54772255750516619, 4)"
       ]
      },
      {
       "output_type": "stream",
       "stream": "stdout",
       "text": [
        " 2015-01-03\n",
        "(0.0, -1.0, 2)"
       ]
      },
      {
       "output_type": "stream",
       "stream": "stdout",
       "text": [
        " 2015-01-03\n",
        "(0.0, -1.0, 2)"
       ]
      },
      {
       "output_type": "stream",
       "stream": "stdout",
       "text": [
        " 2015-01-03\n",
        "(0.0, -1.0, 2)"
       ]
      },
      {
       "output_type": "stream",
       "stream": "stdout",
       "text": [
        " 2015-01-03\n",
        "(0.7363735392481271, 0.74545454545454526, 11)"
       ]
      },
      {
       "output_type": "stream",
       "stream": "stdout",
       "text": [
        " 2015-01-03\n",
        "(-0.099136319419321953, 0.76409317745834104, 10)"
       ]
      },
      {
       "output_type": "stream",
       "stream": "stdout",
       "text": [
        " 2015-01-03\n",
        "(0.50917507721731547, 0.76376261582597327, 8)"
       ]
      },
      {
       "output_type": "stream",
       "stream": "stdout",
       "text": [
        " 2015-01-03\n",
        "(0.0, 0.33333333333333326, 3)"
       ]
      },
      {
       "output_type": "stream",
       "stream": "stdout",
       "text": [
        " 2015-01-03\n",
        "(0.74315054146029347, 0.67419986246324204, 10)"
       ]
      },
      {
       "output_type": "stream",
       "stream": "stdout",
       "text": [
        " 2015-01-03\n",
        "(0.43212081072511244, 0.69102331908064241, 8)"
       ]
      },
      {
       "output_type": "stream",
       "stream": "stdout",
       "text": [
        " 2015-01-03\n",
        "(0.0, 0.61828402233531166, 8)"
       ]
      },
      {
       "output_type": "stream",
       "stream": "stdout",
       "text": [
        " 2015-01-03\n",
        "(0.60000000000000009, 0.54772255750516619, 4)"
       ]
      },
      {
       "output_type": "stream",
       "stream": "stdout",
       "text": [
        " 2015-01-03\n",
        "(0.7272928174912261, 0.72792178829193577, 34)"
       ]
      },
      {
       "output_type": "stream",
       "stream": "stdout",
       "text": [
        " 2015-01-03\n",
        "(0.0, -0.25000000000000006, 7)"
       ]
      },
      {
       "output_type": "stream",
       "stream": "stdout",
       "text": [
        " 2015-01-03\n",
        "(0.0, -0.32732683535398854, 8)"
       ]
      },
      {
       "output_type": "stream",
       "stream": "stdout",
       "text": [
        " 2015-01-03\n",
        "(0.58713656395198621, 0.1844747138778966, 15)"
       ]
      },
      {
       "output_type": "stream",
       "stream": "stdout",
       "text": [
        " 2015-01-03\n",
        "(0.22680460581325723, 0.76376261582597327, 8)"
       ]
      },
      {
       "output_type": "stream",
       "stream": "stdout",
       "text": [
        " 2015-01-03\n",
        "(0.54089872302625064, 0.084515425472851652, 9)"
       ]
      },
      {
       "output_type": "stream",
       "stream": "stdout",
       "text": [
        " 2015-01-03\n",
        "(0.62417494043018318, 0.58888888888888891, 14)"
       ]
      },
      {
       "output_type": "stream",
       "stream": "stdout",
       "text": [
        " 2015-01-03\n",
        "(0.0, 0.33333333333333326, 3)"
       ]
      },
      {
       "output_type": "stream",
       "stream": "stdout",
       "text": [
        " 2015-01-03\n",
        "(0.66666666666666663, 0.22222222222222218, 5)"
       ]
      },
      {
       "output_type": "stream",
       "stream": "stdout",
       "text": [
        " 2015-01-03\n",
        "(0.59761430466719689, 0.41403933560541262, 6)"
       ]
      },
      {
       "output_type": "stream",
       "stream": "stdout",
       "text": [
        " 2015-01-03\n",
        "(0.0, 0.10540925533894598, 5)"
       ]
      },
      {
       "output_type": "stream",
       "stream": "stdout",
       "text": [
        " 2015-01-03\n",
        "(0.0, 0.0, 4)"
       ]
      },
      {
       "output_type": "stream",
       "stream": "stdout",
       "text": [
        " 2015-01-03\n",
        "(0.24469421708585568, 0.74811340027676254, 12)"
       ]
      },
      {
       "output_type": "stream",
       "stream": "stdout",
       "text": [
        " 2015-01-03\n",
        "(0.46277250418426841, 0.32258735880781836, 13)"
       ]
      },
      {
       "output_type": "stream",
       "stream": "stdout",
       "text": [
        " 2015-01-03\n",
        "(0.36393013212130532, 0.62925320496569259, 10)"
       ]
      },
      {
       "output_type": "stream",
       "stream": "stdout",
       "text": [
        " 2015-01-03\n",
        "(0.67955000683408995, 0.60646423455869847, 13)"
       ]
      },
      {
       "output_type": "stream",
       "stream": "stdout",
       "text": [
        " 2015-01-03\n",
        "(0.0, 0.15811388300841897, 7)"
       ]
      },
      {
       "output_type": "stream",
       "stream": "stdout",
       "text": [
        " 2015-01-03\n",
        "(0.0, 0.4944132324730442, 10)"
       ]
      },
      {
       "output_type": "stream",
       "stream": "stdout",
       "text": [
        " 2015-01-04\n",
        "(0.0, 0.35978835978835971, 20)"
       ]
      },
      {
       "output_type": "stream",
       "stream": "stdout",
       "text": [
        " 2015-01-04\n",
        "(0.54653572500002112, 0.60646423455869847, 13)"
       ]
      },
      {
       "output_type": "stream",
       "stream": "stdout",
       "text": [
        " 2015-01-04\n",
        "(0.36369648372665392, 0.54554472558998091, 8)"
       ]
      },
      {
       "output_type": "stream",
       "stream": "stdout",
       "text": [
        " 2015-01-04\n",
        "(0.0, 0.58554004376911994, 7)"
       ]
      },
      {
       "output_type": "stream",
       "stream": "stdout",
       "text": [
        " 2015-01-08\n",
        "(0.45822535359401151, 0.22594340036404523, 16)"
       ]
      },
      {
       "output_type": "stream",
       "stream": "stdout",
       "text": [
        " 2015-01-08\n",
        "(0.0, -0.54772255750516619, 4)"
       ]
      },
      {
       "output_type": "stream",
       "stream": "stdout",
       "text": [
        " 2015-01-09\n",
        "(0.0, 0.10540925533894598, 5)"
       ]
      },
      {
       "output_type": "stream",
       "stream": "stdout",
       "text": [
        " 2015-01-09\n",
        "(0.0, -0.18257418583505539, 4)"
       ]
      },
      {
       "output_type": "stream",
       "stream": "stdout",
       "text": [
        " 2015-01-09\n",
        "(0.60941539361341501, 0.4370864761077739, 28)"
       ]
      },
      {
       "output_type": "stream",
       "stream": "stdout",
       "text": [
        " 2015-01-09\n",
        "(0.0, -0.036369648372665389, 8)"
       ]
      },
      {
       "output_type": "stream",
       "stream": "stdout",
       "text": [
        " 2015-01-09\n",
        "(0.0, -0.33333333333333326, 3)"
       ]
      },
      {
       "output_type": "stream",
       "stream": "stdout",
       "text": [
        " 2015-01-09\n",
        "(0.65346403921307117, 0.54554472558998091, 8)"
       ]
      },
      {
       "output_type": "stream",
       "stream": "stdout",
       "text": [
        " 2015-01-10\n",
        "(0.23210354127426375, 0.40451991747794525, 10)"
       ]
      },
      {
       "output_type": "stream",
       "stream": "stdout",
       "text": [
        " 2015-01-10\n",
        "(0.35856858280031817, 0.96609178307929611, 6)"
       ]
      },
      {
       "output_type": "stream",
       "stream": "stdout",
       "text": [
        " 2015-01-10\n",
        "(0.82495791138430552, 0.73786478737262184, 5)"
       ]
      },
      {
       "output_type": "stream",
       "stream": "stdout",
       "text": [
        " 2015-01-10\n",
        "(0.0, 0.10540925533894598, 5)"
       ]
      },
      {
       "output_type": "stream",
       "stream": "stdout",
       "text": [
        " 2015-01-10\n",
        "(0.54073807043587496, 0.3775959068825539, 19)"
       ]
      },
      {
       "output_type": "stream",
       "stream": "stdout",
       "text": [
        " 2015-01-10\n",
        "(0.33624220961891693, 0.29854071701326623, 19)"
       ]
      },
      {
       "output_type": "stream",
       "stream": "stdout",
       "text": [
        " 2015-01-10\n",
        "(0.0, 1.0, 2)"
       ]
      },
      {
       "output_type": "stream",
       "stream": "stdout",
       "text": [
        " 2015-01-11\n",
        "(0.67590683820881181, 0.57029814782610921, 23)"
       ]
      },
      {
       "output_type": "stream",
       "stream": "stdout",
       "text": [
        " 2015-01-11\n",
        "(0.0, -1.0, 2)"
       ]
      },
      {
       "output_type": "stream",
       "stream": "stdout",
       "text": [
        " 2015-01-11\n",
        "(0.0, 0.18257418583505539, 4)"
       ]
      },
      {
       "output_type": "stream",
       "stream": "stdout",
       "text": [
        " 2015-01-11\n",
        "(0.0, 0.58554004376911994, 7)"
       ]
      },
      {
       "output_type": "stream",
       "stream": "stdout",
       "text": [
        " 2015-01-15\n",
        "(0.0, 0.42257712736425829, 9)"
       ]
      },
      {
       "output_type": "stream",
       "stream": "stdout",
       "text": [
        " 2015-01-15\n",
        "(0.0, -0.13801311186847087, 6)"
       ]
      },
      {
       "output_type": "stream",
       "stream": "stdout",
       "text": [
        " 2015-01-15\n",
        "(0.70438038851229057, 0.59411764705882331, 19)"
       ]
      },
      {
       "output_type": "stream",
       "stream": "stdout",
       "text": [
        " 2015-01-15\n",
        "(-0.037062465833055079, 0.40191847623425014, 15)"
       ]
      },
      {
       "output_type": "stream",
       "stream": "stdout",
       "text": [
        " 2015-01-16\n",
        "(0.46159309117249769, 0.3595732599803958, 10)"
       ]
      },
      {
       "output_type": "stream",
       "stream": "stdout",
       "text": [
        " 2015-01-17\n",
        "(0.49499643433696533, 0.54466230936819204, 53)"
       ]
      },
      {
       "output_type": "stream",
       "stream": "stdout",
       "text": [
        " 2015-01-17\n",
        "(0.41909429745814752, 0.58060950738707517, 43)"
       ]
      },
      {
       "output_type": "stream",
       "stream": "stdout",
       "text": [
        " 2015-01-17\n",
        "(0.50956320532726718, 0.51008690299156678, 91)"
       ]
      },
      {
       "output_type": "stream",
       "stream": "stdout",
       "text": [
        " 2015-01-17\n",
        "(0.49361700089064203, 0.56886978115228992, 81)"
       ]
      },
      {
       "output_type": "stream",
       "stream": "stdout",
       "text": [
        " 2015-01-17\n",
        "(0.0, -0.73786478737262184, 5)"
       ]
      },
      {
       "output_type": "stream",
       "stream": "stdout",
       "text": [
        " 2015-01-17\n",
        "(0.54772255750516619, 0.35000000000000009, 7)"
       ]
      },
      {
       "output_type": "stream",
       "stream": "stdout",
       "text": [
        " 2015-01-17\n",
        "(0.2763920638229273, 0.50383147365577885, 12)"
       ]
      },
      {
       "output_type": "stream",
       "stream": "stdout",
       "text": [
        " 2015-01-17\n",
        "(0.31448545101657549, 0.18108981823174519, 15)"
       ]
      },
      {
       "output_type": "stream",
       "stream": "stdout",
       "text": [
        " 2015-01-17\n",
        "(0.23570226039551584, 0.51177356017279174, 19)"
       ]
      },
      {
       "output_type": "stream",
       "stream": "stdout",
       "text": [
        " 2015-01-17\n",
        "(0.15870392017163082, 0.60646423455869847, 13)"
       ]
      },
      {
       "output_type": "stream",
       "stream": "stdout",
       "text": [
        " 2015-01-17\n",
        "(0.45321249277851844, 0.54409979869604441, 29)"
       ]
      },
      {
       "output_type": "stream",
       "stream": "stdout",
       "text": [
        " 2015-01-17\n",
        "(0.80178372573727319, 0.78571428571428592, 6)"
       ]
      },
      {
       "output_type": "stream",
       "stream": "stdout",
       "text": [
        " 2015-01-17\n",
        "(0.0, 0.2581988897471611, 4)"
       ]
      },
      {
       "output_type": "stream",
       "stream": "stdout",
       "text": [
        " 2015-01-17\n",
        "(0.0, -0.91287092917527701, 4)"
       ]
      },
      {
       "output_type": "stream",
       "stream": "stdout",
       "text": [
        " 2015-01-17\n",
        "(0.0, 0.56490195531102483, 12)"
       ]
      },
      {
       "output_type": "stream",
       "stream": "stdout",
       "text": [
        " 2015-01-17\n",
        "(0.45226701686664544, 0.44946657497549475, 10)"
       ]
      },
      {
       "output_type": "stream",
       "stream": "stdout",
       "text": [
        " 2015-01-17\n",
        "(0.52489065916782374, 0.69727705124669492, 11)"
       ]
      },
      {
       "output_type": "stream",
       "stream": "stdout",
       "text": [
        " 2015-01-17\n",
        "(-0.027066598098038335, 0.47329623282815592, 12)"
       ]
      },
      {
       "output_type": "stream",
       "stream": "stdout",
       "text": [
        " 2015-01-17\n",
        "(0.0, 0.91287092917527701, 4)"
       ]
      },
      {
       "output_type": "stream",
       "stream": "stdout",
       "text": [
        " 2015-01-17\n",
        "(-0.1457788592249587, 0.73549917808182586, 13)"
       ]
      },
      {
       "output_type": "stream",
       "stream": "stdout",
       "text": [
        " 2015-01-17\n",
        "(0.54772255750516619, 0.68313005106397329, 7)"
       ]
      },
      {
       "output_type": "stream",
       "stream": "stdout",
       "text": [
        " 2015-01-17\n",
        "(0.7745966692414834, 0.54772255750516619, 4)"
       ]
      },
      {
       "output_type": "stream",
       "stream": "stdout",
       "text": [
        " 2015-01-17\n",
        "(0.0, -0.25000000000000006, 7)"
       ]
      },
      {
       "output_type": "stream",
       "stream": "stdout",
       "text": [
        " 2015-01-17\n",
        "(0.70710678118654735, 0.58554004376911994, 7)"
       ]
      },
      {
       "output_type": "stream",
       "stream": "stdout",
       "text": [
        " 2015-01-17\n",
        "(0.77890430682588963, 0.61363636363636376, 10)"
       ]
      },
      {
       "output_type": "stream",
       "stream": "stdout",
       "text": [
        " 2015-01-17\n",
        "(0.52727438589246667, 0.3742013362170693, 13)"
       ]
      },
      {
       "output_type": "stream",
       "stream": "stdout",
       "text": [
        " 2015-01-17\n",
        "(0.11306675421666137, 0.52313883666216454, 12)"
       ]
      },
      {
       "output_type": "stream",
       "stream": "stdout",
       "text": [
        " 2015-01-17\n",
        "(0.30860669992418388, 0.69006555934235436, 6)"
       ]
      },
      {
       "output_type": "stream",
       "stream": "stdout",
       "text": [
        " 2015-01-17\n",
        "(0.34045882057130061, 0.69727705124669492, 11)"
       ]
      },
      {
       "output_type": "stream",
       "stream": "stdout",
       "text": [
        " 2015-01-17\n",
        "(0.0, 0.27602622373694174, 6)"
       ]
      },
      {
       "output_type": "stream",
       "stream": "stdout",
       "text": [
        " 2015-01-17\n",
        "(0.50917507721731547, 0.46188021535170054, 8)"
       ]
      },
      {
       "output_type": "stream",
       "stream": "stdout",
       "text": [
        " 2015-01-17\n",
        "(0.72067730548246511, 0.69080442373396067, 18)"
       ]
      },
      {
       "output_type": "stream",
       "stream": "stdout",
       "text": [
        " 2015-01-17\n",
        "(0.36840260673186176, 0.59909972218637086, 50)"
       ]
      },
      {
       "output_type": "stream",
       "stream": "stdout",
       "text": [
        " 2015-01-17\n",
        "(0.49167426680977355, 0.52585501284169445, 61)"
       ]
      },
      {
       "output_type": "stream",
       "stream": "stdout",
       "text": [
        " 2015-01-17\n",
        "(0.0, -0.07715167498104597, 6)"
       ]
      },
      {
       "output_type": "stream",
       "stream": "stdout",
       "text": [
        " 2015-01-17\n",
        "(0.0, -0.23145502494313788, 6)"
       ]
      },
      {
       "output_type": "stream",
       "stream": "stdout",
       "text": [
        " 2015-01-17\n",
        "(0.24438438366075699, 0.45633218696111261, 15)"
       ]
      },
      {
       "output_type": "stream",
       "stream": "stdout",
       "text": [
        " 2015-01-17\n",
        "(0.0, 0.5358913016456669, 15)"
       ]
      },
      {
       "output_type": "stream",
       "stream": "stdout",
       "text": [
        " 2015-01-17\n",
        "(0.23668231560156441, 0.33210558207753565, 17)"
       ]
      },
      {
       "output_type": "stream",
       "stream": "stdout",
       "text": [
        " 2015-01-18\n",
        "(0.5798102902435095, 0.67725815714701609, 20)"
       ]
      },
      {
       "output_type": "stream",
       "stream": "stdout",
       "text": [
        " 2015-01-18\n",
        "(0.73867105035659819, 0.70969218937720036, 13)"
       ]
      },
      {
       "output_type": "stream",
       "stream": "stdout",
       "text": [
        " 2015-01-18\n",
        "(0.51970671870378982, 0.66986412705708354, 15)"
       ]
      },
      {
       "output_type": "stream",
       "stream": "stdout",
       "text": [
        " 2015-01-18\n",
        "(0.35856858280031817, 0.15000000000000002, 7)"
       ]
      },
      {
       "output_type": "stream",
       "stream": "stdout",
       "text": [
        " 2015-01-18\n",
        "(0.0, 0.45925925925925914, 17)"
       ]
      },
      {
       "output_type": "stream",
       "stream": "stdout",
       "text": [
        " 2015-01-18\n",
        "(-0.11681277400841041, 0.51187513271288676, 20)"
       ]
      },
      {
       "output_type": "stream",
       "stream": "stdout",
       "text": [
        " 2015-01-18\n",
        "(0.60041365051449125, 0.51793239737823749, 28)"
       ]
      },
      {
       "output_type": "stream",
       "stream": "stdout",
       "text": [
        " 2015-01-18\n",
        "(0.0, 1.0, 2)"
       ]
      },
      {
       "output_type": "stream",
       "stream": "stdout",
       "text": [
        " 2015-01-18\n",
        "(0.0, 0.55205244747388349, 6)"
       ]
      },
      {
       "output_type": "stream",
       "stream": "stdout",
       "text": [
        " 2015-01-18\n",
        "(0.0, 0.59160797830996159, 9)"
       ]
      },
      {
       "output_type": "stream",
       "stream": "stdout",
       "text": [
        " 2015-01-18\n",
        "(0.66084804804319097, 0.89090909090909065, 11)"
       ]
      },
      {
       "output_type": "stream",
       "stream": "stdout",
       "text": [
        " 2015-01-21\n",
        "(0.0, 0.0, 6)"
       ]
      },
      {
       "output_type": "stream",
       "stream": "stdout",
       "text": [
        " 2015-01-22\n",
        "(0.0, 0.031253815395899699, 12)"
       ]
      },
      {
       "output_type": "stream",
       "stream": "stdout",
       "text": [
        " 2015-01-23\n",
        "(0.0, 0.10540925533894598, 5)"
       ]
      },
      {
       "output_type": "stream",
       "stream": "stdout",
       "text": [
        " 2015-01-23\n",
        "(0.0, 0.46511884592956709, 18)"
       ]
      },
      {
       "output_type": "stream",
       "stream": "stdout",
       "text": [
        " 2015-01-23\n",
        "(0.32897584747988451, 0.10527227119356303, 13)"
       ]
      },
      {
       "output_type": "stream",
       "stream": "stdout",
       "text": [
        " 2015-01-23\n",
        "(0.47417356697180524, 0.46774193548387083, 30)"
       ]
      },
      {
       "output_type": "stream",
       "stream": "stdout",
       "text": [
        " 2015-01-23\n",
        "(0.27824333745610091, -0.029629629629629624, 17)"
       ]
      },
      {
       "output_type": "stream",
       "stream": "stdout",
       "text": [
        " 2015-01-23\n",
        "(0.2614604786978405, 0.31734533398520071, 17)"
       ]
      },
      {
       "output_type": "stream",
       "stream": "stdout",
       "text": [
        " 2015-01-23\n",
        "(0.55331044295208687, 0.55961914920281619, 36)"
       ]
      },
      {
       "output_type": "stream",
       "stream": "stdout",
       "text": [
        " 2015-01-23\n",
        "(-0.22360679774997899, 0.54772255750516619, 4)"
       ]
      },
      {
       "output_type": "stream",
       "stream": "stdout",
       "text": [
        " 2015-01-23\n",
        "(0.14547859349066156, 0.40006613209931929, 8)"
       ]
      },
      {
       "output_type": "stream",
       "stream": "stdout",
       "text": [
        " 2015-01-24\n",
        "(0.67185481235821254, 0.65072515199830971, 15)"
       ]
      },
      {
       "output_type": "stream",
       "stream": "stdout",
       "text": [
        " 2015-01-24\n",
        "(0.39283710065919308, 0.331496772065898, 14)"
       ]
      },
      {
       "output_type": "stream",
       "stream": "stdout",
       "text": [
        " 2015-01-24\n",
        "(0.48745999359057646, 0.68272386925159045, 15)"
       ]
      },
      {
       "output_type": "stream",
       "stream": "stdout",
       "text": [
        " 2015-01-24\n",
        "(0.30189144097145199, 0.41688799468369125, 20)"
       ]
      },
      {
       "output_type": "stream",
       "stream": "stdout",
       "text": [
        " 2015-01-24\n",
        "(0.54772255750516619, 0.87831006565367986, 7)"
       ]
      },
      {
       "output_type": "stream",
       "stream": "stdout",
       "text": [
        " 2015-01-24\n",
        "(0.62064473580941681, 0.65160206066856874, 55)"
       ]
      },
      {
       "output_type": "stream",
       "stream": "stdout",
       "text": [
        " 2015-01-24\n",
        "(0.57712566100209672, 0.591216328240456, 74)"
       ]
      },
      {
       "output_type": "stream",
       "stream": "stdout",
       "text": [
        " 2015-01-24\n",
        "(0.54772255750516619, 0.39036002917941331, 7)"
       ]
      },
      {
       "output_type": "stream",
       "stream": "stdout",
       "text": [
        " 2015-01-24\n",
        "(0.57892765757424558, 0.59408852578600468, 18)"
       ]
      },
      {
       "output_type": "stream",
       "stream": "stdout",
       "text": [
        " 2015-01-24\n",
        "(0.0, 0.0, 2)"
       ]
      },
      {
       "output_type": "stream",
       "stream": "stdout",
       "text": [
        " 2015-01-24\n",
        "(0.0, 0.0, 1)"
       ]
      },
      {
       "output_type": "stream",
       "stream": "stdout",
       "text": [
        " 2015-01-24\n",
        "(0.0, -0.99999999999999989, 3)"
       ]
      },
      {
       "output_type": "stream",
       "stream": "stdout",
       "text": [
        " 2015-01-24\n",
        "(0.0, -0.32732683535398854, 8)"
       ]
      },
      {
       "output_type": "stream",
       "stream": "stdout",
       "text": [
        " 2015-01-24\n",
        "(0.54772255750516619, 0.58554004376911994, 7)"
       ]
      },
      {
       "output_type": "stream",
       "stream": "stdout",
       "text": [
        " 2015-01-24\n",
        "(0.0, 0.0, 2)"
       ]
      },
      {
       "output_type": "stream",
       "stream": "stdout",
       "text": [
        " 2015-01-24\n",
        "(0.15522369181366752, 0.37378134103594596, 63)"
       ]
      },
      {
       "output_type": "stream",
       "stream": "stdout",
       "text": [
        " 2015-01-24\n",
        "(0.0, 0.21341434878001159, 43)"
       ]
      },
      {
       "output_type": "stream",
       "stream": "stdout",
       "text": [
        " 2015-01-24\n",
        "(0.0, 0.51378309039230152, 11)"
       ]
      },
      {
       "output_type": "stream",
       "stream": "stdout",
       "text": [
        " 2015-01-25\n",
        "(0.0, 0.6259724369662707, 12)"
       ]
      },
      {
       "output_type": "stream",
       "stream": "stdout",
       "text": [
        " 2015-01-25\n",
        "(0.0, 0.61879397452300966, 14)"
       ]
      },
      {
       "output_type": "stream",
       "stream": "stdout",
       "text": [
        " 2015-01-25\n",
        "(0.0, 0.43318965517241381, 31)"
       ]
      },
      {
       "output_type": "stream",
       "stream": "stdout",
       "text": [
        " 2015-01-25\n",
        "(0.56952486184626461, 0.70969218937720036, 13)"
       ]
      },
      {
       "output_type": "stream",
       "stream": "stdout",
       "text": [
        " 2015-01-25\n",
        "(0.5236907820022102, 0.5691259347371207, 30)"
       ]
      },
      {
       "output_type": "stream",
       "stream": "stdout",
       "text": [
        " 2015-01-25\n",
        "(0.54567402781917351, 0.57705228193406477, 18)"
       ]
      },
      {
       "output_type": "stream",
       "stream": "stdout",
       "text": [
        " 2015-01-25\n",
        "(0.58292312474704644, 0.573410787805125, 30)"
       ]
      },
      {
       "output_type": "stream",
       "stream": "stdout",
       "text": [
        " 2015-01-25\n",
        "(0.0, 0.0, 4)"
       ]
      },
      {
       "output_type": "stream",
       "stream": "stdout",
       "text": [
        " 2015-01-25\n",
        "(0.0, 0.0, 7)"
       ]
      },
      {
       "output_type": "stream",
       "stream": "stdout",
       "text": [
        " 2015-01-25\n",
        "(0.0, -0.66666666666666652, 5)"
       ]
      },
      {
       "output_type": "stream",
       "stream": "stdout",
       "text": [
        " 2015-01-25\n",
        "(0.0, 0.31253815395899703, 12)"
       ]
      },
      {
       "output_type": "stream",
       "stream": "stdout",
       "text": [
        " 2015-01-25\n",
        "(0.0, 0.36623351038235719, 9)"
       ]
      },
      {
       "output_type": "stream",
       "stream": "stdout",
       "text": [
        " 2015-01-25\n",
        "(0.0, 0.32732683535398854, 8)"
       ]
      },
      {
       "output_type": "stream",
       "stream": "stdout",
       "text": [
        " 2015-01-25\n",
        "(0.54772255750516619, 0.58554004376911994, 7)"
       ]
      },
      {
       "output_type": "stream",
       "stream": "stdout",
       "text": [
        " 2015-01-25\n",
        "(0.41171252938944231, 0.50658991073823778, 18)"
       ]
      },
      {
       "output_type": "stream",
       "stream": "stdout",
       "text": [
        " 2015-01-25\n",
        "(0.0, 0.58468458215183094, 12)"
       ]
      },
      {
       "output_type": "stream",
       "stream": "stdout",
       "text": [
        " 2015-01-25\n",
        "(0.0, 0.17817416127494959, 6)"
       ]
      },
      {
       "output_type": "stream",
       "stream": "stdout",
       "text": [
        " 2015-01-25\n",
        "(0.73786478737262184, 0.94868329805051377, 5)"
       ]
      },
      {
       "output_type": "stream",
       "stream": "stdout",
       "text": [
        " 2015-01-25\n",
        "(0.0, 0.0, 7)"
       ]
      },
      {
       "output_type": "stream",
       "stream": "stdout",
       "text": [
        " 2015-01-30\n",
        "(0.63245553203367577, 0.99999999999999978, 5)"
       ]
      },
      {
       "output_type": "stream",
       "stream": "stdout",
       "text": [
        " 2015-01-31\n",
        "(0.61829731124290033, 0.63338152891615163, 27)"
       ]
      },
      {
       "output_type": "stream",
       "stream": "stdout",
       "text": [
        " 2015-01-31\n",
        "(0.66525654426606051, 0.68197087864934924, 18)"
       ]
      },
      {
       "output_type": "stream",
       "stream": "stdout",
       "text": [
        " 2015-01-31\n",
        "(0.0, 0.54772255750516619, 4)"
       ]
      },
      {
       "output_type": "stream",
       "stream": "stdout",
       "text": [
        " 2015-01-31\n",
        "(0.23288413087439769, 0.54810226123015005, 15)"
       ]
      },
      {
       "output_type": "stream",
       "stream": "stdout",
       "text": [
        " 2015-01-31\n",
        "(0.0, 0.12962962962962962, 11)"
       ]
      },
      {
       "output_type": "stream",
       "stream": "stdout",
       "text": [
        " 2015-01-31\n",
        "(0.4890238952470839, 0.54424115908475501, 25)"
       ]
      },
      {
       "output_type": "stream",
       "stream": "stdout",
       "text": [
        " 2015-01-31\n",
        "(0.0, 0.0, 13)"
       ]
      },
      {
       "output_type": "stream",
       "stream": "stdout",
       "text": [
        " 2015-01-31\n",
        "(0.47809144373375756, 0.47892074434615939, 9)"
       ]
      },
      {
       "output_type": "stream",
       "stream": "stdout",
       "text": [
        " 2015-01-31\n",
        "(0.0, -0.33333333333333326, 3)"
       ]
      },
      {
       "output_type": "stream",
       "stream": "stdout",
       "text": [
        " 2015-01-31\n",
        "(0.0, 0.18257418583505539, 4)"
       ]
      },
      {
       "output_type": "stream",
       "stream": "stdout",
       "text": [
        " 2015-01-31\n",
        "(0.34426518632954822, 0.46494781490854986, 17)"
       ]
      },
      {
       "output_type": "stream",
       "stream": "stdout",
       "text": [
        " 2015-01-31\n",
        "(0.46594555814804672, 0.53770780816583308, 18)"
       ]
      },
      {
       "output_type": "stream",
       "stream": "stdout",
       "text": [
        " 2015-01-31\n",
        "(0.72770170083546082, 0.56305327057681331, 20)"
       ]
      },
      {
       "output_type": "stream",
       "stream": "stdout",
       "text": [
        " 2015-01-31\n",
        "(0.86640022544396367, 0.80903983495589049, 10)"
       ]
      },
      {
       "output_type": "stream",
       "stream": "stdout",
       "text": [
        " 2015-01-31\n",
        "(0.0, 0.64285714285714302, 6)"
       ]
      },
      {
       "output_type": "stream",
       "stream": "stdout",
       "text": [
        " 2015-01-31\n",
        "(0.49951243284357016, 0.51378309039230152, 11)"
       ]
      },
      {
       "output_type": "stream",
       "stream": "stdout",
       "text": [
        " 2015-01-31\n",
        "(0.67700320038632988, 0.69727705124669492, 11)"
       ]
      },
      {
       "output_type": "stream",
       "stream": "stdout",
       "text": [
        " 2015-01-31\n",
        "(0.36127498993854407, 0.65021300143526262, 49)"
       ]
      },
      {
       "output_type": "stream",
       "stream": "stdout",
       "text": [
        " 2015-01-31\n",
        "(0.24295883887021233, 0.59786492011625869, 38)"
       ]
      },
      {
       "output_type": "stream",
       "stream": "stdout",
       "text": [
        " 2015-01-31\n",
        "(0.51613190604817738, 0.47742929103557114, 13)"
       ]
      },
      {
       "output_type": "stream",
       "stream": "stdout",
       "text": [
        " 2015-01-31\n",
        "(0.0, 0.0, 6)"
       ]
      },
      {
       "output_type": "stream",
       "stream": "stdout",
       "text": [
        " 2015-01-31\n",
        "(0.67419986246324204, 0.45454545454545475, 12)"
       ]
      },
      {
       "output_type": "stream",
       "stream": "stdout",
       "text": [
        " 2015-01-31\n",
        "(0.75925660236529646, 0.87831006565367986, 7)"
       ]
      },
      {
       "output_type": "stream",
       "stream": "stdout",
       "text": [
        " 2015-02-01\n",
        "(0.33333333333333331, 0.73786478737262184, 5)"
       ]
      },
      {
       "output_type": "stream",
       "stream": "stdout",
       "text": [
        " 2015-02-01\n",
        "(0.62006499719863128, 0.71554559879574964, 19)"
       ]
      },
      {
       "output_type": "stream",
       "stream": "stdout",
       "text": [
        " 2015-02-01\n",
        "(0.0, 0.20328123394268369, 15)"
       ]
      },
      {
       "output_type": "stream",
       "stream": "stdout",
       "text": [
        " 2015-02-01\n",
        "(0.52959791260374856, 0.51435086548399978, 29)"
       ]
      },
      {
       "output_type": "stream",
       "stream": "stdout",
       "text": [
        " 2015-02-01\n",
        "(0.71973368799345028, 0.72871430000002846, 23)"
       ]
      },
      {
       "output_type": "stream",
       "stream": "stdout",
       "text": [
        " 2015-02-01\n",
        "(0.0, -0.50000000000000011, 6)"
       ]
      },
      {
       "output_type": "stream",
       "stream": "stdout",
       "text": [
        " 2015-02-01\n",
        "(0.0, 0.30988989340045608, 9)"
       ]
      },
      {
       "output_type": "stream",
       "stream": "stdout",
       "text": [
        " 2015-02-01\n",
        "(0.0, 0.61828402233531166, 8)"
       ]
      },
      {
       "output_type": "stream",
       "stream": "stdout",
       "text": [
        " 2015-02-01\n",
        "(0.23606684260939009, 0.52459298357642248, 18)"
       ]
      },
      {
       "output_type": "stream",
       "stream": "stdout",
       "text": [
        " 2015-02-01\n",
        "(0.0, 0.73786478737262184, 5)"
       ]
      },
      {
       "output_type": "stream",
       "stream": "stdout",
       "text": [
        " 2015-02-01\n",
        "(0.2893852836004831, 0.44351852664053321, 16)"
       ]
      },
      {
       "output_type": "stream",
       "stream": "stdout",
       "text": [
        " 2015-02-01\n",
        "(0.0, 0.61879397452300966, 14)"
       ]
      },
      {
       "output_type": "stream",
       "stream": "stdout",
       "text": [
        " 2015-02-01\n",
        "(0.0, 0.54968092818199321, 18)"
       ]
      },
      {
       "output_type": "stream",
       "stream": "stdout",
       "text": [
        " 2015-02-01\n",
        "(0.32158794041257749, 0.66299354413179601, 14)"
       ]
      },
      {
       "output_type": "stream",
       "stream": "stdout",
       "text": [
        " 2015-02-01\n",
        "(0.55904494732115473, 0.7003030810611649, 32)"
       ]
      },
      {
       "output_type": "stream",
       "stream": "stdout",
       "text": [
        " 2015-02-01\n",
        "(0.51639777949432231, 0.53526436132806043, 9)"
       ]
      },
      {
       "output_type": "stream",
       "stream": "stdout",
       "text": [
        " 2015-02-01\n",
        "(0.59761430466719689, 0.0, 6)"
       ]
      },
      {
       "output_type": "stream",
       "stream": "stdout",
       "text": [
        " 2015-02-01\n",
        "(0.0, -0.17654696590094993, 9)"
       ]
      },
      {
       "output_type": "stream",
       "stream": "stdout",
       "text": [
        " 2015-02-01\n",
        "(0.0, -0.07339758434175736, 11)"
       ]
      },
      {
       "output_type": "stream",
       "stream": "stdout",
       "text": [
        " 2015-02-01\n",
        "(0.41137667560372121, 0.74811340027676254, 12)"
       ]
      },
      {
       "output_type": "stream",
       "stream": "stdout",
       "text": [
        " 2015-02-01\n",
        "(0.0, 0.22857142857142862, 9)"
       ]
      },
      {
       "output_type": "stream",
       "stream": "stdout",
       "text": [
        " 2015-02-01\n",
        "(0.0, 0.084515425472851652, 9)"
       ]
      },
      {
       "output_type": "stream",
       "stream": "stdout",
       "text": [
        " 2015-02-01\n",
        "(0.0, 0.21854783891573223, 18)"
       ]
      },
      {
       "output_type": "stream",
       "stream": "stdout",
       "text": [
        " 2015-02-01\n",
        "(0.4588732537680526, 0.50829505050104362, 14)"
       ]
      },
      {
       "output_type": "stream",
       "stream": "stdout",
       "text": [
        " 2015-02-01\n",
        "(0.41516824585301854, 0.54554472558998091, 8)"
       ]
      },
      {
       "output_type": "stream",
       "stream": "stdout",
       "text": [
        " 2015-02-01\n",
        "(0.40006613209931929, 0.98198050606196552, 8)"
       ]
      },
      {
       "output_type": "stream",
       "stream": "stdout",
       "text": [
        " 2015-02-01\n",
        "(0.0, -0.44444444444444436, 5)"
       ]
      },
      {
       "output_type": "stream",
       "stream": "stdout",
       "text": [
        " 2015-02-01\n",
        "(0.0, -0.31622776601683794, 5)"
       ]
      },
      {
       "output_type": "stream",
       "stream": "stdout",
       "text": [
        " 2015-02-01\n",
        "(0.0, -0.50917507721731547, 8)"
       ]
      },
      {
       "output_type": "stream",
       "stream": "stdout",
       "text": [
        " 2015-02-01\n",
        "(0.0, 0.43320011272198183, 10)"
       ]
      },
      {
       "output_type": "stream",
       "stream": "stdout",
       "text": [
        " 2015-02-01\n",
        "(0.0, 0.13801311186847087, 6)"
       ]
      },
      {
       "output_type": "stream",
       "stream": "stdout",
       "text": [
        " 2015-02-03\n",
        "(0.51325470620764169, 0.58715330341782557, 82)"
       ]
      },
      {
       "output_type": "stream",
       "stream": "stdout",
       "text": [
        " 2015-02-06\n",
        "(0.50535789174086732, 0.61611827966674748, 126)"
       ]
      },
      {
       "output_type": "stream",
       "stream": "stdout",
       "text": [
        " 2015-02-06\n",
        "(0.17721930649810383, 0.5291469263878058, 90)"
       ]
      },
      {
       "output_type": "stream",
       "stream": "stdout",
       "text": [
        " 2015-02-06\n",
        "(0.0, 0.38970705289924018, 41)"
       ]
      },
      {
       "output_type": "stream",
       "stream": "stdout",
       "text": [
        " 2015-02-06\n",
        "(0.48901412837272829, 0.49051794097262474, 63)"
       ]
      },
      {
       "output_type": "stream",
       "stream": "stdout",
       "text": [
        " 2015-02-06\n",
        "(0.47513614205323218, 0.50603042964609612, 63)"
       ]
      },
      {
       "output_type": "stream",
       "stream": "stdout",
       "text": [
        " 2015-02-06\n",
        "(0.28447416258865277, 0.50304716861399268, 43)"
       ]
      },
      {
       "output_type": "stream",
       "stream": "stdout",
       "text": [
        " 2015-02-06\n",
        "(0.0, 0.434782608695652, 25)"
       ]
      },
      {
       "output_type": "stream",
       "stream": "stdout",
       "text": [
        " 2015-02-06\n",
        "(0.45360921162651446, 0.4728054288446501, 8)"
       ]
      },
      {
       "output_type": "stream",
       "stream": "stdout",
       "text": [
        " 2015-02-07\n",
        "(0.0, 0.99999999999999989, 3)"
       ]
      },
      {
       "output_type": "stream",
       "stream": "stdout",
       "text": [
        " 2015-02-07\n",
        "(0.0, 0.07407407407407407, 8)"
       ]
      },
      {
       "output_type": "stream",
       "stream": "stdout",
       "text": [
        " 2015-02-07\n",
        "(0.56736651461358023, 0.64795159529186264, 9)"
       ]
      },
      {
       "output_type": "stream",
       "stream": "stdout",
       "text": [
        " 2015-02-07\n",
        "(0.79772403521746538, 0.65807821196794947, 13)"
       ]
      },
      {
       "output_type": "stream",
       "stream": "stdout",
       "text": [
        " 2015-02-07\n",
        "(0.063620427663518941, 0.11852177018919195, 17)"
       ]
      },
      {
       "output_type": "stream",
       "stream": "stdout",
       "text": [
        " 2015-02-07\n",
        "(0.0, -0.31622776601683794, 5)"
       ]
      },
      {
       "output_type": "stream",
       "stream": "stdout",
       "text": [
        " 2015-02-07\n",
        "(0.0, 0.50323627974019658, 13)"
       ]
      },
      {
       "output_type": "stream",
       "stream": "stdout",
       "text": [
        " 2015-02-07\n",
        "(0.0, 0.68313005106397329, 7)"
       ]
      },
      {
       "output_type": "stream",
       "stream": "stdout",
       "text": [
        " 2015-02-07\n",
        "(0.0, 0.27602622373694174, 6)"
       ]
      },
      {
       "output_type": "stream",
       "stream": "stdout",
       "text": [
        " 2015-02-07\n",
        "(0.0, 0.59669418971861643, 14)"
       ]
      },
      {
       "output_type": "stream",
       "stream": "stdout",
       "text": [
        " 2015-02-07\n",
        "(0.0, 0.58430654746814314, 10)"
       ]
      },
      {
       "output_type": "stream",
       "stream": "stdout",
       "text": [
        " 2015-02-07\n",
        "(0.0, 0.15555555555555559, 10)"
       ]
      },
      {
       "output_type": "stream",
       "stream": "stdout",
       "text": [
        " 2015-02-07\n",
        "(0.0, 0.26519741765271843, 14)"
       ]
      },
      {
       "output_type": "stream",
       "stream": "stdout",
       "text": [
        " 2015-02-07\n",
        "(0.46273895025009004, 0.65807821196794947, 13)"
       ]
      },
      {
       "output_type": "stream",
       "stream": "stdout",
       "text": [
        " 2015-02-07\n",
        "(0.0, -0.10540925533894598, 5)"
       ]
      },
      {
       "output_type": "stream",
       "stream": "stdout",
       "text": [
        " 2015-02-07\n",
        "(0.60803709185132992, 0.70928567445383073, 43)"
       ]
      },
      {
       "output_type": "stream",
       "stream": "stdout",
       "text": [
        " 2015-02-07\n",
        "(0.48089814685190679, 0.51684862359388828, 43)"
       ]
      },
      {
       "output_type": "stream",
       "stream": "stdout",
       "text": [
        " 2015-02-07\n",
        "(0.0, 0.83650191257130402, 8)"
       ]
      },
      {
       "output_type": "stream",
       "stream": "stdout",
       "text": [
        " 2015-02-07\n",
        "(0.25197631533948484, 0.52704627669472992, 5)"
       ]
      },
      {
       "output_type": "stream",
       "stream": "stdout",
       "text": [
        " 2015-02-07\n",
        "(0.50917507721731547, 0.20515248496555452, 8)"
       ]
      },
      {
       "output_type": "stream",
       "stream": "stdout",
       "text": [
        " 2015-02-07\n",
        "(0.50917507721731547, 0.40006613209931929, 8)"
       ]
      },
      {
       "output_type": "stream",
       "stream": "stdout",
       "text": [
        " 2015-02-07\n",
        "(0.49805824509175234, 0.7222222222222221, 11)"
       ]
      },
      {
       "output_type": "stream",
       "stream": "stdout",
       "text": [
        " 2015-02-07\n",
        "(0.43047498945705021, 0.65417113679505801, 28)"
       ]
      },
      {
       "output_type": "stream",
       "stream": "stdout",
       "text": [
        " 2015-02-07\n",
        "(0.23570226039551592, 0.36623351038235719, 9)"
       ]
      },
      {
       "output_type": "stream",
       "stream": "stdout",
       "text": [
        " 2015-02-07\n",
        "(0.35856858280031817, -0.42857142857142866, 6)"
       ]
      },
      {
       "output_type": "stream",
       "stream": "stdout",
       "text": [
        " 2015-02-07\n",
        "(0.0, 0.53526436132806043, 9)"
       ]
      },
      {
       "output_type": "stream",
       "stream": "stdout",
       "text": [
        " 2015-02-07\n",
        "(0.0, -0.13801311186847087, 6)"
       ]
      },
      {
       "output_type": "stream",
       "stream": "stdout",
       "text": [
        " 2015-02-07\n",
        "(0.0, 0.76376261582597327, 8)"
       ]
      },
      {
       "output_type": "stream",
       "stream": "stdout",
       "text": [
        " 2015-02-07\n",
        "(0.66666666666666663, 0.73786478737262184, 5)"
       ]
      },
      {
       "output_type": "stream",
       "stream": "stdout",
       "text": [
        " 2015-02-07\n",
        "(0.0, 0.76409317745834104, 10)"
       ]
      },
      {
       "output_type": "stream",
       "stream": "stdout",
       "text": [
        " 2015-02-08\n",
        "(0.74461304283307683, 0.74477639379259353, 16)"
       ]
      },
      {
       "output_type": "stream",
       "stream": "stdout",
       "text": [
        " 2015-02-08\n",
        "(0.0, 0.0, 7)"
       ]
      },
      {
       "output_type": "stream",
       "stream": "stdout",
       "text": [
        " 2015-02-08\n",
        "(0.60864454262870715, 0.62762055656679228, 16)"
       ]
      },
      {
       "output_type": "stream",
       "stream": "stdout",
       "text": [
        " 2015-02-08\n",
        "(0.11306675421666137, 0.08989331499509895, 10)"
       ]
      },
      {
       "output_type": "stream",
       "stream": "stdout",
       "text": [
        " 2015-02-08\n",
        "(0.0, -0.10432810619146014, 20)"
       ]
      },
      {
       "output_type": "stream",
       "stream": "stdout",
       "text": [
        " 2015-02-08\n",
        "(0.51320023927966718, 0.1926173649372307, 17)"
       ]
      },
      {
       "output_type": "stream",
       "stream": "stdout",
       "text": [
        " 2015-02-08\n",
        "(0.27777777777777779, 0.04662524041201567, 26)"
       ]
      },
      {
       "output_type": "stream",
       "stream": "stdout",
       "text": [
        " 2015-02-08\n",
        "(0.3018842715534234, 0.30195722451299489, 29)"
       ]
      },
      {
       "output_type": "stream",
       "stream": "stdout",
       "text": [
        " 2015-02-08\n",
        "(0.65737573513391667, 0.58554004376911994, 7)"
       ]
      },
      {
       "output_type": "stream",
       "stream": "stdout",
       "text": [
        " 2015-02-08\n",
        "(0.41844546947364486, 0.32305819873344599, 29)"
       ]
      },
      {
       "output_type": "stream",
       "stream": "stdout",
       "text": [
        " 2015-02-08\n",
        "(0.49272544215266362, 0.46025507481564765, 16)"
       ]
      },
      {
       "output_type": "stream",
       "stream": "stdout",
       "text": [
        " 2015-02-08\n",
        "(0.47809144373375756, 0.25354627641855498, 9)"
       ]
      },
      {
       "output_type": "stream",
       "stream": "stdout",
       "text": [
        " 2015-02-13\n",
        "(0.35856858280031817, 0.69006555934235436, 6)"
       ]
      },
      {
       "output_type": "stream",
       "stream": "stdout",
       "text": [
        " 2015-02-14\n",
        "(0.56170721330698159, 0.61244720188076207, 15)"
       ]
      },
      {
       "output_type": "stream",
       "stream": "stdout",
       "text": [
        " 2015-02-14\n",
        "(0.49321036486592745, 0.3209876543209878, 29)"
       ]
      },
      {
       "output_type": "stream",
       "stream": "stdout",
       "text": [
        " 2015-02-15\n",
        "(0.23673243481207037, 0.33666225410858508, 27)"
       ]
      },
      {
       "output_type": "stream",
       "stream": "stdout",
       "text": [
        " 2015-02-15\n",
        "(0.20100756305184242, -0.28968272975116061, 10)"
       ]
      },
      {
       "output_type": "stream",
       "stream": "stdout",
       "text": [
        " 2015-02-15\n",
        "(0.34401100852841215, 0.18610937511954942, 23)"
       ]
      },
      {
       "output_type": "stream",
       "stream": "stdout",
       "text": [
        " 2015-02-15\n",
        "(0.0, 0.030860669992418384, 9)"
       ]
      },
      {
       "output_type": "stream",
       "stream": "stdout",
       "text": [
        " 2015-02-15\n",
        "(0.60974984362021101, 0.65072515199830971, 15)"
       ]
      },
      {
       "output_type": "stream",
       "stream": "stdout",
       "text": [
        " 2015-02-18\n",
        "(0.43707337873812391, 0.43403952975542837, 11)"
       ]
      },
      {
       "output_type": "stream",
       "stream": "stdout",
       "text": [
        " 2015-02-20\n",
        "(0.59076463079880537, 0.71757815944913961, 12)"
       ]
      },
      {
       "output_type": "stream",
       "stream": "stdout",
       "text": [
        " 2015-02-20\n",
        "(0.0, 0.27602622373694174, 6)"
       ]
      },
      {
       "output_type": "stream",
       "stream": "stdout",
       "text": [
        " 2015-02-20\n",
        "(0.0, -0.60000000000000009, 4)"
       ]
      },
      {
       "output_type": "stream",
       "stream": "stdout",
       "text": [
        " 2015-02-20\n",
        "(0.54772255750516619, 0.45000000000000007, 7)"
       ]
      },
      {
       "output_type": "stream",
       "stream": "stdout",
       "text": [
        " 2015-02-20\n",
        "(0.54031331511397562, 0.59278011600346547, 41)"
       ]
      },
      {
       "output_type": "stream",
       "stream": "stdout",
       "text": [
        " 2015-02-20\n",
        "(0.0, 0.33333333333333326, 3)"
       ]
      },
      {
       "output_type": "stream",
       "stream": "stdout",
       "text": [
        " 2015-02-20\n",
        "(0.70710678118654757, 0.66666666666666663, 4)"
       ]
      },
      {
       "output_type": "stream",
       "stream": "stdout",
       "text": [
        " 2015-02-21\n",
        "(0.0, 0.15000000000000002, 7)"
       ]
      },
      {
       "output_type": "stream",
       "stream": "stdout",
       "text": [
        " 2015-02-21\n",
        "(0.5237229365663818, 0.19720265943665385, 9)"
       ]
      },
      {
       "output_type": "stream",
       "stream": "stdout",
       "text": [
        " 2015-02-21\n",
        "(0.0, -0.41403933560541262, 6)"
       ]
      },
      {
       "output_type": "stream",
       "stream": "stdout",
       "text": [
        " 2015-02-21\n",
        "(0.0, 0.028171808490950551, 9)"
       ]
      },
      {
       "output_type": "stream",
       "stream": "stdout",
       "text": [
        " 2015-02-21\n",
        "(0.47809144373375756, 0.64795159529186264, 9)"
       ]
      },
      {
       "output_type": "stream",
       "stream": "stdout",
       "text": [
        " 2015-02-21\n",
        "(0.0, -0.20454545454545459, 10)"
       ]
      },
      {
       "output_type": "stream",
       "stream": "stdout",
       "text": [
        " 2015-02-21\n",
        "(0.58925565098878963, 0.52704627669472992, 5)"
       ]
      },
      {
       "output_type": "stream",
       "stream": "stdout",
       "text": [
        " 2015-02-21\n",
        "(0.59761430466719689, 0.41403933560541262, 6)"
       ]
      },
      {
       "output_type": "stream",
       "stream": "stdout",
       "text": [
        " 2015-02-21\n",
        "(0.58554004376911994, 0.68313005106397329, 7)"
       ]
      },
      {
       "output_type": "stream",
       "stream": "stdout",
       "text": [
        " 2015-02-21\n",
        "(0.2881428178324687, 0.68909996158913456, 16)"
       ]
      },
      {
       "output_type": "stream",
       "stream": "stdout",
       "text": [
        " 2015-02-21\n",
        "(0.66666666666666663, 0.12598815766974242, 5)"
       ]
      },
      {
       "output_type": "stream",
       "stream": "stdout",
       "text": [
        " 2015-02-21\n",
        "(0.0, 0.2581988897471611, 4)"
       ]
      },
      {
       "output_type": "stream",
       "stream": "stdout",
       "text": [
        " 2015-02-21\n",
        "(0.81649658092772615, 0.33333333333333326, 3)"
       ]
      },
      {
       "output_type": "stream",
       "stream": "stdout",
       "text": [
        " 2015-02-21\n",
        "(0.36689969285267143, 0.24038461538461542, 15)"
       ]
      },
      {
       "output_type": "stream",
       "stream": "stdout",
       "text": [
        " 2015-02-21\n",
        "(0.60469104549695585, 0.54393781569122002, 16)"
       ]
      },
      {
       "output_type": "stream",
       "stream": "stdout",
       "text": [
        " 2015-02-21\n",
        "(0.0, 0.23746784507298868, 20)"
       ]
      },
      {
       "output_type": "stream",
       "stream": "stdout",
       "text": [
        " 2015-02-21\n",
        "(0.0, 0.2504541329810166, 24)"
       ]
      },
      {
       "output_type": "stream",
       "stream": "stdout",
       "text": [
        " 2015-02-21\n",
        "(0.36689969285267143, 0.21052872564651198, 15)"
       ]
      },
      {
       "output_type": "stream",
       "stream": "stdout",
       "text": [
        " 2015-02-21\n",
        "(0.46836358617850954, 0.5368421052631579, 20)"
       ]
      },
      {
       "output_type": "stream",
       "stream": "stdout",
       "text": [
        " 2015-02-21\n",
        "(0.45868247229386333, 0.6017316017316019, 22)"
       ]
      },
      {
       "output_type": "stream",
       "stream": "stdout",
       "text": [
        " 2015-02-21\n",
        "(0.0, 0.0, 3)"
       ]
      },
      {
       "output_type": "stream",
       "stream": "stdout",
       "text": [
        " 2015-02-21\n",
        "(0.0, 0.0, 3)"
       ]
      },
      {
       "output_type": "stream",
       "stream": "stdout",
       "text": [
        " 2015-02-21\n",
        "(0.81649658092772615, 0.99999999999999989, 3)"
       ]
      },
      {
       "output_type": "stream",
       "stream": "stdout",
       "text": [
        " 2015-02-21\n",
        "(0.0, 0.35714285714285721, 6)"
       ]
      },
      {
       "output_type": "stream",
       "stream": "stdout",
       "text": [
        " 2015-02-21\n",
        "(0.5894338862466556, 0.42678197846541877, 16)"
       ]
      },
      {
       "output_type": "stream",
       "stream": "stdout",
       "text": [
        " 2015-02-21\n",
        "(0.77448149614304851, 0.80675117454337708, 16)"
       ]
      },
      {
       "output_type": "stream",
       "stream": "stdout",
       "text": [
        " 2015-02-21\n",
        "(0.30439038876405056, 0.54968092818199321, 18)"
       ]
      },
      {
       "output_type": "stream",
       "stream": "stdout",
       "text": [
        " 2015-02-21\n",
        "(0.0, 1.0, 2)"
       ]
      },
      {
       "output_type": "stream",
       "stream": "stdout",
       "text": [
        " 2015-02-21\n",
        "(0.44444444444444436, 0.52704627669472992, 5)"
       ]
      },
      {
       "output_type": "stream",
       "stream": "stdout",
       "text": [
        " 2015-02-21\n",
        "(0.92857142857142883, 0.69006555934235436, 6)"
       ]
      },
      {
       "output_type": "stream",
       "stream": "stdout",
       "text": [
        " 2015-02-21\n",
        "(0.32203059435976539, 0.22235445801031414, 17)"
       ]
      },
      {
       "output_type": "stream",
       "stream": "stdout",
       "text": [
        " 2015-02-22\n",
        "(0.84866842479150562, 0.41403933560541262, 6)"
       ]
      },
      {
       "output_type": "stream",
       "stream": "stdout",
       "text": [
        " 2015-02-22\n",
        "(-0.080582296402538015, -0.41403933560541262, 6)"
       ]
      },
      {
       "output_type": "stream",
       "stream": "stdout",
       "text": [
        " 2015-02-22\n",
        "(0.0, 0.048280454958526772, 10)"
       ]
      },
      {
       "output_type": "stream",
       "stream": "stdout",
       "text": [
        " 2015-02-22\n",
        "(0.24094660814798827, -0.19294959267302489, 30)"
       ]
      },
      {
       "output_type": "stream",
       "stream": "stdout",
       "text": [
        " 2015-02-22\n",
        "(0.45226701686664544, 0.38636363636363641, 10)"
       ]
      },
      {
       "output_type": "stream",
       "stream": "stdout",
       "text": [
        " 2015-02-22\n",
        "(0.32897584747988451, 0.3483943475124438, 13)"
       ]
      },
      {
       "output_type": "stream",
       "stream": "stdout",
       "text": [
        " 2015-02-22\n",
        "(0.37449860230650756, 0.19247030401381629, 16)"
       ]
      },
      {
       "output_type": "stream",
       "stream": "stdout",
       "text": [
        " 2015-02-22\n",
        "(0.0, -0.57735026918962584, 7)"
       ]
      },
      {
       "output_type": "stream",
       "stream": "stdout",
       "text": [
        " 2015-02-22\n",
        "(0.0, 0.071428571428571452, 6)"
       ]
      },
      {
       "output_type": "stream",
       "stream": "stdout",
       "text": [
        " 2015-02-22\n",
        "(0.0, -0.99999999999999989, 3)"
       ]
      },
      {
       "output_type": "stream",
       "stream": "stdout",
       "text": [
        " 2015-02-22\n",
        "(0.0, -0.10192943828752513, 10)"
       ]
      },
      {
       "output_type": "stream",
       "stream": "stdout",
       "text": [
        " 2015-02-22\n",
        "(0.0, 0.96609178307929611, 6)"
       ]
      },
      {
       "output_type": "stream",
       "stream": "stdout",
       "text": [
        " 2015-02-24\n",
        "(0.07095297698329342, 0.63484667678920936, 21)"
       ]
      },
      {
       "output_type": "stream",
       "stream": "stdout",
       "text": [
        " 2015-02-25\n",
        "(0.52704627669472992, 0.79999999999999982, 5)"
       ]
      },
      {
       "output_type": "stream",
       "stream": "stdout",
       "text": [
        " 2015-02-25\n",
        "(0.57735026918962573, 0.53703703703703698, 11)"
       ]
      },
      {
       "output_type": "stream",
       "stream": "stdout",
       "text": [
        " 2015-02-28\n",
        "(0.0, 0.29277002188455997, 7)"
       ]
      },
      {
       "output_type": "stream",
       "stream": "stdout",
       "text": [
        " 2015-02-28\n",
        "(0.0, -0.60858061945018471, 10)"
       ]
      },
      {
       "output_type": "stream",
       "stream": "stdout",
       "text": [
        " 2015-02-28\n",
        "(0.57735026918962584, 0.73333333333333328, 6)"
       ]
      },
      {
       "output_type": "stream",
       "stream": "stdout",
       "text": [
        " 2015-02-28\n",
        "(0.0, 0.82807867121082523, 6)"
       ]
      },
      {
       "output_type": "stream",
       "stream": "stdout",
       "text": [
        " 2015-02-28\n",
        "(-0.30354174694363251, 0.54545454545454564, 12)"
       ]
      },
      {
       "output_type": "stream",
       "stream": "stdout",
       "text": [
        " 2015-03-01\n",
        "(0.0, 0.27007479138267049, 24)"
       ]
      },
      {
       "output_type": "stream",
       "stream": "stdout",
       "text": [
        " 2015-03-01\n",
        "(0.42788946864244226, 0.59630814429439383, 20)"
       ]
      },
      {
       "output_type": "stream",
       "stream": "stdout",
       "text": [
        " 2015-03-01\n",
        "(0.0, 0.0, 7)"
       ]
      },
      {
       "output_type": "stream",
       "stream": "stdout",
       "text": [
        " 2015-03-01\n",
        "(0.0, 0.25844328061090943, 14)"
       ]
      },
      {
       "output_type": "stream",
       "stream": "stdout",
       "text": [
        " 2015-03-01\n",
        "(0.0, 0.18257418583505539, 4)"
       ]
      },
      {
       "output_type": "stream",
       "stream": "stdout",
       "text": [
        " 2015-03-01\n",
        "(0.61891187372852308, 0.71794871794871795, 13)"
       ]
      },
      {
       "output_type": "stream",
       "stream": "stdout",
       "text": [
        " 2015-03-01\n",
        "(0.0, -0.7745966692414834, 4)"
       ]
      },
      {
       "output_type": "stream",
       "stream": "stdout",
       "text": [
        " 2015-03-06\n",
        "(0.0, 0.22222222222222218, 5)"
       ]
      },
      {
       "output_type": "stream",
       "stream": "stdout",
       "text": [
        " 2015-03-06\n",
        "(0.0, 0.077777777777777779, 14)"
       ]
      },
      {
       "output_type": "stream",
       "stream": "stdout",
       "text": [
        " 2015-03-06\n",
        "(0.35176323534072423, 0.5393598899705937, 10)"
       ]
      },
      {
       "output_type": "stream",
       "stream": "stdout",
       "text": [
        " 2015-03-06\n",
        "(0.23606684260939009, 0.38032991309290631, 18)"
       ]
      },
      {
       "output_type": "stream",
       "stream": "stdout",
       "text": [
        " 2015-03-06\n",
        "(0.66394000220698579, 0.70429521227376379, 9)"
       ]
      },
      {
       "output_type": "stream",
       "stream": "stdout",
       "text": [
        " 2015-03-06\n",
        "(0.57936507936507942, 0.54353751205595191, 20)"
       ]
      },
      {
       "output_type": "stream",
       "stream": "stdout",
       "text": [
        " 2015-03-06\n",
        "(0.62240149967379954, 0.65331356444304778, 26)"
       ]
      },
      {
       "output_type": "stream",
       "stream": "stdout",
       "text": [
        " 2015-03-06\n",
        "(0.6116936628336781, 0.74966953174848494, 28)"
       ]
      },
      {
       "output_type": "stream",
       "stream": "stdout",
       "text": [
        " 2015-03-06\n",
        "(0.67193684090529293, 0.83650191257130402, 8)"
       ]
      },
      {
       "output_type": "stream",
       "stream": "stdout",
       "text": [
        " 2015-03-06\n",
        "(0.0, 0.18184824186332696, 8)"
       ]
      },
      {
       "output_type": "stream",
       "stream": "stdout",
       "text": [
        " 2015-03-06\n",
        "(0.55271767544800177, 0.52631665626445512, 24)"
       ]
      },
      {
       "output_type": "stream",
       "stream": "stdout",
       "text": [
        " 2015-03-06\n",
        "(0.0, 0.45933540141057155, 15)"
       ]
      },
      {
       "output_type": "stream",
       "stream": "stdout",
       "text": [
        " 2015-03-06\n",
        "(0.0, 0.49498604594708162, 25)"
       ]
      },
      {
       "output_type": "stream",
       "stream": "stdout",
       "text": [
        " 2015-03-06\n",
        "(0.0, 0.816982446237566, 9)"
       ]
      },
      {
       "output_type": "stream",
       "stream": "stdout",
       "text": [
        " 2015-03-06\n",
        "(0.46061985425575697, 0.47078529712239547, 25)"
       ]
      },
      {
       "output_type": "stream",
       "stream": "stdout",
       "text": [
        " 2015-03-06\n",
        "(0.0, 0.54772255750516619, 4)"
       ]
      },
      {
       "output_type": "stream",
       "stream": "stdout",
       "text": [
        " 2015-03-06\n",
        "(0.0, 1.0, 2)"
       ]
      },
      {
       "output_type": "stream",
       "stream": "stdout",
       "text": [
        " 2015-03-06\n",
        "(1.0, 1.0, 2)"
       ]
      },
      {
       "output_type": "stream",
       "stream": "stdout",
       "text": [
        " 2015-03-06\n",
        "(0.0, -1.0, 2)"
       ]
      },
      {
       "output_type": "stream",
       "stream": "stdout",
       "text": [
        " 2015-03-06\n",
        "(1.0, 1.0, 2)"
       ]
      },
      {
       "output_type": "stream",
       "stream": "stdout",
       "text": [
        " 2015-03-06\n",
        "(0.0, 0.10910894511799617, 8)"
       ]
      },
      {
       "output_type": "stream",
       "stream": "stdout",
       "text": [
        " 2015-03-07\n",
        "(0.43033148291193518, 0.7339758434175736, 11)"
       ]
      },
      {
       "output_type": "stream",
       "stream": "stdout",
       "text": [
        " 2015-03-07\n",
        "(0.55855192191975234, 0.76555900235095264, 15)"
       ]
      },
      {
       "output_type": "stream",
       "stream": "stdout",
       "text": [
        " 2015-03-07\n",
        "(0.46004671131161101, 0.57416925176321443, 15)"
       ]
      },
      {
       "output_type": "stream",
       "stream": "stdout",
       "text": [
        " 2015-03-07\n",
        "(0.49692416114898424, 0.45162230233094569, 13)"
       ]
      },
      {
       "output_type": "stream",
       "stream": "stdout",
       "text": [
        " 2015-03-07\n",
        "(0.44474958999666075, 0.55205244747388349, 6)"
       ]
      },
      {
       "output_type": "stream",
       "stream": "stdout",
       "text": [
        " 2015-03-07\n",
        "(0.80319484013501519, 0.70719311374058247, 14)"
       ]
      },
      {
       "output_type": "stream",
       "stream": "stdout",
       "text": [
        " 2015-03-07\n",
        "(0.0, -0.21602468994692869, 9)"
       ]
      },
      {
       "output_type": "stream",
       "stream": "stdout",
       "text": [
        " 2015-03-07\n",
        "(0.0, 0.097590007294853329, 7)"
       ]
      },
      {
       "output_type": "stream",
       "stream": "stdout",
       "text": [
        " 2015-03-07\n",
        "(0.0, 0.078242087802170054, 17)"
       ]
      },
      {
       "output_type": "stream",
       "stream": "stdout",
       "text": [
        " 2015-03-07\n",
        "(0.1545867356002105, 0.22115384615384617, 15)"
       ]
      },
      {
       "output_type": "stream",
       "stream": "stdout",
       "text": [
        " 2015-03-07\n",
        "(0.0, 0.035824886041591945, 19)"
       ]
      },
      {
       "output_type": "stream",
       "stream": "stdout",
       "text": [
        " 2015-03-07\n",
        "(0.34426518632954822, 0.33210558207753565, 17)"
       ]
      },
      {
       "output_type": "stream",
       "stream": "stdout",
       "text": [
        " 2015-03-07\n",
        "(0.0, 0.32407407407407418, 26)"
       ]
      },
      {
       "output_type": "stream",
       "stream": "stdout",
       "text": [
        " 2015-03-07\n",
        "(0.34977638937164296, 0.48261325723570947, 22)"
       ]
      },
      {
       "output_type": "stream",
       "stream": "stdout",
       "text": [
        " 2015-03-07\n",
        "(0.55148859996613164, 0.63886284623570444, 33)"
       ]
      },
      {
       "output_type": "stream",
       "stream": "stdout",
       "text": [
        " 2015-03-07\n",
        "(0.0, 0.0, 5)"
       ]
      },
      {
       "output_type": "stream",
       "stream": "stdout",
       "text": [
        " 2015-03-07\n",
        "(0.0, 1.0, 2)"
       ]
      },
      {
       "output_type": "stream",
       "stream": "stdout",
       "text": [
        " 2015-03-07\n",
        "(0.40215764226329104, 0.68900310211585736, 15)"
       ]
      },
      {
       "output_type": "stream",
       "stream": "stdout",
       "text": [
        " 2015-03-07\n",
        "(0.3926777358035522, 0.59543719613864776, 12)"
       ]
      },
      {
       "output_type": "stream",
       "stream": "stdout",
       "text": [
        " 2015-03-07\n",
        "(0.0, 0.99999999999999989, 3)"
       ]
      },
      {
       "output_type": "stream",
       "stream": "stdout",
       "text": [
        " 2015-03-07\n",
        "(0.0, 0.52904326844482208, 13)"
       ]
      },
      {
       "output_type": "stream",
       "stream": "stdout",
       "text": [
        " 2015-03-07\n",
        "(0.483493778415228, 0.71428571428571441, 8)"
       ]
      },
      {
       "output_type": "stream",
       "stream": "stdout",
       "text": [
        " 2015-03-07\n",
        "(0.31622776601683794, 0.39999999999999991, 5)"
       ]
      },
      {
       "output_type": "stream",
       "stream": "stdout",
       "text": [
        " 2015-03-07\n",
        "(0.64567282891705269, 0.65469192292575551, 23)"
       ]
      },
      {
       "output_type": "stream",
       "stream": "stdout",
       "text": [
        " 2015-03-07\n",
        "(0.60246407607670927, 0.73333333333333328, 6)"
       ]
      },
      {
       "output_type": "stream",
       "stream": "stdout",
       "text": [
        " 2015-03-07\n",
        "(0.34426518632954811, 0.31104631654389553, 11)"
       ]
      },
      {
       "output_type": "stream",
       "stream": "stdout",
       "text": [
        " 2015-03-07\n",
        "(0.48365083340667453, 0.8222222222222223, 10)"
       ]
      },
      {
       "output_type": "stream",
       "stream": "stdout",
       "text": [
        " 2015-03-07\n",
        "(0.28571428571428575, 0.50000000000000011, 8)"
       ]
      },
      {
       "output_type": "stream",
       "stream": "stdout",
       "text": [
        " 2015-03-07\n",
        "(0.0, 0.29773257907842171, 12)"
       ]
      },
      {
       "output_type": "stream",
       "stream": "stdout",
       "text": [
        " 2015-03-07\n",
        "(0.0, 0.0, 8)"
       ]
      },
      {
       "output_type": "stream",
       "stream": "stdout",
       "text": [
        " 2015-03-07\n",
        "(0.0, 0.17928429140015908, 9)"
       ]
      },
      {
       "output_type": "stream",
       "stream": "stdout",
       "text": [
        " 2015-03-07\n",
        "(0.0, -0.055901699437494755, 12)"
       ]
      },
      {
       "output_type": "stream",
       "stream": "stdout",
       "text": [
        " 2015-03-07\n",
        "(0.0, 0.0, 10)"
       ]
      },
      {
       "output_type": "stream",
       "stream": "stdout",
       "text": [
        " 2015-03-07\n",
        "(0.0, -0.036563621206356541, 10)"
       ]
      },
      {
       "output_type": "stream",
       "stream": "stdout",
       "text": [
        " 2015-03-07\n",
        "(0.0, 0.50323627974019658, 13)"
       ]
      },
      {
       "output_type": "stream",
       "stream": "stdout",
       "text": [
        " 2015-03-08\n",
        "(0.0, 0.68313005106397329, 7)"
       ]
      },
      {
       "output_type": "stream",
       "stream": "stdout",
       "text": [
        " 2015-03-08\n",
        "(0.22438727760202973, 0.65650767779389363, 12)"
       ]
      },
      {
       "output_type": "stream",
       "stream": "stdout",
       "text": [
        " 2015-03-08\n",
        "(0.5509082047182674, 0.7243560311351227, 29)"
       ]
      },
      {
       "output_type": "stream",
       "stream": "stdout",
       "text": [
        " 2015-03-08\n",
        "(0.57146556328931586, 0.53712302516719534, 22)"
       ]
      },
      {
       "output_type": "stream",
       "stream": "stdout",
       "text": [
        " 2015-03-08\n",
        "(0.25819888974716104, 0.39999999999999991, 5)"
       ]
      },
      {
       "output_type": "stream",
       "stream": "stdout",
       "text": [
        " 2015-03-08\n",
        "(0.46291004988627577, 0.50000000000000011, 6)"
       ]
      },
      {
       "output_type": "stream",
       "stream": "stdout",
       "text": [
        " 2015-03-08\n",
        "(0.56180064773358951, 0.54554472558998091, 8)"
       ]
      },
      {
       "output_type": "stream",
       "stream": "stdout",
       "text": [
        " 2015-03-08\n",
        "(0.59299945332888104, 0.41403933560541262, 6)"
       ]
      },
      {
       "output_type": "stream",
       "stream": "stdout",
       "text": [
        " 2015-03-08\n",
        "(0.2672612419124244, 0.27602622373694174, 6)"
       ]
      },
      {
       "output_type": "stream",
       "stream": "stdout",
       "text": [
        " 2015-03-08\n",
        "(0.0, 0.0, 11)"
       ]
      },
      {
       "output_type": "stream",
       "stream": "stdout",
       "text": [
        " 2015-03-08\n",
        "(0.0, 0.16006534613300824, 14)"
       ]
      },
      {
       "output_type": "stream",
       "stream": "stdout",
       "text": [
        " 2015-03-08\n",
        "(0.0, 0.99999999999999989, 3)"
       ]
      },
      {
       "output_type": "stream",
       "stream": "stdout",
       "text": [
        " 2015-03-08\n",
        "(0.28887333244486629, 0.57416925176321443, 15)"
       ]
      },
      {
       "output_type": "stream",
       "stream": "stdout",
       "text": [
        " 2015-03-12\n",
        "(0.35856858280031817, 0.41403933560541262, 6)"
       ]
      },
      {
       "output_type": "stream",
       "stream": "stdout",
       "text": [
        " 2015-03-13\n",
        "(0.0, 0.39036002917941331, 7)"
       ]
      },
      {
       "output_type": "stream",
       "stream": "stdout",
       "text": [
        " 2015-03-13\n",
        "(0.0, 0.55205244747388349, 6)"
       ]
      },
      {
       "output_type": "stream",
       "stream": "stdout",
       "text": [
        " 2015-03-13\n",
        "(0.0, 0.50917507721731547, 8)"
       ]
      },
      {
       "output_type": "stream",
       "stream": "stdout",
       "text": [
        " 2015-03-13\n",
        "(0.0, -0.45133546692421994, 8)"
       ]
      },
      {
       "output_type": "stream",
       "stream": "stdout",
       "text": [
        " 2015-03-13\n",
        "(0.54772255750516619, 0.8500000000000002, 7)"
       ]
      },
      {
       "output_type": "stream",
       "stream": "stdout",
       "text": [
        " 2015-03-13\n",
        "(-0.10675210253672479, 0.32732683535398854, 8)"
       ]
      },
      {
       "output_type": "stream",
       "stream": "stdout",
       "text": [
        " 2015-03-13\n",
        "(0.36514837167011072, 0.51378309039230152, 11)"
       ]
      },
      {
       "output_type": "stream",
       "stream": "stdout",
       "text": [
        " 2015-03-13\n",
        "(0.0, 0.0, 1)"
       ]
      },
      {
       "output_type": "stream",
       "stream": "stdout",
       "text": [
        " 2015-03-14\n",
        "(0.43033148291193518, 0.8666666666666667, 6)"
       ]
      },
      {
       "output_type": "stream",
       "stream": "stdout",
       "text": [
        " 2015-03-14\n",
        "(0.0, 1.0, 4)"
       ]
      },
      {
       "output_type": "stream",
       "stream": "stdout",
       "text": [
        " 2015-03-14\n",
        "(0.99999999999999989, 0.99999999999999989, 3)"
       ]
      },
      {
       "output_type": "stream",
       "stream": "stdout",
       "text": [
        " 2015-03-14\n",
        "(-0.17108830085824547, 0.44038550605054416, 11)"
       ]
      },
      {
       "output_type": "stream",
       "stream": "stdout",
       "text": [
        " 2015-03-14\n",
        "(0.49596717316068623, 0.65076075014119972, 22)"
       ]
      },
      {
       "output_type": "stream",
       "stream": "stdout",
       "text": [
        " 2015-03-14\n",
        "(0.53452248382484879, 0.96609178307929611, 6)"
       ]
      },
      {
       "output_type": "stream",
       "stream": "stdout",
       "text": [
        " 2015-03-14\n",
        "(0.18232455204452094, 0.32000211572346188, 24)"
       ]
      },
      {
       "output_type": "stream",
       "stream": "stdout",
       "text": [
        " 2015-03-14\n",
        "(0.4237853431797956, 0.45933540141057155, 15)"
       ]
      },
      {
       "output_type": "stream",
       "stream": "stdout",
       "text": [
        " 2015-03-14\n",
        "(0.81649658092772615, 0.99999999999999989, 3)"
       ]
      },
      {
       "output_type": "stream",
       "stream": "stdout",
       "text": [
        " 2015-03-14\n",
        "(0.0, 0.24444444444444449, 10)"
       ]
      },
      {
       "output_type": "stream",
       "stream": "stdout",
       "text": [
        " 2015-03-14\n",
        "(0.81649658092772615, -0.33333333333333326, 3)"
       ]
      },
      {
       "output_type": "stream",
       "stream": "stdout",
       "text": [
        " 2015-03-14\n",
        "(0.99999999999999989, 0.99999999999999989, 3)"
       ]
      },
      {
       "output_type": "stream",
       "stream": "stdout",
       "text": [
        " 2015-03-14\n",
        "(0.17928429140015908, 0.15000000000000002, 7)"
       ]
      },
      {
       "output_type": "stream",
       "stream": "stdout",
       "text": [
        " 2015-03-14\n",
        "(0.0, 0.23529411764705876, 16)"
       ]
      },
      {
       "output_type": "stream",
       "stream": "stdout",
       "text": [
        " 2015-03-14\n",
        "(0.33442802702996927, 0.23606684260939012, 18)"
       ]
      },
      {
       "output_type": "stream",
       "stream": "stdout",
       "text": [
        " 2015-03-14\n",
        "(0.47701497884583249, 0.3742013362170693, 13)"
       ]
      },
      {
       "output_type": "stream",
       "stream": "stdout",
       "text": [
        " 2015-03-14\n",
        "(0.0, 0.44276099200053293, 12)"
       ]
      },
      {
       "output_type": "stream",
       "stream": "stdout",
       "text": [
        " 2015-03-14\n",
        "(0.0, 0.47708429822142284, 11)"
       ]
      },
      {
       "output_type": "stream",
       "stream": "stdout",
       "text": [
        " 2015-03-14\n",
        "(0.45226701686664544, 0.4944132324730442, 10)"
       ]
      },
      {
       "output_type": "stream",
       "stream": "stdout",
       "text": [
        " 2015-03-14\n",
        "(0.46325281931486906, 0.2430976328483252, 14)"
       ]
      },
      {
       "output_type": "stream",
       "stream": "stdout",
       "text": [
        " 2015-03-14\n",
        "(0.56033181468052573, 0.26794565082283345, 15)"
       ]
      },
      {
       "output_type": "stream",
       "stream": "stdout",
       "text": [
        " 2015-03-14\n",
        "(0.65281048222092763, 0.60864782415524687, 43)"
       ]
      },
      {
       "output_type": "stream",
       "stream": "stdout",
       "text": [
        " 2015-03-14\n",
        "(0.65152614054253788, 0.63804713804713797, 35)"
       ]
      },
      {
       "output_type": "stream",
       "stream": "stdout",
       "text": [
        " 2015-03-14\n",
        "(0.33685825363006955, 0.51085213092004611, 25)"
       ]
      },
      {
       "output_type": "stream",
       "stream": "stdout",
       "text": [
        " 2015-03-14\n",
        "(0.51645233445574712, 0.5728412523765446, 29)"
       ]
      },
      {
       "output_type": "stream",
       "stream": "stdout",
       "text": [
        " 2015-03-14\n",
        "(0.60000000000000009, 0.54772255750516619, 4)"
       ]
      },
      {
       "output_type": "stream",
       "stream": "stdout",
       "text": [
        " 2015-03-14\n",
        "(0.74161984870956643, 0.78072005835882663, 7)"
       ]
      },
      {
       "output_type": "stream",
       "stream": "stdout",
       "text": [
        " 2015-03-14\n",
        "(0.0, 0.91287092917527701, 4)"
       ]
      },
      {
       "output_type": "stream",
       "stream": "stdout",
       "text": [
        " 2015-03-14\n",
        "(0.091287092917527693, 0.25000000000000006, 7)"
       ]
      },
      {
       "output_type": "stream",
       "stream": "stdout",
       "text": [
        " 2015-03-14\n",
        "(0.54726732124286037, 0.67731019053650343, 46)"
       ]
      },
      {
       "output_type": "stream",
       "stream": "stdout",
       "text": [
        " 2015-03-14\n",
        "(0.53886904917749845, 0.50042712401954281, 35)"
       ]
      },
      {
       "output_type": "stream",
       "stream": "stdout",
       "text": [
        " 2015-03-14\n",
        "(0.88191710368819698, 0.76376261582597327, 8)"
       ]
      },
      {
       "output_type": "stream",
       "stream": "stdout",
       "text": [
        " 2015-03-14\n",
        "(0.73491165524338509, 0.75377836144440902, 25)"
       ]
      },
      {
       "output_type": "stream",
       "stream": "stdout",
       "text": [
        " 2015-03-14\n",
        "(0.4199605255658081, 0.83650191257130402, 8)"
       ]
      },
      {
       "output_type": "stream",
       "stream": "stdout",
       "text": [
        " 2015-03-14\n",
        "(0.0, 0.91287092917527701, 4)"
       ]
      },
      {
       "output_type": "stream",
       "stream": "stdout",
       "text": [
        " 2015-03-14\n",
        "(0.35856858280031817, 0.64285714285714302, 6)"
       ]
      },
      {
       "output_type": "stream",
       "stream": "stdout",
       "text": [
        " 2015-03-14\n",
        "(0.0, -1.0, 2)"
       ]
      },
      {
       "output_type": "stream",
       "stream": "stdout",
       "text": [
        " 2015-03-14\n",
        "(0.69203856750717196, 0.56490195531102483, 12)"
       ]
      },
      {
       "output_type": "stream",
       "stream": "stdout",
       "text": [
        " 2015-03-14\n",
        "(0.0, 0.2488066757640596, 15)"
       ]
      },
      {
       "output_type": "stream",
       "stream": "stdout",
       "text": [
        " 2015-03-15\n",
        "(0.0, 0.45910450047444479, 20)"
       ]
      },
      {
       "output_type": "stream",
       "stream": "stdout",
       "text": [
        " 2015-03-15\n",
        "(0.0, 0.0, 1)"
       ]
      },
      {
       "output_type": "stream",
       "stream": "stdout",
       "text": [
        " 2015-03-15\n",
        "(0.0, 1.0, 2)"
       ]
      },
      {
       "output_type": "stream",
       "stream": "stdout",
       "text": [
        " 2015-03-15\n",
        "(0.0, 0.0, 1)"
       ]
      },
      {
       "output_type": "stream",
       "stream": "stdout",
       "text": [
        " 2015-03-15\n",
        "(1.0, 1.0, 2)"
       ]
      },
      {
       "output_type": "stream",
       "stream": "stdout",
       "text": [
        " 2015-03-15\n",
        "(0.64993368361968162, 0.83333333333333337, 9)"
       ]
      },
      {
       "output_type": "stream",
       "stream": "stdout",
       "text": [
        " 2015-03-15\n",
        "(0.11547005383792516, 0.73333333333333328, 6)"
       ]
      },
      {
       "output_type": "stream",
       "stream": "stdout",
       "text": [
        " 2015-03-15\n",
        "(0.34783279649996723, 0.28888888888888892, 10)"
       ]
      },
      {
       "output_type": "stream",
       "stream": "stdout",
       "text": [
        " 2015-03-15\n",
        "(0.0, 0.20000000000000001, 6)"
       ]
      },
      {
       "output_type": "stream",
       "stream": "stdout",
       "text": [
        " 2015-03-15\n",
        "(-0.043033148291193528, 0.54554472558998091, 8)"
       ]
      },
      {
       "output_type": "stream",
       "stream": "stdout",
       "text": [
        " 2015-03-15\n",
        "(0.7650920556760058, 0.87037037037037024, 11)"
       ]
      },
      {
       "output_type": "stream",
       "stream": "stdout",
       "text": [
        " 2015-03-15\n",
        "(0.62988977893218678, 0.59299945332888093, 8)"
       ]
      },
      {
       "output_type": "stream",
       "stream": "stdout",
       "text": [
        " 2015-03-15\n",
        "(0.0, -0.33333333333333326, 3)"
       ]
      },
      {
       "output_type": "stream",
       "stream": "stdout",
       "text": [
        " 2015-03-15\n",
        "(0.0, 0.58554004376911994, 7)"
       ]
      },
      {
       "output_type": "stream",
       "stream": "stdout",
       "text": [
        " 2015-03-15\n",
        "(0.60677987621691798, 0.68313005106397329, 7)"
       ]
      },
      {
       "output_type": "stream",
       "stream": "stdout",
       "text": [
        " 2015-03-15\n",
        "(0.48209598181403146, 0.61512986395877967, 70)"
       ]
      },
      {
       "output_type": "stream",
       "stream": "stdout",
       "text": [
        " 2015-03-15\n",
        "(0.0, 0.0, 2)"
       ]
      },
      {
       "output_type": "stream",
       "stream": "stdout",
       "text": [
        " 2015-03-15\n",
        "(0.0, 0.0, 4)"
       ]
      },
      {
       "output_type": "stream",
       "stream": "stdout",
       "text": [
        " 2015-03-15\n",
        "(0.0, 0.0, 3)"
       ]
      },
      {
       "output_type": "stream",
       "stream": "stdout",
       "text": [
        " 2015-03-15\n",
        "(0.0, 0.0, 3)"
       ]
      },
      {
       "output_type": "stream",
       "stream": "stdout",
       "text": [
        " 2015-03-15\n",
        "(0.57735026918962584, 0.59999999999999998, 6)"
       ]
      },
      {
       "output_type": "stream",
       "stream": "stdout",
       "text": [
        " 2015-03-15\n",
        "(0.0, 0.82807867121082523, 6)"
       ]
      },
      {
       "output_type": "stream",
       "stream": "stdout",
       "text": [
        " 2015-03-15\n",
        "(0.0, 0.20459830184114211, 10)"
       ]
      },
      {
       "output_type": "stream",
       "stream": "stdout",
       "text": [
        " 2015-03-15\n",
        "(0.0, 0.14085904245475275, 9)"
       ]
      },
      {
       "output_type": "stream",
       "stream": "stdout",
       "text": [
        " 2015-03-15\n",
        "(0.0, -0.81649658092772615, 3)"
       ]
      },
      {
       "output_type": "stream",
       "stream": "stdout",
       "text": [
        " 2015-03-15\n",
        "(0.0, 0.0, 1)"
       ]
      },
      {
       "output_type": "stream",
       "stream": "stdout",
       "text": [
        " 2015-03-15\n",
        "(0.62861855709371228, 0.64795159529186264, 9)"
       ]
      },
      {
       "output_type": "stream",
       "stream": "stdout",
       "text": [
        " 2015-03-18\n",
        "(0.41591691398811176, 0.53796222011672512, 22)"
       ]
      },
      {
       "output_type": "stream",
       "stream": "stdout",
       "text": [
        " 2015-03-20\n",
        "(0.018962670799619143, 0.37501733663115527, 15)"
       ]
      },
      {
       "output_type": "stream",
       "stream": "stdout",
       "text": [
        " 2015-03-20\n",
        "(0.46288643383392308, 0.56464576495132868, 20)"
       ]
      },
      {
       "output_type": "stream",
       "stream": "stdout",
       "text": [
        " 2015-03-20\n",
        "(0.39477101697586142, 0.42581531362632025, 13)"
       ]
      },
      {
       "output_type": "stream",
       "stream": "stdout",
       "text": [
        " 2015-03-20\n",
        "(0.40679974080915143, 0.50323627974019658, 13)"
       ]
      },
      {
       "output_type": "stream",
       "stream": "stdout",
       "text": [
        " 2015-03-20\n",
        "(0.55579191189705268, 0.5504818825631802, 11)"
       ]
      },
      {
       "output_type": "stream",
       "stream": "stdout",
       "text": [
        " 2015-03-20\n",
        "(0.0, 0.18257418583505539, 4)"
       ]
      },
      {
       "output_type": "stream",
       "stream": "stdout",
       "text": [
        " 2015-03-20\n",
        "(0.0, -0.016012815380508718, 12)"
       ]
      },
      {
       "output_type": "stream",
       "stream": "stdout",
       "text": [
        " 2015-03-20\n",
        "(0.0, -0.07715167498104597, 6)"
       ]
      },
      {
       "output_type": "stream",
       "stream": "stdout",
       "text": [
        " 2015-03-21\n",
        "(0.748190055927209, 0.59160797830996159, 9)"
       ]
      },
      {
       "output_type": "stream",
       "stream": "stdout",
       "text": [
        " 2015-03-21\n",
        "(0.0, 0.31622776601683794, 5)"
       ]
      },
      {
       "output_type": "stream",
       "stream": "stdout",
       "text": [
        " 2015-03-21\n",
        "(0.49090081132279351, 0.76015277675524817, 17)"
       ]
      },
      {
       "output_type": "stream",
       "stream": "stdout",
       "text": [
        " 2015-03-21\n",
        "(0.0, 0.0, 1)"
       ]
      },
      {
       "output_type": "stream",
       "stream": "stdout",
       "text": [
        " 2015-03-21\n",
        "(1.0, 0.66666666666666663, 4)"
       ]
      },
      {
       "output_type": "stream",
       "stream": "stdout",
       "text": [
        " 2015-03-21\n",
        "(0.0, 0.0, 7)"
       ]
      },
      {
       "output_type": "stream",
       "stream": "stdout",
       "text": [
        " 2015-03-21\n",
        "(0.0, -1.0, 2)"
       ]
      },
      {
       "output_type": "stream",
       "stream": "stdout",
       "text": [
        " 2015-03-21\n",
        "(0.52885653459538506, 0.59324164221107512, 16)"
       ]
      },
      {
       "output_type": "stream",
       "stream": "stdout",
       "text": [
        " 2015-03-21\n",
        "(0.0, 0.33333333333333326, 3)"
       ]
      },
      {
       "output_type": "stream",
       "stream": "stdout",
       "text": [
        " 2015-03-21\n",
        "(0.0, 0.61904761904761907, 7)"
       ]
      },
      {
       "output_type": "stream",
       "stream": "stdout",
       "text": [
        " 2015-03-21\n",
        "(0.59761430466719667, 0.59999999999999987, 5)"
       ]
      },
      {
       "output_type": "stream",
       "stream": "stdout",
       "text": [
        " 2015-03-21\n",
        "(0.32198634291188155, 0.5774109120414489, 16)"
       ]
      },
      {
       "output_type": "stream",
       "stream": "stdout",
       "text": [
        " 2015-03-21\n",
        "(0.54772255750516619, 0.19518001458970666, 7)"
       ]
      },
      {
       "output_type": "stream",
       "stream": "stdout",
       "text": [
        " 2015-03-21\n",
        "(0.0, 0.0, 7)"
       ]
      },
      {
       "output_type": "stream",
       "stream": "stdout",
       "text": [
        " 2015-03-21\n",
        "(0.0, 0.61111111111111116, 9)"
       ]
      },
      {
       "output_type": "stream",
       "stream": "stdout",
       "text": [
        " 2015-03-21\n",
        "(0.0, -0.19747036533742382, 16)"
       ]
      },
      {
       "output_type": "stream",
       "stream": "stdout",
       "text": [
        " 2015-03-21\n",
        "(0.66666666666666663, 0.73786478737262184, 5)"
       ]
      },
      {
       "output_type": "stream",
       "stream": "stdout",
       "text": [
        " 2015-03-21\n",
        "(0.0, -0.99999999999999989, 3)"
       ]
      },
      {
       "output_type": "stream",
       "stream": "stdout",
       "text": [
        " 2015-03-22\n",
        "(0.44262666813799051, 0.70429521227376379, 9)"
       ]
      },
      {
       "output_type": "stream",
       "stream": "stdout",
       "text": [
        " 2015-03-22\n",
        "(0.63245553203367577, 0.99999999999999978, 5)"
       ]
      },
      {
       "output_type": "stream",
       "stream": "stdout",
       "text": [
        " 2015-03-22\n",
        "(0.0, 0.73333333333333328, 6)"
       ]
      },
      {
       "output_type": "stream",
       "stream": "stdout",
       "text": [
        " 2015-03-22\n",
        "(0.7453559924999299, 0.46666666666666667, 6)"
       ]
      },
      {
       "output_type": "stream",
       "stream": "stdout",
       "text": [
        " 2015-03-22\n",
        "(0.46106944597707317, 0.50000000000000011, 16)"
       ]
      },
      {
       "output_type": "stream",
       "stream": "stdout",
       "text": [
        " 2015-03-22\n",
        "(0.60731275428119003, 0.35594498532664509, 16)"
       ]
      },
      {
       "output_type": "stream",
       "stream": "stdout",
       "text": [
        " 2015-03-22\n",
        "(0.42224771809447664, 0.45162230233094569, 13)"
       ]
      },
      {
       "output_type": "stream",
       "stream": "stdout",
       "text": [
        " 2015-03-22\n",
        "(0.67241114813538916, 0.46409548089225722, 14)"
       ]
      },
      {
       "output_type": "stream",
       "stream": "stdout",
       "text": [
        " 2015-03-22\n",
        "(0.42642160259523293, 0.49343173123854334, 18)"
       ]
      },
      {
       "output_type": "stream",
       "stream": "stdout",
       "text": [
        " 2015-03-22\n",
        "(0.88888888888888873, 0.73786478737262184, 5)"
       ]
      },
      {
       "output_type": "stream",
       "stream": "stdout",
       "text": [
        " 2015-03-22\n",
        "(0.75925660236529646, 0.4879500364742666, 7)"
       ]
      },
      {
       "output_type": "stream",
       "stream": "stdout",
       "text": [
        " 2015-03-22\n",
        "(0.0, 0.0, 2)"
       ]
      },
      {
       "output_type": "stream",
       "stream": "stdout",
       "text": [
        " 2015-03-22\n",
        "(-0.16666666666666666, 0.10540925533894598, 5)"
       ]
      },
      {
       "output_type": "stream",
       "stream": "stdout",
       "text": [
        " 2015-03-22\n",
        "(0.33333333333333331, 0.52704627669472992, 5)"
       ]
      },
      {
       "output_type": "stream",
       "stream": "stdout",
       "text": [
        " 2015-03-22\n",
        "(0.46294909260973627, 0.47847437646934532, 21)"
       ]
      },
      {
       "output_type": "stream",
       "stream": "stdout",
       "text": [
        " 2015-03-22\n",
        "(0.59723662335609584, 0.59514291978136313, 32)"
       ]
      },
      {
       "output_type": "stream",
       "stream": "stdout",
       "text": [
        " 2015-03-22\n",
        "(0.0, 0.33333333333333326, 3)"
       ]
      },
      {
       "output_type": "stream",
       "stream": "stdout",
       "text": [
        " 2015-03-22\n",
        "(0.0, 0.45933540141057155, 15)"
       ]
      },
      {
       "output_type": "stream",
       "stream": "stdout",
       "text": [
        " 2015-03-22\n",
        "(0.0, 0.18450310115418647, 17)"
       ]
      },
      {
       "output_type": "stream",
       "stream": "stdout",
       "text": [
        " 2015-03-22\n",
        "(0.0, 0.78711315549107674, 13)"
       ]
      },
      {
       "output_type": "stream",
       "stream": "stdout",
       "text": [
        " 2015-03-22\n",
        "(0.0, 0.20805486270578125, 25)"
       ]
      },
      {
       "output_type": "stream",
       "stream": "stdout",
       "text": [
        " 2015-03-22\n",
        "(0.60692650985089469, 0.37638632635454039, 17)"
       ]
      },
      {
       "output_type": "stream",
       "stream": "stdout",
       "text": [
        " 2015-03-22\n",
        "(0.36231440048559044, 0.360493827160494, 29)"
       ]
      },
      {
       "output_type": "stream",
       "stream": "stdout",
       "text": [
        " 2015-03-22\n",
        "(0.0, -0.44444444444444436, 5)"
       ]
      },
      {
       "output_type": "stream",
       "stream": "stdout",
       "text": [
        " 2015-03-22\n",
        "(0.0, 0.23145502494313788, 6)"
       ]
      },
      {
       "output_type": "stream",
       "stream": "stdout",
       "text": [
        " 2015-03-22\n",
        "(0.0, 0.0, 6)"
       ]
      },
      {
       "output_type": "stream",
       "stream": "stdout",
       "text": [
        " 2015-03-22\n",
        "(0.0, 0.20515248496555452, 8)"
       ]
      },
      {
       "output_type": "stream",
       "stream": "stdout",
       "text": [
        " 2015-03-22\n",
        "(0.0, 1.0, 2)"
       ]
      },
      {
       "output_type": "stream",
       "stream": "stdout",
       "text": [
        " 2015-03-22\n",
        "(0.70710678118654757, 0.33333333333333331, 4)"
       ]
      },
      {
       "output_type": "stream",
       "stream": "stdout",
       "text": [
        " 2015-03-22\n",
        "(0.52704627669472992, 0.59999999999999987, 5)"
       ]
      },
      {
       "output_type": "stream",
       "stream": "stdout",
       "text": [
        " 2015-03-22\n",
        "(0.54029546723916932, 0.66666666666666696, 12)"
       ]
      },
      {
       "output_type": "stream",
       "stream": "stdout",
       "text": [
        " 2015-03-22\n",
        "(0.66666666666666663, 0.0, 4)"
       ]
      },
      {
       "output_type": "stream",
       "stream": "stdout",
       "text": [
        " 2015-03-22\n",
        "(0.48112522432468813, 0.092592592592592574, 11)"
       ]
      },
      {
       "output_type": "stream",
       "stream": "stdout",
       "text": [
        " 2015-03-22\n",
        "(0.304467458637943, 0.42891690787496173, 21)"
       ]
      },
      {
       "output_type": "stream",
       "stream": "stdout",
       "text": [
        " 2015-03-22\n",
        "(0.50429863321247315, 0.64423076923076927, 15)"
       ]
      },
      {
       "output_type": "stream",
       "stream": "stdout",
       "text": [
        " 2015-03-22\n",
        "(0.50569728198475172, 0.49131101990421683, 28)"
       ]
      },
      {
       "output_type": "stream",
       "stream": "stdout",
       "text": [
        " 2015-03-22\n",
        "(0.33282011773513748, 0.56044853831780517, 12)"
       ]
      },
      {
       "output_type": "stream",
       "stream": "stdout",
       "text": [
        " 2015-03-22\n",
        "(0.0, 0.91287092917527701, 4)"
       ]
      },
      {
       "output_type": "stream",
       "stream": "stdout",
       "text": [
        " 2015-03-27\n",
        "(0.0, 0.0, 2)"
       ]
      },
      {
       "output_type": "stream",
       "stream": "stdout",
       "text": [
        " 2015-03-28\n",
        "(0.85634883857767496, 0.73333333333333328, 6)"
       ]
      },
      {
       "output_type": "stream",
       "stream": "stdout",
       "text": [
        " 2015-03-28\n",
        "(0.0, 0.0, 3)"
       ]
      },
      {
       "output_type": "stream",
       "stream": "stdout",
       "text": [
        " 2015-03-28\n",
        "(0.64153544883792457, 0.61879397452300966, 14)"
       ]
      },
      {
       "output_type": "stream",
       "stream": "stdout",
       "text": [
        " 2015-03-28\n",
        "(0.22222222222222218, 0.10540925533894598, 5)"
       ]
      },
      {
       "output_type": "stream",
       "stream": "stdout",
       "text": [
        " 2015-03-28\n",
        "(0.0, -0.097590007294853329, 7)"
       ]
      },
      {
       "output_type": "stream",
       "stream": "stdout",
       "text": [
        " 2015-03-28\n",
        "(0.0, 0.68313005106397329, 7)"
       ]
      },
      {
       "output_type": "stream",
       "stream": "stdout",
       "text": [
        " 2015-03-28\n",
        "(0.54772255750516619, 0.68313005106397329, 7)"
       ]
      },
      {
       "output_type": "stream",
       "stream": "stdout",
       "text": [
        " 2015-03-28\n",
        "(0.64460994254043091, 0.76555900235095264, 15)"
       ]
      },
      {
       "output_type": "stream",
       "stream": "stdout",
       "text": [
        " 2015-03-28\n",
        "(0.0, -0.31622776601683794, 5)"
       ]
      },
      {
       "output_type": "stream",
       "stream": "stdout",
       "text": [
        " 2015-03-28\n",
        "(0.0, 0.40451991747794525, 10)"
       ]
      },
      {
       "output_type": "stream",
       "stream": "stdout",
       "text": [
        " 2015-03-28\n",
        "(0.68486871131586391, 0.74179818701891631, 27)"
       ]
      },
      {
       "output_type": "stream",
       "stream": "stdout",
       "text": [
        " 2015-03-28\n",
        "(0.64818121608766854, 0.77067463558845228, 11)"
       ]
      },
      {
       "output_type": "stream",
       "stream": "stdout",
       "text": [
        " 2015-03-28\n",
        "(0.41132608474996168, 0.57953188322412064, 29)"
       ]
      },
      {
       "output_type": "stream",
       "stream": "stdout",
       "text": [
        " 2015-03-28\n",
        "(0.0, 0.35983578576496089, 16)"
       ]
      },
      {
       "output_type": "stream",
       "stream": "stdout",
       "text": [
        " 2015-03-28\n",
        "(0.0, 0.55132201874426612, 19)"
       ]
      },
      {
       "output_type": "stream",
       "stream": "stdout",
       "text": [
        " 2015-03-28\n",
        "(0.58925565098878963, 0.73786478737262184, 5)"
       ]
      },
      {
       "output_type": "stream",
       "stream": "stdout",
       "text": [
        " 2015-03-28\n",
        "(0.0, 0.0, 3)"
       ]
      },
      {
       "output_type": "stream",
       "stream": "stdout",
       "text": [
        " 2015-03-28\n",
        "(0.0, 0.0, 1)"
       ]
      },
      {
       "output_type": "stream",
       "stream": "stdout",
       "text": [
        " 2015-03-28\n",
        "(0.28867513459481281, 0.51378309039230152, 11)"
       ]
      },
      {
       "output_type": "stream",
       "stream": "stdout",
       "text": [
        " 2015-03-28\n",
        "(0.63391779204848542, 0.7116922719109211, 53)"
       ]
      },
      {
       "output_type": "stream",
       "stream": "stdout",
       "text": [
        " 2015-03-28\n",
        "(0.0, -1.0, 2)"
       ]
      },
      {
       "output_type": "stream",
       "stream": "stdout",
       "text": [
        " 2015-03-28\n",
        "(0.0, 0.0, 2)"
       ]
      },
      {
       "output_type": "stream",
       "stream": "stdout",
       "text": [
        " 2015-03-28\n",
        "(0.0, 0.0, 2)"
       ]
      },
      {
       "output_type": "stream",
       "stream": "stdout",
       "text": [
        " 2015-03-28\n",
        "(0.0, 0.22222222222222221, 8)"
       ]
      },
      {
       "output_type": "stream",
       "stream": "stdout",
       "text": [
        " 2015-03-28\n",
        "(0.38650060290946875, 0.52592899443702712, 14)"
       ]
      },
      {
       "output_type": "stream",
       "stream": "stdout",
       "text": [
        " 2015-03-28\n",
        "(0.73156352095028976, 0.68543652683762935, 14)"
       ]
      },
      {
       "output_type": "stream",
       "stream": "stdout",
       "text": [
        " 2015-03-28\n",
        "(0.0, 0.0, 7)"
       ]
      },
      {
       "output_type": "stream",
       "stream": "stdout",
       "text": [
        " 2015-03-28\n",
        "(0.0, 0.0, 5)"
       ]
      },
      {
       "output_type": "stream",
       "stream": "stdout",
       "text": [
        " 2015-03-28\n",
        "(0.0, -0.03314967720658981, 12)"
       ]
      },
      {
       "output_type": "stream",
       "stream": "stdout",
       "text": [
        " 2015-03-28\n",
        "(0.0, -0.073960026163363904, 12)"
       ]
      },
      {
       "output_type": "stream",
       "stream": "stdout",
       "text": [
        " 2015-03-28\n",
        "(0.0, 0.0, 2)"
       ]
      },
      {
       "output_type": "stream",
       "stream": "stdout",
       "text": [
        " 2015-03-28\n",
        "(0.0, -0.47809144373375756, 9)"
       ]
      },
      {
       "output_type": "stream",
       "stream": "stdout",
       "text": [
        " 2015-03-28\n",
        "(0.0, 0.17457431218879391, 9)"
       ]
      },
      {
       "output_type": "stream",
       "stream": "stdout",
       "text": [
        " 2015-03-28\n",
        "(0.18105170609447541, 0.30622360094038104, 15)"
       ]
      },
      {
       "output_type": "stream",
       "stream": "stdout",
       "text": [
        " 2015-03-28\n",
        "(0.0, 0.70710678118654757, 4)"
       ]
      },
      {
       "output_type": "stream",
       "stream": "stdout",
       "text": [
        " 2015-03-28\n",
        "(0.70975492666205087, 0.69508570323875984, 18)"
       ]
      },
      {
       "output_type": "stream",
       "stream": "stdout",
       "text": [
        " 2015-03-29\n",
        "(0.55845665941527556, 0.60646423455869847, 13)"
       ]
      },
      {
       "output_type": "stream",
       "stream": "stdout",
       "text": [
        " 2015-03-29\n",
        "(0.0, 0.29008478786241815, 12)"
       ]
      },
      {
       "output_type": "stream",
       "stream": "stdout",
       "text": [
        " 2015-03-29\n",
        "(0.0, 0.71130329744236453, 16)"
       ]
      },
      {
       "output_type": "stream",
       "stream": "stdout",
       "text": [
        " 2015-03-29\n",
        "(0.0, 0.42941176470588222, 19)"
       ]
      },
      {
       "output_type": "stream",
       "stream": "stdout",
       "text": [
        " 2015-03-29\n",
        "(0.32539568672798408, 0.46921022871852436, 19)"
       ]
      },
      {
       "output_type": "stream",
       "stream": "stdout",
       "text": [
        " 2015-03-29\n",
        "(0.0, 0.44022770398481964, 33)"
       ]
      },
      {
       "output_type": "stream",
       "stream": "stdout",
       "text": [
        " 2015-03-29\n",
        "(0.3966562141450366, 0.30853045367226678, 24)"
       ]
      },
      {
       "output_type": "stream",
       "stream": "stdout",
       "text": [
        " 2015-03-29\n",
        "(0.46599199184518125, 0.72172993356113968, 43)"
       ]
      },
      {
       "output_type": "stream",
       "stream": "stdout",
       "text": [
        " 2015-03-29\n",
        "(0.4377346993573884, 0.68388520067257486, 13)"
       ]
      },
      {
       "output_type": "stream",
       "stream": "stdout",
       "text": [
        " 2015-03-29\n",
        "(0.0, 0.33333333333333326, 3)"
       ]
      },
      {
       "output_type": "stream",
       "stream": "stdout",
       "text": [
        " 2015-03-29\n",
        "(0.0, 1.0, 4)"
       ]
      },
      {
       "output_type": "stream",
       "stream": "stdout",
       "text": [
        " 2015-03-29\n",
        "(0.44444444444444442, 0.61828402233531166, 8)"
       ]
      },
      {
       "output_type": "stream",
       "stream": "stdout",
       "text": [
        " 2015-03-29\n",
        "(0.36369648372665392, 0.36369648372665392, 8)"
       ]
      },
      {
       "output_type": "stream",
       "stream": "stdout",
       "text": [
        " 2015-03-29\n",
        "(0.57517568417760223, 0.74940547560831483, 21)"
       ]
      },
      {
       "output_type": "stream",
       "stream": "stdout",
       "text": [
        " 2015-03-29\n",
        "(0.0, 0.0, 11)"
       ]
      },
      {
       "output_type": "stream",
       "stream": "stdout",
       "text": [
        " 2015-03-29\n",
        "(0.51639777949432231, 0.66057825907581624, 11)"
       ]
      },
      {
       "output_type": "stream",
       "stream": "stdout",
       "text": [
        " 2015-03-29\n",
        "(0.039310681377071929, 0.51675232658689307, 15)"
       ]
      },
      {
       "output_type": "stream",
       "stream": "stdout",
       "text": [
        " 2015-03-29\n",
        "(0.0, -0.10540925533894598, 5)"
       ]
      },
      {
       "output_type": "stream",
       "stream": "stdout",
       "text": [
        " 2015-03-29\n",
        "(0.0, -0.94868329805051377, 5)"
       ]
      },
      {
       "output_type": "stream",
       "stream": "stdout",
       "text": [
        " 2015-03-29\n",
        "(0.0, -0.22222222222222218, 5)"
       ]
      },
      {
       "output_type": "stream",
       "stream": "stdout",
       "text": [
        " 2015-03-29\n",
        "(0.0, -0.097590007294853329, 7)"
       ]
      },
      {
       "output_type": "stream",
       "stream": "stdout",
       "text": [
        " 2015-03-29\n",
        "(0.0, -0.23094010767585033, 7)"
       ]
      },
      {
       "output_type": "stream",
       "stream": "stdout",
       "text": [
        " 2015-03-29\n",
        "(0.0, 0.5393598899705937, 10)"
       ]
      },
      {
       "output_type": "stream",
       "stream": "stdout",
       "text": [
        " 2015-04-04\n",
        "(0.34426518632954822, 0.74539252866291328, 17)"
       ]
      },
      {
       "output_type": "stream",
       "stream": "stdout",
       "text": [
        " 2015-04-04\n",
        "(0.47809144373375712, 0.64516406448797103, 19)"
       ]
      },
      {
       "output_type": "stream",
       "stream": "stdout",
       "text": [
        " 2015-04-04\n",
        "(0.33521547095048249, 0.51074131140184509, 21)"
       ]
      },
      {
       "output_type": "stream",
       "stream": "stdout",
       "text": [
        " 2015-04-04\n",
        "(0.49487165930539334, 0.65963290298052413, 20)"
       ]
      },
      {
       "output_type": "stream",
       "stream": "stdout",
       "text": [
        " 2015-04-04\n",
        "(0.0, 0.0, 1)"
       ]
      },
      {
       "output_type": "stream",
       "stream": "stdout",
       "text": [
        " 2015-04-04\n",
        "(0.0, 0.0, 1)"
       ]
      },
      {
       "output_type": "stream",
       "stream": "stdout",
       "text": [
        " 2015-04-04\n",
        "(0.0, 0.69102331908064241, 8)"
       ]
      },
      {
       "output_type": "stream",
       "stream": "stdout",
       "text": [
        " 2015-04-04\n",
        "(0.0, 0.94868329805051377, 5)"
       ]
      },
      {
       "output_type": "stream",
       "stream": "stdout",
       "text": [
        " 2015-04-04\n",
        "(0.68393637089690262, 0.70184940877127766, 20)"
       ]
      },
      {
       "output_type": "stream",
       "stream": "stdout",
       "text": [
        " 2015-04-04\n",
        "(0.67606514155830588, 0.49372817116587658, 16)"
       ]
      },
      {
       "output_type": "stream",
       "stream": "stdout",
       "text": [
        " 2015-04-04\n",
        "(0.0, 0.3219008566544958, 20)"
       ]
      },
      {
       "output_type": "stream",
       "stream": "stdout",
       "text": [
        " 2015-04-04\n",
        "(0.36689969285267143, 0.49038461538461547, 15)"
       ]
      },
      {
       "output_type": "stream",
       "stream": "stdout",
       "text": [
        " 2015-04-04\n",
        "(0.0, 0.4728054288446501, 8)"
       ]
      },
      {
       "output_type": "stream",
       "stream": "stdout",
       "text": [
        " 2015-04-04\n",
        "(0.0, 0.4944132324730442, 10)"
       ]
      },
      {
       "output_type": "stream",
       "stream": "stdout",
       "text": [
        " 2015-04-04\n",
        "(0.523784926616497, 0.63227122326332397, 13)"
       ]
      },
      {
       "output_type": "stream",
       "stream": "stdout",
       "text": [
        " 2015-04-04\n",
        "(0.0, -0.91287092917527701, 4)"
       ]
      },
      {
       "output_type": "stream",
       "stream": "stdout",
       "text": [
        " 2015-04-04\n",
        "(0.0, 0.0, 8)"
       ]
      },
      {
       "output_type": "stream",
       "stream": "stdout",
       "text": [
        " 2015-04-04\n",
        "(0.0, 0.0, 6)"
       ]
      },
      {
       "output_type": "stream",
       "stream": "stdout",
       "text": [
        " 2015-04-04\n",
        "(0.0, 0.0, 4)"
       ]
      },
      {
       "output_type": "stream",
       "stream": "stdout",
       "text": [
        " 2015-04-04\n",
        "(0.0, 0.54554472558998091, 8)"
       ]
      },
      {
       "output_type": "stream",
       "stream": "stdout",
       "text": [
        " 2015-04-04\n",
        "(0.48876260995383947, 0.2872972024571116, 14)"
       ]
      },
      {
       "output_type": "stream",
       "stream": "stdout",
       "text": [
        " 2015-04-10\n",
        "(0.3680373690492888, 0.38277950117547632, 15)"
       ]
      },
      {
       "output_type": "stream",
       "stream": "stdout",
       "text": [
        " 2015-04-10\n",
        "(0.32359130167200456, 0.46950548923053798, 30)"
       ]
      },
      {
       "output_type": "stream",
       "stream": "stdout",
       "text": [
        " 2015-04-10\n",
        "(0.59949686059818019, 0.49267074015445056, 19)"
       ]
      },
      {
       "output_type": "stream",
       "stream": "stdout",
       "text": [
        " 2015-04-10\n",
        "(0.40000000000000008, 0.54772255750516619, 4)"
       ]
      },
      {
       "output_type": "stream",
       "stream": "stdout",
       "text": [
        " 2015-04-10\n",
        "(0.64641870552850123, 0.59543719613864776, 12)"
       ]
      },
      {
       "output_type": "stream",
       "stream": "stdout",
       "text": [
        " 2015-04-10\n",
        "(0.0, 0.62360956446232352, 6)"
       ]
      },
      {
       "output_type": "stream",
       "stream": "stdout",
       "text": [
        " 2015-04-10\n",
        "(0.68729847593158189, 0.58430799288240576, 25)"
       ]
      },
      {
       "output_type": "stream",
       "stream": "stdout",
       "text": [
        " 2015-04-11\n",
        "(0.0, 0.0, 3)"
       ]
      },
      {
       "output_type": "stream",
       "stream": "stdout",
       "text": [
        " 2015-04-11\n",
        "(0.0, -0.33333333333333326, 3)"
       ]
      },
      {
       "output_type": "stream",
       "stream": "stdout",
       "text": [
        " 2015-04-11\n",
        "(0.0, 0.53526436132806043, 9)"
       ]
      },
      {
       "output_type": "stream",
       "stream": "stdout",
       "text": [
        " 2015-04-11\n",
        "(0.54653572500002112, 0.36363636363636359, 13)"
       ]
      },
      {
       "output_type": "stream",
       "stream": "stdout",
       "text": [
        " 2015-04-11\n",
        "(0.59835652930182448, 0.44351852664053321, 16)"
       ]
      },
      {
       "output_type": "stream",
       "stream": "stdout",
       "text": [
        " 2015-04-11\n",
        "(0.54997194092287027, 0.69727705124669492, 11)"
       ]
      },
      {
       "output_type": "stream",
       "stream": "stdout",
       "text": [
        " 2015-04-11\n",
        "(0.30934411244487309, 0.37708937944622206, 21)"
       ]
      },
      {
       "output_type": "stream",
       "stream": "stdout",
       "text": [
        " 2015-04-11\n",
        "(0.0, -0.81649658092772615, 3)"
       ]
      },
      {
       "output_type": "stream",
       "stream": "stdout",
       "text": [
        " 2015-04-11\n",
        "(0.53935988997059381, 0.4879500364742666, 7)"
       ]
      },
      {
       "output_type": "stream",
       "stream": "stdout",
       "text": [
        " 2015-04-11\n",
        "(0.64450338663548956, 0.59999999999999998, 6)"
       ]
      },
      {
       "output_type": "stream",
       "stream": "stdout",
       "text": [
        " 2015-04-11\n",
        "(0.73112615501393097, 0.69786315779885355, 12)"
       ]
      },
      {
       "output_type": "stream",
       "stream": "stdout",
       "text": [
        " 2015-04-11\n",
        "(0.0, 0.057142857142857155, 9)"
       ]
      },
      {
       "output_type": "stream",
       "stream": "stdout",
       "text": [
        " 2015-04-11\n",
        "(0.3774256780481986, 0.35576923076923084, 15)"
       ]
      },
      {
       "output_type": "stream",
       "stream": "stdout",
       "text": [
        " 2015-04-11\n",
        "(0.0, 0.18257418583505539, 4)"
       ]
      },
      {
       "output_type": "stream",
       "stream": "stdout",
       "text": [
        " 2015-04-11\n",
        "(0.55233989995234389, 0.48619526569665039, 14)"
       ]
      },
      {
       "output_type": "stream",
       "stream": "stdout",
       "text": [
        " 2015-04-11\n",
        "(0.0, 0.23204774044612855, 9)"
       ]
      },
      {
       "output_type": "stream",
       "stream": "stdout",
       "text": [
        " 2015-04-11\n",
        "(0.0, 0.15811388300841897, 7)"
       ]
      },
      {
       "output_type": "stream",
       "stream": "stdout",
       "text": [
        " 2015-04-11\n",
        "(0.7745966692414834, 0.54772255750516619, 4)"
       ]
      },
      {
       "output_type": "stream",
       "stream": "stdout",
       "text": [
        " 2015-04-11\n",
        "(0.89442719099991586, 0.8666666666666667, 6)"
       ]
      },
      {
       "output_type": "stream",
       "stream": "stdout",
       "text": [
        " 2015-04-11\n",
        "(0.59215652546379216, 0.80952380952380953, 7)"
       ]
      },
      {
       "output_type": "stream",
       "stream": "stdout",
       "text": [
        " 2015-04-11\n",
        "(0.50128041182760308, 0.59999999999999998, 6)"
       ]
      },
      {
       "output_type": "stream",
       "stream": "stdout",
       "text": [
        " 2015-04-11\n",
        "(0.81649658092772615, 0.61904761904761907, 7)"
       ]
      },
      {
       "output_type": "stream",
       "stream": "stdout",
       "text": [
        " 2015-04-11\n",
        "(0.4377346993573884, 0.45162230233094569, 13)"
       ]
      },
      {
       "output_type": "stream",
       "stream": "stdout",
       "text": [
        " 2015-04-11\n",
        "(0.40000000000000008, 0.54772255750516619, 4)"
       ]
      },
      {
       "output_type": "stream",
       "stream": "stdout",
       "text": [
        " 2015-04-11\n",
        "(0.0, 0.33333333333333331, 4)"
       ]
      },
      {
       "output_type": "stream",
       "stream": "stdout",
       "text": [
        " 2015-04-11\n",
        "(0.65275336576821963, 0.51111111111111118, 10)"
       ]
      },
      {
       "output_type": "stream",
       "stream": "stdout",
       "text": [
        " 2015-04-11\n",
        "(0.63245553203367577, 0.79999999999999982, 5)"
       ]
      },
      {
       "output_type": "stream",
       "stream": "stdout",
       "text": [
        " 2015-04-11\n",
        "(0.46017899330842227, 0.51111111111111118, 10)"
       ]
      },
      {
       "output_type": "stream",
       "stream": "stdout",
       "text": [
        " 2015-04-11\n",
        "(0.64439689955218904, 0.59168020930691123, 26)"
       ]
      },
      {
       "output_type": "stream",
       "stream": "stdout",
       "text": [
        " 2015-04-11\n",
        "(0.35861817081353498, 0.41083626117020861, 37)"
       ]
      },
      {
       "output_type": "stream",
       "stream": "stdout",
       "text": [
        " 2015-04-11\n",
        "(0.57735026918962584, 0.20000000000000001, 6)"
       ]
      },
      {
       "output_type": "stream",
       "stream": "stdout",
       "text": [
        " 2015-04-11\n",
        "(0.46380072349136225, 0.41989591128347081, 14)"
       ]
      },
      {
       "output_type": "stream",
       "stream": "stdout",
       "text": [
        " 2015-04-11\n",
        "(0.0, 1.0, 2)"
       ]
      },
      {
       "output_type": "stream",
       "stream": "stdout",
       "text": [
        " 2015-04-11\n",
        "(0.0, 0.0, 1)"
       ]
      },
      {
       "output_type": "stream",
       "stream": "stdout",
       "text": [
        " 2015-04-11\n",
        "(0.0, 0.0, 4)"
       ]
      },
      {
       "output_type": "stream",
       "stream": "stdout",
       "text": [
        " 2015-04-11\n",
        "(0.0, -0.66666666666666652, 5)"
       ]
      },
      {
       "output_type": "stream",
       "stream": "stdout",
       "text": [
        " 2015-04-11\n",
        "(0.0, -0.20286020648339484, 11)"
       ]
      },
      {
       "output_type": "stream",
       "stream": "stdout",
       "text": [
        " 2015-04-11\n",
        "(0.0, 0.20434782608695648, 22)"
       ]
      },
      {
       "output_type": "stream",
       "stream": "stdout",
       "text": [
        " 2015-04-11\n",
        "(0.3108349360801046, 0.12652405186931986, 21)"
       ]
      },
      {
       "output_type": "stream",
       "stream": "stdout",
       "text": [
        " 2015-04-11\n",
        "(0.0, 0.34390699009650166, 25)"
       ]
      },
      {
       "output_type": "stream",
       "stream": "stdout",
       "text": [
        " 2015-04-11\n",
        "(0.71277448215127326, 0.66885605405993864, 18)"
       ]
      },
      {
       "output_type": "stream",
       "stream": "stdout",
       "text": [
        " 2015-04-11\n",
        "(0.3550358012483632, 0.24267994853915967, 16)"
       ]
      },
      {
       "output_type": "stream",
       "stream": "stdout",
       "text": [
        " 2015-04-11\n",
        "(0.63245553203367577, 0.59999999999999987, 5)"
       ]
      },
      {
       "output_type": "stream",
       "stream": "stdout",
       "text": [
        " 2015-04-11\n",
        "(0.0, 0.7142857142857143, 7)"
       ]
      },
      {
       "output_type": "stream",
       "stream": "stdout",
       "text": [
        " 2015-04-11\n",
        "(0.50888168907586229, 0.5, 9)"
       ]
      },
      {
       "output_type": "stream",
       "stream": "stdout",
       "text": [
        " 2015-04-11\n",
        "(0.59108280467932539, 0.4285714285714286, 8)"
       ]
      },
      {
       "output_type": "stream",
       "stream": "stdout",
       "text": [
        " 2015-04-11\n",
        "(0.13093073414159545, 0.30988989340045608, 9)"
       ]
      },
      {
       "output_type": "stream",
       "stream": "stdout",
       "text": [
        " 2015-04-11\n",
        "(0.0, 0.73771111356331753, 9)"
       ]
      },
      {
       "output_type": "stream",
       "stream": "stdout",
       "text": [
        " 2015-04-11\n",
        "(0.0, -0.35714285714285721, 6)"
       ]
      },
      {
       "output_type": "stream",
       "stream": "stdout",
       "text": [
        " 2015-04-11\n",
        "(0.091287092917527693, 0.45000000000000007, 7)"
       ]
      },
      {
       "output_type": "stream",
       "stream": "stdout",
       "text": [
        " 2015-04-11\n",
        "(0.0, -0.63245553203367577, 5)"
       ]
      },
      {
       "output_type": "stream",
       "stream": "stdout",
       "text": [
        " 2015-04-11\n",
        "(0.0, 1.0, 2)"
       ]
      },
      {
       "output_type": "stream",
       "stream": "stdout",
       "text": [
        " 2015-04-12\n",
        "(-1.0, -1.0, 2)"
       ]
      },
      {
       "output_type": "stream",
       "stream": "stdout",
       "text": [
        " 2015-04-12\n",
        "(0.0, 0.33333333333333326, 3)"
       ]
      },
      {
       "output_type": "stream",
       "stream": "stdout",
       "text": [
        " 2015-04-12\n",
        "(0.72820205465646115, 0.59330822682198825, 15)"
       ]
      },
      {
       "output_type": "stream",
       "stream": "stdout",
       "text": [
        " 2015-04-12\n",
        "(0.0, 0.22019275302527208, 11)"
       ]
      },
      {
       "output_type": "stream",
       "stream": "stdout",
       "text": [
        " 2015-04-12\n",
        "(-0.087705801930702945, 0.61879397452300966, 14)"
       ]
      },
      {
       "output_type": "stream",
       "stream": "stdout",
       "text": [
        " 2015-04-12\n",
        "(0.27406406388125953, 0.55249462010982997, 14)"
       ]
      },
      {
       "output_type": "stream",
       "stream": "stdout",
       "text": [
        " 2015-04-12\n",
        "(0.0, 0.96609178307929611, 6)"
       ]
      },
      {
       "output_type": "stream",
       "stream": "stdout",
       "text": [
        " 2015-04-12\n",
        "(0.0, 0.20291986247835692, 9)"
       ]
      },
      {
       "output_type": "stream",
       "stream": "stdout",
       "text": [
        " 2015-04-12\n",
        "(0.0, -0.20935894733965593, 10)"
       ]
      },
      {
       "output_type": "stream",
       "stream": "stdout",
       "text": [
        " 2015-04-12\n",
        "(0.50917507721731547, 0.54554472558998091, 8)"
       ]
      },
      {
       "output_type": "stream",
       "stream": "stdout",
       "text": [
        " 2015-04-12\n",
        "(0.72861208886269935, 0.816982446237566, 9)"
       ]
      },
      {
       "output_type": "stream",
       "stream": "stdout",
       "text": [
        " 2015-04-12\n",
        "(0.63519075645377454, 0.44038550605054416, 11)"
       ]
      },
      {
       "output_type": "stream",
       "stream": "stdout",
       "text": [
        " 2015-04-12\n",
        "(0.0, 0.0, 4)"
       ]
      },
      {
       "output_type": "stream",
       "stream": "stdout",
       "text": [
        " 2015-04-12\n",
        "(0.2581988897471611, 0.46666666666666667, 6)"
       ]
      },
      {
       "output_type": "stream",
       "stream": "stdout",
       "text": [
        " 2015-04-12\n",
        "(0.41303706026554643, 0.4181818181818181, 11)"
       ]
      },
      {
       "output_type": "stream",
       "stream": "stdout",
       "text": [
        " 2015-04-12\n",
        "(0.72881088881349509, 0.68890328476201967, 40)"
       ]
      },
      {
       "output_type": "stream",
       "stream": "stdout",
       "text": [
        " 2015-04-12\n",
        "(0.0, 0.33333333333333326, 3)"
       ]
      },
      {
       "output_type": "stream",
       "stream": "stdout",
       "text": [
        " 2015-04-12\n",
        "(0.81649658092772615, 0.33333333333333326, 3)"
       ]
      },
      {
       "output_type": "stream",
       "stream": "stdout",
       "text": [
        " 2015-04-12\n",
        "(0.42257712736425818, 0.40213475566327489, 15)"
       ]
      },
      {
       "output_type": "stream",
       "stream": "stdout",
       "text": [
        " 2015-04-12\n",
        "(0.0, -0.35634832254989918, 6)"
       ]
      },
      {
       "output_type": "stream",
       "stream": "stdout",
       "text": [
        " 2015-04-12\n",
        "(0.0, 0.0, 4)"
       ]
      },
      {
       "output_type": "stream",
       "stream": "stdout",
       "text": [
        " 2015-04-12\n",
        "(0.0, 0.28721347895177629, 8)"
       ]
      },
      {
       "output_type": "stream",
       "stream": "stdout",
       "text": [
        " 2015-04-12\n",
        "(0.0, -0.030772872744833181, 10)"
       ]
      },
      {
       "output_type": "stream",
       "stream": "stdout",
       "text": [
        " 2015-04-14\n",
        "(0.67595635661441233, 0.78181818181818163, 11)"
       ]
      },
      {
       "output_type": "stream",
       "stream": "stdout",
       "text": [
        " 2015-04-15\n",
        "(0.0, 0.25354627641855498, 9)"
       ]
      },
      {
       "output_type": "stream",
       "stream": "stdout",
       "text": [
        " 2015-04-18\n",
        "(-0.21821789023599233, -0.66666666666666663, 8)"
       ]
      },
      {
       "output_type": "stream",
       "stream": "stdout",
       "text": [
        " 2015-04-18\n",
        "(0.0, 0.0, 6)"
       ]
      },
      {
       "output_type": "stream",
       "stream": "stdout",
       "text": [
        " 2015-04-18\n",
        "(0.0, -0.10192943828752513, 10)"
       ]
      },
      {
       "output_type": "stream",
       "stream": "stdout",
       "text": [
        " 2015-04-18\n",
        "(0.0, 0.78072005835882663, 7)"
       ]
      },
      {
       "output_type": "stream",
       "stream": "stdout",
       "text": [
        " 2015-04-18\n",
        "(0.35856858280031817, 0.69006555934235436, 6)"
       ]
      },
      {
       "output_type": "stream",
       "stream": "stdout",
       "text": [
        " 2015-04-18\n",
        "(0.50917507721731547, 0.4728054288446501, 8)"
       ]
      },
      {
       "output_type": "stream",
       "stream": "stdout",
       "text": [
        " 2015-04-18\n",
        "(0.15118578920369091, 0.19889806323953876, 9)"
       ]
      },
      {
       "output_type": "stream",
       "stream": "stdout",
       "text": [
        " 2015-04-18\n",
        "(0.3411211461689766, 0.48617243480439754, 11)"
       ]
      },
      {
       "output_type": "stream",
       "stream": "stdout",
       "text": [
        " 2015-04-18\n",
        "(0.43707337873812391, 0.25689154519615076, 11)"
       ]
      },
      {
       "output_type": "stream",
       "stream": "stdout",
       "text": [
        " 2015-04-18\n",
        "(0.0, 0.0, 7)"
       ]
      },
      {
       "output_type": "stream",
       "stream": "stdout",
       "text": [
        " 2015-04-18\n",
        "(0.0, 0.91287092917527701, 4)"
       ]
      },
      {
       "output_type": "stream",
       "stream": "stdout",
       "text": [
        " 2015-04-18\n",
        "(0.55943092778551584, 0.66666666666666663, 9)"
       ]
      },
      {
       "output_type": "stream",
       "stream": "stdout",
       "text": [
        " 2015-04-18\n",
        "(0.0, -0.21428571428571433, 8)"
       ]
      },
      {
       "output_type": "stream",
       "stream": "stdout",
       "text": [
        " 2015-04-18\n",
        "(0.57290323005104538, 0.53787286092961206, 26)"
       ]
      },
      {
       "output_type": "stream",
       "stream": "stdout",
       "text": [
        " 2015-04-18\n",
        "(0.0, -0.57735026918962584, 7)"
       ]
      },
      {
       "output_type": "stream",
       "stream": "stdout",
       "text": [
        " 2015-04-18\n",
        "(0.0, -0.53502842097912073, 10)"
       ]
      },
      {
       "output_type": "stream",
       "stream": "stdout",
       "text": [
        " 2015-04-18\n",
        "(0.0, 0.07715167498104597, 6)"
       ]
      },
      {
       "output_type": "stream",
       "stream": "stdout",
       "text": [
        " 2015-04-18\n",
        "(0.0, 0.29277002188455997, 7)"
       ]
      },
      {
       "output_type": "stream",
       "stream": "stdout",
       "text": [
        " 2015-04-18\n",
        "(0.74161984870956643, 0.29277002188455997, 7)"
       ]
      },
      {
       "output_type": "stream",
       "stream": "stdout",
       "text": [
        " 2015-04-18\n",
        "(0.25110592822973782, 0.53526436132806043, 9)"
       ]
      },
      {
       "output_type": "stream",
       "stream": "stdout",
       "text": [
        " 2015-04-18\n",
        "(0.0, 0.91287092917527701, 4)"
       ]
      },
      {
       "output_type": "stream",
       "stream": "stdout",
       "text": [
        " 2015-04-18\n",
        "(0.0, 0.66666666666666663, 4)"
       ]
      },
      {
       "output_type": "stream",
       "stream": "stdout",
       "text": [
        " 2015-04-18\n",
        "(0.5596832581217881, 0.5884138392584306, 37)"
       ]
      },
      {
       "output_type": "stream",
       "stream": "stdout",
       "text": [
        " 2015-04-19\n",
        "(0.43264756313008484, 0.70870235071550125, 22)"
       ]
      },
      {
       "output_type": "stream",
       "stream": "stdout",
       "text": [
        " 2015-04-19\n",
        "(0.61277150542579806, 0.76702644191335956, 15)"
       ]
      },
      {
       "output_type": "stream",
       "stream": "stdout",
       "text": [
        " 2015-04-19\n",
        "(0.089087080637474794, 0.13801311186847087, 6)"
       ]
      },
      {
       "output_type": "stream",
       "stream": "stdout",
       "text": [
        " 2015-04-19\n",
        "(0.53935988997059381, 0.19518001458970666, 7)"
       ]
      },
      {
       "output_type": "stream",
       "stream": "stdout",
       "text": [
        " 2015-04-19\n",
        "(0.0, 0.33333333333333326, 3)"
       ]
      },
      {
       "output_type": "stream",
       "stream": "stdout",
       "text": [
        " 2015-04-19\n",
        "(0.0, 0.52704627669472992, 5)"
       ]
      },
      {
       "output_type": "stream",
       "stream": "stdout",
       "text": [
        " 2015-04-19\n",
        "(0.0, 0.4879500364742666, 7)"
       ]
      },
      {
       "output_type": "stream",
       "stream": "stdout",
       "text": [
        " 2015-04-19\n",
        "(0.0, 0.4879500364742666, 7)"
       ]
      },
      {
       "output_type": "stream",
       "stream": "stdout",
       "text": [
        " 2015-04-19\n",
        "(0.0, -0.7745966692414834, 4)"
       ]
      },
      {
       "output_type": "stream",
       "stream": "stdout",
       "text": [
        " 2015-04-19\n",
        "(0.0, 0.26454233863413501, 14)"
       ]
      },
      {
       "output_type": "stream",
       "stream": "stdout",
       "text": [
        " 2015-04-22\n",
        "(0.0, 0.78072005835882663, 7)"
       ]
      },
      {
       "output_type": "stream",
       "stream": "stdout",
       "text": [
        " 2015-04-24\n",
        "(0.0, 0.023460511435926219, 19)"
       ]
      },
      {
       "output_type": "stream",
       "stream": "stdout",
       "text": [
        " 2015-04-24\n",
        "(0.31706324373711398, 0.43799624757906802, 20)"
       ]
      },
      {
       "output_type": "stream",
       "stream": "stdout",
       "text": [
        " 2015-04-24\n",
        "(0.46485723578004545, 0.29584010465345562, 26)"
       ]
      },
      {
       "output_type": "stream",
       "stream": "stdout",
       "text": [
        " 2015-04-24\n",
        "(0.51298917604257699, 0.53874905537022444, 17)"
       ]
      },
      {
       "output_type": "stream",
       "stream": "stdout",
       "text": [
        " 2015-04-24\n",
        "(0.51716294631436222, 0.46170684067013124, 31)"
       ]
      },
      {
       "output_type": "stream",
       "stream": "stdout",
       "text": [
        " 2015-04-24\n",
        "(0.0, 0.33333333333333331, 4)"
       ]
      },
      {
       "output_type": "stream",
       "stream": "stdout",
       "text": [
        " 2015-04-24\n",
        "(0.0, 0.094012679136294311, 13)"
       ]
      },
      {
       "output_type": "stream",
       "stream": "stdout",
       "text": [
        " 2015-04-24\n",
        "(0.0, 0.39036002917941331, 7)"
       ]
      },
      {
       "output_type": "stream",
       "stream": "stdout",
       "text": [
        " 2015-04-25\n",
        "(0.0, 0.0, 7)"
       ]
      },
      {
       "output_type": "stream",
       "stream": "stdout",
       "text": [
        " 2015-04-25\n",
        "(0.0, 0.066914960511820581, 17)"
       ]
      },
      {
       "output_type": "stream",
       "stream": "stdout",
       "text": [
        " 2015-04-25\n",
        "(0.0, 0.22222222222222218, 20)"
       ]
      },
      {
       "output_type": "stream",
       "stream": "stdout",
       "text": [
        " 2015-04-25\n",
        "(0.0, 0.41403933560541262, 6)"
       ]
      },
      {
       "output_type": "stream",
       "stream": "stdout",
       "text": [
        " 2015-04-25\n",
        "(0.41307979935470163, 0.67326864673915676, 23)"
       ]
      },
      {
       "output_type": "stream",
       "stream": "stdout",
       "text": [
        " 2015-04-25\n",
        "(0.071428571428571452, 0.28571428571428575, 8)"
       ]
      },
      {
       "output_type": "stream",
       "stream": "stdout",
       "text": [
        " 2015-04-25\n",
        "(0.31703756956048695, 0.41222575117290999, 12)"
       ]
      },
      {
       "output_type": "stream",
       "stream": "stdout",
       "text": [
        " 2015-04-25\n",
        "(0.0, 0.0, 6)"
       ]
      },
      {
       "output_type": "stream",
       "stream": "stdout",
       "text": [
        " 2015-04-25\n",
        "(0.0, 0.0, 6)"
       ]
      },
      {
       "output_type": "stream",
       "stream": "stdout",
       "text": [
        " 2015-04-25\n",
        "(0.11881211413043936, 0.34549374551423889, 13)"
       ]
      },
      {
       "output_type": "stream",
       "stream": "stdout",
       "text": [
        " 2015-04-25\n",
        "(0.34641016151377552, 0.13801311186847087, 6)"
       ]
      },
      {
       "output_type": "stream",
       "stream": "stdout",
       "text": [
        " 2015-04-25\n",
        "(0.7745966692414834, 0.80000000000000016, 4)"
       ]
      },
      {
       "output_type": "stream",
       "stream": "stdout",
       "text": [
        " 2015-04-25\n",
        "(0.0, 0.0, 1)"
       ]
      },
      {
       "output_type": "stream",
       "stream": "stdout",
       "text": [
        " 2015-04-25\n",
        "(0.82915619758885029, 0.58430654746814314, 10)"
       ]
      },
      {
       "output_type": "stream",
       "stream": "stdout",
       "text": [
        " 2015-04-25\n",
        "(0.77285259678908791, 0.62925320496569259, 10)"
       ]
      },
      {
       "output_type": "stream",
       "stream": "stdout",
       "text": [
        " 2015-04-25\n",
        "(0.0, 0.0, 2)"
       ]
      },
      {
       "output_type": "stream",
       "stream": "stdout",
       "text": [
        " 2015-04-25\n",
        "(0.47809144373375756, 0.0, 9)"
       ]
      },
      {
       "output_type": "stream",
       "stream": "stdout",
       "text": [
        " 2015-04-25\n",
        "(0.39477101697586142, 0.32258735880781836, 13)"
       ]
      },
      {
       "output_type": "stream",
       "stream": "stdout",
       "text": [
        " 2015-04-25\n",
        "(0.50917507721731547, 0.07407407407407407, 8)"
       ]
      },
      {
       "output_type": "stream",
       "stream": "stdout",
       "text": [
        " 2015-04-25\n",
        "(0.358568582800318, 0.99999999999999978, 5)"
       ]
      },
      {
       "output_type": "stream",
       "stream": "stdout",
       "text": [
        " 2015-04-25\n",
        "(0.0, 0.33333333333333326, 3)"
       ]
      },
      {
       "output_type": "stream",
       "stream": "stdout",
       "text": [
        " 2015-04-25\n",
        "(0.0, 0.4879500364742666, 7)"
       ]
      },
      {
       "output_type": "stream",
       "stream": "stdout",
       "text": [
        " 2015-04-25\n",
        "(0.0, 0.13801311186847087, 6)"
       ]
      },
      {
       "output_type": "stream",
       "stream": "stdout",
       "text": [
        " 2015-04-25\n",
        "(0.0, 0.70777607313116375, 12)"
       ]
      },
      {
       "output_type": "stream",
       "stream": "stdout",
       "text": [
        " 2015-04-25\n",
        "(0.0, 0.58134627012613838, 22)"
       ]
      },
      {
       "output_type": "stream",
       "stream": "stdout",
       "text": [
        " 2015-04-25\n",
        "(0.46790960017870326, 0.5393598899705937, 10)"
       ]
      },
      {
       "output_type": "stream",
       "stream": "stdout",
       "text": [
        " 2015-04-25\n",
        "(0.58732463957295578, 0.71506469851101839, 24)"
       ]
      },
      {
       "output_type": "stream",
       "stream": "stdout",
       "text": [
        " 2015-04-25\n",
        "(0.51499892988072282, 0.41079772959100869, 16)"
       ]
      },
      {
       "output_type": "stream",
       "stream": "stdout",
       "text": [
        " 2015-04-25\n",
        "(0.0, 0.0, 3)"
       ]
      },
      {
       "output_type": "stream",
       "stream": "stdout",
       "text": [
        " 2015-04-25\n",
        "(0.0, 0.0, 2)"
       ]
      },
      {
       "output_type": "stream",
       "stream": "stdout",
       "text": [
        " 2015-04-25\n",
        "(0.58794473579213136, 0.61828402233531166, 8)"
       ]
      },
      {
       "output_type": "stream",
       "stream": "stdout",
       "text": [
        " 2015-04-25\n",
        "(0.59824304161611874, 0.37749172176353751, 18)"
       ]
      },
      {
       "output_type": "stream",
       "stream": "stdout",
       "text": [
        " 2015-04-25\n",
        "(0.0, 0.0, 1)"
       ]
      },
      {
       "output_type": "stream",
       "stream": "stdout",
       "text": [
        " 2015-04-25\n",
        "(0.78326902078053762, 0.55217391304347807, 22)"
       ]
      },
      {
       "output_type": "stream",
       "stream": "stdout",
       "text": [
        " 2015-04-25\n",
        "(0.43815590102988011, 0.41391631098953213, 34)"
       ]
      },
      {
       "output_type": "stream",
       "stream": "stdout",
       "text": [
        " 2015-04-25\n",
        "(0.44184820119857277, 0.5778241444464548, 70)"
       ]
      },
      {
       "output_type": "stream",
       "stream": "stdout",
       "text": [
        " 2015-04-25\n",
        "(0.51313744320175048, 0.5146408414582071, 48)"
       ]
      },
      {
       "output_type": "stream",
       "stream": "stdout",
       "text": [
        " 2015-04-25\n",
        "(0.21395501353687435, 0.49176336181778102, 41)"
       ]
      },
      {
       "output_type": "stream",
       "stream": "stdout",
       "text": [
        " 2015-04-25\n",
        "(0.0, -0.39036002917941331, 7)"
       ]
      },
      {
       "output_type": "stream",
       "stream": "stdout",
       "text": [
        " 2015-04-25\n",
        "(0.0, -0.044946657497549475, 10)"
       ]
      },
      {
       "output_type": "stream",
       "stream": "stdout",
       "text": [
        " 2015-04-25\n",
        "(0.38005847503304613, 0.25555555555555554, 14)"
       ]
      },
      {
       "output_type": "stream",
       "stream": "stdout",
       "text": [
        " 2015-04-25\n",
        "(0.0, -0.14085904245475275, 9)"
       ]
      },
      {
       "output_type": "stream",
       "stream": "stdout",
       "text": [
        " 2015-04-25\n",
        "(0.53452248382484879, 0.55205244747388349, 6)"
       ]
      },
      {
       "output_type": "stream",
       "stream": "stdout",
       "text": [
        " 2015-04-25\n",
        "(0.5337605126836239, 0.18184824186332696, 8)"
       ]
      },
      {
       "output_type": "stream",
       "stream": "stdout",
       "text": [
        " 2015-04-25\n",
        "(0.0, 0.0, 1)"
       ]
      },
      {
       "output_type": "stream",
       "stream": "stdout",
       "text": [
        " 2015-04-25\n",
        "(0.0, 0.0, 1)"
       ]
      },
      {
       "output_type": "stream",
       "stream": "stdout",
       "text": [
        " 2015-04-25\n",
        "(0.0, 0.0, 1)"
       ]
      },
      {
       "output_type": "stream",
       "stream": "stdout",
       "text": [
        " 2015-04-25\n",
        "(0.0, 0.0, 3)"
       ]
      },
      {
       "output_type": "stream",
       "stream": "stdout",
       "text": [
        " 2015-04-25\n",
        "(0.0, 0.0, 3)"
       ]
      },
      {
       "output_type": "stream",
       "stream": "stdout",
       "text": [
        " 2015-04-25\n",
        "(0.11111111111111113, 0.38490017945975047, 8)"
       ]
      },
      {
       "output_type": "stream",
       "stream": "stdout",
       "text": [
        " 2015-04-25\n",
        "(0.3713385102645726, 0.63271976462824364, 31)"
       ]
      },
      {
       "output_type": "stream",
       "stream": "stdout",
       "text": [
        " 2015-04-25\n",
        "(0.0, 0.33333333333333326, 3)"
       ]
      },
      {
       "output_type": "stream",
       "stream": "stdout",
       "text": [
        " 2015-04-25\n",
        "(0.18257418583505539, 0.33333333333333331, 4)"
       ]
      },
      {
       "output_type": "stream",
       "stream": "stdout",
       "text": [
        " 2015-04-25\n",
        "(0.0, 0.0, 1)"
       ]
      },
      {
       "output_type": "stream",
       "stream": "stdout",
       "text": [
        " 2015-04-25\n",
        "(0.75592894601845451, 0.54554472558998091, 8)"
       ]
      },
      {
       "output_type": "stream",
       "stream": "stdout",
       "text": [
        " 2015-04-25\n",
        "(0.0, 0.0, 1)"
       ]
      },
      {
       "output_type": "stream",
       "stream": "stdout",
       "text": [
        " 2015-04-25\n",
        "(0.0, 0.28721347895177629, 8)"
       ]
      },
      {
       "output_type": "stream",
       "stream": "stdout",
       "text": [
        " 2015-04-25\n",
        "(0.0, 0.0, 9)"
       ]
      },
      {
       "output_type": "stream",
       "stream": "stdout",
       "text": [
        " 2015-04-25\n",
        "(0.0, 0.0, 3)"
       ]
      },
      {
       "output_type": "stream",
       "stream": "stdout",
       "text": [
        " 2015-04-26\n",
        "(0.0, 0.0, 2)"
       ]
      },
      {
       "output_type": "stream",
       "stream": "stdout",
       "text": [
        " 2015-04-26\n",
        "(0.56839856005880507, 0.56490195531102483, 12)"
       ]
      },
      {
       "output_type": "stream",
       "stream": "stdout",
       "text": [
        " 2015-04-26\n",
        "(0.54772255750516619, 0.58554004376911994, 7)"
       ]
      },
      {
       "output_type": "stream",
       "stream": "stdout",
       "text": [
        " 2015-04-26\n",
        "(0.34815531191139559, 0.80903983495589049, 10)"
       ]
      },
      {
       "output_type": "stream",
       "stream": "stdout",
       "text": [
        " 2015-04-26\n",
        "(0.33333333333333331, -0.10540925533894598, 5)"
       ]
      },
      {
       "output_type": "stream",
       "stream": "stdout",
       "text": [
        " 2015-04-26\n",
        "(0.0, 0.31730769230769235, 15)"
       ]
      },
      {
       "output_type": "stream",
       "stream": "stdout",
       "text": [
        " 2015-04-26\n",
        "(0.0, 0.59330822682198825, 15)"
       ]
      },
      {
       "output_type": "stream",
       "stream": "stdout",
       "text": [
        " 2015-04-26\n",
        "(0.64549722436790236, 0.6715912882012387, 17)"
       ]
      },
      {
       "output_type": "stream",
       "stream": "stdout",
       "text": [
        " 2015-04-26\n",
        "(0.0, 0.58430654746814314, 10)"
       ]
      },
      {
       "output_type": "stream",
       "stream": "stdout",
       "text": [
        " 2015-04-26\n",
        "(0.0, 0.7191465199607916, 10)"
       ]
      },
      {
       "output_type": "stream",
       "stream": "stdout",
       "text": [
        " 2015-04-26\n",
        "(0.35856858280031817, 0.69006555934235436, 6)"
       ]
      },
      {
       "output_type": "stream",
       "stream": "stdout",
       "text": [
        " 2015-04-26\n",
        "(0.66615402173955651, 0.72115384615384626, 15)"
       ]
      },
      {
       "output_type": "stream",
       "stream": "stdout",
       "text": [
        " 2015-04-26\n",
        "(0.63245553203367577, 0.19999999999999996, 5)"
       ]
      },
      {
       "output_type": "stream",
       "stream": "stdout",
       "text": [
        " 2015-04-26\n",
        "(0.5994149194122842, 0.40131578947368424, 18)"
       ]
      },
      {
       "output_type": "stream",
       "stream": "stdout",
       "text": [
        " 2015-04-26\n",
        "(0.39223227027636803, 0.45333950359163028, 15)"
       ]
      },
      {
       "output_type": "stream",
       "stream": "stdout",
       "text": [
        " 2015-04-26\n",
        "(0.0, 0.10540925533894598, 5)"
       ]
      },
      {
       "output_type": "stream",
       "stream": "stdout",
       "text": [
        " 2015-04-26\n",
        "(0.0, 0.0, 2)"
       ]
      },
      {
       "output_type": "stream",
       "stream": "stdout",
       "text": [
        " 2015-04-26\n",
        "(0.3077287274483318, 0.62925320496569259, 10)"
       ]
      },
      {
       "output_type": "stream",
       "stream": "stdout",
       "text": [
        " 2015-04-26\n",
        "(0.60000000000000009, 0.91287092917527701, 4)"
       ]
      },
      {
       "output_type": "stream",
       "stream": "stdout",
       "text": [
        " 2015-04-27\n",
        "(0.0, 0.51952433346613081, 13)"
       ]
      },
      {
       "output_type": "stream",
       "stream": "stdout",
       "text": [
        " 2015-05-01\n",
        "(0.44560384161396072, 0.60437505130244018, 37)"
       ]
      },
      {
       "output_type": "stream",
       "stream": "stdout",
       "text": [
        " 2015-05-01\n",
        "(0.30101386656496087, 0.65151607477204176, 35)"
       ]
      },
      {
       "output_type": "stream",
       "stream": "stdout",
       "text": [
        " 2015-05-01\n",
        "(0.27349641768506761, 0.65843924482720828, 53)"
       ]
      },
      {
       "output_type": "stream",
       "stream": "stdout",
       "text": [
        " 2015-05-01\n",
        "(0.0, 0.3742013362170693, 13)"
       ]
      },
      {
       "output_type": "stream",
       "stream": "stdout",
       "text": [
        " 2015-05-01\n",
        "(0.45090029041443574, 0.59230783713333413, 54)"
       ]
      },
      {
       "output_type": "stream",
       "stream": "stdout",
       "text": [
        " 2015-05-01\n",
        "(0.0, -0.54772255750516619, 4)"
       ]
      },
      {
       "output_type": "stream",
       "stream": "stdout",
       "text": [
        " 2015-05-01\n",
        "(0.0, -0.99999999999999989, 3)"
       ]
      },
      {
       "output_type": "stream",
       "stream": "stdout",
       "text": [
        " 2015-05-01\n",
        "(0.0, -0.10540925533894598, 5)"
       ]
      },
      {
       "output_type": "stream",
       "stream": "stdout",
       "text": [
        " 2015-05-02\n",
        "(0.56607381182983585, 0.41222575117290999, 12)"
       ]
      },
      {
       "output_type": "stream",
       "stream": "stdout",
       "text": [
        " 2015-05-02\n",
        "(0.0, 0.27602622373694174, 6)"
       ]
      },
      {
       "output_type": "stream",
       "stream": "stdout",
       "text": [
        " 2015-05-02\n",
        "(0.32198380397113729, 0.5358913016456669, 15)"
       ]
      },
      {
       "output_type": "stream",
       "stream": "stdout",
       "text": [
        " 2015-05-02\n",
        "(0.0, 0.51851851851851849, 8)"
       ]
      },
      {
       "output_type": "stream",
       "stream": "stdout",
       "text": [
        " 2015-05-02\n",
        "(0.0, 0.0, 7)"
       ]
      },
      {
       "output_type": "stream",
       "stream": "stdout",
       "text": [
        " 2015-05-02\n",
        "(0.0, -0.27774602993176545, 9)"
       ]
      },
      {
       "output_type": "stream",
       "stream": "stdout",
       "text": [
        " 2015-05-02\n",
        "(0.0, 0.99999999999999989, 3)"
       ]
      },
      {
       "output_type": "stream",
       "stream": "stdout",
       "text": [
        " 2015-05-02\n",
        "(0.0, -0.33333333333333326, 3)"
       ]
      },
      {
       "output_type": "stream",
       "stream": "stdout",
       "text": [
        " 2015-05-02\n",
        "(0.56195148694901653, 0.65081402661828669, 7)"
       ]
      },
      {
       "output_type": "stream",
       "stream": "stdout",
       "text": [
        " 2015-05-02\n",
        "(0.7745966692414834, 0.91287092917527701, 4)"
       ]
      },
      {
       "output_type": "stream",
       "stream": "stdout",
       "text": [
        " 2015-05-02\n",
        "(0.50709255283710997, 0.64623032764149735, 12)"
       ]
      },
      {
       "output_type": "stream",
       "stream": "stdout",
       "text": [
        " 2015-05-02\n",
        "(1.0, 1.0, 2)"
       ]
      },
      {
       "output_type": "stream",
       "stream": "stdout",
       "text": [
        " 2015-05-02\n",
        "(0.0, 0.0, 1)"
       ]
      },
      {
       "output_type": "stream",
       "stream": "stdout",
       "text": [
        " 2015-05-02\n",
        "(0.81649658092772615, 0.99999999999999989, 3)"
       ]
      },
      {
       "output_type": "stream",
       "stream": "stdout",
       "text": [
        " 2015-05-02\n",
        "(0.0, 0.0, 1)"
       ]
      },
      {
       "output_type": "stream",
       "stream": "stdout",
       "text": [
        " 2015-05-02\n",
        "(0.18257418583505539, 0.66666666666666663, 4)"
       ]
      },
      {
       "output_type": "stream",
       "stream": "stdout",
       "text": [
        " 2015-05-02\n",
        "(0.0, 0.0, 1)"
       ]
      },
      {
       "output_type": "stream",
       "stream": "stdout",
       "text": [
        " 2015-05-02\n",
        "(0.0, 0.0, 3)"
       ]
      },
      {
       "output_type": "stream",
       "stream": "stdout",
       "text": [
        " 2015-05-02\n",
        "(0.0, 0.0, 1)"
       ]
      },
      {
       "output_type": "stream",
       "stream": "stdout",
       "text": [
        " 2015-05-02\n",
        "(0.0, 0.0, 2)"
       ]
      },
      {
       "output_type": "stream",
       "stream": "stdout",
       "text": [
        " 2015-05-02\n",
        "(0.44721359549995793, 1.0, 6)"
       ]
      },
      {
       "output_type": "stream",
       "stream": "stdout",
       "text": [
        " 2015-05-02\n",
        "(0.0, 0.13587324409735155, 12)"
       ]
      },
      {
       "output_type": "stream",
       "stream": "stdout",
       "text": [
        " 2015-05-02\n",
        "(0.0, 0.0, 12)"
       ]
      },
      {
       "output_type": "stream",
       "stream": "stdout",
       "text": [
        " 2015-05-02\n",
        "(0.0, 1.0, 2)"
       ]
      },
      {
       "output_type": "stream",
       "stream": "stdout",
       "text": [
        " 2015-05-02\n",
        "(0.0, 0.33333333333333326, 3)"
       ]
      },
      {
       "output_type": "stream",
       "stream": "stdout",
       "text": [
        " 2015-05-02\n",
        "(0.0, 0.63245553203367577, 5)"
       ]
      },
      {
       "output_type": "stream",
       "stream": "stdout",
       "text": [
        " 2015-05-02\n",
        "(0.99999999999999989, 0.99999999999999989, 3)"
       ]
      },
      {
       "output_type": "stream",
       "stream": "stdout",
       "text": [
        " 2015-05-02\n",
        "(0.7737305757377162, 0.72222222222222221, 9)"
       ]
      },
      {
       "output_type": "stream",
       "stream": "stdout",
       "text": [
        " 2015-05-02\n",
        "(0.91287092917527701, 1.0, 4)"
       ]
      },
      {
       "output_type": "stream",
       "stream": "stdout",
       "text": [
        " 2015-05-02\n",
        "(0.0, -0.45226701686664544, 10)"
       ]
      },
      {
       "output_type": "stream",
       "stream": "stdout",
       "text": [
        " 2015-05-02\n",
        "(0.59016889085065405, 0.17142857142857146, 9)"
       ]
      },
      {
       "output_type": "stream",
       "stream": "stdout",
       "text": [
        " 2015-05-02\n",
        "(0.0, 0.96609178307929611, 6)"
       ]
      },
      {
       "output_type": "stream",
       "stream": "stdout",
       "text": [
        " 2015-05-02\n",
        "(0.10310785244529343, 0.47739603762933158, 10)"
       ]
      },
      {
       "output_type": "stream",
       "stream": "stdout",
       "text": [
        " 2015-05-02\n",
        "(0.92857142857142883, 0.69006555934235436, 6)"
       ]
      },
      {
       "output_type": "stream",
       "stream": "stdout",
       "text": [
        " 2015-05-03\n",
        "(0.0, 0.0, 1)"
       ]
      },
      {
       "output_type": "stream",
       "stream": "stdout",
       "text": [
        " 2015-05-03\n",
        "(0.0, -1.0, 2)"
       ]
      },
      {
       "output_type": "stream",
       "stream": "stdout",
       "text": [
        " 2015-05-03\n",
        "(0.0, 0.73333333333333328, 6)"
       ]
      },
      {
       "output_type": "stream",
       "stream": "stdout",
       "text": [
        " 2015-05-03\n",
        "(-0.23328473740792174, 0.42857142857142855, 7)"
       ]
      },
      {
       "output_type": "stream",
       "stream": "stdout",
       "text": [
        " 2015-05-03\n",
        "(0.13483997249264845, 0.87831006565367986, 7)"
       ]
      },
      {
       "output_type": "stream",
       "stream": "stdout",
       "text": [
        " 2015-05-03\n",
        "(0.60000000000000009, 0.54772255750516619, 4)"
       ]
      },
      {
       "output_type": "stream",
       "stream": "stdout",
       "text": [
        " 2015-05-03\n",
        "(0.0, 0.0, 6)"
       ]
      },
      {
       "output_type": "stream",
       "stream": "stdout",
       "text": [
        " 2015-05-03\n",
        "(0.52874369260835463, 0.4976133515281192, 15)"
       ]
      },
      {
       "output_type": "stream",
       "stream": "stdout",
       "text": [
        " 2015-05-03\n",
        "(0.69518169709310107, 0.70192307692307698, 15)"
       ]
      },
      {
       "output_type": "stream",
       "stream": "stdout",
       "text": [
        " 2015-05-03\n",
        "(0.0, 0.0, 1)"
       ]
      },
      {
       "output_type": "stream",
       "stream": "stdout",
       "text": [
        " 2015-05-03\n",
        "(0.0, 0.0, 3)"
       ]
      },
      {
       "output_type": "stream",
       "stream": "stdout",
       "text": [
        " 2015-05-03\n",
        "(0.0, 0.0, 3)"
       ]
      },
      {
       "output_type": "stream",
       "stream": "stdout",
       "text": [
        " 2015-05-03\n",
        "(0.0, 0.0, 2)"
       ]
      },
      {
       "output_type": "stream",
       "stream": "stdout",
       "text": [
        " 2015-05-03\n",
        "(0.66666666666666663, 0.0, 4)"
       ]
      },
      {
       "output_type": "stream",
       "stream": "stdout",
       "text": [
        " 2015-05-03\n",
        "(0.0, 0.0, 2)"
       ]
      },
      {
       "output_type": "stream",
       "stream": "stdout",
       "text": [
        " 2015-05-03\n",
        "(0.38924947208076138, 0.59999999999999998, 6)"
       ]
      },
      {
       "output_type": "stream",
       "stream": "stdout",
       "text": [
        " 2015-05-03\n",
        "(0.0, -0.077761579135973882, 11)"
       ]
      },
      {
       "output_type": "stream",
       "stream": "stdout",
       "text": [
        " 2015-05-03\n",
        "(0.0, -0.27602622373694174, 6)"
       ]
      },
      {
       "output_type": "stream",
       "stream": "stdout",
       "text": [
        " 2015-05-03\n",
        "(0.0, 0.39114657444687528, 17)"
       ]
      },
      {
       "output_type": "stream",
       "stream": "stdout",
       "text": [
        " 2015-05-03\n",
        "(0.0, 0.025974025974025969, 13)"
       ]
      },
      {
       "output_type": "stream",
       "stream": "stdout",
       "text": [
        " 2015-05-03\n",
        "(0.0, 0.39036002917941331, 7)"
       ]
      },
      {
       "output_type": "stream",
       "stream": "stdout",
       "text": [
        " 2015-05-03\n",
        "(0.83992105113161619, 0.83650191257130402, 8)"
       ]
      },
      {
       "output_type": "stream",
       "stream": "stdout",
       "text": [
        " 2015-05-03\n",
        "(0.38807850084769185, 0.45633218696111261, 15)"
       ]
      },
      {
       "output_type": "stream",
       "stream": "stdout",
       "text": [
        " 2015-05-03\n",
        "(0.54772255750516619, 0.66666666666666663, 4)"
       ]
      },
      {
       "output_type": "stream",
       "stream": "stdout",
       "text": [
        " 2015-05-03\n",
        "(0.0, 0.0, 8)"
       ]
      },
      {
       "output_type": "stream",
       "stream": "stdout",
       "text": [
        " 2015-05-03\n",
        "(0.0, -0.018871283902409931, 11)"
       ]
      },
      {
       "output_type": "stream",
       "stream": "stdout",
       "text": [
        " 2015-05-03\n",
        "(0.0, 0.82807867121082523, 6)"
       ]
      },
      {
       "output_type": "stream",
       "stream": "stdout",
       "text": [
        " 2015-05-03\n",
        "(0.0, 0.19518001458970666, 7)"
       ]
      },
      {
       "output_type": "stream",
       "stream": "stdout",
       "text": [
        " 2015-05-03\n",
        "(0.0, 0.70429521227376379, 9)"
       ]
      },
      {
       "output_type": "stream",
       "stream": "stdout",
       "text": [
        " 2015-05-03\n",
        "(0.53452248382484879, 0.82807867121082523, 6)"
       ]
      },
      {
       "output_type": "stream",
       "stream": "stdout",
       "text": [
        " 2015-05-03\n",
        "(0.0, 0.91287092917527701, 4)"
       ]
      },
      {
       "output_type": "stream",
       "stream": "stdout",
       "text": [
        " 2015-05-03\n",
        "(0.0, 0.0, 3)"
       ]
      },
      {
       "output_type": "stream",
       "stream": "stdout",
       "text": [
        " 2015-05-03\n",
        "(0.52390574796767286, 0.67226890756302504, 16)"
       ]
      },
      {
       "output_type": "stream",
       "stream": "stdout",
       "text": [
        " 2015-05-08\n",
        "(0.49064719817209029, 0.66534783913046081, 23)"
       ]
      },
      {
       "output_type": "stream",
       "stream": "stdout",
       "text": [
        " 2015-05-09\n",
        "(0.0, 0.15552315827194776, 11)"
       ]
      },
      {
       "output_type": "stream",
       "stream": "stdout",
       "text": [
        " 2015-05-09\n",
        "(0.37195955353374205, 0.63703703703703696, 17)"
       ]
      },
      {
       "output_type": "stream",
       "stream": "stdout",
       "text": [
        " 2015-05-09\n",
        "(0.50215054755898947, 0.27884615384615391, 15)"
       ]
      },
      {
       "output_type": "stream",
       "stream": "stdout",
       "text": [
        " 2015-05-09\n",
        "(0.0, 0.097590007294853329, 7)"
       ]
      },
      {
       "output_type": "stream",
       "stream": "stdout",
       "text": [
        " 2015-05-09\n",
        "(0.0, 0.42257712736425829, 9)"
       ]
      },
      {
       "output_type": "stream",
       "stream": "stdout",
       "text": [
        " 2015-05-09\n",
        "(0.23669053416557548, 0.35594498532664509, 16)"
       ]
      },
      {
       "output_type": "stream",
       "stream": "stdout",
       "text": [
        " 2015-05-09\n",
        "(0.17970885078258197, 0.14226065948847291, 16)"
       ]
      },
      {
       "output_type": "stream",
       "stream": "stdout",
       "text": [
        " 2015-05-09\n",
        "(0.54772255750516619, 0.58554004376911994, 7)"
       ]
      },
      {
       "output_type": "stream",
       "stream": "stdout",
       "text": [
        " 2015-05-09\n",
        "(0.75000000000000011, 0.58554004376911994, 7)"
       ]
      },
      {
       "output_type": "stream",
       "stream": "stdout",
       "text": [
        " 2015-05-09\n",
        "(0.0, 0.36623351038235719, 9)"
       ]
      },
      {
       "output_type": "stream",
       "stream": "stdout",
       "text": [
        " 2015-05-09\n",
        "(0.0, 0.91287092917527701, 4)"
       ]
      },
      {
       "output_type": "stream",
       "stream": "stdout",
       "text": [
        " 2015-05-09\n",
        "(0.57735026918962584, 0.68313005106397329, 7)"
       ]
      },
      {
       "output_type": "stream",
       "stream": "stdout",
       "text": [
        " 2015-05-09\n",
        "(0.23145502494313788, 0.27602622373694174, 6)"
       ]
      },
      {
       "output_type": "stream",
       "stream": "stdout",
       "text": [
        " 2015-05-09\n",
        "(0.55965188043347747, 0.80903983495589049, 10)"
       ]
      },
      {
       "output_type": "stream",
       "stream": "stdout",
       "text": [
        " 2015-05-09\n",
        "(0.0, 0.91287092917527701, 4)"
       ]
      },
      {
       "output_type": "stream",
       "stream": "stdout",
       "text": [
        " 2015-05-09\n",
        "(0.0, 0.0, 1)"
       ]
      },
      {
       "output_type": "stream",
       "stream": "stdout",
       "text": [
        " 2015-05-09\n",
        "(0.0, -0.19999999999999996, 5)"
       ]
      },
      {
       "output_type": "stream",
       "stream": "stdout",
       "text": [
        " 2015-05-09\n",
        "(0.0, 0.33333333333333326, 3)"
       ]
      },
      {
       "output_type": "stream",
       "stream": "stdout",
       "text": [
        " 2015-05-09\n",
        "(0.5085774536813068, 0.38181818181818172, 11)"
       ]
      },
      {
       "output_type": "stream",
       "stream": "stdout",
       "text": [
        " 2015-05-09\n",
        "(0.11547005383792516, 0.46666666666666667, 6)"
       ]
      },
      {
       "output_type": "stream",
       "stream": "stdout",
       "text": [
        " 2015-05-09\n",
        "(0.53502842097912073, 0.76409317745834104, 10)"
       ]
      },
      {
       "output_type": "stream",
       "stream": "stdout",
       "text": [
        " 2015-05-09\n",
        "(0.6229175452590473, 0.8140806303599617, 25)"
       ]
      },
      {
       "output_type": "stream",
       "stream": "stdout",
       "text": [
        " 2015-05-09\n",
        "(0.0, 0.43181818181818188, 10)"
       ]
      },
      {
       "output_type": "stream",
       "stream": "stdout",
       "text": [
        " 2015-05-09\n",
        "(0.41816410804010173, 0.70814207717463118, 15)"
       ]
      },
      {
       "output_type": "stream",
       "stream": "stdout",
       "text": [
        " 2015-05-09\n",
        "(0.0, 0.33028912953790812, 11)"
       ]
      },
      {
       "output_type": "stream",
       "stream": "stdout",
       "text": [
        " 2015-05-09\n",
        "(0.0, 0.090324460466189138, 13)"
       ]
      },
      {
       "output_type": "stream",
       "stream": "stdout",
       "text": [
        " 2015-05-09\n",
        "(0.0, 0.76376261582597327, 8)"
       ]
      },
      {
       "output_type": "stream",
       "stream": "stdout",
       "text": [
        " 2015-05-09\n",
        "(0.0, 0.75055534994651363, 7)"
       ]
      },
      {
       "output_type": "stream",
       "stream": "stdout",
       "text": [
        " 2015-05-09\n",
        "(0.0, 0.35856858280031817, 6)"
       ]
      },
      {
       "output_type": "stream",
       "stream": "stdout",
       "text": [
        " 2015-05-09\n",
        "(0.0, 0.46291004988627577, 6)"
       ]
      },
      {
       "output_type": "stream",
       "stream": "stdout",
       "text": [
        " 2015-05-09\n",
        "(0.0, -0.15811388300841905, 14)"
       ]
      },
      {
       "output_type": "stream",
       "stream": "stdout",
       "text": [
        " 2015-05-09\n",
        "(0.0, -0.22273841855588181, 10)"
       ]
      },
      {
       "output_type": "stream",
       "stream": "stdout",
       "text": [
        " 2015-05-09\n",
        "(0.54014064664545269, 0.54663903011860782, 22)"
       ]
      },
      {
       "output_type": "stream",
       "stream": "stdout",
       "text": [
        " 2015-05-10\n",
        "(0.0, 0.0, 4)"
       ]
      },
      {
       "output_type": "stream",
       "stream": "stdout",
       "text": [
        " 2015-05-10\n",
        "(0.44444444444444436, 0.73786478737262184, 5)"
       ]
      },
      {
       "output_type": "stream",
       "stream": "stdout",
       "text": [
        " 2015-05-10\n",
        "(0.0, -0.10910894511799617, 8)"
       ]
      },
      {
       "output_type": "stream",
       "stream": "stdout",
       "text": [
        " 2015-05-14\n",
        "(0.26419797463373901, 0.32536257599915486, 15)"
       ]
      },
      {
       "output_type": "stream",
       "stream": "stdout",
       "text": [
        " 2015-05-16\n",
        "(0.0, 0.61904761904761907, 7)"
       ]
      },
      {
       "output_type": "stream",
       "stream": "stdout",
       "text": [
        " 2015-05-16\n",
        "(0.64491481558683039, 0.80918388193200852, 12)"
       ]
      },
      {
       "output_type": "stream",
       "stream": "stdout",
       "text": [
        " 2015-05-16\n",
        "(0.52948129149910428, 0.67783020109213565, 16)"
       ]
      },
      {
       "output_type": "stream",
       "stream": "stdout",
       "text": [
        " 2015-05-16\n",
        "(0.41248236375008623, 0.68900310211585736, 15)"
       ]
      },
      {
       "output_type": "stream",
       "stream": "stdout",
       "text": [
        " 2015-05-16\n",
        "(0.66099899830131548, 0.60506338090753276, 16)"
       ]
      },
      {
       "output_type": "stream",
       "stream": "stdout",
       "text": [
        " 2015-05-16\n",
        "(0.0, 0.27602622373694174, 6)"
       ]
      },
      {
       "output_type": "stream",
       "stream": "stdout",
       "text": [
        " 2015-05-16\n",
        "(0.0, -0.58430654746814314, 10)"
       ]
      },
      {
       "output_type": "stream",
       "stream": "stdout",
       "text": [
        " 2015-05-16\n",
        "(0.0, 0.19847906537954926, 12)"
       ]
      },
      {
       "output_type": "stream",
       "stream": "stdout",
       "text": [
        " 2015-05-16\n",
        "(0.62869461346193145, 0.7191465199607916, 10)"
       ]
      },
      {
       "output_type": "stream",
       "stream": "stdout",
       "text": [
        " 2015-05-16\n",
        "(0.70104365170188321, 0.6523665233244994, 27)"
       ]
      },
      {
       "output_type": "stream",
       "stream": "stdout",
       "text": [
        " 2015-05-16\n",
        "(0.69388866648871106, 0.69102331908064241, 8)"
       ]
      },
      {
       "output_type": "stream",
       "stream": "stdout",
       "text": [
        " 2015-05-16\n",
        "(0.65327457991848814, 0.7191465199607916, 10)"
       ]
      },
      {
       "output_type": "stream",
       "stream": "stdout",
       "text": [
        " 2015-05-16\n",
        "(0.69461293951124603, 0.63061031396650691, 30)"
       ]
      },
      {
       "output_type": "stream",
       "stream": "stdout",
       "text": [
        " 2015-05-16\n",
        "(0.0, 0.59259259259259256, 8)"
       ]
      },
      {
       "output_type": "stream",
       "stream": "stdout",
       "text": [
        " 2015-05-16\n",
        "(0.75636127602006475, 0.74754500159640203, 18)"
       ]
      },
      {
       "output_type": "stream",
       "stream": "stdout",
       "text": [
        " 2015-05-16\n",
        "(0.64635961249377405, 0.58430654746814314, 10)"
       ]
      },
      {
       "output_type": "stream",
       "stream": "stdout",
       "text": [
        " 2015-05-16\n",
        "(0.20951312035156963, 0.69727705124669492, 11)"
       ]
      },
      {
       "output_type": "stream",
       "stream": "stdout",
       "text": [
        " 2015-05-16\n",
        "(0.0, -0.61545745489666359, 8)"
       ]
      },
      {
       "output_type": "stream",
       "stream": "stdout",
       "text": [
        " 2015-05-16\n",
        "(0.0, -0.2581988897471611, 4)"
       ]
      },
      {
       "output_type": "stream",
       "stream": "stdout",
       "text": [
        " 2015-05-16\n",
        "(0.0, -0.18257418583505539, 4)"
       ]
      },
      {
       "output_type": "stream",
       "stream": "stdout",
       "text": [
        " 2015-05-16\n",
        "(0.0, -0.25000000000000006, 7)"
       ]
      },
      {
       "output_type": "stream",
       "stream": "stdout",
       "text": [
        " 2015-05-16\n",
        "(0.36388602817908622, 0.46170684067013124, 31)"
       ]
      },
      {
       "output_type": "stream",
       "stream": "stdout",
       "text": [
        " 2015-05-16\n",
        "(0.49488120534872559, 0.51378309039230152, 11)"
       ]
      },
      {
       "output_type": "stream",
       "stream": "stdout",
       "text": [
        " 2015-05-16\n",
        "(0.81649658092772615, 0.33333333333333326, 3)"
       ]
      },
      {
       "output_type": "stream",
       "stream": "stdout",
       "text": [
        " 2015-05-16\n",
        "(0.41403933560541262, 0.55205244747388349, 6)"
       ]
      },
      {
       "output_type": "stream",
       "stream": "stdout",
       "text": [
        " 2015-05-16\n",
        "(0.0, 0.0, 4)"
       ]
      },
      {
       "output_type": "stream",
       "stream": "stdout",
       "text": [
        " 2015-05-16\n",
        "(0.0, 0.0, 7)"
       ]
      },
      {
       "output_type": "stream",
       "stream": "stdout",
       "text": [
        " 2015-05-16\n",
        "(0.0, 0.071428571428571452, 6)"
       ]
      },
      {
       "output_type": "stream",
       "stream": "stdout",
       "text": [
        " 2015-05-16\n",
        "(0.0, 0.37796447300922725, 5)"
       ]
      },
      {
       "output_type": "stream",
       "stream": "stdout",
       "text": [
        " 2015-05-16\n",
        "(0.0, 0.0, 2)"
       ]
      },
      {
       "output_type": "stream",
       "stream": "stdout",
       "text": [
        " 2015-05-16\n",
        "(0.0, 1.0, 2)"
       ]
      },
      {
       "output_type": "stream",
       "stream": "stdout",
       "text": [
        " 2015-05-16\n",
        "(0.0, 0.31126510391028533, 18)"
       ]
      },
      {
       "output_type": "stream",
       "stream": "stdout",
       "text": [
        " 2015-05-17\n",
        "(0.13770565818881089, 0.66885605405993864, 18)"
       ]
      },
      {
       "output_type": "stream",
       "stream": "stdout",
       "text": [
        " 2015-05-17\n",
        "(0.0, 0.19518001458970666, 7)"
       ]
      },
      {
       "output_type": "stream",
       "stream": "stdout",
       "text": [
        " 2015-05-17\n",
        "(0.39477101697586142, 0.52904326844482208, 13)"
       ]
      },
      {
       "output_type": "stream",
       "stream": "stdout",
       "text": [
        " 2015-05-17\n",
        "(0.36514837167011077, 0.9759000729485332, 7)"
       ]
      },
      {
       "output_type": "stream",
       "stream": "stdout",
       "text": [
        " 2015-05-17\n",
        "(-0.16666666666666666, 0.31622776601683794, 5)"
       ]
      },
      {
       "output_type": "stream",
       "stream": "stdout",
       "text": [
        " 2015-05-17\n",
        "(0.3550358012483632, 0.3193277310924369, 16)"
       ]
      },
      {
       "output_type": "stream",
       "stream": "stdout",
       "text": [
        " 2015-05-17\n",
        "(0.0, 0.4728054288446501, 8)"
       ]
      },
      {
       "output_type": "stream",
       "stream": "stdout",
       "text": [
        " 2015-05-17\n",
        "(0.0, 0.61828402233531166, 8)"
       ]
      },
      {
       "output_type": "stream",
       "stream": "stdout",
       "text": [
        " 2015-05-17\n",
        "(0.0, 0.022727272727272731, 10)"
       ]
      },
      {
       "output_type": "stream",
       "stream": "stdout",
       "text": [
        " 2015-05-17\n",
        "(0.41212973694087107, 0.43071846332474478, 25)"
       ]
      },
      {
       "output_type": "stream",
       "stream": "stdout",
       "text": [
        " 2015-05-17\n",
        "(0.0, 0.47742929103557114, 13)"
       ]
      },
      {
       "output_type": "stream",
       "stream": "stdout",
       "text": [
        " 2015-05-17\n",
        "(0.48112522432468813, 0.3669879217087868, 11)"
       ]
      },
      {
       "output_type": "stream",
       "stream": "stdout",
       "text": [
        " 2015-05-17\n",
        "(0.58794473579213136, 0.22222222222222221, 8)"
       ]
      },
      {
       "output_type": "stream",
       "stream": "stdout",
       "text": [
        " 2015-05-17\n",
        "(0.92376043070340108, 0.69102331908064241, 8)"
       ]
      },
      {
       "output_type": "stream",
       "stream": "stdout",
       "text": [
        " 2015-05-17\n",
        "(0.21516574145596759, 0.29359033736702944, 11)"
       ]
      },
      {
       "output_type": "stream",
       "stream": "stdout",
       "text": [
        " 2015-05-17\n",
        "(0.44817738320938677, 0.42022792022792038, 38)"
       ]
      },
      {
       "output_type": "stream",
       "stream": "stdout",
       "text": [
        " 2015-05-17\n",
        "(0.81649658092772615, 0.99999999999999989, 3)"
       ]
      },
      {
       "output_type": "stream",
       "stream": "stdout",
       "text": [
        " 2015-05-17\n",
        "(0.0, 0.0, 12)"
       ]
      },
      {
       "output_type": "stream",
       "stream": "stdout",
       "text": [
        " 2015-05-17\n",
        "(0.0, 0.15469849363075241, 14)"
       ]
      },
      {
       "output_type": "stream",
       "stream": "stdout",
       "text": [
        " 2015-05-17\n",
        "(0.61721339984836776, 0.41403933560541262, 6)"
       ]
      },
      {
       "output_type": "stream",
       "stream": "stdout",
       "text": [
        " 2015-05-17\n",
        "(0.0, 0.65650767779389363, 12)"
       ]
      },
      {
       "output_type": "stream",
       "stream": "stdout",
       "text": [
        " 2015-05-17\n",
        "(0.0, -0.24140227479263385, 10)"
       ]
      },
      {
       "output_type": "stream",
       "stream": "stdout",
       "text": [
        " 2015-05-17\n",
        "(0.0, 0.075766273028226971, 17)"
       ]
      },
      {
       "output_type": "stream",
       "stream": "stdout",
       "text": [
        " 2015-05-17\n",
        "(0.49365724849494175, 0.53781512605042003, 16)"
       ]
      },
      {
       "output_type": "stream",
       "stream": "stdout",
       "text": [
        " 2015-05-17\n",
        "(0.0, 0.0, 3)"
       ]
      },
      {
       "output_type": "stream",
       "stream": "stdout",
       "text": [
        " 2015-05-17\n",
        "(0.0, 0.16805007658679666, 32)"
       ]
      },
      {
       "output_type": "stream",
       "stream": "stdout",
       "text": [
        " 2015-05-17\n",
        "(0.28705421276367887, 0.67936545973833329, 44)"
       ]
      },
      {
       "output_type": "stream",
       "stream": "stdout",
       "text": [
        " 2015-05-17\n",
        "(0.54800805273305164, 0.42120516747002068, 27)"
       ]
      },
      {
       "output_type": "stream",
       "stream": "stdout",
       "text": [
        " 2015-05-17\n",
        "(0.44045944749417959, 0.42678197846541877, 16)"
       ]
      },
      {
       "output_type": "stream",
       "stream": "stdout",
       "text": [
        " 2015-05-17\n",
        "(0.7225155084561814, 0.67019926336525337, 28)"
       ]
      },
      {
       "output_type": "stream",
       "stream": "stdout",
       "text": [
        " 2015-05-17\n",
        "(0.32850460138735416, 0.57266946012425579, 22)"
       ]
      },
      {
       "output_type": "stream",
       "stream": "stdout",
       "text": [
        " 2015-05-17\n",
        "(0.0, 0.3146266024828463, 10)"
       ]
      },
      {
       "output_type": "stream",
       "stream": "stdout",
       "text": [
        " 2015-05-17\n",
        "(0.59761430466719689, 0.69006555934235436, 6)"
       ]
      },
      {
       "output_type": "stream",
       "stream": "stdout",
       "text": [
        " 2015-05-18\n",
        "(0.69358497414104503, 0.73626373626373653, 14)"
       ]
      },
      {
       "output_type": "stream",
       "stream": "stdout",
       "text": [
        " 2015-05-20\n",
        "(0.17677669529663689, 0.51378309039230152, 11)"
       ]
      },
      {
       "output_type": "stream",
       "stream": "stdout",
       "text": [
        " 2015-05-23\n",
        "(0.1511018670272529, 0.42678197846541877, 16)"
       ]
      },
      {
       "output_type": "stream",
       "stream": "stdout",
       "text": [
        " 2015-05-23\n",
        "(0.0, 0.52704627669472992, 5)"
       ]
      },
      {
       "output_type": "stream",
       "stream": "stdout",
       "text": [
        " 2015-05-23\n",
        "(0.0, 0.0, 3)"
       ]
      },
      {
       "output_type": "stream",
       "stream": "stdout",
       "text": [
        " 2015-05-23\n",
        "(0.0, 0.31622776601683794, 5)"
       ]
      },
      {
       "output_type": "stream",
       "stream": "stdout",
       "text": [
        " 2015-05-23\n",
        "(0.0, -0.66666666666666652, 5)"
       ]
      },
      {
       "output_type": "stream",
       "stream": "stdout",
       "text": [
        " 2015-05-23\n",
        "(0.0, 0.17654696590094993, 9)"
       ]
      },
      {
       "output_type": "stream",
       "stream": "stdout",
       "text": [
        " 2015-05-23\n",
        "(0.49329051933092699, 0.59909673684086351, 15)"
       ]
      },
      {
       "output_type": "stream",
       "stream": "stdout",
       "text": [
        " 2015-05-23\n",
        "(0.0, 0.38961038961038952, 13)"
       ]
      },
      {
       "output_type": "stream",
       "stream": "stdout",
       "text": [
        " 2015-05-24\n",
        "(0.0, 0.5606743638663344, 16)"
       ]
      },
      {
       "output_type": "stream",
       "stream": "stdout",
       "text": [
        " 2015-05-24\n",
        "(0.41509729511408244, 0.36754281287796331, 21)"
       ]
      },
      {
       "output_type": "stream",
       "stream": "stdout",
       "text": [
        " 2015-05-24\n",
        "(0.0, 0.91287092917527701, 4)"
       ]
      },
      {
       "output_type": "stream",
       "stream": "stdout",
       "text": [
        " 2015-05-24\n",
        "(0.0, 0.69727705124669492, 11)"
       ]
      },
      {
       "output_type": "stream",
       "stream": "stdout",
       "text": [
        " 2015-05-24\n",
        "(0.36369648372665392, 0.4728054288446501, 8)"
       ]
      },
      {
       "output_type": "stream",
       "stream": "stdout",
       "text": [
        " 2015-05-24\n",
        "(0.0, 0.4728054288446501, 8)"
       ]
      },
      {
       "output_type": "stream",
       "stream": "stdout",
       "text": [
        " 2015-05-24\n",
        "(0.57987000132999023, 0.61680132898913809, 30)"
       ]
      },
      {
       "output_type": "stream",
       "stream": "stdout",
       "text": [
        " 2015-05-24\n",
        "(0.60864688596430405, 0.57913293067279048, 54)"
       ]
      },
      {
       "output_type": "stream",
       "stream": "stdout",
       "text": [
        " 2015-05-24\n",
        "(0.44721359549995798, 0.59999999999999987, 5)"
       ]
      },
      {
       "output_type": "stream",
       "stream": "stdout",
       "text": [
        " 2015-05-24\n",
        "(0.3607097143309736, 0.44143066849837276, 29)"
       ]
      },
      {
       "output_type": "stream",
       "stream": "stdout",
       "text": [
        " 2015-05-24\n",
        "(0.63717679782440351, 0.44019642635179779, 15)"
       ]
      },
      {
       "output_type": "stream",
       "stream": "stdout",
       "text": [
        " 2015-05-24\n",
        "(0.0, 0.16174824145156089, 15)"
       ]
      },
      {
       "output_type": "stream",
       "stream": "stdout",
       "text": [
        " 2015-05-24\n",
        "(0.0, -0.05000000000000001, 7)"
       ]
      },
      {
       "output_type": "stream",
       "stream": "stdout",
       "text": [
        " 2015-05-24\n",
        "(0.0, 0.73786478737262184, 5)"
       ]
      },
      {
       "output_type": "stream",
       "stream": "stdout",
       "text": [
        " 2015-05-24\n",
        "(0.0, -1.0, 2)"
       ]
      },
      {
       "output_type": "stream",
       "stream": "stdout",
       "text": [
        " 2015-05-24\n",
        "(0.62360956446232352, 0.64285714285714302, 6)"
       ]
      },
      {
       "output_type": "stream",
       "stream": "stdout",
       "text": [
        " 2015-05-24\n",
        "(0.0, -0.45226701686664544, 10)"
       ]
      },
      {
       "output_type": "stream",
       "stream": "stdout",
       "text": [
        " 2015-05-24\n",
        "(0.0, -0.27774602993176545, 9)"
       ]
      },
      {
       "output_type": "stream",
       "stream": "stdout",
       "text": [
        " 2015-05-24\n",
        "(0.0, 0.22222222222222218, 5)"
       ]
      },
      {
       "output_type": "stream",
       "stream": "stdout",
       "text": [
        " 2015-05-30\n",
        "(0.21081851067789206, 0.62222222222222223, 14)"
       ]
      },
      {
       "output_type": "stream",
       "stream": "stdout",
       "text": [
        " 2015-05-30\n",
        "(0.26712922844825132, 0.48619526569665039, 14)"
       ]
      },
      {
       "output_type": "stream",
       "stream": "stdout",
       "text": [
        " 2015-05-30\n",
        "(0.44668845939980723, 0.57602021756203592, 29)"
       ]
      },
      {
       "output_type": "stream",
       "stream": "stdout",
       "text": [
        " 2015-05-30\n",
        "(0.24517881480782255, 0.45836310542246494, 38)"
       ]
      },
      {
       "output_type": "stream",
       "stream": "stdout",
       "text": [
        " 2015-05-30\n",
        "(0.32824397594488725, 0.25458753860865774, 8)"
       ]
      },
      {
       "output_type": "stream",
       "stream": "stdout",
       "text": [
        " 2015-05-30\n",
        "(0.69328992254137689, 0.71240353521896604, 20)"
       ]
      },
      {
       "output_type": "stream",
       "stream": "stdout",
       "text": [
        " 2015-05-30\n",
        "(0.0, 0.55205244747388349, 6)"
       ]
      },
      {
       "output_type": "stream",
       "stream": "stdout",
       "text": [
        " 2015-05-30\n",
        "(0.51064292118816512, 0.57416925176321443, 15)"
       ]
      },
      {
       "output_type": "stream",
       "stream": "stdout",
       "text": [
        " 2015-05-30\n",
        "(0.0, 0.0, 12)"
       ]
      },
      {
       "output_type": "stream",
       "stream": "stdout",
       "text": [
        " 2015-05-30\n",
        "(0.53415791234865717, 0.5306710107135324, 27)"
       ]
      },
      {
       "output_type": "stream",
       "stream": "stdout",
       "text": [
        " 2015-05-30\n",
        "(0.0, 0.52704627669472992, 5)"
       ]
      },
      {
       "output_type": "stream",
       "stream": "stdout",
       "text": [
        " 2015-05-30\n",
        "(0.0, 0.057142857142857155, 9)"
       ]
      },
      {
       "output_type": "stream",
       "stream": "stdout",
       "text": [
        " 2015-05-30\n",
        "(0.0, 0.56490195531102483, 12)"
       ]
      },
      {
       "output_type": "stream",
       "stream": "stdout",
       "text": [
        " 2015-05-30\n",
        "(0.0, 0.42105745129302397, 15)"
       ]
      },
      {
       "output_type": "stream",
       "stream": "stdout",
       "text": [
        " 2015-05-30\n",
        "(0.99999999999999989, 0.99999999999999989, 3)"
       ]
      },
      {
       "output_type": "stream",
       "stream": "stdout",
       "text": [
        " 2015-05-30\n",
        "(0.32897584747988451, 0.78072005835882663, 7)"
       ]
      },
      {
       "output_type": "stream",
       "stream": "stdout",
       "text": [
        " 2015-05-30\n",
        "(0.53452248382484879, 0.20573779994945585, 7)"
       ]
      },
      {
       "output_type": "stream",
       "stream": "stdout",
       "text": [
        " 2015-05-30\n",
        "(0.80178372573727319, 0.69006555934235436, 6)"
       ]
      },
      {
       "output_type": "stream",
       "stream": "stdout",
       "text": [
        " 2015-05-30\n",
        "(0.0, -0.54772255750516619, 4)"
       ]
      },
      {
       "output_type": "stream",
       "stream": "stdout",
       "text": [
        " 2015-05-30\n",
        "(0.0, 1.0, 4)"
       ]
      },
      {
       "output_type": "stream",
       "stream": "stdout",
       "text": [
        " 2015-05-31\n",
        "(0.0, 0.64435710474190677, 16)"
       ]
      },
      {
       "output_type": "stream",
       "stream": "stdout",
       "text": [
        " 2015-05-31\n",
        "(0.0, 0.2708333333333332, 30)"
       ]
      },
      {
       "output_type": "stream",
       "stream": "stdout",
       "text": [
        " 2015-05-31\n",
        "(0.43065012899995953, 0.67324342178802099, 29)"
       ]
      },
      {
       "output_type": "stream",
       "stream": "stdout",
       "text": [
        " 2015-05-31\n",
        "(0.28951092981655324, 0.515413462101452, 29)"
       ]
      },
      {
       "output_type": "stream",
       "stream": "stdout",
       "text": [
        " 2015-05-31\n",
        "(0.0, 0.29359033736702944, 11)"
       ]
      },
      {
       "output_type": "stream",
       "stream": "stdout",
       "text": [
        " 2015-05-31\n",
        "(0.0, 0.45413503666419286, 26)"
       ]
      },
      {
       "output_type": "stream",
       "stream": "stdout",
       "text": [
        " 2015-05-31\n",
        "(0.84066800169605005, 0.70429521227376379, 9)"
       ]
      },
      {
       "output_type": "stream",
       "stream": "stdout",
       "text": [
        " 2015-05-31\n",
        "(0.55176058784604354, 0.62925320496569259, 10)"
       ]
      },
      {
       "output_type": "stream",
       "stream": "stdout",
       "text": [
        " 2015-05-31\n",
        "(0.023762422826087874, 0.5454545454545453, 13)"
       ]
      },
      {
       "output_type": "stream",
       "stream": "stdout",
       "text": [
        " 2015-05-31\n",
        "(0.39283710065919308, 0.22019275302527208, 11)"
       ]
      },
      {
       "output_type": "stream",
       "stream": "stdout",
       "text": [
        " 2015-05-31\n",
        "(0.80829037686547611, 0.78072005835882663, 7)"
       ]
      },
      {
       "output_type": "stream",
       "stream": "stdout",
       "text": [
        " 2015-05-31\n",
        "(0.28284271247461895, 0.47434164902525688, 7)"
       ]
      },
      {
       "output_type": "stream",
       "stream": "stdout",
       "text": [
        " 2015-05-31\n",
        "(0.0, -0.33333333333333326, 3)"
       ]
      },
      {
       "output_type": "stream",
       "stream": "stdout",
       "text": [
        " 2015-05-31\n",
        "(0.0, 0.40006613209931929, 8)"
       ]
      },
      {
       "output_type": "stream",
       "stream": "stdout",
       "text": [
        " 2015-05-31\n",
        "(0.0, 0.08989331499509895, 10)"
       ]
      },
      {
       "output_type": "stream",
       "stream": "stdout",
       "text": [
        " 2015-05-31\n",
        "(0.0, 0.55205244747388349, 6)"
       ]
      },
      {
       "output_type": "stream",
       "stream": "stdout",
       "text": [
        " 2015-05-31\n",
        "(0.14064216928154855, 0.21052872564651198, 15)"
       ]
      },
      {
       "output_type": "stream",
       "stream": "stdout",
       "text": [
        " 2015-05-31\n",
        "(0.73205847527811829, 0.57826633524639059, 22)"
       ]
      },
      {
       "output_type": "stream",
       "stream": "stdout",
       "text": [
        " 2015-05-31\n",
        "(0.64305016407237892, 0.69208508735982344, 19)"
       ]
      },
      {
       "output_type": "stream",
       "stream": "stdout",
       "text": [
        " 2015-06-06\n",
        "(0.0, 0.73786478737262184, 5)"
       ]
      },
      {
       "output_type": "stream",
       "stream": "stdout",
       "text": [
        " 2015-06-06\n",
        "(0.46656947481584332, 0.7339758434175736, 11)"
       ]
      },
      {
       "output_type": "stream",
       "stream": "stdout",
       "text": [
        " 2015-06-06\n",
        "(0.0, 0.18257418583505539, 4)"
       ]
      },
      {
       "output_type": "stream",
       "stream": "stdout",
       "text": [
        " 2015-06-06\n",
        "(0.69597948187155689, 0.69456674926725015, 16)"
       ]
      },
      {
       "output_type": "stream",
       "stream": "stdout",
       "text": [
        " 2015-06-06\n",
        "(0.91287092917527701, 0.91287092917527701, 4)"
       ]
      },
      {
       "output_type": "stream",
       "stream": "stdout",
       "text": [
        " 2015-06-06\n",
        "(0.48809353009197631, 0.78072005835882663, 7)"
       ]
      },
      {
       "output_type": "stream",
       "stream": "stdout",
       "text": [
        " 2015-06-06\n",
        "(0.36369648372665392, 0.18184824186332696, 8)"
       ]
      },
      {
       "output_type": "stream",
       "stream": "stdout",
       "text": [
        " 2015-06-06\n",
        "(0.0, 0.58554004376911994, 7)"
       ]
      },
      {
       "output_type": "stream",
       "stream": "stdout",
       "text": [
        " 2015-06-06\n",
        "(0.0, -0.20370370370370366, 11)"
       ]
      },
      {
       "output_type": "stream",
       "stream": "stdout",
       "text": [
        " 2015-06-06\n",
        "(0.0, 0.44155844155844148, 13)"
       ]
      },
      {
       "output_type": "stream",
       "stream": "stdout",
       "text": [
        " 2015-06-06\n",
        "(0.23669053416557548, 0.63865546218487379, 16)"
       ]
      },
      {
       "output_type": "stream",
       "stream": "stdout",
       "text": [
        " 2015-06-06\n",
        "(0.0, 0.0, 8)"
       ]
      },
      {
       "output_type": "stream",
       "stream": "stdout",
       "text": [
        " 2015-06-06\n",
        "(0.0, 0.27777777777777773, 11)"
       ]
      },
      {
       "output_type": "stream",
       "stream": "stdout",
       "text": [
        " 2015-06-06\n",
        "(0.0, 0.87332606321946704, 9)"
       ]
      },
      {
       "output_type": "stream",
       "stream": "stdout",
       "text": [
        " 2015-06-06\n",
        "(0.42781445754442854, 0.69208508735982344, 19)"
       ]
      },
      {
       "output_type": "stream",
       "stream": "stdout",
       "text": [
        " 2015-06-07\n",
        "(0.81649658092772603, 0.94868329805051377, 5)"
       ]
      },
      {
       "output_type": "stream",
       "stream": "stdout",
       "text": [
        " 2015-06-07\n",
        "(0.33333333333333326, 0.99999999999999989, 3)"
       ]
      },
      {
       "output_type": "stream",
       "stream": "stdout",
       "text": [
        " 2015-06-07\n",
        "(0.0, 0.27602622373694174, 6)"
       ]
      },
      {
       "output_type": "stream",
       "stream": "stdout",
       "text": [
        " 2015-06-07\n",
        "(0.0, 0.73549917808182586, 13)"
       ]
      },
      {
       "output_type": "stream",
       "stream": "stdout",
       "text": [
        " 2015-06-07\n",
        "(0.14409760442605871, 0.49109007173914959, 23)"
       ]
      },
      {
       "output_type": "stream",
       "stream": "stdout",
       "text": [
        " 2015-06-07\n",
        "(0.7285719120788251, 0.68602653816539327, 24)"
       ]
      },
      {
       "output_type": "stream",
       "stream": "stdout",
       "text": [
        " 2015-06-07\n",
        "(0.48128179511766189, 0.60509860998490939, 36)"
       ]
      },
      {
       "output_type": "stream",
       "stream": "stdout",
       "text": [
        " 2015-06-07\n",
        "(0.5222329678670935, 0.69696969696969724, 12)"
       ]
      },
      {
       "output_type": "stream",
       "stream": "stdout",
       "text": [
        " 2015-06-07\n",
        "(0.0, 0.25197631533948484, 5)"
       ]
      },
      {
       "output_type": "stream",
       "stream": "stdout",
       "text": [
        " 2015-06-07\n",
        "(0.0, 0.24862257904942356, 12)"
       ]
      },
      {
       "output_type": "stream",
       "stream": "stdout",
       "text": [
        " 2015-06-07\n",
        "(0.0, -0.092582009977255159, 9)"
       ]
      },
      {
       "output_type": "stream",
       "stream": "stdout",
       "text": [
        " 2015-06-07\n",
        "(0.0, -0.31752644813856012, 8)"
       ]
      },
      {
       "output_type": "stream",
       "stream": "stdout",
       "text": [
        " 2015-06-07\n",
        "(0.64967414873915907, 0.59429688727123087, 25)"
       ]
      },
      {
       "output_type": "stream",
       "stream": "stdout",
       "text": [
        " 2015-06-07\n",
        "(0.54772255750516619, 0.66666666666666663, 4)"
       ]
      },
      {
       "output_type": "stream",
       "stream": "stdout",
       "text": [
        " 2015-06-07\n",
        "(0.0, 0.19999999999999996, 5)"
       ]
      },
      {
       "output_type": "stream",
       "stream": "stdout",
       "text": [
        " 2015-06-07\n",
        "(0.55347066171431714, 0.47143049563860318, 27)"
       ]
      },
      {
       "output_type": "stream",
       "stream": "stdout",
       "text": [
        " 2015-06-07\n",
        "(0.35856858280031817, 0.27602622373694174, 6)"
       ]
      },
      {
       "output_type": "stream",
       "stream": "stdout",
       "text": [
        " 2015-06-07\n",
        "(0.3975231959999625, 0.54554472558998091, 8)"
       ]
      },
      {
       "output_type": "stream",
       "stream": "stdout",
       "text": [
        " 2015-06-07\n",
        "(0.54404159981330102, 0.51675232658689307, 15)"
       ]
      },
      {
       "output_type": "stream",
       "stream": "stdout",
       "text": [
        " 2015-06-07\n",
        "(0.0, -1.0, 2)"
       ]
      },
      {
       "output_type": "stream",
       "stream": "stdout",
       "text": [
        " 2015-06-07\n",
        "(0.0, 0.81537424832721128, 8)"
       ]
      },
      {
       "output_type": "stream",
       "stream": "stdout",
       "text": [
        " 2015-06-07\n",
        "(0.66720064085452979, 0.47708429822142284, 11)"
       ]
      },
      {
       "output_type": "stream",
       "stream": "stdout",
       "text": [
        " 2015-06-11\n",
        "(0.53260846582632493, 0.74342105263157898, 18)"
       ]
      },
      {
       "output_type": "stream",
       "stream": "stdout",
       "text": [
        " 2015-06-11\n",
        "(0.0, 0.40000000000000008, 4)"
       ]
      },
      {
       "output_type": "stream",
       "stream": "stdout",
       "text": [
        " 2015-06-11\n",
        "(0.30934411244487309, 0.60620697708443294, 21)"
       ]
      },
      {
       "output_type": "stream",
       "stream": "stdout",
       "text": [
        " 2015-06-12\n",
        "(0.41436080133336545, 0.82849892614353837, 20)"
       ]
      },
      {
       "output_type": "stream",
       "stream": "stdout",
       "text": [
        " 2015-06-12\n",
        "(0.66783756413992856, 0.66862457592389724, 19)"
       ]
      },
      {
       "output_type": "stream",
       "stream": "stdout",
       "text": [
        " 2015-06-12\n",
        "(0.35856858280031817, 0.41403933560541262, 6)"
       ]
      },
      {
       "output_type": "stream",
       "stream": "stdout",
       "text": [
        " 2015-06-12\n",
        "(0.0, 0.33028912953790812, 11)"
       ]
      },
      {
       "output_type": "stream",
       "stream": "stdout",
       "text": [
        " 2015-06-12\n",
        "(0.0, 0.044946657497549475, 10)"
       ]
      },
      {
       "output_type": "stream",
       "stream": "stdout",
       "text": [
        " 2015-06-12\n",
        "(0.22222222222222218, 0.52704627669472992, 5)"
       ]
      },
      {
       "output_type": "stream",
       "stream": "stdout",
       "text": [
        " 2015-06-13\n",
        "(0.0, 0.44038550605054416, 11)"
       ]
      },
      {
       "output_type": "stream",
       "stream": "stdout",
       "text": [
        " 2015-06-13\n",
        "(0.0, 0.10687334289668037, 12)"
       ]
      },
      {
       "output_type": "stream",
       "stream": "stdout",
       "text": [
        " 2015-06-13\n",
        "(0.73786478737262173, 0.66299354413179601, 14)"
       ]
      },
      {
       "output_type": "stream",
       "stream": "stdout",
       "text": [
        " 2015-06-13\n",
        "(0.7435551791782532, 0.62825670940101541, 25)"
       ]
      },
      {
       "output_type": "stream",
       "stream": "stdout",
       "text": [
        " 2015-06-13\n",
        "(0.0, 0.31622776601683794, 5)"
       ]
      },
      {
       "output_type": "stream",
       "stream": "stdout",
       "text": [
        " 2015-06-13\n",
        "(0.0, 0.36623351038235719, 9)"
       ]
      },
      {
       "output_type": "stream",
       "stream": "stdout",
       "text": [
        " 2015-06-13\n",
        "(0.66666666666666663, 0.52704627669472992, 5)"
       ]
      },
      {
       "output_type": "stream",
       "stream": "stdout",
       "text": [
        " 2015-06-13\n",
        "(0.0, 0.52704627669472992, 5)"
       ]
      },
      {
       "output_type": "stream",
       "stream": "stdout",
       "text": [
        " 2015-06-13\n",
        "(0.0, 0.14193843787544008, 13)"
       ]
      },
      {
       "output_type": "stream",
       "stream": "stdout",
       "text": [
        " 2015-06-13\n",
        "(0.80829037686547611, 0.68313005106397329, 7)"
       ]
      },
      {
       "output_type": "stream",
       "stream": "stdout",
       "text": [
        " 2015-06-13\n",
        "(0.71338497927484479, 0.70719311374058247, 14)"
       ]
      },
      {
       "output_type": "stream",
       "stream": "stdout",
       "text": [
        " 2015-06-13\n",
        "(0.59504705972676986, 0.49836333439760139, 18)"
       ]
      },
      {
       "output_type": "stream",
       "stream": "stdout",
       "text": [
        " 2015-06-13\n",
        "(0.58029197999910542, 0.38277950117547632, 15)"
       ]
      },
      {
       "output_type": "stream",
       "stream": "stdout",
       "text": [
        " 2015-06-13\n",
        "(0.4199605255658081, 0.69102331908064241, 8)"
       ]
      },
      {
       "output_type": "stream",
       "stream": "stdout",
       "text": [
        " 2015-06-13\n",
        "(0.0, 0.6259724369662707, 12)"
       ]
      },
      {
       "output_type": "stream",
       "stream": "stdout",
       "text": [
        " 2015-06-14\n",
        "(0.23200808433365483, 0.39618251258273968, 21)"
       ]
      },
      {
       "output_type": "stream",
       "stream": "stdout",
       "text": [
        " 2015-06-14\n",
        "(0.65398466227221674, 0.73351178811434281, 20)"
       ]
      },
      {
       "output_type": "stream",
       "stream": "stdout",
       "text": [
        " 2015-06-14\n",
        "(0.40000000000000008, 0.18257418583505539, 4)"
       ]
      },
      {
       "output_type": "stream",
       "stream": "stdout",
       "text": [
        " 2015-06-14\n",
        "(0.0, 0.27602622373694174, 6)"
       ]
      },
      {
       "output_type": "stream",
       "stream": "stdout",
       "text": [
        " 2015-06-14\n",
        "(0.0, 0.18257418583505539, 4)"
       ]
      },
      {
       "output_type": "stream",
       "stream": "stdout",
       "text": [
        " 2015-06-14\n",
        "(0.0, 0.69102331908064241, 8)"
       ]
      },
      {
       "output_type": "stream",
       "stream": "stdout",
       "text": [
        " 2015-06-14\n",
        "(0.0, 0.11940631009057205, 17)"
       ]
      },
      {
       "output_type": "stream",
       "stream": "stdout",
       "text": [
        " 2015-06-14\n",
        "(0.0, 0.34686583016987055, 17)"
       ]
      },
      {
       "output_type": "stream",
       "stream": "stdout",
       "text": [
        " 2015-06-14\n",
        "(0.58999690515828007, 0.62574380108698091, 23)"
       ]
      },
      {
       "output_type": "stream",
       "stream": "stdout",
       "text": [
        " 2015-06-14\n",
        "(0.0, -0.067419986246324226, 7)"
       ]
      },
      {
       "output_type": "stream",
       "stream": "stdout",
       "text": [
        " 2015-06-14\n",
        "(0.35306740632150324, 0.40191847623425014, 15)"
       ]
      },
      {
       "output_type": "stream",
       "stream": "stdout",
       "text": [
        " 2015-06-14\n",
        "(0.66666666666666685, 0.86164043685532898, 8)"
       ]
      },
      {
       "output_type": "stream",
       "stream": "stdout",
       "text": [
        " 2015-06-14\n",
        "(0.66666666666666685, 0.29629629629629628, 8)"
       ]
      },
      {
       "output_type": "stream",
       "stream": "stdout",
       "text": [
        " 2015-06-19\n",
        "(0.71369146650041237, 0.61538461538461553, 12)"
       ]
      },
      {
       "output_type": "stream",
       "stream": "stdout",
       "text": [
        " 2015-06-19\n",
        "(0.0, 0.33333333333333326, 3)"
       ]
      },
      {
       "output_type": "stream",
       "stream": "stdout",
       "text": [
        " 2015-06-19\n",
        "(0.0, -0.18257418583505539, 4)"
       ]
      },
      {
       "output_type": "stream",
       "stream": "stdout",
       "text": [
        " 2015-06-19\n",
        "(0.45226701686664544, -0.068181818181818191, 10)"
       ]
      },
      {
       "output_type": "stream",
       "stream": "stdout",
       "text": [
        " 2015-06-19\n",
        "(0.0, -0.99999999999999989, 3)"
       ]
      },
      {
       "output_type": "stream",
       "stream": "stdout",
       "text": [
        " 2015-06-19\n",
        "(0.45847154123734263, 0.34792626728110587, 30)"
       ]
      },
      {
       "output_type": "stream",
       "stream": "stdout",
       "text": [
        " 2015-06-20\n",
        "(0.29785039774650479, 0.45413585181311411, 37)"
       ]
      },
      {
       "output_type": "stream",
       "stream": "stdout",
       "text": [
        " 2015-06-20\n",
        "(0.15824498394222217, 0.416137806283714, 31)"
       ]
      },
      {
       "output_type": "stream",
       "stream": "stdout",
       "text": [
        " 2015-06-20\n",
        "(0.40133429081857747, 0.53978573671111318, 51)"
       ]
      },
      {
       "output_type": "stream",
       "stream": "stdout",
       "text": [
        " 2015-06-20\n",
        "(0.80178372573727319, 0.82807867121082523, 6)"
       ]
      },
      {
       "output_type": "stream",
       "stream": "stdout",
       "text": [
        " 2015-06-20\n",
        "(0.55022334182848665, 0.64358108108108125, 35)"
       ]
      },
      {
       "output_type": "stream",
       "stream": "stdout",
       "text": [
        " 2015-06-20\n",
        "(0.0, -0.22222222222222218, 5)"
       ]
      },
      {
       "output_type": "stream",
       "stream": "stdout",
       "text": [
        " 2015-06-20\n",
        "(0.0, 0.94868329805051377, 5)"
       ]
      },
      {
       "output_type": "stream",
       "stream": "stdout",
       "text": [
        " 2015-06-20\n",
        "(0.25890435250935812, 0.56832861622539477, 10)"
       ]
      },
      {
       "output_type": "stream",
       "stream": "stdout",
       "text": [
        " 2015-06-20\n",
        "(0.20385887657505025, 0.40451991747794525, 10)"
       ]
      },
      {
       "output_type": "stream",
       "stream": "stdout",
       "text": [
        " 2015-06-20\n",
        "(0.70710678118654757, 0.70710678118654757, 4)"
       ]
      },
      {
       "output_type": "stream",
       "stream": "stdout",
       "text": [
        " 2015-06-20\n",
        "(0.81649658092772615, 0.99999999999999989, 3)"
       ]
      },
      {
       "output_type": "stream",
       "stream": "stdout",
       "text": [
        " 2015-06-20\n",
        "(0.0, 0.069006555934235422, 17)"
       ]
      },
      {
       "output_type": "stream",
       "stream": "stdout",
       "text": [
        " 2015-06-20\n",
        "(0.33442802702996927, 0.40398236890483841, 18)"
       ]
      },
      {
       "output_type": "stream",
       "stream": "stdout",
       "text": [
        " 2015-06-20\n",
        "(0.43033148291193518, 0.49999999999999994, 11)"
       ]
      },
      {
       "output_type": "stream",
       "stream": "stdout",
       "text": [
        " 2015-06-20\n",
        "(0.65620787079189269, 0.63852465008514736, 20)"
       ]
      },
      {
       "output_type": "stream",
       "stream": "stdout",
       "text": [
        " 2015-06-20\n",
        "(0.0, 0.0, 3)"
       ]
      },
      {
       "output_type": "stream",
       "stream": "stdout",
       "text": [
        " 2015-06-20\n",
        "(0.72536852858560308, 0.5673076923076924, 15)"
       ]
      },
      {
       "output_type": "stream",
       "stream": "stdout",
       "text": [
        " 2015-06-20\n",
        "(0.0, 0.0, 4)"
       ]
      },
      {
       "output_type": "stream",
       "stream": "stdout",
       "text": [
        " 2015-06-20\n",
        "(0.66097342265577808, 0.62387946690493756, 11)"
       ]
      },
      {
       "output_type": "stream",
       "stream": "stdout",
       "text": [
        " 2015-06-21\n",
        "(0.0, 0.0, 4)"
       ]
      },
      {
       "output_type": "stream",
       "stream": "stdout",
       "text": [
        " 2015-06-21\n",
        "(0.37745980988717104, 0.71620304768722176, 20)"
       ]
      },
      {
       "output_type": "stream",
       "stream": "stdout",
       "text": [
        " 2015-06-22\n",
        "(0.66477350847901695, 0.57143172499918238, 18)"
       ]
      },
      {
       "output_type": "stream",
       "stream": "stdout",
       "text": [
        " 2015-06-23\n",
        "(0.0, 0.91287092917527701, 4)"
       ]
      },
      {
       "output_type": "stream",
       "stream": "stdout",
       "text": [
        " 2015-06-26\n",
        "(0.0, 0.0, 2)"
       ]
      },
      {
       "output_type": "stream",
       "stream": "stdout",
       "text": [
        " 2015-06-26\n",
        "(0.0, 0.0, 6)"
       ]
      },
      {
       "output_type": "stream",
       "stream": "stdout",
       "text": [
        " 2015-06-28\n",
        "(0.0, 0.4879500364742666, 7)"
       ]
      },
      {
       "output_type": "stream",
       "stream": "stdout",
       "text": [
        " 2015-06-28\n",
        "(0.0, 0.68313005106397329, 7)"
       ]
      },
      {
       "output_type": "stream",
       "stream": "stdout",
       "text": [
        " 2015-06-28\n",
        "(0.0, 0.55205244747388349, 6)"
       ]
      },
      {
       "output_type": "stream",
       "stream": "stdout",
       "text": [
        " 2015-06-28\n",
        "(0.0, 0.03669879217087868, 11)"
       ]
      },
      {
       "output_type": "stream",
       "stream": "stdout",
       "text": [
        " 2015-06-28\n",
        "(0.59761430466719689, 0.27602622373694174, 6)"
       ]
      },
      {
       "output_type": "stream",
       "stream": "stdout",
       "text": [
        " 2015-06-28\n",
        "(0.0, 0.0, 4)"
       ]
      },
      {
       "output_type": "stream",
       "stream": "stdout",
       "text": [
        " 2015-06-28\n",
        "(0.0, 0.048838629050550433, 10)"
       ]
      },
      {
       "output_type": "stream",
       "stream": "stdout",
       "text": [
        " 2015-06-28\n",
        "(0.45226701686664544, 0.22727272727272732, 10)"
       ]
      },
      {
       "output_type": "stream",
       "stream": "stdout",
       "text": [
        " 2015-07-07\n",
        "(0.2581988897471611, 0.54772255750516619, 4)"
       ]
      },
      {
       "output_type": "stream",
       "stream": "stdout",
       "text": [
        " 2015-07-07\n",
        "(0.43033148291193518, 0.62387946690493756, 11)"
       ]
      },
      {
       "output_type": "stream",
       "stream": "stdout",
       "text": [
        " 2015-07-12\n",
        "(0.5789650487534771, 0.62667885453786198, 34)"
       ]
      },
      {
       "output_type": "stream",
       "stream": "stdout",
       "text": [
        " 2015-07-12\n",
        "(0.0, 0.55205244747388349, 6)"
       ]
      },
      {
       "output_type": "stream",
       "stream": "stdout",
       "text": [
        " 2015-07-12\n",
        "(0.0, 0.0, 3)"
       ]
      },
      {
       "output_type": "stream",
       "stream": "stdout",
       "text": [
        " 2015-07-12\n",
        "(0.57735026918962573, 0.58430654746814314, 10)"
       ]
      },
      {
       "output_type": "stream",
       "stream": "stdout",
       "text": [
        " 2015-07-14\n",
        "(0.81649658092772615, 0.33333333333333326, 3)"
       ]
      },
      {
       "output_type": "stream",
       "stream": "stdout",
       "text": [
        " 2015-07-14\n",
        "(0.88191710368819687, 0.52704627669472992, 5)"
       ]
      },
      {
       "output_type": "stream",
       "stream": "stdout",
       "text": [
        " 2015-07-18\n",
        "(0.0, 0.33333333333333326, 3)"
       ]
      },
      {
       "output_type": "stream",
       "stream": "stdout",
       "text": [
        " 2015-07-18\n",
        "(0.0, 0.33333333333333326, 3)"
       ]
      },
      {
       "output_type": "stream",
       "stream": "stdout",
       "text": [
        " 2015-07-18\n",
        "(0.33333333333333326, 0.99999999999999989, 3)"
       ]
      },
      {
       "output_type": "stream",
       "stream": "stdout",
       "text": [
        " 2015-07-18\n",
        "(-0.99999999999999989, -0.33333333333333326, 3)"
       ]
      },
      {
       "output_type": "stream",
       "stream": "stdout",
       "text": [
        " 2015-07-18\n",
        "(0.26695873899498362, 0.54393781569122002, 16)"
       ]
      },
      {
       "output_type": "stream",
       "stream": "stdout",
       "text": [
        " 2015-07-18\n",
        "(0.75592894601845451, 0.69006555934235436, 6)"
       ]
      },
      {
       "output_type": "stream",
       "stream": "stdout",
       "text": [
        " 2015-07-18\n",
        "(0.0, 0.42257712736425829, 9)"
       ]
      },
      {
       "output_type": "stream",
       "stream": "stdout",
       "text": [
        " 2015-07-18\n",
        "(0.058210412771733284, 0.16806722689075626, 16)"
       ]
      },
      {
       "output_type": "stream",
       "stream": "stdout",
       "text": [
        " 2015-07-18\n",
        "(0.59761430466719689, 0.23145502494313788, 6)"
       ]
      },
      {
       "output_type": "stream",
       "stream": "stdout",
       "text": [
        " 2015-07-18\n",
        "(0.0, 0.61828402233531166, 8)"
       ]
      },
      {
       "output_type": "stream",
       "stream": "stdout",
       "text": [
        " 2015-07-19\n",
        "(0.65079137345596838, 0.58554004376911994, 7)"
       ]
      },
      {
       "output_type": "stream",
       "stream": "stdout",
       "text": [
        " 2015-07-19\n",
        "(0.21693045781865614, 0.29277002188455997, 7)"
       ]
      },
      {
       "output_type": "stream",
       "stream": "stdout",
       "text": [
        " 2015-07-19\n",
        "(0.44791400876468346, 0.1797866299901979, 10)"
       ]
      },
      {
       "output_type": "stream",
       "stream": "stdout",
       "text": [
        " 2015-07-19\n",
        "(0.6103266849698632, 0.70814207717463118, 15)"
       ]
      },
      {
       "output_type": "stream",
       "stream": "stdout",
       "text": [
        " 2015-07-24\n",
        "(0.47809144373375756, 0.64795159529186264, 9)"
       ]
      },
      {
       "output_type": "stream",
       "stream": "stdout",
       "text": [
        " 2015-07-25\n",
        "(0.57358898961218663, 0.52904326844482208, 13)"
       ]
      },
      {
       "output_type": "stream",
       "stream": "stdout",
       "text": [
        " 2015-07-25\n",
        "(0.0, -0.047219216464988577, 15)"
       ]
      },
      {
       "output_type": "stream",
       "stream": "stdout",
       "text": [
        " 2015-07-25\n",
        "(0.0, 0.29629629629629628, 8)"
       ]
      },
      {
       "output_type": "stream",
       "stream": "stdout",
       "text": [
        " 2015-07-25\n",
        "(0.24103339450586, 0.18380021540786895, 24)"
       ]
      },
      {
       "output_type": "stream",
       "stream": "stdout",
       "text": [
        " 2015-07-25\n",
        "(0.61008887608656304, 0.74642002729217882, 15)"
       ]
      },
      {
       "output_type": "stream",
       "stream": "stdout",
       "text": [
        " 2015-07-25\n",
        "(0.0, 0.42581531362632025, 13)"
       ]
      },
      {
       "output_type": "stream",
       "stream": "stdout",
       "text": [
        " 2015-07-26\n",
        "(0.0, 0.40006613209931929, 8)"
       ]
      },
      {
       "output_type": "stream",
       "stream": "stdout",
       "text": [
        " 2015-07-26\n",
        "(0.17928429140015908, 0.42257712736425829, 9)"
       ]
      },
      {
       "output_type": "stream",
       "stream": "stdout",
       "text": [
        " 2015-07-26\n",
        "(0.0, -0.082572282384477044, 10)"
       ]
      },
      {
       "output_type": "stream",
       "stream": "stdout",
       "text": [
        " 2015-07-26\n",
        "(0.81649658092772615, 0.99999999999999989, 3)"
       ]
      },
      {
       "output_type": "stream",
       "stream": "stdout",
       "text": [
        " 2015-07-31\n",
        "(0.0, -1.0, 2)"
       ]
      },
      {
       "output_type": "stream",
       "stream": "stdout",
       "text": [
        " 2015-07-31\n",
        "(0.0, 0.7745966692414834, 4)"
       ]
      },
      {
       "output_type": "stream",
       "stream": "stdout",
       "text": [
        " 2015-07-31\n",
        "(0.0, 1.0, 2)"
       ]
      },
      {
       "output_type": "stream",
       "stream": "stdout",
       "text": [
        " 2015-07-31\n",
        "(0.0, 0.99999999999999989, 3)"
       ]
      },
      {
       "output_type": "stream",
       "stream": "stdout",
       "text": [
        " 2015-07-31\n",
        "(0.0, 0.0, 1)"
       ]
      },
      {
       "output_type": "stream",
       "stream": "stdout",
       "text": [
        " 2015-07-31\n",
        "(0.11095900821829634, 0.24902912254587614, 10)"
       ]
      },
      {
       "output_type": "stream",
       "stream": "stdout",
       "text": [
        " 2015-07-31\n",
        "(0.54772255750516619, 0.35000000000000009, 7)"
       ]
      },
      {
       "output_type": "stream",
       "stream": "stdout",
       "text": [
        " 2015-07-31\n",
        "(0.0, 0.0, 5)"
       ]
      },
      {
       "output_type": "stream",
       "stream": "stdout",
       "text": [
        " 2015-07-31\n",
        "(0.75592894601845451, 0.92857142857142883, 6)"
       ]
      },
      {
       "output_type": "stream",
       "stream": "stdout",
       "text": [
        " 2015-07-31\n",
        "(0.68599434057003517, 0.69727705124669492, 11)"
       ]
      },
      {
       "output_type": "stream",
       "stream": "stdout",
       "text": [
        " 2015-07-31\n",
        "(0.0, 0.58554004376911994, 7)"
       ]
      },
      {
       "output_type": "stream",
       "stream": "stdout",
       "text": [
        " 2015-08-01\n",
        "(0.6546536707079772, 0.76063882925566484, 9)"
       ]
      },
      {
       "output_type": "stream",
       "stream": "stdout",
       "text": [
        " 2015-08-01\n",
        "(0.46563418796102551, 0.25961538461538464, 15)"
       ]
      },
      {
       "output_type": "stream",
       "stream": "stdout",
       "text": [
        " 2015-08-01\n",
        "(0.26688025634181195, 0.40006613209931929, 8)"
       ]
      },
      {
       "output_type": "stream",
       "stream": "stdout",
       "text": [
        " 2015-08-01\n",
        "(0.7745966692414834, 0.18257418583505539, 4)"
       ]
      },
      {
       "output_type": "stream",
       "stream": "stdout",
       "text": [
        " 2015-08-01\n",
        "(0.0, 0.58554004376911994, 7)"
       ]
      },
      {
       "output_type": "stream",
       "stream": "stdout",
       "text": [
        " 2015-08-02\n",
        "(0.61259001340232133, 0.70969218937720036, 13)"
       ]
      },
      {
       "output_type": "stream",
       "stream": "stdout",
       "text": [
        " 2015-08-02\n",
        "(0.0, 0.55205244747388349, 6)"
       ]
      },
      {
       "output_type": "stream",
       "stream": "stdout",
       "text": [
        " 2015-08-02\n",
        "(0.6088975060217493, 0.58718067473405888, 11)"
       ]
      },
      {
       "output_type": "stream",
       "stream": "stdout",
       "text": [
        " 2015-08-02\n",
        "(0.0, -0.089087080637474794, 6)"
       ]
      },
      {
       "output_type": "stream",
       "stream": "stdout",
       "text": [
        " 2015-08-02\n",
        "(0.0, 0.19518001458970666, 7)"
       ]
      },
      {
       "output_type": "stream",
       "stream": "stdout",
       "text": [
        " 2015-08-04\n",
        "(0.0, 0.33333333333333326, 3)"
       ]
      },
      {
       "output_type": "stream",
       "stream": "stdout",
       "text": [
        " 2015-08-04\n",
        "(0.71710878829157743, 0.54554472558998091, 8)"
       ]
      },
      {
       "output_type": "stream",
       "stream": "stdout",
       "text": [
        " 2015-08-08\n",
        "(0.5472674795059792, 0.57311562465492571, 63)"
       ]
      },
      {
       "output_type": "stream",
       "stream": "stdout",
       "text": [
        " 2015-08-08\n",
        "(0.79124940397826415, 0.80918388193200852, 12)"
       ]
      },
      {
       "output_type": "stream",
       "stream": "stdout",
       "text": [
        " 2015-08-08\n",
        "(0.49544035707835871, 0.51378309039230152, 11)"
       ]
      },
      {
       "output_type": "stream",
       "stream": "stdout",
       "text": [
        " 2015-08-08\n",
        "(0.0, 0.39036002917941331, 7)"
       ]
      },
      {
       "output_type": "stream",
       "stream": "stdout",
       "text": [
        " 2015-08-08\n",
        "(0.2696799449852969, 0.78072005835882663, 7)"
       ]
      },
      {
       "output_type": "stream",
       "stream": "stdout",
       "text": [
        " 2015-08-08\n",
        "(0.2696799449852969, 0.29277002188455997, 7)"
       ]
      },
      {
       "output_type": "stream",
       "stream": "stdout",
       "text": [
        " 2015-08-08\n",
        "(0.0, -0.10540925533894598, 5)"
       ]
      },
      {
       "output_type": "stream",
       "stream": "stdout",
       "text": [
        " 2015-08-09\n",
        "(0.0, 0.99999999999999989, 3)"
       ]
      },
      {
       "output_type": "stream",
       "stream": "stdout",
       "text": [
        " 2015-08-14\n",
        "(0.0, 0.13801311186847087, 6)"
       ]
      },
      {
       "output_type": "stream",
       "stream": "stdout",
       "text": [
        " 2015-08-14\n",
        "(0.0, -0.11631052629980886, 10)"
       ]
      },
      {
       "output_type": "stream",
       "stream": "stdout",
       "text": [
        " 2015-08-14\n",
        "(0.49613893835683404, 0.68704291862151667, 12)"
       ]
      },
      {
       "output_type": "stream",
       "stream": "stdout",
       "text": [
        " 2015-08-14\n",
        "(0.30638575271289903, 0.55503027670444061, 15)"
       ]
      },
      {
       "output_type": "stream",
       "stream": "stdout",
       "text": [
        " 2015-08-14\n",
        "(0.43033148291193518, 0.44721359549995793, 6)"
       ]
      },
      {
       "output_type": "stream",
       "stream": "stdout",
       "text": [
        " 2015-08-14\n",
        "(0.21516574145596759, 0.58500980097470778, 11)"
       ]
      },
      {
       "output_type": "stream",
       "stream": "stdout",
       "text": [
        " 2015-08-15\n",
        "(0.59290115423422163, 0.56296296296296289, 17)"
       ]
      },
      {
       "output_type": "stream",
       "stream": "stdout",
       "text": [
        " 2015-08-15\n",
        "(0.0, 0.10910894511799617, 8)"
       ]
      },
      {
       "output_type": "stream",
       "stream": "stdout",
       "text": [
        " 2015-08-15\n",
        "(0.13910683541222538, 0.43658007057465714, 19)"
       ]
      },
      {
       "output_type": "stream",
       "stream": "stdout",
       "text": [
        " 2015-08-15\n",
        "(0.073549806607002305, 0.18183247724572199, 26)"
       ]
      },
      {
       "output_type": "stream",
       "stream": "stdout",
       "text": [
        " 2015-08-15\n",
        "(0.52209393437271867, 0.4425173100960158, 22)"
       ]
      },
      {
       "output_type": "stream",
       "stream": "stdout",
       "text": [
        " 2015-08-16\n",
        "(0.65854058288058381, 0.74899570158617168, 15)"
       ]
      },
      {
       "output_type": "stream",
       "stream": "stdout",
       "text": [
        " 2015-08-16\n",
        "(0.0, -0.31622776601683794, 5)"
       ]
      },
      {
       "output_type": "stream",
       "stream": "stdout",
       "text": [
        " 2015-08-16\n",
        "(0.0, 0.29359033736702944, 11)"
       ]
      },
      {
       "output_type": "stream",
       "stream": "stdout",
       "text": [
        " 2015-08-16\n",
        "(0.49365724849494175, 0.16806722689075626, 16)"
       ]
      },
      {
       "output_type": "stream",
       "stream": "stdout",
       "text": [
        " 2015-08-16\n",
        "(0.63861064342130192, 0.80443352103225296, 17)"
       ]
      },
      {
       "output_type": "stream",
       "stream": "stdout",
       "text": [
        " 2015-08-16\n",
        "(0.0, 0.41403933560541262, 6)"
       ]
      },
      {
       "output_type": "stream",
       "stream": "stdout",
       "text": [
        " 2015-08-16\n",
        "(0.0, 0.39999999999999991, 5)"
       ]
      },
      {
       "output_type": "stream",
       "stream": "stdout",
       "text": [
        " 2015-08-16\n",
        "(0.45353942022497423, 0.3595732599803958, 10)"
       ]
      },
      {
       "output_type": "stream",
       "stream": "stdout",
       "text": [
        " 2015-08-17\n",
        "(0.60677987621691798, 0.4879500364742666, 7)"
       ]
      },
      {
       "output_type": "stream",
       "stream": "stdout",
       "text": [
        " 2015-08-21\n",
        "(0.43441679147789458, 0.45652173913043465, 22)"
       ]
      },
      {
       "output_type": "stream",
       "stream": "stdout",
       "text": [
        " 2015-08-21\n",
        "(0.84866842479150562, 0.69006555934235436, 6)"
       ]
      },
      {
       "output_type": "stream",
       "stream": "stdout",
       "text": [
        " 2015-08-21\n",
        "(0.0, 0.69102331908064241, 8)"
       ]
      },
      {
       "output_type": "stream",
       "stream": "stdout",
       "text": [
        " 2015-08-22\n",
        "(0.45042330363890404, 0.66109365291702116, 16)"
       ]
      },
      {
       "output_type": "stream",
       "stream": "stdout",
       "text": [
        " 2015-08-22\n",
        "(0.0, 0.4879500364742666, 7)"
       ]
      },
      {
       "output_type": "stream",
       "stream": "stdout",
       "text": [
        " 2015-08-22\n",
        "(0.0, 0.5393598899705937, 10)"
       ]
      },
      {
       "output_type": "stream",
       "stream": "stdout",
       "text": [
        " 2015-08-22\n",
        "(0.53935988997059381, 0.36893239368631092, 7)"
       ]
      },
      {
       "output_type": "stream",
       "stream": "stdout",
       "text": [
        " 2015-08-22\n",
        "(0.0, 0.0, 4)"
       ]
      },
      {
       "output_type": "stream",
       "stream": "stdout",
       "text": [
        " 2015-08-22\n",
        "(0.69898002181784702, 0.62302077840160552, 23)"
       ]
      },
      {
       "output_type": "stream",
       "stream": "stdout",
       "text": [
        " 2015-08-22\n",
        "(0.68711410355252966, 0.57144874863489215, 16)"
       ]
      },
      {
       "output_type": "stream",
       "stream": "stdout",
       "text": [
        " 2015-08-22\n",
        "(0.35596807096123051, 0.59016710652347537, 18)"
       ]
      },
      {
       "output_type": "stream",
       "stream": "stdout",
       "text": [
        " 2015-08-22\n",
        "(0.0, 0.4944132324730442, 10)"
       ]
      },
      {
       "output_type": "stream",
       "stream": "stdout",
       "text": [
        " 2015-08-22\n",
        "(0.0, 0.19720265943665385, 9)"
       ]
      },
      {
       "output_type": "stream",
       "stream": "stdout",
       "text": [
        " 2015-08-22\n",
        "(0.0, -0.14814814814814814, 8)"
       ]
      },
      {
       "output_type": "stream",
       "stream": "stdout",
       "text": [
        " 2015-08-22\n",
        "(0.44197999993927367, 0.67419986246324204, 10)"
       ]
      },
      {
       "output_type": "stream",
       "stream": "stdout",
       "text": [
        " 2015-08-23\n",
        "(0.36860693191134186, 0.32088815529891995, 32)"
       ]
      },
      {
       "output_type": "stream",
       "stream": "stdout",
       "text": [
        " 2015-08-23\n",
        "(0.0, 0.10540925533894598, 5)"
       ]
      },
      {
       "output_type": "stream",
       "stream": "stdout",
       "text": [
        " 2015-08-23\n",
        "(0.31448545101657549, 0.45933540141057155, 15)"
       ]
      },
      {
       "output_type": "stream",
       "stream": "stdout",
       "text": [
        " 2015-08-23\n",
        "(0.49040823861374988, 0.45925925925925914, 17)"
       ]
      },
      {
       "output_type": "stream",
       "stream": "stdout",
       "text": [
        " 2015-08-23\n",
        "(0.33806170189140666, 0.36623351038235719, 9)"
       ]
      },
      {
       "output_type": "stream",
       "stream": "stdout",
       "text": [
        " 2015-08-28\n",
        "(0.58848988633649979, 0.53526436132806043, 9)"
       ]
      },
      {
       "output_type": "stream",
       "stream": "stdout",
       "text": [
        " 2015-08-28\n",
        "(0.4399413450640598, -0.03669879217087868, 11)"
       ]
      },
      {
       "output_type": "stream",
       "stream": "stdout",
       "text": [
        " 2015-08-28\n",
        "(0.67248289987206944, 0.70192307692307698, 15)"
       ]
      },
      {
       "output_type": "stream",
       "stream": "stdout",
       "text": [
        " 2015-08-28\n",
        "(0.35607368025665231, 0.42581531362632025, 13)"
       ]
      },
      {
       "output_type": "stream",
       "stream": "stdout",
       "text": [
        " 2015-08-28\n",
        "(0.016960728377159486, 0.58302979964722923, 17)"
       ]
      },
      {
       "output_type": "stream",
       "stream": "stdout",
       "text": [
        " 2015-08-28\n",
        "(0.65513841988266053, 0.62731054392423391, 17)"
       ]
      },
      {
       "output_type": "stream",
       "stream": "stdout",
       "text": [
        " 2015-08-28\n",
        "(0.63641934744224771, 0.56490195531102483, 12)"
       ]
      },
      {
       "output_type": "stream",
       "stream": "stdout",
       "text": [
        " 2015-08-28\n",
        "(0.40257789993644899, 0.49668038486214861, 28)"
       ]
      },
      {
       "output_type": "stream",
       "stream": "stdout",
       "text": [
        " 2015-08-29\n",
        "(0.0, 0.0, 4)"
       ]
      },
      {
       "output_type": "stream",
       "stream": "stdout",
       "text": [
        " 2015-08-29\n",
        "(0.0, 0.0, 3)"
       ]
      },
      {
       "output_type": "stream",
       "stream": "stdout",
       "text": [
        " 2015-08-29\n",
        "(0.0, 0.0, 7)"
       ]
      },
      {
       "output_type": "stream",
       "stream": "stdout",
       "text": [
        " 2015-08-29\n",
        "(0.0, -0.17817416127494959, 6)"
       ]
      },
      {
       "output_type": "stream",
       "stream": "stdout",
       "text": [
        " 2015-08-29\n",
        "(0.0, 0.27397980776862924, 13)"
       ]
      },
      {
       "output_type": "stream",
       "stream": "stdout",
       "text": [
        " 2015-08-29\n",
        "(0.0, 0.35675303400633795, 10)"
       ]
      },
      {
       "output_type": "stream",
       "stream": "stdout",
       "text": [
        " 2015-08-29\n",
        "(0.81134808453937601, 0.70429521227376379, 9)"
       ]
      },
      {
       "output_type": "stream",
       "stream": "stdout",
       "text": [
        " 2015-08-29\n",
        "(0.0, 0.30988989340045608, 9)"
       ]
      },
      {
       "output_type": "stream",
       "stream": "stdout",
       "text": [
        " 2015-08-29\n",
        "(0.43875442632877609, 0.32592592592592584, 17)"
       ]
      },
      {
       "output_type": "stream",
       "stream": "stdout",
       "text": [
        " 2015-08-29\n",
        "(0.70251641025891709, 0.64661727244913592, 37)"
       ]
      },
      {
       "output_type": "stream",
       "stream": "stdout",
       "text": [
        " 2015-08-29\n",
        "(0.6727763780815933, 0.6183647035906491, 15)"
       ]
      },
      {
       "output_type": "stream",
       "stream": "stdout",
       "text": [
        " 2015-08-29\n",
        "(0.0, -0.69388866648871106, 8)"
       ]
      },
      {
       "output_type": "stream",
       "stream": "stdout",
       "text": [
        " 2015-08-29\n",
        "(0.0, 0.11428571428571431, 9)"
       ]
      },
      {
       "output_type": "stream",
       "stream": "stdout",
       "text": [
        " 2015-08-29\n",
        "(0.54006172486732174, 0.82807867121082523, 6)"
       ]
      },
      {
       "output_type": "stream",
       "stream": "stdout",
       "text": [
        " 2015-08-30\n",
        "(0.7745966692414834, 0.91287092917527701, 4)"
       ]
      },
      {
       "output_type": "stream",
       "stream": "stdout",
       "text": [
        " 2015-08-30\n",
        "(0.49901576960572352, 0.66843501326259935, 28)"
       ]
      },
      {
       "output_type": "stream",
       "stream": "stdout",
       "text": [
        " 2015-08-30\n",
        "(0.47473415355995979, 0.63817170573518267, 18)"
       ]
      },
      {
       "output_type": "stream",
       "stream": "stdout",
       "text": [
        " 2015-08-30\n",
        "(0.75812978146900356, 0.98882646494608839, 10)"
       ]
      },
      {
       "output_type": "stream",
       "stream": "stdout",
       "text": [
        " 2015-08-30\n",
        "(0.25594534844449579, 0.44946657497549475, 10)"
       ]
      },
      {
       "output_type": "stream",
       "stream": "stdout",
       "text": [
        " 2015-08-30\n"
       ]
      }
     ],
     "prompt_number": 28
    },
    {
     "cell_type": "code",
     "collapsed": false,
     "input": [
      "d.to_pickle(\"./saber_events_20140620_20150626_prediction_tie_adjusted.pickle\")"
     ],
     "language": "python",
     "metadata": {},
     "outputs": [],
     "prompt_number": 29
    },
    {
     "cell_type": "code",
     "collapsed": false,
     "input": [
      "toanalyse = \"./saber_events_20140620_20150626_prediction_tie_adjusted.pickle\""
     ],
     "language": "python",
     "metadata": {},
     "outputs": [],
     "prompt_number": 67
    },
    {
     "cell_type": "code",
     "collapsed": false,
     "input": [
      "d = pd.read_pickle(toanalyse)\n",
      "d.rename(columns={\"letter_tau\" : \"Letter Rating\", \"mu_tau\" : \"TrueSkill Rating\"}, inplace=True)\n",
      "p = d[[\"Letter Rating\", \"TrueSkill Rating\"]].plot(title=\"Kendall Tau distribution (with rating jitter)\", kind=\"hist\", bins=50, figsize=(8,8), \n",
      "                                 color=[[0.0,0.7,0.0,0.3],\n",
      "                                        [0.0,0.0,0.7,0.6]])\n",
      "p.set_ylabel(\"frequency\")"
     ],
     "language": "python",
     "metadata": {},
     "outputs": [
      {
       "metadata": {},
       "output_type": "pyout",
       "prompt_number": 68,
       "text": [
        "<matplotlib.text.Text at 0x10e57d450>"
       ]
      },
      {
       "metadata": {},
       "output_type": "display_data",
       "png": "[encoded data removed]",
       "text": [
        "<matplotlib.figure.Figure at 0x10d95bad0>"
       ]
      }
     ],
     "prompt_number": 68
    },
    {
     "cell_type": "code",
     "collapsed": false,
     "input": [
      "d = pd.read_pickle(toanalyse)\n",
      "d.rename(columns={\"letter_tau\" : \"Letter Rating\", \"mu_tau\" : \"TrueSkill Rating\"}, inplace=True)\n",
      "p = d[[\"Letter Rating\", \"TrueSkill Rating\"]].plot(title=\"Kendall Tau distribution\", kind=\"hist\", bins=50, figsize=(8,8), \n",
      "                                 color=[[0.0,0.7,0.0,0.3],\n",
      "                                        [0.0,0.0,0.7,0.6]])\n",
      "p.set_ylabel(\"frequency\")"
     ],
     "language": "python",
     "metadata": {},
     "outputs": [
      {
       "metadata": {},
       "output_type": "pyout",
       "prompt_number": 69,
       "text": [
        "<matplotlib.text.Text at 0x10e9998d0>"
       ]
      },
      {
       "metadata": {},
       "output_type": "display_data",
       "png": "[encoded data removed]",
       "text": [
        "<matplotlib.figure.Figure at 0x10dc09b10>"
       ]
      }
     ],
     "prompt_number": 69
    },
    {
     "cell_type": "code",
     "collapsed": false,
     "input": [
      "d = pd.read_pickle(toanalyse)\n",
      "d = d[d[\"letter_tau\"] != 0.0]\n",
      "d.rename(columns={\"letter_tau\" : \"Letter Rating\", \"mu_tau\" : \"TrueSkill Rating\"}, inplace=True)\n",
      "p = d[[\"Letter Rating\", \"TrueSkill Rating\"]].plot(title=\"Kendall Tau distribution (Letter Tau != 0.0)\", kind=\"hist\", bins=50, figsize=(8,8), \n",
      "                                 color=[[0.0,0.7,0.0,0.3],\n",
      "                                        [0.0,0.0,0.7,0.6]])\n",
      "p.set_ylabel(\"frequency\")"
     ],
     "language": "python",
     "metadata": {},
     "outputs": [
      {
       "metadata": {},
       "output_type": "pyout",
       "prompt_number": 70,
       "text": [
        "<matplotlib.text.Text at 0x10ed88e50>"
       ]
      },
      {
       "metadata": {},
       "output_type": "display_data",
       "png": "[encoded data removed]",
       "text": [
        "<matplotlib.figure.Figure at 0x10e9c20d0>"
       ]
      }
     ],
     "prompt_number": 70
    },
    {
     "cell_type": "code",
     "collapsed": false,
     "input": [
      "d.mean()"
     ],
     "language": "python",
     "metadata": {},
     "outputs": [
      {
       "metadata": {},
       "output_type": "pyout",
       "prompt_number": 71,
       "text": [
        "eventid             110424.905126\n",
        "Letter Rating            0.490594\n",
        "TrueSkill Rating         0.527083\n",
        "num_fencers             15.762816\n",
        "dtype: float64"
       ]
      }
     ],
     "prompt_number": 71
    },
    {
     "cell_type": "code",
     "collapsed": false,
     "input": [
      "d.median()"
     ],
     "language": "python",
     "metadata": {},
     "outputs": [
      {
       "metadata": {},
       "output_type": "pyout",
       "prompt_number": 72,
       "text": [
        "eventid             110132.000000\n",
        "Letter Rating            0.509175\n",
        "TrueSkill Rating         0.552174\n",
        "num_fencers             13.000000\n",
        "dtype: float64"
       ]
      }
     ],
     "prompt_number": 72
    },
    {
     "cell_type": "code",
     "collapsed": false,
     "input": [
      "from scipy.stats import ttest_ind\n",
      "d = pd.read_pickle(toanalyse)\n",
      "ttest_ind(d[\"mu_tau\"].dropna(), d[\"letter_tau\"].dropna())"
     ],
     "language": "python",
     "metadata": {},
     "outputs": [
      {
       "metadata": {},
       "output_type": "pyout",
       "prompt_number": 73,
       "text": [
        "(9.2061502902607408, 5.0309375878104677e-20)"
       ]
      }
     ],
     "prompt_number": 73
    },
    {
     "cell_type": "code",
     "collapsed": false,
     "input": [
      "len(d)"
     ],
     "language": "python",
     "metadata": {},
     "outputs": [
      {
       "metadata": {},
       "output_type": "pyout",
       "prompt_number": 74,
       "text": [
        "2284"
       ]
      }
     ],
     "prompt_number": 74
    },
    {
     "cell_type": "code",
     "collapsed": false,
     "input": [
      "print (d[\"mu_tau\"] == d[\"letter_tau\"]).sum()\n",
      "print (d[\"mu_tau\"] > d[\"letter_tau\"]).sum()\n",
      "print (d[\"mu_tau\"] < d[\"letter_tau\"]).sum()"
     ],
     "language": "python",
     "metadata": {},
     "outputs": [
      {
       "output_type": "stream",
       "stream": "stdout",
       "text": [
        "197\n",
        "1338\n",
        "749\n"
       ]
      }
     ],
     "prompt_number": 75
    },
    {
     "cell_type": "code",
     "collapsed": false,
     "input": [
      "float((d[\"mu_tau\"] > d[\"letter_tau\"]).sum()) / len(d)"
     ],
     "language": "python",
     "metadata": {},
     "outputs": [
      {
       "metadata": {},
       "output_type": "pyout",
       "prompt_number": 77,
       "text": [
        "0.5858143607705779"
       ]
      }
     ],
     "prompt_number": 77
    },
    {
     "cell_type": "code",
     "collapsed": false,
     "input": [
      "pd.stats.api.ols(y=d[\"mu_tau\"], x=d[\"letter_tau\"])"
     ],
     "language": "python",
     "metadata": {},
     "outputs": [
      {
       "metadata": {},
       "output_type": "pyout",
       "prompt_number": 41,
       "text": [
        "\n",
        "-------------------------Summary of Regression Analysis-------------------------\n",
        "\n",
        "Formula: Y ~ <x> + <intercept>\n",
        "\n",
        "Number of Observations:         2284\n",
        "Number of Degrees of Freedom:   2\n",
        "\n",
        "R-squared:         0.2597\n",
        "Adj R-squared:     0.2594\n",
        "\n",
        "Rmse:              0.3294\n",
        "\n",
        "F-stat (1, 2282):   800.5254, p-value:     0.0000\n",
        "\n",
        "Degrees of Freedom: model 1, resid 2282\n",
        "\n",
        "-----------------------Summary of Estimated Coefficients------------------------\n",
        "      Variable       Coef    Std Err     t-stat    p-value    CI 2.5%   CI 97.5%\n",
        "--------------------------------------------------------------------------------\n",
        "             x     0.6487     0.0229      28.29     0.0000     0.6037     0.6936\n",
        "     intercept     0.1924     0.0094      20.40     0.0000     0.1739     0.2109\n",
        "---------------------------------End of Summary---------------------------------"
       ]
      }
     ],
     "prompt_number": 41
    },
    {
     "cell_type": "code",
     "collapsed": false,
     "input": [],
     "language": "python",
     "metadata": {},
     "outputs": []
    }
   ],
   "metadata": {}
  }
 ]
}