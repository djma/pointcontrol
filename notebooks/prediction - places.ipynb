{
 "metadata": {
  "name": "",
  "signature": "sha256:c389eff3ee37f8ddfedcf99efbfd3e359c4ff14674fc192fc1652d53c99062f8"
 },
 "nbformat": 3,
 "nbformat_minor": 0,
 "worksheets": [
  {
   "cells": [
    {
     "cell_type": "code",
     "collapsed": false,
     "input": [
      "import sqlite3\n",
      "import pandas as pd\n",
      "import numpy as np\n",
      "from scipy import stats\n",
      "\n",
      "conn = sqlite3.connect(\"../data2.db\")\n",
      "c = conn.cursor()\n",
      "c2 = conn.cursor()"
     ],
     "language": "python",
     "metadata": {},
     "outputs": [],
     "prompt_number": 4
    },
    {
     "cell_type": "code",
     "collapsed": false,
     "input": [
      "lettermap = {\n",
      "    \"U\" : 0, \n",
      "    \"E\" : 1,\n",
      "    \"D\" : 2,\n",
      "    \"C\" : 3,\n",
      "    \"B\" : 4,\n",
      "    \"A\" : 5}\n",
      "\n",
      "yearmap = {\n",
      "    2015 : 0.0,\n",
      "    2014 : -0.1,\n",
      "    2013 : -0.2,\n",
      "    2012 : -0.3,\n",
      "    2011 : -0.4,\n",
      "    2010 : -0.5,\n",
      "}\n",
      "\n",
      "def getLatestRating(fencerid, prior_to_date, weapon):\n",
      "    c = conn.cursor()\n",
      "    q = c.execute(\"\"\"\n",
      "      SELECT r.ts_mu, r.ts_sigma\n",
      "      FROM adjusted_ratings r , bouts b, events e, tournaments t\n",
      "      WHERE r.fencerid = %(fencerid)s\n",
      "        AND r.boutid = b.boutid\n",
      "        AND e.weapon = '%(weapon)s'\n",
      "        AND b.eventid = e.eventid\n",
      "        AND e.tournamentid = t.tournamentid\n",
      "        AND t.start_date < '%(prior_to_date)s'\n",
      "      ORDER BY t.start_date desc, b.boutid desc\n",
      "      LIMIT 1;\n",
      "    \"\"\" % {\n",
      "    \"fencerid\" : fencerid,\n",
      "    \"weapon\" : weapon,\n",
      "    \"prior_to_date\" : prior_to_date,\n",
      "    }).fetchone()\n",
      "    if q:\n",
      "        return q[0]\n",
      "    else:\n",
      "        return 25.0\n",
      "    \n",
      "def getLatestLetter(fencerid, prior_to_date, weapon):\n",
      "    c = conn.cursor()\n",
      "    q = c.execute(\"\"\"\n",
      "      SELECT p.rating_earned_letter, p.rating_earned_year, t.start_date \n",
      "      FROM promotions p, events e, tournaments t\n",
      "      WHERE p.fencerid = %(fencerid)s\n",
      "        AND e.weapon = '%(weapon)s'\n",
      "        AND p.eventid = e.eventid\n",
      "        AND e.tournamentid = t.tournamentid\n",
      "        AND t.start_date < '%(prior_to_date)s'\n",
      "      ORDER BY t.start_date desc, e.eventid desc\n",
      "      LIMIT 1; \n",
      "    \"\"\" % {\n",
      "    \"fencerid\" : fencerid,\n",
      "    \"weapon\" : weapon,\n",
      "    \"prior_to_date\" : prior_to_date,\n",
      "    }).fetchone()\n",
      "    if q:\n",
      "        return (q[0], q[1])\n",
      "    else:\n",
      "        return (\"U\", 2015)\n",
      "    \n",
      "def scoreEventPrediction(eventid):\n",
      "    c = conn.cursor()\n",
      "    results = c.execute(\"\"\"\n",
      "        SELECT *\n",
      "        FROM tournament_results\n",
      "        WHERE eventid = %(eventid)s;\n",
      "        \"\"\" % {\n",
      "        \"eventid\" : eventid\n",
      "        })\n",
      "    places = []\n",
      "    pre_mu = []\n",
      "    pre_le = []\n",
      "    for r in results:\n",
      "        fencerid, eventid, weapon, tournamentid, entries, place, start_date = r\n",
      "        ts_mu = getLatestRating(fencerid, start_date, weapon)\n",
      "        letter, year = getLatestLetter(fencerid, start_date, weapon)\n",
      "        places.append(-place)\n",
      "        #pre_mu.append(float(ts_mu) + np.random.randn() * 0.0001)\n",
      "        #pre_le.append(lettermap[letter] + yearmap[year] + np.random.randn() * 0.0001)\n",
      "        pre_mu.append(float(ts_mu))\n",
      "        pre_le.append(lettermap[letter] + yearmap[year])\n",
      "    if len(places) > 0:\n",
      "        letter_tau = stats.kendalltau(places,pre_le)[0]\n",
      "        mu_tau = stats.kendalltau(places,pre_mu)[0]\n",
      "        if np.isnan(letter_tau):\n",
      "            letter_tau = 0.0\n",
      "        if np.isnan(mu_tau):\n",
      "            mu_tau = 0.0\n",
      "        return (letter_tau, mu_tau, len(places))\n",
      "    else:\n",
      "        return None"
     ],
     "language": "python",
     "metadata": {},
     "outputs": [],
     "prompt_number": 61
    },
    {
     "cell_type": "code",
     "collapsed": false,
     "input": [
      "np.random.seed(0)\n",
      "\n",
      "\n",
      "events = c.execute(\"\"\"\n",
      "SELECT e.*, t.start_date\n",
      "FROM events e, tournaments t\n",
      "WHERE weapon = 'Epee'\n",
      "  AND e.tournamentid = t.tournamentid\n",
      "  AND t.start_date > '2014-06-20'\n",
      "ORDER BY t.start_date ASC\n",
      "\"\"\")\n",
      "\n",
      "collected_taus = []\n",
      "\n",
      "for event in events:\n",
      "    eventid, tournamentid, weapon, start_date = event\n",
      "    taus = scoreEventPrediction(eventid)\n",
      "    if taus:\n",
      "        collected_taus += [{\"eventid\" : eventid, \n",
      "                            \"start_date\" : start_date, \n",
      "                            \"letter_tau\" : taus[0], \n",
      "                            \"mu_tau\" : taus[1], \n",
      "                            \"num_fencers\" : taus[2],\n",
      "                            }]\n",
      "        print taus, start_date\n",
      "d = pd.DataFrame(collected_taus)"
     ],
     "language": "python",
     "metadata": {},
     "outputs": [
      {
       "output_type": "stream",
       "stream": "stdout",
       "text": [
        "(0.5965587590013044, 0.68313005106397329, 7) 2014-06-21\n",
        "(0.64923283742566873, 0.66964392481578239, 34)"
       ]
      },
      {
       "output_type": "stream",
       "stream": "stdout",
       "text": [
        " 2014-06-21\n",
        "(0.48112522432468813, 0.11009637651263604, 11)"
       ]
      },
      {
       "output_type": "stream",
       "stream": "stdout",
       "text": [
        " 2014-06-21\n",
        "(0.0, 0.51851851851851849, 8)"
       ]
      },
      {
       "output_type": "stream",
       "stream": "stdout",
       "text": [
        " 2014-06-21\n",
        "(-0.057172033992929305, 0.74449040206059136, 14)"
       ]
      },
      {
       "output_type": "stream",
       "stream": "stdout",
       "text": [
        " 2014-06-21\n",
        "(0.48435478159183643, 0.5683131380811447, 40)"
       ]
      },
      {
       "output_type": "stream",
       "stream": "stdout",
       "text": [
        " 2014-06-21\n",
        "(0.66666666666666663, 0.52704627669472992, 5)"
       ]
      },
      {
       "output_type": "stream",
       "stream": "stdout",
       "text": [
        " 2014-06-21\n",
        "(0.0, 0.31622776601683794, 5)"
       ]
      },
      {
       "output_type": "stream",
       "stream": "stdout",
       "text": [
        " 2014-06-21\n",
        "(0.70429521227376379, 0.47892074434615939, 9)"
       ]
      },
      {
       "output_type": "stream",
       "stream": "stdout",
       "text": [
        " 2014-06-21\n",
        "(0.49332357989383124, 0.56296296296296289, 17)"
       ]
      },
      {
       "output_type": "stream",
       "stream": "stdout",
       "text": [
        " 2014-06-22\n",
        "(0.0, 0.29359033736702944, 11)"
       ]
      },
      {
       "output_type": "stream",
       "stream": "stdout",
       "text": [
        " 2014-06-22\n",
        "(0.0, 0.0, 6)"
       ]
      },
      {
       "output_type": "stream",
       "stream": "stdout",
       "text": [
        " 2014-06-22\n",
        "(0.0, 0.4879500364742666, 7)"
       ]
      },
      {
       "output_type": "stream",
       "stream": "stdout",
       "text": [
        " 2014-06-22\n",
        "(0.0, 0.6461538461538463, 12)"
       ]
      },
      {
       "output_type": "stream",
       "stream": "stdout",
       "text": [
        " 2014-06-22\n",
        "(0.35176323534072423, 0.5393598899705937, 10)"
       ]
      },
      {
       "output_type": "stream",
       "stream": "stdout",
       "text": [
        " 2014-06-22\n",
        "(0.0, 0.32258735880781836, 13)"
       ]
      },
      {
       "output_type": "stream",
       "stream": "stdout",
       "text": [
        " 2014-06-24\n",
        "(0.0, 0.66666666666666663, 4)"
       ]
      },
      {
       "output_type": "stream",
       "stream": "stdout",
       "text": [
        " 2014-06-26\n",
        "(0.59632418783568186, 0.4181818181818181, 11)"
       ]
      },
      {
       "output_type": "stream",
       "stream": "stdout",
       "text": [
        " 2014-06-27\n",
        "(0.94868329805051377, 0.79999999999999982, 5)"
       ]
      },
      {
       "output_type": "stream",
       "stream": "stdout",
       "text": [
        " 2014-06-28\n",
        "(0.73786478737262184, 0.31622776601683794, 5)"
       ]
      },
      {
       "output_type": "stream",
       "stream": "stdout",
       "text": [
        " 2014-07-05\n",
        "(-0.11952286093343939, 0.17142857142857146, 9)"
       ]
      },
      {
       "output_type": "stream",
       "stream": "stdout",
       "text": [
        " 2014-07-11\n",
        "(0.70710678118654757, 0.66666666666666663, 4)"
       ]
      },
      {
       "output_type": "stream",
       "stream": "stdout",
       "text": [
        " 2014-07-11\n",
        "(0.68094430907178094, 0.50383147365577885, 12)"
       ]
      },
      {
       "output_type": "stream",
       "stream": "stdout",
       "text": [
        " 2014-07-11\n",
        "(0.69282032302755103, 0.58554004376911994, 7)"
       ]
      },
      {
       "output_type": "stream",
       "stream": "stdout",
       "text": [
        " 2014-07-11\n",
        "(0.51867930303402954, 0.50421656853414476, 35)"
       ]
      },
      {
       "output_type": "stream",
       "stream": "stdout",
       "text": [
        " 2014-07-11\n",
        "(0.20816659994661332, 0.32062002869004108, 12)"
       ]
      },
      {
       "output_type": "stream",
       "stream": "stdout",
       "text": [
        " 2014-07-11\n",
        "(0.61584028713560068, 0.61828402233531166, 8)"
       ]
      },
      {
       "output_type": "stream",
       "stream": "stdout",
       "text": [
        " 2014-07-12\n",
        "(0.0, 0.33333333333333331, 4)"
       ]
      },
      {
       "output_type": "stream",
       "stream": "stdout",
       "text": [
        " 2014-07-12\n",
        "(0.44513108567679366, 0.56711693822493203, 36)"
       ]
      },
      {
       "output_type": "stream",
       "stream": "stdout",
       "text": [
        " 2014-07-13\n",
        "(0.52181658244086782, 0.64089375932740278, 14)"
       ]
      },
      {
       "output_type": "stream",
       "stream": "stdout",
       "text": [
        " 2014-07-18\n",
        "(0.47042364150740129, 0.46154379560908243, 21)"
       ]
      },
      {
       "output_type": "stream",
       "stream": "stdout",
       "text": [
        " 2014-07-19\n",
        "(0.69580347600823722, 0.53091260108665272, 24)"
       ]
      },
      {
       "output_type": "stream",
       "stream": "stdout",
       "text": [
        " 2014-07-19\n",
        "(0.62994078834871203, 0.52704627669472992, 5)"
       ]
      },
      {
       "output_type": "stream",
       "stream": "stdout",
       "text": [
        " 2014-07-19\n",
        "(0.36514837167011077, -0.15811388300841897, 7)"
       ]
      },
      {
       "output_type": "stream",
       "stream": "stdout",
       "text": [
        " 2014-07-19\n",
        "(0.49853141671309081, 0.37729601826121056, 25)"
       ]
      },
      {
       "output_type": "stream",
       "stream": "stdout",
       "text": [
        " 2014-07-19\n",
        "(0.68432697149327637, 0.67796690649750235, 26)"
       ]
      },
      {
       "output_type": "stream",
       "stream": "stdout",
       "text": [
        " 2014-07-19\n",
        "(0.0, 0.0, 6)"
       ]
      },
      {
       "output_type": "stream",
       "stream": "stdout",
       "text": [
        " 2014-07-19\n",
        "(0.47140452079103184, 0.084515425472851652, 9)"
       ]
      },
      {
       "output_type": "stream",
       "stream": "stdout",
       "text": [
        " 2014-07-19\n",
        "(0.64623032764149679, 0.7045454545454547, 10)"
       ]
      },
      {
       "output_type": "stream",
       "stream": "stdout",
       "text": [
        " 2014-07-19\n",
        "(0.0, 0.0, 6)"
       ]
      },
      {
       "output_type": "stream",
       "stream": "stdout",
       "text": [
        " 2014-07-19\n",
        "(0.44114940169152961, 0.71055971240642712, 11)"
       ]
      },
      {
       "output_type": "stream",
       "stream": "stdout",
       "text": [
        " 2014-07-19\n",
        "(0.59761430466719689, 0.13801311186847087, 6)"
       ]
      },
      {
       "output_type": "stream",
       "stream": "stdout",
       "text": [
        " 2014-07-19\n",
        "(0.73929608713521633, 0.77864864110438547, 12)"
       ]
      },
      {
       "output_type": "stream",
       "stream": "stdout",
       "text": [
        " 2014-07-19\n",
        "(0.0, 0.0, 3)"
       ]
      },
      {
       "output_type": "stream",
       "stream": "stdout",
       "text": [
        " 2014-07-19\n",
        "(0.46656947481584332, 0.42592592592592587, 11)"
       ]
      },
      {
       "output_type": "stream",
       "stream": "stdout",
       "text": [
        " 2014-07-19\n",
        "(0.32567243431141635, 0.51155684762993359, 26)"
       ]
      },
      {
       "output_type": "stream",
       "stream": "stdout",
       "text": [
        " 2014-07-20\n",
        "(0.0, 0.0, 7)"
       ]
      },
      {
       "output_type": "stream",
       "stream": "stdout",
       "text": [
        " 2014-07-20\n",
        "(0.34641016151377552, 0.29277002188455997, 7)"
       ]
      },
      {
       "output_type": "stream",
       "stream": "stdout",
       "text": [
        " 2014-07-21\n",
        "(0.57121632591687466, 0.50396825396825395, 23)"
       ]
      },
      {
       "output_type": "stream",
       "stream": "stdout",
       "text": [
        " 2014-07-25\n",
        "(0.11322770341445962, 0.53436671448340178, 12)"
       ]
      },
      {
       "output_type": "stream",
       "stream": "stdout",
       "text": [
        " 2014-07-26\n",
        "(0.5309064691552231, 0.68257950963050329, 21)"
       ]
      },
      {
       "output_type": "stream",
       "stream": "stdout",
       "text": [
        " 2014-07-26\n",
        "(0.41972726588697135, 0.58957372456766788, 33)"
       ]
      },
      {
       "output_type": "stream",
       "stream": "stdout",
       "text": [
        " 2014-07-26\n",
        "(0.37643317667963772, 0.51005730789937298, 69)"
       ]
      },
      {
       "output_type": "stream",
       "stream": "stdout",
       "text": [
        " 2014-07-26\n",
        "(0.0, 0.0, 5)"
       ]
      },
      {
       "output_type": "stream",
       "stream": "stdout",
       "text": [
        " 2014-07-26\n",
        "(-0.057735026918962581, 0.39036002917941331, 7)"
       ]
      },
      {
       "output_type": "stream",
       "stream": "stdout",
       "text": [
        " 2014-07-26\n",
        "(0.091287092917527693, 0.15000000000000002, 7)"
       ]
      },
      {
       "output_type": "stream",
       "stream": "stdout",
       "text": [
        " 2014-07-26\n",
        "(0.0, -0.31622776601683794, 5)"
       ]
      },
      {
       "output_type": "stream",
       "stream": "stdout",
       "text": [
        " 2014-07-27\n",
        "(0.0, 0.54772255750516619, 4)"
       ]
      },
      {
       "output_type": "stream",
       "stream": "stdout",
       "text": [
        " 2014-07-27\n",
        "(0.26368131314599147, 0.5107770482908216, 31)"
       ]
      },
      {
       "output_type": "stream",
       "stream": "stdout",
       "text": [
        " 2014-07-27\n",
        "(0.49487466332489943, 0.45933540141057155, 15)"
       ]
      },
      {
       "output_type": "stream",
       "stream": "stdout",
       "text": [
        " 2014-07-27\n",
        "(0.0, 0.69006555934235436, 6)"
       ]
      },
      {
       "output_type": "stream",
       "stream": "stdout",
       "text": [
        " 2014-07-27\n",
        "(0.38916841662363977, 0.35560427412652135, 31)"
       ]
      },
      {
       "output_type": "stream",
       "stream": "stdout",
       "text": [
        " 2014-08-02\n",
        "(0.54948100098307207, 0.55534821054400452, 66)"
       ]
      },
      {
       "output_type": "stream",
       "stream": "stdout",
       "text": [
        " 2014-08-02\n",
        "(-0.038110796698335288, 0.66057825907581624, 11)"
       ]
      },
      {
       "output_type": "stream",
       "stream": "stdout",
       "text": [
        " 2014-08-02\n",
        "(0.57975090436420285, 0.87831006565367986, 7)"
       ]
      },
      {
       "output_type": "stream",
       "stream": "stdout",
       "text": [
        " 2014-08-02\n",
        "(0.0, 0.99999999999999989, 3)"
       ]
      },
      {
       "output_type": "stream",
       "stream": "stdout",
       "text": [
        " 2014-08-02\n",
        "(0.0, 0.21428571428571433, 6)"
       ]
      },
      {
       "output_type": "stream",
       "stream": "stdout",
       "text": [
        " 2014-08-02\n",
        "(0.0, 0.21538461538461542, 12)"
       ]
      },
      {
       "output_type": "stream",
       "stream": "stdout",
       "text": [
        " 2014-08-03\n",
        "(0.49820416604494017, 0.56285714285714306, 27)"
       ]
      },
      {
       "output_type": "stream",
       "stream": "stdout",
       "text": [
        " 2014-08-03\n",
        "(0.0, 0.13483997249264842, 10)"
       ]
      },
      {
       "output_type": "stream",
       "stream": "stdout",
       "text": [
        " 2014-08-03\n",
        "(0.49586878742439155, 0.4537815126050419, 16)"
       ]
      },
      {
       "output_type": "stream",
       "stream": "stdout",
       "text": [
        " 2014-08-03\n",
        "(0.0, 0.26967994498529685, 10)"
       ]
      },
      {
       "output_type": "stream",
       "stream": "stdout",
       "text": [
        " 2014-08-03\n",
        "(0.0, 0.34090909090909094, 10)"
       ]
      },
      {
       "output_type": "stream",
       "stream": "stdout",
       "text": [
        " 2014-08-03\n",
        "(0.0, 0.076980035891950085, 8)"
       ]
      },
      {
       "output_type": "stream",
       "stream": "stdout",
       "text": [
        " 2014-08-03\n",
        "(0.33693027851265672, 0.46666666666666679, 16)"
       ]
      },
      {
       "output_type": "stream",
       "stream": "stdout",
       "text": [
        " 2014-08-03\n",
        "(0.0, 0.45000000000000007, 7)"
       ]
      },
      {
       "output_type": "stream",
       "stream": "stdout",
       "text": [
        " 2014-08-03\n",
        "(0.46939365212822137, 0.48772384283818787, 35)"
       ]
      },
      {
       "output_type": "stream",
       "stream": "stdout",
       "text": [
        " 2014-08-03\n",
        "(0.0, 0.022727272727272731, 10)"
       ]
      },
      {
       "output_type": "stream",
       "stream": "stdout",
       "text": [
        " 2014-08-03\n",
        "(0.0, 0.25000000000000006, 7)"
       ]
      },
      {
       "output_type": "stream",
       "stream": "stdout",
       "text": [
        " 2014-08-05\n",
        "(0.38448621279526785, 0.53436671448340178, 12)"
       ]
      },
      {
       "output_type": "stream",
       "stream": "stdout",
       "text": [
        " 2014-08-08\n",
        "(0.66666666666666663, 0.73786478737262184, 5)"
       ]
      },
      {
       "output_type": "stream",
       "stream": "stdout",
       "text": [
        " 2014-08-09\n",
        "(0.67606598597422751, 0.74347826086956503, 22)"
       ]
      },
      {
       "output_type": "stream",
       "stream": "stdout",
       "text": [
        " 2014-08-09\n",
        "(0.57656384934042437, 0.65386863885321933, 42)"
       ]
      },
      {
       "output_type": "stream",
       "stream": "stdout",
       "text": [
        " 2014-08-09\n",
        "(0.62659693276709216, 0.66109365291702116, 16)"
       ]
      },
      {
       "output_type": "stream",
       "stream": "stdout",
       "text": [
        " 2014-08-09\n",
        "(0.0, 0.21428571428571433, 6)"
       ]
      },
      {
       "output_type": "stream",
       "stream": "stdout",
       "text": [
        " 2014-08-09\n",
        "(0.566630597579863, 0.64423076923076927, 15)"
       ]
      },
      {
       "output_type": "stream",
       "stream": "stdout",
       "text": [
        " 2014-08-15\n",
        "(0.64623032764149679, 0.44946657497549475, 10)"
       ]
      },
      {
       "output_type": "stream",
       "stream": "stdout",
       "text": [
        " 2014-08-15\n",
        "(0.39227508825502494, 0.65147702521929918, 35)"
       ]
      },
      {
       "output_type": "stream",
       "stream": "stdout",
       "text": [
        " 2014-08-16\n",
        "(0.22222222222222227, 0.4728054288446501, 8)"
       ]
      },
      {
       "output_type": "stream",
       "stream": "stdout",
       "text": [
        " 2014-08-16\n",
        "(0.0, 0.41403933560541262, 6)"
       ]
      },
      {
       "output_type": "stream",
       "stream": "stdout",
       "text": [
        " 2014-08-16\n",
        "(0.56011203361120387, 0.69102331908064241, 8)"
       ]
      },
      {
       "output_type": "stream",
       "stream": "stdout",
       "text": [
        " 2014-08-16\n",
        "(0.37172407363053778, 0.23280749151928679, 20)"
       ]
      },
      {
       "output_type": "stream",
       "stream": "stdout",
       "text": [
        " 2014-08-16\n",
        "(0.43580096445528327, 0.32081182634096883, 11)"
       ]
      },
      {
       "output_type": "stream",
       "stream": "stdout",
       "text": [
        " 2014-08-16\n",
        "(0.74477496916166197, 0.77349246815376205, 14)"
       ]
      },
      {
       "output_type": "stream",
       "stream": "stdout",
       "text": [
        " 2014-08-16\n",
        "(0.36592647244984111, 0.40960416970387553, 53)"
       ]
      },
      {
       "output_type": "stream",
       "stream": "stdout",
       "text": [
        " 2014-08-17\n",
        "(0.24529372370546335, 0.40737325786900258, 31)"
       ]
      },
      {
       "output_type": "stream",
       "stream": "stdout",
       "text": [
        " 2014-08-17\n",
        "(0.21428571428571433, 0.6428571428571429, 8)"
       ]
      },
      {
       "output_type": "stream",
       "stream": "stdout",
       "text": [
        " 2014-08-21\n",
        "(0.43401263465640783, 0.51563356995846399, 62)"
       ]
      },
      {
       "output_type": "stream",
       "stream": "stdout",
       "text": [
        " 2014-08-23\n",
        "(0.41286141192238524, 0.7191465199607916, 10)"
       ]
      },
      {
       "output_type": "stream",
       "stream": "stdout",
       "text": [
        " 2014-08-23\n",
        "(0.28995215051709988, 0.34300910954987257, 20)"
       ]
      },
      {
       "output_type": "stream",
       "stream": "stdout",
       "text": [
        " 2014-08-23\n",
        "(0.0, 0.0, 12)"
       ]
      },
      {
       "output_type": "stream",
       "stream": "stdout",
       "text": [
        " 2014-08-23\n",
        "(0.4660273245009004, 0.49643417131265938, 27)"
       ]
      },
      {
       "output_type": "stream",
       "stream": "stdout",
       "text": [
        " 2014-08-23\n",
        "(0.21998453288127839, 0.085243801159209556, 22)"
       ]
      },
      {
       "output_type": "stream",
       "stream": "stdout",
       "text": [
        " 2014-08-23\n",
        "(0.0, 0.27602622373694174, 6)"
       ]
      },
      {
       "output_type": "stream",
       "stream": "stdout",
       "text": [
        " 2014-08-23\n",
        "(0.63463148778456258, 0.6633287803847886, 43)"
       ]
      },
      {
       "output_type": "stream",
       "stream": "stdout",
       "text": [
        " 2014-08-23\n",
        "(0.64514949163252844, 0.61795094949439378, 36)"
       ]
      },
      {
       "output_type": "stream",
       "stream": "stdout",
       "text": [
        " 2014-08-24\n",
        "(0.0, 0.70429521227376379, 9)"
       ]
      },
      {
       "output_type": "stream",
       "stream": "stdout",
       "text": [
        " 2014-08-24\n",
        "(0.0, -0.20935894733965593, 10)"
       ]
      },
      {
       "output_type": "stream",
       "stream": "stdout",
       "text": [
        " 2014-08-24\n",
        "(0.53591633381415127, 0.55530101324553072, 30)"
       ]
      },
      {
       "output_type": "stream",
       "stream": "stdout",
       "text": [
        " 2014-08-24\n",
        "(0.80829037686547611, 0.9759000729485332, 7)"
       ]
      },
      {
       "output_type": "stream",
       "stream": "stdout",
       "text": [
        " 2014-08-24\n",
        "(0.40332935205532638, 0.48094048443648746, 19)"
       ]
      },
      {
       "output_type": "stream",
       "stream": "stdout",
       "text": [
        " 2014-08-29\n",
        "(0.34914862437758781, 0.36623351038235719, 9)"
       ]
      },
      {
       "output_type": "stream",
       "stream": "stdout",
       "text": [
        " 2014-08-30\n",
        "(0.63305416494765732, 0.7191465199607916, 10)"
       ]
      },
      {
       "output_type": "stream",
       "stream": "stdout",
       "text": [
        " 2014-08-30\n",
        "(0.51829565432902247, 0.62675637839612985, 41)"
       ]
      },
      {
       "output_type": "stream",
       "stream": "stdout",
       "text": [
        " 2014-08-30\n",
        "(0.56724468232138681, 0.53207304499193386, 39)"
       ]
      },
      {
       "output_type": "stream",
       "stream": "stdout",
       "text": [
        " 2014-08-30\n",
        "(0.50674096772971755, 0.62919987304874625, 41)"
       ]
      },
      {
       "output_type": "stream",
       "stream": "stdout",
       "text": [
        " 2014-08-30\n",
        "(0.0, 0.15841632688146245, 29)"
       ]
      },
      {
       "output_type": "stream",
       "stream": "stdout",
       "text": [
        " 2014-08-30\n",
        "(0.0, 0.32636268941473195, 16)"
       ]
      },
      {
       "output_type": "stream",
       "stream": "stdout",
       "text": [
        " 2014-08-30\n",
        "(0.50935972664606688, 0.50596070870657461, 28)"
       ]
      },
      {
       "output_type": "stream",
       "stream": "stdout",
       "text": [
        " 2014-08-30\n",
        "(0.21578506181998852, 0.13835159662613716, 43)"
       ]
      },
      {
       "output_type": "stream",
       "stream": "stdout",
       "text": [
        " 2014-08-30\n",
        "(0.28795027435577714, 0.39191919191919194, 32)"
       ]
      },
      {
       "output_type": "stream",
       "stream": "stdout",
       "text": [
        " 2014-08-30\n",
        "(0.46008453392943871, 0.59901669966798754, 53)"
       ]
      },
      {
       "output_type": "stream",
       "stream": "stdout",
       "text": [
        " 2014-08-30\n",
        "(0.34644975803462413, 0.4893686251143991, 20)"
       ]
      },
      {
       "output_type": "stream",
       "stream": "stdout",
       "text": [
        " 2014-08-30\n",
        "(0.38243396818430486, 0.33676586435747335, 25)"
       ]
      },
      {
       "output_type": "stream",
       "stream": "stdout",
       "text": [
        " 2014-08-30\n",
        "(0.0, 0.0, 4)"
       ]
      },
      {
       "output_type": "stream",
       "stream": "stdout",
       "text": [
        " 2014-08-30\n",
        "(0.4692170876640771, 0.53905596880042139, 65)"
       ]
      },
      {
       "output_type": "stream",
       "stream": "stdout",
       "text": [
        " 2014-08-30\n",
        "(0.46240219449488346, 0.3980826794197786, 21)"
       ]
      },
      {
       "output_type": "stream",
       "stream": "stdout",
       "text": [
        " 2014-08-30\n",
        "(0.43094580368566732, 0.42257712736425829, 9)"
       ]
      },
      {
       "output_type": "stream",
       "stream": "stdout",
       "text": [
        " 2014-08-31\n",
        "(-0.25197631533948484, -0.31622776601683794, 5)"
       ]
      },
      {
       "output_type": "stream",
       "stream": "stdout",
       "text": [
        " 2014-08-31\n",
        "(0.57975090436420285, 0.78072005835882663, 7)"
       ]
      },
      {
       "output_type": "stream",
       "stream": "stdout",
       "text": [
        " 2014-08-31\n",
        "(0.54960358870330905, 0.80169490019822709, 16)"
       ]
      },
      {
       "output_type": "stream",
       "stream": "stdout",
       "text": [
        " 2014-08-31\n",
        "(0.59226195705466844, 0.70273521793041893, 42)"
       ]
      },
      {
       "output_type": "stream",
       "stream": "stdout",
       "text": [
        " 2014-08-31\n",
        "(0.6154098338951387, 0.74343714173273867, 18)"
       ]
      },
      {
       "output_type": "stream",
       "stream": "stdout",
       "text": [
        " 2014-09-05\n",
        "(0.49270540964115189, 0.29481109247603549, 32)"
       ]
      },
      {
       "output_type": "stream",
       "stream": "stdout",
       "text": [
        " 2014-09-06\n",
        "(0.57735026918962584, 0.27602622373694174, 6)"
       ]
      },
      {
       "output_type": "stream",
       "stream": "stdout",
       "text": [
        " 2014-09-06\n",
        "(0.17928429140015908, 0.084515425472851652, 9)"
       ]
      },
      {
       "output_type": "stream",
       "stream": "stdout",
       "text": [
        " 2014-09-06\n",
        "(0.40242181829276696, 0.6259724369662707, 12)"
       ]
      },
      {
       "output_type": "stream",
       "stream": "stdout",
       "text": [
        " 2014-09-06\n",
        "(0.16681153124565976, 0.48354568049024377, 22)"
       ]
      },
      {
       "output_type": "stream",
       "stream": "stdout",
       "text": [
        " 2014-09-06\n",
        "(0.16359320900932323, 0.46494808069731391, 28)"
       ]
      },
      {
       "output_type": "stream",
       "stream": "stdout",
       "text": [
        " 2014-09-06\n",
        "(0.25671801540513511, 0.44038550605054416, 11)"
       ]
      },
      {
       "output_type": "stream",
       "stream": "stdout",
       "text": [
        " 2014-09-06\n",
        "(0.67392201938610208, 0.57040932265066935, 34)"
       ]
      },
      {
       "output_type": "stream",
       "stream": "stdout",
       "text": [
        " 2014-09-06\n",
        "(0.58129435479454195, 0.57555446306895441, 27)"
       ]
      },
      {
       "output_type": "stream",
       "stream": "stdout",
       "text": [
        " 2014-09-06\n",
        "(0.0, 0.55205244747388349, 6)"
       ]
      },
      {
       "output_type": "stream",
       "stream": "stdout",
       "text": [
        " 2014-09-06\n",
        "(0.0, 0.91287092917527701, 4)"
       ]
      },
      {
       "output_type": "stream",
       "stream": "stdout",
       "text": [
        " 2014-09-06\n",
        "(0.099136319419321953, 0.3146266024828463, 10)"
       ]
      },
      {
       "output_type": "stream",
       "stream": "stdout",
       "text": [
        " 2014-09-06\n",
        "(0.44243287572033047, 0.53770780816583308, 18)"
       ]
      },
      {
       "output_type": "stream",
       "stream": "stdout",
       "text": [
        " 2014-09-06\n",
        "(0.60631563844389935, 0.59406264126751673, 18)"
       ]
      },
      {
       "output_type": "stream",
       "stream": "stdout",
       "text": [
        " 2014-09-06\n",
        "(0.62776482057434446, 0.64795159529186264, 9)"
       ]
      },
      {
       "output_type": "stream",
       "stream": "stdout",
       "text": [
        " 2014-09-06\n",
        "(0.39508068959389731, 0.58513980534600174, 19)"
       ]
      },
      {
       "output_type": "stream",
       "stream": "stdout",
       "text": [
        " 2014-09-06\n",
        "(0.30151134457776368, 0.3146266024828463, 10)"
       ]
      },
      {
       "output_type": "stream",
       "stream": "stdout",
       "text": [
        " 2014-09-06\n",
        "(0.0, 0.35675303400633795, 10)"
       ]
      },
      {
       "output_type": "stream",
       "stream": "stdout",
       "text": [
        " 2014-09-06\n",
        "(0.29013858599516551, 0.34810540256084233, 40)"
       ]
      },
      {
       "output_type": "stream",
       "stream": "stdout",
       "text": [
        " 2014-09-07\n",
        "(0.15690365030059431, 0.47142857142857159, 27)"
       ]
      },
      {
       "output_type": "stream",
       "stream": "stdout",
       "text": [
        " 2014-09-07\n",
        "(0.593617731912778, 0.48088815842001498, 29)"
       ]
      },
      {
       "output_type": "stream",
       "stream": "stdout",
       "text": [
        " 2014-09-07\n",
        "(0.19026059766179754, 0.38277950117547632, 15)"
       ]
      },
      {
       "output_type": "stream",
       "stream": "stdout",
       "text": [
        " 2014-09-07\n",
        "(0.46709936649691375, 0.44536230009687433, 17)"
       ]
      },
      {
       "output_type": "stream",
       "stream": "stdout",
       "text": [
        " 2014-09-07\n",
        "(0.0, 0.15430334996209191, 9)"
       ]
      },
      {
       "output_type": "stream",
       "stream": "stdout",
       "text": [
        " 2014-09-07\n",
        "(0.0, 0.40368671387966548, 11)"
       ]
      },
      {
       "output_type": "stream",
       "stream": "stdout",
       "text": [
        " 2014-09-13\n",
        "(0.48744673563226054, 0.74406591456203119, 20)"
       ]
      },
      {
       "output_type": "stream",
       "stream": "stdout",
       "text": [
        " 2014-09-13\n",
        "(0.43844546249682159, 0.51827863022507847, 47)"
       ]
      },
      {
       "output_type": "stream",
       "stream": "stdout",
       "text": [
        " 2014-09-13\n",
        "(0.2195555139567319, 0.55082263275524368, 18)"
       ]
      },
      {
       "output_type": "stream",
       "stream": "stdout",
       "text": [
        " 2014-09-13\n",
        "(0.25503068522533534, 0.37942718367954037, 35)"
       ]
      },
      {
       "output_type": "stream",
       "stream": "stdout",
       "text": [
        " 2014-09-13\n",
        "(0.38975891719931066, 0.57380848346347968, 47)"
       ]
      },
      {
       "output_type": "stream",
       "stream": "stdout",
       "text": [
        " 2014-09-13\n",
        "(0.0, 0.20286020648339484, 11)"
       ]
      },
      {
       "output_type": "stream",
       "stream": "stdout",
       "text": [
        " 2014-09-13\n",
        "(0.0, -0.091465912076004713, 14)"
       ]
      },
      {
       "output_type": "stream",
       "stream": "stdout",
       "text": [
        " 2014-09-13\n",
        "(0.0, -0.88888888888888873, 5)"
       ]
      },
      {
       "output_type": "stream",
       "stream": "stdout",
       "text": [
        " 2014-09-13\n",
        "(0.0, 0.45910450047444479, 20)"
       ]
      },
      {
       "output_type": "stream",
       "stream": "stdout",
       "text": [
        " 2014-09-13\n",
        "(0.44206436925858722, 0.32751403973609472, 22)"
       ]
      },
      {
       "output_type": "stream",
       "stream": "stdout",
       "text": [
        " 2014-09-13\n",
        "(0.44781107551989935, 0.54545454545454519, 24)"
       ]
      },
      {
       "output_type": "stream",
       "stream": "stdout",
       "text": [
        " 2014-09-13\n",
        "(0.0, 0.097590007294853329, 7)"
       ]
      },
      {
       "output_type": "stream",
       "stream": "stdout",
       "text": [
        " 2014-09-13\n",
        "(0.68730176846144719, 0.63158617693953589, 15)"
       ]
      },
      {
       "output_type": "stream",
       "stream": "stdout",
       "text": [
        " 2014-09-13\n",
        "(0.71982720777996456, 0.71587203247824349, 17)"
       ]
      },
      {
       "output_type": "stream",
       "stream": "stdout",
       "text": [
        " 2014-09-13\n",
        "(0.43224589997674834, 0.54690053217547951, 36)"
       ]
      },
      {
       "output_type": "stream",
       "stream": "stdout",
       "text": [
        " 2014-09-13\n",
        "(0.49131010126336022, 0.43384050009413316, 22)"
       ]
      },
      {
       "output_type": "stream",
       "stream": "stdout",
       "text": [
        " 2014-09-13\n",
        "(0.63305416494765732, 0.5393598899705937, 10)"
       ]
      },
      {
       "output_type": "stream",
       "stream": "stdout",
       "text": [
        " 2014-09-13\n",
        "(0.50239665843076875, 0.55249462010982997, 14)"
       ]
      },
      {
       "output_type": "stream",
       "stream": "stdout",
       "text": [
        " 2014-09-13\n",
        "(0.56498872499531672, 0.61376520491448339, 20)"
       ]
      },
      {
       "output_type": "stream",
       "stream": "stdout",
       "text": [
        " 2014-09-13\n",
        "(0.5078651054337191, 0.49164817826532753, 21)"
       ]
      },
      {
       "output_type": "stream",
       "stream": "stdout",
       "text": [
        " 2014-09-13\n",
        "(0.58779765662186667, 0.55697712072560113, 42)"
       ]
      },
      {
       "output_type": "stream",
       "stream": "stdout",
       "text": [
        " 2014-09-13\n",
        "(0.39945935292938772, 0.55415886650731827, 46)"
       ]
      },
      {
       "output_type": "stream",
       "stream": "stdout",
       "text": [
        " 2014-09-13\n",
        "(0.3902490152558909, 0.31077056881632587, 49)"
       ]
      },
      {
       "output_type": "stream",
       "stream": "stdout",
       "text": [
        " 2014-09-13\n",
        "(0.54375045340446815, 0.53214853062595091, 88)"
       ]
      },
      {
       "output_type": "stream",
       "stream": "stdout",
       "text": [
        " 2014-09-13\n",
        "(0.4954336943068624, 0.12222222222222222, 14)"
       ]
      },
      {
       "output_type": "stream",
       "stream": "stdout",
       "text": [
        " 2014-09-13\n",
        "(0.0, -1.0, 2)"
       ]
      },
      {
       "output_type": "stream",
       "stream": "stdout",
       "text": [
        " 2014-09-13\n",
        "(0.0, -0.7745966692414834, 4)"
       ]
      },
      {
       "output_type": "stream",
       "stream": "stdout",
       "text": [
        " 2014-09-13\n",
        "(0.0, 0.0, 6)"
       ]
      },
      {
       "output_type": "stream",
       "stream": "stdout",
       "text": [
        " 2014-09-13\n",
        "(0.0, 0.55205244747388349, 6)"
       ]
      },
      {
       "output_type": "stream",
       "stream": "stdout",
       "text": [
        " 2014-09-13\n",
        "(0.53452248382484879, 0.69006555934235436, 6)"
       ]
      },
      {
       "output_type": "stream",
       "stream": "stdout",
       "text": [
        " 2014-09-13\n",
        "(0.59761430466719667, 0.39999999999999991, 5)"
       ]
      },
      {
       "output_type": "stream",
       "stream": "stdout",
       "text": [
        " 2014-09-13\n",
        "(0.58239115297018307, 0.75965050240669918, 15)"
       ]
      },
      {
       "output_type": "stream",
       "stream": "stdout",
       "text": [
        " 2014-09-13\n",
        "(0.0, 0.35714285714285721, 8)"
       ]
      },
      {
       "output_type": "stream",
       "stream": "stdout",
       "text": [
        " 2014-09-13\n",
        "(0.0, 0.33333333333333326, 3)"
       ]
      },
      {
       "output_type": "stream",
       "stream": "stdout",
       "text": [
        " 2014-09-13\n",
        "(0.0, 0.0, 4)"
       ]
      },
      {
       "output_type": "stream",
       "stream": "stdout",
       "text": [
        " 2014-09-13\n",
        "(0.51160023870173366, 0.36442602007907188, 22)"
       ]
      },
      {
       "output_type": "stream",
       "stream": "stdout",
       "text": [
        " 2014-09-14\n",
        "(0.66537522251720427, 0.6845676127738608, 25)"
       ]
      },
      {
       "output_type": "stream",
       "stream": "stdout",
       "text": [
        " 2014-09-14\n",
        "(0.29818599463082568, 0.45540878951999852, 33)"
       ]
      },
      {
       "output_type": "stream",
       "stream": "stdout",
       "text": [
        " 2014-09-14\n",
        "(0.66177493050572178, 0.50962127431836179, 21)"
       ]
      },
      {
       "output_type": "stream",
       "stream": "stdout",
       "text": [
        " 2014-09-14\n",
        "(-0.036563621206356541, 0.40451991747794525, 10)"
       ]
      },
      {
       "output_type": "stream",
       "stream": "stdout",
       "text": [
        " 2014-09-14\n",
        "(0.2195135276268613, 0.63158617693953589, 15)"
       ]
      },
      {
       "output_type": "stream",
       "stream": "stdout",
       "text": [
        " 2014-09-14\n",
        "(0.34426518632954822, 0.10519214026736191, 17)"
       ]
      },
      {
       "output_type": "stream",
       "stream": "stdout",
       "text": [
        " 2014-09-17\n",
        "(0.24670268484223795, 0.47847437646934537, 15)"
       ]
      },
      {
       "output_type": "stream",
       "stream": "stdout",
       "text": [
        " 2014-09-19\n",
        "(0.3851326049094253, 0.34390699009650166, 25)"
       ]
      },
      {
       "output_type": "stream",
       "stream": "stdout",
       "text": [
        " 2014-09-19\n",
        "(0.030772872744833181, 0.15909090909090912, 10)"
       ]
      },
      {
       "output_type": "stream",
       "stream": "stdout",
       "text": [
        " 2014-09-19\n",
        "(0.09338592095470355, -0.022733144649015789, 10)"
       ]
      },
      {
       "output_type": "stream",
       "stream": "stdout",
       "text": [
        " 2014-09-19\n",
        "(0.39058759237600976, 0.57407488758983527, 35)"
       ]
      },
      {
       "output_type": "stream",
       "stream": "stdout",
       "text": [
        " 2014-09-20\n",
        "(0.54953195625995066, 0.53616793417720043, 31)"
       ]
      },
      {
       "output_type": "stream",
       "stream": "stdout",
       "text": [
        " 2014-09-20\n",
        "(0.50917507721731547, 0.32732683535398854, 8)"
       ]
      },
      {
       "output_type": "stream",
       "stream": "stdout",
       "text": [
        " 2014-09-20\n",
        "(0.47358393380057934, 0.63158617693953589, 15)"
       ]
      },
      {
       "output_type": "stream",
       "stream": "stdout",
       "text": [
        " 2014-09-20\n",
        "(0.54129760388831605, 0.56490785011440547, 27)"
       ]
      },
      {
       "output_type": "stream",
       "stream": "stdout",
       "text": [
        " 2014-09-20\n",
        "(0.62355874898946739, 0.63598646546668669, 52)"
       ]
      },
      {
       "output_type": "stream",
       "stream": "stdout",
       "text": [
        " 2014-09-20\n",
        "(0.52774674233094099, 0.50440099587241372, 19)"
       ]
      },
      {
       "output_type": "stream",
       "stream": "stdout",
       "text": [
        " 2014-09-20\n",
        "(0.0, -0.33946736991660226, 9)"
       ]
      },
      {
       "output_type": "stream",
       "stream": "stdout",
       "text": [
        " 2014-09-20\n",
        "(0.56526686371919532, 0.29807692307692313, 15)"
       ]
      },
      {
       "output_type": "stream",
       "stream": "stdout",
       "text": [
        " 2014-09-20\n",
        "(0.51679160737244367, 0.58333333333333359, 26)"
       ]
      },
      {
       "output_type": "stream",
       "stream": "stdout",
       "text": [
        " 2014-09-20\n",
        "(0.21428571428571433, 0.13801311186847087, 6)"
       ]
      },
      {
       "output_type": "stream",
       "stream": "stdout",
       "text": [
        " 2014-09-20\n",
        "(0.63613206471565242, 0.61184210526315785, 18)"
       ]
      },
      {
       "output_type": "stream",
       "stream": "stdout",
       "text": [
        " 2014-09-20\n",
        "(0.46511544612439604, 0.67714562100817544, 27)"
       ]
      },
      {
       "output_type": "stream",
       "stream": "stdout",
       "text": [
        " 2014-09-20\n",
        "(0.30264191514301375, 0.74811340027676254, 12)"
       ]
      },
      {
       "output_type": "stream",
       "stream": "stdout",
       "text": [
        " 2014-09-20\n",
        "(0.55922023633562523, 0.54288625015980796, 32)"
       ]
      },
      {
       "output_type": "stream",
       "stream": "stdout",
       "text": [
        " 2014-09-20\n",
        "(0.41675802338190415, 0.44549783046109948, 33)"
       ]
      },
      {
       "output_type": "stream",
       "stream": "stdout",
       "text": [
        " 2014-09-20\n",
        "(0.34526960913883914, 0.39555215019049883, 36)"
       ]
      },
      {
       "output_type": "stream",
       "stream": "stdout",
       "text": [
        " 2014-09-20\n",
        "(0.40850625654440026, 0.48351684394070621, 41)"
       ]
      },
      {
       "output_type": "stream",
       "stream": "stdout",
       "text": [
        " 2014-09-20\n",
        "(0.32405164736020814, 0.54000220409512723, 27)"
       ]
      },
      {
       "output_type": "stream",
       "stream": "stdout",
       "text": [
        " 2014-09-20\n",
        "(0.7338721796528167, 0.66986412705708354, 15)"
       ]
      },
      {
       "output_type": "stream",
       "stream": "stdout",
       "text": [
        " 2014-09-20\n",
        "(0.36927447293799814, 0.4728054288446501, 8)"
       ]
      },
      {
       "output_type": "stream",
       "stream": "stdout",
       "text": [
        " 2014-09-20\n",
        "(0.47105571976599608, 0.27594578479490539, 15)"
       ]
      },
      {
       "output_type": "stream",
       "stream": "stdout",
       "text": [
        " 2014-09-20\n",
        "(0.0, -0.13034571676466691, 17)"
       ]
      },
      {
       "output_type": "stream",
       "stream": "stdout",
       "text": [
        " 2014-09-20\n",
        "(0.45441283774733299, 0.77491302484758318, 17)"
       ]
      },
      {
       "output_type": "stream",
       "stream": "stdout",
       "text": [
        " 2014-09-20\n",
        "(0.0, -0.33333333333333326, 3)"
       ]
      },
      {
       "output_type": "stream",
       "stream": "stdout",
       "text": [
        " 2014-09-20\n",
        "(0.74701788083399601, 0.62857142857142867, 9)"
       ]
      },
      {
       "output_type": "stream",
       "stream": "stdout",
       "text": [
        " 2014-09-20\n",
        "(0.59761430466719689, 0.69006555934235436, 6)"
       ]
      },
      {
       "output_type": "stream",
       "stream": "stdout",
       "text": [
        " 2014-09-20\n",
        "(0.5896919751144688, 0.76376261582597327, 8)"
       ]
      },
      {
       "output_type": "stream",
       "stream": "stdout",
       "text": [
        " 2014-09-20\n",
        "(0.5594309277855154, 0.71587203247824349, 17)"
       ]
      },
      {
       "output_type": "stream",
       "stream": "stdout",
       "text": [
        " 2014-09-20\n",
        "(0.0, 0.33709993123162113, 7)"
       ]
      },
      {
       "output_type": "stream",
       "stream": "stdout",
       "text": [
        " 2014-09-20\n",
        "(0.57174891293942898, 0.60068168929390109, 31)"
       ]
      },
      {
       "output_type": "stream",
       "stream": "stdout",
       "text": [
        " 2014-09-20\n",
        "(0.40815069951893074, 0.47547373094336587, 30)"
       ]
      },
      {
       "output_type": "stream",
       "stream": "stdout",
       "text": [
        " 2014-09-20\n",
        "(0.22360679774997899, -0.18257418583505539, 4)"
       ]
      },
      {
       "output_type": "stream",
       "stream": "stdout",
       "text": [
        " 2014-09-20\n",
        "(0.42183074386605385, 0.18888888888888888, 14)"
       ]
      },
      {
       "output_type": "stream",
       "stream": "stdout",
       "text": [
        " 2014-09-20\n",
        "(0.35634832254989929, 0.4285714285714286, 8)"
       ]
      },
      {
       "output_type": "stream",
       "stream": "stdout",
       "text": [
        " 2014-09-20\n",
        "(0.87831006565367986, 0.78072005835882663, 7)"
       ]
      },
      {
       "output_type": "stream",
       "stream": "stdout",
       "text": [
        " 2014-09-20\n",
        "(0.54886654141670732, 0.50829505050104362, 14)"
       ]
      },
      {
       "output_type": "stream",
       "stream": "stdout",
       "text": [
        " 2014-09-20\n",
        "(0.10386613002289834, 0.24373990560237496, 25)"
       ]
      },
      {
       "output_type": "stream",
       "stream": "stdout",
       "text": [
        " 2014-09-21\n",
        "(0.0, 0.0, 4)"
       ]
      },
      {
       "output_type": "stream",
       "stream": "stdout",
       "text": [
        " 2014-09-21\n",
        "(0.51392350025793165, 0.5875283401272724, 37)"
       ]
      },
      {
       "output_type": "stream",
       "stream": "stdout",
       "text": [
        " 2014-09-21\n",
        "(0.0, 0.25941649671427414, 16)"
       ]
      },
      {
       "output_type": "stream",
       "stream": "stdout",
       "text": [
        " 2014-09-21\n",
        "(0.53588745737930976, 0.49085066112201109, 31)"
       ]
      },
      {
       "output_type": "stream",
       "stream": "stdout",
       "text": [
        " 2014-09-21\n",
        "(0.82495791138430563, 0.54554472558998091, 8)"
       ]
      },
      {
       "output_type": "stream",
       "stream": "stdout",
       "text": [
        " 2014-09-21\n",
        "(0.51796977028281244, 0.58430654746814314, 10)"
       ]
      },
      {
       "output_type": "stream",
       "stream": "stdout",
       "text": [
        " 2014-09-21\n",
        "(0.0, 0.13801311186847087, 6)"
       ]
      },
      {
       "output_type": "stream",
       "stream": "stdout",
       "text": [
        " 2014-09-21\n",
        "(0.0, 0.0, 4)"
       ]
      },
      {
       "output_type": "stream",
       "stream": "stdout",
       "text": [
        " 2014-09-21\n",
        "(0.49078281926092454, 0.50420168067226878, 16)"
       ]
      },
      {
       "output_type": "stream",
       "stream": "stdout",
       "text": [
        " 2014-09-21\n",
        "(0.21428571428571433, 0.27602622373694174, 6)"
       ]
      },
      {
       "output_type": "stream",
       "stream": "stdout",
       "text": [
        " 2014-09-21\n",
        "(0.46666666666666679, 0.26403934479377983, 18)"
       ]
      },
      {
       "output_type": "stream",
       "stream": "stdout",
       "text": [
        " 2014-09-21\n",
        "(0.59427231187726426, 0.48207700611415022, 29)"
       ]
      },
      {
       "output_type": "stream",
       "stream": "stdout",
       "text": [
        " 2014-09-21\n",
        "(0.0, 0.32732683535398854, 8)"
       ]
      },
      {
       "output_type": "stream",
       "stream": "stdout",
       "text": [
        " 2014-09-23\n",
        "(0.26157418189029857, 0.5358913016456669, 15)"
       ]
      },
      {
       "output_type": "stream",
       "stream": "stdout",
       "text": [
        " 2014-09-23\n",
        "(-0.065795169495976899, 0.18422647458873531, 13)"
       ]
      },
      {
       "output_type": "stream",
       "stream": "stdout",
       "text": [
        " 2014-09-26\n",
        "(0.0, -0.50000000000000011, 6)"
       ]
      },
      {
       "output_type": "stream",
       "stream": "stdout",
       "text": [
        " 2014-09-26\n",
        "(0.54653805830443003, 0.65574122947052815, 18)"
       ]
      },
      {
       "output_type": "stream",
       "stream": "stdout",
       "text": [
        " 2014-09-26\n",
        "(0.51327651237774385, 0.5308585031828934, 35)"
       ]
      },
      {
       "output_type": "stream",
       "stream": "stdout",
       "text": [
        " 2014-09-27\n",
        "(0.46149329804817213, 0.59545857897657439, 35)"
       ]
      },
      {
       "output_type": "stream",
       "stream": "stdout",
       "text": [
        " 2014-09-27\n",
        "(0.0, 0.018518518518518517, 11)"
       ]
      },
      {
       "output_type": "stream",
       "stream": "stdout",
       "text": [
        " 2014-09-27\n",
        "(0.63245553203367555, 0.72929289854497559, 14)"
       ]
      },
      {
       "output_type": "stream",
       "stream": "stdout",
       "text": [
        " 2014-09-27\n",
        "(0.4674734950042288, 0.53436671448340178, 12)"
       ]
      },
      {
       "output_type": "stream",
       "stream": "stdout",
       "text": [
        " 2014-09-27\n",
        "(0.61773442324464245, 0.69626675206369415, 32)"
       ]
      },
      {
       "output_type": "stream",
       "stream": "stdout",
       "text": [
        " 2014-09-27\n",
        "(0.4386732388992014, 0.55503027670444061, 15)"
       ]
      },
      {
       "output_type": "stream",
       "stream": "stdout",
       "text": [
        " 2014-09-27\n",
        "(0.0, 0.91287092917527701, 4)"
       ]
      },
      {
       "output_type": "stream",
       "stream": "stdout",
       "text": [
        " 2014-09-27\n",
        "(0.1535243413495691, 0.42993848604190926, 36)"
       ]
      },
      {
       "output_type": "stream",
       "stream": "stdout",
       "text": [
        " 2014-09-27\n",
        "(0.0, -0.089087080637474822, 8)"
       ]
      },
      {
       "output_type": "stream",
       "stream": "stdout",
       "text": [
        " 2014-09-27\n",
        "(0.50648496406319965, 0.59259259259259245, 17)"
       ]
      },
      {
       "output_type": "stream",
       "stream": "stdout",
       "text": [
        " 2014-09-27\n",
        "(0.54772255750516619, 0.45000000000000007, 7)"
       ]
      },
      {
       "output_type": "stream",
       "stream": "stdout",
       "text": [
        " 2014-09-27\n",
        "(0.0, -0.33333333333333326, 3)"
       ]
      },
      {
       "output_type": "stream",
       "stream": "stdout",
       "text": [
        " 2014-09-27\n",
        "(0.0, 0.07407407407407407, 8)"
       ]
      },
      {
       "output_type": "stream",
       "stream": "stdout",
       "text": [
        " 2014-09-27\n",
        "(0.0, 0.0, 8)"
       ]
      },
      {
       "output_type": "stream",
       "stream": "stdout",
       "text": [
        " 2014-09-27\n",
        "(0.0, 0.0, 4)"
       ]
      },
      {
       "output_type": "stream",
       "stream": "stdout",
       "text": [
        " 2014-09-27\n",
        "(0.0, 0.19403525389717957, 17)"
       ]
      },
      {
       "output_type": "stream",
       "stream": "stdout",
       "text": [
        " 2014-09-27\n",
        "(0.62158156050806124, 0.3146266024828463, 10)"
       ]
      },
      {
       "output_type": "stream",
       "stream": "stdout",
       "text": [
        " 2014-09-27\n",
        "(0.0, 0.54772255750516619, 4)"
       ]
      },
      {
       "output_type": "stream",
       "stream": "stdout",
       "text": [
        " 2014-09-27\n",
        "(0.53677403221073705, 0.39629696195060854, 11)"
       ]
      },
      {
       "output_type": "stream",
       "stream": "stdout",
       "text": [
        " 2014-09-27\n",
        "(0.51189069688899158, 0.15909090909090912, 10)"
       ]
      },
      {
       "output_type": "stream",
       "stream": "stdout",
       "text": [
        " 2014-09-27\n",
        "(0.0, 0.66666666666666663, 8)"
       ]
      },
      {
       "output_type": "stream",
       "stream": "stdout",
       "text": [
        " 2014-09-27\n",
        "(0.0, 0.40000832492169475, 13)"
       ]
      },
      {
       "output_type": "stream",
       "stream": "stdout",
       "text": [
        " 2014-09-27\n",
        "(0.39036002917941331, 0.39036002917941331, 7)"
       ]
      },
      {
       "output_type": "stream",
       "stream": "stdout",
       "text": [
        " 2014-09-27\n",
        "(0.0, -0.11664236870396083, 11)"
       ]
      },
      {
       "output_type": "stream",
       "stream": "stdout",
       "text": [
        " 2014-09-27\n",
        "(0.64491481558683039, 0.11208970766356102, 12)"
       ]
      },
      {
       "output_type": "stream",
       "stream": "stdout",
       "text": [
        " 2014-09-27\n",
        "(0.0, 0.18257418583505539, 4)"
       ]
      },
      {
       "output_type": "stream",
       "stream": "stdout",
       "text": [
        " 2014-09-27\n",
        "(0.24978777055424184, 0.56383776371876415, 20)"
       ]
      },
      {
       "output_type": "stream",
       "stream": "stdout",
       "text": [
        " 2014-09-27\n",
        "(0.38490017945975047, 0.40006613209931929, 8)"
       ]
      },
      {
       "output_type": "stream",
       "stream": "stdout",
       "text": [
        " 2014-09-27\n",
        "(0.33333333333333331, 0.52704627669472992, 5)"
       ]
      },
      {
       "output_type": "stream",
       "stream": "stdout",
       "text": [
        " 2014-09-27\n",
        "(0.58794473579213136, 0.54554472558998091, 8)"
       ]
      },
      {
       "output_type": "stream",
       "stream": "stdout",
       "text": [
        " 2014-09-27\n",
        "(0.0, -0.18184824186332696, 8)"
       ]
      },
      {
       "output_type": "stream",
       "stream": "stdout",
       "text": [
        " 2014-09-27\n",
        "(0.0, 0.19889806323953879, 14)"
       ]
      },
      {
       "output_type": "stream",
       "stream": "stdout",
       "text": [
        " 2014-09-27\n",
        "(0.0, -0.0084388936862971262, 16)"
       ]
      },
      {
       "output_type": "stream",
       "stream": "stdout",
       "text": [
        " 2014-09-27\n",
        "(0.16116459280507597, 0.39604038043479806, 23)"
       ]
      },
      {
       "output_type": "stream",
       "stream": "stdout",
       "text": [
        " 2014-09-27\n",
        "(0.45411420828139409, 0.33272450481901078, 24)"
       ]
      },
      {
       "output_type": "stream",
       "stream": "stdout",
       "text": [
        " 2014-09-27\n",
        "(0.11134044285378084, 0.12065379433217113, 12)"
       ]
      },
      {
       "output_type": "stream",
       "stream": "stdout",
       "text": [
        " 2014-09-27\n",
        "(0.0, 0.27602622373694174, 6)"
       ]
      },
      {
       "output_type": "stream",
       "stream": "stdout",
       "text": [
        " 2014-09-27\n",
        "(0.0, 0.10540925533894598, 5)"
       ]
      },
      {
       "output_type": "stream",
       "stream": "stdout",
       "text": [
        " 2014-09-27\n",
        "(0.12154950351912401, 0.29325639294907774, 19)"
       ]
      },
      {
       "output_type": "stream",
       "stream": "stdout",
       "text": [
        " 2014-09-28\n",
        "(0.49155950517352098, 0.52529632155162587, 31)"
       ]
      },
      {
       "output_type": "stream",
       "stream": "stdout",
       "text": [
        " 2014-09-28\n",
        "(0.0, -0.18257418583505539, 4)"
       ]
      },
      {
       "output_type": "stream",
       "stream": "stdout",
       "text": [
        " 2014-09-28\n",
        "(0.0, 0.46494781490854986, 17)"
       ]
      },
      {
       "output_type": "stream",
       "stream": "stdout",
       "text": [
        " 2014-09-28\n",
        "(0.40494633449785922, 0.4994620762294148, 31)"
       ]
      },
      {
       "output_type": "stream",
       "stream": "stdout",
       "text": [
        " 2014-09-28\n",
        "(0.50917507721731547, 0.54554472558998091, 8)"
       ]
      },
      {
       "output_type": "stream",
       "stream": "stdout",
       "text": [
        " 2014-09-28\n",
        "(0.26846242208560978, 0.62387946690493756, 11)"
       ]
      },
      {
       "output_type": "stream",
       "stream": "stdout",
       "text": [
        " 2014-09-28\n",
        "(0.36929100131715908, 0.54752950658893673, 33)"
       ]
      },
      {
       "output_type": "stream",
       "stream": "stdout",
       "text": [
        " 2014-09-28\n",
        "(0.0, 0.64795159529186264, 9)"
       ]
      },
      {
       "output_type": "stream",
       "stream": "stdout",
       "text": [
        " 2014-09-28\n",
        "(0.0, 0.61111111111111105, 11)"
       ]
      },
      {
       "output_type": "stream",
       "stream": "stdout",
       "text": [
        " 2014-09-28\n",
        "(0.66666666666666663, 0.52704627669472992, 5)"
       ]
      },
      {
       "output_type": "stream",
       "stream": "stdout",
       "text": [
        " 2014-09-28\n",
        "(0.79819872971661143, 0.80903983495589049, 10)"
       ]
      },
      {
       "output_type": "stream",
       "stream": "stdout",
       "text": [
        " 2014-09-28\n",
        "(0.050251890762960605, 0.44946657497549475, 10)"
       ]
      },
      {
       "output_type": "stream",
       "stream": "stdout",
       "text": [
        " 2014-09-28\n",
        "(0.43481715852469593, 0.62891842058323133, 32)"
       ]
      },
      {
       "output_type": "stream",
       "stream": "stdout",
       "text": [
        " 2014-09-28\n",
        "(0.47522806215637481, 0.55298676914387102, 65)"
       ]
      },
      {
       "output_type": "stream",
       "stream": "stdout",
       "text": [
        " 2014-09-28\n",
        "(0.65652543060085744, 0.59543719613864776, 12)"
       ]
      },
      {
       "output_type": "stream",
       "stream": "stdout",
       "text": [
        " 2014-09-28\n",
        "(-0.12038585308576923, 0.27216552697590862, 13)"
       ]
      },
      {
       "output_type": "stream",
       "stream": "stdout",
       "text": [
        " 2014-09-28\n",
        "(0.50155682784630817, 0.51675232658689307, 15)"
       ]
      },
      {
       "output_type": "stream",
       "stream": "stdout",
       "text": [
        " 2014-09-28\n",
        "(0.22061312148718271, 0.5123791988905203, 31)"
       ]
      },
      {
       "output_type": "stream",
       "stream": "stdout",
       "text": [
        " 2014-09-28\n",
        "(0.0, 0.25000000000000006, 7)"
       ]
      },
      {
       "output_type": "stream",
       "stream": "stdout",
       "text": [
        " 2014-09-28\n",
        "(0.0, -0.33333333333333326, 3)"
       ]
      },
      {
       "output_type": "stream",
       "stream": "stdout",
       "text": [
        " 2014-09-28\n",
        "(0.59761430466719689, 0.69006555934235436, 6)"
       ]
      },
      {
       "output_type": "stream",
       "stream": "stdout",
       "text": [
        " 2014-09-28\n",
        "(0.0, 0.69006555934235436, 6)"
       ]
      },
      {
       "output_type": "stream",
       "stream": "stdout",
       "text": [
        " 2014-09-28\n",
        "(0.41902624070313926, -0.03669879217087868, 11)"
       ]
      },
      {
       "output_type": "stream",
       "stream": "stdout",
       "text": [
        " 2014-09-28\n",
        "(0.0, -0.44444444444444436, 5)"
       ]
      },
      {
       "output_type": "stream",
       "stream": "stdout",
       "text": [
        " 2014-09-28\n",
        "(0.0, -0.35634832254989918, 6)"
       ]
      },
      {
       "output_type": "stream",
       "stream": "stdout",
       "text": [
        " 2014-09-28\n",
        "(0.41112108225785127, 0.43755096771186125, 36)"
       ]
      },
      {
       "output_type": "stream",
       "stream": "stdout",
       "text": [
        " 2014-10-03\n",
        "(0.46946717604811378, 0.47612271538150258, 38)"
       ]
      },
      {
       "output_type": "stream",
       "stream": "stdout",
       "text": [
        " 2014-10-03\n",
        "(0.30362567774902066, 0.31734533398520071, 17)"
       ]
      },
      {
       "output_type": "stream",
       "stream": "stdout",
       "text": [
        " 2014-10-03\n",
        "(0.34668762264076819, 0.24618298195866567, 12)"
       ]
      },
      {
       "output_type": "stream",
       "stream": "stdout",
       "text": [
        " 2014-10-03\n",
        "(0.5846845821518305, 0.5393598899705937, 10)"
       ]
      },
      {
       "output_type": "stream",
       "stream": "stdout",
       "text": [
        " 2014-10-03\n",
        "(0.0, 0.0, 1)"
       ]
      },
      {
       "output_type": "stream",
       "stream": "stdout",
       "text": [
        " 2014-10-03\n",
        "(0.3550358012483632, 0.51046471934099102, 16)"
       ]
      },
      {
       "output_type": "stream",
       "stream": "stdout",
       "text": [
        " 2014-10-03\n",
        "(0.0, 0.50383147365577885, 12)"
       ]
      },
      {
       "output_type": "stream",
       "stream": "stdout",
       "text": [
        " 2014-10-03\n",
        "(0.40824829046386302, 0.57454545454545436, 24)"
       ]
      },
      {
       "output_type": "stream",
       "stream": "stdout",
       "text": [
        " 2014-10-03\n",
        "(0.0, 0.015267620413811481, 12)"
       ]
      },
      {
       "output_type": "stream",
       "stream": "stdout",
       "text": [
        " 2014-10-03\n",
        "(0.62499509059397074, 0.47259798447285206, 38)"
       ]
      },
      {
       "output_type": "stream",
       "stream": "stdout",
       "text": [
        " 2014-10-03\n",
        "(0.66929534158848258, 0.54083573643726768, 24)"
       ]
      },
      {
       "output_type": "stream",
       "stream": "stdout",
       "text": [
        " 2014-10-03\n",
        "(0.0, -0.10540925533894598, 5)"
       ]
      },
      {
       "output_type": "stream",
       "stream": "stdout",
       "text": [
        " 2014-10-04\n",
        "(0.66666666666666663, 0.73786478737262184, 5)"
       ]
      },
      {
       "output_type": "stream",
       "stream": "stdout",
       "text": [
        " 2014-10-04\n",
        "(0.6546536707079772, 0.87332606321946704, 9)"
       ]
      },
      {
       "output_type": "stream",
       "stream": "stdout",
       "text": [
        " 2014-10-04\n",
        "(0.54175913875713944, 0.61605351013366905, 22)"
       ]
      },
      {
       "output_type": "stream",
       "stream": "stdout",
       "text": [
        " 2014-10-04\n",
        "(0.0, 0.0, 5)"
       ]
      },
      {
       "output_type": "stream",
       "stream": "stdout",
       "text": [
        " 2014-10-04\n",
        "(0.0, 0.0, 4)"
       ]
      },
      {
       "output_type": "stream",
       "stream": "stdout",
       "text": [
        " 2014-10-04\n",
        "(0.12482014447635344, 0.55272727272727251, 24)"
       ]
      },
      {
       "output_type": "stream",
       "stream": "stdout",
       "text": [
        " 2014-10-04\n",
        "(0.39224542041230565, 0.55296641195427343, 44)"
       ]
      },
      {
       "output_type": "stream",
       "stream": "stdout",
       "text": [
        " 2014-10-04\n",
        "(0.0, 0.42257712736425829, 9)"
       ]
      },
      {
       "output_type": "stream",
       "stream": "stdout",
       "text": [
        " 2014-10-04\n",
        "(0.69388866648871106, 0.61828402233531166, 8)"
       ]
      },
      {
       "output_type": "stream",
       "stream": "stdout",
       "text": [
        " 2014-10-04\n",
        "(0.47037645180244353, 0.66986412705708354, 15)"
       ]
      },
      {
       "output_type": "stream",
       "stream": "stdout",
       "text": [
        " 2014-10-04\n",
        "(0.43643578047198478, 0.58065724585407308, 13)"
       ]
      },
      {
       "output_type": "stream",
       "stream": "stdout",
       "text": [
        " 2014-10-04\n",
        "(0.68439641245166549, 0.60788081612314471, 25)"
       ]
      },
      {
       "output_type": "stream",
       "stream": "stdout",
       "text": [
        " 2014-10-04\n",
        "(0.65885070724550254, 0.61232254995291546, 33)"
       ]
      },
      {
       "output_type": "stream",
       "stream": "stdout",
       "text": [
        " 2014-10-04\n",
        "(0.54997194092287027, 0.44038550605054416, 11)"
       ]
      },
      {
       "output_type": "stream",
       "stream": "stdout",
       "text": [
        " 2014-10-04\n",
        "(0.51426536386272836, 0.27221786146864818, 12)"
       ]
      },
      {
       "output_type": "stream",
       "stream": "stdout",
       "text": [
        " 2014-10-04\n",
        "(0.59761430466719689, -0.27602622373694174, 6)"
       ]
      },
      {
       "output_type": "stream",
       "stream": "stdout",
       "text": [
        " 2014-10-04\n",
        "(0.56011203361120387, 0.54554472558998091, 8)"
       ]
      },
      {
       "output_type": "stream",
       "stream": "stdout",
       "text": [
        " 2014-10-04\n",
        "(0.53603762356656171, 0.55503027670444061, 15)"
       ]
      },
      {
       "output_type": "stream",
       "stream": "stdout",
       "text": [
        " 2014-10-04\n",
        "(0.59307171520426982, 0.4697484366174946, 27)"
       ]
      },
      {
       "output_type": "stream",
       "stream": "stdout",
       "text": [
        " 2014-10-04\n",
        "(0.40000000000000008, 0.54772255750516619, 4)"
       ]
      },
      {
       "output_type": "stream",
       "stream": "stdout",
       "text": [
        " 2014-10-04\n",
        "(0.65000000000000013, 0.4879500364742666, 7)"
       ]
      },
      {
       "output_type": "stream",
       "stream": "stdout",
       "text": [
        " 2014-10-04\n",
        "(0.3995274658716621, 0.52636135596781519, 13)"
       ]
      },
      {
       "output_type": "stream",
       "stream": "stdout",
       "text": [
        " 2014-10-04\n",
        "(0.50000000000000011, 0.82807867121082523, 6)"
       ]
      },
      {
       "output_type": "stream",
       "stream": "stdout",
       "text": [
        " 2014-10-04\n",
        "(0.35639050143654138, 0.52015397377096095, 20)"
       ]
      },
      {
       "output_type": "stream",
       "stream": "stdout",
       "text": [
        " 2014-10-04\n",
        "(0.0, 0.41403933560541262, 6)"
       ]
      },
      {
       "output_type": "stream",
       "stream": "stdout",
       "text": [
        " 2014-10-04\n",
        "(0.44245586872274145, 0.35810115320778219, 20)"
       ]
      },
      {
       "output_type": "stream",
       "stream": "stdout",
       "text": [
        " 2014-10-04\n",
        "(0.56990027617674011, 0.60328193111288586, 18)"
       ]
      },
      {
       "output_type": "stream",
       "stream": "stdout",
       "text": [
        " 2014-10-04\n",
        "(0.0, -0.20801257358446087, 15)"
       ]
      },
      {
       "output_type": "stream",
       "stream": "stdout",
       "text": [
        " 2014-10-04\n",
        "(0.42654915536686011, 0.45834962956665415, 35)"
       ]
      },
      {
       "output_type": "stream",
       "stream": "stdout",
       "text": [
        " 2014-10-04\n",
        "(0.54226925420490546, 0.52307692307692322, 12)"
       ]
      },
      {
       "output_type": "stream",
       "stream": "stdout",
       "text": [
        " 2014-10-04\n",
        "(0.0, 0.35478013736530667, 17)"
       ]
      },
      {
       "output_type": "stream",
       "stream": "stdout",
       "text": [
        " 2014-10-04\n",
        "(0.79056941504209477, 0.78072005835882663, 7)"
       ]
      },
      {
       "output_type": "stream",
       "stream": "stdout",
       "text": [
        " 2014-10-05\n",
        "(0.32913485877337278, 0.41454819536903015, 24)"
       ]
      },
      {
       "output_type": "stream",
       "stream": "stdout",
       "text": [
        " 2014-10-05\n",
        "(0.38055555555555542, 0.56097041895742961, 74)"
       ]
      },
      {
       "output_type": "stream",
       "stream": "stdout",
       "text": [
        " 2014-10-05\n",
        "(0.091287092917527693, 0.68313005106397329, 7)"
       ]
      },
      {
       "output_type": "stream",
       "stream": "stdout",
       "text": [
        " 2014-10-05\n",
        "(0.0, 0.27602622373694174, 6)"
       ]
      },
      {
       "output_type": "stream",
       "stream": "stdout",
       "text": [
        " 2014-10-05\n",
        "(0.3850252493098284, 0.47746310275533727, 25)"
       ]
      },
      {
       "output_type": "stream",
       "stream": "stdout",
       "text": [
        " 2014-10-05\n",
        "(0.66080667651855962, 0.72727585451371279, 19)"
       ]
      },
      {
       "output_type": "stream",
       "stream": "stdout",
       "text": [
        " 2014-10-05\n",
        "(0.0, 0.19518001458970666, 7)"
       ]
      },
      {
       "output_type": "stream",
       "stream": "stdout",
       "text": [
        " 2014-10-05\n",
        "(0.464382530900952, 0.25689154519615076, 11)"
       ]
      },
      {
       "output_type": "stream",
       "stream": "stdout",
       "text": [
        " 2014-10-05\n",
        "(0.62901695445803552, 0.43542731872388002, 17)"
       ]
      },
      {
       "output_type": "stream",
       "stream": "stdout",
       "text": [
        " 2014-10-05\n",
        "(0.0, 0.3518518518518518, 11)"
       ]
      },
      {
       "output_type": "stream",
       "stream": "stdout",
       "text": [
        " 2014-10-05\n",
        "(0.54772255750516619, 0.28867513459481292, 7)"
       ]
      },
      {
       "output_type": "stream",
       "stream": "stdout",
       "text": [
        " 2014-10-05\n",
        "(0.5185449728701349, 0.43333333333333335, 14)"
       ]
      },
      {
       "output_type": "stream",
       "stream": "stdout",
       "text": [
        " 2014-10-05\n",
        "(0.53953509214834106, 0.39097744360902253, 17)"
       ]
      },
      {
       "output_type": "stream",
       "stream": "stdout",
       "text": [
        " 2014-10-05\n",
        "(0.0, -0.27695585470349865, 10)"
       ]
      },
      {
       "output_type": "stream",
       "stream": "stdout",
       "text": [
        " 2014-10-05\n",
        "(0.0, -0.57800597669133935, 10)"
       ]
      },
      {
       "output_type": "stream",
       "stream": "stdout",
       "text": [
        " 2014-10-05\n",
        "(0.0, -0.54772255750516619, 7)"
       ]
      },
      {
       "output_type": "stream",
       "stream": "stdout",
       "text": [
        " 2014-10-05\n",
        "(0.0, 0.22472025909343582, 17)"
       ]
      },
      {
       "output_type": "stream",
       "stream": "stdout",
       "text": [
        " 2014-10-05\n",
        "(0.4078236951430928, 0.46153846153846162, 12)"
       ]
      },
      {
       "output_type": "stream",
       "stream": "stdout",
       "text": [
        " 2014-10-05\n",
        "(0.75925660236529646, 0.68313005106397329, 7)"
       ]
      },
      {
       "output_type": "stream",
       "stream": "stdout",
       "text": [
        " 2014-10-05\n",
        "(0.45226701686664544, -0.022727272727272731, 10)"
       ]
      },
      {
       "output_type": "stream",
       "stream": "stdout",
       "text": [
        " 2014-10-05\n",
        "(0.0, 0.37037037037037035, 8)"
       ]
      },
      {
       "output_type": "stream",
       "stream": "stdout",
       "text": [
        " 2014-10-05\n",
        "(0.0, -0.25000000000000006, 7)"
       ]
      },
      {
       "output_type": "stream",
       "stream": "stdout",
       "text": [
        " 2014-10-07\n",
        "(0.6691846398793565, 0.69842247455786033, 20)"
       ]
      },
      {
       "output_type": "stream",
       "stream": "stdout",
       "text": [
        " 2014-10-10\n",
        "(0.49889007240856786, 0.62473032013555174, 22)"
       ]
      },
      {
       "output_type": "stream",
       "stream": "stdout",
       "text": [
        " 2014-10-11\n",
        "(0.58975258021701094, 0.66986412705708354, 15)"
       ]
      },
      {
       "output_type": "stream",
       "stream": "stdout",
       "text": [
        " 2014-10-11\n",
        "(0.0, 0.13801311186847087, 6)"
       ]
      },
      {
       "output_type": "stream",
       "stream": "stdout",
       "text": [
        " 2014-10-11\n",
        "(0.0, 0.0, 7)"
       ]
      },
      {
       "output_type": "stream",
       "stream": "stdout",
       "text": [
        " 2014-10-11\n",
        "(0.0, -0.076980035891950085, 8)"
       ]
      },
      {
       "output_type": "stream",
       "stream": "stdout",
       "text": [
        " 2014-10-11\n",
        "(0.5345224838248489, 0.78571428571428581, 8)"
       ]
      },
      {
       "output_type": "stream",
       "stream": "stdout",
       "text": [
        " 2014-10-11\n",
        "(0.2581988897471611, 0.18257418583505539, 4)"
       ]
      },
      {
       "output_type": "stream",
       "stream": "stdout",
       "text": [
        " 2014-10-11\n",
        "(0.0, -0.27602622373694174, 6)"
       ]
      },
      {
       "output_type": "stream",
       "stream": "stdout",
       "text": [
        " 2014-10-11\n",
        "(0.0, -0.31622776601683794, 5)"
       ]
      },
      {
       "output_type": "stream",
       "stream": "stdout",
       "text": [
        " 2014-10-11\n",
        "(0.0, 0.36623351038235719, 9)"
       ]
      },
      {
       "output_type": "stream",
       "stream": "stdout",
       "text": [
        " 2014-10-11\n",
        "(0.6159131805828747, 0.62275236877952767, 11)"
       ]
      },
      {
       "output_type": "stream",
       "stream": "stdout",
       "text": [
        " 2014-10-11\n",
        "(0.0, 0.13801311186847087, 6)"
       ]
      },
      {
       "output_type": "stream",
       "stream": "stdout",
       "text": [
        " 2014-10-12\n",
        "(0.22383927758863237, 0.22116407032093774, 15)"
       ]
      },
      {
       "output_type": "stream",
       "stream": "stdout",
       "text": [
        " 2014-10-12\n",
        "(0.0, 0.17142857142857146, 9)"
       ]
      },
      {
       "output_type": "stream",
       "stream": "stdout",
       "text": [
        " 2014-10-12\n",
        "(0.7745966692414834, 0.91287092917527701, 4)"
       ]
      },
      {
       "output_type": "stream",
       "stream": "stdout",
       "text": [
        " 2014-10-12\n",
        "(0.7118144852802063, 0.61376520491448339, 20)"
       ]
      },
      {
       "output_type": "stream",
       "stream": "stdout",
       "text": [
        " 2014-10-12\n",
        "(0.50221462730644217, 0.57144874863489215, 16)"
       ]
      },
      {
       "output_type": "stream",
       "stream": "stdout",
       "text": [
        " 2014-10-12\n",
        "(0.0, -0.10910894511799617, 8)"
       ]
      },
      {
       "output_type": "stream",
       "stream": "stdout",
       "text": [
        " 2014-10-12\n",
        "(0.0, 0.066898986541549577, 18)"
       ]
      },
      {
       "output_type": "stream",
       "stream": "stdout",
       "text": [
        " 2014-10-12\n",
        "(0.32897584747988451, 0.58065724585407308, 13)"
       ]
      },
      {
       "output_type": "stream",
       "stream": "stdout",
       "text": [
        " 2014-10-12\n",
        "(0.20100756305184242, 0.34090909090909094, 10)"
       ]
      },
      {
       "output_type": "stream",
       "stream": "stdout",
       "text": [
        " 2014-10-12\n",
        "(0.10675210253672479, -0.18184824186332696, 8)"
       ]
      },
      {
       "output_type": "stream",
       "stream": "stdout",
       "text": [
        " 2014-10-14\n",
        "(0.22038926600773592, 0.48356247114533463, 19)"
       ]
      },
      {
       "output_type": "stream",
       "stream": "stdout",
       "text": [
        " 2014-10-15\n",
        "(-0.60000000000000009, -0.18257418583505539, 4)"
       ]
      },
      {
       "output_type": "stream",
       "stream": "stdout",
       "text": [
        " 2014-10-16\n",
        "(0.52231049318318679, 0.61574074074074048, 47)"
       ]
      },
      {
       "output_type": "stream",
       "stream": "stdout",
       "text": [
        " 2014-10-17\n",
        "(0.35259976434881529, 0.5857822536701266, 33)"
       ]
      },
      {
       "output_type": "stream",
       "stream": "stdout",
       "text": [
        " 2014-10-17\n",
        "(0.0, -0.99999999999999989, 3)"
       ]
      },
      {
       "output_type": "stream",
       "stream": "stdout",
       "text": [
        " 2014-10-17\n",
        "(0.0, 0.23376623376623373, 13)"
       ]
      },
      {
       "output_type": "stream",
       "stream": "stdout",
       "text": [
        " 2014-10-17\n",
        "(0.0, 0.29277002188455997, 7)"
       ]
      },
      {
       "output_type": "stream",
       "stream": "stdout",
       "text": [
        " 2014-10-17\n",
        "(0.0, 0.24410774410774405, 35)"
       ]
      },
      {
       "output_type": "stream",
       "stream": "stdout",
       "text": [
        " 2014-10-17\n",
        "(0.28919952219248846, 0.52631665626445512, 24)"
       ]
      },
      {
       "output_type": "stream",
       "stream": "stdout",
       "text": [
        " 2014-10-17\n",
        "(0.53595253626600736, 0.56957361817360352, 76)"
       ]
      },
      {
       "output_type": "stream",
       "stream": "stdout",
       "text": [
        " 2014-10-17\n",
        "(0.54148876948603197, 0.52252259589468331, 44)"
       ]
      },
      {
       "output_type": "stream",
       "stream": "stdout",
       "text": [
        " 2014-10-17\n",
        "(0.0, 0.78571428571428592, 6)"
       ]
      },
      {
       "output_type": "stream",
       "stream": "stdout",
       "text": [
        " 2014-10-17\n",
        "(0.59391628127634311, 0.50323627974019658, 13)"
       ]
      },
      {
       "output_type": "stream",
       "stream": "stdout",
       "text": [
        " 2014-10-17\n",
        "(0.88191710368819687, 0.94868329805051377, 5)"
       ]
      },
      {
       "output_type": "stream",
       "stream": "stdout",
       "text": [
        " 2014-10-17\n",
        "(0.0, 0.0, 1)"
       ]
      },
      {
       "output_type": "stream",
       "stream": "stdout",
       "text": [
        " 2014-10-17\n",
        "(0.3572948005052482, 0.44038550605054416, 11)"
       ]
      },
      {
       "output_type": "stream",
       "stream": "stdout",
       "text": [
        " 2014-10-17\n",
        "(0.71393289346187361, 0.73351178811434281, 20)"
       ]
      },
      {
       "output_type": "stream",
       "stream": "stdout",
       "text": [
        " 2014-10-18\n",
        "(0.57760908331810223, 0.56343044479247784, 28)"
       ]
      },
      {
       "output_type": "stream",
       "stream": "stdout",
       "text": [
        " 2014-10-18\n",
        "(0.48007434889960593, 0.68509332893618924, 14)"
       ]
      },
      {
       "output_type": "stream",
       "stream": "stdout",
       "text": [
        " 2014-10-18\n",
        "(0.55251328904158159, 0.65925210646345145, 45)"
       ]
      },
      {
       "output_type": "stream",
       "stream": "stdout",
       "text": [
        " 2014-10-18\n",
        "(0.80178372573727319, 0.82807867121082523, 6)"
       ]
      },
      {
       "output_type": "stream",
       "stream": "stdout",
       "text": [
        " 2014-10-18\n",
        "(0.61013908709657272, 0.65072515199830971, 15)"
       ]
      },
      {
       "output_type": "stream",
       "stream": "stdout",
       "text": [
        " 2014-10-18\n",
        "(0.35765329069302482, 0.50132100626519838, 20)"
       ]
      },
      {
       "output_type": "stream",
       "stream": "stdout",
       "text": [
        " 2014-10-18\n",
        "(0.54772255750516619, 0.11547005383792516, 7)"
       ]
      },
      {
       "output_type": "stream",
       "stream": "stdout",
       "text": [
        " 2014-10-18\n",
        "(0.61545745489666359, 0.7407407407407407, 8)"
       ]
      },
      {
       "output_type": "stream",
       "stream": "stdout",
       "text": [
        " 2014-10-18\n",
        "(0.47434164902525688, 0.4879500364742666, 7)"
       ]
      },
      {
       "output_type": "stream",
       "stream": "stdout",
       "text": [
        " 2014-10-18\n",
        "(0.0, 0.55205244747388349, 6)"
       ]
      },
      {
       "output_type": "stream",
       "stream": "stdout",
       "text": [
        " 2014-10-18\n",
        "(0.6148873228105185, 0.48317656809865672, 14)"
       ]
      },
      {
       "output_type": "stream",
       "stream": "stdout",
       "text": [
        " 2014-10-18\n",
        "(0.60919166927952062, 0.58260767222212961, 75)"
       ]
      },
      {
       "output_type": "stream",
       "stream": "stdout",
       "text": [
        " 2014-10-18\n",
        "(0.34953852772327798, 0.33078267788163646, 61)"
       ]
      },
      {
       "output_type": "stream",
       "stream": "stdout",
       "text": [
        " 2014-10-18\n",
        "(0.61393710386895706, 0.50849283618092156, 16)"
       ]
      },
      {
       "output_type": "stream",
       "stream": "stdout",
       "text": [
        " 2014-10-18\n",
        "(0.55061085563900092, 0.47213368521878024, 18)"
       ]
      },
      {
       "output_type": "stream",
       "stream": "stdout",
       "text": [
        " 2014-10-18\n",
        "(0.0, 0.55205244747388349, 6)"
       ]
      },
      {
       "output_type": "stream",
       "stream": "stdout",
       "text": [
        " 2014-10-18\n",
        "(0.0, 0.66057825907581624, 11)"
       ]
      },
      {
       "output_type": "stream",
       "stream": "stdout",
       "text": [
        " 2014-10-18\n",
        "(0.0, 0.65072515199830971, 15)"
       ]
      },
      {
       "output_type": "stream",
       "stream": "stdout",
       "text": [
        " 2014-10-18\n",
        "(0.0, 0.2872972024571116, 14)"
       ]
      },
      {
       "output_type": "stream",
       "stream": "stdout",
       "text": [
        " 2014-10-18\n",
        "(0.51444178451050182, 0.52631665626445512, 24)"
       ]
      },
      {
       "output_type": "stream",
       "stream": "stdout",
       "text": [
        " 2014-10-18\n",
        "(0.0, 0.41403933560541262, 6)"
       ]
      },
      {
       "output_type": "stream",
       "stream": "stdout",
       "text": [
        " 2014-10-18\n",
        "(0.0, 0.91287092917527701, 4)"
       ]
      },
      {
       "output_type": "stream",
       "stream": "stdout",
       "text": [
        " 2014-10-18\n",
        "(0.74389899108767743, 0.66666666666666652, 17)"
       ]
      },
      {
       "output_type": "stream",
       "stream": "stdout",
       "text": [
        " 2014-10-18\n",
        "(0.0, 0.44444444444444436, 5)"
       ]
      },
      {
       "output_type": "stream",
       "stream": "stdout",
       "text": [
        " 2014-10-18\n",
        "(0.32831235298467598, 0.38699453359395952, 29)"
       ]
      },
      {
       "output_type": "stream",
       "stream": "stdout",
       "text": [
        " 2014-10-19\n",
        "(0.38266453511156018, -0.074294205537303509, 20)"
       ]
      },
      {
       "output_type": "stream",
       "stream": "stdout",
       "text": [
        " 2014-10-19\n",
        "(0.0, -0.30188894190115084, 13)"
       ]
      },
      {
       "output_type": "stream",
       "stream": "stdout",
       "text": [
        " 2014-10-19\n",
        "(0.54772255750516619, 0.68313005106397329, 7)"
       ]
      },
      {
       "output_type": "stream",
       "stream": "stdout",
       "text": [
        " 2014-10-19\n",
        "(0.31752644813856012, 0.54554472558998091, 8)"
       ]
      },
      {
       "output_type": "stream",
       "stream": "stdout",
       "text": [
        " 2014-10-19\n",
        "(0.33943006047998592, 0.54011467469095675, 28)"
       ]
      },
      {
       "output_type": "stream",
       "stream": "stdout",
       "text": [
        " 2014-10-19\n",
        "(0.0, -0.057972132749994562, 17)"
       ]
      },
      {
       "output_type": "stream",
       "stream": "stdout",
       "text": [
        " 2014-10-19\n",
        "(0.33442802702996927, 0.14829275350043486, 18)"
       ]
      },
      {
       "output_type": "stream",
       "stream": "stdout",
       "text": [
        " 2014-10-19\n",
        "(0.0, 0.0, 5)"
       ]
      },
      {
       "output_type": "stream",
       "stream": "stdout",
       "text": [
        " 2014-10-19\n",
        "(0.49988325092372371, 0.55990932040939412, 30)"
       ]
      },
      {
       "output_type": "stream",
       "stream": "stdout",
       "text": [
        " 2014-10-19\n",
        "(0.42102066856787962, 0.60504201680672254, 16)"
       ]
      },
      {
       "output_type": "stream",
       "stream": "stdout",
       "text": [
        " 2014-10-19\n",
        "(0.30671145149811052, 0.47012325300486169, 28)"
       ]
      },
      {
       "output_type": "stream",
       "stream": "stdout",
       "text": [
        " 2014-10-19\n",
        "(0.71468564154597636, 0.73016895067412679, 20)"
       ]
      },
      {
       "output_type": "stream",
       "stream": "stdout",
       "text": [
        " 2014-10-19\n",
        "(0.54772255750516619, 0.4879500364742666, 7)"
       ]
      },
      {
       "output_type": "stream",
       "stream": "stdout",
       "text": [
        " 2014-10-19\n",
        "(0.54772255750516619, 0.54772255750516619, 4)"
       ]
      },
      {
       "output_type": "stream",
       "stream": "stdout",
       "text": [
        " 2014-10-19\n",
        "(0.70641725710135683, 0.4728054288446501, 8)"
       ]
      },
      {
       "output_type": "stream",
       "stream": "stdout",
       "text": [
        " 2014-10-19\n",
        "(0.0, 0.33333333333333326, 3)"
       ]
      },
      {
       "output_type": "stream",
       "stream": "stdout",
       "text": [
        " 2014-10-19\n",
        "(0.0, 0.54772255750516619, 4)"
       ]
      },
      {
       "output_type": "stream",
       "stream": "stdout",
       "text": [
        " 2014-10-19\n",
        "(0.050251890762960605, 0.25000000000000006, 10)"
       ]
      },
      {
       "output_type": "stream",
       "stream": "stdout",
       "text": [
        " 2014-10-19\n",
        "(0.68524828886419253, 0.81111111111111112, 14)"
       ]
      },
      {
       "output_type": "stream",
       "stream": "stdout",
       "text": [
        " 2014-10-19\n",
        "(0.45226701686664544, -0.4077177531501005, 10)"
       ]
      },
      {
       "output_type": "stream",
       "stream": "stdout",
       "text": [
        " 2014-10-19\n",
        "(0.58230939632746781, 0.6488330602279313, 25)"
       ]
      },
      {
       "output_type": "stream",
       "stream": "stdout",
       "text": [
        " 2014-10-24\n",
        "(0.50884654922258332, 0.62204319988391832, 39)"
       ]
      },
      {
       "output_type": "stream",
       "stream": "stdout",
       "text": [
        " 2014-10-24\n",
        "(0.092592592592592574, 0.51378309039230152, 11)"
       ]
      },
      {
       "output_type": "stream",
       "stream": "stdout",
       "text": [
        " 2014-10-24\n",
        "(0.0, 0.16854996561581048, 14)"
       ]
      },
      {
       "output_type": "stream",
       "stream": "stdout",
       "text": [
        " 2014-10-24\n",
        "(0.34246127109580848, 0.55677697181051022, 41)"
       ]
      },
      {
       "output_type": "stream",
       "stream": "stdout",
       "text": [
        " 2014-10-25\n",
        "(0.53705334195655885, 0.51713281124125554, 74)"
       ]
      },
      {
       "output_type": "stream",
       "stream": "stdout",
       "text": [
        " 2014-10-25\n",
        "(0.45690965791091243, 0.47582959764142968, 33)"
       ]
      },
      {
       "output_type": "stream",
       "stream": "stdout",
       "text": [
        " 2014-10-25\n",
        "(0.10450467631267454, 0.47222594031714049, 23)"
       ]
      },
      {
       "output_type": "stream",
       "stream": "stdout",
       "text": [
        " 2014-10-25\n",
        "(0.43017790135944667, 0.52420774218592969, 25)"
       ]
      },
      {
       "output_type": "stream",
       "stream": "stdout",
       "text": [
        " 2014-10-25\n",
        "(0.34527065131588947, 0.084515425472851652, 9)"
       ]
      },
      {
       "output_type": "stream",
       "stream": "stdout",
       "text": [
        " 2014-10-25\n",
        "(0.69171377464624184, 0.65850861282668849, 40)"
       ]
      },
      {
       "output_type": "stream",
       "stream": "stdout",
       "text": [
        " 2014-10-25\n",
        "(0.46028324996028686, 0.55760768649094883, 26)"
       ]
      },
      {
       "output_type": "stream",
       "stream": "stdout",
       "text": [
        " 2014-10-25\n",
        "(0.0, 0.10540925533894598, 5)"
       ]
      },
      {
       "output_type": "stream",
       "stream": "stdout",
       "text": [
        " 2014-10-25\n",
        "(0.0, -0.14814814814814814, 8)"
       ]
      },
      {
       "output_type": "stream",
       "stream": "stdout",
       "text": [
        " 2014-10-25\n",
        "(0.0, 0.2407407407407407, 11)"
       ]
      },
      {
       "output_type": "stream",
       "stream": "stdout",
       "text": [
        " 2014-10-25\n",
        "(0.0, 0.30178043106110869, 19)"
       ]
      },
      {
       "output_type": "stream",
       "stream": "stdout",
       "text": [
        " 2014-10-25\n",
        "(0.31706324373711398, 0.20213051906899093, 20)"
       ]
      },
      {
       "output_type": "stream",
       "stream": "stdout",
       "text": [
        " 2014-10-25\n",
        "(0.33845663392080655, 0.45043103448275862, 31)"
       ]
      },
      {
       "output_type": "stream",
       "stream": "stdout",
       "text": [
        " 2014-10-25\n",
        "(0.0, 0.99999999999999989, 3)"
       ]
      },
      {
       "output_type": "stream",
       "stream": "stdout",
       "text": [
        " 2014-10-25\n",
        "(0.71713716560063634, 0.4879500364742666, 7)"
       ]
      },
      {
       "output_type": "stream",
       "stream": "stdout",
       "text": [
        " 2014-10-25\n",
        "(0.44721359549995793, 0.46666666666666667, 6)"
       ]
      },
      {
       "output_type": "stream",
       "stream": "stdout",
       "text": [
        " 2014-10-25\n",
        "(0.48980536649995432, 0.58095238095238111, 15)"
       ]
      },
      {
       "output_type": "stream",
       "stream": "stdout",
       "text": [
        " 2014-10-25\n",
        "(0.0, -0.25197631533948484, 5)"
       ]
      },
      {
       "output_type": "stream",
       "stream": "stdout",
       "text": [
        " 2014-10-25\n",
        "(0.0, 0.14814814814814814, 8)"
       ]
      },
      {
       "output_type": "stream",
       "stream": "stdout",
       "text": [
        " 2014-10-25\n",
        "(0.0, -0.05000000000000001, 7)"
       ]
      },
      {
       "output_type": "stream",
       "stream": "stdout",
       "text": [
        " 2014-10-25\n",
        "(0.43033148291193518, 0.40368671387966548, 11)"
       ]
      },
      {
       "output_type": "stream",
       "stream": "stdout",
       "text": [
        " 2014-10-25\n",
        "(0.60851106340453198, 0.816982446237566, 9)"
       ]
      },
      {
       "output_type": "stream",
       "stream": "stdout",
       "text": [
        " 2014-10-25\n",
        "(0.0, 0.0, 11)"
       ]
      },
      {
       "output_type": "stream",
       "stream": "stdout",
       "text": [
        " 2014-10-25\n",
        "(0.45873490213598367, 0.48484848484848508, 12)"
       ]
      },
      {
       "output_type": "stream",
       "stream": "stdout",
       "text": [
        " 2014-10-25\n",
        "(0.36991741849996523, 0.081038632149075876, 29)"
       ]
      },
      {
       "output_type": "stream",
       "stream": "stdout",
       "text": [
        " 2014-10-25\n",
        "(0.0, 0.0, 1)"
       ]
      },
      {
       "output_type": "stream",
       "stream": "stdout",
       "text": [
        " 2014-10-25\n",
        "(0.0, 0.0, 1)"
       ]
      },
      {
       "output_type": "stream",
       "stream": "stdout",
       "text": [
        " 2014-10-25\n",
        "(0.0, 0.0, 3)"
       ]
      },
      {
       "output_type": "stream",
       "stream": "stdout",
       "text": [
        " 2014-10-25\n",
        "(0.44579952015778668, 0.5113542599120865, 35)"
       ]
      },
      {
       "output_type": "stream",
       "stream": "stdout",
       "text": [
        " 2014-10-25\n",
        "(0.33744508936606771, 0.33028912953790812, 11)"
       ]
      },
      {
       "output_type": "stream",
       "stream": "stdout",
       "text": [
        " 2014-10-25\n",
        "(0.65929613165621093, 0.73549917808182586, 13)"
       ]
      },
      {
       "output_type": "stream",
       "stream": "stdout",
       "text": [
        " 2014-10-25\n",
        "(0.0, 0.21428571428571433, 6)"
       ]
      },
      {
       "output_type": "stream",
       "stream": "stdout",
       "text": [
        " 2014-10-25\n",
        "(0.66363308644402852, 0.68197087864934924, 18)"
       ]
      },
      {
       "output_type": "stream",
       "stream": "stdout",
       "text": [
        " 2014-10-25\n",
        "(0.051067991223614662, 0.27615304488938858, 16)"
       ]
      },
      {
       "output_type": "stream",
       "stream": "stdout",
       "text": [
        " 2014-10-25\n",
        "(0.35856858280031817, 0.69006555934235436, 6)"
       ]
      },
      {
       "output_type": "stream",
       "stream": "stdout",
       "text": [
        " 2014-10-25\n",
        "(0.57969693307432113, 0.58950617283950635, 26)"
       ]
      },
      {
       "output_type": "stream",
       "stream": "stdout",
       "text": [
        " 2014-10-25\n",
        "(0.64764559797952881, 0.5358188184822712, 27)"
       ]
      },
      {
       "output_type": "stream",
       "stream": "stdout",
       "text": [
        " 2014-10-25\n",
        "(0.0, 0.28171808490950551, 7)"
       ]
      },
      {
       "output_type": "stream",
       "stream": "stdout",
       "text": [
        " 2014-10-25\n",
        "(0.0, 0.35714285714285721, 6)"
       ]
      },
      {
       "output_type": "stream",
       "stream": "stdout",
       "text": [
        " 2014-10-25\n",
        "(0.37979229113870838, 0.47213368521878024, 18)"
       ]
      },
      {
       "output_type": "stream",
       "stream": "stdout",
       "text": [
        " 2014-10-26\n",
        "(0.41137667560372121, 0.32062002869004108, 12)"
       ]
      },
      {
       "output_type": "stream",
       "stream": "stdout",
       "text": [
        " 2014-10-26\n",
        "(0.58569844767943535, 0.81292014419570224, 13)"
       ]
      },
      {
       "output_type": "stream",
       "stream": "stdout",
       "text": [
        " 2014-10-26\n",
        "(0.26813322217994801, 0.61307306730811928, 25)"
       ]
      },
      {
       "output_type": "stream",
       "stream": "stdout",
       "text": [
        " 2014-10-26\n",
        "(0.35856858280031817, -0.27602622373694174, 6)"
       ]
      },
      {
       "output_type": "stream",
       "stream": "stdout",
       "text": [
        " 2014-10-26\n",
        "(0.41905817746174684, 0.515413462101452, 29)"
       ]
      },
      {
       "output_type": "stream",
       "stream": "stdout",
       "text": [
        " 2014-10-26\n",
        "(0.44206436925858722, 0.3991925748111797, 22)"
       ]
      },
      {
       "output_type": "stream",
       "stream": "stdout",
       "text": [
        " 2014-10-26\n",
        "(0.0, 0.99999999999999989, 3)"
       ]
      },
      {
       "output_type": "stream",
       "stream": "stdout",
       "text": [
        " 2014-10-26\n",
        "(0.0, -0.31622776601683794, 5)"
       ]
      },
      {
       "output_type": "stream",
       "stream": "stdout",
       "text": [
        " 2014-10-26\n",
        "(0.0, -1.0, 2)"
       ]
      },
      {
       "output_type": "stream",
       "stream": "stdout",
       "text": [
        " 2014-10-26\n",
        "(0.36244766899126513, 0.54237352519800186, 26)"
       ]
      },
      {
       "output_type": "stream",
       "stream": "stdout",
       "text": [
        " 2014-10-26\n",
        "(0.39803423097172158, 0.60643285223366217, 59)"
       ]
      },
      {
       "output_type": "stream",
       "stream": "stdout",
       "text": [
        " 2014-10-26\n",
        "(0.36369648372665392, 0.54554472558998091, 8)"
       ]
      },
      {
       "output_type": "stream",
       "stream": "stdout",
       "text": [
        " 2014-10-26\n",
        "(0.0, 0.18257418583505539, 4)"
       ]
      },
      {
       "output_type": "stream",
       "stream": "stdout",
       "text": [
        " 2014-10-26\n",
        "(0.0, 0.28571428571428575, 9)"
       ]
      },
      {
       "output_type": "stream",
       "stream": "stdout",
       "text": [
        " 2014-10-26\n",
        "(0.41182888801812401, 0.73443017700699154, 18)"
       ]
      },
      {
       "output_type": "stream",
       "stream": "stdout",
       "text": [
        " 2014-10-26\n",
        "(0.50569587128920912, 0.4976133515281192, 15)"
       ]
      },
      {
       "output_type": "stream",
       "stream": "stdout",
       "text": [
        " 2014-10-26\n",
        "(0.0, -0.54772255750516619, 7)"
       ]
      },
      {
       "output_type": "stream",
       "stream": "stdout",
       "text": [
        " 2014-10-26\n",
        "(0.21386180543479086, 0.28571428571428564, 13)"
       ]
      },
      {
       "output_type": "stream",
       "stream": "stdout",
       "text": [
        " 2014-10-26\n",
        "(0.40000000000000008, 0.54772255750516619, 4)"
       ]
      },
      {
       "output_type": "stream",
       "stream": "stdout",
       "text": [
        " 2014-10-26\n",
        "(0.48027394922755334, 0.591733040773743, 32)"
       ]
      },
      {
       "output_type": "stream",
       "stream": "stdout",
       "text": [
        " 2014-10-26\n",
        "(0.46437164603475284, 0.29008478786241815, 12)"
       ]
      },
      {
       "output_type": "stream",
       "stream": "stdout",
       "text": [
        " 2014-10-28\n",
        "(0.51748707016826112, 0.54533662578325226, 56)"
       ]
      },
      {
       "output_type": "stream",
       "stream": "stdout",
       "text": [
        " 2014-10-31\n",
        "(0.40691765441160177, 0.58651278589815548, 19)"
       ]
      },
      {
       "output_type": "stream",
       "stream": "stdout",
       "text": [
        " 2014-10-31\n",
        "(0.57735026918962584, 0.4879500364742666, 7)"
       ]
      },
      {
       "output_type": "stream",
       "stream": "stdout",
       "text": [
        " 2014-10-31\n",
        "(0.37437170812415871, 0.47376848426829327, 36)"
       ]
      },
      {
       "output_type": "stream",
       "stream": "stdout",
       "text": [
        " 2014-10-31\n",
        "(0.70710678118654735, 0.4879500364742666, 7)"
       ]
      },
      {
       "output_type": "stream",
       "stream": "stdout",
       "text": [
        " 2014-11-01\n",
        "(0.58635272985594933, 0.47892074434615939, 9)"
       ]
      },
      {
       "output_type": "stream",
       "stream": "stdout",
       "text": [
        " 2014-11-01\n",
        "(0.0, 0.10910894511799617, 8)"
       ]
      },
      {
       "output_type": "stream",
       "stream": "stdout",
       "text": [
        " 2014-11-01\n",
        "(0.27575861968430782, 0.44612172572236314, 31)"
       ]
      },
      {
       "output_type": "stream",
       "stream": "stdout",
       "text": [
        " 2014-11-01\n",
        "(0.19798637900567037, 0.40873015873015867, 23)"
       ]
      },
      {
       "output_type": "stream",
       "stream": "stdout",
       "text": [
        " 2014-11-01\n",
        "(0.2581988897471611, 0.54772255750516619, 4)"
       ]
      },
      {
       "output_type": "stream",
       "stream": "stdout",
       "text": [
        " 2014-11-01\n",
        "(0.51655144644594397, 0.56666666666666665, 14)"
       ]
      },
      {
       "output_type": "stream",
       "stream": "stdout",
       "text": [
        " 2014-11-01\n",
        "(0.49913659061809712, 0.54653572500002134, 23)"
       ]
      },
      {
       "output_type": "stream",
       "stream": "stdout",
       "text": [
        " 2014-11-01\n",
        "(0.3882226756362076, 0.39779612647907758, 14)"
       ]
      },
      {
       "output_type": "stream",
       "stream": "stdout",
       "text": [
        " 2014-11-01\n",
        "(0.0, 0.060246407607670888, 17)"
       ]
      },
      {
       "output_type": "stream",
       "stream": "stdout",
       "text": [
        " 2014-11-01\n",
        "(0.0, 0.030860669992418384, 9)"
       ]
      },
      {
       "output_type": "stream",
       "stream": "stdout",
       "text": [
        " 2014-11-01\n",
        "(0.25197631533948484, 0.0, 5)"
       ]
      },
      {
       "output_type": "stream",
       "stream": "stdout",
       "text": [
        " 2014-11-01\n",
        "(0.34327229439300944, 0.49478695212913604, 33)"
       ]
      },
      {
       "output_type": "stream",
       "stream": "stdout",
       "text": [
        " 2014-11-01\n",
        "(0.67417262371558107, 0.67783020109213565, 16)"
       ]
      },
      {
       "output_type": "stream",
       "stream": "stdout",
       "text": [
        " 2014-11-01\n",
        "(0.55995955993650925, 0.42203610996510454, 24)"
       ]
      },
      {
       "output_type": "stream",
       "stream": "stdout",
       "text": [
        " 2014-11-01\n",
        "(0.35355339059327379, 0.52704627669472992, 5)"
       ]
      },
      {
       "output_type": "stream",
       "stream": "stdout",
       "text": [
        " 2014-11-01\n",
        "(0.43278823007838901, 0.60646423455869847, 13)"
       ]
      },
      {
       "output_type": "stream",
       "stream": "stdout",
       "text": [
        " 2014-11-01\n",
        "(0.0, -0.88191710368819687, 5)"
       ]
      },
      {
       "output_type": "stream",
       "stream": "stdout",
       "text": [
        " 2014-11-01\n",
        "(0.81649658092772615, 0.99999999999999989, 3)"
       ]
      },
      {
       "output_type": "stream",
       "stream": "stdout",
       "text": [
        " 2014-11-01\n",
        "(0.33333333333333326, 0.33333333333333326, 3)"
       ]
      },
      {
       "output_type": "stream",
       "stream": "stdout",
       "text": [
        " 2014-11-01\n",
        "(0.68975624168743255, 0.76130616678645135, 13)"
       ]
      },
      {
       "output_type": "stream",
       "stream": "stdout",
       "text": [
        " 2014-11-01\n",
        "(0.50917507721731547, 0.44444444444444442, 8)"
       ]
      },
      {
       "output_type": "stream",
       "stream": "stdout",
       "text": [
        " 2014-11-01\n",
        "(0.65201571533498393, 0.55445846518301556, 18)"
       ]
      },
      {
       "output_type": "stream",
       "stream": "stdout",
       "text": [
        " 2014-11-01\n",
        "(0.0, -0.7745966692414834, 4)"
       ]
      },
      {
       "output_type": "stream",
       "stream": "stdout",
       "text": [
        " 2014-11-01\n",
        "(0.38454965524899593, 0.5673142487694971, 21)"
       ]
      },
      {
       "output_type": "stream",
       "stream": "stdout",
       "text": [
        " 2014-11-01\n",
        "(0.63763453263040659, 0.5358913016456669, 15)"
       ]
      },
      {
       "output_type": "stream",
       "stream": "stdout",
       "text": [
        " 2014-11-01\n",
        "(0.5846845821518305, 0.44946657497549475, 10)"
       ]
      },
      {
       "output_type": "stream",
       "stream": "stdout",
       "text": [
        " 2014-11-01\n",
        "(0.0, -0.33333333333333326, 3)"
       ]
      },
      {
       "output_type": "stream",
       "stream": "stdout",
       "text": [
        " 2014-11-01\n",
        "(0.50009614460236917, 0.57416925176321443, 15)"
       ]
      },
      {
       "output_type": "stream",
       "stream": "stdout",
       "text": [
        " 2014-11-01\n",
        "(0.0, 0.52704627669472992, 5)"
       ]
      },
      {
       "output_type": "stream",
       "stream": "stdout",
       "text": [
        " 2014-11-01\n",
        "(0.0, 0.73786478737262184, 5)"
       ]
      },
      {
       "output_type": "stream",
       "stream": "stdout",
       "text": [
        " 2014-11-01\n",
        "(0.35634832254989918, 0.55205244747388349, 6)"
       ]
      },
      {
       "output_type": "stream",
       "stream": "stdout",
       "text": [
        " 2014-11-01\n",
        "(0.7453559924999299, 0.73333333333333328, 6)"
       ]
      },
      {
       "output_type": "stream",
       "stream": "stdout",
       "text": [
        " 2014-11-01\n",
        "(0.38705047652302244, 0.75630252100840323, 16)"
       ]
      },
      {
       "output_type": "stream",
       "stream": "stdout",
       "text": [
        " 2014-11-01\n",
        "(0.28875523683968668, 0.48590136010542911, 22)"
       ]
      },
      {
       "output_type": "stream",
       "stream": "stdout",
       "text": [
        " 2014-11-01\n",
        "(0.81649658092772615, 0.99999999999999989, 3)"
       ]
      },
      {
       "output_type": "stream",
       "stream": "stdout",
       "text": [
        " 2014-11-01\n",
        "(1.0, 1.0, 2)"
       ]
      },
      {
       "output_type": "stream",
       "stream": "stdout",
       "text": [
        " 2014-11-01\n",
        "(0.56814863307936359, 0.54550055013943743, 13)"
       ]
      },
      {
       "output_type": "stream",
       "stream": "stdout",
       "text": [
        " 2014-11-01\n",
        "(0.0, 0.66666666666666663, 5)"
       ]
      },
      {
       "output_type": "stream",
       "stream": "stdout",
       "text": [
        " 2014-11-01\n",
        "(0.0, -0.15909090909090912, 10)"
       ]
      },
      {
       "output_type": "stream",
       "stream": "stdout",
       "text": [
        " 2014-11-01\n",
        "(0.0, -1.0, 2)"
       ]
      },
      {
       "output_type": "stream",
       "stream": "stdout",
       "text": [
        " 2014-11-01\n",
        "(0.81649658092772615, 0.99999999999999989, 3)"
       ]
      },
      {
       "output_type": "stream",
       "stream": "stdout",
       "text": [
        " 2014-11-01\n",
        "(0.63212672747179388, 0.381690510345287, 12)"
       ]
      },
      {
       "output_type": "stream",
       "stream": "stdout",
       "text": [
        " 2014-11-01\n",
        "(0.5309178746026425, 0.63488543776716122, 30)"
       ]
      },
      {
       "output_type": "stream",
       "stream": "stdout",
       "text": [
        " 2014-11-01\n",
        "(0.39440531887330771, 0.52380952380952384, 7)"
       ]
      },
      {
       "output_type": "stream",
       "stream": "stdout",
       "text": [
        " 2014-11-01\n",
        "(0.43528575006600706, 0.60000000000000009, 10)"
       ]
      },
      {
       "output_type": "stream",
       "stream": "stdout",
       "text": [
        " 2014-11-01\n",
        "(0.0, 0.33333333333333326, 3)"
       ]
      },
      {
       "output_type": "stream",
       "stream": "stdout",
       "text": [
        " 2014-11-01\n",
        "(0.62360956446232374, 0.71428571428571441, 8)"
       ]
      },
      {
       "output_type": "stream",
       "stream": "stdout",
       "text": [
        " 2014-11-01\n",
        "(0.5896919751144688, 0.66666666666666663, 8)"
       ]
      },
      {
       "output_type": "stream",
       "stream": "stdout",
       "text": [
        " 2014-11-01\n",
        "(0.0, 0.35714285714285721, 6)"
       ]
      },
      {
       "output_type": "stream",
       "stream": "stdout",
       "text": [
        " 2014-11-01\n",
        "(0.35856858280031817, 0.69006555934235436, 6)"
       ]
      },
      {
       "output_type": "stream",
       "stream": "stdout",
       "text": [
        " 2014-11-01\n",
        "(0.0, 0.21111111111111111, 14)"
       ]
      },
      {
       "output_type": "stream",
       "stream": "stdout",
       "text": [
        " 2014-11-01\n",
        "(0.0, 0.095694875293869081, 15)"
       ]
      },
      {
       "output_type": "stream",
       "stream": "stdout",
       "text": [
        " 2014-11-01\n",
        "(0.38005847503304613, 0.64089375932740278, 14)"
       ]
      },
      {
       "output_type": "stream",
       "stream": "stdout",
       "text": [
        " 2014-11-01\n",
        "(0.52292707813311246, 0.66885605405993864, 18)"
       ]
      },
      {
       "output_type": "stream",
       "stream": "stdout",
       "text": [
        " 2014-11-01\n",
        "(0.0, 0.42592592592592587, 11)"
       ]
      },
      {
       "output_type": "stream",
       "stream": "stdout",
       "text": [
        " 2014-11-01\n",
        "(0.4640062662420214, 0.48590136010542911, 22)"
       ]
      },
      {
       "output_type": "stream",
       "stream": "stdout",
       "text": [
        " 2014-11-01\n",
        "(0.75592894601845451, 0.77067463558845228, 11)"
       ]
      },
      {
       "output_type": "stream",
       "stream": "stdout",
       "text": [
        " 2014-11-02\n",
        "(0.24287069628756647, 0.25354627641855498, 9)"
       ]
      },
      {
       "output_type": "stream",
       "stream": "stdout",
       "text": [
        " 2014-11-02\n",
        "(0.48899636426632659, 0.62998039910051884, 22)"
       ]
      },
      {
       "output_type": "stream",
       "stream": "stdout",
       "text": [
        " 2014-11-02\n",
        "(0.37846542017806201, 0.59330822682198825, 15)"
       ]
      },
      {
       "output_type": "stream",
       "stream": "stdout",
       "text": [
        " 2014-11-02\n",
        "(0.10540925533894598, 0.31622776601683794, 5)"
       ]
      },
      {
       "output_type": "stream",
       "stream": "stdout",
       "text": [
        " 2014-11-02\n",
        "(0.45157255395800699, 0.49180409455260976, 24)"
       ]
      },
      {
       "output_type": "stream",
       "stream": "stdout",
       "text": [
        " 2014-11-02\n",
        "(0.31567267017256589, 0.21386180543479097, 23)"
       ]
      },
      {
       "output_type": "stream",
       "stream": "stdout",
       "text": [
        " 2014-11-02\n",
        "(0.11065666703449764, 0.35356323599756095, 20)"
       ]
      },
      {
       "output_type": "stream",
       "stream": "stdout",
       "text": [
        " 2014-11-02\n",
        "(0.0, -0.066666666666666666, 6)"
       ]
      },
      {
       "output_type": "stream",
       "stream": "stdout",
       "text": [
        " 2014-11-02\n",
        "(0.0, 0.18269230769230771, 15)"
       ]
      },
      {
       "output_type": "stream",
       "stream": "stdout",
       "text": [
        " 2014-11-02\n",
        "(0.30891149673914237, 0.45162230233094569, 13)"
       ]
      },
      {
       "output_type": "stream",
       "stream": "stdout",
       "text": [
        " 2014-11-02\n",
        "(0.0, -0.22222222222222218, 5)"
       ]
      },
      {
       "output_type": "stream",
       "stream": "stdout",
       "text": [
        " 2014-11-02\n",
        "(0.0, 0.26348259320698381, 15)"
       ]
      },
      {
       "output_type": "stream",
       "stream": "stdout",
       "text": [
        " 2014-11-02\n",
        "(0.69282032302755103, 0.87831006565367986, 7)"
       ]
      },
      {
       "output_type": "stream",
       "stream": "stdout",
       "text": [
        " 2014-11-02\n",
        "(0.58038100008800941, 0.6444444444444446, 10)"
       ]
      },
      {
       "output_type": "stream",
       "stream": "stdout",
       "text": [
        " 2014-11-02\n",
        "(0.78772636144337616, 0.8666666666666667, 6)"
       ]
      },
      {
       "output_type": "stream",
       "stream": "stdout",
       "text": [
        " 2014-11-02\n",
        "(0.0, -0.0085856680581488619, 16)"
       ]
      },
      {
       "output_type": "stream",
       "stream": "stdout",
       "text": [
        " 2014-11-07\n",
        "(0.0, -0.069786315779885311, 10)"
       ]
      },
      {
       "output_type": "stream",
       "stream": "stdout",
       "text": [
        " 2014-11-07\n",
        "(0.0, 0.10540925533894598, 5)"
       ]
      },
      {
       "output_type": "stream",
       "stream": "stdout",
       "text": [
        " 2014-11-07\n",
        "(0.34103257777953921, 0.49901087934784555, 23)"
       ]
      },
      {
       "output_type": "stream",
       "stream": "stdout",
       "text": [
        " 2014-11-08\n",
        "(0.37180885948443171, 0.61465267151640568, 22)"
       ]
      },
      {
       "output_type": "stream",
       "stream": "stdout",
       "text": [
        " 2014-11-08\n",
        "(0.47814632460084056, 0.57578260475087717, 30)"
       ]
      },
      {
       "output_type": "stream",
       "stream": "stdout",
       "text": [
        " 2014-11-08\n",
        "(-0.63245553203367577, 0.0, 5)"
       ]
      },
      {
       "output_type": "stream",
       "stream": "stdout",
       "text": [
        " 2014-11-08\n",
        "(0.17797651932695771, 0.36363636363636359, 13)"
       ]
      },
      {
       "output_type": "stream",
       "stream": "stdout",
       "text": [
        " 2014-11-08\n",
        "(0.20291986247835692, 0.30988989340045608, 9)"
       ]
      },
      {
       "output_type": "stream",
       "stream": "stdout",
       "text": [
        " 2014-11-08\n",
        "(0.35714285714285721, 0.41403933560541262, 6)"
       ]
      },
      {
       "output_type": "stream",
       "stream": "stdout",
       "text": [
        " 2014-11-08\n",
        "(0.59628479399994394, 0.59999999999999998, 6)"
       ]
      },
      {
       "output_type": "stream",
       "stream": "stdout",
       "text": [
        " 2014-11-08\n",
        "(0.27386859022918386, 0.46230627080644432, 43)"
       ]
      },
      {
       "output_type": "stream",
       "stream": "stdout",
       "text": [
        " 2014-11-08\n",
        "(0.067419986246324226, 0.097590007294853329, 7)"
       ]
      },
      {
       "output_type": "stream",
       "stream": "stdout",
       "text": [
        " 2014-11-08\n",
        "(0.0, 0.0, 3)"
       ]
      },
      {
       "output_type": "stream",
       "stream": "stdout",
       "text": [
        " 2014-11-08\n",
        "(0.0, 0.0, 4)"
       ]
      },
      {
       "output_type": "stream",
       "stream": "stdout",
       "text": [
        " 2014-11-08\n",
        "(0.29508355326173763, 0.24195133465860424, 18)"
       ]
      },
      {
       "output_type": "stream",
       "stream": "stdout",
       "text": [
        " 2014-11-08\n",
        "(0.0, 0.94868329805051377, 5)"
       ]
      },
      {
       "output_type": "stream",
       "stream": "stdout",
       "text": [
        " 2014-11-08\n",
        "(0.0, 0.052704627669472988, 7)"
       ]
      },
      {
       "output_type": "stream",
       "stream": "stdout",
       "text": [
        " 2014-11-08\n",
        "(0.40104212074132012, 0.58025481658829248, 22)"
       ]
      },
      {
       "output_type": "stream",
       "stream": "stdout",
       "text": [
        " 2014-11-09\n",
        "(0.34097371012461863, 0.53796222011672512, 22)"
       ]
      },
      {
       "output_type": "stream",
       "stream": "stdout",
       "text": [
        " 2014-11-09\n",
        "(0.50517339299083364, 0.55189156958981078, 15)"
       ]
      },
      {
       "output_type": "stream",
       "stream": "stdout",
       "text": [
        " 2014-11-09\n",
        "(0.42640143271122094, 0.44038550605054416, 11)"
       ]
      },
      {
       "output_type": "stream",
       "stream": "stdout",
       "text": [
        " 2014-11-09\n",
        "(0.56678479412869842, 0.54931491930440979, 19)"
       ]
      },
      {
       "output_type": "stream",
       "stream": "stdout",
       "text": [
        " 2014-11-09\n",
        "(-0.81649658092772615, -0.99999999999999989, 3)"
       ]
      },
      {
       "output_type": "stream",
       "stream": "stdout",
       "text": [
        " 2014-11-09\n",
        "(0.0, 0.52704627669472992, 5)"
       ]
      },
      {
       "output_type": "stream",
       "stream": "stdout",
       "text": [
        " 2014-11-09\n",
        "(0.0, -0.18257418583505539, 4)"
       ]
      },
      {
       "output_type": "stream",
       "stream": "stdout",
       "text": [
        " 2014-11-09\n",
        "(0.0, -0.13801311186847087, 6)"
       ]
      },
      {
       "output_type": "stream",
       "stream": "stdout",
       "text": [
        " 2014-11-09\n",
        "(0.59761430466719689, 0.54006172486732174, 6)"
       ]
      },
      {
       "output_type": "stream",
       "stream": "stdout",
       "text": [
        " 2014-11-09\n",
        "(0.0, -0.14547859349066156, 8)"
       ]
      },
      {
       "output_type": "stream",
       "stream": "stdout",
       "text": [
        " 2014-11-09\n",
        "(0.44334659728945153, 0.53874905537022444, 17)"
       ]
      },
      {
       "output_type": "stream",
       "stream": "stdout",
       "text": [
        " 2014-11-14\n",
        "(0.0, -0.45184805705753206, 11)"
       ]
      },
      {
       "output_type": "stream",
       "stream": "stdout",
       "text": [
        " 2014-11-14\n",
        "(0.0, -0.54006172486732174, 6)"
       ]
      },
      {
       "output_type": "stream",
       "stream": "stdout",
       "text": [
        " 2014-11-14\n",
        "(0.70979540982562284, 0.76063882925566484, 9)"
       ]
      },
      {
       "output_type": "stream",
       "stream": "stdout",
       "text": [
        " 2014-11-14\n",
        "(0.1743254534561636, 0.69727705124669492, 11)"
       ]
      },
      {
       "output_type": "stream",
       "stream": "stdout",
       "text": [
        " 2014-11-15\n",
        "(0.51181013829186517, 0.60125671595035945, 46)"
       ]
      },
      {
       "output_type": "stream",
       "stream": "stdout",
       "text": [
        " 2014-11-15\n",
        "(0.50690628725506348, 0.55849240620132168, 98)"
       ]
      },
      {
       "output_type": "stream",
       "stream": "stdout",
       "text": [
        " 2014-11-15\n",
        "(0.47520007697483102, 0.54643755962428531, 31)"
       ]
      },
      {
       "output_type": "stream",
       "stream": "stdout",
       "text": [
        " 2014-11-15\n",
        "(0.5131157827269226, 0.57971690961623357, 15)"
       ]
      },
      {
       "output_type": "stream",
       "stream": "stdout",
       "text": [
        " 2014-11-15\n",
        "(0.54772255750516619, 0.0, 4)"
       ]
      },
      {
       "output_type": "stream",
       "stream": "stdout",
       "text": [
        " 2014-11-15\n",
        "(0.58834840541455202, 0.3888888888888889, 9)"
       ]
      },
      {
       "output_type": "stream",
       "stream": "stdout",
       "text": [
        " 2014-11-15\n",
        "(-0.34992710611188266, -0.047619047619047616, 7)"
       ]
      },
      {
       "output_type": "stream",
       "stream": "stdout",
       "text": [
        " 2014-11-15\n",
        "(0.89611958076492382, 0.72727272727272763, 12)"
       ]
      },
      {
       "output_type": "stream",
       "stream": "stdout",
       "text": [
        " 2014-11-15\n",
        "(0.0, 0.99999999999999989, 3)"
       ]
      },
      {
       "output_type": "stream",
       "stream": "stdout",
       "text": [
        " 2014-11-15\n",
        "(0.0, 0.55205244747388349, 6)"
       ]
      },
      {
       "output_type": "stream",
       "stream": "stdout",
       "text": [
        " 2014-11-15\n",
        "(1.0, 1.0, 2)"
       ]
      },
      {
       "output_type": "stream",
       "stream": "stdout",
       "text": [
        " 2014-11-15\n",
        "(0.35856858280031817, -0.07715167498104597, 6)"
       ]
      },
      {
       "output_type": "stream",
       "stream": "stdout",
       "text": [
        " 2014-11-15\n",
        "(0.0, -0.54772255750516619, 4)"
       ]
      },
      {
       "output_type": "stream",
       "stream": "stdout",
       "text": [
        " 2014-11-15\n",
        "(0.47809144373375756, 0.64795159529186264, 9)"
       ]
      },
      {
       "output_type": "stream",
       "stream": "stdout",
       "text": [
        " 2014-11-15\n",
        "(0.49763195215803069, 0.39234449760765555, 21)"
       ]
      },
      {
       "output_type": "stream",
       "stream": "stdout",
       "text": [
        " 2014-11-15\n",
        "(0.56664152784862221, 0.65108604921182356, 25)"
       ]
      },
      {
       "output_type": "stream",
       "stream": "stdout",
       "text": [
        " 2014-11-15\n",
        "(0.58593794657016962, 0.67376890623350394, 28)"
       ]
      },
      {
       "output_type": "stream",
       "stream": "stdout",
       "text": [
        " 2014-11-15\n",
        "(0.0, 0.072420682437790151, 10)"
       ]
      },
      {
       "output_type": "stream",
       "stream": "stdout",
       "text": [
        " 2014-11-15\n",
        "(-0.47809144373375756, -0.084515425472851652, 9)"
       ]
      },
      {
       "output_type": "stream",
       "stream": "stdout",
       "text": [
        " 2014-11-15\n",
        "(0.41971722281827928, 0.47883849583419713, 30)"
       ]
      },
      {
       "output_type": "stream",
       "stream": "stdout",
       "text": [
        " 2014-11-15\n",
        "(0.48836612726686518, 0.19426923754923042, 82)"
       ]
      },
      {
       "output_type": "stream",
       "stream": "stdout",
       "text": [
        " 2014-11-15\n",
        "(0.38666535596220331, 0.016166971601172607, 45)"
       ]
      },
      {
       "output_type": "stream",
       "stream": "stdout",
       "text": [
        " 2014-11-15\n",
        "(0.0, 0.26967994498529685, 10)"
       ]
      },
      {
       "output_type": "stream",
       "stream": "stdout",
       "text": [
        " 2014-11-15\n",
        "(0.0, 0.22473328748774737, 10)"
       ]
      },
      {
       "output_type": "stream",
       "stream": "stdout",
       "text": [
        " 2014-11-15\n",
        "(0.59761430466719689, 0.41403933560541262, 6)"
       ]
      },
      {
       "output_type": "stream",
       "stream": "stdout",
       "text": [
        " 2014-11-15\n",
        "(0.67165363284435864, 0.71118629990829951, 25)"
       ]
      },
      {
       "output_type": "stream",
       "stream": "stdout",
       "text": [
        " 2014-11-15\n",
        "(0.18670401120373462, 0.4728054288446501, 8)"
       ]
      },
      {
       "output_type": "stream",
       "stream": "stdout",
       "text": [
        " 2014-11-15\n",
        "(0.0, 0.59999999999999987, 5)"
       ]
      },
      {
       "output_type": "stream",
       "stream": "stdout",
       "text": [
        " 2014-11-15\n",
        "(0.40988094898945676, 0.53588516746411485, 21)"
       ]
      },
      {
       "output_type": "stream",
       "stream": "stdout",
       "text": [
        " 2014-11-15\n",
        "(-0.19999999999999996, 0.0, 5)"
       ]
      },
      {
       "output_type": "stream",
       "stream": "stdout",
       "text": [
        " 2014-11-15\n",
        "(0.0, 0.0, 1)"
       ]
      },
      {
       "output_type": "stream",
       "stream": "stdout",
       "text": [
        " 2014-11-15\n",
        "(0.27602622373694174, 0.20000000000000001, 6)"
       ]
      },
      {
       "output_type": "stream",
       "stream": "stdout",
       "text": [
        " 2014-11-15\n",
        "(0.0, 0.23937749957251062, 14)"
       ]
      },
      {
       "output_type": "stream",
       "stream": "stdout",
       "text": [
        " 2014-11-15\n",
        "(0.5351079309238056, 0.45933540141057155, 15)"
       ]
      },
      {
       "output_type": "stream",
       "stream": "stdout",
       "text": [
        " 2014-11-15\n",
        "(0.0, 0.58065724585407308, 13)"
       ]
      },
      {
       "output_type": "stream",
       "stream": "stdout",
       "text": [
        " 2014-11-15\n",
        "(0.0, 0.19518001458970666, 7)"
       ]
      },
      {
       "output_type": "stream",
       "stream": "stdout",
       "text": [
        " 2014-11-15\n",
        "(0.60875958743507075, 0.59160797830996159, 9)"
       ]
      },
      {
       "output_type": "stream",
       "stream": "stdout",
       "text": [
        " 2014-11-15\n",
        "(0.39208329750812898, 0.43548502698508429, 30)"
       ]
      },
      {
       "output_type": "stream",
       "stream": "stdout",
       "text": [
        " 2014-11-15\n",
        "(0.61588176205143974, 0.44946657497549475, 10)"
       ]
      },
      {
       "output_type": "stream",
       "stream": "stdout",
       "text": [
        " 2014-11-15\n",
        "(0.55531579710806556, 0.60759688382585275, 35)"
       ]
      },
      {
       "output_type": "stream",
       "stream": "stdout",
       "text": [
        " 2014-11-15\n",
        "(0.0, 0.0, 4)"
       ]
      },
      {
       "output_type": "stream",
       "stream": "stdout",
       "text": [
        " 2014-11-15\n",
        "(0.0, 0.99999999999999989, 3)"
       ]
      },
      {
       "output_type": "stream",
       "stream": "stdout",
       "text": [
        " 2014-11-15\n",
        "(0.0, 0.0, 2)"
       ]
      },
      {
       "output_type": "stream",
       "stream": "stdout",
       "text": [
        " 2014-11-15\n",
        "(0.86602540378443871, 0.7191465199607916, 10)"
       ]
      },
      {
       "output_type": "stream",
       "stream": "stdout",
       "text": [
        " 2014-11-15\n",
        "(-0.13750477455423171, 0.2142857142857143, 8)"
       ]
      },
      {
       "output_type": "stream",
       "stream": "stdout",
       "text": [
        " 2014-11-15\n",
        "(0.83666002653407534, 0.39999999999999991, 5)"
       ]
      },
      {
       "output_type": "stream",
       "stream": "stdout",
       "text": [
        " 2014-11-15\n",
        "(0.36290588349062181, 0.42744212113137964, 20)"
       ]
      },
      {
       "output_type": "stream",
       "stream": "stdout",
       "text": [
        " 2014-11-15\n",
        "(0.22395700438234173, 0.40451991747794525, 10)"
       ]
      },
      {
       "output_type": "stream",
       "stream": "stdout",
       "text": [
        " 2014-11-15\n",
        "(0.62360956446232352, 0.82807867121082523, 6)"
       ]
      },
      {
       "output_type": "stream",
       "stream": "stdout",
       "text": [
        " 2014-11-15\n",
        "(0.0, 0.73786478737262184, 5)"
       ]
      },
      {
       "output_type": "stream",
       "stream": "stdout",
       "text": [
        " 2014-11-15\n",
        "(0.6071034190346063, 0.6416230210597067, 37)"
       ]
      },
      {
       "output_type": "stream",
       "stream": "stdout",
       "text": [
        " 2014-11-15\n",
        "(0.57735026918962584, 0.33333333333333331, 6)"
       ]
      },
      {
       "output_type": "stream",
       "stream": "stdout",
       "text": [
        " 2014-11-15\n",
        "(0.4871955978473102, 0.43336008478153826, 14)"
       ]
      },
      {
       "output_type": "stream",
       "stream": "stdout",
       "text": [
        " 2014-11-15\n",
        "(0.0, 0.33333333333333326, 3)"
       ]
      },
      {
       "output_type": "stream",
       "stream": "stdout",
       "text": [
        " 2014-11-15\n",
        "(0.75433650914135719, 0.62925320496569259, 10)"
       ]
      },
      {
       "output_type": "stream",
       "stream": "stdout",
       "text": [
        " 2014-11-15\n",
        "(0.0, -0.59761430466719689, 6)"
       ]
      },
      {
       "output_type": "stream",
       "stream": "stdout",
       "text": [
        " 2014-11-15\n",
        "(0.0, 0.022727272727272731, 10)"
       ]
      },
      {
       "output_type": "stream",
       "stream": "stdout",
       "text": [
        " 2014-11-15\n",
        "(0.0, -0.33333333333333326, 5)"
       ]
      },
      {
       "output_type": "stream",
       "stream": "stdout",
       "text": [
        " 2014-11-15\n",
        "(0.3927922024247863, 0.53526436132806043, 9)"
       ]
      },
      {
       "output_type": "stream",
       "stream": "stdout",
       "text": [
        " 2014-11-15\n",
        "(0.0, -0.21428571428571433, 6)"
       ]
      },
      {
       "output_type": "stream",
       "stream": "stdout",
       "text": [
        " 2014-11-15\n",
        "(0.4728054288446501, 0.4285714285714286, 8)"
       ]
      },
      {
       "output_type": "stream",
       "stream": "stdout",
       "text": [
        " 2014-11-15\n",
        "(0.83562902179673348, 0.61111111111111116, 9)"
       ]
      },
      {
       "output_type": "stream",
       "stream": "stdout",
       "text": [
        " 2014-11-16\n",
        "(0.0, -0.25354627641855498, 9)"
       ]
      },
      {
       "output_type": "stream",
       "stream": "stdout",
       "text": [
        " 2014-11-16\n",
        "(0.0, 0.38019876521740614, 23)"
       ]
      },
      {
       "output_type": "stream",
       "stream": "stdout",
       "text": [
        " 2014-11-16\n",
        "(0.23586408826243163, 0.5358913016456669, 15)"
       ]
      },
      {
       "output_type": "stream",
       "stream": "stdout",
       "text": [
        " 2014-11-16\n",
        "(0.19448665533052609, 0.23280749151928679, 20)"
       ]
      },
      {
       "output_type": "stream",
       "stream": "stdout",
       "text": [
        " 2014-11-16\n",
        "(0.0, 0.44946657497549475, 10)"
       ]
      },
      {
       "output_type": "stream",
       "stream": "stdout",
       "text": [
        " 2014-11-16\n",
        "(0.53935988997059381, 0.68313005106397329, 7)"
       ]
      },
      {
       "output_type": "stream",
       "stream": "stdout",
       "text": [
        " 2014-11-16\n",
        "(0.66254134886891336, 0.58430654746814314, 10)"
       ]
      },
      {
       "output_type": "stream",
       "stream": "stdout",
       "text": [
        " 2014-11-16\n",
        "(0.68307540721706228, 0.55921052631578949, 18)"
       ]
      },
      {
       "output_type": "stream",
       "stream": "stdout",
       "text": [
        " 2014-11-16\n",
        "(0.70710678118654757, 0.33333333333333331, 4)"
       ]
      },
      {
       "output_type": "stream",
       "stream": "stdout",
       "text": [
        " 2014-11-16\n",
        "(0.58931046291867772, 0.7333333333333335, 15)"
       ]
      },
      {
       "output_type": "stream",
       "stream": "stdout",
       "text": [
        " 2014-11-16\n",
        "(0.16645007571529571, 0.27272727272727265, 11)"
       ]
      },
      {
       "output_type": "stream",
       "stream": "stdout",
       "text": [
        " 2014-11-16\n",
        "(0.58631044371305141, 0.78592713310352824, 19)"
       ]
      },
      {
       "output_type": "stream",
       "stream": "stdout",
       "text": [
        " 2014-11-16\n",
        "(0.54772255750516619, 0.39036002917941331, 7)"
       ]
      },
      {
       "output_type": "stream",
       "stream": "stdout",
       "text": [
        " 2014-11-16\n",
        "(0.86602540378443871, 0.85398649245343994, 10)"
       ]
      },
      {
       "output_type": "stream",
       "stream": "stdout",
       "text": [
        " 2014-11-16\n",
        "(0.51068823085695103, 0.61828402233531166, 8)"
       ]
      },
      {
       "output_type": "stream",
       "stream": "stdout",
       "text": [
        " 2014-11-16\n",
        "(0.43643578047198478, 0.78571428571428581, 8)"
       ]
      },
      {
       "output_type": "stream",
       "stream": "stdout",
       "text": [
        " 2014-11-16\n",
        "(0.46056618647183833, 0.61904761904761907, 7)"
       ]
      },
      {
       "output_type": "stream",
       "stream": "stdout",
       "text": [
        " 2014-11-16\n",
        "(0.0, 0.99999999999999989, 3)"
       ]
      },
      {
       "output_type": "stream",
       "stream": "stdout",
       "text": [
        " 2014-11-16\n",
        "(0.43033148291193518, 1.0, 6)"
       ]
      },
      {
       "output_type": "stream",
       "stream": "stdout",
       "text": [
        " 2014-11-16\n",
        "(0.31622776601683794, 0.0, 5)"
       ]
      },
      {
       "output_type": "stream",
       "stream": "stdout",
       "text": [
        " 2014-11-16\n",
        "(0.15474611514754325, 0.27777777777777779, 9)"
       ]
      },
      {
       "output_type": "stream",
       "stream": "stdout",
       "text": [
        " 2014-11-16\n",
        "(-0.029934217004462488, 0.0, 9)"
       ]
      },
      {
       "output_type": "stream",
       "stream": "stdout",
       "text": [
        " 2014-11-16\n",
        "(0.51010203061020332, 0.30962614123961751, 16)"
       ]
      },
      {
       "output_type": "stream",
       "stream": "stdout",
       "text": [
        " 2014-11-16\n",
        "(0.052414241836095915, 0.14423076923076925, 15)"
       ]
      },
      {
       "output_type": "stream",
       "stream": "stdout",
       "text": [
        " 2014-11-16\n",
        "(0.65915306160306153, 0.80952380952380976, 15)"
       ]
      },
      {
       "output_type": "stream",
       "stream": "stdout",
       "text": [
        " 2014-11-16\n",
        "(0.39874665621294053, 0.27792531233921369, 21)"
       ]
      },
      {
       "output_type": "stream",
       "stream": "stdout",
       "text": [
        " 2014-11-16\n",
        "(0.54354596289723034, 0.30164096555644293, 18)"
       ]
      },
      {
       "output_type": "stream",
       "stream": "stdout",
       "text": [
        " 2014-11-16\n",
        "(0.099777603612513671, 0.3361463227264071, 16)"
       ]
      },
      {
       "output_type": "stream",
       "stream": "stdout",
       "text": [
        " 2014-11-16\n",
        "(0.44662980013443054, 0.23103442669455715, 17)"
       ]
      },
      {
       "output_type": "stream",
       "stream": "stdout",
       "text": [
        " 2014-11-16\n",
        "(0.0, 0.1679438245519263, 12)"
       ]
      },
      {
       "output_type": "stream",
       "stream": "stdout",
       "text": [
        " 2014-11-16\n",
        "(0.59895609486504919, 0.46494781490854986, 17)"
       ]
      },
      {
       "output_type": "stream",
       "stream": "stdout",
       "text": [
        " 2014-11-19\n",
        "(0.36137479690657959, 0.63773043794593998, 25)"
       ]
      },
      {
       "output_type": "stream",
       "stream": "stdout",
       "text": [
        " 2014-11-21\n",
        "(1.0000000000000002, 0.91287092917527701, 4)"
       ]
      },
      {
       "output_type": "stream",
       "stream": "stdout",
       "text": [
        " 2014-11-21\n",
        "(0.64444444444444449, 0.38518518518518513, 17)"
       ]
      },
      {
       "output_type": "stream",
       "stream": "stdout",
       "text": [
        " 2014-11-21\n",
        "(0.0, 0.73786478737262184, 5)"
       ]
      },
      {
       "output_type": "stream",
       "stream": "stdout",
       "text": [
        " 2014-11-21\n",
        "(0.37295395185701041, 0.53594446282844199, 17)"
       ]
      },
      {
       "output_type": "stream",
       "stream": "stdout",
       "text": [
        " 2014-11-21\n",
        "(0.0, -0.08989331499509895, 10)"
       ]
      },
      {
       "output_type": "stream",
       "stream": "stdout",
       "text": [
        " 2014-11-22\n",
        "(0.0, 0.30622360094038104, 15)"
       ]
      },
      {
       "output_type": "stream",
       "stream": "stdout",
       "text": [
        " 2014-11-22\n",
        "(0.23668231560156441, 0.47970806300088481, 17)"
       ]
      },
      {
       "output_type": "stream",
       "stream": "stdout",
       "text": [
        " 2014-11-22\n",
        "(0.0, 0.42807853429843168, 30)"
       ]
      },
      {
       "output_type": "stream",
       "stream": "stdout",
       "text": [
        " 2014-11-22\n",
        "(0.48860495871814313, 0.59132219812945619, 32)"
       ]
      },
      {
       "output_type": "stream",
       "stream": "stdout",
       "text": [
        " 2014-11-22\n",
        "(0.477630502582857, 0.56688185567007299, 36)"
       ]
      },
      {
       "output_type": "stream",
       "stream": "stdout",
       "text": [
        " 2014-11-22\n",
        "(0.7745966692414834, -0.18257418583505539, 4)"
       ]
      },
      {
       "output_type": "stream",
       "stream": "stdout",
       "text": [
        " 2014-11-22\n",
        "(0.58386476024198219, 0.36640847846375557, 15)"
       ]
      },
      {
       "output_type": "stream",
       "stream": "stdout",
       "text": [
        " 2014-11-22\n",
        "(0.61761562432888739, 0.49789472749153046, 16)"
       ]
      },
      {
       "output_type": "stream",
       "stream": "stdout",
       "text": [
        " 2014-11-22\n",
        "(0.64416032843976989, 0.58302979964722923, 17)"
       ]
      },
      {
       "output_type": "stream",
       "stream": "stdout",
       "text": [
        " 2014-11-22\n",
        "(0.0, 0.0, 1)"
       ]
      },
      {
       "output_type": "stream",
       "stream": "stdout",
       "text": [
        " 2014-11-22\n",
        "(0.45056355688958311, 0.33333333333333331, 7)"
       ]
      },
      {
       "output_type": "stream",
       "stream": "stdout",
       "text": [
        " 2014-11-22\n",
        "(0.23570226039551587, 0.66666666666666663, 4)"
       ]
      },
      {
       "output_type": "stream",
       "stream": "stdout",
       "text": [
        " 2014-11-22\n",
        "(0.53033008588991082, 0.77777777777777779, 9)"
       ]
      },
      {
       "output_type": "stream",
       "stream": "stdout",
       "text": [
        " 2014-11-22\n",
        "(0.0, 0.036369648372665389, 8)"
       ]
      },
      {
       "output_type": "stream",
       "stream": "stdout",
       "text": [
        " 2014-11-22\n",
        "(0.36572590998542287, 0.51147815898701199, 18)"
       ]
      },
      {
       "output_type": "stream",
       "stream": "stdout",
       "text": [
        " 2014-11-22\n",
        "(0.0, 0.0, 2)"
       ]
      },
      {
       "output_type": "stream",
       "stream": "stdout",
       "text": [
        " 2014-11-22\n",
        "(0.0, 0.0, 1)"
       ]
      },
      {
       "output_type": "stream",
       "stream": "stdout",
       "text": [
        " 2014-11-22\n",
        "(0.11952286093343933, 0.39999999999999991, 5)"
       ]
      },
      {
       "output_type": "stream",
       "stream": "stdout",
       "text": [
        " 2014-11-22\n",
        "(0.81649658092772615, 0.99999999999999989, 3)"
       ]
      },
      {
       "output_type": "stream",
       "stream": "stdout",
       "text": [
        " 2014-11-22\n",
        "(0.26111648393354669, 0.44444444444444442, 9)"
       ]
      },
      {
       "output_type": "stream",
       "stream": "stdout",
       "text": [
        " 2014-11-22\n",
        "(0.17928429140015908, 0.30988989340045608, 9)"
       ]
      },
      {
       "output_type": "stream",
       "stream": "stdout",
       "text": [
        " 2014-11-22\n",
        "(-0.5163977794943222, 0.18257418583505539, 4)"
       ]
      },
      {
       "output_type": "stream",
       "stream": "stdout",
       "text": [
        " 2014-11-22\n",
        "(0.38133692943535785, 0.53004685417077457, 26)"
       ]
      },
      {
       "output_type": "stream",
       "stream": "stdout",
       "text": [
        " 2014-11-22\n",
        "(0.5840212982376265, 0.69129528232358928, 20)"
       ]
      },
      {
       "output_type": "stream",
       "stream": "stdout",
       "text": [
        " 2014-11-22\n",
        "(0.37926975832517273, 0.26674417972042669, 51)"
       ]
      },
      {
       "output_type": "stream",
       "stream": "stdout",
       "text": [
        " 2014-11-22\n",
        "(0.54048599617084991, 0.4189417978941769, 66)"
       ]
      },
      {
       "output_type": "stream",
       "stream": "stdout",
       "text": [
        " 2014-11-22\n",
        "(0.0, 0.5393598899705937, 10)"
       ]
      },
      {
       "output_type": "stream",
       "stream": "stdout",
       "text": [
        " 2014-11-22\n",
        "(0.54772255750516619, 0.29277002188455997, 7)"
       ]
      },
      {
       "output_type": "stream",
       "stream": "stdout",
       "text": [
        " 2014-11-22\n",
        "(0.81649658092772615, 0.99999999999999989, 3)"
       ]
      },
      {
       "output_type": "stream",
       "stream": "stdout",
       "text": [
        " 2014-11-22\n",
        "(0.33333333333333343, 0.25458753860865774, 8)"
       ]
      },
      {
       "output_type": "stream",
       "stream": "stdout",
       "text": [
        " 2014-11-22\n",
        "(0.51426536386272836, 0.2461538461538462, 12)"
       ]
      },
      {
       "output_type": "stream",
       "stream": "stdout",
       "text": [
        " 2014-11-22\n",
        "(0.0, -0.34549374551423889, 13)"
       ]
      },
      {
       "output_type": "stream",
       "stream": "stdout",
       "text": [
        " 2014-11-22\n",
        "(0.38946202930312407, 0.53788192612877728, 17)"
       ]
      },
      {
       "output_type": "stream",
       "stream": "stdout",
       "text": [
        " 2014-11-22\n",
        "(0.38719757501290603, 0.44105224017794092, 22)"
       ]
      },
      {
       "output_type": "stream",
       "stream": "stdout",
       "text": [
        " 2014-11-22\n",
        "(0.52922073247521639, 0.67764624423426623, 18)"
       ]
      },
      {
       "output_type": "stream",
       "stream": "stdout",
       "text": [
        " 2014-11-22\n",
        "(0.50874701906916797, 0.52786150730833992, 19)"
       ]
      },
      {
       "output_type": "stream",
       "stream": "stdout",
       "text": [
        " 2014-11-22\n",
        "(0.62598071204459027, 0.50747681788493115, 17)"
       ]
      },
      {
       "output_type": "stream",
       "stream": "stdout",
       "text": [
        " 2014-11-22\n",
        "(0.58848988633649979, 0.70429521227376379, 9)"
       ]
      },
      {
       "output_type": "stream",
       "stream": "stdout",
       "text": [
        " 2014-11-22\n",
        "(0.57588992281740425, 0.58755760368663579, 30)"
       ]
      },
      {
       "output_type": "stream",
       "stream": "stdout",
       "text": [
        " 2014-11-22\n",
        "(0.45772706550537706, 0.49267074015445056, 19)"
       ]
      },
      {
       "output_type": "stream",
       "stream": "stdout",
       "text": [
        " 2014-11-22\n",
        "(0.50978399846004474, 0.62762055656679228, 16)"
       ]
      },
      {
       "output_type": "stream",
       "stream": "stdout",
       "text": [
        " 2014-11-22\n",
        "(0.36842417103957603, 0.22304001960936271, 25)"
       ]
      },
      {
       "output_type": "stream",
       "stream": "stdout",
       "text": [
        " 2014-11-22\n",
        "(0.32897584747988451, 0.23809523809523808, 7)"
       ]
      },
      {
       "output_type": "stream",
       "stream": "stdout",
       "text": [
        " 2014-11-22\n",
        "(0.14907119849998599, 0.73333333333333328, 6)"
       ]
      },
      {
       "output_type": "stream",
       "stream": "stdout",
       "text": [
        " 2014-11-22\n",
        "(0.0, 0.0, 2)"
       ]
      },
      {
       "output_type": "stream",
       "stream": "stdout",
       "text": [
        " 2014-11-22\n",
        "(0.0, 0.0, 1)"
       ]
      },
      {
       "output_type": "stream",
       "stream": "stdout",
       "text": [
        " 2014-11-22\n",
        "(0.61597526572479333, 0.60636600978992539, 25)"
       ]
      },
      {
       "output_type": "stream",
       "stream": "stdout",
       "text": [
        " 2014-11-22\n",
        "(0.49129218087916576, 0.52884615384615397, 15)"
       ]
      },
      {
       "output_type": "stream",
       "stream": "stdout",
       "text": [
        " 2014-11-22\n",
        "(0.31434730673096573, 0.58430654746814314, 10)"
       ]
      },
      {
       "output_type": "stream",
       "stream": "stdout",
       "text": [
        " 2014-11-22\n",
        "(-0.41147559989891169, -0.33333333333333331, 7)"
       ]
      },
      {
       "output_type": "stream",
       "stream": "stdout",
       "text": [
        " 2014-11-23\n",
        "(0.37370019738311344, 0.4909090909090908, 11)"
       ]
      },
      {
       "output_type": "stream",
       "stream": "stdout",
       "text": [
        " 2014-11-23\n",
        "(0.23172723236436699, 0.46153846153846156, 13)"
       ]
      },
      {
       "output_type": "stream",
       "stream": "stdout",
       "text": [
        " 2014-11-23\n",
        "(0.42882193396843665, 0.51282051282051277, 13)"
       ]
      },
      {
       "output_type": "stream",
       "stream": "stdout",
       "text": [
        " 2014-11-23\n",
        "(0.17817416127494959, 0.61904761904761907, 7)"
       ]
      },
      {
       "output_type": "stream",
       "stream": "stdout",
       "text": [
        " 2014-11-23\n",
        "(0.73487140875421764, 0.53846153846153844, 13)"
       ]
      },
      {
       "output_type": "stream",
       "stream": "stdout",
       "text": [
        " 2014-11-23\n",
        "(0.99999999999999989, 0.33333333333333326, 3)"
       ]
      },
      {
       "output_type": "stream",
       "stream": "stdout",
       "text": [
        " 2014-11-23\n",
        "(0.38924947208076138, 0.8666666666666667, 6)"
       ]
      },
      {
       "output_type": "stream",
       "stream": "stdout",
       "text": [
        " 2014-11-23\n",
        "(0.81649658092772615, 0.33333333333333326, 3)"
       ]
      },
      {
       "output_type": "stream",
       "stream": "stdout",
       "text": [
        " 2014-11-23\n",
        "(0.40011084938552816, 0.74545454545454526, 11)"
       ]
      },
      {
       "output_type": "stream",
       "stream": "stdout",
       "text": [
        " 2014-11-23\n",
        "(0.42381346503770373, 0.4426757204602631, 36)"
       ]
      },
      {
       "output_type": "stream",
       "stream": "stdout",
       "text": [
        " 2014-11-23\n",
        "(0.0, 0.33333333333333326, 3)"
       ]
      },
      {
       "output_type": "stream",
       "stream": "stdout",
       "text": [
        " 2014-11-23\n",
        "(0.20619652471058064, 0.28571428571428575, 8)"
       ]
      },
      {
       "output_type": "stream",
       "stream": "stdout",
       "text": [
        " 2014-11-23\n",
        "(0.26376748066999867, 0.51064552185850343, 20)"
       ]
      },
      {
       "output_type": "stream",
       "stream": "stdout",
       "text": [
        " 2014-11-23\n",
        "(0.0, 0.16666666666666666, 11)"
       ]
      },
      {
       "output_type": "stream",
       "stream": "stdout",
       "text": [
        " 2014-11-23\n",
        "(0.0, 1.0, 2)"
       ]
      },
      {
       "output_type": "stream",
       "stream": "stdout",
       "text": [
        " 2014-11-23\n",
        "(0.54006172486732162, 0.0, 8)"
       ]
      },
      {
       "output_type": "stream",
       "stream": "stdout",
       "text": [
        " 2014-11-23\n",
        "(0.26462806201248151, 0.52380952380952384, 7)"
       ]
      },
      {
       "output_type": "stream",
       "stream": "stdout",
       "text": [
        " 2014-11-23\n",
        "(0.60104076400856554, 0.66299354413179601, 14)"
       ]
      },
      {
       "output_type": "stream",
       "stream": "stdout",
       "text": [
        " 2014-11-23\n",
        "(0.71599385426689677, 0.64882943143812688, 25)"
       ]
      },
      {
       "output_type": "stream",
       "stream": "stdout",
       "text": [
        " 2014-11-23\n",
        "(0.48051749505431574, 0.37880827929340405, 28)"
       ]
      },
      {
       "output_type": "stream",
       "stream": "stdout",
       "text": [
        " 2014-11-23\n",
        "(0.21428571428571433, 0.0, 6)"
       ]
      },
      {
       "output_type": "stream",
       "stream": "stdout",
       "text": [
        " 2014-11-23\n",
        "(0.5315529144702662, 0.58202626981484207, 27)"
       ]
      },
      {
       "output_type": "stream",
       "stream": "stdout",
       "text": [
        " 2014-11-23\n",
        "(0.0, 0.55205244747388349, 6)"
       ]
      },
      {
       "output_type": "stream",
       "stream": "stdout",
       "text": [
        " 2014-11-23\n",
        "(0.0, 0.38478885619510539, 23)"
       ]
      },
      {
       "output_type": "stream",
       "stream": "stdout",
       "text": [
        " 2014-11-23\n",
        "(0.45374260648651515, 0.58651278589815548, 19)"
       ]
      },
      {
       "output_type": "stream",
       "stream": "stdout",
       "text": [
        " 2014-11-23\n",
        "(0.59079083982837854, 0.30988989340045608, 9)"
       ]
      },
      {
       "output_type": "stream",
       "stream": "stdout",
       "text": [
        " 2014-11-23\n",
        "(0.0, -0.11338934190276818, 8)"
       ]
      },
      {
       "output_type": "stream",
       "stream": "stdout",
       "text": [
        " 2014-11-23\n",
        "(0.20701966780270625, 0.4944683110932197, 17)"
       ]
      },
      {
       "output_type": "stream",
       "stream": "stdout",
       "text": [
        " 2014-11-23\n",
        "(0.0, 0.54772255750516619, 4)"
       ]
      },
      {
       "output_type": "stream",
       "stream": "stdout",
       "text": [
        " 2014-11-23\n",
        "(0.56407607481776612, 0.55064569208400949, 13)"
       ]
      },
      {
       "output_type": "stream",
       "stream": "stdout",
       "text": [
        " 2014-11-23\n",
        "(0.0, 0.0, 1)"
       ]
      },
      {
       "output_type": "stream",
       "stream": "stdout",
       "text": [
        " 2014-11-23\n",
        "(0.0, 0.0, 4)"
       ]
      },
      {
       "output_type": "stream",
       "stream": "stdout",
       "text": [
        " 2014-11-23\n",
        "(0.0, 0.0, 1)"
       ]
      },
      {
       "output_type": "stream",
       "stream": "stdout",
       "text": [
        " 2014-11-23\n",
        "(0.55068879175393493, 0.7142857142857143, 7)"
       ]
      },
      {
       "output_type": "stream",
       "stream": "stdout",
       "text": [
        " 2014-11-23\n",
        "(0.23628640567896597, 0.50383147365577885, 12)"
       ]
      },
      {
       "output_type": "stream",
       "stream": "stdout",
       "text": [
        " 2014-11-25\n",
        "(0.0, 0.14679516868351472, 11)"
       ]
      },
      {
       "output_type": "stream",
       "stream": "stdout",
       "text": [
        " 2014-11-28\n",
        "(0.0, 0.51675232658689307, 15)"
       ]
      },
      {
       "output_type": "stream",
       "stream": "stdout",
       "text": [
        " 2014-11-28\n",
        "(0.3964727423814971, 0.45075188022357016, 25)"
       ]
      },
      {
       "output_type": "stream",
       "stream": "stdout",
       "text": [
        " 2014-11-28\n",
        "(0.0, 0.36874264361134668, 41)"
       ]
      },
      {
       "output_type": "stream",
       "stream": "stdout",
       "text": [
        " 2014-11-28\n",
        "(0.6222711543587498, 0.66250105628441402, 34)"
       ]
      },
      {
       "output_type": "stream",
       "stream": "stdout",
       "text": [
        " 2014-11-28\n",
        "(0.51734084229904753, 0.57661598356864419, 53)"
       ]
      },
      {
       "output_type": "stream",
       "stream": "stdout",
       "text": [
        " 2014-11-28\n",
        "(0.40251662741260591, 0.54663903011860782, 22)"
       ]
      },
      {
       "output_type": "stream",
       "stream": "stdout",
       "text": [
        " 2014-11-28\n",
        "(0.53791841717380529, 0.56708567169921931, 59)"
       ]
      },
      {
       "output_type": "stream",
       "stream": "stdout",
       "text": [
        " 2014-11-28\n",
        "(0.21516574145596759, 0.25689154519615076, 11)"
       ]
      },
      {
       "output_type": "stream",
       "stream": "stdout",
       "text": [
        " 2014-11-28\n",
        "(0.53559424954199264, 0.54092540391471022, 38)"
       ]
      },
      {
       "output_type": "stream",
       "stream": "stdout",
       "text": [
        " 2014-11-28\n",
        "(0.14322297480788659, 0.17614096918559588, 12)"
       ]
      },
      {
       "output_type": "stream",
       "stream": "stdout",
       "text": [
        " 2014-11-28\n",
        "(0.43255095201786337, 0.33836285477493244, 31)"
       ]
      },
      {
       "output_type": "stream",
       "stream": "stdout",
       "text": [
        " 2014-11-28\n",
        "(0.50000000000000011, 0.69006555934235436, 6)"
       ]
      },
      {
       "output_type": "stream",
       "stream": "stdout",
       "text": [
        " 2014-11-28\n",
        "(0.53785287420047723, 0.58554004376911994, 7)"
       ]
      },
      {
       "output_type": "stream",
       "stream": "stdout",
       "text": [
        " 2014-11-28\n",
        "(0.400500939457407, 0.37037037037037029, 20)"
       ]
      },
      {
       "output_type": "stream",
       "stream": "stdout",
       "text": [
        " 2014-11-28\n",
        "(0.0, 0.36623351038235719, 9)"
       ]
      },
      {
       "output_type": "stream",
       "stream": "stdout",
       "text": [
        " 2014-11-28\n",
        "(0.51095230802126812, 0.51948051948051943, 13)"
       ]
      },
      {
       "output_type": "stream",
       "stream": "stdout",
       "text": [
        " 2014-11-29\n",
        "(0.0, -0.18539296413045095, 25)"
       ]
      },
      {
       "output_type": "stream",
       "stream": "stdout",
       "text": [
        " 2014-11-29\n",
        "(0.0, -0.33507702439381365, 15)"
       ]
      },
      {
       "output_type": "stream",
       "stream": "stdout",
       "text": [
        " 2014-11-29\n",
        "(0.41602514716892186, 0.21538461538461542, 12)"
       ]
      },
      {
       "output_type": "stream",
       "stream": "stdout",
       "text": [
        " 2014-11-29\n",
        "(0.40299629655568064, 0.18768442352560447, 20)"
       ]
      },
      {
       "output_type": "stream",
       "stream": "stdout",
       "text": [
        " 2014-11-29\n",
        "(0.46625240412015689, 0.15555555555555559, 10)"
       ]
      },
      {
       "output_type": "stream",
       "stream": "stdout",
       "text": [
        " 2014-11-29\n",
        "(0.58962218495207108, 0.52388351865716098, 26)"
       ]
      },
      {
       "output_type": "stream",
       "stream": "stdout",
       "text": [
        " 2014-11-29\n",
        "(0.60522753266880225, 0.59168020930691123, 26)"
       ]
      },
      {
       "output_type": "stream",
       "stream": "stdout",
       "text": [
        " 2014-11-29\n",
        "(0.5782878610227985, 0.63975814609910453, 32)"
       ]
      },
      {
       "output_type": "stream",
       "stream": "stdout",
       "text": [
        " 2014-11-29\n",
        "(0.63193059997585244, 0.53213416038462158, 26)"
       ]
      },
      {
       "output_type": "stream",
       "stream": "stdout",
       "text": [
        " 2014-11-29\n",
        "(0.2581988897471611, 0.18257418583505539, 4)"
       ]
      },
      {
       "output_type": "stream",
       "stream": "stdout",
       "text": [
        " 2014-11-29\n",
        "(0.4629100498862756, 0.55409163850364029, 20)"
       ]
      },
      {
       "output_type": "stream",
       "stream": "stdout",
       "text": [
        " 2014-11-29\n",
        "(0.0, 0.0, 2)"
       ]
      },
      {
       "output_type": "stream",
       "stream": "stdout",
       "text": [
        " 2014-11-29\n",
        "(0.68819822963931598, 0.64623032764149735, 12)"
       ]
      },
      {
       "output_type": "stream",
       "stream": "stdout",
       "text": [
        " 2014-11-29\n",
        "(0.36252235778369329, 0.58439297695570536, 24)"
       ]
      },
      {
       "output_type": "stream",
       "stream": "stdout",
       "text": [
        " 2014-11-30\n",
        "(0.52742733408980269, 0.54545454545454553, 21)"
       ]
      },
      {
       "output_type": "stream",
       "stream": "stdout",
       "text": [
        " 2014-11-30\n",
        "(0.0, 0.78072005835882663, 7)"
       ]
      },
      {
       "output_type": "stream",
       "stream": "stdout",
       "text": [
        " 2014-11-30\n",
        "(0.6989331634271625, 0.60965688035424714, 42)"
       ]
      },
      {
       "output_type": "stream",
       "stream": "stdout",
       "text": [
        " 2014-11-30\n",
        "(0.54772255750516619, 0.91287092917527701, 4)"
       ]
      },
      {
       "output_type": "stream",
       "stream": "stdout",
       "text": [
        " 2014-11-30\n",
        "(0.0, 0.15718652085716919, 14)"
       ]
      },
      {
       "output_type": "stream",
       "stream": "stdout",
       "text": [
        " 2014-12-02\n",
        "(0.0, -0.092592592592592574, 11)"
       ]
      },
      {
       "output_type": "stream",
       "stream": "stdout",
       "text": [
        " 2014-12-02\n",
        "(0.0, -0.28867513459481292, 7)"
       ]
      },
      {
       "output_type": "stream",
       "stream": "stdout",
       "text": [
        " 2014-12-05\n",
        "(0.5831179442707638, 0.65546218487394947, 16)"
       ]
      },
      {
       "output_type": "stream",
       "stream": "stdout",
       "text": [
        " 2014-12-05\n",
        "(0.0, 0.036369648372665389, 8)"
       ]
      },
      {
       "output_type": "stream",
       "stream": "stdout",
       "text": [
        " 2014-12-05\n",
        "(0.0, 0.61828402233531166, 8)"
       ]
      },
      {
       "output_type": "stream",
       "stream": "stdout",
       "text": [
        " 2014-12-05\n",
        "(0.0, 0.0, 5)"
       ]
      },
      {
       "output_type": "stream",
       "stream": "stdout",
       "text": [
        " 2014-12-06\n",
        "(0.0, 0.58554004376911994, 7)"
       ]
      },
      {
       "output_type": "stream",
       "stream": "stdout",
       "text": [
        " 2014-12-06\n",
        "(0.47915742374995501, 0.36623351038235719, 9)"
       ]
      },
      {
       "output_type": "stream",
       "stream": "stdout",
       "text": [
        " 2014-12-06\n",
        "(0.3506894317320271, 0.76130616678645135, 13)"
       ]
      },
      {
       "output_type": "stream",
       "stream": "stdout",
       "text": [
        " 2014-12-06\n",
        "(0.35714285714285721, 0.41403933560541262, 6)"
       ]
      },
      {
       "output_type": "stream",
       "stream": "stdout",
       "text": [
        " 2014-12-06\n",
        "(0.20100756305184242, 0.56061191058138826, 10)"
       ]
      },
      {
       "output_type": "stream",
       "stream": "stdout",
       "text": [
        " 2014-12-06\n",
        "(0.22438727760202973, 0.20842004228756253, 12)"
       ]
      },
      {
       "output_type": "stream",
       "stream": "stdout",
       "text": [
        " 2014-12-06\n",
        "(0.54772255750516619, 0.052704627669472988, 7)"
       ]
      },
      {
       "output_type": "stream",
       "stream": "stdout",
       "text": [
        " 2014-12-06\n",
        "(0.0, 0.33333333333333326, 3)"
       ]
      },
      {
       "output_type": "stream",
       "stream": "stdout",
       "text": [
        " 2014-12-06\n",
        "(0.0, 0.0, 2)"
       ]
      },
      {
       "output_type": "stream",
       "stream": "stdout",
       "text": [
        " 2014-12-06\n",
        "(0.0, 0.0, 1)"
       ]
      },
      {
       "output_type": "stream",
       "stream": "stdout",
       "text": [
        " 2014-12-06\n",
        "(0.0, 0.07407407407407407, 8)"
       ]
      },
      {
       "output_type": "stream",
       "stream": "stdout",
       "text": [
        " 2014-12-06\n",
        "(0.14197455728409022, 0.52319028104069232, 18)"
       ]
      },
      {
       "output_type": "stream",
       "stream": "stdout",
       "text": [
        " 2014-12-06\n",
        "(0.0, 0.54772255750516619, 4)"
       ]
      },
      {
       "output_type": "stream",
       "stream": "stdout",
       "text": [
        " 2014-12-06\n",
        "(0.0, 0.20842004228756253, 12)"
       ]
      },
      {
       "output_type": "stream",
       "stream": "stdout",
       "text": [
        " 2014-12-06\n",
        "(0.0, 0.40352639873299645, 16)"
       ]
      },
      {
       "output_type": "stream",
       "stream": "stdout",
       "text": [
        " 2014-12-06\n",
        "(0.41137667560372121, 0.40629960014669614, 12)"
       ]
      },
      {
       "output_type": "stream",
       "stream": "stdout",
       "text": [
        " 2014-12-06\n",
        "(0.27971546389275792, 0.76666666666666672, 14)"
       ]
      },
      {
       "output_type": "stream",
       "stream": "stdout",
       "text": [
        " 2014-12-06\n",
        "(-0.81649658092772615, 0.33333333333333326, 3)"
       ]
      },
      {
       "output_type": "stream",
       "stream": "stdout",
       "text": [
        " 2014-12-06\n",
        "(0.0, -0.61157662972515081, 10)"
       ]
      },
      {
       "output_type": "stream",
       "stream": "stdout",
       "text": [
        " 2014-12-06\n",
        "(0.31104631654389553, -0.03109183929042908, 15)"
       ]
      },
      {
       "output_type": "stream",
       "stream": "stdout",
       "text": [
        " 2014-12-06\n",
        "(0.0, 0.52704627669472992, 5)"
       ]
      },
      {
       "output_type": "stream",
       "stream": "stdout",
       "text": [
        " 2014-12-07\n",
        "(0.0, 0.3742013362170693, 13)"
       ]
      },
      {
       "output_type": "stream",
       "stream": "stdout",
       "text": [
        " 2014-12-07\n",
        "(0.58640039970236157, 0.56464576495132868, 20)"
       ]
      },
      {
       "output_type": "stream",
       "stream": "stdout",
       "text": [
        " 2014-12-07\n",
        "(0.64043501401151781, 0.65795169495976891, 13)"
       ]
      },
      {
       "output_type": "stream",
       "stream": "stdout",
       "text": [
        " 2014-12-07\n",
        "(0.77689859606735601, 0.78072005835882663, 7)"
       ]
      },
      {
       "output_type": "stream",
       "stream": "stdout",
       "text": [
        " 2014-12-07\n",
        "(0.14547859349066156, 0.07407407407407407, 8)"
       ]
      },
      {
       "output_type": "stream",
       "stream": "stdout",
       "text": [
        " 2014-12-07\n",
        "(0.091287092917527693, 0.097590007294853329, 7)"
       ]
      },
      {
       "output_type": "stream",
       "stream": "stdout",
       "text": [
        " 2014-12-07\n",
        "(0.0, -0.78571428571428592, 6)"
       ]
      },
      {
       "output_type": "stream",
       "stream": "stdout",
       "text": [
        " 2014-12-07\n",
        "(0.29749119331672658, 0.40876184641701474, 24)"
       ]
      },
      {
       "output_type": "stream",
       "stream": "stdout",
       "text": [
        " 2014-12-07\n",
        "(0.39665468457071368, 0.55922262873701578, 18)"
       ]
      },
      {
       "output_type": "stream",
       "stream": "stdout",
       "text": [
        " 2014-12-09\n",
        "(0.38214349902380113, -0.020121090914638352, 15)"
       ]
      },
      {
       "output_type": "stream",
       "stream": "stdout",
       "text": [
        " 2014-12-12\n",
        "(1.0, 1.0, 2)"
       ]
      },
      {
       "output_type": "stream",
       "stream": "stdout",
       "text": [
        " 2014-12-12\n",
        "(-1.0, -1.0, 2)"
       ]
      },
      {
       "output_type": "stream",
       "stream": "stdout",
       "text": [
        " 2014-12-12\n",
        "(1.0, 1.0, 2)"
       ]
      },
      {
       "output_type": "stream",
       "stream": "stdout",
       "text": [
        " 2014-12-12\n",
        "(0.81649658092772615, 0.99999999999999989, 3)"
       ]
      },
      {
       "output_type": "stream",
       "stream": "stdout",
       "text": [
        " 2014-12-12\n",
        "(0.0, -1.0, 2)"
       ]
      },
      {
       "output_type": "stream",
       "stream": "stdout",
       "text": [
        " 2014-12-12\n",
        "(0.0, 1.0, 2)"
       ]
      },
      {
       "output_type": "stream",
       "stream": "stdout",
       "text": [
        " 2014-12-12\n",
        "(0.66625223861128269, 0.53502842097912073, 10)"
       ]
      },
      {
       "output_type": "stream",
       "stream": "stdout",
       "text": [
        " 2014-12-13\n",
        "(0.63889342069070942, 0.74038461538461553, 15)"
       ]
      },
      {
       "output_type": "stream",
       "stream": "stdout",
       "text": [
        " 2014-12-13\n",
        "(0.71407259123414013, 0.71897362741833426, 27)"
       ]
      },
      {
       "output_type": "stream",
       "stream": "stdout",
       "text": [
        " 2014-12-13\n",
        "(0.0, -0.14506471329641485, 9)"
       ]
      },
      {
       "output_type": "stream",
       "stream": "stdout",
       "text": [
        " 2014-12-13\n",
        "(0.47809144373375756, 0.17142857142857146, 9)"
       ]
      },
      {
       "output_type": "stream",
       "stream": "stdout",
       "text": [
        " 2014-12-13\n",
        "(0.43697156080639726, 0.57821895543480517, 23)"
       ]
      },
      {
       "output_type": "stream",
       "stream": "stdout",
       "text": [
        " 2014-12-13\n",
        "(0.44866323818505682, 0.58065724585407308, 13)"
       ]
      },
      {
       "output_type": "stream",
       "stream": "stdout",
       "text": [
        " 2014-12-13\n",
        "(0.63806823830195269, 0.59414746021656339, 16)"
       ]
      },
      {
       "output_type": "stream",
       "stream": "stdout",
       "text": [
        " 2014-12-13\n",
        "(0.0, 1.0, 2)"
       ]
      },
      {
       "output_type": "stream",
       "stream": "stdout",
       "text": [
        " 2014-12-13\n",
        "(0.0, 0.52704627669472992, 5)"
       ]
      },
      {
       "output_type": "stream",
       "stream": "stdout",
       "text": [
        " 2014-12-13\n",
        "(0.60677987621691798, 0.87831006565367986, 7)"
       ]
      },
      {
       "output_type": "stream",
       "stream": "stdout",
       "text": [
        " 2014-12-13\n",
        "(0.0, 0.54772255750516619, 4)"
       ]
      },
      {
       "output_type": "stream",
       "stream": "stdout",
       "text": [
        " 2014-12-13\n",
        "(0.23904572186687878, 0.68313005106397329, 7)"
       ]
      },
      {
       "output_type": "stream",
       "stream": "stdout",
       "text": [
        " 2014-12-13\n",
        "(0.071611487403943297, 0.46666666666666667, 6)"
       ]
      },
      {
       "output_type": "stream",
       "stream": "stdout",
       "text": [
        " 2014-12-13\n",
        "(0.53954628432139462, 0.56120691037771497, 30)"
       ]
      },
      {
       "output_type": "stream",
       "stream": "stdout",
       "text": [
        " 2014-12-13\n",
        "(0.43387601774552426, 0.53298338560826353, 20)"
       ]
      },
      {
       "output_type": "stream",
       "stream": "stdout",
       "text": [
        " 2014-12-13\n",
        "(0.62360956446232352, 0.82807867121082523, 6)"
       ]
      },
      {
       "output_type": "stream",
       "stream": "stdout",
       "text": [
        " 2014-12-13\n",
        "(0.0, 0.11208970766356102, 12)"
       ]
      },
      {
       "output_type": "stream",
       "stream": "stdout",
       "text": [
        " 2014-12-13\n",
        "(0.0, 0.050939733194676928, 25)"
       ]
      },
      {
       "output_type": "stream",
       "stream": "stdout",
       "text": [
        " 2014-12-13\n",
        "(0.45588929746857632, 0.49643417131265938, 27)"
       ]
      },
      {
       "output_type": "stream",
       "stream": "stdout",
       "text": [
        " 2014-12-13\n",
        "(0.0, 0.10540925533894598, 7)"
       ]
      },
      {
       "output_type": "stream",
       "stream": "stdout",
       "text": [
        " 2014-12-13\n",
        "(0.36369648372665375, 0.33862433862433855, 20)"
       ]
      },
      {
       "output_type": "stream",
       "stream": "stdout",
       "text": [
        " 2014-12-13\n",
        "(0.46266235664763589, 0.53232758620689657, 31)"
       ]
      },
      {
       "output_type": "stream",
       "stream": "stdout",
       "text": [
        " 2014-12-13\n",
        "(0.61091047498069051, 0.57509450340892421, 52)"
       ]
      },
      {
       "output_type": "stream",
       "stream": "stdout",
       "text": [
        " 2014-12-13\n",
        "(0.61800209065523681, 0.41937908377885685, 28)"
       ]
      },
      {
       "output_type": "stream",
       "stream": "stdout",
       "text": [
        " 2014-12-13\n",
        "(0.65489064952188847, 0.53122253822018006, 59)"
       ]
      },
      {
       "output_type": "stream",
       "stream": "stdout",
       "text": [
        " 2014-12-13\n",
        "(0.0, 1.0, 2)"
       ]
      },
      {
       "output_type": "stream",
       "stream": "stdout",
       "text": [
        " 2014-12-13\n",
        "(0.0, 0.15811388300841897, 7)"
       ]
      },
      {
       "output_type": "stream",
       "stream": "stdout",
       "text": [
        " 2014-12-13\n",
        "(0.0, 0.17368336857296876, 12)"
       ]
      },
      {
       "output_type": "stream",
       "stream": "stdout",
       "text": [
        " 2014-12-13\n",
        "(0.18549555830406728, 0.40637194050160858, 17)"
       ]
      },
      {
       "output_type": "stream",
       "stream": "stdout",
       "text": [
        " 2014-12-13\n",
        "(0.0, -0.35805743701971648, 10)"
       ]
      },
      {
       "output_type": "stream",
       "stream": "stdout",
       "text": [
        " 2014-12-13\n",
        "(0.37298256509945016, 0.42927340007083642, 15)"
       ]
      },
      {
       "output_type": "stream",
       "stream": "stdout",
       "text": [
        " 2014-12-13\n",
        "(0.0, -0.26257545381445879, 10)"
       ]
      },
      {
       "output_type": "stream",
       "stream": "stdout",
       "text": [
        " 2014-12-13\n",
        "(0.4640280487653361, 0.42164969054709556, 21)"
       ]
      },
      {
       "output_type": "stream",
       "stream": "stdout",
       "text": [
        " 2014-12-13\n",
        "(0.53935988997059381, 0.68313005106397329, 7)"
       ]
      },
      {
       "output_type": "stream",
       "stream": "stdout",
       "text": [
        " 2014-12-13\n",
        "(0.0, 0.029012942659282968, 9)"
       ]
      },
      {
       "output_type": "stream",
       "stream": "stdout",
       "text": [
        " 2014-12-13\n",
        "(0.24420407924497595, 0.34695439038892389, 42)"
       ]
      },
      {
       "output_type": "stream",
       "stream": "stdout",
       "text": [
        " 2014-12-13\n",
        "(0.63245553203367577, 0.59999999999999987, 5)"
       ]
      },
      {
       "output_type": "stream",
       "stream": "stdout",
       "text": [
        " 2014-12-13\n",
        "(0.59215652546379216, 1.0, 7)"
       ]
      },
      {
       "output_type": "stream",
       "stream": "stdout",
       "text": [
        " 2014-12-13\n",
        "(1.0, 0.66666666666666663, 4)"
       ]
      },
      {
       "output_type": "stream",
       "stream": "stdout",
       "text": [
        " 2014-12-13\n",
        "(0.0, -0.08463889584616803, 14)"
       ]
      },
      {
       "output_type": "stream",
       "stream": "stdout",
       "text": [
        " 2014-12-13\n",
        "(0.0, -0.29250896965085232, 10)"
       ]
      },
      {
       "output_type": "stream",
       "stream": "stdout",
       "text": [
        " 2014-12-13\n",
        "(0.35856858280031817, 0.55205244747388349, 6)"
       ]
      },
      {
       "output_type": "stream",
       "stream": "stdout",
       "text": [
        " 2014-12-13\n",
        "(0.55000000000000004, 0.68313005106397329, 7)"
       ]
      },
      {
       "output_type": "stream",
       "stream": "stdout",
       "text": [
        " 2014-12-13\n",
        "(0.54455445544554437, 0.74771378721457249, 15)"
       ]
      },
      {
       "output_type": "stream",
       "stream": "stdout",
       "text": [
        " 2014-12-13\n",
        "(0.0, -0.25197631533948484, 5)"
       ]
      },
      {
       "output_type": "stream",
       "stream": "stdout",
       "text": [
        " 2014-12-13\n",
        "(0.0, 0.91287092917527701, 4)"
       ]
      },
      {
       "output_type": "stream",
       "stream": "stdout",
       "text": [
        " 2014-12-13\n",
        "(0.0, 0.50000000000000011, 6)"
       ]
      },
      {
       "output_type": "stream",
       "stream": "stdout",
       "text": [
        " 2014-12-13\n",
        "(0.0, 0.1797866299901979, 10)"
       ]
      },
      {
       "output_type": "stream",
       "stream": "stdout",
       "text": [
        " 2014-12-13\n",
        "(0.0, 0.55048188256318031, 10)"
       ]
      },
      {
       "output_type": "stream",
       "stream": "stdout",
       "text": [
        " 2014-12-13\n",
        "(0.54772255750516619, 0.66666666666666663, 4)"
       ]
      },
      {
       "output_type": "stream",
       "stream": "stdout",
       "text": [
        " 2014-12-13\n",
        "(0.33333333333333326, 0.33333333333333326, 3)"
       ]
      },
      {
       "output_type": "stream",
       "stream": "stdout",
       "text": [
        " 2014-12-13\n",
        "(0.68601286868900258, 0.63158617693953589, 15)"
       ]
      },
      {
       "output_type": "stream",
       "stream": "stdout",
       "text": [
        " 2014-12-14\n",
        "(0.0, 0.73786478737262184, 5)"
       ]
      },
      {
       "output_type": "stream",
       "stream": "stdout",
       "text": [
        " 2014-12-14\n",
        "(0.4776735049509358, 0.54545454545454553, 21)"
       ]
      },
      {
       "output_type": "stream",
       "stream": "stdout",
       "text": [
        " 2014-12-14\n",
        "(0.0, 0.73333333333333328, 6)"
       ]
      },
      {
       "output_type": "stream",
       "stream": "stdout",
       "text": [
        " 2014-12-14\n",
        "(0.50000000000000011, 0.4285714285714286, 8)"
       ]
      },
      {
       "output_type": "stream",
       "stream": "stdout",
       "text": [
        " 2014-12-14\n",
        "(0.84866842479150562, 0.69006555934235436, 6)"
       ]
      },
      {
       "output_type": "stream",
       "stream": "stdout",
       "text": [
        " 2014-12-14\n",
        "(0.81649658092772615, 0.33333333333333326, 3)"
       ]
      },
      {
       "output_type": "stream",
       "stream": "stdout",
       "text": [
        " 2014-12-14\n",
        "(0.61558701125109272, 0.68313005106397329, 7)"
       ]
      },
      {
       "output_type": "stream",
       "stream": "stdout",
       "text": [
        " 2014-12-14\n",
        "(-0.99999999999999989, -0.33333333333333326, 3)"
       ]
      },
      {
       "output_type": "stream",
       "stream": "stdout",
       "text": [
        " 2014-12-14\n",
        "(1.0, 1.0, 2)"
       ]
      },
      {
       "output_type": "stream",
       "stream": "stdout",
       "text": [
        " 2014-12-14\n",
        "(0.93094933625126275, 0.33333333333333331, 6)"
       ]
      },
      {
       "output_type": "stream",
       "stream": "stdout",
       "text": [
        " 2014-12-14\n",
        "(0.17817416127494959, 0.55205244747388349, 6)"
       ]
      },
      {
       "output_type": "stream",
       "stream": "stdout",
       "text": [
        " 2014-12-14\n",
        "(0.0, 0.69102331908064241, 8)"
       ]
      },
      {
       "output_type": "stream",
       "stream": "stdout",
       "text": [
        " 2014-12-14\n",
        "(0.32389460059862885, 0.43918959020251158, 39)"
       ]
      },
      {
       "output_type": "stream",
       "stream": "stdout",
       "text": [
        " 2014-12-14\n",
        "(0.0, -1.0, 2)"
       ]
      },
      {
       "output_type": "stream",
       "stream": "stdout",
       "text": [
        " 2014-12-14\n",
        "(0.63245553203367577, 0.10540925533894598, 5)"
       ]
      },
      {
       "output_type": "stream",
       "stream": "stdout",
       "text": [
        " 2014-12-14\n",
        "(1.0, -1.0, 2)"
       ]
      },
      {
       "output_type": "stream",
       "stream": "stdout",
       "text": [
        " 2014-12-14\n",
        "(0.50000000000000011, 0.41576092031015, 8)"
       ]
      },
      {
       "output_type": "stream",
       "stream": "stdout",
       "text": [
        " 2014-12-14\n",
        "(0.43353916129867914, 0.49180409455260976, 24)"
       ]
      },
      {
       "output_type": "stream",
       "stream": "stdout",
       "text": [
        " 2014-12-14\n",
        "(0.0, 0.33333333333333326, 3)"
       ]
      },
      {
       "output_type": "stream",
       "stream": "stdout",
       "text": [
        " 2014-12-14\n",
        "(0.74249951957472282, 0.67308470192991188, 21)"
       ]
      },
      {
       "output_type": "stream",
       "stream": "stdout",
       "text": [
        " 2014-12-14\n",
        "(0.70710678118654757, 0.66666666666666663, 4)"
       ]
      },
      {
       "output_type": "stream",
       "stream": "stdout",
       "text": [
        " 2014-12-14\n",
        "(0.0, 0.0, 1)"
       ]
      },
      {
       "output_type": "stream",
       "stream": "stdout",
       "text": [
        " 2014-12-14\n",
        "(0.33333333333333326, 0.99999999999999989, 3)"
       ]
      },
      {
       "output_type": "stream",
       "stream": "stdout",
       "text": [
        " 2014-12-14\n",
        "(0.81649658092772615, 0.33333333333333326, 3)"
       ]
      },
      {
       "output_type": "stream",
       "stream": "stdout",
       "text": [
        " 2014-12-14\n",
        "(0.0, -0.08989331499509895, 10)"
       ]
      },
      {
       "output_type": "stream",
       "stream": "stdout",
       "text": [
        " 2014-12-14\n",
        "(0.0, 0.30792014356780034, 8)"
       ]
      },
      {
       "output_type": "stream",
       "stream": "stdout",
       "text": [
        " 2014-12-14\n",
        "(0.0, 0.0, 2)"
       ]
      },
      {
       "output_type": "stream",
       "stream": "stdout",
       "text": [
        " 2014-12-14\n",
        "(0.079524277248754396, 0.45454545454545442, 11)"
       ]
      },
      {
       "output_type": "stream",
       "stream": "stdout",
       "text": [
        " 2014-12-14\n",
        "(0.58321184351980437, 0.23809523809523808, 7)"
       ]
      },
      {
       "output_type": "stream",
       "stream": "stdout",
       "text": [
        " 2014-12-14\n",
        "(0.22614412777205145, 0.51675232658689307, 15)"
       ]
      },
      {
       "output_type": "stream",
       "stream": "stdout",
       "text": [
        " 2014-12-14\n",
        "(0.0, 0.0, 1)"
       ]
      },
      {
       "output_type": "stream",
       "stream": "stdout",
       "text": [
        " 2014-12-14\n",
        "(0.54494926091306595, 0.20000000000000001, 6)"
       ]
      },
      {
       "output_type": "stream",
       "stream": "stdout",
       "text": [
        " 2014-12-14\n",
        "(0.0, 0.0, 3)"
       ]
      },
      {
       "output_type": "stream",
       "stream": "stdout",
       "text": [
        " 2014-12-14\n",
        "(0.68848699110263722, 0.55555555555555558, 9)"
       ]
      },
      {
       "output_type": "stream",
       "stream": "stdout",
       "text": [
        " 2014-12-14\n",
        "(0.0, 1.0, 2)"
       ]
      },
      {
       "output_type": "stream",
       "stream": "stdout",
       "text": [
        " 2014-12-14\n",
        "(0.0, 1.0, 2)"
       ]
      },
      {
       "output_type": "stream",
       "stream": "stdout",
       "text": [
        " 2014-12-14\n",
        "(-0.15430334996209191, 0.28571428571428575, 8)"
       ]
      },
      {
       "output_type": "stream",
       "stream": "stdout",
       "text": [
        " 2014-12-14\n",
        "(0.0, 0.0, 1)"
       ]
      },
      {
       "output_type": "stream",
       "stream": "stdout",
       "text": [
        " 2014-12-14\n",
        "(0.2296529973345624, 0.40001097438852284, 17)"
       ]
      },
      {
       "output_type": "stream",
       "stream": "stdout",
       "text": [
        " 2014-12-14\n",
        "(0.3670584895244009, 0.38181818181818172, 11)"
       ]
      },
      {
       "output_type": "stream",
       "stream": "stdout",
       "text": [
        " 2014-12-14\n",
        "(0.93094933625126275, 0.8666666666666667, 6)"
       ]
      },
      {
       "output_type": "stream",
       "stream": "stdout",
       "text": [
        " 2014-12-14\n",
        "(0.54772255750516619, 0.78072005835882663, 7)"
       ]
      },
      {
       "output_type": "stream",
       "stream": "stdout",
       "text": [
        " 2014-12-14\n",
        "(0.43962647617546563, -0.13144359441215236, 20)"
       ]
      },
      {
       "output_type": "stream",
       "stream": "stdout",
       "text": [
        " 2014-12-14\n",
        "(0.42678623873387772, 0.42302989716664541, 26)"
       ]
      },
      {
       "output_type": "stream",
       "stream": "stdout",
       "text": [
        " 2014-12-14\n",
        "(0.4355066838685534, 0.14184105300093899, 26)"
       ]
      },
      {
       "output_type": "stream",
       "stream": "stdout",
       "text": [
        " 2014-12-14\n",
        "(0.59591298057336117, 0.27749116656856249, 33)"
       ]
      },
      {
       "output_type": "stream",
       "stream": "stdout",
       "text": [
        " 2014-12-14\n",
        "(0.0, 0.0, 1)"
       ]
      },
      {
       "output_type": "stream",
       "stream": "stdout",
       "text": [
        " 2014-12-14\n",
        "(0.0, 1.0, 2)"
       ]
      },
      {
       "output_type": "stream",
       "stream": "stdout",
       "text": [
        " 2014-12-14\n",
        "(0.0, 0.33333333333333326, 3)"
       ]
      },
      {
       "output_type": "stream",
       "stream": "stdout",
       "text": [
        " 2014-12-14\n",
        "(0.81649658092772615, 0.99999999999999989, 3)"
       ]
      },
      {
       "output_type": "stream",
       "stream": "stdout",
       "text": [
        " 2014-12-14\n",
        "(0.50362199773051941, 0.53039483530543685, 14)"
       ]
      },
      {
       "output_type": "stream",
       "stream": "stdout",
       "text": [
        " 2014-12-14\n",
        "(0.0, 0.0, 8)"
       ]
      },
      {
       "output_type": "stream",
       "stream": "stdout",
       "text": [
        " 2014-12-14\n",
        "(0.0, -0.15000000000000002, 7)"
       ]
      },
      {
       "output_type": "stream",
       "stream": "stdout",
       "text": [
        " 2014-12-16\n",
        "(0.0, 0.15811388300841897, 7)"
       ]
      },
      {
       "output_type": "stream",
       "stream": "stdout",
       "text": [
        " 2014-12-16\n",
        "(0.0, 0.71130329744236453, 16)"
       ]
      },
      {
       "output_type": "stream",
       "stream": "stdout",
       "text": [
        " 2014-12-16\n",
        "(0.54292050207582498, 0.29692299558323598, 20)"
       ]
      },
      {
       "output_type": "stream",
       "stream": "stdout",
       "text": [
        " 2014-12-18\n",
        "(0.23732222626728366, 0.53821344421273143, 31)"
       ]
      },
      {
       "output_type": "stream",
       "stream": "stdout",
       "text": [
        " 2014-12-19\n",
        "(0.31706324373711398, 0.51064552185850343, 20)"
       ]
      },
      {
       "output_type": "stream",
       "stream": "stdout",
       "text": [
        " 2014-12-19\n",
        "(0.0, 0.55384615384615399, 12)"
       ]
      },
      {
       "output_type": "stream",
       "stream": "stdout",
       "text": [
        " 2014-12-19\n",
        "(0.48507510809637605, 0.53077726316739582, 32)"
       ]
      },
      {
       "output_type": "stream",
       "stream": "stdout",
       "text": [
        " 2014-12-19\n",
        "(0.0, 0.5504818825631802, 11)"
       ]
      },
      {
       "output_type": "stream",
       "stream": "stdout",
       "text": [
        " 2014-12-19\n",
        "(0.68346764933072102, 0.59824304161611852, 19)"
       ]
      },
      {
       "output_type": "stream",
       "stream": "stdout",
       "text": [
        " 2014-12-19\n",
        "(0.54845431809534806, 0.58430654746814314, 10)"
       ]
      },
      {
       "output_type": "stream",
       "stream": "stdout",
       "text": [
        " 2014-12-19\n",
        "(0.0, 0.41403933560541262, 6)"
       ]
      },
      {
       "output_type": "stream",
       "stream": "stdout",
       "text": [
        " 2014-12-19\n",
        "(0.47149516679144476, 0.71757815944913961, 12)"
       ]
      },
      {
       "output_type": "stream",
       "stream": "stdout",
       "text": [
        " 2014-12-19\n",
        "(0.0, -1.0, 2)"
       ]
      },
      {
       "output_type": "stream",
       "stream": "stdout",
       "text": [
        " 2014-12-19\n",
        "(0.0, 0.47329623282815592, 12)"
       ]
      },
      {
       "output_type": "stream",
       "stream": "stdout",
       "text": [
        " 2014-12-19\n",
        "(0.0, 0.036369648372665389, 8)"
       ]
      },
      {
       "output_type": "stream",
       "stream": "stdout",
       "text": [
        " 2014-12-19\n",
        "(0.0, -0.047619047619047616, 7)"
       ]
      },
      {
       "output_type": "stream",
       "stream": "stdout",
       "text": [
        " 2014-12-20\n",
        "(0.58687216191583391, 0.51190879244463128, 23)"
       ]
      },
      {
       "output_type": "stream",
       "stream": "stdout",
       "text": [
        " 2014-12-20\n",
        "(0.40451991747794536, 0.35000000000000009, 7)"
       ]
      },
      {
       "output_type": "stream",
       "stream": "stdout",
       "text": [
        " 2014-12-20\n",
        "(0.61328465493482986, 0.49038461538461547, 15)"
       ]
      },
      {
       "output_type": "stream",
       "stream": "stdout",
       "text": [
        " 2014-12-20\n",
        "(0.0, -0.62994078834871203, 5)"
       ]
      },
      {
       "output_type": "stream",
       "stream": "stdout",
       "text": [
        " 2014-12-20\n",
        "(0.81649658092772615, 0.99999999999999989, 3)"
       ]
      },
      {
       "output_type": "stream",
       "stream": "stdout",
       "text": [
        " 2014-12-20\n",
        "(0.57975090436420285, 0.78072005835882663, 7)"
       ]
      },
      {
       "output_type": "stream",
       "stream": "stdout",
       "text": [
        " 2014-12-20\n",
        "(0.56711137600279504, 0.62170355305204472, 19)"
       ]
      },
      {
       "output_type": "stream",
       "stream": "stdout",
       "text": [
        " 2014-12-20\n",
        "(0.11547005383792516, 0.4879500364742666, 7)"
       ]
      },
      {
       "output_type": "stream",
       "stream": "stdout",
       "text": [
        " 2014-12-20\n",
        "(0.0, 0.11547005383792516, 7)"
       ]
      },
      {
       "output_type": "stream",
       "stream": "stdout",
       "text": [
        " 2014-12-20\n",
        "(0.0, 0.0, 2)"
       ]
      },
      {
       "output_type": "stream",
       "stream": "stdout",
       "text": [
        " 2014-12-20\n",
        "(0.0, 0.0, 6)"
       ]
      },
      {
       "output_type": "stream",
       "stream": "stdout",
       "text": [
        " 2014-12-20\n",
        "(0.0, 0.13801311186847087, 6)"
       ]
      },
      {
       "output_type": "stream",
       "stream": "stdout",
       "text": [
        " 2014-12-20\n",
        "(0.0, 0.32732683535398854, 8)"
       ]
      },
      {
       "output_type": "stream",
       "stream": "stdout",
       "text": [
        " 2014-12-20\n",
        "(0.0, -0.57975090436420318, 14)"
       ]
      },
      {
       "output_type": "stream",
       "stream": "stdout",
       "text": [
        " 2014-12-20\n",
        "(0.0, 0.26148818018424536, 11)"
       ]
      },
      {
       "output_type": "stream",
       "stream": "stdout",
       "text": [
        " 2014-12-20\n",
        "(0.0, 0.13801311186847087, 6)"
       ]
      },
      {
       "output_type": "stream",
       "stream": "stdout",
       "text": [
        " 2014-12-20\n",
        "(0.0, 0.44946657497549475, 10)"
       ]
      },
      {
       "output_type": "stream",
       "stream": "stdout",
       "text": [
        " 2014-12-20\n",
        "(0.48995593493886597, 0.40451991747794525, 10)"
       ]
      },
      {
       "output_type": "stream",
       "stream": "stdout",
       "text": [
        " 2014-12-20\n",
        "(0.6772962119561563, 0.70429521227376379, 9)"
       ]
      },
      {
       "output_type": "stream",
       "stream": "stdout",
       "text": [
        " 2014-12-20\n",
        "(0.53816165602914046, 0.53179226288378534, 30)"
       ]
      },
      {
       "output_type": "stream",
       "stream": "stdout",
       "text": [
        " 2014-12-20\n",
        "(0.0, 0.0, 3)"
       ]
      },
      {
       "output_type": "stream",
       "stream": "stdout",
       "text": [
        " 2014-12-20\n",
        "(0.47953816073791905, 0.59414746021656339, 16)"
       ]
      },
      {
       "output_type": "stream",
       "stream": "stdout",
       "text": [
        " 2014-12-20\n",
        "(0.7745966692414834, 0.91287092917527701, 4)"
       ]
      },
      {
       "output_type": "stream",
       "stream": "stdout",
       "text": [
        " 2014-12-20\n",
        "(0.0, 0.052704627669472988, 7)"
       ]
      },
      {
       "output_type": "stream",
       "stream": "stdout",
       "text": [
        " 2014-12-20\n",
        "(0.0, 0.0, 3)"
       ]
      },
      {
       "output_type": "stream",
       "stream": "stdout",
       "text": [
        " 2014-12-20\n",
        "(0.0, 0.0, 3)"
       ]
      },
      {
       "output_type": "stream",
       "stream": "stdout",
       "text": [
        " 2014-12-20\n",
        "(0.0, 0.0, 3)"
       ]
      },
      {
       "output_type": "stream",
       "stream": "stdout",
       "text": [
        " 2014-12-20\n",
        "(0.0, 0.0, 3)"
       ]
      },
      {
       "output_type": "stream",
       "stream": "stdout",
       "text": [
        " 2014-12-20\n",
        "(0.0, 0.0, 1)"
       ]
      },
      {
       "output_type": "stream",
       "stream": "stdout",
       "text": [
        " 2014-12-20\n",
        "(0.18257418583505539, 0.66666666666666663, 4)"
       ]
      },
      {
       "output_type": "stream",
       "stream": "stdout",
       "text": [
        " 2014-12-20\n",
        "(0.0, 0.0, 3)"
       ]
      },
      {
       "output_type": "stream",
       "stream": "stdout",
       "text": [
        " 2014-12-20\n",
        "(0.0, 0.23596995186213468, 14)"
       ]
      },
      {
       "output_type": "stream",
       "stream": "stdout",
       "text": [
        " 2014-12-20\n",
        "(0.0, 0.30622360094038104, 15)"
       ]
      },
      {
       "output_type": "stream",
       "stream": "stdout",
       "text": [
        " 2014-12-20\n",
        "(0.3550358012483632, 0.66109365291702116, 16)"
       ]
      },
      {
       "output_type": "stream",
       "stream": "stdout",
       "text": [
        " 2014-12-20\n",
        "(0.66349067883267709, 0.58825606477121251, 16)"
       ]
      },
      {
       "output_type": "stream",
       "stream": "stdout",
       "text": [
        " 2014-12-20\n",
        "(0.28000852634099749, 0.50192855890860377, 18)"
       ]
      },
      {
       "output_type": "stream",
       "stream": "stdout",
       "text": [
        " 2014-12-20\n",
        "(-0.07715167498104597, 0.64285714285714302, 6)"
       ]
      },
      {
       "output_type": "stream",
       "stream": "stdout",
       "text": [
        " 2014-12-20\n",
        "(0.0, 0.33333333333333326, 3)"
       ]
      },
      {
       "output_type": "stream",
       "stream": "stdout",
       "text": [
        " 2014-12-21\n",
        "(0.0, 0.816982446237566, 9)"
       ]
      },
      {
       "output_type": "stream",
       "stream": "stdout",
       "text": [
        " 2014-12-21\n",
        "(0.7488837881633349, 0.76130616678645135, 13)"
       ]
      },
      {
       "output_type": "stream",
       "stream": "stdout",
       "text": [
        " 2014-12-21\n",
        "(-0.054744890145135866, 0.42581531362632025, 13)"
       ]
      },
      {
       "output_type": "stream",
       "stream": "stdout",
       "text": [
        " 2014-12-21\n",
        "(0.0, 0.13483997249264842, 10)"
       ]
      },
      {
       "output_type": "stream",
       "stream": "stdout",
       "text": [
        " 2014-12-21\n",
        "(0.0, 0.23883257361061297, 19)"
       ]
      },
      {
       "output_type": "stream",
       "stream": "stdout",
       "text": [
        " 2014-12-21\n",
        "(0.56354451251202675, 0.68704291862151667, 12)"
       ]
      },
      {
       "output_type": "stream",
       "stream": "stdout",
       "text": [
        " 2014-12-21\n",
        "(0.33348011518510695, 0.32454368473109052, 39)"
       ]
      },
      {
       "output_type": "stream",
       "stream": "stdout",
       "text": [
        " 2014-12-21\n",
        "(0.35331828755440869, 0.5409279902012033, 52)"
       ]
      },
      {
       "output_type": "stream",
       "stream": "stdout",
       "text": [
        " 2014-12-21\n",
        "(0.55965188043347747, 0.5393598899705937, 10)"
       ]
      },
      {
       "output_type": "stream",
       "stream": "stdout",
       "text": [
        " 2014-12-21\n",
        "(0.66029564451407019, 0.77777777777777779, 9)"
       ]
      },
      {
       "output_type": "stream",
       "stream": "stdout",
       "text": [
        " 2014-12-21\n",
        "(0.5774647206268072, 0.44019642635179779, 15)"
       ]
      },
      {
       "output_type": "stream",
       "stream": "stdout",
       "text": [
        " 2014-12-21\n",
        "(0.48005800234839213, 0.39913326008660249, 22)"
       ]
      },
      {
       "output_type": "stream",
       "stream": "stdout",
       "text": [
        " 2014-12-21\n",
        "(0.0, 0.48007935851918326, 9)"
       ]
      },
      {
       "output_type": "stream",
       "stream": "stdout",
       "text": [
        " 2014-12-21\n",
        "(0.77005354108682045, 0.58552631578947367, 18)"
       ]
      },
      {
       "output_type": "stream",
       "stream": "stdout",
       "text": [
        " 2014-12-24\n",
        "(0.66666666666666663, 0.77777777777777768, 5)"
       ]
      },
      {
       "output_type": "stream",
       "stream": "stdout",
       "text": [
        " 2014-12-24\n",
        "(0.0, 0.13801311186847087, 6)"
       ]
      },
      {
       "output_type": "stream",
       "stream": "stdout",
       "text": [
        " 2014-12-27\n",
        "(0.0, 0.73786478737262184, 5)"
       ]
      },
      {
       "output_type": "stream",
       "stream": "stdout",
       "text": [
        " 2014-12-27\n",
        "(0.0, 0.66666666666666663, 9)"
       ]
      },
      {
       "output_type": "stream",
       "stream": "stdout",
       "text": [
        " 2014-12-27\n",
        "(0.57735026918962584, 0.46666666666666667, 6)"
       ]
      },
      {
       "output_type": "stream",
       "stream": "stdout",
       "text": [
        " 2014-12-27\n",
        "(0.52045610267156328, 0.55082263275524368, 18)"
       ]
      },
      {
       "output_type": "stream",
       "stream": "stdout",
       "text": [
        " 2014-12-27\n",
        "(0.58975258021701094, 0.44019642635179779, 15)"
       ]
      },
      {
       "output_type": "stream",
       "stream": "stdout",
       "text": [
        " 2014-12-27\n",
        "(0.4901136460247737, 0.68260869565217375, 22)"
       ]
      },
      {
       "output_type": "stream",
       "stream": "stdout",
       "text": [
        " 2014-12-27\n",
        "(0.0, 0.2187767077712979, 12)"
       ]
      },
      {
       "output_type": "stream",
       "stream": "stdout",
       "text": [
        " 2014-12-27\n",
        "(0.0, -0.33333333333333326, 3)"
       ]
      },
      {
       "output_type": "stream",
       "stream": "stdout",
       "text": [
        " 2014-12-27\n",
        "(0.0, -0.32897584747988451, 13)"
       ]
      },
      {
       "output_type": "stream",
       "stream": "stdout",
       "text": [
        " 2014-12-27\n",
        "(0.0, -0.50035637923270171, 19)"
       ]
      },
      {
       "output_type": "stream",
       "stream": "stdout",
       "text": [
        " 2014-12-27\n",
        "(0.33777797401776161, -0.33108863888828138, 18)"
       ]
      },
      {
       "output_type": "stream",
       "stream": "stdout",
       "text": [
        " 2014-12-27\n",
        "(0.0, -0.28297266548513961, 19)"
       ]
      },
      {
       "output_type": "stream",
       "stream": "stdout",
       "text": [
        " 2014-12-27\n",
        "(0.46401616866730944, 0.4909090909090908, 11)"
       ]
      },
      {
       "output_type": "stream",
       "stream": "stdout",
       "text": [
        " 2014-12-27\n",
        "(0.21350420507344958, 0.40006613209931929, 8)"
       ]
      },
      {
       "output_type": "stream",
       "stream": "stdout",
       "text": [
        " 2014-12-28\n",
        "(0.42650726232510205, 0.45075188022357016, 25)"
       ]
      },
      {
       "output_type": "stream",
       "stream": "stdout",
       "text": [
        " 2014-12-28\n",
        "(0.0, 0.0, 11)"
       ]
      },
      {
       "output_type": "stream",
       "stream": "stdout",
       "text": [
        " 2014-12-28\n",
        "(0.71252530319442531, 0.67272727272727251, 11)"
       ]
      },
      {
       "output_type": "stream",
       "stream": "stdout",
       "text": [
        " 2014-12-30\n",
        "(0.52912890076793628, 0.60866033385277696, 50)"
       ]
      },
      {
       "output_type": "stream",
       "stream": "stdout",
       "text": [
        " 2015-01-01\n",
        "(0.40373925714355463, 0.63593085136683658, 36)"
       ]
      },
      {
       "output_type": "stream",
       "stream": "stdout",
       "text": [
        " 2015-01-01\n",
        "(0.43608471935772697, 0.65068854844421375, 48)"
       ]
      },
      {
       "output_type": "stream",
       "stream": "stdout",
       "text": [
        " 2015-01-01\n",
        "(0.5018411747582443, 0.69508570323875984, 18)"
       ]
      },
      {
       "output_type": "stream",
       "stream": "stdout",
       "text": [
        " 2015-01-01\n",
        "(0.81649658092772615, 0.33333333333333326, 3)"
       ]
      },
      {
       "output_type": "stream",
       "stream": "stdout",
       "text": [
        " 2015-01-01\n",
        "(-0.18257418583505539, -0.097590007294853329, 7)"
       ]
      },
      {
       "output_type": "stream",
       "stream": "stdout",
       "text": [
        " 2015-01-01\n",
        "(0.25654733755151643, 0.53959176302630296, 19)"
       ]
      },
      {
       "output_type": "stream",
       "stream": "stdout",
       "text": [
        " 2015-01-02\n",
        "(0.51987512192171881, 0.43620823624772392, 38)"
       ]
      },
      {
       "output_type": "stream",
       "stream": "stdout",
       "text": [
        " 2015-01-02\n",
        "(0.33997835854791747, 0.32971878007154121, 22)"
       ]
      },
      {
       "output_type": "stream",
       "stream": "stdout",
       "text": [
        " 2015-01-02\n",
        "(0.017200522903844533, 0.381690510345287, 12)"
       ]
      },
      {
       "output_type": "stream",
       "stream": "stdout",
       "text": [
        " 2015-01-02\n",
        "(0.43069868239124004, 0.53039483530543685, 14)"
       ]
      },
      {
       "output_type": "stream",
       "stream": "stdout",
       "text": [
        " 2015-01-02\n",
        "(0.60297738827358283, 0.65072515199830971, 15)"
       ]
      },
      {
       "output_type": "stream",
       "stream": "stdout",
       "text": [
        " 2015-01-02\n",
        "(0.4986705393589948, 0.5397485651319659, 45)"
       ]
      },
      {
       "output_type": "stream",
       "stream": "stdout",
       "text": [
        " 2015-01-02\n",
        "(0.42074489626641004, 0.53069410978262943, 23)"
       ]
      },
      {
       "output_type": "stream",
       "stream": "stdout",
       "text": [
        " 2015-01-02\n",
        "(0.0, 0.39866052577348682, 25)"
       ]
      },
      {
       "output_type": "stream",
       "stream": "stdout",
       "text": [
        " 2015-01-02\n",
        "(0.43033148291193518, 0.22019275302527208, 11)"
       ]
      },
      {
       "output_type": "stream",
       "stream": "stdout",
       "text": [
        " 2015-01-02\n",
        "(0.0, 0.1679438245519263, 12)"
       ]
      },
      {
       "output_type": "stream",
       "stream": "stdout",
       "text": [
        " 2015-01-02\n",
        "(0.33753073004156242, 0.30131291655720716, 22)"
       ]
      },
      {
       "output_type": "stream",
       "stream": "stdout",
       "text": [
        " 2015-01-02\n",
        "(0.10379566554199116, 0.24267994853915967, 16)"
       ]
      },
      {
       "output_type": "stream",
       "stream": "stdout",
       "text": [
        " 2015-01-02\n",
        "(0.16984155512168936, 0.14423076923076925, 15)"
       ]
      },
      {
       "output_type": "stream",
       "stream": "stdout",
       "text": [
        " 2015-01-02\n",
        "(0.63124172645359666, 0.72818966004432861, 15)"
       ]
      },
      {
       "output_type": "stream",
       "stream": "stdout",
       "text": [
        " 2015-01-03\n",
        "(0.21580964991875085, 0.42179782648558262, 41)"
       ]
      },
      {
       "output_type": "stream",
       "stream": "stdout",
       "text": [
        " 2015-01-03\n",
        "(0.0, 1.0, 2)"
       ]
      },
      {
       "output_type": "stream",
       "stream": "stdout",
       "text": [
        " 2015-01-03\n",
        "(0.3384173692195388, 0.48287541619554419, 26)"
       ]
      },
      {
       "output_type": "stream",
       "stream": "stdout",
       "text": [
        " 2015-01-03\n",
        "(0.71813249871753182, 0.17142857142857146, 9)"
       ]
      },
      {
       "output_type": "stream",
       "stream": "stdout",
       "text": [
        " 2015-01-03\n",
        "(0.0, 0.12309149097933271, 8)"
       ]
      },
      {
       "output_type": "stream",
       "stream": "stdout",
       "text": [
        " 2015-01-03\n",
        "(0.0, 0.99999999999999989, 3)"
       ]
      },
      {
       "output_type": "stream",
       "stream": "stdout",
       "text": [
        " 2015-01-03\n",
        "(-0.22222222222222218, 0.31622776601683794, 5)"
       ]
      },
      {
       "output_type": "stream",
       "stream": "stdout",
       "text": [
        " 2015-01-03\n",
        "(0.38638962152148992, 0.54807692307692313, 15)"
       ]
      },
      {
       "output_type": "stream",
       "stream": "stdout",
       "text": [
        " 2015-01-03\n",
        "(0.62229037360587336, 0.65546218487394947, 16)"
       ]
      },
      {
       "output_type": "stream",
       "stream": "stdout",
       "text": [
        " 2015-01-03\n",
        "(0.18871283902409933, 0.76376261582597327, 8)"
       ]
      },
      {
       "output_type": "stream",
       "stream": "stdout",
       "text": [
        " 2015-01-03\n",
        "(0.3891301478973111, 0.53233142894649799, 37)"
       ]
      },
      {
       "output_type": "stream",
       "stream": "stdout",
       "text": [
        " 2015-01-03\n",
        "(0.67623160949748284, 0.68388520067257486, 13)"
       ]
      },
      {
       "output_type": "stream",
       "stream": "stdout",
       "text": [
        " 2015-01-03\n",
        "(0.74451235217015477, 0.76555900235095264, 15)"
       ]
      },
      {
       "output_type": "stream",
       "stream": "stdout",
       "text": [
        " 2015-01-03\n",
        "(0.60201830163455872, 0.59543719613864776, 12)"
       ]
      },
      {
       "output_type": "stream",
       "stream": "stdout",
       "text": [
        " 2015-01-03\n",
        "(0.45000000000000007, 0.29277002188455997, 7)"
       ]
      },
      {
       "output_type": "stream",
       "stream": "stdout",
       "text": [
        " 2015-01-03\n",
        "(0.0, 0.54554472558998091, 8)"
       ]
      },
      {
       "output_type": "stream",
       "stream": "stdout",
       "text": [
        " 2015-01-03\n",
        "(0.41290573175632983, 0.58333333333333326, 23)"
       ]
      },
      {
       "output_type": "stream",
       "stream": "stdout",
       "text": [
        " 2015-01-03\n",
        "(0.55205244747388349, 0.066666666666666666, 6)"
       ]
      },
      {
       "output_type": "stream",
       "stream": "stdout",
       "text": [
        " 2015-01-04\n",
        "(0.57077137906457553, 0.61290322580645185, 31)"
       ]
      },
      {
       "output_type": "stream",
       "stream": "stdout",
       "text": [
        " 2015-01-04\n",
        "(0.36270835808866114, 0.4878050505740299, 35)"
       ]
      },
      {
       "output_type": "stream",
       "stream": "stdout",
       "text": [
        " 2015-01-04\n",
        "(0.46811072521405034, 0.52786150730833992, 19)"
       ]
      },
      {
       "output_type": "stream",
       "stream": "stdout",
       "text": [
        " 2015-01-04\n",
        "(0.51088519412025202, 0.6170549807253588, 67)"
       ]
      },
      {
       "output_type": "stream",
       "stream": "stdout",
       "text": [
        " 2015-01-04\n",
        "(0.27905467565549114, 0.39913326008660249, 22)"
       ]
      },
      {
       "output_type": "stream",
       "stream": "stdout",
       "text": [
        " 2015-01-04\n",
        "(-0.5656854249492379, 0.0, 7)"
       ]
      },
      {
       "output_type": "stream",
       "stream": "stdout",
       "text": [
        " 2015-01-04\n",
        "(0.2696799449852969, 0.58554004376911994, 7)"
       ]
      },
      {
       "output_type": "stream",
       "stream": "stdout",
       "text": [
        " 2015-01-04\n",
        "(0.65346403921307117, 0.76376261582597327, 8)"
       ]
      },
      {
       "output_type": "stream",
       "stream": "stdout",
       "text": [
        " 2015-01-07\n",
        "(-0.15075567228888181, 0.22473328748774737, 10)"
       ]
      },
      {
       "output_type": "stream",
       "stream": "stdout",
       "text": [
        " 2015-01-09\n",
        "(0.78571428571428592, 0.55205244747388349, 6)"
       ]
      },
      {
       "output_type": "stream",
       "stream": "stdout",
       "text": [
        " 2015-01-09\n",
        "(0.36228441865473598, 0.34300910954987257, 20)"
       ]
      },
      {
       "output_type": "stream",
       "stream": "stdout",
       "text": [
        " 2015-01-10\n",
        "(0.0, 0.36893239368631092, 7)"
       ]
      },
      {
       "output_type": "stream",
       "stream": "stdout",
       "text": [
        " 2015-01-10\n",
        "(0.0, -0.1528941574312877, 10)"
       ]
      },
      {
       "output_type": "stream",
       "stream": "stdout",
       "text": [
        " 2015-01-10\n",
        "(0.35060034927953748, 0.44978594790423676, 22)"
       ]
      },
      {
       "output_type": "stream",
       "stream": "stdout",
       "text": [
        " 2015-01-10\n",
        "(0.47198631795566831, 0.29277002188455981, 15)"
       ]
      },
      {
       "output_type": "stream",
       "stream": "stdout",
       "text": [
        " 2015-01-10\n",
        "(0.54151616612083786, 0.57537437405703185, 30)"
       ]
      },
      {
       "output_type": "stream",
       "stream": "stdout",
       "text": [
        " 2015-01-10\n",
        "(0.2614881801842453, 0.19710413199636098, 15)"
       ]
      },
      {
       "output_type": "stream",
       "stream": "stdout",
       "text": [
        " 2015-01-10\n",
        "(0.44128997507904383, 0.11896237549589248, 20)"
       ]
      },
      {
       "output_type": "stream",
       "stream": "stdout",
       "text": [
        " 2015-01-10\n",
        "(0.40482045237636816, 0.40684995625684556, 26)"
       ]
      },
      {
       "output_type": "stream",
       "stream": "stdout",
       "text": [
        " 2015-01-10\n",
        "(0.61721339984836765, 0.47892074434615939, 9)"
       ]
      },
      {
       "output_type": "stream",
       "stream": "stdout",
       "text": [
        " 2015-01-10\n",
        "(0.0, -0.071428571428571452, 6)"
       ]
      },
      {
       "output_type": "stream",
       "stream": "stdout",
       "text": [
        " 2015-01-11\n",
        "(0.0, 0.53298338560826353, 20)"
       ]
      },
      {
       "output_type": "stream",
       "stream": "stdout",
       "text": [
        " 2015-01-11\n",
        "(0.57254737088388774, 0.53770855789857841, 62)"
       ]
      },
      {
       "output_type": "stream",
       "stream": "stdout",
       "text": [
        " 2015-01-11\n",
        "(0.55992173897888364, 0.51443243424500906, 40)"
       ]
      },
      {
       "output_type": "stream",
       "stream": "stdout",
       "text": [
        " 2015-01-11\n",
        "(0.0, 0.13801311186847087, 6)"
       ]
      },
      {
       "output_type": "stream",
       "stream": "stdout",
       "text": [
        " 2015-01-11\n",
        "(0.22674269575741537, 0.36272392242846796, 24)"
       ]
      },
      {
       "output_type": "stream",
       "stream": "stdout",
       "text": [
        " 2015-01-11\n",
        "(0.65731453744350288, 0.28734835481262361, 20)"
       ]
      },
      {
       "output_type": "stream",
       "stream": "stdout",
       "text": [
        " 2015-01-11\n",
        "(0.0, 1.0, 2)"
       ]
      },
      {
       "output_type": "stream",
       "stream": "stdout",
       "text": [
        " 2015-01-11\n",
        "(0.0, -0.18257418583505539, 4)"
       ]
      },
      {
       "output_type": "stream",
       "stream": "stdout",
       "text": [
        " 2015-01-11\n",
        "(0.0, -0.33333333333333326, 3)"
       ]
      },
      {
       "output_type": "stream",
       "stream": "stdout",
       "text": [
        " 2015-01-11\n",
        "(0.45980048987170291, 0.85398649245343994, 10)"
       ]
      },
      {
       "output_type": "stream",
       "stream": "stdout",
       "text": [
        " 2015-01-11\n",
        "(0.32343061108289289, 0.42678197846541877, 16)"
       ]
      },
      {
       "output_type": "stream",
       "stream": "stdout",
       "text": [
        " 2015-01-11\n",
        "(0.5423261445466403, 0.78072005835882663, 7)"
       ]
      },
      {
       "output_type": "stream",
       "stream": "stdout",
       "text": [
        " 2015-01-16\n",
        "(0.30664684462892805, 0.37163010487460152, 25)"
       ]
      },
      {
       "output_type": "stream",
       "stream": "stdout",
       "text": [
        " 2015-01-16\n",
        "(0.63173805530579008, 0.76130616678645135, 13)"
       ]
      },
      {
       "output_type": "stream",
       "stream": "stdout",
       "text": [
        " 2015-01-16\n",
        "(0.0, 0.41403933560541262, 6)"
       ]
      },
      {
       "output_type": "stream",
       "stream": "stdout",
       "text": [
        " 2015-01-16\n",
        "(0.6712915871220495, 0.74754500159640203, 18)"
       ]
      },
      {
       "output_type": "stream",
       "stream": "stdout",
       "text": [
        " 2015-01-17\n",
        "(0.54524236465653397, 0.49085682022718119, 65)"
       ]
      },
      {
       "output_type": "stream",
       "stream": "stdout",
       "text": [
        " 2015-01-17\n",
        "(0.38435931158358855, 0.52938812663430412, 71)"
       ]
      },
      {
       "output_type": "stream",
       "stream": "stdout",
       "text": [
        " 2015-01-17\n",
        "(0.41746223146315736, 0.4925445495224095, 65)"
       ]
      },
      {
       "output_type": "stream",
       "stream": "stdout",
       "text": [
        " 2015-01-17\n",
        "(0.51775196992507311, 0.53187095187586886, 106)"
       ]
      },
      {
       "output_type": "stream",
       "stream": "stdout",
       "text": [
        " 2015-01-17\n",
        "(0.0, -0.20370370370370366, 11)"
       ]
      },
      {
       "output_type": "stream",
       "stream": "stdout",
       "text": [
        " 2015-01-17\n",
        "(0.0, -0.33333333333333326, 3)"
       ]
      },
      {
       "output_type": "stream",
       "stream": "stdout",
       "text": [
        " 2015-01-17\n",
        "(-0.11219363880101486, 0.41222575117290999, 12)"
       ]
      },
      {
       "output_type": "stream",
       "stream": "stdout",
       "text": [
        " 2015-01-17\n",
        "(0.42603490649172099, 0.4652217885064947, 22)"
       ]
      },
      {
       "output_type": "stream",
       "stream": "stdout",
       "text": [
        " 2015-01-17\n",
        "(0.0, -0.36893239368631092, 7)"
       ]
      },
      {
       "output_type": "stream",
       "stream": "stdout",
       "text": [
        " 2015-01-17\n",
        "(0.0, 0.64795159529186264, 9)"
       ]
      },
      {
       "output_type": "stream",
       "stream": "stdout",
       "text": [
        " 2015-01-17\n",
        "(0.0, 0.10910894511799617, 8)"
       ]
      },
      {
       "output_type": "stream",
       "stream": "stdout",
       "text": [
        " 2015-01-17\n",
        "(0.26453314505031794, 0.38980028234910552, 24)"
       ]
      },
      {
       "output_type": "stream",
       "stream": "stdout",
       "text": [
        " 2015-01-17\n",
        "(0.56897882400689959, 0.69129528232358928, 20)"
       ]
      },
      {
       "output_type": "stream",
       "stream": "stdout",
       "text": [
        " 2015-01-17\n",
        "(0.48511237718644745, 0.45078505211149528, 27)"
       ]
      },
      {
       "output_type": "stream",
       "stream": "stdout",
       "text": [
        " 2015-01-17\n",
        "(0.68298908456567142, 0.61088400839167778, 16)"
       ]
      },
      {
       "output_type": "stream",
       "stream": "stdout",
       "text": [
        " 2015-01-17\n",
        "(0.71395096900890231, 0.65683104010890381, 17)"
       ]
      },
      {
       "output_type": "stream",
       "stream": "stdout",
       "text": [
        " 2015-01-17\n",
        "(0.69985421222376498, 0.69727705124669492, 11)"
       ]
      },
      {
       "output_type": "stream",
       "stream": "stdout",
       "text": [
        " 2015-01-17\n",
        "(0.0, 0.0, 4)"
       ]
      },
      {
       "output_type": "stream",
       "stream": "stdout",
       "text": [
        " 2015-01-17\n",
        "(0.0, 1.0, 2)"
       ]
      },
      {
       "output_type": "stream",
       "stream": "stdout",
       "text": [
        " 2015-01-17\n",
        "(0.0, 0.20000000000000004, 4)"
       ]
      },
      {
       "output_type": "stream",
       "stream": "stdout",
       "text": [
        " 2015-01-17\n",
        "(0.0, 0.54772255750516619, 4)"
       ]
      },
      {
       "output_type": "stream",
       "stream": "stdout",
       "text": [
        " 2015-01-17\n",
        "(0.43876345447627851, 0.58430654746814314, 10)"
       ]
      },
      {
       "output_type": "stream",
       "stream": "stdout",
       "text": [
        " 2015-01-17\n",
        "(0.58062447752997981, 0.64950622391306878, 23)"
       ]
      },
      {
       "output_type": "stream",
       "stream": "stdout",
       "text": [
        " 2015-01-17\n",
        "(0.0, 0.33333333333333326, 3)"
       ]
      },
      {
       "output_type": "stream",
       "stream": "stdout",
       "text": [
        " 2015-01-17\n",
        "(0.7745966692414834, 0.20000000000000004, 4)"
       ]
      },
      {
       "output_type": "stream",
       "stream": "stdout",
       "text": [
        " 2015-01-17\n",
        "(0.99999999999999989, -0.99999999999999989, 3)"
       ]
      },
      {
       "output_type": "stream",
       "stream": "stdout",
       "text": [
        " 2015-01-17\n",
        "(0.5910280008935771, 0.62437482668005639, 25)"
       ]
      },
      {
       "output_type": "stream",
       "stream": "stdout",
       "text": [
        " 2015-01-17\n",
        "(0.0, 0.13801311186847087, 6)"
       ]
      },
      {
       "output_type": "stream",
       "stream": "stdout",
       "text": [
        " 2015-01-17\n",
        "(0.0, 0.4879500364742666, 7)"
       ]
      },
      {
       "output_type": "stream",
       "stream": "stdout",
       "text": [
        " 2015-01-17\n",
        "(0.0, 0.097590007294853329, 7)"
       ]
      },
      {
       "output_type": "stream",
       "stream": "stdout",
       "text": [
        " 2015-01-17\n",
        "(0.64051261522034864, 0.63158617693953589, 15)"
       ]
      },
      {
       "output_type": "stream",
       "stream": "stdout",
       "text": [
        " 2015-01-17\n",
        "(0.65552022774114427, 0.61114883751242577, 14)"
       ]
      },
      {
       "output_type": "stream",
       "stream": "stdout",
       "text": [
        " 2015-01-17\n",
        "(0.0, 0.097590007294853329, 7)"
       ]
      },
      {
       "output_type": "stream",
       "stream": "stdout",
       "text": [
        " 2015-01-17\n",
        "(0.0, -0.44444444444444442, 8)"
       ]
      },
      {
       "output_type": "stream",
       "stream": "stdout",
       "text": [
        " 2015-01-17\n",
        "(0.60731275428119003, 0.41004543029030427, 16)"
       ]
      },
      {
       "output_type": "stream",
       "stream": "stdout",
       "text": [
        " 2015-01-17\n",
        "(0.0, -1.0, 2)"
       ]
      },
      {
       "output_type": "stream",
       "stream": "stdout",
       "text": [
        " 2015-01-17\n",
        "(0.0, -0.036369648372665389, 8)"
       ]
      },
      {
       "output_type": "stream",
       "stream": "stdout",
       "text": [
        " 2015-01-17\n",
        "(0.59106176087441031, 0.68635153629357359, 17)"
       ]
      },
      {
       "output_type": "stream",
       "stream": "stdout",
       "text": [
        " 2015-01-17\n",
        "(0.0, 0.73786478737262184, 5)"
       ]
      },
      {
       "output_type": "stream",
       "stream": "stdout",
       "text": [
        " 2015-01-17\n",
        "(0.0, 0.58554004376911994, 7)"
       ]
      },
      {
       "output_type": "stream",
       "stream": "stdout",
       "text": [
        " 2015-01-17\n",
        "(0.5337605126836239, 0.83650191257130402, 8)"
       ]
      },
      {
       "output_type": "stream",
       "stream": "stdout",
       "text": [
        " 2015-01-17\n",
        "(0.66030658386009988, 0.62925320496569259, 10)"
       ]
      },
      {
       "output_type": "stream",
       "stream": "stdout",
       "text": [
        " 2015-01-17\n",
        "(0.0, 0.33333333333333326, 3)"
       ]
      },
      {
       "output_type": "stream",
       "stream": "stdout",
       "text": [
        " 2015-01-17\n",
        "(0.48349377841522811, 0.69006555934235436, 6)"
       ]
      },
      {
       "output_type": "stream",
       "stream": "stdout",
       "text": [
        " 2015-01-17\n",
        "(0.19313482598422674, 0.19138975058773816, 15)"
       ]
      },
      {
       "output_type": "stream",
       "stream": "stdout",
       "text": [
        " 2015-01-17\n",
        "(0.47225030088994852, 0.49349463691367912, 47)"
       ]
      },
      {
       "output_type": "stream",
       "stream": "stdout",
       "text": [
        " 2015-01-17\n",
        "(0.57894223033908732, 0.49035843547512786, 61)"
       ]
      },
      {
       "output_type": "stream",
       "stream": "stdout",
       "text": [
        " 2015-01-17\n",
        "(0.0, -0.18257418583505539, 4)"
       ]
      },
      {
       "output_type": "stream",
       "stream": "stdout",
       "text": [
        " 2015-01-17\n",
        "(0.34954833672871766, 0.33968311024337877, 17)"
       ]
      },
      {
       "output_type": "stream",
       "stream": "stdout",
       "text": [
        " 2015-01-18\n",
        "(0.5452093947437231, 0.61185534673579378, 18)"
       ]
      },
      {
       "output_type": "stream",
       "stream": "stdout",
       "text": [
        " 2015-01-18\n",
        "(0.32726784160107997, 0.4464905142682567, 30)"
       ]
      },
      {
       "output_type": "stream",
       "stream": "stdout",
       "text": [
        " 2015-01-18\n",
        "(0.66401589407466288, 0.5, 14)"
       ]
      },
      {
       "output_type": "stream",
       "stream": "stdout",
       "text": [
        " 2015-01-18\n",
        "(0.56265265000688081, 0.44234066271418876, 18)"
       ]
      },
      {
       "output_type": "stream",
       "stream": "stdout",
       "text": [
        " 2015-01-18\n",
        "(0.0, 0.30578831486257541, 10)"
       ]
      },
      {
       "output_type": "stream",
       "stream": "stdout",
       "text": [
        " 2015-01-18\n",
        "(0.0, 0.0, 2)"
       ]
      },
      {
       "output_type": "stream",
       "stream": "stdout",
       "text": [
        " 2015-01-18\n",
        "(0.0, 0.11111111111111109, 5)"
       ]
      },
      {
       "output_type": "stream",
       "stream": "stdout",
       "text": [
        " 2015-01-18\n",
        "(0.0, 0.48850421045919717, 10)"
       ]
      },
      {
       "output_type": "stream",
       "stream": "stdout",
       "text": [
        " 2015-01-18\n",
        "(0.0, 0.0, 6)"
       ]
      },
      {
       "output_type": "stream",
       "stream": "stdout",
       "text": [
        " 2015-01-18\n",
        "(0.31706324373711398, 0.097153961087243057, 20)"
       ]
      },
      {
       "output_type": "stream",
       "stream": "stdout",
       "text": [
        " 2015-01-18\n",
        "(0.47471022133369212, 0.28782483780053086, 17)"
       ]
      },
      {
       "output_type": "stream",
       "stream": "stdout",
       "text": [
        " 2015-01-21\n",
        "(0.0, 0.29277002188455997, 7)"
       ]
      },
      {
       "output_type": "stream",
       "stream": "stdout",
       "text": [
        " 2015-01-22\n",
        "(0.0, 0.29090909090909078, 24)"
       ]
      },
      {
       "output_type": "stream",
       "stream": "stdout",
       "text": [
        " 2015-01-23\n",
        "(0.0, 0.088758950312090787, 19)"
       ]
      },
      {
       "output_type": "stream",
       "stream": "stdout",
       "text": [
        " 2015-01-23\n",
        "(-0.038778336716474064, 0.21347959504901701, 37)"
       ]
      },
      {
       "output_type": "stream",
       "stream": "stdout",
       "text": [
        " 2015-01-23\n",
        "(0.0, 0.47947061924549744, 28)"
       ]
      },
      {
       "output_type": "stream",
       "stream": "stdout",
       "text": [
        " 2015-01-23\n",
        "(0.31809343274054358, 0.37979875481918635, 32)"
       ]
      },
      {
       "output_type": "stream",
       "stream": "stdout",
       "text": [
        " 2015-01-23\n",
        "(0.43977513083544734, 0.53938101110662151, 21)"
       ]
      },
      {
       "output_type": "stream",
       "stream": "stdout",
       "text": [
        " 2015-01-23\n",
        "(0.42575377231882799, 0.59148223153417556, 46)"
       ]
      },
      {
       "output_type": "stream",
       "stream": "stdout",
       "text": [
        " 2015-01-23\n",
        "(0.44261615193852893, 0.54763731032973417, 89)"
       ]
      },
      {
       "output_type": "stream",
       "stream": "stdout",
       "text": [
        " 2015-01-23\n",
        "(0.42108908477425211, 0.86453412160495313, 13)"
       ]
      },
      {
       "output_type": "stream",
       "stream": "stdout",
       "text": [
        " 2015-01-23\n",
        "(0.26965158342521078, 0.53642514667425512, 30)"
       ]
      },
      {
       "output_type": "stream",
       "stream": "stdout",
       "text": [
        " 2015-01-23\n",
        "(-0.25819888974716115, 0.29277002188455997, 7)"
       ]
      },
      {
       "output_type": "stream",
       "stream": "stdout",
       "text": [
        " 2015-01-23\n",
        "(0.33281371753287864, 0.42170673070921644, 17)"
       ]
      },
      {
       "output_type": "stream",
       "stream": "stdout",
       "text": [
        " 2015-01-23\n",
        "(0.0, 0.0, 6)"
       ]
      },
      {
       "output_type": "stream",
       "stream": "stdout",
       "text": [
        " 2015-01-24\n",
        "(0.76390212858918438, 0.67639954159452342, 15)"
       ]
      },
      {
       "output_type": "stream",
       "stream": "stdout",
       "text": [
        " 2015-01-24\n",
        "(0.40937632970432847, 0.59833804196377982, 43)"
       ]
      },
      {
       "output_type": "stream",
       "stream": "stdout",
       "text": [
        " 2015-01-24\n",
        "(0.53092720183505326, 0.4576435525628294, 16)"
       ]
      },
      {
       "output_type": "stream",
       "stream": "stdout",
       "text": [
        " 2015-01-24\n",
        "(0.54596176529656326, 0.53390773665902957, 31)"
       ]
      },
      {
       "output_type": "stream",
       "stream": "stdout",
       "text": [
        " 2015-01-24\n",
        "(0.49048455343361719, 0.56565771994346903, 32)"
       ]
      },
      {
       "output_type": "stream",
       "stream": "stdout",
       "text": [
        " 2015-01-24\n",
        "(-0.75592894601845451, 0.10540925533894598, 5)"
       ]
      },
      {
       "output_type": "stream",
       "stream": "stdout",
       "text": [
        " 2015-01-24\n",
        "(0.0, -0.81649658092772615, 3)"
       ]
      },
      {
       "output_type": "stream",
       "stream": "stdout",
       "text": [
        " 2015-01-24\n",
        "(0.0, 0.18184824186332696, 8)"
       ]
      },
      {
       "output_type": "stream",
       "stream": "stdout",
       "text": [
        " 2015-01-24\n",
        "(0.0, 0.51851851851851849, 8)"
       ]
      },
      {
       "output_type": "stream",
       "stream": "stdout",
       "text": [
        " 2015-01-24\n",
        "(0.0, 0.22222222222222218, 5)"
       ]
      },
      {
       "output_type": "stream",
       "stream": "stdout",
       "text": [
        " 2015-01-24\n",
        "(0.60074046882918664, 0.56161616161616157, 32)"
       ]
      },
      {
       "output_type": "stream",
       "stream": "stdout",
       "text": [
        " 2015-01-24\n",
        "(0.5873733551053546, 0.60419255731852739, 42)"
       ]
      },
      {
       "output_type": "stream",
       "stream": "stdout",
       "text": [
        " 2015-01-24\n",
        "(0.66550776003066947, 0.59252586128959839, 67)"
       ]
      },
      {
       "output_type": "stream",
       "stream": "stdout",
       "text": [
        " 2015-01-24\n",
        "(0.63368498380466343, 0.62757606543139521, 80)"
       ]
      },
      {
       "output_type": "stream",
       "stream": "stdout",
       "text": [
        " 2015-01-24\n",
        "(0.47626133332395199, 0.48637538562068916, 77)"
       ]
      },
      {
       "output_type": "stream",
       "stream": "stdout",
       "text": [
        " 2015-01-24\n",
        "(0.28968272975116061, 0.26967994498529685, 10)"
       ]
      },
      {
       "output_type": "stream",
       "stream": "stdout",
       "text": [
        " 2015-01-24\n",
        "(0.6414997519624096, 0.66891891891891908, 39)"
       ]
      },
      {
       "output_type": "stream",
       "stream": "stdout",
       "text": [
        " 2015-01-24\n",
        "(0.0, 0.0, 1)"
       ]
      },
      {
       "output_type": "stream",
       "stream": "stdout",
       "text": [
        " 2015-01-24\n",
        "(0.0, 0.0, 3)"
       ]
      },
      {
       "output_type": "stream",
       "stream": "stdout",
       "text": [
        " 2015-01-24\n",
        "(0.0, 0.27602622373694174, 6)"
       ]
      },
      {
       "output_type": "stream",
       "stream": "stdout",
       "text": [
        " 2015-01-24\n",
        "(0.0, 0.10540925533894598, 5)"
       ]
      },
      {
       "output_type": "stream",
       "stream": "stdout",
       "text": [
        " 2015-01-24\n",
        "(0.7745966692414834, -0.18257418583505539, 4)"
       ]
      },
      {
       "output_type": "stream",
       "stream": "stdout",
       "text": [
        " 2015-01-24\n",
        "(0.0, -1.0, 2)"
       ]
      },
      {
       "output_type": "stream",
       "stream": "stdout",
       "text": [
        " 2015-01-24\n",
        "(0.0, -0.18257418583505539, 4)"
       ]
      },
      {
       "output_type": "stream",
       "stream": "stdout",
       "text": [
        " 2015-01-24\n",
        "(0.56444729965216822, 0.73690589835494125, 13)"
       ]
      },
      {
       "output_type": "stream",
       "stream": "stdout",
       "text": [
        " 2015-01-24\n",
        "(0.36140316116210058, 0.2942449431682499, 9)"
       ]
      },
      {
       "output_type": "stream",
       "stream": "stdout",
       "text": [
        " 2015-01-24\n",
        "(0.62855824717003772, 0.16396995274947143, 14)"
       ]
      },
      {
       "output_type": "stream",
       "stream": "stdout",
       "text": [
        " 2015-01-24\n",
        "(0.22788153213687018, 0.25510269667223168, 60)"
       ]
      },
      {
       "output_type": "stream",
       "stream": "stdout",
       "text": [
        " 2015-01-24\n",
        "(0.0, 0.14789835160265341, 48)"
       ]
      },
      {
       "output_type": "stream",
       "stream": "stdout",
       "text": [
        " 2015-01-24\n",
        "(0.71269664509979858, 0.56694670951384096, 8)"
       ]
      },
      {
       "output_type": "stream",
       "stream": "stdout",
       "text": [
        " 2015-01-24\n",
        "(0.50724167577897106, 0.51613125159037676, 19)"
       ]
      },
      {
       "output_type": "stream",
       "stream": "stdout",
       "text": [
        " 2015-01-24\n",
        "(0.0, -0.30792014356780034, 8)"
       ]
      },
      {
       "output_type": "stream",
       "stream": "stdout",
       "text": [
        " 2015-01-24\n",
        "(0.36369648372665392, 0.14814814814814814, 8)"
       ]
      },
      {
       "output_type": "stream",
       "stream": "stdout",
       "text": [
        " 2015-01-24\n",
        "(0.0, 0.22473328748774737, 10)"
       ]
      },
      {
       "output_type": "stream",
       "stream": "stdout",
       "text": [
        " 2015-01-24\n",
        "(0.0, 0.15000000000000002, 7)"
       ]
      },
      {
       "output_type": "stream",
       "stream": "stdout",
       "text": [
        " 2015-01-24\n",
        "(0.0, -0.20264093470049316, 19)"
       ]
      },
      {
       "output_type": "stream",
       "stream": "stdout",
       "text": [
        " 2015-01-25\n",
        "(0.45961192101253195, 0.54393781569122002, 16)"
       ]
      },
      {
       "output_type": "stream",
       "stream": "stdout",
       "text": [
        " 2015-01-25\n",
        "(0.0, 0.14083575804390611, 17)"
       ]
      },
      {
       "output_type": "stream",
       "stream": "stdout",
       "text": [
        " 2015-01-25\n",
        "(-0.072310152606218689, 0.3753681829748195, 19)"
       ]
      },
      {
       "output_type": "stream",
       "stream": "stdout",
       "text": [
        " 2015-01-25\n",
        "(0.0, 0.39036002917941331, 7)"
       ]
      },
      {
       "output_type": "stream",
       "stream": "stdout",
       "text": [
        " 2015-01-25\n",
        "(0.0, -0.10540925533894598, 5)"
       ]
      },
      {
       "output_type": "stream",
       "stream": "stdout",
       "text": [
        " 2015-01-25\n",
        "(0.0, 0.0, 6)"
       ]
      },
      {
       "output_type": "stream",
       "stream": "stdout",
       "text": [
        " 2015-01-25\n",
        "(0.28250187391630471, 0.57095238161652218, 25)"
       ]
      },
      {
       "output_type": "stream",
       "stream": "stdout",
       "text": [
        " 2015-01-25\n",
        "(0.66076233494896619, 0.70329722755011814, 41)"
       ]
      },
      {
       "output_type": "stream",
       "stream": "stdout",
       "text": [
        " 2015-01-25\n",
        "(0.41030496993110904, 0.69102331908064241, 8)"
       ]
      },
      {
       "output_type": "stream",
       "stream": "stdout",
       "text": [
        " 2015-01-25\n",
        "(0.42100459814150104, 0.55364286973651367, 28)"
       ]
      },
      {
       "output_type": "stream",
       "stream": "stdout",
       "text": [
        " 2015-01-25\n",
        "(0.42002296858534394, 0.47457683454825167, 26)"
       ]
      },
      {
       "output_type": "stream",
       "stream": "stdout",
       "text": [
        " 2015-01-25\n",
        "(0.0, 0.36927447293799814, 8)"
       ]
      },
      {
       "output_type": "stream",
       "stream": "stdout",
       "text": [
        " 2015-01-25\n",
        "(0.0, 0.57975090436420285, 7)"
       ]
      },
      {
       "output_type": "stream",
       "stream": "stdout",
       "text": [
        " 2015-01-25\n",
        "(0.35856858280031817, 0.57142857142857151, 9)"
       ]
      },
      {
       "output_type": "stream",
       "stream": "stdout",
       "text": [
        " 2015-01-25\n",
        "(0.7745966692414834, 0.54772255750516619, 4)"
       ]
      },
      {
       "output_type": "stream",
       "stream": "stdout",
       "text": [
        " 2015-01-25\n",
        "(0.38978972143455359, 0.40368671387966548, 11)"
       ]
      },
      {
       "output_type": "stream",
       "stream": "stdout",
       "text": [
        " 2015-01-25\n",
        "(0.65000000000000013, 0.58554004376911994, 7)"
       ]
      },
      {
       "output_type": "stream",
       "stream": "stdout",
       "text": [
        " 2015-01-27\n",
        "(0.16630614998521273, 0.27884615384615391, 15)"
       ]
      },
      {
       "output_type": "stream",
       "stream": "stdout",
       "text": [
        " 2015-01-30\n",
        "(0.23570226039551587, 0.33333333333333331, 4)"
       ]
      },
      {
       "output_type": "stream",
       "stream": "stdout",
       "text": [
        " 2015-01-31\n",
        "(0.0, -0.15430334996209194, 6)"
       ]
      },
      {
       "output_type": "stream",
       "stream": "stdout",
       "text": [
        " 2015-01-31\n",
        "(0.29376788455381275, 0.45075188022357016, 25)"
       ]
      },
      {
       "output_type": "stream",
       "stream": "stdout",
       "text": [
        " 2015-01-31\n",
        "(0.0, -0.081325006079044429, 20)"
       ]
      },
      {
       "output_type": "stream",
       "stream": "stdout",
       "text": [
        " 2015-01-31\n",
        "(0.0, 0.050420168067226878, 16)"
       ]
      },
      {
       "output_type": "stream",
       "stream": "stdout",
       "text": [
        " 2015-01-31\n",
        "(0.0, 0.57756727737965663, 21)"
       ]
      },
      {
       "output_type": "stream",
       "stream": "stdout",
       "text": [
        " 2015-01-31\n",
        "(0.41964345453112623, 0.61782299347828495, 23)"
       ]
      },
      {
       "output_type": "stream",
       "stream": "stdout",
       "text": [
        " 2015-01-31\n",
        "(0.38640433022574944, 0.38131440624794166, 24)"
       ]
      },
      {
       "output_type": "stream",
       "stream": "stdout",
       "text": [
        " 2015-01-31\n",
        "(0.0, -0.25000000000000006, 7)"
       ]
      },
      {
       "output_type": "stream",
       "stream": "stdout",
       "text": [
        " 2015-01-31\n",
        "(0.0, 0.58554004376911994, 7)"
       ]
      },
      {
       "output_type": "stream",
       "stream": "stdout",
       "text": [
        " 2015-01-31\n",
        "(0.35912321357697558, 0.44574971728259816, 19)"
       ]
      },
      {
       "output_type": "stream",
       "stream": "stdout",
       "text": [
        " 2015-01-31\n",
        "(0.0, 0.0, 13)"
       ]
      },
      {
       "output_type": "stream",
       "stream": "stdout",
       "text": [
        " 2015-01-31\n",
        "(0.43643578047198478, 0.25354627641855498, 9)"
       ]
      },
      {
       "output_type": "stream",
       "stream": "stdout",
       "text": [
        " 2015-01-31\n",
        "(0.66924960796846311, 0.50378946768585398, 21)"
       ]
      },
      {
       "output_type": "stream",
       "stream": "stdout",
       "text": [
        " 2015-01-31\n",
        "(0.0, -0.05000000000000001, 7)"
       ]
      },
      {
       "output_type": "stream",
       "stream": "stdout",
       "text": [
        " 2015-01-31\n",
        "(0.0, 0.093761446187699105, 12)"
       ]
      },
      {
       "output_type": "stream",
       "stream": "stdout",
       "text": [
        " 2015-01-31\n",
        "(0.38122818393931096, 0.31475579014585353, 18)"
       ]
      },
      {
       "output_type": "stream",
       "stream": "stdout",
       "text": [
        " 2015-01-31\n",
        "(0.53656274918501512, 0.58156774609278927, 32)"
       ]
      },
      {
       "output_type": "stream",
       "stream": "stdout",
       "text": [
        " 2015-01-31\n",
        "(0.62807684201896785, 0.67419986246324204, 10)"
       ]
      },
      {
       "output_type": "stream",
       "stream": "stdout",
       "text": [
        " 2015-01-31\n",
        "(0.19578900207451219, 0.39562828403747213, 22)"
       ]
      },
      {
       "output_type": "stream",
       "stream": "stdout",
       "text": [
        " 2015-01-31\n",
        "(0.5775182063205786, 0.38127303539167096, 25)"
       ]
      },
      {
       "output_type": "stream",
       "stream": "stdout",
       "text": [
        " 2015-01-31\n",
        "(0.41137667560372121, 0.62507630791799407, 12)"
       ]
      },
      {
       "output_type": "stream",
       "stream": "stdout",
       "text": [
        " 2015-01-31\n",
        "(0.49088069367381637, 0.61954957267219535, 37)"
       ]
      },
      {
       "output_type": "stream",
       "stream": "stdout",
       "text": [
        " 2015-01-31\n",
        "(0.56604132328129431, 0.64307516545402132, 41)"
       ]
      },
      {
       "output_type": "stream",
       "stream": "stdout",
       "text": [
        " 2015-01-31\n",
        "(0.22430303232870105, 0.35115526951766407, 12)"
       ]
      },
      {
       "output_type": "stream",
       "stream": "stdout",
       "text": [
        " 2015-01-31\n",
        "(0.53802369727891608, 0.61538678027658955, 28)"
       ]
      },
      {
       "output_type": "stream",
       "stream": "stdout",
       "text": [
        " 2015-02-01\n",
        "(0.24607728319377498, 0.74642002729217882, 15)"
       ]
      },
      {
       "output_type": "stream",
       "stream": "stdout",
       "text": [
        " 2015-02-01\n",
        "(0.16751484856512242, 0.5454545454545453, 13)"
       ]
      },
      {
       "output_type": "stream",
       "stream": "stdout",
       "text": [
        " 2015-02-01\n",
        "(0.33757978902788871, 0.46494781490854986, 17)"
       ]
      },
      {
       "output_type": "stream",
       "stream": "stdout",
       "text": [
        " 2015-02-01\n",
        "(0.0, 0.045802861241434442, 12)"
       ]
      },
      {
       "output_type": "stream",
       "stream": "stdout",
       "text": [
        " 2015-02-01\n",
        "(0.56808181146948744, 0.73121971680712494, 25)"
       ]
      },
      {
       "output_type": "stream",
       "stream": "stdout",
       "text": [
        " 2015-02-01\n",
        "(0.7396224848653149, 0.80918388193200852, 12)"
       ]
      },
      {
       "output_type": "stream",
       "stream": "stdout",
       "text": [
        " 2015-02-01\n",
        "(0.50355829562793375, 0.66666869888649583, 29)"
       ]
      },
      {
       "output_type": "stream",
       "stream": "stdout",
       "text": [
        " 2015-02-01\n",
        "(0.0, 0.13740858372430334, 12)"
       ]
      },
      {
       "output_type": "stream",
       "stream": "stdout",
       "text": [
        " 2015-02-01\n",
        "(0.0, 0.07715167498104597, 6)"
       ]
      },
      {
       "output_type": "stream",
       "stream": "stdout",
       "text": [
        " 2015-02-01\n",
        "(0.30276503540974919, 0.47727272727272735, 10)"
       ]
      },
      {
       "output_type": "stream",
       "stream": "stdout",
       "text": [
        " 2015-02-01\n",
        "(0.0, -0.27602622373694174, 6)"
       ]
      },
      {
       "output_type": "stream",
       "stream": "stdout",
       "text": [
        " 2015-02-01\n",
        "(0.83278533079187111, 0.67633639455227246, 15)"
       ]
      },
      {
       "output_type": "stream",
       "stream": "stdout",
       "text": [
        " 2015-02-01\n",
        "(0.0, 0.22222222222222218, 5)"
       ]
      },
      {
       "output_type": "stream",
       "stream": "stdout",
       "text": [
        " 2015-02-01\n",
        "(0.64733887497014975, 0.47892074434615939, 9)"
       ]
      },
      {
       "output_type": "stream",
       "stream": "stdout",
       "text": [
        " 2015-02-01\n",
        "(0.0, 0.22222222222222218, 5)"
       ]
      },
      {
       "output_type": "stream",
       "stream": "stdout",
       "text": [
        " 2015-02-01\n",
        "(0.0, -0.36927447293799814, 8)"
       ]
      },
      {
       "output_type": "stream",
       "stream": "stdout",
       "text": [
        " 2015-02-01\n",
        "(0.47809144373375756, 0.42257712736425829, 9)"
       ]
      },
      {
       "output_type": "stream",
       "stream": "stdout",
       "text": [
        " 2015-02-01\n",
        "(0.68453981934600339, 0.54545454545454553, 21)"
       ]
      },
      {
       "output_type": "stream",
       "stream": "stdout",
       "text": [
        " 2015-02-01\n",
        "(0.15145981284277046, -0.12222976750248515, 14)"
       ]
      },
      {
       "output_type": "stream",
       "stream": "stdout",
       "text": [
        " 2015-02-01\n",
        "(0.56195148694901653, -0.1501878522965277, 7)"
       ]
      },
      {
       "output_type": "stream",
       "stream": "stdout",
       "text": [
        " 2015-02-05\n",
        "(0.61052885782188304, 0.58995241390362874, 104)"
       ]
      },
      {
       "output_type": "stream",
       "stream": "stdout",
       "text": [
        " 2015-02-06\n",
        "(0.60142899583383891, 0.51508741997811525, 107)"
       ]
      },
      {
       "output_type": "stream",
       "stream": "stdout",
       "text": [
        " 2015-02-06\n",
        "(0.18354759146071059, 0.40539239287433809, 65)"
       ]
      },
      {
       "output_type": "stream",
       "stream": "stdout",
       "text": [
        " 2015-02-06\n",
        "(0.0, 0.19495825853879847, 25)"
       ]
      },
      {
       "output_type": "stream",
       "stream": "stdout",
       "text": [
        " 2015-02-06\n",
        "(0.43320860485055729, 0.55019420553379927, 43)"
       ]
      },
      {
       "output_type": "stream",
       "stream": "stdout",
       "text": [
        " 2015-02-06\n",
        "(0.52168849785360127, 0.44572500946062699, 58)"
       ]
      },
      {
       "output_type": "stream",
       "stream": "stdout",
       "text": [
        " 2015-02-06\n",
        "(0.0, 0.13297919370836944, 28)"
       ]
      },
      {
       "output_type": "stream",
       "stream": "stdout",
       "text": [
        " 2015-02-06\n",
        "(0.0, 0.1834939608543934, 11)"
       ]
      },
      {
       "output_type": "stream",
       "stream": "stdout",
       "text": [
        " 2015-02-06\n",
        "(-0.093658581158169413, 0.3774256780481986, 11)"
       ]
      },
      {
       "output_type": "stream",
       "stream": "stdout",
       "text": [
        " 2015-02-06\n",
        "(0.0, 0.13740858372430334, 12)"
       ]
      },
      {
       "output_type": "stream",
       "stream": "stdout",
       "text": [
        " 2015-02-06\n",
        "(0.64372979865602875, 0.61009889247429994, 20)"
       ]
      },
      {
       "output_type": "stream",
       "stream": "stdout",
       "text": [
        " 2015-02-07\n",
        "(0.7745966692414834, 0.18257418583505539, 4)"
       ]
      },
      {
       "output_type": "stream",
       "stream": "stdout",
       "text": [
        " 2015-02-07\n",
        "(0.41290653092278468, 0.61538461538461553, 12)"
       ]
      },
      {
       "output_type": "stream",
       "stream": "stdout",
       "text": [
        " 2015-02-07\n",
        "(0.53737873292531591, 0.45250485954337061, 44)"
       ]
      },
      {
       "output_type": "stream",
       "stream": "stdout",
       "text": [
        " 2015-02-07\n",
        "(0.54096274607471106, 0.36363636363636359, 13)"
       ]
      },
      {
       "output_type": "stream",
       "stream": "stdout",
       "text": [
        " 2015-02-07\n",
        "(0.54772255750516619, 0.52704627669472992, 7)"
       ]
      },
      {
       "output_type": "stream",
       "stream": "stdout",
       "text": [
        " 2015-02-07\n",
        "(0.0, -0.33333333333333326, 3)"
       ]
      },
      {
       "output_type": "stream",
       "stream": "stdout",
       "text": [
        " 2015-02-07\n",
        "(0.0, 0.18257418583505539, 4)"
       ]
      },
      {
       "output_type": "stream",
       "stream": "stdout",
       "text": [
        " 2015-02-07\n",
        "(0.0, -0.22972292920210549, 13)"
       ]
      },
      {
       "output_type": "stream",
       "stream": "stdout",
       "text": [
        " 2015-02-07\n",
        "(0.0, 0.052704627669472988, 7)"
       ]
      },
      {
       "output_type": "stream",
       "stream": "stdout",
       "text": [
        " 2015-02-07\n",
        "(-0.1628347368197324, -0.044946657497549475, 10)"
       ]
      },
      {
       "output_type": "stream",
       "stream": "stdout",
       "text": [
        " 2015-02-07\n",
        "(0.0, 0.99999999999999989, 3)"
       ]
      },
      {
       "output_type": "stream",
       "stream": "stdout",
       "text": [
        " 2015-02-07\n",
        "(0.0, 0.0, 10)"
       ]
      },
      {
       "output_type": "stream",
       "stream": "stdout",
       "text": [
        " 2015-02-07\n",
        "(0.56839856005880507, 0.35115526951766407, 12)"
       ]
      },
      {
       "output_type": "stream",
       "stream": "stdout",
       "text": [
        " 2015-02-07\n",
        "(0.77289074001213731, 0.60579723609648162, 15)"
       ]
      },
      {
       "output_type": "stream",
       "stream": "stdout",
       "text": [
        " 2015-02-07\n",
        "(0.80178372573727319, 0.55205244747388349, 6)"
       ]
      },
      {
       "output_type": "stream",
       "stream": "stdout",
       "text": [
        " 2015-02-07\n",
        "(0.61606859044813789, 0.58520767576946531, 61)"
       ]
      },
      {
       "output_type": "stream",
       "stream": "stdout",
       "text": [
        " 2015-02-07\n",
        "(0.31103372080646841, 0.4538498615657785, 54)"
       ]
      },
      {
       "output_type": "stream",
       "stream": "stdout",
       "text": [
        " 2015-02-07\n",
        "(0.58064158379281716, 0.58134627012613838, 22)"
       ]
      },
      {
       "output_type": "stream",
       "stream": "stdout",
       "text": [
        " 2015-02-07\n",
        "(0.0, -0.13801311186847087, 6)"
       ]
      },
      {
       "output_type": "stream",
       "stream": "stdout",
       "text": [
        " 2015-02-07\n",
        "(0.4021460379912038, 0.26567867751859781, 40)"
       ]
      },
      {
       "output_type": "stream",
       "stream": "stdout",
       "text": [
        " 2015-02-07\n",
        "(0.45324710388668077, 0.47020898675809059, 18)"
       ]
      },
      {
       "output_type": "stream",
       "stream": "stdout",
       "text": [
        " 2015-02-07\n",
        "(0.0, 0.36426712970216096, 24)"
       ]
      },
      {
       "output_type": "stream",
       "stream": "stdout",
       "text": [
        " 2015-02-07\n",
        "(0.23570226039551587, 0.94868329805051377, 5)"
       ]
      },
      {
       "output_type": "stream",
       "stream": "stdout",
       "text": [
        " 2015-02-07\n",
        "(0.13093073414159545, 0.34285714285714292, 9)"
       ]
      },
      {
       "output_type": "stream",
       "stream": "stdout",
       "text": [
        " 2015-02-07\n",
        "(0.53687078750025052, 0.49452093596149138, 40)"
       ]
      },
      {
       "output_type": "stream",
       "stream": "stdout",
       "text": [
        " 2015-02-07\n",
        "(0.44945732659690996, 0.43653459985069309, 26)"
       ]
      },
      {
       "output_type": "stream",
       "stream": "stdout",
       "text": [
        " 2015-02-07\n",
        "(0.46227374711143376, 0.57284253256820516, 15)"
       ]
      },
      {
       "output_type": "stream",
       "stream": "stdout",
       "text": [
        " 2015-02-07\n",
        "(0.327354639714655, 0.61588176205143963, 26)"
       ]
      },
      {
       "output_type": "stream",
       "stream": "stdout",
       "text": [
        " 2015-02-07\n",
        "(0.0, 0.0, 8)"
       ]
      },
      {
       "output_type": "stream",
       "stream": "stdout",
       "text": [
        " 2015-02-07\n",
        "(0.54106911564181792, 0.74642002729217882, 15)"
       ]
      },
      {
       "output_type": "stream",
       "stream": "stdout",
       "text": [
        " 2015-02-07\n",
        "(0.66666666666666663, 0.52704627669472992, 5)"
       ]
      },
      {
       "output_type": "stream",
       "stream": "stdout",
       "text": [
        " 2015-02-07\n",
        "(0.0, 0.0, 6)"
       ]
      },
      {
       "output_type": "stream",
       "stream": "stdout",
       "text": [
        " 2015-02-07\n",
        "(0.0, 0.94868329805051377, 5)"
       ]
      },
      {
       "output_type": "stream",
       "stream": "stdout",
       "text": [
        " 2015-02-07\n",
        "(0.53935988997059381, 0.78072005835882663, 7)"
       ]
      },
      {
       "output_type": "stream",
       "stream": "stdout",
       "text": [
        " 2015-02-07\n",
        "(0.61584028713560068, 0.40006613209931929, 8)"
       ]
      },
      {
       "output_type": "stream",
       "stream": "stdout",
       "text": [
        " 2015-02-07\n",
        "(0.0, 0.55205244747388349, 6)"
       ]
      },
      {
       "output_type": "stream",
       "stream": "stdout",
       "text": [
        " 2015-02-07\n",
        "(0.0, 0.36927447293799814, 8)"
       ]
      },
      {
       "output_type": "stream",
       "stream": "stdout",
       "text": [
        " 2015-02-07\n",
        "(0.35856858280031817, 0.816982446237566, 9)"
       ]
      },
      {
       "output_type": "stream",
       "stream": "stdout",
       "text": [
        " 2015-02-07\n",
        "(0.59761430466719689, 0.07715167498104597, 6)"
       ]
      },
      {
       "output_type": "stream",
       "stream": "stdout",
       "text": [
        " 2015-02-07\n",
        "(0.0, 0.31622776601683794, 5)"
       ]
      },
      {
       "output_type": "stream",
       "stream": "stdout",
       "text": [
        " 2015-02-07\n",
        "(0.30612521363979472, 0.34921123727893016, 20)"
       ]
      },
      {
       "output_type": "stream",
       "stream": "stdout",
       "text": [
        " 2015-02-08\n",
        "(0.40582941595245836, 0.5067515498424463, 36)"
       ]
      },
      {
       "output_type": "stream",
       "stream": "stdout",
       "text": [
        " 2015-02-08\n",
        "(0.20000000000000004, 0.54772255750516619, 4)"
       ]
      },
      {
       "output_type": "stream",
       "stream": "stdout",
       "text": [
        " 2015-02-08\n",
        "(0.690074333165272, 0.69626675206369415, 32)"
       ]
      },
      {
       "output_type": "stream",
       "stream": "stdout",
       "text": [
        " 2015-02-08\n",
        "(0.40077274479651709, 0.50004328816942445, 13)"
       ]
      },
      {
       "output_type": "stream",
       "stream": "stdout",
       "text": [
        " 2015-02-08\n",
        "(0.0, 0.52704627669472992, 5)"
       ]
      },
      {
       "output_type": "stream",
       "stream": "stdout",
       "text": [
        " 2015-02-08\n",
        "(0.88191710368819687, 0.94868329805051377, 5)"
       ]
      },
      {
       "output_type": "stream",
       "stream": "stdout",
       "text": [
        " 2015-02-08\n",
        "(0.31706324373711398, -0.31706324373711398, 20)"
       ]
      },
      {
       "output_type": "stream",
       "stream": "stdout",
       "text": [
        " 2015-02-08\n",
        "(0.32539568672798408, -0.018786728732554485, 19)"
       ]
      },
      {
       "output_type": "stream",
       "stream": "stdout",
       "text": [
        " 2015-02-08\n",
        "(0.0, -0.27553898427647927, 33)"
       ]
      },
      {
       "output_type": "stream",
       "stream": "stdout",
       "text": [
        " 2015-02-08\n",
        "(0.34337834895824842, 0.062187545867167598, 26)"
       ]
      },
      {
       "output_type": "stream",
       "stream": "stdout",
       "text": [
        " 2015-02-08\n",
        "(-0.23570226039551587, 0.33333333333333331, 4)"
       ]
      },
      {
       "output_type": "stream",
       "stream": "stdout",
       "text": [
        " 2015-02-08\n",
        "(0.53339646091044168, 0.4728054288446501, 8)"
       ]
      },
      {
       "output_type": "stream",
       "stream": "stdout",
       "text": [
        " 2015-02-08\n",
        "(0.47047610133585405, 0.35410026391408517, 18)"
       ]
      },
      {
       "output_type": "stream",
       "stream": "stdout",
       "text": [
        " 2015-02-08\n",
        "(0.6191824903808113, 0.60658145049003309, 27)"
       ]
      },
      {
       "output_type": "stream",
       "stream": "stdout",
       "text": [
        " 2015-02-08\n",
        "(0.53452248382484879, 0.96609178307929611, 6)"
       ]
      },
      {
       "output_type": "stream",
       "stream": "stdout",
       "text": [
        " 2015-02-08\n",
        "(-0.18257418583505539, -0.18257418583505539, 4)"
       ]
      },
      {
       "output_type": "stream",
       "stream": "stdout",
       "text": [
        " 2015-02-08\n",
        "(0.40497929894021195, 0.46200268197528954, 37)"
       ]
      },
      {
       "output_type": "stream",
       "stream": "stdout",
       "text": [
        " 2015-02-08\n",
        "(0.0, 0.27602622373694174, 6)"
       ]
      },
      {
       "output_type": "stream",
       "stream": "stdout",
       "text": [
        " 2015-02-08\n",
        "(0.91287092917527701, 0.0, 4)"
       ]
      },
      {
       "output_type": "stream",
       "stream": "stdout",
       "text": [
        " 2015-02-11\n",
        "(0.4869156341029659, 0.62714116462313663, 16)"
       ]
      },
      {
       "output_type": "stream",
       "stream": "stdout",
       "text": [
        " 2015-02-14\n",
        "(0.0, 0.18257418583505539, 4)"
       ]
      },
      {
       "output_type": "stream",
       "stream": "stdout",
       "text": [
        " 2015-02-14\n",
        "(0.50174520600425454, 0.44474958999666075, 6)"
       ]
      },
      {
       "output_type": "stream",
       "stream": "stdout",
       "text": [
        " 2015-02-14\n",
        "(0.57936545950232121, 0.38849032569882008, 21)"
       ]
      },
      {
       "output_type": "stream",
       "stream": "stdout",
       "text": [
        " 2015-02-14\n",
        "(0.0, 0.0, 14)"
       ]
      },
      {
       "output_type": "stream",
       "stream": "stdout",
       "text": [
        " 2015-02-14\n",
        "(0.38239510274518185, 0.54661935553486507, 38)"
       ]
      },
      {
       "output_type": "stream",
       "stream": "stdout",
       "text": [
        " 2015-02-15\n",
        "(0.36927447293799814, 0.4728054288446501, 8)"
       ]
      },
      {
       "output_type": "stream",
       "stream": "stdout",
       "text": [
        " 2015-02-15\n",
        "(0.69436507482941368, 0.27602622373694174, 6)"
       ]
      },
      {
       "output_type": "stream",
       "stream": "stdout",
       "text": [
        " 2015-02-15\n",
        "(0.57735026918962584, 0.33333333333333331, 6)"
       ]
      },
      {
       "output_type": "stream",
       "stream": "stdout",
       "text": [
        " 2015-02-15\n",
        "(0.6582805886043831, 0.68704291862151667, 12)"
       ]
      },
      {
       "output_type": "stream",
       "stream": "stdout",
       "text": [
        " 2015-02-15\n",
        "(0.23200808433365483, 0.19402333125567747, 21)"
       ]
      },
      {
       "output_type": "stream",
       "stream": "stdout",
       "text": [
        " 2015-02-18\n",
        "(0.19437181229994496, -0.052636135596781514, 13)"
       ]
      },
      {
       "output_type": "stream",
       "stream": "stdout",
       "text": [
        " 2015-02-20\n",
        "(0.63848667854395413, 0.64239819317654634, 18)"
       ]
      },
      {
       "output_type": "stream",
       "stream": "stdout",
       "text": [
        " 2015-02-20\n",
        "(0.0, 0.50006104633439519, 12)"
       ]
      },
      {
       "output_type": "stream",
       "stream": "stdout",
       "text": [
        " 2015-02-20\n",
        "(0.46981832274632612, 0.47970806300088481, 17)"
       ]
      },
      {
       "output_type": "stream",
       "stream": "stdout",
       "text": [
        " 2015-02-20\n",
        "(0.0, 0.0, 1)"
       ]
      },
      {
       "output_type": "stream",
       "stream": "stdout",
       "text": [
        " 2015-02-21\n",
        "(0.62360956446232352, 0.27602622373694174, 6)"
       ]
      },
      {
       "output_type": "stream",
       "stream": "stdout",
       "text": [
        " 2015-02-21\n",
        "(-0.21821789023599233, 0.40006613209931929, 8)"
       ]
      },
      {
       "output_type": "stream",
       "stream": "stdout",
       "text": [
        " 2015-02-21\n",
        "(0.0, 0.21428571428571433, 6)"
       ]
      },
      {
       "output_type": "stream",
       "stream": "stdout",
       "text": [
        " 2015-02-21\n",
        "(0.20100756305184242, 0.34090909090909094, 10)"
       ]
      },
      {
       "output_type": "stream",
       "stream": "stdout",
       "text": [
        " 2015-02-21\n",
        "(0.0, 0.94868329805051377, 5)"
       ]
      },
      {
       "output_type": "stream",
       "stream": "stdout",
       "text": [
        " 2015-02-21\n",
        "(0.27406406388125953, 0.29999999999999999, 14)"
       ]
      },
      {
       "output_type": "stream",
       "stream": "stdout",
       "text": [
        " 2015-02-21\n",
        "(0.54089872302625064, 0.76063882925566484, 9)"
       ]
      },
      {
       "output_type": "stream",
       "stream": "stdout",
       "text": [
        " 2015-02-21\n",
        "(0.53935988997059381, 0.58554004376911994, 7)"
       ]
      },
      {
       "output_type": "stream",
       "stream": "stdout",
       "text": [
        " 2015-02-21\n",
        "(0.0, 0.56832861622539477, 10)"
       ]
      },
      {
       "output_type": "stream",
       "stream": "stdout",
       "text": [
        " 2015-02-21\n",
        "(0.45961192101253195, 0.62762055656679228, 16)"
       ]
      },
      {
       "output_type": "stream",
       "stream": "stdout",
       "text": [
        " 2015-02-21\n",
        "(0.58714523768211624, 0.65559602569514763, 14)"
       ]
      },
      {
       "output_type": "stream",
       "stream": "stdout",
       "text": [
        " 2015-02-21\n",
        "(0.0, -0.40000000000000008, 9)"
       ]
      },
      {
       "output_type": "stream",
       "stream": "stdout",
       "text": [
        " 2015-02-21\n",
        "(0.0, 0.41403933560541262, 6)"
       ]
      },
      {
       "output_type": "stream",
       "stream": "stdout",
       "text": [
        " 2015-02-21\n",
        "(0.0, 0.53526436132806043, 9)"
       ]
      },
      {
       "output_type": "stream",
       "stream": "stdout",
       "text": [
        " 2015-02-21\n",
        "(0.0, 0.78072005835882663, 7)"
       ]
      },
      {
       "output_type": "stream",
       "stream": "stdout",
       "text": [
        " 2015-02-21\n",
        "(0.0, 1.0, 2)"
       ]
      },
      {
       "output_type": "stream",
       "stream": "stdout",
       "text": [
        " 2015-02-21\n",
        "(0.0, 0.0, 2)"
       ]
      },
      {
       "output_type": "stream",
       "stream": "stdout",
       "text": [
        " 2015-02-21\n",
        "(0.0, -0.88191710368819687, 5)"
       ]
      },
      {
       "output_type": "stream",
       "stream": "stdout",
       "text": [
        " 2015-02-21\n",
        "(0.0, -1.0000000000000002, 4)"
       ]
      },
      {
       "output_type": "stream",
       "stream": "stdout",
       "text": [
        " 2015-02-21\n",
        "(0.0, -0.66666666666666663, 5)"
       ]
      },
      {
       "output_type": "stream",
       "stream": "stdout",
       "text": [
        " 2015-02-21\n",
        "(0.0, 0.4085714285714287, 27)"
       ]
      },
      {
       "output_type": "stream",
       "stream": "stdout",
       "text": [
        " 2015-02-21\n",
        "(0.0, 0.20370370370370366, 11)"
       ]
      },
      {
       "output_type": "stream",
       "stream": "stdout",
       "text": [
        " 2015-02-21\n",
        "(0.29567202216685828, 0.62951158029170706, 18)"
       ]
      },
      {
       "output_type": "stream",
       "stream": "stdout",
       "text": [
        " 2015-02-21\n",
        "(0.44567191997547967, 0.49354426692848519, 27)"
       ]
      },
      {
       "output_type": "stream",
       "stream": "stdout",
       "text": [
        " 2015-02-21\n",
        "(0.0, 0.056613851707229788, 11)"
       ]
      },
      {
       "output_type": "stream",
       "stream": "stdout",
       "text": [
        " 2015-02-21\n",
        "(0.0, 0.23094010767585033, 7)"
       ]
      },
      {
       "output_type": "stream",
       "stream": "stdout",
       "text": [
        " 2015-02-21\n",
        "(0.5231236649884049, 0.54513695908383464, 42)"
       ]
      },
      {
       "output_type": "stream",
       "stream": "stdout",
       "text": [
        " 2015-02-21\n",
        "(0.34260464989247624, 0.31107632033647259, 35)"
       ]
      },
      {
       "output_type": "stream",
       "stream": "stdout",
       "text": [
        " 2015-02-21\n",
        "(0.37238310602419711, 0.59779004773956412, 17)"
       ]
      },
      {
       "output_type": "stream",
       "stream": "stdout",
       "text": [
        " 2015-02-21\n",
        "(0.18307923295711664, 0.55789473684210522, 20)"
       ]
      },
      {
       "output_type": "stream",
       "stream": "stdout",
       "text": [
        " 2015-02-21\n",
        "(0.42756734161976578, 0.56537806323819384, 35)"
       ]
      },
      {
       "output_type": "stream",
       "stream": "stdout",
       "text": [
        " 2015-02-21\n",
        "(0.0, 0.0, 5)"
       ]
      },
      {
       "output_type": "stream",
       "stream": "stdout",
       "text": [
        " 2015-02-21\n",
        "(0.0, 0.0, 6)"
       ]
      },
      {
       "output_type": "stream",
       "stream": "stdout",
       "text": [
        " 2015-02-21\n",
        "(0.0, 0.32732683535398854, 8)"
       ]
      },
      {
       "output_type": "stream",
       "stream": "stdout",
       "text": [
        " 2015-02-21\n",
        "(0.40824829046386307, 0.66666666666666663, 4)"
       ]
      },
      {
       "output_type": "stream",
       "stream": "stdout",
       "text": [
        " 2015-02-21\n",
        "(0.50395263067896967, 0.52704627669472992, 5)"
       ]
      },
      {
       "output_type": "stream",
       "stream": "stdout",
       "text": [
        " 2015-02-21\n",
        "(0.82388584087109973, 0.76063882925566484, 9)"
       ]
      },
      {
       "output_type": "stream",
       "stream": "stdout",
       "text": [
        " 2015-02-21\n",
        "(0.31622776601683794, 0.10540925533894598, 5)"
       ]
      },
      {
       "output_type": "stream",
       "stream": "stdout",
       "text": [
        " 2015-02-21\n",
        "(0.53935988997059381, 0.15000000000000002, 7)"
       ]
      },
      {
       "output_type": "stream",
       "stream": "stdout",
       "text": [
        " 2015-02-21\n",
        "(0.64652288272224223, 0.44231280412537066, 21)"
       ]
      },
      {
       "output_type": "stream",
       "stream": "stdout",
       "text": [
        " 2015-02-21\n",
        "(0.61861124956928137, 0.60255936009045696, 30)"
       ]
      },
      {
       "output_type": "stream",
       "stream": "stdout",
       "text": [
        " 2015-02-21\n",
        "(0.51832105534881623, 0.36367811053548943, 17)"
       ]
      },
      {
       "output_type": "stream",
       "stream": "stdout",
       "text": [
        " 2015-02-21\n",
        "(0.42352151186745268, 0.52838931744089956, 22)"
       ]
      },
      {
       "output_type": "stream",
       "stream": "stdout",
       "text": [
        " 2015-02-21\n",
        "(0.73786478737262184, 0.99999999999999978, 5)"
       ]
      },
      {
       "output_type": "stream",
       "stream": "stdout",
       "text": [
        " 2015-02-21\n",
        "(0.46676002800933669, 0.44886688614942577, 18)"
       ]
      },
      {
       "output_type": "stream",
       "stream": "stdout",
       "text": [
        " 2015-02-21\n",
        "(-0.010828702045605244, 0.38277950117547632, 15)"
       ]
      },
      {
       "output_type": "stream",
       "stream": "stdout",
       "text": [
        " 2015-02-21\n",
        "(0.0, -0.11547005383792516, 7)"
       ]
      },
      {
       "output_type": "stream",
       "stream": "stdout",
       "text": [
        " 2015-02-21\n",
        "(0.0, 0.96609178307929611, 6)"
       ]
      },
      {
       "output_type": "stream",
       "stream": "stdout",
       "text": [
        " 2015-02-21\n",
        "(0.091287092917527693, 0.68313005106397329, 7)"
       ]
      },
      {
       "output_type": "stream",
       "stream": "stdout",
       "text": [
        " 2015-02-21\n",
        "(0.0, 0.18257418583505539, 4)"
       ]
      },
      {
       "output_type": "stream",
       "stream": "stdout",
       "text": [
        " 2015-02-21\n",
        "(0.0, 0.3857583749052298, 6)"
       ]
      },
      {
       "output_type": "stream",
       "stream": "stdout",
       "text": [
        " 2015-02-21\n",
        "(0.59247227092317623, 0.66299354413179601, 14)"
       ]
      },
      {
       "output_type": "stream",
       "stream": "stdout",
       "text": [
        " 2015-02-22\n",
        "(0.43890430198548969, 0.61017021584775211, 26)"
       ]
      },
      {
       "output_type": "stream",
       "stream": "stdout",
       "text": [
        " 2015-02-22\n",
        "(-0.072739296745330778, 0.4728054288446501, 8)"
       ]
      },
      {
       "output_type": "stream",
       "stream": "stdout",
       "text": [
        " 2015-02-22\n",
        "(0.11188423335541266, 0.1113883085723643, 21)"
       ]
      },
      {
       "output_type": "stream",
       "stream": "stdout",
       "text": [
        " 2015-02-22\n",
        "(0.45003724097198178, 0.60485082941542412, 27)"
       ]
      },
      {
       "output_type": "stream",
       "stream": "stdout",
       "text": [
        " 2015-02-22\n",
        "(0.83887049280786119, 0.61828402233531166, 8)"
       ]
      },
      {
       "output_type": "stream",
       "stream": "stdout",
       "text": [
        " 2015-02-22\n",
        "(0.58419503525147254, 0.53796222011672512, 22)"
       ]
      },
      {
       "output_type": "stream",
       "stream": "stdout",
       "text": [
        " 2015-02-22\n",
        "(0.65300356985171915, 0.63343380877000788, 19)"
       ]
      },
      {
       "output_type": "stream",
       "stream": "stdout",
       "text": [
        " 2015-02-22\n",
        "(0.70170111427979998, 0.61016973430353438, 34)"
       ]
      },
      {
       "output_type": "stream",
       "stream": "stdout",
       "text": [
        " 2015-02-22\n",
        "(0.53564144041331097, 0.44938937531550827, 42)"
       ]
      },
      {
       "output_type": "stream",
       "stream": "stdout",
       "text": [
        " 2015-02-22\n",
        "(0.22661939802053852, 0.32709692612687247, 28)"
       ]
      },
      {
       "output_type": "stream",
       "stream": "stdout",
       "text": [
        " 2015-02-22\n",
        "(0.61355152378254529, 0.47742929103557114, 13)"
       ]
      },
      {
       "output_type": "stream",
       "stream": "stdout",
       "text": [
        " 2015-02-22\n",
        "(0.0, -0.33796318470968739, 10)"
       ]
      },
      {
       "output_type": "stream",
       "stream": "stdout",
       "text": [
        " 2015-02-22\n",
        "(0.57762376530595494, 0.41719053878639667, 20)"
       ]
      },
      {
       "output_type": "stream",
       "stream": "stdout",
       "text": [
        " 2015-02-22\n",
        "(0.51402156016164835, 0.59432844194473644, 29)"
       ]
      },
      {
       "output_type": "stream",
       "stream": "stdout",
       "text": [
        " 2015-02-22\n",
        "(0.66329111755078807, 0.80737342775933096, 11)"
       ]
      },
      {
       "output_type": "stream",
       "stream": "stdout",
       "text": [
        " 2015-02-22\n",
        "(0.36689969285267143, 0.25961538461538464, 15)"
       ]
      },
      {
       "output_type": "stream",
       "stream": "stdout",
       "text": [
        " 2015-02-22\n",
        "(0.29975071106948015, 0.0055131784641997087, 20)"
       ]
      },
      {
       "output_type": "stream",
       "stream": "stdout",
       "text": [
        " 2015-02-22\n",
        "(0.3837612894400988, 0.22133424721187853, 32)"
       ]
      },
      {
       "output_type": "stream",
       "stream": "stdout",
       "text": [
        " 2015-02-22\n",
        "(0.0, 0.0, 4)"
       ]
      },
      {
       "output_type": "stream",
       "stream": "stdout",
       "text": [
        " 2015-02-22\n",
        "(0.0, 0.0, 1)"
       ]
      },
      {
       "output_type": "stream",
       "stream": "stdout",
       "text": [
        " 2015-02-22\n",
        "(0.0, 0.99999999999999989, 3)"
       ]
      },
      {
       "output_type": "stream",
       "stream": "stdout",
       "text": [
        " 2015-02-22\n",
        "(0.0, 0.27602622373694174, 6)"
       ]
      },
      {
       "output_type": "stream",
       "stream": "stdout",
       "text": [
        " 2015-02-22\n",
        "(0.0, -0.22222222222222218, 5)"
       ]
      },
      {
       "output_type": "stream",
       "stream": "stdout",
       "text": [
        " 2015-02-22\n",
        "(0.0, 0.52704627669472992, 5)"
       ]
      },
      {
       "output_type": "stream",
       "stream": "stdout",
       "text": [
        " 2015-02-22\n",
        "(0.22680460581325723, 0.18184824186332696, 8)"
       ]
      },
      {
       "output_type": "stream",
       "stream": "stdout",
       "text": [
        " 2015-02-22\n",
        "(0.080845208345444342, 0.17354389379771423, 26)"
       ]
      },
      {
       "output_type": "stream",
       "stream": "stdout",
       "text": [
        " 2015-02-22\n",
        "(0.40118870990143901, 0.76063882925566484, 9)"
       ]
      },
      {
       "output_type": "stream",
       "stream": "stdout",
       "text": [
        " 2015-02-24\n",
        "(0.58389625495626107, 0.67779727174359061, 25)"
       ]
      },
      {
       "output_type": "stream",
       "stream": "stdout",
       "text": [
        " 2015-02-25\n",
        "(0.0, 0.0, 18)"
       ]
      },
      {
       "output_type": "stream",
       "stream": "stdout",
       "text": [
        " 2015-02-28\n",
        "(0.59168020930691123, 0.68704291862151667, 12)"
       ]
      },
      {
       "output_type": "stream",
       "stream": "stdout",
       "text": [
        " 2015-02-28\n",
        "(0.80178372573727319, 0.69006555934235436, 6)"
       ]
      },
      {
       "output_type": "stream",
       "stream": "stdout",
       "text": [
        " 2015-02-28\n",
        "(0.66666666666666663, 0.10540925533894598, 5)"
       ]
      },
      {
       "output_type": "stream",
       "stream": "stdout",
       "text": [
        " 2015-02-28\n",
        "(0.0, -0.2581988897471611, 4)"
       ]
      },
      {
       "output_type": "stream",
       "stream": "stdout",
       "text": [
        " 2015-02-28\n",
        "(0.34694433324435547, 0.38888888888888884, 11)"
       ]
      },
      {
       "output_type": "stream",
       "stream": "stdout",
       "text": [
        " 2015-02-28\n",
        "(0.0, 0.17142857142857146, 9)"
       ]
      },
      {
       "output_type": "stream",
       "stream": "stdout",
       "text": [
        " 2015-02-28\n",
        "(0.39339789623472171, 0.51282051282051277, 13)"
       ]
      },
      {
       "output_type": "stream",
       "stream": "stdout",
       "text": [
        " 2015-02-28\n",
        "(0.54845431809534806, 0.40451991747794525, 10)"
       ]
      },
      {
       "output_type": "stream",
       "stream": "stdout",
       "text": [
        " 2015-02-28\n",
        "(0.53376051268362379, 0.38880789567986945, 11)"
       ]
      },
      {
       "output_type": "stream",
       "stream": "stdout",
       "text": [
        " 2015-02-28\n",
        "(0.67821377483851208, 0.65650767779389363, 12)"
       ]
      },
      {
       "output_type": "stream",
       "stream": "stdout",
       "text": [
        " 2015-03-01\n",
        "(0.28088828020593776, 0.053192241860260767, 20)"
       ]
      },
      {
       "output_type": "stream",
       "stream": "stdout",
       "text": [
        " 2015-03-01\n",
        "(0.0, -0.70710678118654757, 4)"
       ]
      },
      {
       "output_type": "stream",
       "stream": "stdout",
       "text": [
        " 2015-03-01\n",
        "(0.0, 0.45162230233094569, 13)"
       ]
      },
      {
       "output_type": "stream",
       "stream": "stdout",
       "text": [
        " 2015-03-01\n",
        "(0.0, -0.54772255750516619, 4)"
       ]
      },
      {
       "output_type": "stream",
       "stream": "stdout",
       "text": [
        " 2015-03-01\n",
        "(0.36689969285267143, 0.31536661119417758, 15)"
       ]
      },
      {
       "output_type": "stream",
       "stream": "stdout",
       "text": [
        " 2015-03-01\n",
        "(0.0, -0.58094750193111266, 11)"
       ]
      },
      {
       "output_type": "stream",
       "stream": "stdout",
       "text": [
        " 2015-03-06\n",
        "(0.0, 0.22222222222222218, 5)"
       ]
      },
      {
       "output_type": "stream",
       "stream": "stdout",
       "text": [
        " 2015-03-06\n",
        "(0.0, 0.061721339984836768, 9)"
       ]
      },
      {
       "output_type": "stream",
       "stream": "stdout",
       "text": [
        " 2015-03-06\n",
        "(0.0, 0.22222222222222221, 8)"
       ]
      },
      {
       "output_type": "stream",
       "stream": "stdout",
       "text": [
        " 2015-03-06\n",
        "(0.091287092917527693, 0.65000000000000013, 7)"
       ]
      },
      {
       "output_type": "stream",
       "stream": "stdout",
       "text": [
        " 2015-03-06\n",
        "(0.23094010767585033, 0.58554004376911994, 7)"
       ]
      },
      {
       "output_type": "stream",
       "stream": "stdout",
       "text": [
        " 2015-03-06\n",
        "(0.50141166531326598, 0.66885605405993864, 18)"
       ]
      },
      {
       "output_type": "stream",
       "stream": "stdout",
       "text": [
        " 2015-03-06\n",
        "(0.60451161613376014, 0.67608510707634073, 32)"
       ]
      },
      {
       "output_type": "stream",
       "stream": "stdout",
       "text": [
        " 2015-03-06\n",
        "(0.62192948264357772, 0.54724751424377849, 61)"
       ]
      },
      {
       "output_type": "stream",
       "stream": "stdout",
       "text": [
        " 2015-03-06\n",
        "(0.49413269354293671, 0.419674386861138, 18)"
       ]
      },
      {
       "output_type": "stream",
       "stream": "stdout",
       "text": [
        " 2015-03-06\n",
        "(0.0, -1.0, 2)"
       ]
      },
      {
       "output_type": "stream",
       "stream": "stdout",
       "text": [
        " 2015-03-06\n",
        "(0.50224720233392273, 0.56237734021741326, 23)"
       ]
      },
      {
       "output_type": "stream",
       "stream": "stdout",
       "text": [
        " 2015-03-06\n",
        "(0.0, -0.058848988633649978, 9)"
       ]
      },
      {
       "output_type": "stream",
       "stream": "stdout",
       "text": [
        " 2015-03-06\n",
        "(0.0, -0.81649658092772615, 3)"
       ]
      },
      {
       "output_type": "stream",
       "stream": "stdout",
       "text": [
        " 2015-03-06\n",
        "(0.0, -1.0, 2)"
       ]
      },
      {
       "output_type": "stream",
       "stream": "stdout",
       "text": [
        " 2015-03-06\n",
        "(0.42224771809447664, 0.58065724585407308, 13)"
       ]
      },
      {
       "output_type": "stream",
       "stream": "stdout",
       "text": [
        " 2015-03-07\n",
        "(0.54767981604528659, 0.5946438052364148, 34)"
       ]
      },
      {
       "output_type": "stream",
       "stream": "stdout",
       "text": [
        " 2015-03-07\n",
        "(0.72720400566798593, 0.48050385508851279, 27)"
       ]
      },
      {
       "output_type": "stream",
       "stream": "stdout",
       "text": [
        " 2015-03-07\n",
        "(0.0, 0.13801311186847087, 6)"
       ]
      },
      {
       "output_type": "stream",
       "stream": "stdout",
       "text": [
        " 2015-03-07\n",
        "(0.0, 0.07339758434175736, 11)"
       ]
      },
      {
       "output_type": "stream",
       "stream": "stdout",
       "text": [
        " 2015-03-07\n",
        "(0.0, 0.25458753860865774, 8)"
       ]
      },
      {
       "output_type": "stream",
       "stream": "stdout",
       "text": [
        " 2015-03-07\n",
        "(0.0, 0.33333333333333331, 7)"
       ]
      },
      {
       "output_type": "stream",
       "stream": "stdout",
       "text": [
        " 2015-03-07\n",
        "(0.81649658092772615, 0.33333333333333326, 3)"
       ]
      },
      {
       "output_type": "stream",
       "stream": "stdout",
       "text": [
        " 2015-03-07\n",
        "(0.0, 0.10540925533894598, 5)"
       ]
      },
      {
       "output_type": "stream",
       "stream": "stdout",
       "text": [
        " 2015-03-07\n",
        "(0.0, 0.55205244747388349, 6)"
       ]
      },
      {
       "output_type": "stream",
       "stream": "stdout",
       "text": [
        " 2015-03-07\n",
        "(0.55119553291027457, 0.5842575652637797, 43)"
       ]
      },
      {
       "output_type": "stream",
       "stream": "stdout",
       "text": [
        " 2015-03-07\n",
        "(0.0, 0.30939698726150483, 14)"
       ]
      },
      {
       "output_type": "stream",
       "stream": "stdout",
       "text": [
        " 2015-03-07\n",
        "(0.52752818825897796, 0.59260885094595972, 17)"
       ]
      },
      {
       "output_type": "stream",
       "stream": "stdout",
       "text": [
        " 2015-03-07\n",
        "(0.44474958999666075, 0.64285714285714302, 6)"
       ]
      },
      {
       "output_type": "stream",
       "stream": "stdout",
       "text": [
        " 2015-03-07\n",
        "(0.0, 0.69102331908064241, 8)"
       ]
      },
      {
       "output_type": "stream",
       "stream": "stdout",
       "text": [
        " 2015-03-07\n",
        "(0.0, 0.29629629629629628, 8)"
       ]
      },
      {
       "output_type": "stream",
       "stream": "stdout",
       "text": [
        " 2015-03-07\n",
        "(0.0, 0.381690510345287, 12)"
       ]
      },
      {
       "output_type": "stream",
       "stream": "stdout",
       "text": [
        " 2015-03-07\n",
        "(0.21442250696755888, 0.50288651689209163, 30)"
       ]
      },
      {
       "output_type": "stream",
       "stream": "stdout",
       "text": [
        " 2015-03-07\n",
        "(0.51968573729730116, 0.67303294306224448, 21)"
       ]
      },
      {
       "output_type": "stream",
       "stream": "stdout",
       "text": [
        " 2015-03-07\n",
        "(0.48433600356813966, 0.60198137826089304, 23)"
       ]
      },
      {
       "output_type": "stream",
       "stream": "stdout",
       "text": [
        " 2015-03-07\n",
        "(0.091287092917527693, 0.0, 7)"
       ]
      },
      {
       "output_type": "stream",
       "stream": "stdout",
       "text": [
        " 2015-03-07\n",
        "(0.060858061945018471, 0.33333333333333331, 9)"
       ]
      },
      {
       "output_type": "stream",
       "stream": "stdout",
       "text": [
        " 2015-03-07\n",
        "(0.0, 1.0, 4)"
       ]
      },
      {
       "output_type": "stream",
       "stream": "stdout",
       "text": [
        " 2015-03-07\n",
        "(0.0, 0.31622776601683794, 5)"
       ]
      },
      {
       "output_type": "stream",
       "stream": "stdout",
       "text": [
        " 2015-03-07\n",
        "(0.39529571501767358, 0.49076687981750999, 20)"
       ]
      },
      {
       "output_type": "stream",
       "stream": "stdout",
       "text": [
        " 2015-03-07\n",
        "(0.0, 0.33333333333333331, 4)"
       ]
      },
      {
       "output_type": "stream",
       "stream": "stdout",
       "text": [
        " 2015-03-07\n",
        "(0.0, 1.0, 2)"
       ]
      },
      {
       "output_type": "stream",
       "stream": "stdout",
       "text": [
        " 2015-03-07\n",
        "(0.26148818018424536, 0.44444444444444442, 9)"
       ]
      },
      {
       "output_type": "stream",
       "stream": "stdout",
       "text": [
        " 2015-03-07\n",
        "(0.0, -0.59761430466719689, 6)"
       ]
      },
      {
       "output_type": "stream",
       "stream": "stdout",
       "text": [
        " 2015-03-07\n",
        "(0.32373409722088242, 0.34918859426152765, 36)"
       ]
      },
      {
       "output_type": "stream",
       "stream": "stdout",
       "text": [
        " 2015-03-07\n",
        "(0.55339501748432862, 0.69783068864241604, 25)"
       ]
      },
      {
       "output_type": "stream",
       "stream": "stdout",
       "text": [
        " 2015-03-07\n",
        "(0.0, 0.18184824186332696, 8)"
       ]
      },
      {
       "output_type": "stream",
       "stream": "stdout",
       "text": [
        " 2015-03-07\n",
        "(0.0, 0.31622776601683794, 5)"
       ]
      },
      {
       "output_type": "stream",
       "stream": "stdout",
       "text": [
        " 2015-03-07\n",
        "(0.88191710368819687, 0.94868329805051377, 5)"
       ]
      },
      {
       "output_type": "stream",
       "stream": "stdout",
       "text": [
        " 2015-03-07\n",
        "(0.6525179122289485, 0.65650767779389363, 12)"
       ]
      },
      {
       "output_type": "stream",
       "stream": "stdout",
       "text": [
        " 2015-03-07\n",
        "(0.36514837167011077, 0.78072005835882663, 7)"
       ]
      },
      {
       "output_type": "stream",
       "stream": "stdout",
       "text": [
        " 2015-03-07\n",
        "(0.38191436979850057, 0.45454545454545442, 11)"
       ]
      },
      {
       "output_type": "stream",
       "stream": "stdout",
       "text": [
        " 2015-03-07\n",
        "(0.19069251784911848, 0.56363636363636349, 11)"
       ]
      },
      {
       "output_type": "stream",
       "stream": "stdout",
       "text": [
        " 2015-03-07\n",
        "(0.0, -0.32025630761017437, 8)"
       ]
      },
      {
       "output_type": "stream",
       "stream": "stdout",
       "text": [
        " 2015-03-07\n",
        "(0.24367073690445162, 0.19831960782395017, 25)"
       ]
      },
      {
       "output_type": "stream",
       "stream": "stdout",
       "text": [
        " 2015-03-08\n",
        "(0.13483997249264845, 0.58554004376911994, 7)"
       ]
      },
      {
       "output_type": "stream",
       "stream": "stdout",
       "text": [
        " 2015-03-08\n",
        "(0.75925660236529646, 0.39036002917941331, 7)"
       ]
      },
      {
       "output_type": "stream",
       "stream": "stdout",
       "text": [
        " 2015-03-08\n",
        "(0.28229954700369037, 0.38546941925845096, 32)"
       ]
      },
      {
       "output_type": "stream",
       "stream": "stdout",
       "text": [
        " 2015-03-08\n",
        "(0.48995593493886597, 0.44946657497549475, 10)"
       ]
      },
      {
       "output_type": "stream",
       "stream": "stdout",
       "text": [
        " 2015-03-08\n",
        "(0.51972203004270956, 0.52376313607862801, 30)"
       ]
      },
      {
       "output_type": "stream",
       "stream": "stdout",
       "text": [
        " 2015-03-08\n",
        "(0.0, 0.35166958581108637, 22)"
       ]
      },
      {
       "output_type": "stream",
       "stream": "stdout",
       "text": [
        " 2015-03-08\n",
        "(0.53657698184862201, 0.64844898173309595, 47)"
       ]
      },
      {
       "output_type": "stream",
       "stream": "stdout",
       "text": [
        " 2015-03-08\n",
        "(0.0, 0.09435641951204965, 11)"
       ]
      },
      {
       "output_type": "stream",
       "stream": "stdout",
       "text": [
        " 2015-03-08\n",
        "(0.44008622942335202, 0.20454545454545459, 10)"
       ]
      },
      {
       "output_type": "stream",
       "stream": "stdout",
       "text": [
        " 2015-03-08\n",
        "(0.6001641741636079, 0.54629889832056566, 26)"
       ]
      },
      {
       "output_type": "stream",
       "stream": "stdout",
       "text": [
        " 2015-03-08\n",
        "(0.0, 0.0, 11)"
       ]
      },
      {
       "output_type": "stream",
       "stream": "stdout",
       "text": [
        " 2015-03-08\n",
        "(0.55704849905823306, 0.72727272727272763, 12)"
       ]
      },
      {
       "output_type": "stream",
       "stream": "stdout",
       "text": [
        " 2015-03-08\n",
        "(0.35038049901879392, 0.48702325494157894, 31)"
       ]
      },
      {
       "output_type": "stream",
       "stream": "stdout",
       "text": [
        " 2015-03-08\n",
        "(0.89442719099991597, 0.54772255750516619, 4)"
       ]
      },
      {
       "output_type": "stream",
       "stream": "stdout",
       "text": [
        " 2015-03-08\n",
        "(0.0, 0.40451991747794525, 10)"
       ]
      },
      {
       "output_type": "stream",
       "stream": "stdout",
       "text": [
        " 2015-03-08\n",
        "(0.25532146059408256, 0.26794565082283345, 15)"
       ]
      },
      {
       "output_type": "stream",
       "stream": "stdout",
       "text": [
        " 2015-03-12\n",
        "(0.5550810408950354, 0.63158617693953589, 15)"
       ]
      },
      {
       "output_type": "stream",
       "stream": "stdout",
       "text": [
        " 2015-03-13\n",
        "(0.36689969285267143, 0.2488066757640596, 15)"
       ]
      },
      {
       "output_type": "stream",
       "stream": "stdout",
       "text": [
        " 2015-03-13\n",
        "(0.0, 0.41403933560541262, 6)"
       ]
      },
      {
       "output_type": "stream",
       "stream": "stdout",
       "text": [
        " 2015-03-13\n",
        "(0.41717875759162115, 0.38647793974415567, 15)"
       ]
      },
      {
       "output_type": "stream",
       "stream": "stdout",
       "text": [
        " 2015-03-13\n",
        "(0.38005847503304613, 0.036273812505500581, 14)"
       ]
      },
      {
       "output_type": "stream",
       "stream": "stdout",
       "text": [
        " 2015-03-13\n",
        "(0.35013385774357658, 0.24732612633112072, 20)"
       ]
      },
      {
       "output_type": "stream",
       "stream": "stdout",
       "text": [
        " 2015-03-13\n",
        "(0.41853933527826892, 0.30289176103669896, 20)"
       ]
      },
      {
       "output_type": "stream",
       "stream": "stdout",
       "text": [
        " 2015-03-13\n",
        "(0.33376833315070081, 0.38787213524812048, 25)"
       ]
      },
      {
       "output_type": "stream",
       "stream": "stdout",
       "text": [
        " 2015-03-13\n",
        "(0.47394095151717269, 0.35172160409194342, 19)"
       ]
      },
      {
       "output_type": "stream",
       "stream": "stdout",
       "text": [
        " 2015-03-13\n",
        "(0.25642338938082687, 0.4463103447430668, 46)"
       ]
      },
      {
       "output_type": "stream",
       "stream": "stdout",
       "text": [
        " 2015-03-13\n",
        "(0.0, 0.40000000000000008, 4)"
       ]
      },
      {
       "output_type": "stream",
       "stream": "stdout",
       "text": [
        " 2015-03-13\n",
        "(0.19474520942612991, 0.54550055013943743, 13)"
       ]
      },
      {
       "output_type": "stream",
       "stream": "stdout",
       "text": [
        " 2015-03-13\n",
        "(0.0, 0.18184824186332696, 8)"
       ]
      },
      {
       "output_type": "stream",
       "stream": "stdout",
       "text": [
        " 2015-03-13\n",
        "(0.0, 0.45162230233094569, 13)"
       ]
      },
      {
       "output_type": "stream",
       "stream": "stdout",
       "text": [
        " 2015-03-13\n",
        "(0.42024886101039433, 0.23652495839563317, 15)"
       ]
      },
      {
       "output_type": "stream",
       "stream": "stdout",
       "text": [
        " 2015-03-13\n",
        "(0.5361109642475097, 0.50000000000000011, 8)"
       ]
      },
      {
       "output_type": "stream",
       "stream": "stdout",
       "text": [
        " 2015-03-14\n",
        "(0.34641016151377552, 0.59999999999999998, 6)"
       ]
      },
      {
       "output_type": "stream",
       "stream": "stdout",
       "text": [
        " 2015-03-14\n",
        "(0.55045572126946385, 0.56166098033516376, 41)"
       ]
      },
      {
       "output_type": "stream",
       "stream": "stdout",
       "text": [
        " 2015-03-14\n",
        "(0.57735026918962584, 0.39036002917941331, 7)"
       ]
      },
      {
       "output_type": "stream",
       "stream": "stdout",
       "text": [
        " 2015-03-14\n",
        "(0.88888888888888873, 0.73786478737262184, 5)"
       ]
      },
      {
       "output_type": "stream",
       "stream": "stdout",
       "text": [
        " 2015-03-14\n",
        "(0.38763916246466956, 0.45987093009978114, 22)"
       ]
      },
      {
       "output_type": "stream",
       "stream": "stdout",
       "text": [
        " 2015-03-14\n",
        "(0.27121366357901927, 0.4621973319117863, 27)"
       ]
      },
      {
       "output_type": "stream",
       "stream": "stdout",
       "text": [
        " 2015-03-14\n",
        "(0.0, -1.0, 2)"
       ]
      },
      {
       "output_type": "stream",
       "stream": "stdout",
       "text": [
        " 2015-03-14\n",
        "(0.0, 0.99999999999999989, 3)"
       ]
      },
      {
       "output_type": "stream",
       "stream": "stdout",
       "text": [
        " 2015-03-14\n",
        "(0.0, 0.77777777777777779, 9)"
       ]
      },
      {
       "output_type": "stream",
       "stream": "stdout",
       "text": [
        " 2015-03-14\n",
        "(-0.17272043058086523, 0.33653846153846156, 15)"
       ]
      },
      {
       "output_type": "stream",
       "stream": "stdout",
       "text": [
        " 2015-03-14\n",
        "(0.27865093784566514, 0.36170724464977322, 20)"
       ]
      },
      {
       "output_type": "stream",
       "stream": "stdout",
       "text": [
        " 2015-03-14\n",
        "(0.0, 0.23539595453459991, 9)"
       ]
      },
      {
       "output_type": "stream",
       "stream": "stdout",
       "text": [
        " 2015-03-14\n",
        "(0.0, 0.52704627669472992, 5)"
       ]
      },
      {
       "output_type": "stream",
       "stream": "stdout",
       "text": [
        " 2015-03-14\n",
        "(0.60000000000000009, 0.54772255750516619, 4)"
       ]
      },
      {
       "output_type": "stream",
       "stream": "stdout",
       "text": [
        " 2015-03-14\n",
        "(0.79259392390121719, 0.76376261582597327, 8)"
       ]
      },
      {
       "output_type": "stream",
       "stream": "stdout",
       "text": [
        " 2015-03-14\n",
        "(0.42700841014689916, -0.07407407407407407, 8)"
       ]
      },
      {
       "output_type": "stream",
       "stream": "stdout",
       "text": [
        " 2015-03-14\n",
        "(0.61044109182270379, 0.39807701415756636, 15)"
       ]
      },
      {
       "output_type": "stream",
       "stream": "stdout",
       "text": [
        " 2015-03-14\n",
        "(0.0, 0.13801311186847087, 6)"
       ]
      },
      {
       "output_type": "stream",
       "stream": "stdout",
       "text": [
        " 2015-03-14\n",
        "(0.0, 0.48619526569665039, 14)"
       ]
      },
      {
       "output_type": "stream",
       "stream": "stdout",
       "text": [
        " 2015-03-14\n",
        "(0.56452026320763382, 0.47970806300088481, 17)"
       ]
      },
      {
       "output_type": "stream",
       "stream": "stdout",
       "text": [
        " 2015-03-14\n",
        "(0.0, 0.20588235294117641, 19)"
       ]
      },
      {
       "output_type": "stream",
       "stream": "stdout",
       "text": [
        " 2015-03-14\n",
        "(0.0, -0.25458753860865774, 8)"
       ]
      },
      {
       "output_type": "stream",
       "stream": "stdout",
       "text": [
        " 2015-03-14\n",
        "(0.30934411244487309, 0.47255504512880997, 21)"
       ]
      },
      {
       "output_type": "stream",
       "stream": "stdout",
       "text": [
        " 2015-03-14\n",
        "(0.47919685895217384, 0.31734533398520071, 17)"
       ]
      },
      {
       "output_type": "stream",
       "stream": "stdout",
       "text": [
        " 2015-03-14\n",
        "(0.68429026338021393, 0.67595635661441267, 23)"
       ]
      },
      {
       "output_type": "stream",
       "stream": "stdout",
       "text": [
        " 2015-03-14\n",
        "(0.45176266575807233, 0.48074017006186531, 26)"
       ]
      },
      {
       "output_type": "stream",
       "stream": "stdout",
       "text": [
        " 2015-03-14\n",
        "(0.39445218098503737, 0.51071588623554487, 53)"
       ]
      },
      {
       "output_type": "stream",
       "stream": "stdout",
       "text": [
        " 2015-03-14\n",
        "(0.5778931235349779, 0.54287655859583106, 39)"
       ]
      },
      {
       "output_type": "stream",
       "stream": "stdout",
       "text": [
        " 2015-03-14\n",
        "(0.23711712978194441, 0.45910450047444479, 20)"
       ]
      },
      {
       "output_type": "stream",
       "stream": "stdout",
       "text": [
        " 2015-03-14\n",
        "(0.5729304817078823, 0.54304683395208275, 28)"
       ]
      },
      {
       "output_type": "stream",
       "stream": "stdout",
       "text": [
        " 2015-03-14\n",
        "(0.22857142857142862, 0.47892074434615939, 9)"
       ]
      },
      {
       "output_type": "stream",
       "stream": "stdout",
       "text": [
        " 2015-03-14\n",
        "(0.0, 0.73786478737262184, 5)"
       ]
      },
      {
       "output_type": "stream",
       "stream": "stdout",
       "text": [
        " 2015-03-14\n",
        "(0.0, 0.03289758474798845, 12)"
       ]
      },
      {
       "output_type": "stream",
       "stream": "stdout",
       "text": [
        " 2015-03-14\n",
        "(0.48076236643605169, 0.5470588235294116, 19)"
       ]
      },
      {
       "output_type": "stream",
       "stream": "stdout",
       "text": [
        " 2015-03-14\n",
        "(0.45157675828971883, 0.6259724369662707, 12)"
       ]
      },
      {
       "output_type": "stream",
       "stream": "stdout",
       "text": [
        " 2015-03-14\n",
        "(0.55903776756736523, 0.4992301766027063, 26)"
       ]
      },
      {
       "output_type": "stream",
       "stream": "stdout",
       "text": [
        " 2015-03-14\n",
        "(0.0, 0.19999999999999996, 5)"
       ]
      },
      {
       "output_type": "stream",
       "stream": "stdout",
       "text": [
        " 2015-03-14\n",
        "(0.62360956446232352, 0.82807867121082523, 6)"
       ]
      },
      {
       "output_type": "stream",
       "stream": "stdout",
       "text": [
        " 2015-03-14\n",
        "(0.7745966692414834, 0.91287092917527701, 4)"
       ]
      },
      {
       "output_type": "stream",
       "stream": "stdout",
       "text": [
        " 2015-03-14\n",
        "(0.6101792298525176, 0.66424791790617443, 24)"
       ]
      },
      {
       "output_type": "stream",
       "stream": "stdout",
       "text": [
        " 2015-03-14\n",
        "(0.66669054676533823, 0.69016915857583228, 64)"
       ]
      },
      {
       "output_type": "stream",
       "stream": "stdout",
       "text": [
        " 2015-03-14\n",
        "(0.38906749618120673, 0.40023276114858974, 42)"
       ]
      },
      {
       "output_type": "stream",
       "stream": "stdout",
       "text": [
        " 2015-03-14\n",
        "(0.69181686685515709, 0.68118945434785272, 23)"
       ]
      },
      {
       "output_type": "stream",
       "stream": "stdout",
       "text": [
        " 2015-03-14\n",
        "(0.0, 0.0, 8)"
       ]
      },
      {
       "output_type": "stream",
       "stream": "stdout",
       "text": [
        " 2015-03-14\n",
        "(0.0, -0.15430334996209194, 6)"
       ]
      },
      {
       "output_type": "stream",
       "stream": "stdout",
       "text": [
        " 2015-03-14\n",
        "(0.32897584747988451, 0.57899749156459668, 13)"
       ]
      },
      {
       "output_type": "stream",
       "stream": "stdout",
       "text": [
        " 2015-03-14\n",
        "(0.5965169652897917, 0.65564351674719679, 18)"
       ]
      },
      {
       "output_type": "stream",
       "stream": "stdout",
       "text": [
        " 2015-03-14\n",
        "(0.0, 0.35634832254989918, 6)"
       ]
      },
      {
       "output_type": "stream",
       "stream": "stdout",
       "text": [
        " 2015-03-14\n",
        "(0.39981762480353855, 0.4919181709829028, 30)"
       ]
      },
      {
       "output_type": "stream",
       "stream": "stdout",
       "text": [
        " 2015-03-14\n",
        "(0.45029362920222715, 0.58997306834413121, 19)"
       ]
      },
      {
       "output_type": "stream",
       "stream": "stdout",
       "text": [
        " 2015-03-15\n",
        "(0.0, 0.0, 2)"
       ]
      },
      {
       "output_type": "stream",
       "stream": "stdout",
       "text": [
        " 2015-03-15\n",
        "(0.0, 0.0, 5)"
       ]
      },
      {
       "output_type": "stream",
       "stream": "stdout",
       "text": [
        " 2015-03-15\n",
        "(0.0, 0.68888888888888899, 10)"
       ]
      },
      {
       "output_type": "stream",
       "stream": "stdout",
       "text": [
        " 2015-03-15\n",
        "(0.2581988897471611, 0.46666666666666667, 6)"
       ]
      },
      {
       "output_type": "stream",
       "stream": "stdout",
       "text": [
        " 2015-03-15\n",
        "(0.53104764891284539, 0.054545454545454529, 11)"
       ]
      },
      {
       "output_type": "stream",
       "stream": "stdout",
       "text": [
        " 2015-03-15\n",
        "(0.32732683535398854, 0.14085904245475275, 9)"
       ]
      },
      {
       "output_type": "stream",
       "stream": "stdout",
       "text": [
        " 2015-03-15\n",
        "(0.0, 1.0, 2)"
       ]
      },
      {
       "output_type": "stream",
       "stream": "stdout",
       "text": [
        " 2015-03-15\n",
        "(0.77459666924148329, 0.46666666666666667, 6)"
       ]
      },
      {
       "output_type": "stream",
       "stream": "stdout",
       "text": [
        " 2015-03-15\n",
        "(0.0, 0.66666666666666663, 4)"
       ]
      },
      {
       "output_type": "stream",
       "stream": "stdout",
       "text": [
        " 2015-03-15\n",
        "(0.24123615194625669, 0.28994590435282991, 19)"
       ]
      },
      {
       "output_type": "stream",
       "stream": "stdout",
       "text": [
        " 2015-03-15\n",
        "(0.28297433440883479, 0.44317652592874435, 38)"
       ]
      },
      {
       "output_type": "stream",
       "stream": "stdout",
       "text": [
        " 2015-03-15\n",
        "(0.41206052094300222, 0.602719720886156, 52)"
       ]
      },
      {
       "output_type": "stream",
       "stream": "stdout",
       "text": [
        " 2015-03-15\n",
        "(0.0, -0.14954291412266973, 19)"
       ]
      },
      {
       "output_type": "stream",
       "stream": "stdout",
       "text": [
        " 2015-03-15\n",
        "(0.36514837167011061, 0.51613125159037676, 19)"
       ]
      },
      {
       "output_type": "stream",
       "stream": "stdout",
       "text": [
        " 2015-03-15\n",
        "(0.53547955260166602, 0.46494781490854986, 17)"
       ]
      },
      {
       "output_type": "stream",
       "stream": "stdout",
       "text": [
        " 2015-03-15\n",
        "(0.22360679774997899, 0.54772255750516619, 4)"
       ]
      },
      {
       "output_type": "stream",
       "stream": "stdout",
       "text": [
        " 2015-03-15\n",
        "(0.44835328094162791, 0.50466235413962601, 60)"
       ]
      },
      {
       "output_type": "stream",
       "stream": "stdout",
       "text": [
        " 2015-03-15\n",
        "(-0.54772255750516619, -0.18257418583505539, 4)"
       ]
      },
      {
       "output_type": "stream",
       "stream": "stdout",
       "text": [
        " 2015-03-15\n",
        "(0.51558874894049622, 0.56332414834608291, 22)"
       ]
      },
      {
       "output_type": "stream",
       "stream": "stdout",
       "text": [
        " 2015-03-15\n",
        "(0.0, 0.52704627669472992, 5)"
       ]
      },
      {
       "output_type": "stream",
       "stream": "stdout",
       "text": [
        " 2015-03-15\n",
        "(0.0, -0.22473328748774737, 10)"
       ]
      },
      {
       "output_type": "stream",
       "stream": "stdout",
       "text": [
        " 2015-03-15\n",
        "(0.0, 0.0, 2)"
       ]
      },
      {
       "output_type": "stream",
       "stream": "stdout",
       "text": [
        " 2015-03-15\n",
        "(0.0, 0.0, 4)"
       ]
      },
      {
       "output_type": "stream",
       "stream": "stdout",
       "text": [
        " 2015-03-15\n",
        "(0.0, 0.0, 2)"
       ]
      },
      {
       "output_type": "stream",
       "stream": "stdout",
       "text": [
        " 2015-03-15\n",
        "(0.0, 0.0, 3)"
       ]
      },
      {
       "output_type": "stream",
       "stream": "stdout",
       "text": [
        " 2015-03-15\n",
        "(0.0, 0.0, 4)"
       ]
      },
      {
       "output_type": "stream",
       "stream": "stdout",
       "text": [
        " 2015-03-15\n",
        "(0.0, 0.0, 6)"
       ]
      },
      {
       "output_type": "stream",
       "stream": "stdout",
       "text": [
        " 2015-03-15\n",
        "(0.52915026221291828, 0.60000000000000009, 10)"
       ]
      },
      {
       "output_type": "stream",
       "stream": "stdout",
       "text": [
        " 2015-03-15\n",
        "(0.0, 0.036980013081681952, 12)"
       ]
      },
      {
       "output_type": "stream",
       "stream": "stdout",
       "text": [
        " 2015-03-15\n",
        "(0.99999999999999989, 0.33333333333333326, 3)"
       ]
      },
      {
       "output_type": "stream",
       "stream": "stdout",
       "text": [
        " 2015-03-15\n",
        "(0.62375381835378874, 0.25954954703479516, 12)"
       ]
      },
      {
       "output_type": "stream",
       "stream": "stdout",
       "text": [
        " 2015-03-19\n",
        "(0.0, 0.30988989340045608, 9)"
       ]
      },
      {
       "output_type": "stream",
       "stream": "stdout",
       "text": [
        " 2015-03-20\n",
        "(0.0, 0.57705228193406477, 18)"
       ]
      },
      {
       "output_type": "stream",
       "stream": "stdout",
       "text": [
        " 2015-03-20\n",
        "(0.64961346185538427, 0.4425173100960158, 22)"
       ]
      },
      {
       "output_type": "stream",
       "stream": "stdout",
       "text": [
        " 2015-03-20\n",
        "(-0.33709993123162113, 0.0, 7)"
       ]
      },
      {
       "output_type": "stream",
       "stream": "stdout",
       "text": [
        " 2015-03-20\n",
        "(0.50453180916975982, 0.52263717836415302, 36)"
       ]
      },
      {
       "output_type": "stream",
       "stream": "stdout",
       "text": [
        " 2015-03-20\n",
        "(0.3370659362471255, 0.39645664472733882, 19)"
       ]
      },
      {
       "output_type": "stream",
       "stream": "stdout",
       "text": [
        " 2015-03-20\n",
        "(0.36909141330184425, 0.51382624877076077, 30)"
       ]
      },
      {
       "output_type": "stream",
       "stream": "stdout",
       "text": [
        " 2015-03-20\n",
        "(0.46205941750953433, 0.36111111111111105, 23)"
       ]
      },
      {
       "output_type": "stream",
       "stream": "stdout",
       "text": [
        " 2015-03-20\n",
        "(0.60450980038824198, 0.71587203247824349, 17)"
       ]
      },
      {
       "output_type": "stream",
       "stream": "stdout",
       "text": [
        " 2015-03-20\n",
        "(0.0, 0.0, 7)"
       ]
      },
      {
       "output_type": "stream",
       "stream": "stdout",
       "text": [
        " 2015-03-20\n",
        "(0.47434164902525688, 0.58554004376911994, 7)"
       ]
      },
      {
       "output_type": "stream",
       "stream": "stdout",
       "text": [
        " 2015-03-21\n",
        "(0.458509567078278, 0.46419894589133787, 29)"
       ]
      },
      {
       "output_type": "stream",
       "stream": "stdout",
       "text": [
        " 2015-03-21\n",
        "(0.0, 0.0, 1)"
       ]
      },
      {
       "output_type": "stream",
       "stream": "stdout",
       "text": [
        " 2015-03-21\n",
        "(0.51434449987363962, 0.42857142857142855, 7)"
       ]
      },
      {
       "output_type": "stream",
       "stream": "stdout",
       "text": [
        " 2015-03-21\n",
        "(0.54520516986605794, 0.099676136349451161, 17)"
       ]
      },
      {
       "output_type": "stream",
       "stream": "stdout",
       "text": [
        " 2015-03-21\n",
        "(0.0, 1.0, 2)"
       ]
      },
      {
       "output_type": "stream",
       "stream": "stdout",
       "text": [
        " 2015-03-21\n",
        "(0.70710678118654757, 1.0, 4)"
       ]
      },
      {
       "output_type": "stream",
       "stream": "stdout",
       "text": [
        " 2015-03-21\n",
        "(0.81649658092772615, 0.33333333333333326, 3)"
       ]
      },
      {
       "output_type": "stream",
       "stream": "stdout",
       "text": [
        " 2015-03-21\n",
        "(0.34044145332459513, 0.22222222222222221, 9)"
       ]
      },
      {
       "output_type": "stream",
       "stream": "stdout",
       "text": [
        " 2015-03-21\n",
        "(0.46188021535170054, 0.76376261582597327, 8)"
       ]
      },
      {
       "output_type": "stream",
       "stream": "stdout",
       "text": [
        " 2015-03-21\n",
        "(0.43747863925980712, 0.42133838459981277, 21)"
       ]
      },
      {
       "output_type": "stream",
       "stream": "stdout",
       "text": [
        " 2015-03-21\n",
        "(0.37893237337253671, 0.65650767779389363, 12)"
       ]
      },
      {
       "output_type": "stream",
       "stream": "stdout",
       "text": [
        " 2015-03-21\n",
        "(0.4005551702879947, 0.5745944049142232, 14)"
       ]
      },
      {
       "output_type": "stream",
       "stream": "stdout",
       "text": [
        " 2015-03-21\n",
        "(0.62360956446232363, 0.43617638325413832, 20)"
       ]
      },
      {
       "output_type": "stream",
       "stream": "stdout",
       "text": [
        " 2015-03-21\n",
        "(0.57881547631615793, 0.57061399001455104, 27)"
       ]
      },
      {
       "output_type": "stream",
       "stream": "stdout",
       "text": [
        " 2015-03-21\n",
        "(0.0, 0.0, 12)"
       ]
      },
      {
       "output_type": "stream",
       "stream": "stdout",
       "text": [
        " 2015-03-21\n",
        "(0.42574473717909644, 0.52838931744089956, 22)"
       ]
      },
      {
       "output_type": "stream",
       "stream": "stdout",
       "text": [
        " 2015-03-21\n",
        "(0.0, 0.0, 20)"
       ]
      },
      {
       "output_type": "stream",
       "stream": "stdout",
       "text": [
        " 2015-03-21\n",
        "(0.0, 0.31914236925211265, 9)"
       ]
      },
      {
       "output_type": "stream",
       "stream": "stdout",
       "text": [
        " 2015-03-21\n",
        "(0.0, 0.39999999999999991, 5)"
       ]
      },
      {
       "output_type": "stream",
       "stream": "stdout",
       "text": [
        " 2015-03-21\n",
        "(0.30550504633038938, 0.17654696590094993, 9)"
       ]
      },
      {
       "output_type": "stream",
       "stream": "stdout",
       "text": [
        " 2015-03-21\n",
        "(0.62731540564719068, 0.68586906849050389, 21)"
       ]
      },
      {
       "output_type": "stream",
       "stream": "stdout",
       "text": [
        " 2015-03-21\n",
        "(0.57735026918962584, 0.58554004376911994, 7)"
       ]
      },
      {
       "output_type": "stream",
       "stream": "stdout",
       "text": [
        " 2015-03-21\n",
        "(0.0, 0.0, 2)"
       ]
      },
      {
       "output_type": "stream",
       "stream": "stdout",
       "text": [
        " 2015-03-22\n",
        "(0.0, -0.047619047619047616, 7)"
       ]
      },
      {
       "output_type": "stream",
       "stream": "stdout",
       "text": [
        " 2015-03-22\n",
        "(0.0, 0.0, 7)"
       ]
      },
      {
       "output_type": "stream",
       "stream": "stdout",
       "text": [
        " 2015-03-22\n",
        "(0.1858254061388126, 0.19088982004141858, 22)"
       ]
      },
      {
       "output_type": "stream",
       "stream": "stdout",
       "text": [
        " 2015-03-22\n",
        "(0.0, 0.0, 1)"
       ]
      },
      {
       "output_type": "stream",
       "stream": "stdout",
       "text": [
        " 2015-03-22\n",
        "(0.70710678118654757, 0.33333333333333331, 4)"
       ]
      },
      {
       "output_type": "stream",
       "stream": "stdout",
       "text": [
        " 2015-03-22\n",
        "(-0.27602622373694174, 0.20000000000000001, 6)"
       ]
      },
      {
       "output_type": "stream",
       "stream": "stdout",
       "text": [
        " 2015-03-22\n",
        "(-0.076980035891950085, -0.10910894511799617, 8)"
       ]
      },
      {
       "output_type": "stream",
       "stream": "stdout",
       "text": [
        " 2015-03-22\n",
        "(0.67821377483851208, 0.77864864110438547, 12)"
       ]
      },
      {
       "output_type": "stream",
       "stream": "stdout",
       "text": [
        " 2015-03-22\n",
        "(0.80178372573727319, 0.41403933560541262, 6)"
       ]
      },
      {
       "output_type": "stream",
       "stream": "stdout",
       "text": [
        " 2015-03-22\n",
        "(0.34341479757995447, 0.14679516868351472, 11)"
       ]
      },
      {
       "output_type": "stream",
       "stream": "stdout",
       "text": [
        " 2015-03-22\n",
        "(0.1906925178491185, 0.3595732599803958, 10)"
       ]
      },
      {
       "output_type": "stream",
       "stream": "stdout",
       "text": [
        " 2015-03-22\n",
        "(1.0, -1.0, 2)"
       ]
      },
      {
       "output_type": "stream",
       "stream": "stdout",
       "text": [
        " 2015-03-22\n",
        "(0.8500000000000002, 0.87831006565367986, 7)"
       ]
      },
      {
       "output_type": "stream",
       "stream": "stdout",
       "text": [
        " 2015-03-22\n",
        "(0.46722127730271013, 0.56313504413177851, 46)"
       ]
      },
      {
       "output_type": "stream",
       "stream": "stdout",
       "text": [
        " 2015-03-22\n",
        "(0.3550358012483632, 0.30962614123961751, 16)"
       ]
      },
      {
       "output_type": "stream",
       "stream": "stdout",
       "text": [
        " 2015-03-22\n",
        "(-0.53452248382484879, 0.27602622373694174, 6)"
       ]
      },
      {
       "output_type": "stream",
       "stream": "stdout",
       "text": [
        " 2015-03-22\n",
        "(0.0, 0.0, 3)"
       ]
      },
      {
       "output_type": "stream",
       "stream": "stdout",
       "text": [
        " 2015-03-22\n",
        "(0.0, 0.057142857142857155, 9)"
       ]
      },
      {
       "output_type": "stream",
       "stream": "stdout",
       "text": [
        " 2015-03-22\n",
        "(0.0, 0.0, 7)"
       ]
      },
      {
       "output_type": "stream",
       "stream": "stdout",
       "text": [
        " 2015-03-22\n",
        "(0.33658091640304461, 0.22901430620717222, 12)"
       ]
      },
      {
       "output_type": "stream",
       "stream": "stdout",
       "text": [
        " 2015-03-22\n",
        "(0.59513970064361554, 0.3742013362170693, 13)"
       ]
      },
      {
       "output_type": "stream",
       "stream": "stdout",
       "text": [
        " 2015-03-22\n",
        "(0.53176007523519331, 0.26913022441605383, 20)"
       ]
      },
      {
       "output_type": "stream",
       "stream": "stdout",
       "text": [
        " 2015-03-22\n",
        "(0.0, 0.0, 4)"
       ]
      },
      {
       "output_type": "stream",
       "stream": "stdout",
       "text": [
        " 2015-03-22\n",
        "(0.0, -0.34641016151377552, 7)"
       ]
      },
      {
       "output_type": "stream",
       "stream": "stdout",
       "text": [
        " 2015-03-22\n",
        "(0.0, -0.22222222222222218, 5)"
       ]
      },
      {
       "output_type": "stream",
       "stream": "stdout",
       "text": [
        " 2015-03-22\n",
        "(0.0, -0.18257418583505539, 4)"
       ]
      },
      {
       "output_type": "stream",
       "stream": "stdout",
       "text": [
        " 2015-03-22\n",
        "(0.0, 0.0, 1)"
       ]
      },
      {
       "output_type": "stream",
       "stream": "stdout",
       "text": [
        " 2015-03-22\n",
        "(0.36055512754639885, 0.44019642635179779, 15)"
       ]
      },
      {
       "output_type": "stream",
       "stream": "stdout",
       "text": [
        " 2015-03-22\n",
        "(0.50016276618008493, 0.62530011022095056, 21)"
       ]
      },
      {
       "output_type": "stream",
       "stream": "stdout",
       "text": [
        " 2015-03-22\n",
        "(0.0, 0.381690510345287, 12)"
       ]
      },
      {
       "output_type": "stream",
       "stream": "stdout",
       "text": [
        " 2015-03-22\n",
        "(0.0, 0.39999999999999991, 5)"
       ]
      },
      {
       "output_type": "stream",
       "stream": "stdout",
       "text": [
        " 2015-03-22\n",
        "(0.35805743701971637, 0.54285714285714304, 15)"
       ]
      },
      {
       "output_type": "stream",
       "stream": "stdout",
       "text": [
        " 2015-03-22\n",
        "(0.0, 0.79999999999999982, 5)"
       ]
      },
      {
       "output_type": "stream",
       "stream": "stdout",
       "text": [
        " 2015-03-22\n",
        "(0.030949223029508647, 0.27777777777777779, 9)"
       ]
      },
      {
       "output_type": "stream",
       "stream": "stdout",
       "text": [
        " 2015-03-22\n",
        "(0.78559476759787783, 0.83297376018073566, 22)"
       ]
      },
      {
       "output_type": "stream",
       "stream": "stdout",
       "text": [
        " 2015-03-22\n",
        "(0.6093537477984835, 0.61703000557902488, 20)"
       ]
      },
      {
       "output_type": "stream",
       "stream": "stdout",
       "text": [
        " 2015-03-22\n",
        "(0.0, 0.0, 3)"
       ]
      },
      {
       "output_type": "stream",
       "stream": "stdout",
       "text": [
        " 2015-03-22\n",
        "(0.47741597250587658, 0.54849805091433368, 25)"
       ]
      },
      {
       "output_type": "stream",
       "stream": "stdout",
       "text": [
        " 2015-03-22\n",
        "(0.57313212853642337, 0.609902185869589, 23)"
       ]
      },
      {
       "output_type": "stream",
       "stream": "stdout",
       "text": [
        " 2015-03-22\n",
        "(0.63021872385235145, 0.5673339195189272, 15)"
       ]
      },
      {
       "output_type": "stream",
       "stream": "stdout",
       "text": [
        " 2015-03-22\n",
        "(0.79056941504209477, 0.58554004376911994, 7)"
       ]
      },
      {
       "output_type": "stream",
       "stream": "stdout",
       "text": [
        " 2015-03-24\n",
        "(0.34992710611188266, 0.52380952380952384, 7)"
       ]
      },
      {
       "output_type": "stream",
       "stream": "stdout",
       "text": [
        " 2015-03-27\n",
        "(0.39477101697586142, 0.36845294917747062, 13)"
       ]
      },
      {
       "output_type": "stream",
       "stream": "stdout",
       "text": [
        " 2015-03-27\n",
        "(0.0, 0.4879500364742666, 7)"
       ]
      },
      {
       "output_type": "stream",
       "stream": "stdout",
       "text": [
        " 2015-03-27\n",
        "(0.61489240324332484, 0.61450959654104464, 18)"
       ]
      },
      {
       "output_type": "stream",
       "stream": "stdout",
       "text": [
        " 2015-03-27\n",
        "(0.3650400929346192, 0.51613125159037676, 19)"
       ]
      },
      {
       "output_type": "stream",
       "stream": "stdout",
       "text": [
        " 2015-03-27\n",
        "(0.0, 0.07407407407407407, 8)"
       ]
      },
      {
       "output_type": "stream",
       "stream": "stdout",
       "text": [
        " 2015-03-27\n",
        "(0.0, 0.0, 3)"
       ]
      },
      {
       "output_type": "stream",
       "stream": "stdout",
       "text": [
        " 2015-03-28\n",
        "(0.0, 0.0, 3)"
       ]
      },
      {
       "output_type": "stream",
       "stream": "stdout",
       "text": [
        " 2015-03-28\n",
        "(0.54006172486732174, 0.82807867121082523, 6)"
       ]
      },
      {
       "output_type": "stream",
       "stream": "stdout",
       "text": [
        " 2015-03-28\n",
        "(0.30451316808551987, 0.38663594601448087, 21)"
       ]
      },
      {
       "output_type": "stream",
       "stream": "stdout",
       "text": [
        " 2015-03-28\n",
        "(0.0, 0.69102331908064241, 8)"
       ]
      },
      {
       "output_type": "stream",
       "stream": "stdout",
       "text": [
        " 2015-03-28\n",
        "(0.0, 0.69102331908064241, 8)"
       ]
      },
      {
       "output_type": "stream",
       "stream": "stdout",
       "text": [
        " 2015-03-28\n",
        "(0.43033148291193518, 0.66057825907581624, 11)"
       ]
      },
      {
       "output_type": "stream",
       "stream": "stdout",
       "text": [
        " 2015-03-28\n",
        "(0.35634832254989918, 0.69006555934235436, 6)"
       ]
      },
      {
       "output_type": "stream",
       "stream": "stdout",
       "text": [
        " 2015-03-28\n",
        "(0.67129733635551425, 0.73684210526315796, 21)"
       ]
      },
      {
       "output_type": "stream",
       "stream": "stdout",
       "text": [
        " 2015-03-28\n",
        "(0.48197528141507839, 0.63158617693953578, 21)"
       ]
      },
      {
       "output_type": "stream",
       "stream": "stdout",
       "text": [
        " 2015-03-28\n",
        "(0.3838727526014728, 0.56473532450350483, 29)"
       ]
      },
      {
       "output_type": "stream",
       "stream": "stdout",
       "text": [
        " 2015-03-28\n",
        "(0.0, -0.2581988897471611, 4)"
       ]
      },
      {
       "output_type": "stream",
       "stream": "stdout",
       "text": [
        " 2015-03-28\n",
        "(0.47935456731877768, 0.4232804232804232, 20)"
       ]
      },
      {
       "output_type": "stream",
       "stream": "stdout",
       "text": [
        " 2015-03-28\n",
        "(0.0, 0.3988286944107457, 19)"
       ]
      },
      {
       "output_type": "stream",
       "stream": "stdout",
       "text": [
        " 2015-03-28\n",
        "(0.27255405754769874, 0.38682107216634548, 27)"
       ]
      },
      {
       "output_type": "stream",
       "stream": "stdout",
       "text": [
        " 2015-03-28\n",
        "(0.63006191916193621, 0.54853686071161556, 26)"
       ]
      },
      {
       "output_type": "stream",
       "stream": "stdout",
       "text": [
        " 2015-03-28\n",
        "(0.0, 0.11828640824531861, 20)"
       ]
      },
      {
       "output_type": "stream",
       "stream": "stdout",
       "text": [
        " 2015-03-28\n",
        "(0.0, 0.193552415284691, 13)"
       ]
      },
      {
       "output_type": "stream",
       "stream": "stdout",
       "text": [
        " 2015-03-28\n",
        "(0.0, 0.91287092917527701, 4)"
       ]
      },
      {
       "output_type": "stream",
       "stream": "stdout",
       "text": [
        " 2015-03-28\n",
        "(0.0, 0.99999999999999989, 3)"
       ]
      },
      {
       "output_type": "stream",
       "stream": "stdout",
       "text": [
        " 2015-03-28\n",
        "(0.60677987621691798, 0.78072005835882663, 7)"
       ]
      },
      {
       "output_type": "stream",
       "stream": "stdout",
       "text": [
        " 2015-03-28\n",
        "(0.0, 0.54772255750516619, 4)"
       ]
      },
      {
       "output_type": "stream",
       "stream": "stdout",
       "text": [
        " 2015-03-28\n",
        "(0.0, 0.99999999999999989, 3)"
       ]
      },
      {
       "output_type": "stream",
       "stream": "stdout",
       "text": [
        " 2015-03-28\n",
        "(0.0, 0.99999999999999989, 3)"
       ]
      },
      {
       "output_type": "stream",
       "stream": "stdout",
       "text": [
        " 2015-03-28\n",
        "(0.52970773535454951, 0.20920685218893076, 16)"
       ]
      },
      {
       "output_type": "stream",
       "stream": "stdout",
       "text": [
        " 2015-03-28\n",
        "(0.0, 0.42257712736425829, 9)"
       ]
      },
      {
       "output_type": "stream",
       "stream": "stdout",
       "text": [
        " 2015-03-28\n",
        "(0.0, 0.67419986246324204, 10)"
       ]
      },
      {
       "output_type": "stream",
       "stream": "stdout",
       "text": [
        " 2015-03-28\n",
        "(0.0, 0.33028912953790812, 11)"
       ]
      },
      {
       "output_type": "stream",
       "stream": "stdout",
       "text": [
        " 2015-03-28\n",
        "(0.0, 0.0, 1)"
       ]
      },
      {
       "output_type": "stream",
       "stream": "stdout",
       "text": [
        " 2015-03-28\n",
        "(0.18184824186332696, 0.6428571428571429, 8)"
       ]
      },
      {
       "output_type": "stream",
       "stream": "stdout",
       "text": [
        " 2015-03-28\n",
        "(0.53727788300347512, 0.70346656164205379, 40)"
       ]
      },
      {
       "output_type": "stream",
       "stream": "stdout",
       "text": [
        " 2015-03-28\n",
        "(0.40726239883054782, 0.50237906423473444, 101)"
       ]
      },
      {
       "output_type": "stream",
       "stream": "stdout",
       "text": [
        " 2015-03-28\n",
        "(0.41403933560541262, 0.33333333333333331, 6)"
       ]
      },
      {
       "output_type": "stream",
       "stream": "stdout",
       "text": [
        " 2015-03-28\n",
        "(0.0, 0.0, 3)"
       ]
      },
      {
       "output_type": "stream",
       "stream": "stdout",
       "text": [
        " 2015-03-28\n",
        "(0.7745966692414834, 0.54772255750516619, 4)"
       ]
      },
      {
       "output_type": "stream",
       "stream": "stdout",
       "text": [
        " 2015-03-28\n",
        "(0.46849213698717845, 0.48524850980819084, 18)"
       ]
      },
      {
       "output_type": "stream",
       "stream": "stdout",
       "text": [
        " 2015-03-28\n",
        "(0.57769251882775607, 0.57447011682015603, 28)"
       ]
      },
      {
       "output_type": "stream",
       "stream": "stdout",
       "text": [
        " 2015-03-28\n",
        "(0.67628314239932896, 0.56992542154562598, 20)"
       ]
      },
      {
       "output_type": "stream",
       "stream": "stdout",
       "text": [
        " 2015-03-28\n",
        "(0.39999999999999991, 0.39999999999999991, 5)"
       ]
      },
      {
       "output_type": "stream",
       "stream": "stdout",
       "text": [
        " 2015-03-28\n",
        "(0.0, -0.27774602993176545, 9)"
       ]
      },
      {
       "output_type": "stream",
       "stream": "stdout",
       "text": [
        " 2015-03-28\n",
        "(0.82495791138430552, 0.31622776601683794, 5)"
       ]
      },
      {
       "output_type": "stream",
       "stream": "stdout",
       "text": [
        " 2015-03-29\n",
        "(0.52218589459963038, 0.49848663118763031, 32)"
       ]
      },
      {
       "output_type": "stream",
       "stream": "stdout",
       "text": [
        " 2015-03-29\n",
        "(0.41654948212055815, 0.46932212335350182, 31)"
       ]
      },
      {
       "output_type": "stream",
       "stream": "stdout",
       "text": [
        " 2015-03-29\n",
        "(0.15158132368391883, 0.47407551920817487, 29)"
       ]
      },
      {
       "output_type": "stream",
       "stream": "stdout",
       "text": [
        " 2015-03-29\n",
        "(0.44922915249011602, 0.52160742269025762, 26)"
       ]
      },
      {
       "output_type": "stream",
       "stream": "stdout",
       "text": [
        " 2015-03-29\n",
        "(0.0, -0.10853039276555743, 12)"
       ]
      },
      {
       "output_type": "stream",
       "stream": "stdout",
       "text": [
        " 2015-03-29\n",
        "(0.0, 0.68313005106397329, 7)"
       ]
      },
      {
       "output_type": "stream",
       "stream": "stdout",
       "text": [
        " 2015-03-29\n",
        "(0.18860838403857941, 0.49727849591883, 24)"
       ]
      },
      {
       "output_type": "stream",
       "stream": "stdout",
       "text": [
        " 2015-03-29\n",
        "(0.47809144373375756, 0.76063882925566484, 9)"
       ]
      },
      {
       "output_type": "stream",
       "stream": "stdout",
       "text": [
        " 2015-03-29\n",
        "(0.44177063089637442, 0.49568471714063084, 29)"
       ]
      },
      {
       "output_type": "stream",
       "stream": "stdout",
       "text": [
        " 2015-03-29\n",
        "(0.31448545101657549, 0.34450155105792868, 15)"
       ]
      },
      {
       "output_type": "stream",
       "stream": "stdout",
       "text": [
        " 2015-03-29\n",
        "(0.32686022523030661, 0.5358913016456669, 15)"
       ]
      },
      {
       "output_type": "stream",
       "stream": "stdout",
       "text": [
        " 2015-03-29\n",
        "(0.52704627669472992, 0.52704627669472992, 5)"
       ]
      },
      {
       "output_type": "stream",
       "stream": "stdout",
       "text": [
        " 2015-03-29\n",
        "(0.53439042144264159, 0.60406869634089566, 14)"
       ]
      },
      {
       "output_type": "stream",
       "stream": "stdout",
       "text": [
        " 2015-03-29\n",
        "(0.0, 0.17225077552896434, 15)"
       ]
      },
      {
       "output_type": "stream",
       "stream": "stdout",
       "text": [
        " 2015-03-29\n",
        "(0.0, 0.0, 1)"
       ]
      },
      {
       "output_type": "stream",
       "stream": "stdout",
       "text": [
        " 2015-04-04\n",
        "(0.0, 0.99999999999999989, 3)"
       ]
      },
      {
       "output_type": "stream",
       "stream": "stdout",
       "text": [
        " 2015-04-04\n",
        "(1.0, 1.0, 2)"
       ]
      },
      {
       "output_type": "stream",
       "stream": "stdout",
       "text": [
        " 2015-04-04\n",
        "(0.0, -1.0, 2)"
       ]
      },
      {
       "output_type": "stream",
       "stream": "stdout",
       "text": [
        " 2015-04-04\n",
        "(0.0, 0.0, 6)"
       ]
      },
      {
       "output_type": "stream",
       "stream": "stdout",
       "text": [
        " 2015-04-04\n",
        "(0.0, -0.22222222222222218, 5)"
       ]
      },
      {
       "output_type": "stream",
       "stream": "stdout",
       "text": [
        " 2015-04-04\n",
        "(0.36852275176390309, 0.47329623282815592, 12)"
       ]
      },
      {
       "output_type": "stream",
       "stream": "stdout",
       "text": [
        " 2015-04-04\n",
        "(0.0, -0.33333333333333326, 3)"
       ]
      },
      {
       "output_type": "stream",
       "stream": "stdout",
       "text": [
        " 2015-04-04\n",
        "(0.81649658092772615, 0.99999999999999989, 3)"
       ]
      },
      {
       "output_type": "stream",
       "stream": "stdout",
       "text": [
        " 2015-04-04\n",
        "(0.35856858280031817, 0.69006555934235436, 6)"
       ]
      },
      {
       "output_type": "stream",
       "stream": "stdout",
       "text": [
        " 2015-04-04\n",
        "(0.13608276348795434, 0.52704627669472992, 5)"
       ]
      },
      {
       "output_type": "stream",
       "stream": "stdout",
       "text": [
        " 2015-04-04\n",
        "(0.0, -0.2581988897471611, 4)"
       ]
      },
      {
       "output_type": "stream",
       "stream": "stdout",
       "text": [
        " 2015-04-04\n",
        "(0.0, -1.0, 2)"
       ]
      },
      {
       "output_type": "stream",
       "stream": "stdout",
       "text": [
        " 2015-04-04\n",
        "(0.47172817652486326, 0.57142857142857151, 8)"
       ]
      },
      {
       "output_type": "stream",
       "stream": "stdout",
       "text": [
        " 2015-04-04\n",
        "(0.0, -0.072547625011001121, 18)"
       ]
      },
      {
       "output_type": "stream",
       "stream": "stdout",
       "text": [
        " 2015-04-04\n",
        "(0.44258925727132709, 0.24898437368631698, 16)"
       ]
      },
      {
       "output_type": "stream",
       "stream": "stdout",
       "text": [
        " 2015-04-04\n",
        "(0.32066936623418035, 0.57460253874874112, 21)"
       ]
      },
      {
       "output_type": "stream",
       "stream": "stdout",
       "text": [
        " 2015-04-04\n",
        "(0.023669053416557548, 0.23259759383162695, 16)"
       ]
      },
      {
       "output_type": "stream",
       "stream": "stdout",
       "text": [
        " 2015-04-04\n",
        "(0.37363235887853674, 0.32732683535398854, 8)"
       ]
      },
      {
       "output_type": "stream",
       "stream": "stdout",
       "text": [
        " 2015-04-04\n",
        "(0.0, -0.99999999999999989, 3)"
       ]
      },
      {
       "output_type": "stream",
       "stream": "stdout",
       "text": [
        " 2015-04-04\n",
        "(0.0, 0.66666666666666663, 5)"
       ]
      },
      {
       "output_type": "stream",
       "stream": "stdout",
       "text": [
        " 2015-04-04\n",
        "(0.40079679849214361, 0.53325208216965336, 41)"
       ]
      },
      {
       "output_type": "stream",
       "stream": "stdout",
       "text": [
        " 2015-04-05\n",
        "(0.42004127944129094, 0.029127586401773146, 15)"
       ]
      },
      {
       "output_type": "stream",
       "stream": "stdout",
       "text": [
        " 2015-04-05\n",
        "(0.0, -0.057142857142857155, 9)"
       ]
      },
      {
       "output_type": "stream",
       "stream": "stdout",
       "text": [
        " 2015-04-05\n",
        "(0.091287092917527693, 0.87831006565367986, 7)"
       ]
      },
      {
       "output_type": "stream",
       "stream": "stdout",
       "text": [
        " 2015-04-05\n",
        "(0.0, 0.85714285714285732, 6)"
       ]
      },
      {
       "output_type": "stream",
       "stream": "stdout",
       "text": [
        " 2015-04-05\n",
        "(0.49135381491199548, 0.036369648372665389, 8)"
       ]
      },
      {
       "output_type": "stream",
       "stream": "stdout",
       "text": [
        " 2015-04-08\n",
        "(0.31880068241289727, 0.63338152891615163, 27)"
       ]
      },
      {
       "output_type": "stream",
       "stream": "stdout",
       "text": [
        " 2015-04-10\n",
        "(0.17722938923964157, 0.42066707063154513, 17)"
       ]
      },
      {
       "output_type": "stream",
       "stream": "stdout",
       "text": [
        " 2015-04-10\n",
        "(0.30087399459119113, 0.33010681774563588, 64)"
       ]
      },
      {
       "output_type": "stream",
       "stream": "stdout",
       "text": [
        " 2015-04-10\n",
        "(0.41076638502740842, 0.40101109428637716, 35)"
       ]
      },
      {
       "output_type": "stream",
       "stream": "stdout",
       "text": [
        " 2015-04-10\n",
        "(0.66666666666666663, 0.73786478737262184, 5)"
       ]
      },
      {
       "output_type": "stream",
       "stream": "stdout",
       "text": [
        " 2015-04-10\n",
        "(0.078567420131838622, 0.32732683535398854, 8)"
       ]
      },
      {
       "output_type": "stream",
       "stream": "stdout",
       "text": [
        " 2015-04-10\n",
        "(0.46004671131161101, 0.66986412705708354, 15)"
       ]
      },
      {
       "output_type": "stream",
       "stream": "stdout",
       "text": [
        " 2015-04-10\n",
        "(0.4755563543407304, 0.19847906537954926, 12)"
       ]
      },
      {
       "output_type": "stream",
       "stream": "stdout",
       "text": [
        " 2015-04-11\n",
        "(0.47604250717529978, 0.35979339598435234, 20)"
       ]
      },
      {
       "output_type": "stream",
       "stream": "stdout",
       "text": [
        " 2015-04-11\n",
        "(0.50451952546343526, 0.37089909350945816, 27)"
       ]
      },
      {
       "output_type": "stream",
       "stream": "stdout",
       "text": [
        " 2015-04-11\n",
        "(0.38575837490522974, 0.4285714285714286, 8)"
       ]
      },
      {
       "output_type": "stream",
       "stream": "stdout",
       "text": [
        " 2015-04-11\n",
        "(0.0, 0.33333333333333331, 4)"
       ]
      },
      {
       "output_type": "stream",
       "stream": "stdout",
       "text": [
        " 2015-04-11\n",
        "(0.57735026918962584, 0.33333333333333331, 6)"
       ]
      },
      {
       "output_type": "stream",
       "stream": "stdout",
       "text": [
        " 2015-04-11\n",
        "(0.0, 0.46666666666666667, 6)"
       ]
      },
      {
       "output_type": "stream",
       "stream": "stdout",
       "text": [
        " 2015-04-11\n",
        "(0.0, 0.33333333333333326, 3)"
       ]
      },
      {
       "output_type": "stream",
       "stream": "stdout",
       "text": [
        " 2015-04-11\n",
        "(0.7219417239492395, 0.35705467127249846, 21)"
       ]
      },
      {
       "output_type": "stream",
       "stream": "stdout",
       "text": [
        " 2015-04-11\n",
        "(0.58721336173079997, 0.59883720930232565, 42)"
       ]
      },
      {
       "output_type": "stream",
       "stream": "stdout",
       "text": [
        " 2015-04-11\n",
        "(-0.24845199749997657, 0.68888888888888899, 10)"
       ]
      },
      {
       "output_type": "stream",
       "stream": "stdout",
       "text": [
        " 2015-04-11\n",
        "(0.51362478580193316, 0.62187069704385312, 16)"
       ]
      },
      {
       "output_type": "stream",
       "stream": "stdout",
       "text": [
        " 2015-04-11\n",
        "(0.54006172486732174, 0.27602622373694174, 6)"
       ]
      },
      {
       "output_type": "stream",
       "stream": "stdout",
       "text": [
        " 2015-04-11\n",
        "(0.38686131999940354, 0.41353524155916366, 16)"
       ]
      },
      {
       "output_type": "stream",
       "stream": "stdout",
       "text": [
        " 2015-04-11\n",
        "(0.0, 0.30860669992418388, 6)"
       ]
      },
      {
       "output_type": "stream",
       "stream": "stdout",
       "text": [
        " 2015-04-11\n",
        "(0.0, 0.076555900235095259, 15)"
       ]
      },
      {
       "output_type": "stream",
       "stream": "stdout",
       "text": [
        " 2015-04-11\n",
        "(0.0, 0.50323627974019658, 13)"
       ]
      },
      {
       "output_type": "stream",
       "stream": "stdout",
       "text": [
        " 2015-04-11\n",
        "(0.0, 0.54772255750516619, 4)"
       ]
      },
      {
       "output_type": "stream",
       "stream": "stdout",
       "text": [
        " 2015-04-11\n",
        "(0.0, 0.53526436132806043, 9)"
       ]
      },
      {
       "output_type": "stream",
       "stream": "stdout",
       "text": [
        " 2015-04-11\n",
        "(0.091287092917527693, 0.68313005106397329, 7)"
       ]
      },
      {
       "output_type": "stream",
       "stream": "stdout",
       "text": [
        " 2015-04-11\n",
        "(0.0, -0.097590007294853329, 7)"
       ]
      },
      {
       "output_type": "stream",
       "stream": "stdout",
       "text": [
        " 2015-04-11\n",
        "(0.43673542745577282, 0.60646423455869847, 13)"
       ]
      },
      {
       "output_type": "stream",
       "stream": "stdout",
       "text": [
        " 2015-04-11\n",
        "(0.64687285628889835, 0.59797979797979794, 32)"
       ]
      },
      {
       "output_type": "stream",
       "stream": "stdout",
       "text": [
        " 2015-04-11\n",
        "(0.54448922234336805, 0.52163204251326001, 29)"
       ]
      },
      {
       "output_type": "stream",
       "stream": "stdout",
       "text": [
        " 2015-04-11\n",
        "(0.40245133918294501, 0.5588235294117645, 17)"
       ]
      },
      {
       "output_type": "stream",
       "stream": "stdout",
       "text": [
        " 2015-04-11\n",
        "(0.59108280467932539, 0.6428571428571429, 8)"
       ]
      },
      {
       "output_type": "stream",
       "stream": "stdout",
       "text": [
        " 2015-04-11\n",
        "(0.10540925533894598, 0.79999999999999982, 5)"
       ]
      },
      {
       "output_type": "stream",
       "stream": "stdout",
       "text": [
        " 2015-04-11\n",
        "(0.81649658092772615, 0.33333333333333326, 3)"
       ]
      },
      {
       "output_type": "stream",
       "stream": "stdout",
       "text": [
        " 2015-04-11\n",
        "(0.69094606940380598, 0.71097457409539588, 26)"
       ]
      },
      {
       "output_type": "stream",
       "stream": "stdout",
       "text": [
        " 2015-04-11\n",
        "(0.39154834251930692, 0.5454545454545453, 13)"
       ]
      },
      {
       "output_type": "stream",
       "stream": "stdout",
       "text": [
        " 2015-04-11\n",
        "(0.31752644813856012, 0.44444444444444442, 8)"
       ]
      },
      {
       "output_type": "stream",
       "stream": "stdout",
       "text": [
        " 2015-04-11\n",
        "(0.0, -1.0, 2)"
       ]
      },
      {
       "output_type": "stream",
       "stream": "stdout",
       "text": [
        " 2015-04-11\n",
        "(0.99999999999999989, 0.99999999999999989, 3)"
       ]
      },
      {
       "output_type": "stream",
       "stream": "stdout",
       "text": [
        " 2015-04-11\n",
        "(0.31622776601683789, 0.59999999999999987, 5)"
       ]
      },
      {
       "output_type": "stream",
       "stream": "stdout",
       "text": [
        " 2015-04-11\n",
        "(0.66270697730753325, 0.50323627974019658, 13)"
       ]
      },
      {
       "output_type": "stream",
       "stream": "stdout",
       "text": [
        " 2015-04-11\n",
        "(0.25017001022026103, 0.47722455010354647, 22)"
       ]
      },
      {
       "output_type": "stream",
       "stream": "stdout",
       "text": [
        " 2015-04-11\n",
        "(0.54118921286856703, 0.49511978704525278, 48)"
       ]
      },
      {
       "output_type": "stream",
       "stream": "stdout",
       "text": [
        " 2015-04-11\n",
        "(1.0, 1.0, 2)"
       ]
      },
      {
       "output_type": "stream",
       "stream": "stdout",
       "text": [
        " 2015-04-11\n",
        "(0.61828402233531166, 0.55555555555555558, 9)"
       ]
      },
      {
       "output_type": "stream",
       "stream": "stdout",
       "text": [
        " 2015-04-11\n",
        "(0.49015780903161937, 0.51675232658689307, 15)"
       ]
      },
      {
       "output_type": "stream",
       "stream": "stdout",
       "text": [
        " 2015-04-11\n",
        "(0.0, 0.37500000000000006, 15)"
       ]
      },
      {
       "output_type": "stream",
       "stream": "stdout",
       "text": [
        " 2015-04-11\n",
        "(0.0, -0.093761446187699105, 12)"
       ]
      },
      {
       "output_type": "stream",
       "stream": "stdout",
       "text": [
        " 2015-04-11\n",
        "(0.0, 0.68388520067257486, 13)"
       ]
      },
      {
       "output_type": "stream",
       "stream": "stdout",
       "text": [
        " 2015-04-11\n",
        "(0.26293687924887194, 0.31604938271604954, 29)"
       ]
      },
      {
       "output_type": "stream",
       "stream": "stdout",
       "text": [
        " 2015-04-11\n",
        "(0.47967380220493483, 0.67679118014684769, 22)"
       ]
      },
      {
       "output_type": "stream",
       "stream": "stdout",
       "text": [
        " 2015-04-11\n",
        "(0.40149846144082435, 0.49252046419281925, 30)"
       ]
      },
      {
       "output_type": "stream",
       "stream": "stdout",
       "text": [
        " 2015-04-11\n",
        "(0.34641016151377552, -0.066666666666666666, 6)"
       ]
      },
      {
       "output_type": "stream",
       "stream": "stdout",
       "text": [
        " 2015-04-11\n",
        "(0.358568582800318, 0.59999999999999987, 5)"
       ]
      },
      {
       "output_type": "stream",
       "stream": "stdout",
       "text": [
        " 2015-04-11\n",
        "(0.55205244747388316, -0.14285714285714285, 7)"
       ]
      },
      {
       "output_type": "stream",
       "stream": "stdout",
       "text": [
        " 2015-04-11\n",
        "(0.79999999999999982, 0.79999999999999982, 5)"
       ]
      },
      {
       "output_type": "stream",
       "stream": "stdout",
       "text": [
        " 2015-04-11\n",
        "(0.32433055887271095, 0.41421996925557847, 26)"
       ]
      },
      {
       "output_type": "stream",
       "stream": "stdout",
       "text": [
        " 2015-04-11\n",
        "(0.74485741140382156, 0.69523809523809543, 15)"
       ]
      },
      {
       "output_type": "stream",
       "stream": "stdout",
       "text": [
        " 2015-04-11\n",
        "(0.0, 0.90476190476190477, 7)"
       ]
      },
      {
       "output_type": "stream",
       "stream": "stdout",
       "text": [
        " 2015-04-11\n",
        "(0.80582296402538001, 0.71428571428571441, 8)"
       ]
      },
      {
       "output_type": "stream",
       "stream": "stdout",
       "text": [
        " 2015-04-11\n",
        "(0.0, 1.0, 7)"
       ]
      },
      {
       "output_type": "stream",
       "stream": "stdout",
       "text": [
        " 2015-04-11\n",
        "(0.32732683535398854, 0.77777777777777779, 9)"
       ]
      },
      {
       "output_type": "stream",
       "stream": "stdout",
       "text": [
        " 2015-04-11\n",
        "(0.0, 0.10540925533894598, 5)"
       ]
      },
      {
       "output_type": "stream",
       "stream": "stdout",
       "text": [
        " 2015-04-11\n",
        "(0.60000000000000009, 0.91287092917527701, 4)"
       ]
      },
      {
       "output_type": "stream",
       "stream": "stdout",
       "text": [
        " 2015-04-11\n",
        "(0.4557327151876498, 0.68704291862151667, 12)"
       ]
      },
      {
       "output_type": "stream",
       "stream": "stdout",
       "text": [
        " 2015-04-11\n",
        "(0.35714285714285721, 0.55205244747388349, 6)"
       ]
      },
      {
       "output_type": "stream",
       "stream": "stdout",
       "text": [
        " 2015-04-11\n",
        "(0.38172540616821127, 0.3972306732771374, 27)"
       ]
      },
      {
       "output_type": "stream",
       "stream": "stdout",
       "text": [
        " 2015-04-11\n",
        "(0.0, 0.35634832254989918, 6)"
       ]
      },
      {
       "output_type": "stream",
       "stream": "stdout",
       "text": [
        " 2015-04-11\n",
        "(0.0, -0.81649658092772615, 3)"
       ]
      },
      {
       "output_type": "stream",
       "stream": "stdout",
       "text": [
        " 2015-04-11\n",
        "(0.0, -0.37037037037037035, 8)"
       ]
      },
      {
       "output_type": "stream",
       "stream": "stdout",
       "text": [
        " 2015-04-11\n",
        "(-0.052414241836095915, 0.036369648372665389, 8)"
       ]
      },
      {
       "output_type": "stream",
       "stream": "stdout",
       "text": [
        " 2015-04-12\n",
        "(0.59761430466719667, 0.59999999999999987, 5)"
       ]
      },
      {
       "output_type": "stream",
       "stream": "stdout",
       "text": [
        " 2015-04-12\n",
        "(0.45509102730910295, 0.513043058630409, 17)"
       ]
      },
      {
       "output_type": "stream",
       "stream": "stdout",
       "text": [
        " 2015-04-12\n",
        "(0.66609088416528228, 0.66975627647210589, 26)"
       ]
      },
      {
       "output_type": "stream",
       "stream": "stdout",
       "text": [
        " 2015-04-12\n",
        "(0.0, 0.53526436132806043, 9)"
       ]
      },
      {
       "output_type": "stream",
       "stream": "stdout",
       "text": [
        " 2015-04-12\n",
        "(0.50952466536506813, 0.61244720188076207, 15)"
       ]
      },
      {
       "output_type": "stream",
       "stream": "stdout",
       "text": [
        " 2015-04-12\n",
        "(0.56070447791032518, 0.5575684831851796, 71)"
       ]
      },
      {
       "output_type": "stream",
       "stream": "stdout",
       "text": [
        " 2015-04-12\n",
        "(0.48511216191435058, 0.58990019365533197, 32)"
       ]
      },
      {
       "output_type": "stream",
       "stream": "stdout",
       "text": [
        " 2015-04-12\n",
        "(0.24975621642178508, 0.62387946690493756, 11)"
       ]
      },
      {
       "output_type": "stream",
       "stream": "stdout",
       "text": [
        " 2015-04-12\n",
        "(0.75592894601845451, 0.90924120931663477, 8)"
       ]
      },
      {
       "output_type": "stream",
       "stream": "stdout",
       "text": [
        " 2015-04-12\n",
        "(0.096225044864937673, 0.31344156398775164, 17)"
       ]
      },
      {
       "output_type": "stream",
       "stream": "stdout",
       "text": [
        " 2015-04-12\n",
        "(0.0, 0.0, 3)"
       ]
      },
      {
       "output_type": "stream",
       "stream": "stdout",
       "text": [
        " 2015-04-12\n",
        "(0.0, 0.99999999999999989, 3)"
       ]
      },
      {
       "output_type": "stream",
       "stream": "stdout",
       "text": [
        " 2015-04-12\n",
        "(0.19346033336266982, 0.33333333333333337, 10)"
       ]
      },
      {
       "output_type": "stream",
       "stream": "stdout",
       "text": [
        " 2015-04-12\n",
        "(0.41662161918649121, 0.24444444444444449, 10)"
       ]
      },
      {
       "output_type": "stream",
       "stream": "stdout",
       "text": [
        " 2015-04-12\n",
        "(0.69102763031048087, 0.74174174174174157, 37)"
       ]
      },
      {
       "output_type": "stream",
       "stream": "stdout",
       "text": [
        " 2015-04-12\n",
        "(0.0, 0.59999999999999998, 6)"
       ]
      },
      {
       "output_type": "stream",
       "stream": "stdout",
       "text": [
        " 2015-04-12\n",
        "(0.0, 0.99999999999999989, 3)"
       ]
      },
      {
       "output_type": "stream",
       "stream": "stdout",
       "text": [
        " 2015-04-12\n",
        "(0.0, 0.33333333333333326, 3)"
       ]
      },
      {
       "output_type": "stream",
       "stream": "stdout",
       "text": [
        " 2015-04-12\n",
        "(0.0, 0.52704627669472992, 5)"
       ]
      },
      {
       "output_type": "stream",
       "stream": "stdout",
       "text": [
        " 2015-04-12\n",
        "(0.2581988897471611, 0.54772255750516619, 4)"
       ]
      },
      {
       "output_type": "stream",
       "stream": "stdout",
       "text": [
        " 2015-04-12\n",
        "(0.53452248382484879, -0.097590007294853329, 7)"
       ]
      },
      {
       "output_type": "stream",
       "stream": "stdout",
       "text": [
        " 2015-04-12\n",
        "(0.67418895299208903, 0.66349221096281319, 15)"
       ]
      },
      {
       "output_type": "stream",
       "stream": "stdout",
       "text": [
        " 2015-04-13\n",
        "(0.0, 0.32897584747988451, 7)"
       ]
      },
      {
       "output_type": "stream",
       "stream": "stdout",
       "text": [
        " 2015-04-13\n",
        "(0.69388866648871106, 0.61584028713560068, 8)"
       ]
      },
      {
       "output_type": "stream",
       "stream": "stdout",
       "text": [
        " 2015-04-14\n",
        "(0.62814863453700776, 0.67419986246324204, 10)"
       ]
      },
      {
       "output_type": "stream",
       "stream": "stdout",
       "text": [
        " 2015-04-17\n",
        "(0.51970671870378982, 0.5358913016456669, 15)"
       ]
      },
      {
       "output_type": "stream",
       "stream": "stdout",
       "text": [
        " 2015-04-17\n",
        "(0.0, 0.91287092917527701, 4)"
       ]
      },
      {
       "output_type": "stream",
       "stream": "stdout",
       "text": [
        " 2015-04-18\n",
        "(0.67551113214263414, 0.57416925176321443, 15)"
       ]
      },
      {
       "output_type": "stream",
       "stream": "stdout",
       "text": [
        " 2015-04-18\n",
        "(0.0, 0.0, 5)"
       ]
      },
      {
       "output_type": "stream",
       "stream": "stdout",
       "text": [
        " 2015-04-18\n",
        "(0.46707692488183322, 0.56458105976878592, 28)"
       ]
      },
      {
       "output_type": "stream",
       "stream": "stdout",
       "text": [
        " 2015-04-18\n",
        "(0.41897053180007904, 0.44966696133184975, 25)"
       ]
      },
      {
       "output_type": "stream",
       "stream": "stdout",
       "text": [
        " 2015-04-18\n",
        "(0.0, -0.18257418583505539, 4)"
       ]
      },
      {
       "output_type": "stream",
       "stream": "stdout",
       "text": [
        " 2015-04-18\n",
        "(0.093658581158169427, 0.25031308716087952, 7)"
       ]
      },
      {
       "output_type": "stream",
       "stream": "stdout",
       "text": [
        " 2015-04-18\n",
        "(0.0, 0.10910894511799617, 8)"
       ]
      },
      {
       "output_type": "stream",
       "stream": "stdout",
       "text": [
        " 2015-04-18\n",
        "(0.53218115639017427, 0.35663374375909407, 13)"
       ]
      },
      {
       "output_type": "stream",
       "stream": "stdout",
       "text": [
        " 2015-04-18\n",
        "(0.48076236643605169, 0.60997329733408168, 19)"
       ]
      },
      {
       "output_type": "stream",
       "stream": "stdout",
       "text": [
        " 2015-04-18\n",
        "(0.13093073414159545, 0.30988989340045608, 9)"
       ]
      },
      {
       "output_type": "stream",
       "stream": "stdout",
       "text": [
        " 2015-04-18\n",
        "(0.0, 0.0, 4)"
       ]
      },
      {
       "output_type": "stream",
       "stream": "stdout",
       "text": [
        " 2015-04-18\n",
        "(0.0, -0.33333333333333326, 3)"
       ]
      },
      {
       "output_type": "stream",
       "stream": "stdout",
       "text": [
        " 2015-04-18\n",
        "(0.77849894416152265, 0.7339758434175736, 11)"
       ]
      },
      {
       "output_type": "stream",
       "stream": "stdout",
       "text": [
        " 2015-04-18\n",
        "(0.0, 0.30860669992418377, 7)"
       ]
      },
      {
       "output_type": "stream",
       "stream": "stdout",
       "text": [
        " 2015-04-18\n",
        "(0.23094010767585027, 0.25458753860865774, 8)"
       ]
      },
      {
       "output_type": "stream",
       "stream": "stdout",
       "text": [
        " 2015-04-18\n",
        "(0.37082280037000837, 0.65294117647058803, 19)"
       ]
      },
      {
       "output_type": "stream",
       "stream": "stdout",
       "text": [
        " 2015-04-18\n",
        "(0.43244998209386826, 0.53039483530543685, 14)"
       ]
      },
      {
       "output_type": "stream",
       "stream": "stdout",
       "text": [
        " 2015-04-18\n",
        "(0.0, 0.54902140343023198, 10)"
       ]
      },
      {
       "output_type": "stream",
       "stream": "stdout",
       "text": [
        " 2015-04-18\n",
        "(0.0, 0.54772255750516619, 4)"
       ]
      },
      {
       "output_type": "stream",
       "stream": "stdout",
       "text": [
        " 2015-04-18\n",
        "(0.38920340432841588, 0.4976133515281192, 15)"
       ]
      },
      {
       "output_type": "stream",
       "stream": "stdout",
       "text": [
        " 2015-04-18\n",
        "(0.47995488636092348, 0.42744212113137964, 20)"
       ]
      },
      {
       "output_type": "stream",
       "stream": "stdout",
       "text": [
        " 2015-04-18\n",
        "(0.39499607315797342, 0.57705228193406477, 18)"
       ]
      },
      {
       "output_type": "stream",
       "stream": "stdout",
       "text": [
        " 2015-04-18\n",
        "(0.0, 0.5163977794943222, 4)"
       ]
      },
      {
       "output_type": "stream",
       "stream": "stdout",
       "text": [
        " 2015-04-18\n",
        "(0.71487912700300604, 0.72115384615384626, 15)"
       ]
      },
      {
       "output_type": "stream",
       "stream": "stdout",
       "text": [
        " 2015-04-18\n",
        "(0.81649658092772615, 0.81649658092772615, 3)"
       ]
      },
      {
       "output_type": "stream",
       "stream": "stdout",
       "text": [
        " 2015-04-18\n",
        "(0.41210657525491473, 0.4391304347826086, 22)"
       ]
      },
      {
       "output_type": "stream",
       "stream": "stdout",
       "text": [
        " 2015-04-18\n",
        "(0.69330028174325775, 0.31253815395899703, 12)"
       ]
      },
      {
       "output_type": "stream",
       "stream": "stdout",
       "text": [
        " 2015-04-18\n",
        "(0.22680460581325723, 0.32732683535398854, 8)"
       ]
      },
      {
       "output_type": "stream",
       "stream": "stdout",
       "text": [
        " 2015-04-18\n",
        "(0.63245553203367577, 0.10540925533894598, 5)"
       ]
      },
      {
       "output_type": "stream",
       "stream": "stdout",
       "text": [
        " 2015-04-18\n",
        "(0.0, 0.0, 6)"
       ]
      },
      {
       "output_type": "stream",
       "stream": "stdout",
       "text": [
        " 2015-04-19\n",
        "(0.67135992203570938, 0.65598744200596093, 35)"
       ]
      },
      {
       "output_type": "stream",
       "stream": "stdout",
       "text": [
        " 2015-04-19\n",
        "(0.36369648372665392, 0.69102331908064241, 8)"
       ]
      },
      {
       "output_type": "stream",
       "stream": "stdout",
       "text": [
        " 2015-04-19\n",
        "(0.56244099182140506, 0.39114657444687528, 17)"
       ]
      },
      {
       "output_type": "stream",
       "stream": "stdout",
       "text": [
        " 2015-04-19\n",
        "(0.45868654516001284, 0.44628111769258288, 37)"
       ]
      },
      {
       "output_type": "stream",
       "stream": "stdout",
       "text": [
        " 2015-04-19\n",
        "(0.68143956811969364, 0.56473532450350483, 29)"
       ]
      },
      {
       "output_type": "stream",
       "stream": "stdout",
       "text": [
        " 2015-04-19\n",
        "(0.4269596063967942, 0.34236839400873059, 27)"
       ]
      },
      {
       "output_type": "stream",
       "stream": "stdout",
       "text": [
        " 2015-04-19\n",
        "(0.0, -0.097590007294853329, 7)"
       ]
      },
      {
       "output_type": "stream",
       "stream": "stdout",
       "text": [
        " 2015-04-19\n",
        "(0.54554472558998091, 0.83333333333333337, 9)"
       ]
      },
      {
       "output_type": "stream",
       "stream": "stdout",
       "text": [
        " 2015-04-19\n",
        "(0.6382167504507501, 0.49154307497489086, 16)"
       ]
      },
      {
       "output_type": "stream",
       "stream": "stdout",
       "text": [
        " 2015-04-19\n",
        "(0.49497474683058312, 0.87831006565367986, 7)"
       ]
      },
      {
       "output_type": "stream",
       "stream": "stdout",
       "text": [
        " 2015-04-19\n",
        "(0.60856258411103337, 0.55354510071548924, 25)"
       ]
      },
      {
       "output_type": "stream",
       "stream": "stdout",
       "text": [
        " 2015-04-19\n",
        "(0.0, 0.34807161066919301, 12)"
       ]
      },
      {
       "output_type": "stream",
       "stream": "stdout",
       "text": [
        " 2015-04-19\n",
        "(0.61721339984836776, 0.35714285714285721, 6)"
       ]
      },
      {
       "output_type": "stream",
       "stream": "stdout",
       "text": [
        " 2015-04-19\n",
        "(0.0, -0.54772255750516619, 4)"
       ]
      },
      {
       "output_type": "stream",
       "stream": "stdout",
       "text": [
        " 2015-04-19\n",
        "(0.50000000000000011, 0.41403933560541262, 6)"
       ]
      },
      {
       "output_type": "stream",
       "stream": "stdout",
       "text": [
        " 2015-04-22\n",
        "(0.0, 0.55205244747388349, 6)"
       ]
      },
      {
       "output_type": "stream",
       "stream": "stdout",
       "text": [
        " 2015-04-24\n",
        "(0.0, 0.69006555934235436, 6)"
       ]
      },
      {
       "output_type": "stream",
       "stream": "stdout",
       "text": [
        " 2015-04-24\n",
        "(0.0, 0.52904326844482208, 13)"
       ]
      },
      {
       "output_type": "stream",
       "stream": "stdout",
       "text": [
        " 2015-04-24\n",
        "(0.31946522453877296, 0.38383916710449684, 32)"
       ]
      },
      {
       "output_type": "stream",
       "stream": "stdout",
       "text": [
        " 2015-04-24\n",
        "(-0.087705801930702945, 0.50829505050104362, 14)"
       ]
      },
      {
       "output_type": "stream",
       "stream": "stdout",
       "text": [
        " 2015-04-24\n",
        "(0.5641730910142827, 0.57319020276607024, 26)"
       ]
      },
      {
       "output_type": "stream",
       "stream": "stdout",
       "text": [
        " 2015-04-24\n",
        "(0.46958297133642629, 0.34098543932467462, 18)"
       ]
      },
      {
       "output_type": "stream",
       "stream": "stdout",
       "text": [
        " 2015-04-24\n",
        "(0.73626886171743944, 0.61088400839167778, 16)"
       ]
      },
      {
       "output_type": "stream",
       "stream": "stdout",
       "text": [
        " 2015-04-24\n",
        "(0.25820912416021974, 0.49372817116587658, 16)"
       ]
      },
      {
       "output_type": "stream",
       "stream": "stdout",
       "text": [
        " 2015-04-24\n",
        "(0.0, 0.25354627641855498, 9)"
       ]
      },
      {
       "output_type": "stream",
       "stream": "stdout",
       "text": [
        " 2015-04-24\n",
        "(0.0, 0.36623351038235719, 9)"
       ]
      },
      {
       "output_type": "stream",
       "stream": "stdout",
       "text": [
        " 2015-04-25\n",
        "(0.075377836144440921, 0.61545745489666415, 12)"
       ]
      },
      {
       "output_type": "stream",
       "stream": "stdout",
       "text": [
        " 2015-04-25\n",
        "(0.0, 0.0, 6)"
       ]
      },
      {
       "output_type": "stream",
       "stream": "stdout",
       "text": [
        " 2015-04-25\n",
        "(-0.48038446141526153, -0.45133546692421994, 8)"
       ]
      },
      {
       "output_type": "stream",
       "stream": "stdout",
       "text": [
        " 2015-04-25\n",
        "(0.57735026918962584, 0.43033148291193518, 6)"
       ]
      },
      {
       "output_type": "stream",
       "stream": "stdout",
       "text": [
        " 2015-04-25\n",
        "(0.34468397180201144, 0.41391867719235809, 15)"
       ]
      },
      {
       "output_type": "stream",
       "stream": "stdout",
       "text": [
        " 2015-04-25\n",
        "(0.0, 0.39036002917941331, 7)"
       ]
      },
      {
       "output_type": "stream",
       "stream": "stdout",
       "text": [
        " 2015-04-25\n",
        "(0.0, 1.0, 2)"
       ]
      },
      {
       "output_type": "stream",
       "stream": "stdout",
       "text": [
        " 2015-04-25\n",
        "(0.59429541714724243, 0.61977331940984737, 25)"
       ]
      },
      {
       "output_type": "stream",
       "stream": "stdout",
       "text": [
        " 2015-04-25\n",
        "(0.53641533501745542, 0.51279331415974772, 25)"
       ]
      },
      {
       "output_type": "stream",
       "stream": "stdout",
       "text": [
        " 2015-04-25\n",
        "(0.0, 0.0, 3)"
       ]
      },
      {
       "output_type": "stream",
       "stream": "stdout",
       "text": [
        " 2015-04-25\n",
        "(0.0, -0.53703703703703698, 11)"
       ]
      },
      {
       "output_type": "stream",
       "stream": "stdout",
       "text": [
        " 2015-04-25\n",
        "(0.58713656395198632, 0.76376261582597327, 8)"
       ]
      },
      {
       "output_type": "stream",
       "stream": "stdout",
       "text": [
        " 2015-04-25\n",
        "(0.16012815380508716, 0.66057825907581624, 11)"
       ]
      },
      {
       "output_type": "stream",
       "stream": "stdout",
       "text": [
        " 2015-04-25\n",
        "(0.40014617212254738, 0.5368421052631579, 20)"
       ]
      },
      {
       "output_type": "stream",
       "stream": "stdout",
       "text": [
        " 2015-04-25\n",
        "(0.63862970212802495, 0.65000000000000013, 16)"
       ]
      },
      {
       "output_type": "stream",
       "stream": "stdout",
       "text": [
        " 2015-04-25\n",
        "(0.74124931666110128, 0.96609178307929611, 6)"
       ]
      },
      {
       "output_type": "stream",
       "stream": "stdout",
       "text": [
        " 2015-04-25\n",
        "(0.0, 0.0, 8)"
       ]
      },
      {
       "output_type": "stream",
       "stream": "stdout",
       "text": [
        " 2015-04-25\n",
        "(0.0, 0.55205244747388349, 6)"
       ]
      },
      {
       "output_type": "stream",
       "stream": "stdout",
       "text": [
        " 2015-04-25\n",
        "(0.40410720414072671, 0.64907877653283574, 20)"
       ]
      },
      {
       "output_type": "stream",
       "stream": "stdout",
       "text": [
        " 2015-04-25\n",
        "(0.0, -0.31622776601683794, 5)"
       ]
      },
      {
       "output_type": "stream",
       "stream": "stdout",
       "text": [
        " 2015-04-25\n",
        "(0.0, 0.32732683535398854, 8)"
       ]
      },
      {
       "output_type": "stream",
       "stream": "stdout",
       "text": [
        " 2015-04-25\n",
        "(0.0, 0.15899720766358738, 16)"
       ]
      },
      {
       "output_type": "stream",
       "stream": "stdout",
       "text": [
        " 2015-04-25\n",
        "(0.40516501173041336, 0.3988286944107457, 19)"
       ]
      },
      {
       "output_type": "stream",
       "stream": "stdout",
       "text": [
        " 2015-04-25\n",
        "(0.59628479399994394, 0.73333333333333328, 6)"
       ]
      },
      {
       "output_type": "stream",
       "stream": "stdout",
       "text": [
        " 2015-04-25\n",
        "(0.5361109642475097, 0.50000000000000011, 8)"
       ]
      },
      {
       "output_type": "stream",
       "stream": "stdout",
       "text": [
        " 2015-04-25\n",
        "(0.51639777949432231, 0.57142857142857151, 9)"
       ]
      },
      {
       "output_type": "stream",
       "stream": "stdout",
       "text": [
        " 2015-04-25\n",
        "(0.5949843781616545, 0.61167931443723611, 15)"
       ]
      },
      {
       "output_type": "stream",
       "stream": "stdout",
       "text": [
        " 2015-04-25\n",
        "(1.0, 1.0, 2)"
       ]
      },
      {
       "output_type": "stream",
       "stream": "stdout",
       "text": [
        " 2015-04-25\n",
        "(0.0, 0.0, 1)"
       ]
      },
      {
       "output_type": "stream",
       "stream": "stdout",
       "text": [
        " 2015-04-25\n",
        "(0.35007002100700241, 0.44038550605054416, 11)"
       ]
      },
      {
       "output_type": "stream",
       "stream": "stdout",
       "text": [
        " 2015-04-25\n",
        "(0.38869152429589332, 0.57883185204394316, 68)"
       ]
      },
      {
       "output_type": "stream",
       "stream": "stdout",
       "text": [
        " 2015-04-25\n",
        "(0.33174112372689801, 0.43914909521020357, 49)"
       ]
      },
      {
       "output_type": "stream",
       "stream": "stdout",
       "text": [
        " 2015-04-25\n",
        "(0.39477101697586131, 0.39656635201512735, 50)"
       ]
      },
      {
       "output_type": "stream",
       "stream": "stdout",
       "text": [
        " 2015-04-25\n",
        "(0.47444820322513903, 0.48720620237781537, 99)"
       ]
      },
      {
       "output_type": "stream",
       "stream": "stdout",
       "text": [
        " 2015-04-25\n",
        "(0.0, 0.58554004376911994, 7)"
       ]
      },
      {
       "output_type": "stream",
       "stream": "stdout",
       "text": [
        " 2015-04-25\n",
        "(0.45226701686664544, 0.4944132324730442, 10)"
       ]
      },
      {
       "output_type": "stream",
       "stream": "stdout",
       "text": [
        " 2015-04-25\n",
        "(0.0, -0.10540925533894598, 5)"
       ]
      },
      {
       "output_type": "stream",
       "stream": "stdout",
       "text": [
        " 2015-04-25\n",
        "(0.087705801930702945, 0.39779612647907758, 14)"
       ]
      },
      {
       "output_type": "stream",
       "stream": "stdout",
       "text": [
        " 2015-04-25\n",
        "(0.0, 0.15000000000000002, 7)"
       ]
      },
      {
       "output_type": "stream",
       "stream": "stdout",
       "text": [
        " 2015-04-25\n",
        "(0.0, 0.0, 1)"
       ]
      },
      {
       "output_type": "stream",
       "stream": "stdout",
       "text": [
        " 2015-04-25\n",
        "(0.0, 0.0, 2)"
       ]
      },
      {
       "output_type": "stream",
       "stream": "stdout",
       "text": [
        " 2015-04-25\n",
        "(0.0, 0.0, 3)"
       ]
      },
      {
       "output_type": "stream",
       "stream": "stdout",
       "text": [
        " 2015-04-25\n",
        "(0.99999999999999978, 0.73786478737262184, 5)"
       ]
      },
      {
       "output_type": "stream",
       "stream": "stdout",
       "text": [
        " 2015-04-25\n",
        "(0.56011203361120387, 0.76376261582597327, 8)"
       ]
      },
      {
       "output_type": "stream",
       "stream": "stdout",
       "text": [
        " 2015-04-25\n",
        "(0.53791435363991913, 0.84407221993020964, 11)"
       ]
      },
      {
       "output_type": "stream",
       "stream": "stdout",
       "text": [
        " 2015-04-25\n",
        "(0.39907982394798291, 0.59824304161611852, 19)"
       ]
      },
      {
       "output_type": "stream",
       "stream": "stdout",
       "text": [
        " 2015-04-25\n",
        "(-0.81649658092772615, 0.99999999999999989, 3)"
       ]
      },
      {
       "output_type": "stream",
       "stream": "stdout",
       "text": [
        " 2015-04-25\n",
        "(0.40824829046386302, 0.48484848484848508, 12)"
       ]
      },
      {
       "output_type": "stream",
       "stream": "stdout",
       "text": [
        " 2015-04-25\n",
        "(0.45544825803687911, 0.59495882347185047, 25)"
       ]
      },
      {
       "output_type": "stream",
       "stream": "stdout",
       "text": [
        " 2015-04-25\n",
        "(0.0, 0.0, 4)"
       ]
      },
      {
       "output_type": "stream",
       "stream": "stdout",
       "text": [
        " 2015-04-25\n",
        "(0.0, 0.0, 20)"
       ]
      },
      {
       "output_type": "stream",
       "stream": "stdout",
       "text": [
        " 2015-04-25\n",
        "(0.81649658092772615, 0.99999999999999989, 3)"
       ]
      },
      {
       "output_type": "stream",
       "stream": "stdout",
       "text": [
        " 2015-04-25\n",
        "(0.0, 0.0, 1)"
       ]
      },
      {
       "output_type": "stream",
       "stream": "stdout",
       "text": [
        " 2015-04-25\n",
        "(0.44643919908259472, 0.52786150730833992, 19)"
       ]
      },
      {
       "output_type": "stream",
       "stream": "stdout",
       "text": [
        " 2015-04-25\n",
        "(0.0, 0.0, 12)"
       ]
      },
      {
       "output_type": "stream",
       "stream": "stdout",
       "text": [
        " 2015-04-25\n",
        "(0.0, 1.0, 2)"
       ]
      },
      {
       "output_type": "stream",
       "stream": "stdout",
       "text": [
        " 2015-04-25\n",
        "(0.3411211461689766, 0.34545454545454535, 11)"
       ]
      },
      {
       "output_type": "stream",
       "stream": "stdout",
       "text": [
        " 2015-04-25\n",
        "(0.0, 0.52380952380952384, 7)"
       ]
      },
      {
       "output_type": "stream",
       "stream": "stdout",
       "text": [
        " 2015-04-25\n",
        "(0.75592894601845451, 0.82807867121082523, 6)"
       ]
      },
      {
       "output_type": "stream",
       "stream": "stdout",
       "text": [
        " 2015-04-25\n",
        "(0.0, 0.0, 1)"
       ]
      },
      {
       "output_type": "stream",
       "stream": "stdout",
       "text": [
        " 2015-04-25\n",
        "(0.0, 0.0, 1)"
       ]
      },
      {
       "output_type": "stream",
       "stream": "stdout",
       "text": [
        " 2015-04-25\n",
        "(0.47951222381615638, 0.52463138987111257, 9)"
       ]
      },
      {
       "output_type": "stream",
       "stream": "stdout",
       "text": [
        " 2015-04-25\n",
        "(-0.43033148291193518, -0.33333333333333331, 6)"
       ]
      },
      {
       "output_type": "stream",
       "stream": "stdout",
       "text": [
        " 2015-04-26\n",
        "(0.38783587594067015, 0.43333333333333346, 16)"
       ]
      },
      {
       "output_type": "stream",
       "stream": "stdout",
       "text": [
        " 2015-04-26\n",
        "(0.54595673877259276, 0.59016710652347537, 18)"
       ]
      },
      {
       "output_type": "stream",
       "stream": "stdout",
       "text": [
        " 2015-04-26\n",
        "(0.58267308033925491, 0.5358913016456669, 15)"
       ]
      },
      {
       "output_type": "stream",
       "stream": "stdout",
       "text": [
        " 2015-04-26\n",
        "(0.0, 0.55205244747388349, 6)"
       ]
      },
      {
       "output_type": "stream",
       "stream": "stdout",
       "text": [
        " 2015-04-26\n",
        "(0.43881574447923166, 0.34052855709402746, 21)"
       ]
      },
      {
       "output_type": "stream",
       "stream": "stdout",
       "text": [
        " 2015-04-26\n",
        "(0.52338800693971554, 0.51352617526068545, 66)"
       ]
      },
      {
       "output_type": "stream",
       "stream": "stdout",
       "text": [
        " 2015-04-26\n",
        "(0.0, 0.0, 11)"
       ]
      },
      {
       "output_type": "stream",
       "stream": "stdout",
       "text": [
        " 2015-04-26\n",
        "(0.46672143186108461, 0.61234754564389249, 29)"
       ]
      },
      {
       "output_type": "stream",
       "stream": "stdout",
       "text": [
        " 2015-04-26\n",
        "(0.80824575619603534, 0.72829264988432385, 15)"
       ]
      },
      {
       "output_type": "stream",
       "stream": "stdout",
       "text": [
        " 2015-04-26\n",
        "(0.025672692968940283, 0.3865546218487394, 16)"
       ]
      },
      {
       "output_type": "stream",
       "stream": "stdout",
       "text": [
        " 2015-04-26\n",
        "(0.0, 0.0, 6)"
       ]
      },
      {
       "output_type": "stream",
       "stream": "stdout",
       "text": [
        " 2015-04-26\n",
        "(0.2305952569867038, 0.43278921145054855, 18)"
       ]
      },
      {
       "output_type": "stream",
       "stream": "stdout",
       "text": [
        " 2015-04-26\n",
        "(0.25880733386193283, 0.26504400919705728, 39)"
       ]
      },
      {
       "output_type": "stream",
       "stream": "stdout",
       "text": [
        " 2015-04-26\n",
        "(0.39779612647907753, 0.76063882925566484, 9)"
       ]
      },
      {
       "output_type": "stream",
       "stream": "stdout",
       "text": [
        " 2015-04-26\n",
        "(0.57858533553720093, 0.65182829888712213, 36)"
       ]
      },
      {
       "output_type": "stream",
       "stream": "stdout",
       "text": [
        " 2015-04-26\n",
        "(0.0, -0.052704627669472988, 7)"
       ]
      },
      {
       "output_type": "stream",
       "stream": "stdout",
       "text": [
        " 2015-04-26\n",
        "(0.0, 0.4406937913567987, 16)"
       ]
      },
      {
       "output_type": "stream",
       "stream": "stdout",
       "text": [
        " 2015-04-26\n",
        "(0.54772255750516619, 0.39036002917941331, 7)"
       ]
      },
      {
       "output_type": "stream",
       "stream": "stdout",
       "text": [
        " 2015-04-26\n",
        "(0.65000000000000013, 0.68313005106397329, 7)"
       ]
      },
      {
       "output_type": "stream",
       "stream": "stdout",
       "text": [
        " 2015-04-30\n",
        "(0.77248727933642836, 0.94387980744853894, 10)"
       ]
      },
      {
       "output_type": "stream",
       "stream": "stdout",
       "text": [
        " 2015-05-01\n",
        "(0.23564289702462207, 0.52631578947368429, 21)"
       ]
      },
      {
       "output_type": "stream",
       "stream": "stdout",
       "text": [
        " 2015-05-01\n",
        "(0.29373865983907743, 0.35983578576496089, 16)"
       ]
      },
      {
       "output_type": "stream",
       "stream": "stdout",
       "text": [
        " 2015-05-01\n",
        "(0.51375091653444549, 0.55299890769523297, 52)"
       ]
      },
      {
       "output_type": "stream",
       "stream": "stdout",
       "text": [
        " 2015-05-01\n",
        "(0.47724700720104341, 0.53959176302630296, 19)"
       ]
      },
      {
       "output_type": "stream",
       "stream": "stdout",
       "text": [
        " 2015-05-01\n",
        "(0.0, 0.4879500364742666, 7)"
       ]
      },
      {
       "output_type": "stream",
       "stream": "stdout",
       "text": [
        " 2015-05-01\n",
        "(0.0, 0.77864864110438547, 12)"
       ]
      },
      {
       "output_type": "stream",
       "stream": "stdout",
       "text": [
        " 2015-05-01\n",
        "(-0.37062465833055058, 0.2142857142857143, 8)"
       ]
      },
      {
       "output_type": "stream",
       "stream": "stdout",
       "text": [
        " 2015-05-01\n",
        "(0.58761906823521293, 0.6795628980410624, 35)"
       ]
      },
      {
       "output_type": "stream",
       "stream": "stdout",
       "text": [
        " 2015-05-01\n",
        "(0.0, 1.0, 2)"
       ]
      },
      {
       "output_type": "stream",
       "stream": "stdout",
       "text": [
        " 2015-05-01\n",
        "(0.0, 1.0, 2)"
       ]
      },
      {
       "output_type": "stream",
       "stream": "stdout",
       "text": [
        " 2015-05-01\n",
        "(0.0, 0.39036002917941331, 7)"
       ]
      },
      {
       "output_type": "stream",
       "stream": "stdout",
       "text": [
        " 2015-05-02\n",
        "(0.54772255750516619, 0.87831006565367986, 7)"
       ]
      },
      {
       "output_type": "stream",
       "stream": "stdout",
       "text": [
        " 2015-05-02\n",
        "(0.77689859606735601, 0.68313005106397329, 7)"
       ]
      },
      {
       "output_type": "stream",
       "stream": "stdout",
       "text": [
        " 2015-05-02\n",
        "(0.70440753110268517, 0.6985645933014355, 21)"
       ]
      },
      {
       "output_type": "stream",
       "stream": "stdout",
       "text": [
        " 2015-05-02\n",
        "(0.30515847214470876, 0.49735449735449727, 20)"
       ]
      },
      {
       "output_type": "stream",
       "stream": "stdout",
       "text": [
        " 2015-05-02\n",
        "(0.0, -0.071428571428571452, 6)"
       ]
      },
      {
       "output_type": "stream",
       "stream": "stdout",
       "text": [
        " 2015-05-02\n",
        "(0.0, 0.14773421007131962, 13)"
       ]
      },
      {
       "output_type": "stream",
       "stream": "stdout",
       "text": [
        " 2015-05-02\n",
        "(0.0, 0.33982184135402005, 15)"
       ]
      },
      {
       "output_type": "stream",
       "stream": "stdout",
       "text": [
        " 2015-05-02\n",
        "(0.0, 0.30769230769230776, 12)"
       ]
      },
      {
       "output_type": "stream",
       "stream": "stdout",
       "text": [
        " 2015-05-02\n",
        "(0.47507535657750605, 0.61184210526315785, 18)"
       ]
      },
      {
       "output_type": "stream",
       "stream": "stdout",
       "text": [
        " 2015-05-02\n",
        "(0.0, 0.52704627669472992, 5)"
       ]
      },
      {
       "output_type": "stream",
       "stream": "stdout",
       "text": [
        " 2015-05-02\n",
        "(0.39093470806997765, 0.47078529712239547, 25)"
       ]
      },
      {
       "output_type": "stream",
       "stream": "stdout",
       "text": [
        " 2015-05-02\n",
        "(0.0, 1.0, 2)"
       ]
      },
      {
       "output_type": "stream",
       "stream": "stdout",
       "text": [
        " 2015-05-02\n",
        "(0.73374144467097191, 0.6774891774891777, 31)"
       ]
      },
      {
       "output_type": "stream",
       "stream": "stdout",
       "text": [
        " 2015-05-02\n",
        "(-0.66666666666666663, -0.10540925533894598, 5)"
       ]
      },
      {
       "output_type": "stream",
       "stream": "stdout",
       "text": [
        " 2015-05-02\n",
        "(0.0, 0.91287092917527701, 4)"
       ]
      },
      {
       "output_type": "stream",
       "stream": "stdout",
       "text": [
        " 2015-05-02\n",
        "(0.049216346916728312, 0.41148325358851678, 21)"
       ]
      },
      {
       "output_type": "stream",
       "stream": "stdout",
       "text": [
        " 2015-05-02\n",
        "(0.53452248382484879, 0.3857583749052298, 6)"
       ]
      },
      {
       "output_type": "stream",
       "stream": "stdout",
       "text": [
        " 2015-05-02\n",
        "(0.62918847430695723, 0.67777777777777781, 14)"
       ]
      },
      {
       "output_type": "stream",
       "stream": "stdout",
       "text": [
        " 2015-05-02\n",
        "(0.36514837167011077, 0.58554004376911994, 7)"
       ]
      },
      {
       "output_type": "stream",
       "stream": "stdout",
       "text": [
        " 2015-05-02\n",
        "(0.2581988897471611, 0.18257418583505539, 4)"
       ]
      },
      {
       "output_type": "stream",
       "stream": "stdout",
       "text": [
        " 2015-05-02\n",
        "(0.56407607481776645, 0.45873490213598367, 12)"
       ]
      },
      {
       "output_type": "stream",
       "stream": "stdout",
       "text": [
        " 2015-05-02\n",
        "(0.0, 1.0, 2)"
       ]
      },
      {
       "output_type": "stream",
       "stream": "stdout",
       "text": [
        " 2015-05-02\n",
        "(0.57655666019705509, 0.4285714285714286, 8)"
       ]
      },
      {
       "output_type": "stream",
       "stream": "stdout",
       "text": [
        " 2015-05-02\n",
        "(0.0, 0.0, 1)"
       ]
      },
      {
       "output_type": "stream",
       "stream": "stdout",
       "text": [
        " 2015-05-02\n",
        "(0.35208939510976506, 0.38181818181818172, 11)"
       ]
      },
      {
       "output_type": "stream",
       "stream": "stdout",
       "text": [
        " 2015-05-02\n",
        "(0.23570226039551587, 0.33333333333333331, 4)"
       ]
      },
      {
       "output_type": "stream",
       "stream": "stdout",
       "text": [
        " 2015-05-02\n",
        "(0.0, 0.0, 1)"
       ]
      },
      {
       "output_type": "stream",
       "stream": "stdout",
       "text": [
        " 2015-05-02\n",
        "(0.0, 0.0, 1)"
       ]
      },
      {
       "output_type": "stream",
       "stream": "stdout",
       "text": [
        " 2015-05-02\n",
        "(0.44721359549995782, 0.40451991747794525, 10)"
       ]
      },
      {
       "output_type": "stream",
       "stream": "stdout",
       "text": [
        " 2015-05-02\n",
        "(0.0, 0.0, 1)"
       ]
      },
      {
       "output_type": "stream",
       "stream": "stdout",
       "text": [
        " 2015-05-02\n",
        "(0.63692975529848195, 0.59824304161611852, 19)"
       ]
      },
      {
       "output_type": "stream",
       "stream": "stdout",
       "text": [
        " 2015-05-02\n",
        "(0.42694084017889183, 0.44199569608786399, 14)"
       ]
      },
      {
       "output_type": "stream",
       "stream": "stdout",
       "text": [
        " 2015-05-02\n",
        "(0.0, 0.18257418583505539, 4)"
       ]
      },
      {
       "output_type": "stream",
       "stream": "stdout",
       "text": [
        " 2015-05-02\n",
        "(1.0, 1.0, 2)"
       ]
      },
      {
       "output_type": "stream",
       "stream": "stdout",
       "text": [
        " 2015-05-02\n",
        "(0.54772255750516619, 0.66666666666666663, 4)"
       ]
      },
      {
       "output_type": "stream",
       "stream": "stdout",
       "text": [
        " 2015-05-02\n",
        "(0.99999999999999989, 0.99999999999999989, 3)"
       ]
      },
      {
       "output_type": "stream",
       "stream": "stdout",
       "text": [
        " 2015-05-02\n",
        "(0.2286647801900118, 0.16666666666666666, 9)"
       ]
      },
      {
       "output_type": "stream",
       "stream": "stdout",
       "text": [
        " 2015-05-02\n",
        "(0.44721359549995793, 0.59999999999999998, 6)"
       ]
      },
      {
       "output_type": "stream",
       "stream": "stdout",
       "text": [
        " 2015-05-02\n",
        "(0.47939499700444987, 0.44038550605054416, 11)"
       ]
      },
      {
       "output_type": "stream",
       "stream": "stdout",
       "text": [
        " 2015-05-02\n",
        "(0.0, 0.0, 6)"
       ]
      },
      {
       "output_type": "stream",
       "stream": "stdout",
       "text": [
        " 2015-05-02\n",
        "(0.0, 0.016951587590520265, 16)"
       ]
      },
      {
       "output_type": "stream",
       "stream": "stdout",
       "text": [
        " 2015-05-02\n",
        "(0.0, 0.10910894511799617, 8)"
       ]
      },
      {
       "output_type": "stream",
       "stream": "stdout",
       "text": [
        " 2015-05-02\n",
        "(0.62360956446232352, 0.55205244747388349, 6)"
       ]
      },
      {
       "output_type": "stream",
       "stream": "stdout",
       "text": [
        " 2015-05-02\n",
        "(0.2581988897471611, 0.18257418583505539, 4)"
       ]
      },
      {
       "output_type": "stream",
       "stream": "stdout",
       "text": [
        " 2015-05-02\n",
        "(0.54726723316988801, 0.58718067473405888, 11)"
       ]
      },
      {
       "output_type": "stream",
       "stream": "stdout",
       "text": [
        " 2015-05-03\n",
        "(0.59761430466719689, 0.41403933560541262, 6)"
       ]
      },
      {
       "output_type": "stream",
       "stream": "stdout",
       "text": [
        " 2015-05-03\n",
        "(0.38844929803367795, 0.64795159529186264, 9)"
       ]
      },
      {
       "output_type": "stream",
       "stream": "stdout",
       "text": [
        " 2015-05-03\n",
        "(0.62994078834871203, 0.44444444444444436, 5)"
       ]
      },
      {
       "output_type": "stream",
       "stream": "stdout",
       "text": [
        " 2015-05-03\n",
        "(0.65000000000000013, 0.87831006565367986, 7)"
       ]
      },
      {
       "output_type": "stream",
       "stream": "stdout",
       "text": [
        " 2015-05-03\n",
        "(0.0, 0.0, 1)"
       ]
      },
      {
       "output_type": "stream",
       "stream": "stdout",
       "text": [
        " 2015-05-03\n",
        "(0.0, 0.0, 1)"
       ]
      },
      {
       "output_type": "stream",
       "stream": "stdout",
       "text": [
        " 2015-05-03\n",
        "(0.50156866881927631, 0.56160769354569273, 44)"
       ]
      },
      {
       "output_type": "stream",
       "stream": "stdout",
       "text": [
        " 2015-05-03\n",
        "(0.64465837122030412, 0.96609178307929611, 6)"
       ]
      },
      {
       "output_type": "stream",
       "stream": "stdout",
       "text": [
        " 2015-05-03\n",
        "(0.64372068582038411, 0.7191465199607916, 10)"
       ]
      },
      {
       "output_type": "stream",
       "stream": "stdout",
       "text": [
        " 2015-05-03\n",
        "(0.69282032302755103, 0.45000000000000007, 7)"
       ]
      },
      {
       "output_type": "stream",
       "stream": "stdout",
       "text": [
        " 2015-05-03\n",
        "(0.7745966692414834, -0.54772255750516619, 4)"
       ]
      },
      {
       "output_type": "stream",
       "stream": "stdout",
       "text": [
        " 2015-05-03\n",
        "(0.61721339984836776, 0.50000000000000011, 6)"
       ]
      },
      {
       "output_type": "stream",
       "stream": "stdout",
       "text": [
        " 2015-05-03\n",
        "(0.24845199749997657, 0.7333333333333335, 10)"
       ]
      },
      {
       "output_type": "stream",
       "stream": "stdout",
       "text": [
        " 2015-05-03\n",
        "(0.43033148291193518, 0.73333333333333328, 6)"
       ]
      },
      {
       "output_type": "stream",
       "stream": "stdout",
       "text": [
        " 2015-05-03\n",
        "(0.63245553203367577, 0.39999999999999991, 5)"
       ]
      },
      {
       "output_type": "stream",
       "stream": "stdout",
       "text": [
        " 2015-05-03\n",
        "(0.0, 0.0, 2)"
       ]
      },
      {
       "output_type": "stream",
       "stream": "stdout",
       "text": [
        " 2015-05-03\n",
        "(0.43961246778333124, 0.63636363636363669, 12)"
       ]
      },
      {
       "output_type": "stream",
       "stream": "stdout",
       "text": [
        " 2015-05-03\n",
        "(0.14907119849998599, 0.73333333333333328, 6)"
       ]
      },
      {
       "output_type": "stream",
       "stream": "stdout",
       "text": [
        " 2015-05-03\n",
        "(0.53452248382484879, 0.0, 7)"
       ]
      },
      {
       "output_type": "stream",
       "stream": "stdout",
       "text": [
        " 2015-05-03\n",
        "(0.64683028923893426, 0.57284253256820516, 15)"
       ]
      },
      {
       "output_type": "stream",
       "stream": "stdout",
       "text": [
        " 2015-05-03\n",
        "(0.0, 0.20000000000000004, 4)"
       ]
      },
      {
       "output_type": "stream",
       "stream": "stdout",
       "text": [
        " 2015-05-03\n",
        "(0.0, 0.0, 1)"
       ]
      },
      {
       "output_type": "stream",
       "stream": "stdout",
       "text": [
        " 2015-05-03\n",
        "(0.0, -0.31622776601683794, 5)"
       ]
      },
      {
       "output_type": "stream",
       "stream": "stdout",
       "text": [
        " 2015-05-03\n",
        "(0.5896919751144688, 0.53886025124365067, 8)"
       ]
      },
      {
       "output_type": "stream",
       "stream": "stdout",
       "text": [
        " 2015-05-03\n",
        "(0.66666666666666663, 0.94868329805051377, 5)"
       ]
      },
      {
       "output_type": "stream",
       "stream": "stdout",
       "text": [
        " 2015-05-03\n",
        "(0.91287092917527701, 0.33333333333333331, 4)"
       ]
      },
      {
       "output_type": "stream",
       "stream": "stdout",
       "text": [
        " 2015-05-06\n",
        "(0.69566559299993447, 0.4728054288446501, 8)"
       ]
      },
      {
       "output_type": "stream",
       "stream": "stdout",
       "text": [
        " 2015-05-08\n",
        "(0.54504140567898651, 0.51752993655298796, 25)"
       ]
      },
      {
       "output_type": "stream",
       "stream": "stdout",
       "text": [
        " 2015-05-09\n",
        "(0.0, 0.80737342775933096, 11)"
       ]
      },
      {
       "output_type": "stream",
       "stream": "stdout",
       "text": [
        " 2015-05-09\n",
        "(0.62019557134731107, 0.66029463952769651, 21)"
       ]
      },
      {
       "output_type": "stream",
       "stream": "stdout",
       "text": [
        " 2015-05-09\n",
        "(0.0, 0.3146266024828463, 10)"
       ]
      },
      {
       "output_type": "stream",
       "stream": "stdout",
       "text": [
        " 2015-05-09\n",
        "(0.0, -0.30988989340045608, 9)"
       ]
      },
      {
       "output_type": "stream",
       "stream": "stdout",
       "text": [
        " 2015-05-09\n",
        "(0.0, 0.41403933560541262, 6)"
       ]
      },
      {
       "output_type": "stream",
       "stream": "stdout",
       "text": [
        " 2015-05-09\n",
        "(0.67330032922413863, 0.63343380877000788, 19)"
       ]
      },
      {
       "output_type": "stream",
       "stream": "stdout",
       "text": [
        " 2015-05-09\n",
        "(0.43779173047271541, 0.55759677035063859, 25)"
       ]
      },
      {
       "output_type": "stream",
       "stream": "stdout",
       "text": [
        " 2015-05-09\n",
        "(0.80178372573727319, 0.55205244747388349, 6)"
       ]
      },
      {
       "output_type": "stream",
       "stream": "stdout",
       "text": [
        " 2015-05-09\n",
        "(0.17817416127494959, 0.64285714285714302, 6)"
       ]
      },
      {
       "output_type": "stream",
       "stream": "stdout",
       "text": [
        " 2015-05-09\n",
        "(0.81649658092772615, 0.99999999999999989, 3)"
       ]
      },
      {
       "output_type": "stream",
       "stream": "stdout",
       "text": [
        " 2015-05-09\n",
        "(0.0, -1.0, 2)"
       ]
      },
      {
       "output_type": "stream",
       "stream": "stdout",
       "text": [
        " 2015-05-09\n",
        "(-0.040655781409087093, 0.27272727272727265, 11)"
       ]
      },
      {
       "output_type": "stream",
       "stream": "stdout",
       "text": [
        " 2015-05-09\n",
        "(0.23570226039551587, 0.33333333333333331, 4)"
       ]
      },
      {
       "output_type": "stream",
       "stream": "stdout",
       "text": [
        " 2015-05-09\n",
        "(0.0, 0.24354409352352613, 17)"
       ]
      },
      {
       "output_type": "stream",
       "stream": "stdout",
       "text": [
        " 2015-05-09\n",
        "(0.0, 0.46409548089225722, 14)"
       ]
      },
      {
       "output_type": "stream",
       "stream": "stdout",
       "text": [
        " 2015-05-09\n",
        "(0.36867645720480624, 0.70195552754036761, 15)"
       ]
      },
      {
       "output_type": "stream",
       "stream": "stdout",
       "text": [
        " 2015-05-09\n",
        "(0.70047740196853603, 0.60317460317460303, 20)"
       ]
      },
      {
       "output_type": "stream",
       "stream": "stdout",
       "text": [
        " 2015-05-09\n",
        "(0.688313737497534, 0.62501352623548823, 18)"
       ]
      },
      {
       "output_type": "stream",
       "stream": "stdout",
       "text": [
        " 2015-05-09\n",
        "(0.0, 0.34893157889942655, 10)"
       ]
      },
      {
       "output_type": "stream",
       "stream": "stdout",
       "text": [
        " 2015-05-09\n",
        "(0.54006172486732174, 0.55205244747388349, 6)"
       ]
      },
      {
       "output_type": "stream",
       "stream": "stdout",
       "text": [
        " 2015-05-09\n",
        "(0.0, 0.21538461538461542, 12)"
       ]
      },
      {
       "output_type": "stream",
       "stream": "stdout",
       "text": [
        " 2015-05-09\n",
        "(0.0, 0.13801311186847087, 6)"
       ]
      },
      {
       "output_type": "stream",
       "stream": "stdout",
       "text": [
        " 2015-05-09\n",
        "(0.33333333333333326, 0.99999999999999989, 3)"
       ]
      },
      {
       "output_type": "stream",
       "stream": "stdout",
       "text": [
        " 2015-05-09\n",
        "(0.54772255750516619, 0.87831006565367986, 7)"
       ]
      },
      {
       "output_type": "stream",
       "stream": "stdout",
       "text": [
        " 2015-05-09\n",
        "(0.0, 0.0, 5)"
       ]
      },
      {
       "output_type": "stream",
       "stream": "stdout",
       "text": [
        " 2015-05-09\n",
        "(0.50000000000000011, 0.69006555934235436, 6)"
       ]
      },
      {
       "output_type": "stream",
       "stream": "stdout",
       "text": [
        " 2015-05-10\n",
        "(0.091287092917527693, 0.097590007294853329, 7)"
       ]
      },
      {
       "output_type": "stream",
       "stream": "stdout",
       "text": [
        " 2015-05-10\n",
        "(0.5161305486145662, 0.53637715061367797, 27)"
       ]
      },
      {
       "output_type": "stream",
       "stream": "stdout",
       "text": [
        " 2015-05-10\n",
        "(0.19440394783993473, 0.40368671387966548, 11)"
       ]
      },
      {
       "output_type": "stream",
       "stream": "stdout",
       "text": [
        " 2015-05-15\n",
        "(0.5003069715128825, 0.71850124166253215, 34)"
       ]
      },
      {
       "output_type": "stream",
       "stream": "stdout",
       "text": [
        " 2015-05-15\n",
        "(0.052704627669472988, 0.58554004376911994, 7)"
       ]
      },
      {
       "output_type": "stream",
       "stream": "stdout",
       "text": [
        " 2015-05-15\n",
        "(0.53909672338260628, 0.58909090909090889, 24)"
       ]
      },
      {
       "output_type": "stream",
       "stream": "stdout",
       "text": [
        " 2015-05-16\n",
        "(0.65263975107914241, 0.727281052233405, 15)"
       ]
      },
      {
       "output_type": "stream",
       "stream": "stdout",
       "text": [
        " 2015-05-16\n",
        "(0.0, 0.73786478737262184, 5)"
       ]
      },
      {
       "output_type": "stream",
       "stream": "stdout",
       "text": [
        " 2015-05-16\n",
        "(0.0, 0.25458753860865774, 8)"
       ]
      },
      {
       "output_type": "stream",
       "stream": "stdout",
       "text": [
        " 2015-05-16\n",
        "(0.68091764114260123, 0.62387946690493756, 11)"
       ]
      },
      {
       "output_type": "stream",
       "stream": "stdout",
       "text": [
        " 2015-05-16\n",
        "(0.58794473579213136, 0.40006613209931929, 8)"
       ]
      },
      {
       "output_type": "stream",
       "stream": "stdout",
       "text": [
        " 2015-05-16\n",
        "(0.2651672699032947, 0.22619047619047616, 23)"
       ]
      },
      {
       "output_type": "stream",
       "stream": "stdout",
       "text": [
        " 2015-05-16\n",
        "(0.24906014704892063, 0.49276032999090247, 15)"
       ]
      },
      {
       "output_type": "stream",
       "stream": "stdout",
       "text": [
        " 2015-05-16\n",
        "(0.0, 0.28571428571428575, 9)"
       ]
      },
      {
       "output_type": "stream",
       "stream": "stdout",
       "text": [
        " 2015-05-16\n",
        "(0.0, 0.21538461538461542, 12)"
       ]
      },
      {
       "output_type": "stream",
       "stream": "stdout",
       "text": [
        " 2015-05-16\n",
        "(0.4020449185622636, 0.59054849425729439, 75)"
       ]
      },
      {
       "output_type": "stream",
       "stream": "stdout",
       "text": [
        " 2015-05-16\n",
        "(0.45831099915100149, 0.69495091307340484, 32)"
       ]
      },
      {
       "output_type": "stream",
       "stream": "stdout",
       "text": [
        " 2015-05-16\n",
        "(0.52124382403810765, 0.52842809364548471, 25)"
       ]
      },
      {
       "output_type": "stream",
       "stream": "stdout",
       "text": [
        " 2015-05-16\n",
        "(0.0, 0.018518518518518517, 11)"
       ]
      },
      {
       "output_type": "stream",
       "stream": "stdout",
       "text": [
        " 2015-05-16\n",
        "(0.29756985032180777, 0.193552415284691, 13)"
       ]
      },
      {
       "output_type": "stream",
       "stream": "stdout",
       "text": [
        " 2015-05-16\n",
        "(0.46706116865534908, 0.40781007008848519, 22)"
       ]
      },
      {
       "output_type": "stream",
       "stream": "stdout",
       "text": [
        " 2015-05-16\n",
        "(0.0, -0.10540925533894598, 5)"
       ]
      },
      {
       "output_type": "stream",
       "stream": "stdout",
       "text": [
        " 2015-05-16\n",
        "(0.88888888888888873, 0.52704627669472992, 5)"
       ]
      },
      {
       "output_type": "stream",
       "stream": "stdout",
       "text": [
        " 2015-05-16\n",
        "(0.36784039189736234, 0.3595732599803958, 10)"
       ]
      },
      {
       "output_type": "stream",
       "stream": "stdout",
       "text": [
        " 2015-05-16\n",
        "(0.50000000000000011, 0.10910894511799617, 8)"
       ]
      },
      {
       "output_type": "stream",
       "stream": "stdout",
       "text": [
        " 2015-05-16\n",
        "(0.59016710652347526, 0.66358340756452894, 26)"
       ]
      },
      {
       "output_type": "stream",
       "stream": "stdout",
       "text": [
        " 2015-05-17\n",
        "(0.30285838633091106, 0.33337160132419863, 17)"
       ]
      },
      {
       "output_type": "stream",
       "stream": "stdout",
       "text": [
        " 2015-05-17\n",
        "(0.13352793001511501, 0.40000045225923292, 37)"
       ]
      },
      {
       "output_type": "stream",
       "stream": "stdout",
       "text": [
        " 2015-05-17\n",
        "(0.48780316097313697, 0.58969897639744184, 48)"
       ]
      },
      {
       "output_type": "stream",
       "stream": "stdout",
       "text": [
        " 2015-05-17\n",
        "(0.0, 0.40451991747794525, 10)"
       ]
      },
      {
       "output_type": "stream",
       "stream": "stdout",
       "text": [
        " 2015-05-17\n",
        "(0.55792424331575829, 0.53874905537022444, 17)"
       ]
      },
      {
       "output_type": "stream",
       "stream": "stdout",
       "text": [
        " 2015-05-17\n",
        "(0.38888888888888895, 0.4728054288446501, 8)"
       ]
      },
      {
       "output_type": "stream",
       "stream": "stdout",
       "text": [
        " 2015-05-17\n",
        "(0.50917507721731547, -0.10910894511799617, 8)"
       ]
      },
      {
       "output_type": "stream",
       "stream": "stdout",
       "text": [
        " 2015-05-17\n",
        "(0.0, -0.32732683535398854, 8)"
       ]
      },
      {
       "output_type": "stream",
       "stream": "stdout",
       "text": [
        " 2015-05-17\n",
        "(0.61369947979423689, 0.66028708133971303, 21)"
       ]
      },
      {
       "output_type": "stream",
       "stream": "stdout",
       "text": [
        " 2015-05-17\n",
        "(0.47328731057224049, 0.51193179011107715, 22)"
       ]
      },
      {
       "output_type": "stream",
       "stream": "stdout",
       "text": [
        " 2015-05-17\n",
        "(0.92338051687663913, 0.78072005835882663, 7)"
       ]
      },
      {
       "output_type": "stream",
       "stream": "stdout",
       "text": [
        " 2015-05-17\n",
        "(0.0, -0.29044327927315783, 19)"
       ]
      },
      {
       "output_type": "stream",
       "stream": "stdout",
       "text": [
        " 2015-05-17\n",
        "(0.0, 0.26990796132598543, 24)"
       ]
      },
      {
       "output_type": "stream",
       "stream": "stdout",
       "text": [
        " 2015-05-17\n",
        "(0.45268314226448564, 0.31105139497547457, 26)"
       ]
      },
      {
       "output_type": "stream",
       "stream": "stdout",
       "text": [
        " 2015-05-17\n",
        "(0.0, 0.54772255750516619, 4)"
       ]
      },
      {
       "output_type": "stream",
       "stream": "stdout",
       "text": [
        " 2015-05-17\n",
        "(0.0, -0.60677987621691798, 7)"
       ]
      },
      {
       "output_type": "stream",
       "stream": "stdout",
       "text": [
        " 2015-05-17\n",
        "(0.0, -0.10475656017578482, 11)"
       ]
      },
      {
       "output_type": "stream",
       "stream": "stdout",
       "text": [
        " 2015-05-17\n",
        "(0.5337605126836239, 0.51851851851851849, 8)"
       ]
      },
      {
       "output_type": "stream",
       "stream": "stdout",
       "text": [
        " 2015-05-17\n",
        "(0.0, -0.7745966692414834, 4)"
       ]
      },
      {
       "output_type": "stream",
       "stream": "stdout",
       "text": [
        " 2015-05-17\n",
        "(0.22413272587221031, 0.5321811563901746, 15)"
       ]
      },
      {
       "output_type": "stream",
       "stream": "stdout",
       "text": [
        " 2015-05-18\n",
        "(0.4870588027869559, 0.71273198502043789, 24)"
       ]
      },
      {
       "output_type": "stream",
       "stream": "stdout",
       "text": [
        " 2015-05-22\n",
        "(0.80000000000000016, 0.70429521227376379, 9)"
       ]
      },
      {
       "output_type": "stream",
       "stream": "stdout",
       "text": [
        " 2015-05-23\n",
        "(0.64169852872716449, 0.65108604921182356, 25)"
       ]
      },
      {
       "output_type": "stream",
       "stream": "stdout",
       "text": [
        " 2015-05-23\n",
        "(0.38826381787456254, 0.45987093009978114, 22)"
       ]
      },
      {
       "output_type": "stream",
       "stream": "stdout",
       "text": [
        " 2015-05-23\n",
        "(0.0, 0.13801311186847087, 6)"
       ]
      },
      {
       "output_type": "stream",
       "stream": "stdout",
       "text": [
        " 2015-05-23\n",
        "(0.67623462328758921, 0.73508674519299311, 40)"
       ]
      },
      {
       "output_type": "stream",
       "stream": "stdout",
       "text": [
        " 2015-05-23\n",
        "(0.53603762356656171, 0.70814207717463118, 15)"
       ]
      },
      {
       "output_type": "stream",
       "stream": "stdout",
       "text": [
        " 2015-05-23\n",
        "(0.44613429891925654, 0.5416318147753022, 35)"
       ]
      },
      {
       "output_type": "stream",
       "stream": "stdout",
       "text": [
        " 2015-05-23\n",
        "(0.2581988897471611, 0.91287092917527701, 4)"
       ]
      },
      {
       "output_type": "stream",
       "stream": "stdout",
       "text": [
        " 2015-05-23\n",
        "(0.0051557352074145498, 0.46300847856055116, 21)"
       ]
      },
      {
       "output_type": "stream",
       "stream": "stdout",
       "text": [
        " 2015-05-23\n",
        "(0.0, -0.23570226039551581, 11)"
       ]
      },
      {
       "output_type": "stream",
       "stream": "stdout",
       "text": [
        " 2015-05-23\n",
        "(0.21693045781865614, 0.05000000000000001, 7)"
       ]
      },
      {
       "output_type": "stream",
       "stream": "stdout",
       "text": [
        " 2015-05-23\n",
        "(0.5247478797987698, 0.56018542531959281, 47)"
       ]
      },
      {
       "output_type": "stream",
       "stream": "stdout",
       "text": [
        " 2015-05-23\n",
        "(0.0, -0.036369648372665389, 9)"
       ]
      },
      {
       "output_type": "stream",
       "stream": "stdout",
       "text": [
        " 2015-05-23\n",
        "(0.0, 0.64795159529186264, 9)"
       ]
      },
      {
       "output_type": "stream",
       "stream": "stdout",
       "text": [
        " 2015-05-23\n",
        "(0.0, 0.4879500364742666, 7)"
       ]
      },
      {
       "output_type": "stream",
       "stream": "stdout",
       "text": [
        " 2015-05-23\n",
        "(0.0, 0.42581531362632025, 13)"
       ]
      },
      {
       "output_type": "stream",
       "stream": "stdout",
       "text": [
        " 2015-05-23\n",
        "(0.47809144373375756, 0.76063882925566484, 9)"
       ]
      },
      {
       "output_type": "stream",
       "stream": "stdout",
       "text": [
        " 2015-05-23\n",
        "(0.69388866648871106, 0.32732683535398854, 8)"
       ]
      },
      {
       "output_type": "stream",
       "stream": "stdout",
       "text": [
        " 2015-05-23\n",
        "(0.47302498624573031, 0.46774317713212754, 30)"
       ]
      },
      {
       "output_type": "stream",
       "stream": "stdout",
       "text": [
        " 2015-05-24\n",
        "(0.44474958999666075, 0.69006555934235436, 6)"
       ]
      },
      {
       "output_type": "stream",
       "stream": "stdout",
       "text": [
        " 2015-05-24\n",
        "(0.52905026216247153, 0.68635153629357359, 17)"
       ]
      },
      {
       "output_type": "stream",
       "stream": "stdout",
       "text": [
        " 2015-05-24\n",
        "(0.4533709700982087, 0.45569650425316921, 30)"
       ]
      },
      {
       "output_type": "stream",
       "stream": "stdout",
       "text": [
        " 2015-05-24\n",
        "(0.0, 0.0, 10)"
       ]
      },
      {
       "output_type": "stream",
       "stream": "stdout",
       "text": [
        " 2015-05-24\n",
        "(0.0, 0.4728054288446501, 8)"
       ]
      },
      {
       "output_type": "stream",
       "stream": "stdout",
       "text": [
        " 2015-05-24\n",
        "(0.64918234511758355, 0.73549917808182586, 13)"
       ]
      },
      {
       "output_type": "stream",
       "stream": "stdout",
       "text": [
        " 2015-05-24\n",
        "(0.61584028713560068, 0.76376261582597327, 8)"
       ]
      },
      {
       "output_type": "stream",
       "stream": "stdout",
       "text": [
        " 2015-05-26\n",
        "(0.46325281931486906, 0.5745944049142232, 14)"
       ]
      },
      {
       "output_type": "stream",
       "stream": "stdout",
       "text": [
        " 2015-05-30\n",
        "(0.44821072850039761, 0.14085904245475275, 9)"
       ]
      },
      {
       "output_type": "stream",
       "stream": "stdout",
       "text": [
        " 2015-05-30\n",
        "(0.079626630204756285, 0.41348065320870969, 15)"
       ]
      },
      {
       "output_type": "stream",
       "stream": "stdout",
       "text": [
        " 2015-05-30\n",
        "(0.0, 0.91287092917527701, 4)"
       ]
      },
      {
       "output_type": "stream",
       "stream": "stdout",
       "text": [
        " 2015-05-30\n",
        "(0.56231849568757264, 0.49076687981750999, 20)"
       ]
      },
      {
       "output_type": "stream",
       "stream": "stdout",
       "text": [
        " 2015-05-30\n",
        "(0.50881766592394029, 0.62430520090307651, 36)"
       ]
      },
      {
       "output_type": "stream",
       "stream": "stdout",
       "text": [
        " 2015-05-30\n",
        "(0.0, -0.26352313834736496, 7)"
       ]
      },
      {
       "output_type": "stream",
       "stream": "stdout",
       "text": [
        " 2015-05-30\n",
        "(0.0, 0.44199569608786399, 14)"
       ]
      },
      {
       "output_type": "stream",
       "stream": "stdout",
       "text": [
        " 2015-05-30\n",
        "(0.31752644813856012, 0.32732683535398854, 8)"
       ]
      },
      {
       "output_type": "stream",
       "stream": "stdout",
       "text": [
        " 2015-05-30\n",
        "(0.0, -0.46790960017870326, 10)"
       ]
      },
      {
       "output_type": "stream",
       "stream": "stdout",
       "text": [
        " 2015-05-30\n",
        "(0.0, 0.09435641951204965, 11)"
       ]
      },
      {
       "output_type": "stream",
       "stream": "stdout",
       "text": [
        " 2015-05-30\n",
        "(0.62853936105470887, 0.5504818825631802, 11)"
       ]
      },
      {
       "output_type": "stream",
       "stream": "stdout",
       "text": [
        " 2015-05-30\n",
        "(0.1114228867324257, 0.34909090909090895, 24)"
       ]
      },
      {
       "output_type": "stream",
       "stream": "stdout",
       "text": [
        " 2015-05-30\n",
        "(0.0, 0.27602622373694174, 6)"
       ]
      },
      {
       "output_type": "stream",
       "stream": "stdout",
       "text": [
        " 2015-05-30\n",
        "(0.40824829046386307, 0.30303030303030315, 12)"
       ]
      },
      {
       "output_type": "stream",
       "stream": "stdout",
       "text": [
        " 2015-05-30\n",
        "(0.52841939133617788, 0.6444444444444446, 10)"
       ]
      },
      {
       "output_type": "stream",
       "stream": "stdout",
       "text": [
        " 2015-05-30\n",
        "(0.0, 0.61545745489666415, 12)"
       ]
      },
      {
       "output_type": "stream",
       "stream": "stdout",
       "text": [
        " 2015-05-30\n",
        "(0.0, 0.31734533398520071, 17)"
       ]
      },
      {
       "output_type": "stream",
       "stream": "stdout",
       "text": [
        " 2015-05-30\n",
        "(0.38892223413129867, 0.56305227446222927, 19)"
       ]
      },
      {
       "output_type": "stream",
       "stream": "stdout",
       "text": [
        " 2015-05-30\n",
        "(0.46029939849540419, 0.70450849427535778, 25)"
       ]
      },
      {
       "output_type": "stream",
       "stream": "stdout",
       "text": [
        " 2015-05-30\n",
        "(0.55298774731861788, 0.6382505421950706, 30)"
       ]
      },
      {
       "output_type": "stream",
       "stream": "stdout",
       "text": [
        " 2015-05-30\n",
        "(0.50398498520330548, 0.63967644101516019, 45)"
       ]
      },
      {
       "output_type": "stream",
       "stream": "stdout",
       "text": [
        " 2015-05-30\n",
        "(0.0, 0.10540925533894598, 5)"
       ]
      },
      {
       "output_type": "stream",
       "stream": "stdout",
       "text": [
        " 2015-05-30\n",
        "(0.0, 0.54772255750516619, 4)"
       ]
      },
      {
       "output_type": "stream",
       "stream": "stdout",
       "text": [
        " 2015-05-30\n",
        "(0.62360956446232352, 0.69006555934235436, 6)"
       ]
      },
      {
       "output_type": "stream",
       "stream": "stdout",
       "text": [
        " 2015-05-30\n",
        "(0.37796447300922725, 0.32732683535398854, 8)"
       ]
      },
      {
       "output_type": "stream",
       "stream": "stdout",
       "text": [
        " 2015-05-30\n",
        "(0.089087080637474794, 0.41403933560541262, 6)"
       ]
      },
      {
       "output_type": "stream",
       "stream": "stdout",
       "text": [
        " 2015-05-30\n",
        "(0.7025142530258679, 0.65072515199830971, 15)"
       ]
      },
      {
       "output_type": "stream",
       "stream": "stdout",
       "text": [
        " 2015-05-30\n",
        "(0.48349377841522811, 0.82807867121082523, 6)"
       ]
      },
      {
       "output_type": "stream",
       "stream": "stdout",
       "text": [
        " 2015-05-30\n",
        "(0.011852368489807492, 0.47235148429599089, 30)"
       ]
      },
      {
       "output_type": "stream",
       "stream": "stdout",
       "text": [
        " 2015-05-30\n",
        "(0.0, -0.096824583655185453, 12)"
       ]
      },
      {
       "output_type": "stream",
       "stream": "stdout",
       "text": [
        " 2015-05-31\n",
        "(0.59761430466719689, 0.13801311186847087, 6)"
       ]
      },
      {
       "output_type": "stream",
       "stream": "stdout",
       "text": [
        " 2015-05-31\n",
        "(0.28090032386679475, 0.40006613209931929, 8)"
       ]
      },
      {
       "output_type": "stream",
       "stream": "stdout",
       "text": [
        " 2015-05-31\n",
        "(0.76503685223744966, 0.70429521227376379, 9)"
       ]
      },
      {
       "output_type": "stream",
       "stream": "stdout",
       "text": [
        " 2015-05-31\n",
        "(0.55138279670819179, 0.6443965517241379, 31)"
       ]
      },
      {
       "output_type": "stream",
       "stream": "stdout",
       "text": [
        " 2015-05-31\n",
        "(0.0, 0.0, 14)"
       ]
      },
      {
       "output_type": "stream",
       "stream": "stdout",
       "text": [
        " 2015-05-31\n",
        "(0.45226701686664544, 0.3146266024828463, 10)"
       ]
      },
      {
       "output_type": "stream",
       "stream": "stdout",
       "text": [
        " 2015-05-31\n",
        "(0.46561752678347756, 0.6375874824854586, 25)"
       ]
      },
      {
       "output_type": "stream",
       "stream": "stdout",
       "text": [
        " 2015-05-31\n",
        "(0.53935988997059381, 0.55000000000000004, 7)"
       ]
      },
      {
       "output_type": "stream",
       "stream": "stdout",
       "text": [
        " 2015-05-31\n",
        "(0.0, -0.18257418583505539, 4)"
       ]
      },
      {
       "output_type": "stream",
       "stream": "stdout",
       "text": [
        " 2015-05-31\n",
        "(0.0, 0.73786478737262184, 5)"
       ]
      },
      {
       "output_type": "stream",
       "stream": "stdout",
       "text": [
        " 2015-05-31\n",
        "(-0.5163977794943222, -0.54772255750516619, 4)"
       ]
      },
      {
       "output_type": "stream",
       "stream": "stdout",
       "text": [
        " 2015-05-31\n",
        "(0.0, -0.36893239368631092, 7)"
       ]
      },
      {
       "output_type": "stream",
       "stream": "stdout",
       "text": [
        " 2015-05-31\n",
        "(0.0, -0.53452248382484879, 6)"
       ]
      },
      {
       "output_type": "stream",
       "stream": "stdout",
       "text": [
        " 2015-05-31\n",
        "(0.65257142621470499, 0.65963290298052413, 20)"
       ]
      },
      {
       "output_type": "stream",
       "stream": "stdout",
       "text": [
        " 2015-06-05\n",
        "(0.47809144373375756, 0.47892074434615939, 9)"
       ]
      },
      {
       "output_type": "stream",
       "stream": "stdout",
       "text": [
        " 2015-06-05\n",
        "(0.52704627669472992, 0.31622776601683794, 5)"
       ]
      },
      {
       "output_type": "stream",
       "stream": "stdout",
       "text": [
        " 2015-06-06\n",
        "(0.40192582882741151, 0.55082263275524368, 18)"
       ]
      },
      {
       "output_type": "stream",
       "stream": "stdout",
       "text": [
        " 2015-06-06\n",
        "(0.53256261123762827, 0.73041748348212976, 28)"
       ]
      },
      {
       "output_type": "stream",
       "stream": "stdout",
       "text": [
        " 2015-06-06\n",
        "(0.29222404219191361, 0.64285976677991341, 27)"
       ]
      },
      {
       "output_type": "stream",
       "stream": "stdout",
       "text": [
        " 2015-06-06\n",
        "(0.5588905056315302, 0.76555900235095264, 15)"
       ]
      },
      {
       "output_type": "stream",
       "stream": "stdout",
       "text": [
        " 2015-06-06\n",
        "(0.0, 0.0, 5)"
       ]
      },
      {
       "output_type": "stream",
       "stream": "stdout",
       "text": [
        " 2015-06-06\n",
        "(0.093658581158169413, 0.40368671387966548, 11)"
       ]
      },
      {
       "output_type": "stream",
       "stream": "stdout",
       "text": [
        " 2015-06-06\n",
        "(0.80178372573727319, 0.69006555934235436, 6)"
       ]
      },
      {
       "output_type": "stream",
       "stream": "stdout",
       "text": [
        " 2015-06-06\n",
        "(0.0, 0.27602622373694174, 6)"
       ]
      },
      {
       "output_type": "stream",
       "stream": "stdout",
       "text": [
        " 2015-06-06\n",
        "(0.0, 0.18184824186332696, 8)"
       ]
      },
      {
       "output_type": "stream",
       "stream": "stdout",
       "text": [
        " 2015-06-06\n",
        "(0.33658091640304461, 0.74811340027676254, 12)"
       ]
      },
      {
       "output_type": "stream",
       "stream": "stdout",
       "text": [
        " 2015-06-06\n",
        "(0.67612340378281333, 0.816982446237566, 9)"
       ]
      },
      {
       "output_type": "stream",
       "stream": "stdout",
       "text": [
        " 2015-06-06\n",
        "(0.68534531076863736, 0.71087533156498661, 28)"
       ]
      },
      {
       "output_type": "stream",
       "stream": "stdout",
       "text": [
        " 2015-06-06\n",
        "(-0.4343722427630694, -0.095242414719932403, 11)"
       ]
      },
      {
       "output_type": "stream",
       "stream": "stdout",
       "text": [
        " 2015-06-06\n",
        "(0.60000000000000009, -0.18257418583505539, 4)"
       ]
      },
      {
       "output_type": "stream",
       "stream": "stdout",
       "text": [
        " 2015-06-06\n",
        "(0.51164328018048499, 0.59543719613864776, 12)"
       ]
      },
      {
       "output_type": "stream",
       "stream": "stdout",
       "text": [
        " 2015-06-06\n",
        "(0.0, 0.11208970766356102, 12)"
       ]
      },
      {
       "output_type": "stream",
       "stream": "stdout",
       "text": [
        " 2015-06-06\n",
        "(0.47809144373375756, 0.22857142857142862, 9)"
       ]
      },
      {
       "output_type": "stream",
       "stream": "stdout",
       "text": [
        " 2015-06-06\n",
        "(-0.023669053416557548, 0.31766971815150785, 16)"
       ]
      },
      {
       "output_type": "stream",
       "stream": "stdout",
       "text": [
        " 2015-06-06\n",
        "(0.27186780707606661, 0.50793650793650791, 20)"
       ]
      },
      {
       "output_type": "stream",
       "stream": "stdout",
       "text": [
        " 2015-06-06\n",
        "(0.24287069628756647, -0.14085904245475275, 9)"
       ]
      },
      {
       "output_type": "stream",
       "stream": "stdout",
       "text": [
        " 2015-06-07\n",
        "(0.68656198182609485, 0.69208508735982344, 19)"
       ]
      },
      {
       "output_type": "stream",
       "stream": "stdout",
       "text": [
        " 2015-06-07\n",
        "(0.0, 0.12598815766974242, 5)"
       ]
      },
      {
       "output_type": "stream",
       "stream": "stdout",
       "text": [
        " 2015-06-07\n",
        "(0.0, 0.15396007178390017, 8)"
       ]
      },
      {
       "output_type": "stream",
       "stream": "stdout",
       "text": [
        " 2015-06-07\n",
        "(0.0, 0.0, 6)"
       ]
      },
      {
       "output_type": "stream",
       "stream": "stdout",
       "text": [
        " 2015-06-07\n",
        "(0.62710035087389804, 0.63090295397552321, 52)"
       ]
      },
      {
       "output_type": "stream",
       "stream": "stdout",
       "text": [
        " 2015-06-07\n",
        "(0.56544614662171355, 0.61195733921418172, 17)"
       ]
      },
      {
       "output_type": "stream",
       "stream": "stdout",
       "text": [
        " 2015-06-07\n",
        "(0.57203457735726781, 0.61391063814134528, 21)"
       ]
      },
      {
       "output_type": "stream",
       "stream": "stdout",
       "text": [
        " 2015-06-07\n",
        "(0.58856340575259458, 0.32040345041950463, 15)"
       ]
      },
      {
       "output_type": "stream",
       "stream": "stdout",
       "text": [
        " 2015-06-07\n",
        "(0.37936494471586174, 0.41004543029030427, 16)"
       ]
      },
      {
       "output_type": "stream",
       "stream": "stdout",
       "text": [
        " 2015-06-07\n",
        "(0.42143193879102492, 0.41244349116576767, 30)"
       ]
      },
      {
       "output_type": "stream",
       "stream": "stdout",
       "text": [
        " 2015-06-07\n",
        "(0.0, 0.3146266024828463, 10)"
       ]
      },
      {
       "output_type": "stream",
       "stream": "stdout",
       "text": [
        " 2015-06-07\n",
        "(0.0, 0.125, 18)"
       ]
      },
      {
       "output_type": "stream",
       "stream": "stdout",
       "text": [
        " 2015-06-07\n",
        "(0.11881211413043936, 0.14193843787544008, 13)"
       ]
      },
      {
       "output_type": "stream",
       "stream": "stdout",
       "text": [
        " 2015-06-07\n",
        "(0.42593050781580089, 0.49038461538461547, 15)"
       ]
      },
      {
       "output_type": "stream",
       "stream": "stdout",
       "text": [
        " 2015-06-07\n",
        "(-1.0, 1.0, 2)"
       ]
      },
      {
       "output_type": "stream",
       "stream": "stdout",
       "text": [
        " 2015-06-07\n",
        "(0.0, -0.077761579135973882, 11)"
       ]
      },
      {
       "output_type": "stream",
       "stream": "stdout",
       "text": [
        " 2015-06-07\n",
        "(0.0, 0.068181818181818191, 10)"
       ]
      },
      {
       "output_type": "stream",
       "stream": "stdout",
       "text": [
        " 2015-06-11\n",
        "(0.55000000000000004, 0.4879500364742666, 7)"
       ]
      },
      {
       "output_type": "stream",
       "stream": "stdout",
       "text": [
        " 2015-06-11\n",
        "(0.49961023769573598, 0.57555446306895441, 27)"
       ]
      },
      {
       "output_type": "stream",
       "stream": "stdout",
       "text": [
        " 2015-06-11\n",
        "(0.59125812229658525, 0.6846501090956788, 40)"
       ]
      },
      {
       "output_type": "stream",
       "stream": "stdout",
       "text": [
        " 2015-06-11\n",
        "(0.5896919751144688, 0.61828402233531166, 8)"
       ]
      },
      {
       "output_type": "stream",
       "stream": "stdout",
       "text": [
        " 2015-06-11\n",
        "(0.33149677206589806, 0.56490195531102483, 12)"
       ]
      },
      {
       "output_type": "stream",
       "stream": "stdout",
       "text": [
        " 2015-06-12\n",
        "(0.6896371146173772, 0.72885204015814375, 22)"
       ]
      },
      {
       "output_type": "stream",
       "stream": "stdout",
       "text": [
        " 2015-06-12\n",
        "(0.96609178307929611, 0.82807867121082523, 6)"
       ]
      },
      {
       "output_type": "stream",
       "stream": "stdout",
       "text": [
        " 2015-06-12\n",
        "(0.60858061945018471, 0.44444444444444442, 9)"
       ]
      },
      {
       "output_type": "stream",
       "stream": "stdout",
       "text": [
        " 2015-06-12\n",
        "(0.31320615909987809, 0.22019275302527208, 11)"
       ]
      },
      {
       "output_type": "stream",
       "stream": "stdout",
       "text": [
        " 2015-06-12\n",
        "(0.35910172891083514, 0.59715666636275044, 33)"
       ]
      },
      {
       "output_type": "stream",
       "stream": "stdout",
       "text": [
        " 2015-06-13\n",
        "(0.39486336190547622, 0.50658991073823778, 18)"
       ]
      },
      {
       "output_type": "stream",
       "stream": "stdout",
       "text": [
        " 2015-06-13\n",
        "(0.55234198617475216, 0.53770780816583308, 18)"
       ]
      },
      {
       "output_type": "stream",
       "stream": "stdout",
       "text": [
        " 2015-06-13\n",
        "(0.646846227353151, 0.38699875873288392, 26)"
       ]
      },
      {
       "output_type": "stream",
       "stream": "stdout",
       "text": [
        " 2015-06-13\n",
        "(0.28256254931776525, 0.29708795551115313, 15)"
       ]
      },
      {
       "output_type": "stream",
       "stream": "stdout",
       "text": [
        " 2015-06-13\n",
        "(0.4663865857509425, 0.45394736842105265, 18)"
       ]
      },
      {
       "output_type": "stream",
       "stream": "stdout",
       "text": [
        " 2015-06-13\n",
        "(0.0, 0.91287092917527701, 4)"
       ]
      },
      {
       "output_type": "stream",
       "stream": "stdout",
       "text": [
        " 2015-06-13\n",
        "(0.48949069409043872, 0.49230769230769239, 12)"
       ]
      },
      {
       "output_type": "stream",
       "stream": "stdout",
       "text": [
        " 2015-06-13\n",
        "(0.0, -0.60000000000000009, 4)"
       ]
      },
      {
       "output_type": "stream",
       "stream": "stdout",
       "text": [
        " 2015-06-13\n",
        "(0.0, 0.55205244747388349, 6)"
       ]
      },
      {
       "output_type": "stream",
       "stream": "stdout",
       "text": [
        " 2015-06-13\n",
        "(0.091287092917527693, 0.58554004376911994, 7)"
       ]
      },
      {
       "output_type": "stream",
       "stream": "stdout",
       "text": [
        " 2015-06-13\n",
        "(0.66049493658434755, 0.84407221993020964, 11)"
       ]
      },
      {
       "output_type": "stream",
       "stream": "stdout",
       "text": [
        " 2015-06-13\n",
        "(0.63715822793168952, 0.6972803586281956, 28)"
       ]
      },
      {
       "output_type": "stream",
       "stream": "stdout",
       "text": [
        " 2015-06-14\n",
        "(0.24867804070268129, 0.39372365311004021, 27)"
       ]
      },
      {
       "output_type": "stream",
       "stream": "stdout",
       "text": [
        " 2015-06-14\n",
        "(0.46159309117249769, 0.62925320496569259, 10)"
       ]
      },
      {
       "output_type": "stream",
       "stream": "stdout",
       "text": [
        " 2015-06-14\n",
        "(0.4997044043489795, 0.515413462101452, 29)"
       ]
      },
      {
       "output_type": "stream",
       "stream": "stdout",
       "text": [
        " 2015-06-14\n",
        "(0.38195325867068042, 0.41946819852294276, 54)"
       ]
      },
      {
       "output_type": "stream",
       "stream": "stdout",
       "text": [
        " 2015-06-14\n",
        "(0.21483446221182986, 0.46666666666666667, 6)"
       ]
      },
      {
       "output_type": "stream",
       "stream": "stdout",
       "text": [
        " 2015-06-14\n",
        "(0.0, 0.55205244747388349, 6)"
       ]
      },
      {
       "output_type": "stream",
       "stream": "stdout",
       "text": [
        " 2015-06-14\n",
        "(0.35856858280031817, 0.41403933560541262, 6)"
       ]
      },
      {
       "output_type": "stream",
       "stream": "stdout",
       "text": [
        " 2015-06-14\n",
        "(-0.16666666666666666, 0.52704627669472992, 5)"
       ]
      },
      {
       "output_type": "stream",
       "stream": "stdout",
       "text": [
        " 2015-06-14\n",
        "(0.27668578554642986, 0.46169025843831957, 7)"
       ]
      },
      {
       "output_type": "stream",
       "stream": "stdout",
       "text": [
        " 2015-06-14\n",
        "(0.77113565976507459, 0.59259259259259256, 8)"
       ]
      },
      {
       "output_type": "stream",
       "stream": "stdout",
       "text": [
        " 2015-06-14\n",
        "(0.0, 0.0, 4)"
       ]
      },
      {
       "output_type": "stream",
       "stream": "stdout",
       "text": [
        " 2015-06-14\n",
        "(0.35343103260705416, 0.8211179002574176, 19)"
       ]
      },
      {
       "output_type": "stream",
       "stream": "stdout",
       "text": [
        " 2015-06-14\n",
        "(0.0, 0.33333333333333326, 3)"
       ]
      },
      {
       "output_type": "stream",
       "stream": "stdout",
       "text": [
        " 2015-06-14\n",
        "(-0.087922493556666245, 0.72727272727272763, 12)"
       ]
      },
      {
       "output_type": "stream",
       "stream": "stdout",
       "text": [
        " 2015-06-14\n",
        "(-0.14184225406153772, 0.18181818181818191, 12)"
       ]
      },
      {
       "output_type": "stream",
       "stream": "stdout",
       "text": [
        " 2015-06-14\n",
        "(0.0, 0.07339758434175736, 11)"
       ]
      },
      {
       "output_type": "stream",
       "stream": "stdout",
       "text": [
        " 2015-06-18\n",
        "(0.54083758801526494, 0.60506338090753276, 16)"
       ]
      },
      {
       "output_type": "stream",
       "stream": "stdout",
       "text": [
        " 2015-06-18\n",
        "(0.61645456747941563, 0.79999999999999971, 24)"
       ]
      },
      {
       "output_type": "stream",
       "stream": "stdout",
       "text": [
        " 2015-06-18\n",
        "(-0.45148603369566959, 0.3483943475124438, 13)"
       ]
      },
      {
       "output_type": "stream",
       "stream": "stdout",
       "text": [
        " 2015-06-19\n",
        "(0.0, 0.55205244747388349, 6)"
       ]
      },
      {
       "output_type": "stream",
       "stream": "stdout",
       "text": [
        " 2015-06-19\n",
        "(0.15609763526361567, 0.07339758434175736, 11)"
       ]
      },
      {
       "output_type": "stream",
       "stream": "stdout",
       "text": [
        " 2015-06-19\n",
        "(0.50260837952698179, 0.60437710437710424, 35)"
       ]
      },
      {
       "output_type": "stream",
       "stream": "stdout",
       "text": [
        " 2015-06-19\n",
        "(0.40032038451271784, 0.3669879217087868, 11)"
       ]
      },
      {
       "output_type": "stream",
       "stream": "stdout",
       "text": [
        " 2015-06-19\n",
        "(0.58856340575259458, 0.61244720188076207, 15)"
       ]
      },
      {
       "output_type": "stream",
       "stream": "stdout",
       "text": [
        " 2015-06-19\n",
        "(0.0, 0.24532669073132909, 11)"
       ]
      },
      {
       "output_type": "stream",
       "stream": "stdout",
       "text": [
        " 2015-06-19\n",
        "(0.0, 0.021164021164021159, 20)"
       ]
      },
      {
       "output_type": "stream",
       "stream": "stdout",
       "text": [
        " 2015-06-19\n",
        "(0.0, 0.44276099200053293, 12)"
       ]
      },
      {
       "output_type": "stream",
       "stream": "stdout",
       "text": [
        " 2015-06-19\n",
        "(0.0, 0.59543719613864776, 12)"
       ]
      },
      {
       "output_type": "stream",
       "stream": "stdout",
       "text": [
        " 2015-06-19\n",
        "(0.35136418446315304, 0.50829505050104362, 14)"
       ]
      },
      {
       "output_type": "stream",
       "stream": "stdout",
       "text": [
        " 2015-06-19\n",
        "(0.82060993986221809, 0.76376261582597327, 8)"
       ]
      },
      {
       "output_type": "stream",
       "stream": "stdout",
       "text": [
        " 2015-06-19\n",
        "(0.42510329948634129, 0.28725768944675867, 31)"
       ]
      },
      {
       "output_type": "stream",
       "stream": "stdout",
       "text": [
        " 2015-06-20\n",
        "(0.56956503381203849, 0.63094596636625233, 61)"
       ]
      },
      {
       "output_type": "stream",
       "stream": "stdout",
       "text": [
        " 2015-06-20\n",
        "(0.33777803353695041, 0.28581869437324814, 37)"
       ]
      },
      {
       "output_type": "stream",
       "stream": "stdout",
       "text": [
        " 2015-06-20\n",
        "(0.39100654236098892, 0.46596561614900978, 101)"
       ]
      },
      {
       "output_type": "stream",
       "stream": "stdout",
       "text": [
        " 2015-06-20\n",
        "(0.5603186805425201, 0.61964384509620396, 34)"
       ]
      },
      {
       "output_type": "stream",
       "stream": "stdout",
       "text": [
        " 2015-06-20\n",
        "(0.0, 0.52704627669472992, 5)"
       ]
      },
      {
       "output_type": "stream",
       "stream": "stdout",
       "text": [
        " 2015-06-20\n",
        "(0.2581988897471611, 0.18257418583505539, 4)"
       ]
      },
      {
       "output_type": "stream",
       "stream": "stdout",
       "text": [
        " 2015-06-20\n",
        "(0.0, 0.30451562653473263, 14)"
       ]
      },
      {
       "output_type": "stream",
       "stream": "stdout",
       "text": [
        " 2015-06-20\n",
        "(0.57990985404860851, 0.63299378435990494, 47)"
       ]
      },
      {
       "output_type": "stream",
       "stream": "stdout",
       "text": [
        " 2015-06-20\n",
        "(0.44043849204309371, 0.46841349903463803, 26)"
       ]
      },
      {
       "output_type": "stream",
       "stream": "stdout",
       "text": [
        " 2015-06-20\n",
        "(0.0, 0.52704627669472992, 5)"
       ]
      },
      {
       "output_type": "stream",
       "stream": "stdout",
       "text": [
        " 2015-06-20\n",
        "(0.22489969497999551, 0.50922855918555465, 17)"
       ]
      },
      {
       "output_type": "stream",
       "stream": "stdout",
       "text": [
        " 2015-06-20\n",
        "(0.14917354742965414, 0.65650767779389363, 12)"
       ]
      },
      {
       "output_type": "stream",
       "stream": "stdout",
       "text": [
        " 2015-06-20\n",
        "(0.54294207449477028, 0.67419986246324204, 10)"
       ]
      },
      {
       "output_type": "stream",
       "stream": "stdout",
       "text": [
        " 2015-06-20\n",
        "(0.64549722436790302, 0.67700320038633055, 12)"
       ]
      },
      {
       "output_type": "stream",
       "stream": "stdout",
       "text": [
        " 2015-06-20\n",
        "(0.0, 1.0, 2)"
       ]
      },
      {
       "output_type": "stream",
       "stream": "stdout",
       "text": [
        " 2015-06-20\n",
        "(0.59761430466719689, 0.82807867121082523, 6)"
       ]
      },
      {
       "output_type": "stream",
       "stream": "stdout",
       "text": [
        " 2015-06-20\n",
        "(0.52095495474400244, 0.61769702104711466, 25)"
       ]
      },
      {
       "output_type": "stream",
       "stream": "stdout",
       "text": [
        " 2015-06-20\n",
        "(0.6546536707079772, 0.59160797830996159, 9)"
       ]
      },
      {
       "output_type": "stream",
       "stream": "stdout",
       "text": [
        " 2015-06-20\n",
        "(0.35634832254989918, 0.23809523809523808, 7)"
       ]
      },
      {
       "output_type": "stream",
       "stream": "stdout",
       "text": [
        " 2015-06-20\n",
        "(0.50395263067896967, 0.73786478737262184, 5)"
       ]
      },
      {
       "output_type": "stream",
       "stream": "stdout",
       "text": [
        " 2015-06-20\n",
        "(0.0, -0.33333333333333326, 3)"
       ]
      },
      {
       "output_type": "stream",
       "stream": "stdout",
       "text": [
        " 2015-06-20\n",
        "(0.61042224379421484, 0.65010950769529596, 31)"
       ]
      },
      {
       "output_type": "stream",
       "stream": "stdout",
       "text": [
        " 2015-06-20\n",
        "(0.5337605126836239, 0.37037037037037035, 8)"
       ]
      },
      {
       "output_type": "stream",
       "stream": "stdout",
       "text": [
        " 2015-06-20\n",
        "(0.41251432366269519, 0.57142857142857151, 8)"
       ]
      },
      {
       "output_type": "stream",
       "stream": "stdout",
       "text": [
        " 2015-06-20\n",
        "(0.0, 0.73333333333333328, 6)"
       ]
      },
      {
       "output_type": "stream",
       "stream": "stdout",
       "text": [
        " 2015-06-20\n",
        "(0.62089733244262812, 0.64435710474190677, 16)"
       ]
      },
      {
       "output_type": "stream",
       "stream": "stdout",
       "text": [
        " 2015-06-20\n",
        "(0.0, 0.0, 8)"
       ]
      },
      {
       "output_type": "stream",
       "stream": "stdout",
       "text": [
        " 2015-06-20\n",
        "(0.0, 0.0, 8)"
       ]
      },
      {
       "output_type": "stream",
       "stream": "stdout",
       "text": [
        " 2015-06-20\n",
        "(0.0, 0.076980035891950085, 8)"
       ]
      },
      {
       "output_type": "stream",
       "stream": "stdout",
       "text": [
        " 2015-06-21\n",
        "(1.0000000000000002, 0.91287092917527701, 4)"
       ]
      },
      {
       "output_type": "stream",
       "stream": "stdout",
       "text": [
        " 2015-06-21\n",
        "(0.80000000000000016, 0.91287092917527701, 4)"
       ]
      },
      {
       "output_type": "stream",
       "stream": "stdout",
       "text": [
        " 2015-06-21\n",
        "(0.45945258827461538, 0.46066371405126461, 33)"
       ]
      },
      {
       "output_type": "stream",
       "stream": "stdout",
       "text": [
        " 2015-06-21\n",
        "(0.45488112260215535, 0.57265910464234626, 31)"
       ]
      },
      {
       "output_type": "stream",
       "stream": "stdout",
       "text": [
        " 2015-06-21\n",
        "(0.57616108096681651, 0.36514837167011072, 11)"
       ]
      },
      {
       "output_type": "stream",
       "stream": "stdout",
       "text": [
        " 2015-06-21\n",
        "(0.0, 0.0, 2)"
       ]
      },
      {
       "output_type": "stream",
       "stream": "stdout",
       "text": [
        " 2015-06-21\n",
        "(0.0, -0.18257418583505539, 4)"
       ]
      },
      {
       "output_type": "stream",
       "stream": "stdout",
       "text": [
        " 2015-06-26\n",
        "(0.66666666666666663, 0.31622776601683794, 5)"
       ]
      },
      {
       "output_type": "stream",
       "stream": "stdout",
       "text": [
        " 2015-06-26\n",
        "(0.0, 0.0, 3)"
       ]
      },
      {
       "output_type": "stream",
       "stream": "stdout",
       "text": [
        " 2015-06-26\n"
       ]
      }
     ],
     "prompt_number": 62
    },
    {
     "cell_type": "code",
     "collapsed": false,
     "input": [
      "d.to_pickle(\"./epee_events_20140620_20150626_prediction_tie_adjusted.pickle\")"
     ],
     "language": "python",
     "metadata": {},
     "outputs": [],
     "prompt_number": 63
    },
    {
     "cell_type": "code",
     "collapsed": false,
     "input": [
      "d = pd.read_pickle(\"./epee_events_20140620_20150626_prediction.pickle\")\n",
      "d.rename(columns={\"letter_tau\" : \"Letter Rating\", \"mu_tau\" : \"TrueSkill Rating\"}, inplace=True)\n",
      "p = d[[\"Letter Rating\", \"TrueSkill Rating\"]].plot(title=\"Kendall Tau distribution (with rating jitter)\", kind=\"hist\", bins=50, figsize=(8,8), \n",
      "                                 color=[[0.0,0.7,0.0,0.3],\n",
      "                                        [0.0,0.0,0.7,0.6]])\n",
      "p.set_ylabel(\"frequency\")"
     ],
     "language": "python",
     "metadata": {},
     "outputs": [
      {
       "metadata": {},
       "output_type": "pyout",
       "prompt_number": 71,
       "text": [
        "<matplotlib.text.Text at 0x118593190>"
       ]
      },
      {
       "metadata": {},
       "output_type": "display_data",
       "png": "[encoded data removed]",
       "text": [
        "<matplotlib.figure.Figure at 0x11743a1d0>"
       ]
      }
     ],
     "prompt_number": 71
    },
    {
     "cell_type": "code",
     "collapsed": false,
     "input": [
      "d = pd.read_pickle(\"./epee_events_20140620_20150626_prediction_tie_adjusted.pickle\")\n",
      "d.rename(columns={\"letter_tau\" : \"Letter Rating\", \"mu_tau\" : \"TrueSkill Rating\"}, inplace=True)\n",
      "p = d[[\"Letter Rating\", \"TrueSkill Rating\"]].plot(title=\"Kendall Tau distribution\", kind=\"hist\", bins=50, figsize=(8,8), \n",
      "                                 color=[[0.0,0.7,0.0,0.3],\n",
      "                                        [0.0,0.0,0.7,0.6]])\n",
      "p.set_ylabel(\"frequency\")"
     ],
     "language": "python",
     "metadata": {},
     "outputs": [
      {
       "metadata": {},
       "output_type": "pyout",
       "prompt_number": 64,
       "text": [
        "<matplotlib.text.Text at 0x116875410>"
       ]
      },
      {
       "metadata": {},
       "output_type": "display_data",
       "png": "[encoded data removed]",
       "text": [
        "<matplotlib.figure.Figure at 0x116961690>"
       ]
      }
     ],
     "prompt_number": 64
    },
    {
     "cell_type": "code",
     "collapsed": false,
     "input": [
      "d = pd.read_pickle(\"./epee_events_20140620_20150626_prediction_tie_adjusted.pickle\")\n",
      "d = d[d[\"letter_tau\"] != 0.0]\n",
      "d.rename(columns={\"letter_tau\" : \"Letter Rating\", \"mu_tau\" : \"TrueSkill Rating\"}, inplace=True)\n",
      "p = d[[\"Letter Rating\", \"TrueSkill Rating\"]].plot(title=\"Kendall Tau distribution (Letter Tau != 0.0)\", kind=\"hist\", bins=50, figsize=(8,8), \n",
      "                                 color=[[0.0,0.7,0.0,0.3],\n",
      "                                        [0.0,0.0,0.7,0.6]])\n",
      "p.set_ylabel(\"frequency\")"
     ],
     "language": "python",
     "metadata": {},
     "outputs": [
      {
       "metadata": {},
       "output_type": "pyout",
       "prompt_number": 79,
       "text": [
        "<matplotlib.text.Text at 0x119d421d0>"
       ]
      },
      {
       "metadata": {},
       "output_type": "display_data",
       "png": "[encoded data removed]",
       "text": [
        "<matplotlib.figure.Figure at 0x118079390>"
       ]
      }
     ],
     "prompt_number": 79
    },
    {
     "cell_type": "code",
     "collapsed": false,
     "input": [
      "d.mean()"
     ],
     "language": "python",
     "metadata": {},
     "outputs": [
      {
       "metadata": {},
       "output_type": "pyout",
       "prompt_number": 73,
       "text": [
        "eventid             111301.433705\n",
        "Letter Rating            0.000000\n",
        "TrueSkill Rating         0.166525\n",
        "num_fencers              7.722429\n",
        "dtype: float64"
       ]
      }
     ],
     "prompt_number": 73
    },
    {
     "cell_type": "code",
     "collapsed": false,
     "input": [
      "d.median()"
     ],
     "language": "python",
     "metadata": {},
     "outputs": [
      {
       "metadata": {},
       "output_type": "pyout",
       "prompt_number": 74,
       "text": [
        "eventid             111465.000000\n",
        "Letter Rating            0.000000\n",
        "TrueSkill Rating         0.138013\n",
        "num_fencers              6.000000\n",
        "dtype: float64"
       ]
      }
     ],
     "prompt_number": 74
    },
    {
     "cell_type": "code",
     "collapsed": false,
     "input": [
      "from scipy.stats import ttest_ind\n",
      "ttest_ind(d[\"mu_tau\"].dropna(), d[\"letter_tau\"].dropna())"
     ],
     "language": "python",
     "metadata": {},
     "outputs": [
      {
       "metadata": {},
       "output_type": "pyout",
       "prompt_number": 10,
       "text": [
        "(15.158837652736096, 9.6298491629814084e-51)"
       ]
      }
     ],
     "prompt_number": 10
    },
    {
     "cell_type": "code",
     "collapsed": false,
     "input": [
      "len(d)"
     ],
     "language": "python",
     "metadata": {},
     "outputs": [
      {
       "metadata": {},
       "output_type": "pyout",
       "prompt_number": 11,
       "text": [
        "2469"
       ]
      }
     ],
     "prompt_number": 11
    },
    {
     "cell_type": "code",
     "collapsed": false,
     "input": [
      "print (d[\"mu_tau\"] == d[\"letter_tau\"]).sum()\n",
      "print (d[\"mu_tau\"] > d[\"letter_tau\"]).sum()\n",
      "print (d[\"mu_tau\"] < d[\"letter_tau\"]).sum()"
     ],
     "language": "python",
     "metadata": {},
     "outputs": [
      {
       "output_type": "stream",
       "stream": "stdout",
       "text": [
        "222\n",
        "1653\n",
        "537\n"
       ]
      }
     ],
     "prompt_number": 15
    },
    {
     "cell_type": "code",
     "collapsed": false,
     "input": [
      "1653.0/2469.0"
     ],
     "language": "python",
     "metadata": {},
     "outputs": [
      {
       "metadata": {},
       "output_type": "pyout",
       "prompt_number": 17,
       "text": [
        "0.669501822600243"
       ]
      }
     ],
     "prompt_number": 17
    },
    {
     "cell_type": "code",
     "collapsed": false,
     "input": [
      "pd.stats.api.ols(y=d[\"mu_tau\"], x=d[\"letter_tau\"])"
     ],
     "language": "python",
     "metadata": {},
     "outputs": [
      {
       "metadata": {},
       "output_type": "pyout",
       "prompt_number": 13,
       "text": [
        "\n",
        "-------------------------Summary of Regression Analysis-------------------------\n",
        "\n",
        "Formula: Y ~ <x> + <intercept>\n",
        "\n",
        "Number of Observations:         2412\n",
        "Number of Degrees of Freedom:   2\n",
        "\n",
        "R-squared:         0.1221\n",
        "Adj R-squared:     0.1217\n",
        "\n",
        "Rmse:              0.3275\n",
        "\n",
        "F-stat (1, 2410):   335.0572, p-value:     0.0000\n",
        "\n",
        "Degrees of Freedom: model 1, resid 2410\n",
        "\n",
        "-----------------------Summary of Estimated Coefficients------------------------\n",
        "      Variable       Coef    Std Err     t-stat    p-value    CI 2.5%   CI 97.5%\n",
        "--------------------------------------------------------------------------------\n",
        "             x     0.3332     0.0182      18.30     0.0000     0.2975     0.3688\n",
        "     intercept     0.3170     0.0080      39.72     0.0000     0.3013     0.3326\n",
        "---------------------------------End of Summary---------------------------------"
       ]
      }
     ],
     "prompt_number": 13
    },
    {
     "cell_type": "code",
     "collapsed": false,
     "input": [],
     "language": "python",
     "metadata": {},
     "outputs": [],
     "prompt_number": 12
    },
    {
     "cell_type": "code",
     "collapsed": false,
     "input": [],
     "language": "python",
     "metadata": {},
     "outputs": []
    }
   ],
   "metadata": {}
  }
 ]
}