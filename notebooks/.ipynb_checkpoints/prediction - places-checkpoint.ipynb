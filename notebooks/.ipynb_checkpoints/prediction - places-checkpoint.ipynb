{
 "metadata": {
  "name": "",
  "signature": "sha256:4c28fc022d369b8fe9c058a72d8f15a5230a563b9415a369bd1e18c37b995191"
 },
 "nbformat": 3,
 "nbformat_minor": 0,
 "worksheets": [
  {
   "cells": [
    {
     "cell_type": "code",
     "collapsed": false,
     "input": [
      "import sqlite3\n",
      "import pandas as pd\n",
      "import numpy as np\n",
      "from scipy import stats\n",
      "\n",
      "conn = sqlite3.connect(\"../data2.db\")\n",
      "c = conn.cursor()\n",
      "c2 = conn.cursor()"
     ],
     "language": "python",
     "metadata": {},
     "outputs": [],
     "prompt_number": 1
    },
    {
     "cell_type": "code",
     "collapsed": false,
     "input": [
      "lettermap = {\n",
      "    \"U\" : 0, \n",
      "    \"E\" : 1,\n",
      "    \"D\" : 2,\n",
      "    \"C\" : 3,\n",
      "    \"B\" : 4,\n",
      "    \"A\" : 5}\n",
      "\n",
      "yearmap = {\n",
      "    2015 : 0.0,\n",
      "    2014 : -0.1,\n",
      "    2013 : -0.2,\n",
      "    2012 : -0.3,\n",
      "    2011 : -0.4,\n",
      "    2010 : -0.5,\n",
      "}\n",
      "\n",
      "def getLatestRating(fencerid, prior_to_date, weapon):\n",
      "    c = conn.cursor()\n",
      "    q = c.execute(\"\"\"\n",
      "      SELECT r.ts_mu, r.ts_sigma\n",
      "      FROM adjusted_ratings r , bouts b, events e, tournaments t\n",
      "      WHERE r.fencerid = %(fencerid)s\n",
      "        AND r.boutid = b.boutid\n",
      "        AND e.weapon = '%(weapon)s'\n",
      "        AND b.eventid = e.eventid\n",
      "        AND e.tournamentid = t.tournamentid\n",
      "        AND t.start_date < '%(prior_to_date)s'\n",
      "      ORDER BY t.start_date desc, b.boutid desc\n",
      "      LIMIT 1;\n",
      "    \"\"\" % {\n",
      "    \"fencerid\" : fencerid,\n",
      "    \"weapon\" : weapon,\n",
      "    \"prior_to_date\" : prior_to_date,\n",
      "    }).fetchone()\n",
      "    if q:\n",
      "        return q[0]\n",
      "    else:\n",
      "        return 25.0\n",
      "    \n",
      "def getLatestLetter(fencerid, prior_to_date, weapon):\n",
      "    c = conn.cursor()\n",
      "    q = c.execute(\"\"\"\n",
      "      SELECT p.rating_earned_letter, p.rating_earned_year, t.start_date \n",
      "      FROM promotions p, events e, tournaments t\n",
      "      WHERE p.fencerid = %(fencerid)s\n",
      "        AND e.weapon = '%(weapon)s'\n",
      "        AND p.eventid = e.eventid\n",
      "        AND e.tournamentid = t.tournamentid\n",
      "        AND t.start_date < '%(prior_to_date)s'\n",
      "      ORDER BY t.start_date desc, e.eventid desc\n",
      "      LIMIT 1; \n",
      "    \"\"\" % {\n",
      "    \"fencerid\" : fencerid,\n",
      "    \"weapon\" : weapon,\n",
      "    \"prior_to_date\" : prior_to_date,\n",
      "    }).fetchone()\n",
      "    if q:\n",
      "        return (q[0], q[1])\n",
      "    else:\n",
      "        return (\"U\", 2015)\n",
      "    \n",
      "def scoreEventPrediction(eventid):\n",
      "    c = conn.cursor()\n",
      "    results = c.execute(\"\"\"\n",
      "        SELECT *\n",
      "        FROM tournament_results\n",
      "        WHERE eventid = %(eventid)s;\n",
      "        \"\"\" % {\n",
      "        \"eventid\" : eventid\n",
      "        })\n",
      "    places = []\n",
      "    pre_mu = []\n",
      "    pre_le = []\n",
      "    for r in results:\n",
      "        fencerid, eventid, weapon, tournamentid, entries, place, start_date = r\n",
      "        ts_mu = getLatestRating(fencerid, start_date, weapon)\n",
      "        letter, year = getLatestLetter(fencerid, start_date, weapon)\n",
      "        places.append(-place)\n",
      "        pre_mu.append(float(ts_mu) + np.random.randn() * 0.0001)\n",
      "        pre_le.append(lettermap[letter] + yearmap[year] + np.random.randn() * 0.0001)\n",
      "    if len(places) > 0:\n",
      "        return (stats.kendalltau(places,pre_le)[0], stats.kendalltau(places,pre_mu)[0], len(places))\n",
      "    else:\n",
      "        return None"
     ],
     "language": "python",
     "metadata": {},
     "outputs": [],
     "prompt_number": 2
    },
    {
     "cell_type": "code",
     "collapsed": false,
     "input": [
      "np.random.seed(0)\n",
      "\n",
      "\n",
      "events = c.execute(\"\"\"\n",
      "SELECT e.*, t.start_date\n",
      "FROM events e, tournaments t\n",
      "WHERE weapon = 'Epee'\n",
      "  AND e.tournamentid = t.tournamentid\n",
      "  AND t.start_date > '2014-06-20'\n",
      "ORDER BY t.start_date ASC\n",
      "\"\"\")\n",
      "\n",
      "collected_taus = []\n",
      "\n",
      "for event in events:\n",
      "    eventid, tournamentid, weapon, start_date = event\n",
      "    taus = scoreEventPrediction(eventid)\n",
      "    if taus:\n",
      "        collected_taus += [{\"eventid\" : eventid, \n",
      "                            \"start_date\" : start_date, \n",
      "                            \"letter_tau\" : taus[0], \n",
      "                            \"mu_tau\" : taus[1], \n",
      "                            \"num_fencers\" : taus[2],\n",
      "                            }]\n",
      "        print taus, start_date"
     ],
     "language": "python",
     "metadata": {},
     "outputs": [
      {
       "output_type": "stream",
       "stream": "stdout",
       "text": [
        "(0.34017741582093014, 0.53959176302630296, 19) 2015-01-02\n",
        "(0.52564155895835452, 0.43447337529078078, 38)"
       ]
      },
      {
       "output_type": "stream",
       "stream": "stdout",
       "text": [
        " 2015-01-02\n",
        "(0.30368835006589323, 0.32971878007154121, 22)"
       ]
      },
      {
       "output_type": "stream",
       "stream": "stdout",
       "text": [
        " 2015-01-02\n",
        "(0.045802861241434442, 0.381690510345287, 12)"
       ]
      },
      {
       "output_type": "stream",
       "stream": "stdout",
       "text": [
        " 2015-01-02\n",
        "(0.39779612647907758, 0.53039483530543685, 14)"
       ]
      },
      {
       "output_type": "stream",
       "stream": "stdout",
       "text": [
        " 2015-01-02\n",
        "(0.4976133515281192, 0.65072515199830971, 15)"
       ]
      },
      {
       "output_type": "stream",
       "stream": "stdout",
       "text": [
        " 2015-01-02\n",
        "(0.31291239517031422, 0.5397485651319659, 45)"
       ]
      },
      {
       "output_type": "stream",
       "stream": "stdout",
       "text": [
        " 2015-01-02\n",
        "(0.26930745869566269, 0.53069410978262943, 23)"
       ]
      },
      {
       "output_type": "stream",
       "stream": "stdout",
       "text": [
        " 2015-01-02\n",
        "(-0.10702400993450413, 0.394651036633484, 25)"
       ]
      },
      {
       "output_type": "stream",
       "stream": "stdout",
       "text": [
        " 2015-01-02\n",
        "(0.29359033736702944, 0.22019275302527208, 11)"
       ]
      },
      {
       "output_type": "stream",
       "stream": "stdout",
       "text": [
        " 2015-01-02\n",
        "(-0.076338102069057404, 0.1679438245519263, 12)"
       ]
      },
      {
       "output_type": "stream",
       "stream": "stdout",
       "text": [
        " 2015-01-02\n",
        "(0.33839559007342385, 0.31236516006777587, 22)"
       ]
      },
      {
       "output_type": "stream",
       "stream": "stdout",
       "text": [
        " 2015-01-02\n",
        "(0.20920685218893076, 0.24267994853915967, 16)"
       ]
      },
      {
       "output_type": "stream",
       "stream": "stdout",
       "text": [
        " 2015-01-02\n",
        "(-0.26794565082283345, 0.15311180047019052, 15)"
       ]
      },
      {
       "output_type": "stream",
       "stream": "stdout",
       "text": [
        " 2015-01-02\n",
        "(0.57416925176321443, 0.70814207717463118, 15)"
       ]
      },
      {
       "output_type": "stream",
       "stream": "stdout",
       "text": [
        " 2015-01-03\n",
        "(0.22466439213406553, 0.41514072459555584, 41)"
       ]
      },
      {
       "output_type": "stream",
       "stream": "stdout",
       "text": [
        " 2015-01-03\n",
        "(1.0, 1.0, 2)"
       ]
      },
      {
       "output_type": "stream",
       "stream": "stdout",
       "text": [
        " 2015-01-03\n",
        "(0.17592676386594486, 0.47222447142964147, 26)"
       ]
      },
      {
       "output_type": "stream",
       "stream": "stdout",
       "text": [
        " 2015-01-03\n",
        "(0.64795159529186264, 0.19720265943665385, 9)"
       ]
      },
      {
       "output_type": "stream",
       "stream": "stdout",
       "text": [
        " 2015-01-03\n",
        "(0.10910894511799617, 0.036369648372665389, 8)"
       ]
      },
      {
       "output_type": "stream",
       "stream": "stdout",
       "text": [
        " 2015-01-03\n",
        "(0.33333333333333326, 0.99999999999999989, 3)"
       ]
      },
      {
       "output_type": "stream",
       "stream": "stdout",
       "text": [
        " 2015-01-03\n",
        "(-0.31622776601683794, 0.31622776601683794, 5)"
       ]
      },
      {
       "output_type": "stream",
       "stream": "stdout",
       "text": [
        " 2015-01-03\n",
        "(0.34450155105792868, 0.5358913016456669, 15)"
       ]
      },
      {
       "output_type": "stream",
       "stream": "stdout",
       "text": [
        " 2015-01-03\n",
        "(0.41004543029030427, 0.66109365291702116, 16)"
       ]
      },
      {
       "output_type": "stream",
       "stream": "stdout",
       "text": [
        " 2015-01-03\n",
        "(0.10910894511799617, 0.76376261582597327, 8)"
       ]
      },
      {
       "output_type": "stream",
       "stream": "stdout",
       "text": [
        " 2015-01-03\n",
        "(0.35488761929766532, 0.53233142894649799, 37)"
       ]
      },
      {
       "output_type": "stream",
       "stream": "stdout",
       "text": [
        " 2015-01-03\n",
        "(0.63227122326332397, 0.68388520067257486, 13)"
       ]
      },
      {
       "output_type": "stream",
       "stream": "stdout",
       "text": [
        " 2015-01-03\n",
        "(0.63158617693953589, 0.76555900235095264, 15)"
       ]
      },
      {
       "output_type": "stream",
       "stream": "stdout",
       "text": [
        " 2015-01-03\n",
        "(0.56490195531102483, 0.59543719613864776, 12)"
       ]
      },
      {
       "output_type": "stream",
       "stream": "stdout",
       "text": [
        " 2015-01-03\n",
        "(0.4879500364742666, 0.29277002188455997, 7)"
       ]
      },
      {
       "output_type": "stream",
       "stream": "stdout",
       "text": [
        " 2015-01-03\n",
        "(-0.54554472558998091, 0.54554472558998091, 8)"
       ]
      },
      {
       "output_type": "stream",
       "stream": "stdout",
       "text": [
        " 2015-01-03\n",
        "(0.31683230434783843, 0.58613976304350113, 23)"
       ]
      },
      {
       "output_type": "stream",
       "stream": "stdout",
       "text": [
        " 2015-01-03\n",
        "(0.46666666666666667, 0.066666666666666666, 6)"
       ]
      },
      {
       "output_type": "stream",
       "stream": "stdout",
       "text": [
        " 2015-01-04\n",
        "(0.54408602150537655, 0.61290322580645185, 31)"
       ]
      },
      {
       "output_type": "stream",
       "stream": "stdout",
       "text": [
        " 2015-01-04\n",
        "(0.34987396730826975, 0.4878050505740299, 35)"
       ]
      },
      {
       "output_type": "stream",
       "stream": "stdout",
       "text": [
        " 2015-01-04\n",
        "(0.45747997300056126, 0.52786150730833992, 19)"
       ]
      },
      {
       "output_type": "stream",
       "stream": "stdout",
       "text": [
        " 2015-01-04\n",
        "(0.47048180348561086, 0.6170549807253588, 67)"
       ]
      },
      {
       "output_type": "stream",
       "stream": "stdout",
       "text": [
        " 2015-01-04\n",
        "(0.24295068005271456, 0.39913326008660249, 22)"
       ]
      },
      {
       "output_type": "stream",
       "stream": "stdout",
       "text": [
        " 2015-01-04\n",
        "(-0.68313005106397329, 0.0, 7)"
       ]
      },
      {
       "output_type": "stream",
       "stream": "stdout",
       "text": [
        " 2015-01-04\n",
        "(0.39036002917941331, 0.58554004376911994, 7)"
       ]
      },
      {
       "output_type": "stream",
       "stream": "stdout",
       "text": [
        " 2015-01-04\n",
        "(0.54554472558998091, 0.76376261582597327, 8)"
       ]
      },
      {
       "output_type": "stream",
       "stream": "stdout",
       "text": [
        " 2015-01-07\n",
        "(-0.08989331499509895, 0.22473328748774737, 10)"
       ]
      },
      {
       "output_type": "stream",
       "stream": "stdout",
       "text": [
        " 2015-01-09\n",
        "(0.82807867121082523, 0.55205244747388349, 6)"
       ]
      },
      {
       "output_type": "stream",
       "stream": "stdout",
       "text": [
        " 2015-01-09\n",
        "(0.26913022441605383, 0.34300910954987257, 20)"
       ]
      },
      {
       "output_type": "stream",
       "stream": "stdout",
       "text": [
        " 2015-01-10\n",
        "(0.097590007294853329, 0.4879500364742666, 7)"
       ]
      },
      {
       "output_type": "stream",
       "stream": "stdout",
       "text": [
        " 2015-01-10\n",
        "(-0.08989331499509895, -0.044946657497549475, 10)"
       ]
      },
      {
       "output_type": "stream",
       "stream": "stdout",
       "text": [
        " 2015-01-10\n",
        "(0.22559706004894925, 0.4425173100960158, 22)"
       ]
      },
      {
       "output_type": "stream",
       "stream": "stdout",
       "text": [
        " 2015-01-10\n",
        "(0.46843203501529568, 0.29277002188455981, 15)"
       ]
      },
      {
       "output_type": "stream",
       "stream": "stdout",
       "text": [
        " 2015-01-10\n",
        "(0.48331447420790674, 0.57537437405703185, 30)"
       ]
      },
      {
       "output_type": "stream",
       "stream": "stdout",
       "text": [
        " 2015-01-10\n",
        "(-0.057416925176321444, 0.21052872564651198, 15)"
       ]
      },
      {
       "output_type": "stream",
       "stream": "stdout",
       "text": [
        " 2015-01-10\n",
        "(0.44210526315789472, 0.14736842105263157, 20)"
       ]
      },
      {
       "output_type": "stream",
       "stream": "stdout",
       "text": [
        " 2015-01-10\n",
        "(0.25538461538461543, 0.40923076923076929, 26)"
       ]
      },
      {
       "output_type": "stream",
       "stream": "stdout",
       "text": [
        " 2015-01-10\n",
        "(0.59160797830996159, 0.47892074434615939, 9)"
       ]
      },
      {
       "output_type": "stream",
       "stream": "stdout",
       "text": [
        " 2015-01-10\n",
        "(-0.27602622373694174, -0.13801311186847087, 6)"
       ]
      },
      {
       "output_type": "stream",
       "stream": "stdout",
       "text": [
        " 2015-01-11\n",
        "(-0.18469721283454676, 0.53298338560826353, 20)"
       ]
      },
      {
       "output_type": "stream",
       "stream": "stdout",
       "text": [
        " 2015-01-11\n",
        "(0.5133634853952963, 0.53770855789857841, 62)"
       ]
      },
      {
       "output_type": "stream",
       "stream": "stdout",
       "text": [
        " 2015-01-11\n",
        "(0.54778715566737879, 0.51443243424500906, 40)"
       ]
      },
      {
       "output_type": "stream",
       "stream": "stdout",
       "text": [
        " 2015-01-11\n",
        "(0.0, 0.13801311186847087, 6)"
       ]
      },
      {
       "output_type": "stream",
       "stream": "stdout",
       "text": [
        " 2015-01-11\n",
        "(-0.14545550714702812, 0.33454766643816469, 24)"
       ]
      },
      {
       "output_type": "stream",
       "stream": "stdout",
       "text": [
        " 2015-01-11\n",
        "(0.35356323599756095, 0.27968435086374221, 20)"
       ]
      },
      {
       "output_type": "stream",
       "stream": "stdout",
       "text": [
        " 2015-01-11\n",
        "(1.0, 1.0, 2)"
       ]
      },
      {
       "output_type": "stream",
       "stream": "stdout",
       "text": [
        " 2015-01-11\n",
        "(-0.18257418583505539, -0.18257418583505539, 4)"
       ]
      },
      {
       "output_type": "stream",
       "stream": "stdout",
       "text": [
        " 2015-01-11\n",
        "(-0.33333333333333326, -0.33333333333333326, 3)"
       ]
      },
      {
       "output_type": "stream",
       "stream": "stdout",
       "text": [
        " 2015-01-11\n",
        "(0.40451991747794525, 0.85398649245343994, 10)"
       ]
      },
      {
       "output_type": "stream",
       "stream": "stdout",
       "text": [
        " 2015-01-11\n",
        "(0.25941649671427414, 0.42678197846541877, 16)"
       ]
      },
      {
       "output_type": "stream",
       "stream": "stdout",
       "text": [
        " 2015-01-11\n",
        "(0.39036002917941331, 0.78072005835882663, 7)"
       ]
      },
      {
       "output_type": "stream",
       "stream": "stdout",
       "text": [
        " 2015-01-16\n",
        "(0.34113903166623194, 0.37458403477076446, 25)"
       ]
      },
      {
       "output_type": "stream",
       "stream": "stdout",
       "text": [
        " 2015-01-16\n",
        "(0.52904326844482208, 0.76130616678645135, 13)"
       ]
      },
      {
       "output_type": "stream",
       "stream": "stdout",
       "text": [
        " 2015-01-16\n",
        "(-0.13801311186847087, 0.41403933560541262, 6)"
       ]
      },
      {
       "output_type": "stream",
       "stream": "stdout",
       "text": [
        " 2015-01-16\n",
        "(0.62951158029170706, 0.74754500159640203, 18)"
       ]
      },
      {
       "output_type": "stream",
       "stream": "stdout",
       "text": [
        " 2015-01-17\n",
        "(0.44080867385107647, 0.49085682022718119, 65)"
       ]
      },
      {
       "output_type": "stream",
       "stream": "stdout",
       "text": [
        " 2015-01-17\n",
        "(0.38043481343681929, 0.52938812663430412, 71)"
       ]
      },
      {
       "output_type": "stream",
       "stream": "stdout",
       "text": [
        " 2015-01-17\n",
        "(0.42039446902596278, 0.4925445495224095, 65)"
       ]
      },
      {
       "output_type": "stream",
       "stream": "stdout",
       "text": [
        " 2015-01-17\n",
        "(0.480223011242354, 0.53164337111330617, 106)"
       ]
      },
      {
       "output_type": "stream",
       "stream": "stdout",
       "text": [
        " 2015-01-17\n",
        "(0.47708429822142284, -0.22019275302527208, 11)"
       ]
      },
      {
       "output_type": "stream",
       "stream": "stdout",
       "text": [
        " 2015-01-17\n",
        "(0.33333333333333326, -0.33333333333333326, 3)"
       ]
      },
      {
       "output_type": "stream",
       "stream": "stdout",
       "text": [
        " 2015-01-17\n",
        "(-0.10687334289668037, 0.41222575117290999, 12)"
       ]
      },
      {
       "output_type": "stream",
       "stream": "stdout",
       "text": [
        " 2015-01-17\n",
        "(0.24782842939131028, 0.4652217885064947, 22)"
       ]
      },
      {
       "output_type": "stream",
       "stream": "stdout",
       "text": [
        " 2015-01-17\n",
        "(0.58554004376911994, -0.39036002917941331, 7)"
       ]
      },
      {
       "output_type": "stream",
       "stream": "stdout",
       "text": [
        " 2015-01-17\n",
        "(-0.25354627641855498, 0.64795159529186264, 9)"
       ]
      },
      {
       "output_type": "stream",
       "stream": "stdout",
       "text": [
        " 2015-01-17\n",
        "(-0.10910894511799617, 0.10910894511799617, 8)"
       ]
      },
      {
       "output_type": "stream",
       "stream": "stdout",
       "text": [
        " 2015-01-17\n",
        "(0.24000158679259642, 0.38545709393962452, 24)"
       ]
      },
      {
       "output_type": "stream",
       "stream": "stdout",
       "text": [
        " 2015-01-17\n",
        "(0.4485503740267564, 0.69129528232358928, 20)"
       ]
      },
      {
       "output_type": "stream",
       "stream": "stdout",
       "text": [
        " 2015-01-17\n",
        "(0.29671927480756655, 0.45078505211149528, 27)"
       ]
      },
      {
       "output_type": "stream",
       "stream": "stdout",
       "text": [
        " 2015-01-17\n",
        "(0.61088400839167778, 0.61088400839167778, 16)"
       ]
      },
      {
       "output_type": "stream",
       "stream": "stdout",
       "text": [
        " 2015-01-17\n",
        "(0.71587203247824349, 0.65683104010890381, 17)"
       ]
      },
      {
       "output_type": "stream",
       "stream": "stdout",
       "text": [
        " 2015-01-17\n",
        "(0.7339758434175736, 0.69727705124669492, 11)"
       ]
      },
      {
       "output_type": "stream",
       "stream": "stdout",
       "text": [
        " 2015-01-17\n",
        "(-0.18257418583505539, 0.18257418583505539, 4)"
       ]
      },
      {
       "output_type": "stream",
       "stream": "stdout",
       "text": [
        " 2015-01-17\n",
        "(1.0, 1.0, 2)"
       ]
      },
      {
       "output_type": "stream",
       "stream": "stdout",
       "text": [
        " 2015-01-17\n",
        "(-0.91287092917527701, 0.18257418583505539, 4)"
       ]
      },
      {
       "output_type": "stream",
       "stream": "stdout",
       "text": [
        " 2015-01-17\n",
        "(0.18257418583505539, 0.54772255750516619, 4)"
       ]
      },
      {
       "output_type": "stream",
       "stream": "stdout",
       "text": [
        " 2015-01-17\n",
        "(-0.08989331499509895, 0.58430654746814314, 10)"
       ]
      },
      {
       "output_type": "stream",
       "stream": "stdout",
       "text": [
        " 2015-01-17\n",
        "(0.50693168695654156, 0.64950622391306878, 23)"
       ]
      },
      {
       "output_type": "stream",
       "stream": "stdout",
       "text": [
        " 2015-01-17\n",
        "(0.99999999999999989, 0.33333333333333326, 3)"
       ]
      },
      {
       "output_type": "stream",
       "stream": "stdout",
       "text": [
        " 2015-01-17\n",
        "(0.18257418583505539, 0.18257418583505539, 4)"
       ]
      },
      {
       "output_type": "stream",
       "stream": "stdout",
       "text": [
        " 2015-01-17\n",
        "(0.99999999999999989, -0.99999999999999989, 3)"
       ]
      },
      {
       "output_type": "stream",
       "stream": "stdout",
       "text": [
        " 2015-01-17\n",
        "(0.50417432528710437, 0.62437482668005639, 25)"
       ]
      },
      {
       "output_type": "stream",
       "stream": "stdout",
       "text": [
        " 2015-01-17\n",
        "(-0.13801311186847087, 0.13801311186847087, 6)"
       ]
      },
      {
       "output_type": "stream",
       "stream": "stdout",
       "text": [
        " 2015-01-17\n",
        "(-0.29277002188455997, 0.4879500364742666, 7)"
       ]
      },
      {
       "output_type": "stream",
       "stream": "stdout",
       "text": [
        " 2015-01-17\n",
        "(0.19518001458970666, 0.097590007294853329, 7)"
       ]
      },
      {
       "output_type": "stream",
       "stream": "stdout",
       "text": [
        " 2015-01-17\n",
        "(0.63158617693953589, 0.63158617693953589, 15)"
       ]
      },
      {
       "output_type": "stream",
       "stream": "stdout",
       "text": [
        " 2015-01-17\n",
        "(0.61114883751242577, 0.61114883751242577, 14)"
       ]
      },
      {
       "output_type": "stream",
       "stream": "stdout",
       "text": [
        " 2015-01-17\n",
        "(0.29277002188455997, 0.097590007294853329, 7)"
       ]
      },
      {
       "output_type": "stream",
       "stream": "stdout",
       "text": [
        " 2015-01-17\n",
        "(-0.036369648372665389, -0.4728054288446501, 8)"
       ]
      },
      {
       "output_type": "stream",
       "stream": "stdout",
       "text": [
        " 2015-01-17\n",
        "(0.51046471934099102, 0.41004543029030427, 16)"
       ]
      },
      {
       "output_type": "stream",
       "stream": "stdout",
       "text": [
        " 2015-01-17\n",
        "(1.0, -1.0, 2)"
       ]
      },
      {
       "output_type": "stream",
       "stream": "stdout",
       "text": [
        " 2015-01-17\n",
        "(-0.83650191257130402, -0.036369648372665389, 8)"
       ]
      },
      {
       "output_type": "stream",
       "stream": "stdout",
       "text": [
        " 2015-01-17\n",
        "(0.62731054392423391, 0.68635153629357359, 17)"
       ]
      },
      {
       "output_type": "stream",
       "stream": "stdout",
       "text": [
        " 2015-01-17\n",
        "(-0.73786478737262184, 0.73786478737262184, 5)"
       ]
      },
      {
       "output_type": "stream",
       "stream": "stdout",
       "text": [
        " 2015-01-17\n",
        "(-0.097590007294853329, 0.58554004376911994, 7)"
       ]
      },
      {
       "output_type": "stream",
       "stream": "stdout",
       "text": [
        " 2015-01-17\n",
        "(0.83650191257130402, 0.83650191257130402, 8)"
       ]
      },
      {
       "output_type": "stream",
       "stream": "stdout",
       "text": [
        " 2015-01-17\n",
        "(0.76409317745834104, 0.62925320496569259, 10)"
       ]
      },
      {
       "output_type": "stream",
       "stream": "stdout",
       "text": [
        " 2015-01-17\n",
        "(0.33333333333333326, 0.33333333333333326, 3)"
       ]
      },
      {
       "output_type": "stream",
       "stream": "stdout",
       "text": [
        " 2015-01-17\n",
        "(0.41403933560541262, 0.69006555934235436, 6)"
       ]
      },
      {
       "output_type": "stream",
       "stream": "stdout",
       "text": [
        " 2015-01-17\n",
        "(0.17225077552896434, 0.19138975058773816, 15)"
       ]
      },
      {
       "output_type": "stream",
       "stream": "stdout",
       "text": [
        " 2015-01-17\n",
        "(0.16404106029799873, 0.4921231808939962, 47)"
       ]
      },
      {
       "output_type": "stream",
       "stream": "stdout",
       "text": [
        " 2015-01-17\n",
        "(0.31601973012105183, 0.48660477475386876, 61)"
       ]
      },
      {
       "output_type": "stream",
       "stream": "stdout",
       "text": [
        " 2015-01-17\n",
        "(-0.54772255750516619, -0.18257418583505539, 4)"
       ]
      },
      {
       "output_type": "stream",
       "stream": "stdout",
       "text": [
        " 2015-01-17\n",
        "(0.25830434161586102, 0.30258508589286581, 17)"
       ]
      },
      {
       "output_type": "stream",
       "stream": "stdout",
       "text": [
        " 2015-01-18\n",
        "(0.49343173123854334, 0.61185534673579378, 18)"
       ]
      },
      {
       "output_type": "stream",
       "stream": "stdout",
       "text": [
        " 2015-01-18\n",
        "(0.31760665447948155, 0.4464905142682567, 30)"
       ]
      },
      {
       "output_type": "stream",
       "stream": "stdout",
       "text": [
        " 2015-01-18\n",
        "(0.72929289854497559, 0.50829505050104362, 14)"
       ]
      },
      {
       "output_type": "stream",
       "stream": "stdout",
       "text": [
        " 2015-01-18\n",
        "(0.42764083374007089, 0.44079901323976539, 18)"
       ]
      },
      {
       "output_type": "stream",
       "stream": "stdout",
       "text": [
        " 2015-01-18\n",
        "(-0.3146266024828463, 0.3146266024828463, 10)"
       ]
      },
      {
       "output_type": "stream",
       "stream": "stdout",
       "text": [
        " 2015-01-18\n",
        "(1.0, -1.0, 2)"
       ]
      },
      {
       "output_type": "stream",
       "stream": "stdout",
       "text": [
        " 2015-01-18\n",
        "(-0.73786478737262184, 0.10540925533894598, 5)"
       ]
      },
      {
       "output_type": "stream",
       "stream": "stdout",
       "text": [
        " 2015-01-18\n",
        "(0.26967994498529685, 0.44946657497549475, 10)"
       ]
      },
      {
       "output_type": "stream",
       "stream": "stdout",
       "text": [
        " 2015-01-18\n",
        "(0.33333333333333331, -0.066666666666666666, 6)"
       ]
      },
      {
       "output_type": "stream",
       "stream": "stdout",
       "text": [
        " 2015-01-18\n",
        "(0.13192658059610482, 0.079155948357662903, 20)"
       ]
      },
      {
       "output_type": "stream",
       "stream": "stdout",
       "text": [
        " 2015-01-18\n",
        "(0.14022235687718171, 0.28782483780053086, 17)"
       ]
      },
      {
       "output_type": "stream",
       "stream": "stdout",
       "text": [
        " 2015-01-21\n",
        "(-0.097590007294853329, 0.29277002188455997, 7)"
       ]
      },
      {
       "output_type": "stream",
       "stream": "stdout",
       "text": [
        " 2015-01-22\n",
        "(-0.061706090734453364, 0.286751833413048, 24)"
       ]
      },
      {
       "output_type": "stream",
       "stream": "stdout",
       "text": [
        " 2015-01-23\n",
        "(-0.22287485864129908, 0.08211179002574176, 19)"
       ]
      },
      {
       "output_type": "stream",
       "stream": "stdout",
       "text": [
        " 2015-01-23\n",
        "(0.0045078900777028577, 0.2148760937038362, 37)"
       ]
      },
      {
       "output_type": "stream",
       "stream": "stdout",
       "text": [
        " 2015-01-23\n",
        "(-0.050331169976046697, 0.47947061924549744, 28)"
       ]
      },
      {
       "output_type": "stream",
       "stream": "stdout",
       "text": [
        " 2015-01-23\n",
        "(0.18989937740959317, 0.37979875481918635, 32)"
       ]
      },
      {
       "output_type": "stream",
       "stream": "stdout",
       "text": [
        " 2015-01-23\n",
        "(0.14797178180801121, 0.53938101110662151, 21)"
       ]
      },
      {
       "output_type": "stream",
       "stream": "stdout",
       "text": [
        " 2015-01-23\n",
        "(0.43078493131376122, 0.59148223153417556, 46)"
       ]
      },
      {
       "output_type": "stream",
       "stream": "stdout",
       "text": [
        " 2015-01-23\n",
        "(0.42860793224500648, 0.54814816602966854, 89)"
       ]
      },
      {
       "output_type": "stream",
       "stream": "stdout",
       "text": [
        " 2015-01-23\n",
        "(0.42581531362632025, 0.86453412160495313, 13)"
       ]
      },
      {
       "output_type": "stream",
       "stream": "stdout",
       "text": [
        " 2015-01-23\n",
        "(0.25433950919900028, 0.53642514667425512, 30)"
       ]
      },
      {
       "output_type": "stream",
       "stream": "stdout",
       "text": [
        " 2015-01-23\n",
        "(-0.39036002917941331, 0.29277002188455997, 7)"
       ]
      },
      {
       "output_type": "stream",
       "stream": "stdout",
       "text": [
        " 2015-01-23\n",
        "(0.42066707063154513, 0.39114657444687528, 17)"
       ]
      },
      {
       "output_type": "stream",
       "stream": "stdout",
       "text": [
        " 2015-01-23\n",
        "(0.13801311186847087, 0.0, 6)"
       ]
      },
      {
       "output_type": "stream",
       "stream": "stdout",
       "text": [
        " 2015-01-24\n",
        "(0.65707384040610839, 0.67639954159452342, 15)"
       ]
      },
      {
       "output_type": "stream",
       "stream": "stdout",
       "text": [
        " 2015-01-24\n",
        "(0.40110809479794129, 0.59833804196377982, 43)"
       ]
      },
      {
       "output_type": "stream",
       "stream": "stdout",
       "text": [
        " 2015-01-24\n",
        "(0.46417220991334696, 0.44729322046195252, 16)"
       ]
      },
      {
       "output_type": "stream",
       "stream": "stdout",
       "text": [
        " 2015-01-24\n",
        "(0.52099061399792401, 0.53390773665902957, 31)"
       ]
      },
      {
       "output_type": "stream",
       "stream": "stdout",
       "text": [
        " 2015-01-24\n",
        "(0.48484947423725916, 0.56565771994346903, 32)"
       ]
      },
      {
       "output_type": "stream",
       "stream": "stdout",
       "text": [
        " 2015-01-24\n",
        "(-0.31622776601683794, 0.10540925533894598, 5)"
       ]
      },
      {
       "output_type": "stream",
       "stream": "stdout",
       "text": [
        " 2015-01-24\n",
        "(-0.33333333333333326, -0.33333333333333326, 3)"
       ]
      },
      {
       "output_type": "stream",
       "stream": "stdout",
       "text": [
        " 2015-01-24\n",
        "(0.54554472558998091, 0.18184824186332696, 8)"
       ]
      },
      {
       "output_type": "stream",
       "stream": "stdout",
       "text": [
        " 2015-01-24\n",
        "(0.40006613209931929, 0.54554472558998091, 8)"
       ]
      },
      {
       "output_type": "stream",
       "stream": "stdout",
       "text": [
        " 2015-01-24\n",
        "(-0.52704627669472992, 0.31622776601683794, 5)"
       ]
      },
      {
       "output_type": "stream",
       "stream": "stdout",
       "text": [
        " 2015-01-24\n",
        "(0.53481359216486657, 0.55903156614969074, 32)"
       ]
      },
      {
       "output_type": "stream",
       "stream": "stdout",
       "text": [
        " 2015-01-24\n",
        "(0.56228324698429433, 0.60419255731852739, 42)"
       ]
      },
      {
       "output_type": "stream",
       "stream": "stdout",
       "text": [
        " 2015-01-24\n",
        "(0.60529293563821862, 0.58991179975503516, 67)"
       ]
      },
      {
       "output_type": "stream",
       "stream": "stdout",
       "text": [
        " 2015-01-24\n",
        "(0.59524638933341423, 0.62757606543139521, 80)"
       ]
      },
      {
       "output_type": "stream",
       "stream": "stdout",
       "text": [
        " 2015-01-24\n",
        "(0.46022274235723748, 0.48485920142766209, 77)"
       ]
      },
      {
       "output_type": "stream",
       "stream": "stdout",
       "text": [
        " 2015-01-24\n",
        "(0.22473328748774737, 0.26967994498529685, 10)"
       ]
      },
      {
       "output_type": "stream",
       "stream": "stdout",
       "text": [
        " 2015-01-24\n",
        "(0.59419324821434238, 0.6671169650406481, 39)"
       ]
      },
      {
       "output_type": "stream",
       "stream": "stdout",
       "text": [
        " 2015-01-24\n",
        "(nan, nan, 1)"
       ]
      },
      {
       "output_type": "stream",
       "stream": "stdout",
       "text": [
        " 2015-01-24\n",
        "(nan, nan, 3)"
       ]
      },
      {
       "output_type": "stream",
       "stream": "stdout",
       "text": [
        " 2015-01-24\n",
        "(-0.27602622373694174, 0.27602622373694174, 6)"
       ]
      },
      {
       "output_type": "stream",
       "stream": "stdout",
       "text": [
        " 2015-01-24\n",
        "(-0.31622776601683794, 0.10540925533894598, 5)"
       ]
      },
      {
       "output_type": "stream",
       "stream": "stdout",
       "text": [
        " 2015-01-24\n",
        "(0.18257418583505539, -0.18257418583505539, 4)"
       ]
      },
      {
       "output_type": "stream",
       "stream": "stdout",
       "text": [
        " 2015-01-24\n",
        "(-1.0, -1.0, 2)"
       ]
      },
      {
       "output_type": "stream",
       "stream": "stdout",
       "text": [
        " 2015-01-24\n",
        "(0.91287092917527701, -0.18257418583505539, 4)"
       ]
      },
      {
       "output_type": "stream",
       "stream": "stdout",
       "text": [
        " 2015-01-24\n",
        "(0.52904326844482208, 0.68388520067257486, 13)"
       ]
      },
      {
       "output_type": "stream",
       "stream": "stdout",
       "text": [
        " 2015-01-24\n",
        "(0.53526436132806043, 0.25354627641855498, 9)"
       ]
      },
      {
       "output_type": "stream",
       "stream": "stdout",
       "text": [
        " 2015-01-24\n",
        "(0.48619526569665039, 0.088399139217572809, 14)"
       ]
      },
      {
       "output_type": "stream",
       "stream": "stdout",
       "text": [
        " 2015-01-24\n",
        "(0.15262862811747202, 0.25438104686245339, 60)"
       ]
      },
      {
       "output_type": "stream",
       "stream": "stdout",
       "text": [
        " 2015-01-24\n",
        "(-0.051464084145820717, 0.13842064011634536, 48)"
       ]
      },
      {
       "output_type": "stream",
       "stream": "stdout",
       "text": [
        " 2015-01-24\n",
        "(0.28571428571428575, 0.57142857142857151, 8)"
       ]
      },
      {
       "output_type": "stream",
       "stream": "stdout",
       "text": [
        " 2015-01-24\n",
        "(0.48094048443648746, 0.51613125159037676, 19)"
       ]
      },
      {
       "output_type": "stream",
       "stream": "stdout",
       "text": [
        " 2015-01-24\n",
        "(-0.18184824186332696, -0.32732683535398854, 8)"
       ]
      },
      {
       "output_type": "stream",
       "stream": "stdout",
       "text": [
        " 2015-01-24\n",
        "(0.32732683535398854, 0.18184824186332696, 8)"
       ]
      },
      {
       "output_type": "stream",
       "stream": "stdout",
       "text": [
        " 2015-01-24\n",
        "(0.08989331499509895, 0.22473328748774737, 10)"
       ]
      },
      {
       "output_type": "stream",
       "stream": "stdout",
       "text": [
        " 2015-01-24\n",
        "(0.29277002188455997, 0.097590007294853329, 7)"
       ]
      },
      {
       "output_type": "stream",
       "stream": "stdout",
       "text": [
        " 2015-01-24\n",
        "(0.10557230146166798, -0.17595383576944662, 19)"
       ]
      },
      {
       "output_type": "stream",
       "stream": "stdout",
       "text": [
        " 2015-01-25\n",
        "(0.15899720766358738, 0.54393781569122002, 16)"
       ]
      },
      {
       "output_type": "stream",
       "stream": "stdout",
       "text": [
        " 2015-01-25\n",
        "(0.05166086832317221, 0.066421116415507131, 17)"
       ]
      },
      {
       "output_type": "stream",
       "stream": "stdout",
       "text": [
        " 2015-01-25\n",
        "(-0.058651278589815545, 0.3753681829748195, 19)"
       ]
      },
      {
       "output_type": "stream",
       "stream": "stdout",
       "text": [
        " 2015-01-25\n",
        "(-0.29277002188455997, 0.39036002917941331, 7)"
       ]
      },
      {
       "output_type": "stream",
       "stream": "stdout",
       "text": [
        " 2015-01-25\n",
        "(-0.31622776601683794, -0.10540925533894598, 5)"
       ]
      },
      {
       "output_type": "stream",
       "stream": "stdout",
       "text": [
        " 2015-01-25\n",
        "(-0.13801311186847087, 0.0, 6)"
       ]
      },
      {
       "output_type": "stream",
       "stream": "stdout",
       "text": [
        " 2015-01-25\n",
        "(0.13021720984236471, 0.57095238161652218, 25)"
       ]
      },
      {
       "output_type": "stream",
       "stream": "stdout",
       "text": [
        " 2015-01-25\n",
        "(0.620269082631007, 0.70573923181244491, 41)"
       ]
      },
      {
       "output_type": "stream",
       "stream": "stdout",
       "text": [
        " 2015-01-25\n",
        "(0.25458753860865774, 0.69102331908064241, 8)"
       ]
      },
      {
       "output_type": "stream",
       "stream": "stdout",
       "text": [
        " 2015-01-25\n",
        "(0.42649044032334305, 0.55364286973651367, 28)"
       ]
      },
      {
       "output_type": "stream",
       "stream": "stdout",
       "text": [
        " 2015-01-25\n",
        "(0.41294347941211512, 0.47457683454825167, 26)"
       ]
      },
      {
       "output_type": "stream",
       "stream": "stdout",
       "text": [
        " 2015-01-25\n",
        "(-0.18184824186332696, 0.32732683535398854, 8)"
       ]
      },
      {
       "output_type": "stream",
       "stream": "stdout",
       "text": [
        " 2015-01-25\n",
        "(0.097590007294853329, 0.39036002917941331, 7)"
       ]
      },
      {
       "output_type": "stream",
       "stream": "stdout",
       "text": [
        " 2015-01-25\n",
        "(0.14085904245475275, 0.59160797830996159, 9)"
       ]
      },
      {
       "output_type": "stream",
       "stream": "stdout",
       "text": [
        " 2015-01-25\n",
        "(0.91287092917527701, 0.54772255750516619, 4)"
       ]
      },
      {
       "output_type": "stream",
       "stream": "stdout",
       "text": [
        " 2015-01-25\n",
        "(0.22019275302527208, 0.40368671387966548, 11)"
       ]
      },
      {
       "output_type": "stream",
       "stream": "stdout",
       "text": [
        " 2015-01-25\n",
        "(0.68313005106397329, 0.58554004376911994, 7)"
       ]
      },
      {
       "output_type": "stream",
       "stream": "stdout",
       "text": [
        " 2015-01-27\n",
        "(0.26794565082283345, 0.28708462588160721, 15)"
       ]
      },
      {
       "output_type": "stream",
       "stream": "stdout",
       "text": [
        " 2015-01-30\n",
        "(0.33333333333333331, 0.33333333333333331, 4)"
       ]
      },
      {
       "output_type": "stream",
       "stream": "stdout",
       "text": [
        " 2015-01-31\n",
        "(0.41403933560541262, -0.27602622373694174, 6)"
       ]
      },
      {
       "output_type": "stream",
       "stream": "stdout",
       "text": [
        " 2015-01-31\n",
        "(0.25041771123531675, 0.45075188022357016, 25)"
       ]
      },
      {
       "output_type": "stream",
       "stream": "stdout",
       "text": [
        " 2015-01-31\n",
        "(-0.10026420125303967, -0.026385316119220965, 20)"
       ]
      },
      {
       "output_type": "stream",
       "stream": "stdout",
       "text": [
        " 2015-01-31\n",
        "(0.20920685218893076, 0.058577918612900612, 16)"
       ]
      },
      {
       "output_type": "stream",
       "stream": "stdout",
       "text": [
        " 2015-01-31\n"
       ]
      },
      {
       "ename": "KeyboardInterrupt",
       "evalue": "",
       "output_type": "pyerr",
       "traceback": [
        "\u001b[0;31m---------------------------------------------------------------------------\u001b[0m\n\u001b[0;31mKeyboardInterrupt\u001b[0m                         Traceback (most recent call last)",
        "\u001b[0;32m<ipython-input-3-ccfb54ff1e8b>\u001b[0m in \u001b[0;36m<module>\u001b[0;34m()\u001b[0m\n\u001b[1;32m     15\u001b[0m \u001b[0;32mfor\u001b[0m \u001b[0mevent\u001b[0m \u001b[0;32min\u001b[0m \u001b[0mevents\u001b[0m\u001b[0;34m:\u001b[0m\u001b[0;34m\u001b[0m\u001b[0m\n\u001b[1;32m     16\u001b[0m     \u001b[0meventid\u001b[0m\u001b[0;34m,\u001b[0m \u001b[0mtournamentid\u001b[0m\u001b[0;34m,\u001b[0m \u001b[0mweapon\u001b[0m\u001b[0;34m,\u001b[0m \u001b[0mstart_date\u001b[0m \u001b[0;34m=\u001b[0m \u001b[0mevent\u001b[0m\u001b[0;34m\u001b[0m\u001b[0m\n\u001b[0;32m---> 17\u001b[0;31m     \u001b[0mtaus\u001b[0m \u001b[0;34m=\u001b[0m \u001b[0mscoreEventPrediction\u001b[0m\u001b[0;34m(\u001b[0m\u001b[0meventid\u001b[0m\u001b[0;34m)\u001b[0m\u001b[0;34m\u001b[0m\u001b[0m\n\u001b[0m\u001b[1;32m     18\u001b[0m     \u001b[0;32mif\u001b[0m \u001b[0mtaus\u001b[0m\u001b[0;34m:\u001b[0m\u001b[0;34m\u001b[0m\u001b[0m\n\u001b[1;32m     19\u001b[0m         collected_taus += [{\"eventid\" : eventid, \n",
        "\u001b[0;32m<ipython-input-2-d890285483bf>\u001b[0m in \u001b[0;36mscoreEventPrediction\u001b[0;34m(eventid)\u001b[0m\n\u001b[1;32m     75\u001b[0m     \u001b[0;32mfor\u001b[0m \u001b[0mr\u001b[0m \u001b[0;32min\u001b[0m \u001b[0mresults\u001b[0m\u001b[0;34m:\u001b[0m\u001b[0;34m\u001b[0m\u001b[0m\n\u001b[1;32m     76\u001b[0m         \u001b[0mfencerid\u001b[0m\u001b[0;34m,\u001b[0m \u001b[0meventid\u001b[0m\u001b[0;34m,\u001b[0m \u001b[0mweapon\u001b[0m\u001b[0;34m,\u001b[0m \u001b[0mtournamentid\u001b[0m\u001b[0;34m,\u001b[0m \u001b[0mentries\u001b[0m\u001b[0;34m,\u001b[0m \u001b[0mplace\u001b[0m\u001b[0;34m,\u001b[0m \u001b[0mstart_date\u001b[0m \u001b[0;34m=\u001b[0m \u001b[0mr\u001b[0m\u001b[0;34m\u001b[0m\u001b[0m\n\u001b[0;32m---> 77\u001b[0;31m         \u001b[0mts_mu\u001b[0m \u001b[0;34m=\u001b[0m \u001b[0mgetLatestRating\u001b[0m\u001b[0;34m(\u001b[0m\u001b[0mfencerid\u001b[0m\u001b[0;34m,\u001b[0m \u001b[0mstart_date\u001b[0m\u001b[0;34m,\u001b[0m \u001b[0mweapon\u001b[0m\u001b[0;34m)\u001b[0m\u001b[0;34m\u001b[0m\u001b[0m\n\u001b[0m\u001b[1;32m     78\u001b[0m         \u001b[0mletter\u001b[0m\u001b[0;34m,\u001b[0m \u001b[0myear\u001b[0m \u001b[0;34m=\u001b[0m \u001b[0mgetLatestLetter\u001b[0m\u001b[0;34m(\u001b[0m\u001b[0mfencerid\u001b[0m\u001b[0;34m,\u001b[0m \u001b[0mstart_date\u001b[0m\u001b[0;34m,\u001b[0m \u001b[0mweapon\u001b[0m\u001b[0;34m)\u001b[0m\u001b[0;34m\u001b[0m\u001b[0m\n\u001b[1;32m     79\u001b[0m         \u001b[0mplaces\u001b[0m\u001b[0;34m.\u001b[0m\u001b[0mappend\u001b[0m\u001b[0;34m(\u001b[0m\u001b[0;34m-\u001b[0m\u001b[0mplace\u001b[0m\u001b[0;34m)\u001b[0m\u001b[0;34m\u001b[0m\u001b[0m\n",
        "\u001b[0;32m<ipython-input-2-d890285483bf>\u001b[0m in \u001b[0;36mgetLatestRating\u001b[0;34m(fencerid, prior_to_date, weapon)\u001b[0m\n\u001b[1;32m     32\u001b[0m     \u001b[0;34m\"fencerid\"\u001b[0m \u001b[0;34m:\u001b[0m \u001b[0mfencerid\u001b[0m\u001b[0;34m,\u001b[0m\u001b[0;34m\u001b[0m\u001b[0m\n\u001b[1;32m     33\u001b[0m     \u001b[0;34m\"weapon\"\u001b[0m \u001b[0;34m:\u001b[0m \u001b[0mweapon\u001b[0m\u001b[0;34m,\u001b[0m\u001b[0;34m\u001b[0m\u001b[0m\n\u001b[0;32m---> 34\u001b[0;31m     \u001b[0;34m\"prior_to_date\"\u001b[0m \u001b[0;34m:\u001b[0m \u001b[0mprior_to_date\u001b[0m\u001b[0;34m,\u001b[0m\u001b[0;34m\u001b[0m\u001b[0m\n\u001b[0m\u001b[1;32m     35\u001b[0m     }).fetchone()\n\u001b[1;32m     36\u001b[0m     \u001b[0;32mif\u001b[0m \u001b[0mq\u001b[0m\u001b[0;34m:\u001b[0m\u001b[0;34m\u001b[0m\u001b[0m\n",
        "\u001b[0;31mKeyboardInterrupt\u001b[0m: "
       ]
      }
     ],
     "prompt_number": 3
    },
    {
     "cell_type": "code",
     "collapsed": false,
     "input": [
      "d = pd.DataFrame(collected_taus)\n",
      "d.hist(figsize=(16,16), bins=50)"
     ],
     "language": "python",
     "metadata": {},
     "outputs": [
      {
       "metadata": {},
       "output_type": "pyout",
       "prompt_number": 9,
       "text": [
        "array([[<matplotlib.axes.AxesSubplot object at 0x109aae210>,\n",
        "        <matplotlib.axes.AxesSubplot object at 0x109ad2710>],\n",
        "       [<matplotlib.axes.AxesSubplot object at 0x1078f7e50>,\n",
        "        <matplotlib.axes.AxesSubplot object at 0x10795ad10>]], dtype=object)"
       ]
      },
      {
       "metadata": {},
       "output_type": "display_data",
       "png": "[encoded data removed]",
       "text": [
        "<matplotlib.figure.Figure at 0x109aae650>"
       ]
      }
     ],
     "prompt_number": 9
    },
    {
     "cell_type": "code",
     "collapsed": false,
     "input": [
      "d.mean()"
     ],
     "language": "python",
     "metadata": {},
     "outputs": [
      {
       "metadata": {},
       "output_type": "pyout",
       "prompt_number": 10,
       "text": [
        "eventid        112726.720089\n",
        "letter_tau          0.249454\n",
        "mu_tau              0.394369\n",
        "num_fencers        14.792467\n",
        "dtype: float64"
       ]
      }
     ],
     "prompt_number": 10
    },
    {
     "cell_type": "code",
     "collapsed": false,
     "input": [
      "from scipy.stats import ttest_ind\n",
      "ttest_ind(d[\"mu_tau\"].dropna(), d[\"letter_tau\"].dropna())"
     ],
     "language": "python",
     "metadata": {},
     "outputs": [
      {
       "metadata": {},
       "output_type": "pyout",
       "prompt_number": 15,
       "text": [
        "(10.194835646006126, 5.763134892919027e-24)"
       ]
      }
     ],
     "prompt_number": 15
    },
    {
     "cell_type": "code",
     "collapsed": false,
     "input": [
      "len(d)"
     ],
     "language": "python",
     "metadata": {},
     "outputs": [
      {
       "metadata": {},
       "output_type": "pyout",
       "prompt_number": 16,
       "text": [
        "1354"
       ]
      }
     ],
     "prompt_number": 16
    },
    {
     "cell_type": "code",
     "collapsed": false,
     "input": [
      "(d[\"mu_tau\"] == d[\"letter_tau\"]).sum()"
     ],
     "language": "python",
     "metadata": {},
     "outputs": [
      {
       "metadata": {},
       "output_type": "pyout",
       "prompt_number": 21,
       "text": [
        "122"
       ]
      }
     ],
     "prompt_number": 21
    },
    {
     "cell_type": "code",
     "collapsed": false,
     "input": [
      "909.0/1354.0"
     ],
     "language": "python",
     "metadata": {},
     "outputs": [
      {
       "metadata": {},
       "output_type": "pyout",
       "prompt_number": 20,
       "text": [
        "0.6713441654357459"
       ]
      }
     ],
     "prompt_number": 20
    },
    {
     "cell_type": "code",
     "collapsed": false,
     "input": [
      "pd.stats.api.ols(y=d[\"mu_tau\"], x=d[\"letter_tau\"])"
     ],
     "language": "python",
     "metadata": {},
     "outputs": [
      {
       "metadata": {},
       "output_type": "pyout",
       "prompt_number": 24,
       "text": [
        "\n",
        "-------------------------Summary of Regression Analysis-------------------------\n",
        "\n",
        "Formula: Y ~ <x> + <intercept>\n",
        "\n",
        "Number of Observations:         1324\n",
        "Number of Degrees of Freedom:   2\n",
        "\n",
        "R-squared:         0.1487\n",
        "Adj R-squared:     0.1480\n",
        "\n",
        "Rmse:              0.3262\n",
        "\n",
        "F-stat (1, 1322):   230.8303, p-value:     0.0000\n",
        "\n",
        "Degrees of Freedom: model 1, resid 1322\n",
        "\n",
        "-----------------------Summary of Estimated Coefficients------------------------\n",
        "      Variable       Coef    Std Err     t-stat    p-value    CI 2.5%   CI 97.5%\n",
        "--------------------------------------------------------------------------------\n",
        "             x     0.3608     0.0238      15.19     0.0000     0.3143     0.4074\n",
        "     intercept     0.3044     0.0107      28.32     0.0000     0.2833     0.3254\n",
        "---------------------------------End of Summary---------------------------------"
       ]
      }
     ],
     "prompt_number": 24
    },
    {
     "cell_type": "code",
     "collapsed": false,
     "input": [],
     "language": "python",
     "metadata": {},
     "outputs": []
    }
   ],
   "metadata": {}
  }
 ]
}