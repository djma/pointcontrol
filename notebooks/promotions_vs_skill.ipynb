{
 "metadata": {
  "name": "",
  "signature": "sha256:80f9d971db19b32e8e6854098e5546cc19eab764d40c86d34112f87999ff8c41"
 },
 "nbformat": 3,
 "nbformat_minor": 0,
 "worksheets": [
  {
   "cells": [
    {
     "cell_type": "code",
     "collapsed": false,
     "input": [
      "import pandas as pd\n",
      "import numpy as np"
     ],
     "language": "python",
     "metadata": {},
     "outputs": [],
     "prompt_number": 4
    },
    {
     "cell_type": "code",
     "collapsed": false,
     "input": [
      "d = pd.read_csv(\"../datasets/promotions_vs_ts.txt\", sep=\"|\", \n",
      "                header=None, \n",
      "                names=[\"fencerid\", \"weapon\", \"boutid\", \"ts_mu\", \"ts_sigma\", \"letter_earned\", \"year_earned\", \"letter_prior\", \"year_prior\", \"start_date\"],\n",
      "                parse_dates=True)\n",
      "d = d[d[\"weapon\"] == 'Saber']\n",
      "d.head(10)"
     ],
     "language": "python",
     "metadata": {},
     "outputs": [
      {
       "html": [
        "<div style=\"max-height:1000px;max-width:1500px;overflow:auto;\">\n",
        "<table border=\"1\" class=\"dataframe\">\n",
        "  <thead>\n",
        "    <tr style=\"text-align: right;\">\n",
        "      <th></th>\n",
        "      <th>fencerid</th>\n",
        "      <th>weapon</th>\n",
        "      <th>boutid</th>\n",
        "      <th>ts_mu</th>\n",
        "      <th>ts_sigma</th>\n",
        "      <th>letter_earned</th>\n",
        "      <th>year_earned</th>\n",
        "      <th>letter_prior</th>\n",
        "      <th>year_prior</th>\n",
        "      <th>start_date</th>\n",
        "    </tr>\n",
        "  </thead>\n",
        "  <tbody>\n",
        "    <tr>\n",
        "      <th>23</th>\n",
        "      <td>  4294</td>\n",
        "      <td> Saber</td>\n",
        "      <td> 1144748</td>\n",
        "      <td> 28.852558</td>\n",
        "      <td> 3.874567</td>\n",
        "      <td> D</td>\n",
        "      <td> 2010</td>\n",
        "      <td> D</td>\n",
        "      <td> 2009</td>\n",
        "      <td> 2010-01-02</td>\n",
        "    </tr>\n",
        "    <tr>\n",
        "      <th>24</th>\n",
        "      <td> 44462</td>\n",
        "      <td> Saber</td>\n",
        "      <td> 1144750</td>\n",
        "      <td> 23.554759</td>\n",
        "      <td> 3.454552</td>\n",
        "      <td> E</td>\n",
        "      <td> 2010</td>\n",
        "      <td> E</td>\n",
        "      <td> 2009</td>\n",
        "      <td> 2010-01-02</td>\n",
        "    </tr>\n",
        "    <tr>\n",
        "      <th>25</th>\n",
        "      <td>  7197</td>\n",
        "      <td> Saber</td>\n",
        "      <td> 1144753</td>\n",
        "      <td> 37.260556</td>\n",
        "      <td> 3.488297</td>\n",
        "      <td> B</td>\n",
        "      <td> 2010</td>\n",
        "      <td> B</td>\n",
        "      <td> 2009</td>\n",
        "      <td> 2010-01-02</td>\n",
        "    </tr>\n",
        "    <tr>\n",
        "      <th>34</th>\n",
        "      <td>  9396</td>\n",
        "      <td> Saber</td>\n",
        "      <td> 1146902</td>\n",
        "      <td> 23.418271</td>\n",
        "      <td> 3.988159</td>\n",
        "      <td> E</td>\n",
        "      <td> 2010</td>\n",
        "      <td> E</td>\n",
        "      <td> 2009</td>\n",
        "      <td> 2010-01-02</td>\n",
        "    </tr>\n",
        "    <tr>\n",
        "      <th>35</th>\n",
        "      <td> 44313</td>\n",
        "      <td> Saber</td>\n",
        "      <td> 1146904</td>\n",
        "      <td> 30.803754</td>\n",
        "      <td> 4.191664</td>\n",
        "      <td> D</td>\n",
        "      <td> 2010</td>\n",
        "      <td> E</td>\n",
        "      <td> 2009</td>\n",
        "      <td> 2010-01-02</td>\n",
        "    </tr>\n",
        "    <tr>\n",
        "      <th>36</th>\n",
        "      <td> 25523</td>\n",
        "      <td> Saber</td>\n",
        "      <td> 1146908</td>\n",
        "      <td> 34.485052</td>\n",
        "      <td> 3.835522</td>\n",
        "      <td> C</td>\n",
        "      <td> 2010</td>\n",
        "      <td> C</td>\n",
        "      <td> 2009</td>\n",
        "      <td> 2010-01-02</td>\n",
        "    </tr>\n",
        "    <tr>\n",
        "      <th>37</th>\n",
        "      <td> 40309</td>\n",
        "      <td> Saber</td>\n",
        "      <td> 1146908</td>\n",
        "      <td> 32.127468</td>\n",
        "      <td> 3.098518</td>\n",
        "      <td> B</td>\n",
        "      <td> 2010</td>\n",
        "      <td> E</td>\n",
        "      <td> 2009</td>\n",
        "      <td> 2010-01-02</td>\n",
        "    </tr>\n",
        "    <tr>\n",
        "      <th>43</th>\n",
        "      <td> 12904</td>\n",
        "      <td> Saber</td>\n",
        "      <td> 1147355</td>\n",
        "      <td> 32.785850</td>\n",
        "      <td> 3.192491</td>\n",
        "      <td> C</td>\n",
        "      <td> 2010</td>\n",
        "      <td> C</td>\n",
        "      <td> 2009</td>\n",
        "      <td> 2010-01-02</td>\n",
        "    </tr>\n",
        "    <tr>\n",
        "      <th>49</th>\n",
        "      <td> 40232</td>\n",
        "      <td> Saber</td>\n",
        "      <td> 1147575</td>\n",
        "      <td> 29.694124</td>\n",
        "      <td> 3.900281</td>\n",
        "      <td> E</td>\n",
        "      <td> 2010</td>\n",
        "      <td> E</td>\n",
        "      <td> 2009</td>\n",
        "      <td> 2010-01-02</td>\n",
        "    </tr>\n",
        "    <tr>\n",
        "      <th>50</th>\n",
        "      <td> 23474</td>\n",
        "      <td> Saber</td>\n",
        "      <td> 1147576</td>\n",
        "      <td> 29.327929</td>\n",
        "      <td> 3.921943</td>\n",
        "      <td> E</td>\n",
        "      <td> 2010</td>\n",
        "      <td> E</td>\n",
        "      <td> 2009</td>\n",
        "      <td> 2010-01-02</td>\n",
        "    </tr>\n",
        "  </tbody>\n",
        "</table>\n",
        "</div>"
       ],
       "metadata": {},
       "output_type": "pyout",
       "prompt_number": 30,
       "text": [
        "    fencerid weapon   boutid      ts_mu  ts_sigma letter_earned  year_earned  \\\n",
        "23      4294  Saber  1144748  28.852558  3.874567             D         2010   \n",
        "24     44462  Saber  1144750  23.554759  3.454552             E         2010   \n",
        "25      7197  Saber  1144753  37.260556  3.488297             B         2010   \n",
        "34      9396  Saber  1146902  23.418271  3.988159             E         2010   \n",
        "35     44313  Saber  1146904  30.803754  4.191664             D         2010   \n",
        "36     25523  Saber  1146908  34.485052  3.835522             C         2010   \n",
        "37     40309  Saber  1146908  32.127468  3.098518             B         2010   \n",
        "43     12904  Saber  1147355  32.785850  3.192491             C         2010   \n",
        "49     40232  Saber  1147575  29.694124  3.900281             E         2010   \n",
        "50     23474  Saber  1147576  29.327929  3.921943             E         2010   \n",
        "\n",
        "   letter_prior  year_prior  start_date  \n",
        "23            D        2009  2010-01-02  \n",
        "24            E        2009  2010-01-02  \n",
        "25            B        2009  2010-01-02  \n",
        "34            E        2009  2010-01-02  \n",
        "35            E        2009  2010-01-02  \n",
        "36            C        2009  2010-01-02  \n",
        "37            E        2009  2010-01-02  \n",
        "43            C        2009  2010-01-02  \n",
        "49            E        2009  2010-01-02  \n",
        "50            E        2009  2010-01-02  "
       ]
      }
     ],
     "prompt_number": 30
    },
    {
     "cell_type": "code",
     "collapsed": false,
     "input": [
      "d.groupby([\"letter_prior\", \"letter_earned\"])[\"ts_mu\"].mean()"
     ],
     "language": "python",
     "metadata": {},
     "outputs": [
      {
       "metadata": {},
       "output_type": "pyout",
       "prompt_number": 31,
       "text": [
        "letter_prior  letter_earned\n",
        "A             A                43.031805\n",
        "B             A                40.256972\n",
        "              B                39.014840\n",
        "C             A                36.659806\n",
        "              B                36.488878\n",
        "              C                36.007058\n",
        "D             B                34.665663\n",
        "              C                33.565812\n",
        "              D                32.770641\n",
        "E             A                48.216029\n",
        "              B                30.259011\n",
        "              C                31.681685\n",
        "              D                30.948886\n",
        "              E                30.336878\n",
        "U             A                45.212874\n",
        "              B                41.522855\n",
        "              C                34.286561\n",
        "              D                30.809490\n",
        "              E                28.318027\n",
        "Name: ts_mu, dtype: float64"
       ]
      }
     ],
     "prompt_number": 31
    },
    {
     "cell_type": "code",
     "collapsed": false,
     "input": [
      "d.groupby([\"letter_prior\", \"letter_earned\"])[\"ts_mu\"].std()"
     ],
     "language": "python",
     "metadata": {},
     "outputs": [
      {
       "metadata": {},
       "output_type": "pyout",
       "prompt_number": 32,
       "text": [
        "letter_prior  letter_earned\n",
        "A             A                3.536646\n",
        "B             A                3.627372\n",
        "              B                3.342888\n",
        "C             A                2.352121\n",
        "              B                2.950265\n",
        "              C                3.183343\n",
        "D             B                3.943957\n",
        "              C                2.502285\n",
        "              D                2.747891\n",
        "E             A                7.493306\n",
        "              B                2.007894\n",
        "              C                2.893972\n",
        "              D                3.025876\n",
        "              E                3.301571\n",
        "U             A                2.695760\n",
        "              B                4.067854\n",
        "              C                5.465276\n",
        "              D                4.361015\n",
        "              E                4.073495\n",
        "Name: ts_mu, dtype: float64"
       ]
      }
     ],
     "prompt_number": 32
    },
    {
     "cell_type": "code",
     "collapsed": false,
     "input": [
      "d.groupby([\"letter_prior\", \"letter_earned\"])[\"ts_mu\"].count()"
     ],
     "language": "python",
     "metadata": {},
     "outputs": [
      {
       "metadata": {},
       "output_type": "pyout",
       "prompt_number": 33,
       "text": [
        "letter_prior  letter_earned\n",
        "A             A                 141\n",
        "B             A                  63\n",
        "              B                 220\n",
        "C             A                   8\n",
        "              B                 179\n",
        "              C                 442\n",
        "D             B                  26\n",
        "              C                 377\n",
        "              D                 498\n",
        "E             A                   2\n",
        "              B                   4\n",
        "              C                 118\n",
        "              D                 613\n",
        "              E                 952\n",
        "U             A                   5\n",
        "              B                  15\n",
        "              C                  44\n",
        "              D                 209\n",
        "              E                1735\n",
        "Name: ts_mu, dtype: int64"
       ]
      }
     ],
     "prompt_number": 33
    },
    {
     "cell_type": "code",
     "collapsed": false,
     "input": [
      "e = pd.read_csv(\"../datasets/latest_ts_vs_promotions.txt\", sep=\"|\", \n",
      "                header=None, \n",
      "                names=[\"fencerid\", \"weapon\", \"boutid\", \"ts_mu\", \"ts_sigma\", \"start_date\", \"letter_earned\", \"year_earned\"],\n",
      "                parse_dates=True)\n",
      "e = e[e[\"weapon\"] == 'Epee']\n",
      "e[\"letter_earned\"] = e[\"letter_earned\"].fillna(\"U\")\n",
      "e.head(10)"
     ],
     "language": "python",
     "metadata": {},
     "outputs": [
      {
       "html": [
        "<div style=\"max-height:1000px;max-width:1500px;overflow:auto;\">\n",
        "<table border=\"1\" class=\"dataframe\">\n",
        "  <thead>\n",
        "    <tr style=\"text-align: right;\">\n",
        "      <th></th>\n",
        "      <th>fencerid</th>\n",
        "      <th>weapon</th>\n",
        "      <th>boutid</th>\n",
        "      <th>ts_mu</th>\n",
        "      <th>ts_sigma</th>\n",
        "      <th>start_date</th>\n",
        "      <th>letter_earned</th>\n",
        "      <th>year_earned</th>\n",
        "    </tr>\n",
        "  </thead>\n",
        "  <tbody>\n",
        "    <tr>\n",
        "      <th>0 </th>\n",
        "      <td>  15</td>\n",
        "      <td> Epee</td>\n",
        "      <td> 3552547</td>\n",
        "      <td> 33.166564</td>\n",
        "      <td> 0.921026</td>\n",
        "      <td>        NaN</td>\n",
        "      <td> U</td>\n",
        "      <td>  NaN</td>\n",
        "    </tr>\n",
        "    <tr>\n",
        "      <th>1 </th>\n",
        "      <td>  19</td>\n",
        "      <td> Epee</td>\n",
        "      <td> 3788255</td>\n",
        "      <td> 27.896017</td>\n",
        "      <td> 0.825640</td>\n",
        "      <td> 2015-02-06</td>\n",
        "      <td> D</td>\n",
        "      <td> 2015</td>\n",
        "    </tr>\n",
        "    <tr>\n",
        "      <th>5 </th>\n",
        "      <td>  41</td>\n",
        "      <td> Epee</td>\n",
        "      <td> 3765554</td>\n",
        "      <td> 26.758361</td>\n",
        "      <td> 3.407093</td>\n",
        "      <td>        NaN</td>\n",
        "      <td> U</td>\n",
        "      <td>  NaN</td>\n",
        "    </tr>\n",
        "    <tr>\n",
        "      <th>8 </th>\n",
        "      <td>  72</td>\n",
        "      <td> Epee</td>\n",
        "      <td> 3856644</td>\n",
        "      <td> 26.465189</td>\n",
        "      <td> 0.831097</td>\n",
        "      <td> 2011-05-13</td>\n",
        "      <td> B</td>\n",
        "      <td> 2011</td>\n",
        "    </tr>\n",
        "    <tr>\n",
        "      <th>9 </th>\n",
        "      <td>  73</td>\n",
        "      <td> Epee</td>\n",
        "      <td> 3762655</td>\n",
        "      <td> 30.089180</td>\n",
        "      <td> 0.825265</td>\n",
        "      <td>        NaN</td>\n",
        "      <td> U</td>\n",
        "      <td>  NaN</td>\n",
        "    </tr>\n",
        "    <tr>\n",
        "      <th>10</th>\n",
        "      <td>  87</td>\n",
        "      <td> Epee</td>\n",
        "      <td> 3607851</td>\n",
        "      <td> 33.912419</td>\n",
        "      <td> 0.979126</td>\n",
        "      <td> 2014-12-20</td>\n",
        "      <td> B</td>\n",
        "      <td> 2014</td>\n",
        "    </tr>\n",
        "    <tr>\n",
        "      <th>13</th>\n",
        "      <td>  91</td>\n",
        "      <td> Epee</td>\n",
        "      <td> 3868558</td>\n",
        "      <td> 34.252247</td>\n",
        "      <td> 1.481780</td>\n",
        "      <td> 2013-05-03</td>\n",
        "      <td> C</td>\n",
        "      <td> 2013</td>\n",
        "    </tr>\n",
        "    <tr>\n",
        "      <th>15</th>\n",
        "      <td> 126</td>\n",
        "      <td> Epee</td>\n",
        "      <td> 3665561</td>\n",
        "      <td> 32.810254</td>\n",
        "      <td> 0.860987</td>\n",
        "      <td> 2012-09-14</td>\n",
        "      <td> B</td>\n",
        "      <td> 2012</td>\n",
        "    </tr>\n",
        "    <tr>\n",
        "      <th>17</th>\n",
        "      <td> 149</td>\n",
        "      <td> Epee</td>\n",
        "      <td> 3856648</td>\n",
        "      <td> 33.914635</td>\n",
        "      <td> 4.069176</td>\n",
        "      <td> 2015-06-06</td>\n",
        "      <td> D</td>\n",
        "      <td> 2015</td>\n",
        "    </tr>\n",
        "    <tr>\n",
        "      <th>20</th>\n",
        "      <td> 154</td>\n",
        "      <td> Epee</td>\n",
        "      <td> 3682569</td>\n",
        "      <td> 24.305468</td>\n",
        "      <td> 0.860967</td>\n",
        "      <td> 2014-01-24</td>\n",
        "      <td> D</td>\n",
        "      <td> 2014</td>\n",
        "    </tr>\n",
        "  </tbody>\n",
        "</table>\n",
        "</div>"
       ],
       "metadata": {},
       "output_type": "pyout",
       "prompt_number": 66,
       "text": [
        "    fencerid weapon   boutid      ts_mu  ts_sigma  start_date letter_earned  \\\n",
        "0         15   Epee  3552547  33.166564  0.921026         NaN             U   \n",
        "1         19   Epee  3788255  27.896017  0.825640  2015-02-06             D   \n",
        "5         41   Epee  3765554  26.758361  3.407093         NaN             U   \n",
        "8         72   Epee  3856644  26.465189  0.831097  2011-05-13             B   \n",
        "9         73   Epee  3762655  30.089180  0.825265         NaN             U   \n",
        "10        87   Epee  3607851  33.912419  0.979126  2014-12-20             B   \n",
        "13        91   Epee  3868558  34.252247  1.481780  2013-05-03             C   \n",
        "15       126   Epee  3665561  32.810254  0.860987  2012-09-14             B   \n",
        "17       149   Epee  3856648  33.914635  4.069176  2015-06-06             D   \n",
        "20       154   Epee  3682569  24.305468  0.860967  2014-01-24             D   \n",
        "\n",
        "    year_earned  \n",
        "0           NaN  \n",
        "1          2015  \n",
        "5           NaN  \n",
        "8          2011  \n",
        "9           NaN  \n",
        "10         2014  \n",
        "13         2013  \n",
        "15         2012  \n",
        "17         2015  \n",
        "20         2014  "
       ]
      }
     ],
     "prompt_number": 66
    },
    {
     "cell_type": "code",
     "collapsed": false,
     "input": [
      "e.groupby(\"letter_earned\")[\"ts_mu\"].mean()"
     ],
     "language": "python",
     "metadata": {},
     "outputs": [
      {
       "metadata": {},
       "output_type": "pyout",
       "prompt_number": 67,
       "text": [
        "letter_earned\n",
        "A                37.718229\n",
        "B                33.545297\n",
        "C                31.007270\n",
        "D                29.052714\n",
        "E                27.445684\n",
        "U                21.600130\n",
        "Name: ts_mu, dtype: float64"
       ]
      }
     ],
     "prompt_number": 67
    },
    {
     "cell_type": "code",
     "collapsed": false,
     "input": [
      "e.groupby(\"letter_earned\")[\"ts_mu\"].std()"
     ],
     "language": "python",
     "metadata": {},
     "outputs": [
      {
       "metadata": {},
       "output_type": "pyout",
       "prompt_number": 68,
       "text": [
        "letter_earned\n",
        "A                3.603359\n",
        "B                3.261352\n",
        "C                3.461301\n",
        "D                3.410701\n",
        "E                4.189496\n",
        "U                5.611463\n",
        "Name: ts_mu, dtype: float64"
       ]
      }
     ],
     "prompt_number": 68
    },
    {
     "cell_type": "code",
     "collapsed": false,
     "input": [
      "pd.DataFrame(data=e.groupby(\"letter_earned\")[\"ts_mu\"].count())[::-1].plot(kind=\"bar\",)"
     ],
     "language": "python",
     "metadata": {},
     "outputs": [
      {
       "metadata": {},
       "output_type": "pyout",
       "prompt_number": 69,
       "text": [
        "<matplotlib.axes.AxesSubplot at 0x10ce41990>"
       ]
      },
      {
       "metadata": {},
       "output_type": "display_data",
       "png": "[encoded data removed]",
       "text": [
        "<matplotlib.figure.Figure at 0x10c0c2d90>"
       ]
      }
     ],
     "prompt_number": 69
    },
    {
     "cell_type": "code",
     "collapsed": false,
     "input": [
      "pd.DataFrame(data=e.groupby(\"letter_earned\")[\"ts_mu\"].count()).plot(kind=\"pie\", y=\"ts_mu\", figsize=(5, 5), legend=False, autopct='%1.1f%%')"
     ],
     "language": "python",
     "metadata": {},
     "outputs": [
      {
       "metadata": {},
       "output_type": "pyout",
       "prompt_number": 70,
       "text": [
        "<matplotlib.axes.AxesSubplot at 0x10d775910>"
       ]
      },
      {
       "metadata": {},
       "output_type": "display_data",
       "png": "[encoded data removed]",
       "text": [
        "<matplotlib.figure.Figure at 0x10c946b90>"
       ]
      }
     ],
     "prompt_number": 70
    },
    {
     "cell_type": "code",
     "collapsed": false,
     "input": [
      "print e.groupby(\"letter_earned\")[\"ts_mu\"].quantile([0.05, 0.5, 0.95])\n",
      "e.pivot(index=\"fencerid\", columns=\"letter_earned\", values=\"ts_mu\").plot(kind=\"box\")"
     ],
     "language": "python",
     "metadata": {},
     "outputs": [
      {
       "output_type": "stream",
       "stream": "stdout",
       "text": [
        "letter_earned      \n",
        "A              0.05    32.099594\n",
        "               0.50    37.656420\n",
        "               0.95    43.293333\n",
        "B              0.05    28.797785\n",
        "               0.50    33.358300\n",
        "               0.95    39.096393\n",
        "C              0.05    25.541658\n",
        "               0.50    30.967779\n",
        "               0.95    36.403005\n",
        "D              0.05    23.781738\n",
        "               0.50    29.137431\n",
        "               0.95    34.637782\n",
        "E              0.05    21.311130\n",
        "               0.50    27.051357\n",
        "               0.95    34.763665\n",
        "U              0.05    12.728149\n",
        "               0.50    21.352326\n",
        "               0.95    31.585368\n",
        "dtype: float64\n"
       ]
      },
      {
       "metadata": {},
       "output_type": "pyout",
       "prompt_number": 71,
       "text": [
        "<matplotlib.axes.AxesSubplot at 0x10c972850>"
       ]
      },
      {
       "metadata": {},
       "output_type": "display_data",
       "png": "[encoded data removed]",
       "text": [
        "<matplotlib.figure.Figure at 0x10d22ee90>"
       ]
      }
     ],
     "prompt_number": 71
    },
    {
     "cell_type": "code",
     "collapsed": false,
     "input": [
      "#import ggplot as gg\n",
      "\n",
      "q = pd.DataFrame(e.groupby(\"letter_earned\")[\"ts_mu\"].quantile([0.05, 0.5, 0.95]), columns=[\"letter_earned\"])\\\n",
      "    .unstack(\"letter_earned\")\n",
      "q.rename(columns={\"letter_earned\" : \"TrueSkill\"}, inplace=True)\n",
      "q.index.names = [\"quantile\"]\n",
      "order = q[\"TrueSkill\"].columns.tolist()[::-1]\n",
      "q = q[\"TrueSkill\"][order]\n",
      "q.plot(kind=\"box\", figsize=(8,6), title=\"Epee PointControl distribution vs Letter Rating\").set_ylabel(\"TrueSkill\")"
     ],
     "language": "python",
     "metadata": {},
     "outputs": [
      {
       "metadata": {},
       "output_type": "pyout",
       "prompt_number": 73,
       "text": [
        "<matplotlib.text.Text at 0x10d5bb350>"
       ]
      },
      {
       "metadata": {},
       "output_type": "display_data",
       "png": "[encoded data removed]",
       "text": [
        "<matplotlib.figure.Figure at 0x10d337390>"
       ]
      }
     ],
     "prompt_number": 73
    },
    {
     "cell_type": "code",
     "collapsed": false,
     "input": [
      "q = pd.DataFrame(e.groupby(\"letter_earned\")[\"ts_mu\"].quantile([0.05, 0.5, 0.95])).stack()\n",
      "q.rename(index=, columns={0: \"test\"}, inplace=True)"
     ],
     "language": "python",
     "metadata": {},
     "outputs": [
      {
       "metadata": {},
       "output_type": "pyout",
       "prompt_number": 107,
       "text": [
        "letter_earned         \n",
        "A              0.05  0    32.099594\n",
        "               0.50  0    37.656420\n",
        "               0.95  0    43.293333\n",
        "B              0.05  0    28.797785\n",
        "               0.50  0    33.358300\n",
        "               0.95  0    39.096393\n",
        "C              0.05  0    25.541658\n",
        "               0.50  0    30.967779\n",
        "               0.95  0    36.403005\n",
        "D              0.05  0    23.781738\n",
        "               0.50  0    29.137431\n",
        "               0.95  0    34.637782\n",
        "E              0.05  0    21.311130\n",
        "               0.50  0    27.051357\n",
        "               0.95  0    34.763665\n",
        "U              0.05  0    12.728149\n",
        "               0.50  0    21.352326\n",
        "               0.95  0    31.585368\n",
        "dtype: float64"
       ]
      }
     ],
     "prompt_number": 107
    },
    {
     "cell_type": "code",
     "collapsed": false,
     "input": [
      "e.groupby([\"letter_earned\", \"year_earned\"])[\"ts_mu\"].mean()"
     ],
     "language": "python",
     "metadata": {},
     "outputs": [
      {
       "metadata": {},
       "output_type": "pyout",
       "prompt_number": 34,
       "text": [
        "letter_earned  year_earned\n",
        "A              2010           42.839526\n",
        "               2011           44.477929\n",
        "               2012           45.656463\n",
        "               2013           45.318727\n",
        "               2014           43.238382\n",
        "               2015           42.814478\n",
        "B              2010           39.126927\n",
        "               2011           43.960681\n",
        "               2012           39.516949\n",
        "               2013           40.289527\n",
        "               2014           38.287667\n",
        "               2015           37.592626\n",
        "C              2010           37.005216\n",
        "               2011           37.122957\n",
        "               2012           36.657607\n",
        "               2013           35.562530\n",
        "               2014           35.626229\n",
        "               2015           34.485287\n",
        "D              2010           35.964288\n",
        "               2011           34.531831\n",
        "               2012           33.731098\n",
        "               2013           32.946622\n",
        "               2014           32.411235\n",
        "               2015           32.153822\n",
        "E              2010           32.635375\n",
        "               2011           31.415971\n",
        "               2012           30.485864\n",
        "               2013           29.901865\n",
        "               2014           29.659070\n",
        "               2015           29.115686\n",
        "Name: ts_mu, dtype: float64"
       ]
      }
     ],
     "prompt_number": 34
    },
    {
     "cell_type": "code",
     "collapsed": false,
     "input": [
      "e.groupby([\"year_earned\"])[\"ts_mu\"].mean()"
     ],
     "language": "python",
     "metadata": {},
     "outputs": [
      {
       "metadata": {},
       "output_type": "pyout",
       "prompt_number": 53,
       "text": [
        "year_earned\n",
        "2010           32.696035\n",
        "2011           32.563953\n",
        "2012           31.340647\n",
        "2013           31.410990\n",
        "2014           31.063119\n",
        "2015           30.744309\n",
        "Name: ts_mu, dtype: float64"
       ]
      }
     ],
     "prompt_number": 53
    },
    {
     "cell_type": "code",
     "collapsed": false,
     "input": [
      "e[\"ts_mu\"].hist(bins=100)"
     ],
     "language": "python",
     "metadata": {},
     "outputs": [
      {
       "metadata": {},
       "output_type": "pyout",
       "prompt_number": 35,
       "text": [
        "<matplotlib.axes.AxesSubplot at 0x115398c50>"
       ]
      },
      {
       "metadata": {},
       "output_type": "display_data",
       "png": "[encoded data removed]",
       "text": [
        "<matplotlib.figure.Figure at 0x114cea7d0>"
       ]
      }
     ],
     "prompt_number": 35
    },
    {
     "cell_type": "code",
     "collapsed": false,
     "input": [
      "e.sort(\"ts_mu\").tail()"
     ],
     "language": "python",
     "metadata": {},
     "outputs": [
      {
       "html": [
        "<div style=\"max-height:1000px;max-width:1500px;overflow:auto;\">\n",
        "<table border=\"1\" class=\"dataframe\">\n",
        "  <thead>\n",
        "    <tr style=\"text-align: right;\">\n",
        "      <th></th>\n",
        "      <th>fencerid</th>\n",
        "      <th>weapon</th>\n",
        "      <th>boutid</th>\n",
        "      <th>ts_mu</th>\n",
        "      <th>ts_sigma</th>\n",
        "      <th>start_date</th>\n",
        "      <th>letter_earned</th>\n",
        "      <th>year_earned</th>\n",
        "    </tr>\n",
        "  </thead>\n",
        "  <tbody>\n",
        "    <tr>\n",
        "      <th>3483 </th>\n",
        "      <td>  43827</td>\n",
        "      <td> Epee</td>\n",
        "      <td> 3609320</td>\n",
        "      <td> 46.443830</td>\n",
        "      <td> 1.416870</td>\n",
        "      <td> 2011-09-25</td>\n",
        "      <td> B</td>\n",
        "      <td> 2011</td>\n",
        "    </tr>\n",
        "    <tr>\n",
        "      <th>17842</th>\n",
        "      <td> 116742</td>\n",
        "      <td> Epee</td>\n",
        "      <td> 3659139</td>\n",
        "      <td> 46.775834</td>\n",
        "      <td> 2.638130</td>\n",
        "      <td> 2015-01-17</td>\n",
        "      <td> A</td>\n",
        "      <td> 2015</td>\n",
        "    </tr>\n",
        "    <tr>\n",
        "      <th>5079 </th>\n",
        "      <td>  63074</td>\n",
        "      <td> Epee</td>\n",
        "      <td> 3554280</td>\n",
        "      <td> 47.274443</td>\n",
        "      <td> 1.590223</td>\n",
        "      <td> 2012-06-10</td>\n",
        "      <td> A</td>\n",
        "      <td> 2012</td>\n",
        "    </tr>\n",
        "    <tr>\n",
        "      <th>20021</th>\n",
        "      <td> 119863</td>\n",
        "      <td> Epee</td>\n",
        "      <td> 3711607</td>\n",
        "      <td> 47.839121</td>\n",
        "      <td> 2.753101</td>\n",
        "      <td> 2015-02-22</td>\n",
        "      <td> A</td>\n",
        "      <td> 2015</td>\n",
        "    </tr>\n",
        "    <tr>\n",
        "      <th>4222 </th>\n",
        "      <td>  53197</td>\n",
        "      <td> Epee</td>\n",
        "      <td> 3431315</td>\n",
        "      <td> 48.794906</td>\n",
        "      <td> 1.637883</td>\n",
        "      <td> 2011-03-26</td>\n",
        "      <td> B</td>\n",
        "      <td> 2011</td>\n",
        "    </tr>\n",
        "  </tbody>\n",
        "</table>\n",
        "</div>"
       ],
       "metadata": {},
       "output_type": "pyout",
       "prompt_number": 16,
       "text": [
        "       fencerid weapon   boutid      ts_mu  ts_sigma  start_date  \\\n",
        "3483      43827   Epee  3609320  46.443830  1.416870  2011-09-25   \n",
        "17842    116742   Epee  3659139  46.775834  2.638130  2015-01-17   \n",
        "5079      63074   Epee  3554280  47.274443  1.590223  2012-06-10   \n",
        "20021    119863   Epee  3711607  47.839121  2.753101  2015-02-22   \n",
        "4222      53197   Epee  3431315  48.794906  1.637883  2011-03-26   \n",
        "\n",
        "      letter_earned  year_earned  \n",
        "3483              B         2011  \n",
        "17842             A         2015  \n",
        "5079              A         2012  \n",
        "20021             A         2015  \n",
        "4222              B         2011  "
       ]
      }
     ],
     "prompt_number": 16
    },
    {
     "cell_type": "code",
     "collapsed": false,
     "input": [],
     "language": "python",
     "metadata": {},
     "outputs": []
    }
   ],
   "metadata": {}
  }
 ]
}