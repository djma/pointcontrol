{
 "metadata": {
  "name": "",
  "signature": "sha256:33edea2963659cfda976940c71fc68f14097db837bfa3053b1d021f232502898"
 },
 "nbformat": 3,
 "nbformat_minor": 0,
 "worksheets": [
  {
   "cells": [
    {
     "cell_type": "code",
     "collapsed": false,
     "input": [
      "import pandas as pd\n",
      "import numpy as np"
     ],
     "language": "python",
     "metadata": {},
     "outputs": [],
     "prompt_number": 39
    },
    {
     "cell_type": "code",
     "collapsed": false,
     "input": [
      "d = pd.read_csv(\"../datasets/promotions_vs_ts.txt\", sep=\"|\", \n",
      "                header=None, \n",
      "                names=[\"fencerid\", \"weapon\", \"boutid\", \"ts_mu\", \"ts_sigma\", \"letter_earned\", \"year_earned\", \"letter_prior\", \"year_prior\", \"start_date\"],\n",
      "                parse_dates=True)\n",
      "d = d[d[\"weapon\"] == 'Epee']\n",
      "d.head(10)"
     ],
     "language": "python",
     "metadata": {},
     "outputs": [
      {
       "html": [
        "<div style=\"max-height:1000px;max-width:1500px;overflow:auto;\">\n",
        "<table border=\"1\" class=\"dataframe\">\n",
        "  <thead>\n",
        "    <tr style=\"text-align: right;\">\n",
        "      <th></th>\n",
        "      <th>fencerid</th>\n",
        "      <th>weapon</th>\n",
        "      <th>boutid</th>\n",
        "      <th>ts_mu</th>\n",
        "      <th>ts_sigma</th>\n",
        "      <th>letter_earned</th>\n",
        "      <th>year_earned</th>\n",
        "      <th>letter_prior</th>\n",
        "      <th>year_prior</th>\n",
        "      <th>start_date</th>\n",
        "    </tr>\n",
        "  </thead>\n",
        "  <tbody>\n",
        "    <tr>\n",
        "      <th>0 </th>\n",
        "      <td> 36700</td>\n",
        "      <td> Epee</td>\n",
        "      <td> 1143894</td>\n",
        "      <td> 33.899089</td>\n",
        "      <td> 3.564877</td>\n",
        "      <td> E</td>\n",
        "      <td> 2010</td>\n",
        "      <td> E</td>\n",
        "      <td> 2009</td>\n",
        "      <td> 2010-01-02</td>\n",
        "    </tr>\n",
        "    <tr>\n",
        "      <th>1 </th>\n",
        "      <td> 28684</td>\n",
        "      <td> Epee</td>\n",
        "      <td> 1143895</td>\n",
        "      <td> 35.607922</td>\n",
        "      <td> 4.261052</td>\n",
        "      <td> E</td>\n",
        "      <td> 2010</td>\n",
        "      <td> E</td>\n",
        "      <td> 2009</td>\n",
        "      <td> 2010-01-02</td>\n",
        "    </tr>\n",
        "    <tr>\n",
        "      <th>2 </th>\n",
        "      <td> 41919</td>\n",
        "      <td> Epee</td>\n",
        "      <td> 1143896</td>\n",
        "      <td> 35.839810</td>\n",
        "      <td> 3.539772</td>\n",
        "      <td> E</td>\n",
        "      <td> 2010</td>\n",
        "      <td> E</td>\n",
        "      <td> 2009</td>\n",
        "      <td> 2010-01-02</td>\n",
        "    </tr>\n",
        "    <tr>\n",
        "      <th>3 </th>\n",
        "      <td> 47187</td>\n",
        "      <td> Epee</td>\n",
        "      <td> 1143896</td>\n",
        "      <td> 41.434908</td>\n",
        "      <td> 3.639822</td>\n",
        "      <td> D</td>\n",
        "      <td> 2010</td>\n",
        "      <td> U</td>\n",
        "      <td>  NaN</td>\n",
        "      <td> 2010-01-02</td>\n",
        "    </tr>\n",
        "    <tr>\n",
        "      <th>5 </th>\n",
        "      <td> 17427</td>\n",
        "      <td> Epee</td>\n",
        "      <td> 1144267</td>\n",
        "      <td> 26.484223</td>\n",
        "      <td> 4.438033</td>\n",
        "      <td> E</td>\n",
        "      <td> 2010</td>\n",
        "      <td> E</td>\n",
        "      <td> 2009</td>\n",
        "      <td> 2010-01-02</td>\n",
        "    </tr>\n",
        "    <tr>\n",
        "      <th>6 </th>\n",
        "      <td> 37774</td>\n",
        "      <td> Epee</td>\n",
        "      <td> 1144270</td>\n",
        "      <td> 28.674449</td>\n",
        "      <td> 4.697997</td>\n",
        "      <td> E</td>\n",
        "      <td> 2010</td>\n",
        "      <td> U</td>\n",
        "      <td>  NaN</td>\n",
        "      <td> 2010-01-02</td>\n",
        "    </tr>\n",
        "    <tr>\n",
        "      <th>7 </th>\n",
        "      <td> 18540</td>\n",
        "      <td> Epee</td>\n",
        "      <td> 1144274</td>\n",
        "      <td> 29.675675</td>\n",
        "      <td> 3.805177</td>\n",
        "      <td> D</td>\n",
        "      <td> 2010</td>\n",
        "      <td> U</td>\n",
        "      <td>  NaN</td>\n",
        "      <td> 2010-01-02</td>\n",
        "    </tr>\n",
        "    <tr>\n",
        "      <th>8 </th>\n",
        "      <td> 51320</td>\n",
        "      <td> Epee</td>\n",
        "      <td> 1144461</td>\n",
        "      <td> 28.733292</td>\n",
        "      <td> 4.338770</td>\n",
        "      <td> D</td>\n",
        "      <td> 2010</td>\n",
        "      <td> D</td>\n",
        "      <td> 2009</td>\n",
        "      <td> 2010-01-02</td>\n",
        "    </tr>\n",
        "    <tr>\n",
        "      <th>9 </th>\n",
        "      <td>   557</td>\n",
        "      <td> Epee</td>\n",
        "      <td> 1144463</td>\n",
        "      <td> 28.288185</td>\n",
        "      <td> 3.805170</td>\n",
        "      <td> E</td>\n",
        "      <td> 2010</td>\n",
        "      <td> E</td>\n",
        "      <td> 2007</td>\n",
        "      <td> 2010-01-02</td>\n",
        "    </tr>\n",
        "    <tr>\n",
        "      <th>10</th>\n",
        "      <td> 30327</td>\n",
        "      <td> Epee</td>\n",
        "      <td> 1144465</td>\n",
        "      <td> 26.778145</td>\n",
        "      <td> 4.058117</td>\n",
        "      <td> D</td>\n",
        "      <td> 2010</td>\n",
        "      <td> E</td>\n",
        "      <td> 2008</td>\n",
        "      <td> 2010-01-02</td>\n",
        "    </tr>\n",
        "  </tbody>\n",
        "</table>\n",
        "</div>"
       ],
       "metadata": {},
       "output_type": "pyout",
       "prompt_number": 3,
       "text": [
        "    fencerid weapon   boutid      ts_mu  ts_sigma letter_earned  year_earned  \\\n",
        "0      36700   Epee  1143894  33.899089  3.564877             E         2010   \n",
        "1      28684   Epee  1143895  35.607922  4.261052             E         2010   \n",
        "2      41919   Epee  1143896  35.839810  3.539772             E         2010   \n",
        "3      47187   Epee  1143896  41.434908  3.639822             D         2010   \n",
        "5      17427   Epee  1144267  26.484223  4.438033             E         2010   \n",
        "6      37774   Epee  1144270  28.674449  4.697997             E         2010   \n",
        "7      18540   Epee  1144274  29.675675  3.805177             D         2010   \n",
        "8      51320   Epee  1144461  28.733292  4.338770             D         2010   \n",
        "9        557   Epee  1144463  28.288185  3.805170             E         2010   \n",
        "10     30327   Epee  1144465  26.778145  4.058117             D         2010   \n",
        "\n",
        "   letter_prior  year_prior  start_date  \n",
        "0             E        2009  2010-01-02  \n",
        "1             E        2009  2010-01-02  \n",
        "2             E        2009  2010-01-02  \n",
        "3             U         NaN  2010-01-02  \n",
        "5             E        2009  2010-01-02  \n",
        "6             U         NaN  2010-01-02  \n",
        "7             U         NaN  2010-01-02  \n",
        "8             D        2009  2010-01-02  \n",
        "9             E        2007  2010-01-02  \n",
        "10            E        2008  2010-01-02  "
       ]
      }
     ],
     "prompt_number": 3
    },
    {
     "cell_type": "code",
     "collapsed": false,
     "input": [
      "d.groupby([\"letter_prior\", \"letter_earned\"])[\"ts_mu\"].mean()"
     ],
     "language": "python",
     "metadata": {},
     "outputs": [
      {
       "metadata": {},
       "output_type": "pyout",
       "prompt_number": 4,
       "text": [
        "letter_prior  letter_earned\n",
        "A             A                38.280905\n",
        "B             A                35.415660\n",
        "              B                33.871240\n",
        "C             A                35.064999\n",
        "              B                32.309820\n",
        "              C                31.522063\n",
        "D             A                33.193162\n",
        "              B                31.598855\n",
        "              C                30.163281\n",
        "              D                29.858050\n",
        "E             A                35.111265\n",
        "              B                30.788647\n",
        "              C                29.323403\n",
        "              D                28.501594\n",
        "              E                27.877337\n",
        "U             A                40.177234\n",
        "              B                33.811831\n",
        "              C                30.703815\n",
        "              D                28.385845\n",
        "              E                26.964192\n",
        "Name: ts_mu, dtype: float64"
       ]
      }
     ],
     "prompt_number": 4
    },
    {
     "cell_type": "code",
     "collapsed": false,
     "input": [
      "d.groupby([\"letter_prior\", \"letter_earned\"])[\"ts_mu\"].std()"
     ],
     "language": "python",
     "metadata": {},
     "outputs": [
      {
       "metadata": {},
       "output_type": "pyout",
       "prompt_number": 40,
       "text": [
        "letter_prior  letter_earned\n",
        "A             A                3.536646\n",
        "B             A                3.627372\n",
        "              B                3.342888\n",
        "C             A                2.352121\n",
        "              B                2.950265\n",
        "              C                3.183343\n",
        "D             B                3.943957\n",
        "              C                2.502285\n",
        "              D                2.747891\n",
        "E             A                7.493306\n",
        "              B                2.007894\n",
        "              C                2.893972\n",
        "              D                3.025876\n",
        "              E                3.301571\n",
        "U             A                2.695760\n",
        "              B                4.067854\n",
        "              C                5.465276\n",
        "              D                4.361015\n",
        "              E                4.073495\n",
        "Name: ts_mu, dtype: float64"
       ]
      }
     ],
     "prompt_number": 40
    },
    {
     "cell_type": "code",
     "collapsed": false,
     "input": [
      "d.groupby([\"letter_prior\", \"letter_earned\"])[\"ts_mu\"].count()"
     ],
     "language": "python",
     "metadata": {},
     "outputs": [
      {
       "metadata": {},
       "output_type": "pyout",
       "prompt_number": 41,
       "text": [
        "letter_prior  letter_earned\n",
        "A             A                 141\n",
        "B             A                  63\n",
        "              B                 220\n",
        "C             A                   8\n",
        "              B                 179\n",
        "              C                 442\n",
        "D             B                  26\n",
        "              C                 377\n",
        "              D                 498\n",
        "E             A                   2\n",
        "              B                   4\n",
        "              C                 118\n",
        "              D                 613\n",
        "              E                 952\n",
        "U             A                   5\n",
        "              B                  15\n",
        "              C                  44\n",
        "              D                 209\n",
        "              E                1735\n",
        "Name: ts_mu, dtype: int64"
       ]
      }
     ],
     "prompt_number": 41
    },
    {
     "cell_type": "code",
     "collapsed": false,
     "input": [
      "e = pd.read_csv(\"../datasets/latest_ts_vs_promotions.txt\", sep=\"|\", \n",
      "                header=None, \n",
      "                names=[\"fencerid\", \"weapon\", \"boutid\", \"ts_mu\", \"ts_sigma\", \"start_date\", \"letter_earned\", \"year_earned\"],\n",
      "                parse_dates=True)\n",
      "e = e[e[\"weapon\"] == 'Epee']\n",
      "e[\"letter_earned\"] = e[\"letter_earned\"].fillna(\"U\")\n",
      "e.head(10)"
     ],
     "language": "python",
     "metadata": {},
     "outputs": [
      {
       "html": [
        "<div style=\"max-height:1000px;max-width:1500px;overflow:auto;\">\n",
        "<table border=\"1\" class=\"dataframe\">\n",
        "  <thead>\n",
        "    <tr style=\"text-align: right;\">\n",
        "      <th></th>\n",
        "      <th>fencerid</th>\n",
        "      <th>weapon</th>\n",
        "      <th>boutid</th>\n",
        "      <th>ts_mu</th>\n",
        "      <th>ts_sigma</th>\n",
        "      <th>start_date</th>\n",
        "      <th>letter_earned</th>\n",
        "      <th>year_earned</th>\n",
        "    </tr>\n",
        "  </thead>\n",
        "  <tbody>\n",
        "    <tr>\n",
        "      <th>0 </th>\n",
        "      <td>  15</td>\n",
        "      <td> Epee</td>\n",
        "      <td> 3552547</td>\n",
        "      <td> 33.166564</td>\n",
        "      <td> 0.921026</td>\n",
        "      <td>        NaN</td>\n",
        "      <td> U</td>\n",
        "      <td>  NaN</td>\n",
        "    </tr>\n",
        "    <tr>\n",
        "      <th>1 </th>\n",
        "      <td>  19</td>\n",
        "      <td> Epee</td>\n",
        "      <td> 3788255</td>\n",
        "      <td> 27.896017</td>\n",
        "      <td> 0.825640</td>\n",
        "      <td> 2015-02-06</td>\n",
        "      <td> D</td>\n",
        "      <td> 2015</td>\n",
        "    </tr>\n",
        "    <tr>\n",
        "      <th>5 </th>\n",
        "      <td>  41</td>\n",
        "      <td> Epee</td>\n",
        "      <td> 3765554</td>\n",
        "      <td> 26.758361</td>\n",
        "      <td> 3.407093</td>\n",
        "      <td>        NaN</td>\n",
        "      <td> U</td>\n",
        "      <td>  NaN</td>\n",
        "    </tr>\n",
        "    <tr>\n",
        "      <th>8 </th>\n",
        "      <td>  72</td>\n",
        "      <td> Epee</td>\n",
        "      <td> 3856644</td>\n",
        "      <td> 26.465189</td>\n",
        "      <td> 0.831097</td>\n",
        "      <td> 2011-05-13</td>\n",
        "      <td> B</td>\n",
        "      <td> 2011</td>\n",
        "    </tr>\n",
        "    <tr>\n",
        "      <th>9 </th>\n",
        "      <td>  73</td>\n",
        "      <td> Epee</td>\n",
        "      <td> 3762655</td>\n",
        "      <td> 30.089180</td>\n",
        "      <td> 0.825265</td>\n",
        "      <td>        NaN</td>\n",
        "      <td> U</td>\n",
        "      <td>  NaN</td>\n",
        "    </tr>\n",
        "    <tr>\n",
        "      <th>10</th>\n",
        "      <td>  87</td>\n",
        "      <td> Epee</td>\n",
        "      <td> 3607851</td>\n",
        "      <td> 33.912419</td>\n",
        "      <td> 0.979126</td>\n",
        "      <td> 2014-12-20</td>\n",
        "      <td> B</td>\n",
        "      <td> 2014</td>\n",
        "    </tr>\n",
        "    <tr>\n",
        "      <th>13</th>\n",
        "      <td>  91</td>\n",
        "      <td> Epee</td>\n",
        "      <td> 3868558</td>\n",
        "      <td> 34.252247</td>\n",
        "      <td> 1.481780</td>\n",
        "      <td> 2013-05-03</td>\n",
        "      <td> C</td>\n",
        "      <td> 2013</td>\n",
        "    </tr>\n",
        "    <tr>\n",
        "      <th>15</th>\n",
        "      <td> 126</td>\n",
        "      <td> Epee</td>\n",
        "      <td> 3665561</td>\n",
        "      <td> 32.810254</td>\n",
        "      <td> 0.860987</td>\n",
        "      <td> 2012-09-14</td>\n",
        "      <td> B</td>\n",
        "      <td> 2012</td>\n",
        "    </tr>\n",
        "    <tr>\n",
        "      <th>17</th>\n",
        "      <td> 149</td>\n",
        "      <td> Epee</td>\n",
        "      <td> 3856648</td>\n",
        "      <td> 33.914635</td>\n",
        "      <td> 4.069176</td>\n",
        "      <td> 2015-06-06</td>\n",
        "      <td> D</td>\n",
        "      <td> 2015</td>\n",
        "    </tr>\n",
        "    <tr>\n",
        "      <th>20</th>\n",
        "      <td> 154</td>\n",
        "      <td> Epee</td>\n",
        "      <td> 3682569</td>\n",
        "      <td> 24.305468</td>\n",
        "      <td> 0.860967</td>\n",
        "      <td> 2014-01-24</td>\n",
        "      <td> D</td>\n",
        "      <td> 2014</td>\n",
        "    </tr>\n",
        "  </tbody>\n",
        "</table>\n",
        "</div>"
       ],
       "metadata": {},
       "output_type": "pyout",
       "prompt_number": 5,
       "text": [
        "    fencerid weapon   boutid      ts_mu  ts_sigma  start_date letter_earned  \\\n",
        "0         15   Epee  3552547  33.166564  0.921026         NaN             U   \n",
        "1         19   Epee  3788255  27.896017  0.825640  2015-02-06             D   \n",
        "5         41   Epee  3765554  26.758361  3.407093         NaN             U   \n",
        "8         72   Epee  3856644  26.465189  0.831097  2011-05-13             B   \n",
        "9         73   Epee  3762655  30.089180  0.825265         NaN             U   \n",
        "10        87   Epee  3607851  33.912419  0.979126  2014-12-20             B   \n",
        "13        91   Epee  3868558  34.252247  1.481780  2013-05-03             C   \n",
        "15       126   Epee  3665561  32.810254  0.860987  2012-09-14             B   \n",
        "17       149   Epee  3856648  33.914635  4.069176  2015-06-06             D   \n",
        "20       154   Epee  3682569  24.305468  0.860967  2014-01-24             D   \n",
        "\n",
        "    year_earned  \n",
        "0           NaN  \n",
        "1          2015  \n",
        "5           NaN  \n",
        "8          2011  \n",
        "9           NaN  \n",
        "10         2014  \n",
        "13         2013  \n",
        "15         2012  \n",
        "17         2015  \n",
        "20         2014  "
       ]
      }
     ],
     "prompt_number": 5
    },
    {
     "cell_type": "code",
     "collapsed": false,
     "input": [
      "e.groupby(\"letter_earned\")[\"ts_mu\"].mean()"
     ],
     "language": "python",
     "metadata": {},
     "outputs": [
      {
       "metadata": {},
       "output_type": "pyout",
       "prompt_number": 6,
       "text": [
        "letter_earned\n",
        "A                37.718229\n",
        "B                33.545297\n",
        "C                31.007270\n",
        "D                29.052714\n",
        "E                27.445684\n",
        "U                21.600130\n",
        "Name: ts_mu, dtype: float64"
       ]
      }
     ],
     "prompt_number": 6
    },
    {
     "cell_type": "code",
     "collapsed": false,
     "input": [
      "e.groupby(\"letter_earned\")[\"ts_mu\"].std()"
     ],
     "language": "python",
     "metadata": {},
     "outputs": [
      {
       "metadata": {},
       "output_type": "pyout",
       "prompt_number": 7,
       "text": [
        "letter_earned\n",
        "A                3.603359\n",
        "B                3.261352\n",
        "C                3.461301\n",
        "D                3.410701\n",
        "E                4.189496\n",
        "U                5.611463\n",
        "Name: ts_mu, dtype: float64"
       ]
      }
     ],
     "prompt_number": 7
    },
    {
     "cell_type": "code",
     "collapsed": false,
     "input": [
      "pd.DataFrame(data=e.groupby(\"letter_earned\")[\"ts_mu\"].count())[::-1].plot(kind=\"bar\",)"
     ],
     "language": "python",
     "metadata": {},
     "outputs": [
      {
       "metadata": {},
       "output_type": "pyout",
       "prompt_number": 164,
       "text": [
        "<matplotlib.axes.AxesSubplot at 0x1135c9350>"
       ]
      },
      {
       "metadata": {},
       "output_type": "display_data",
       "png": "[encoded data removed]",
       "text": [
        "<matplotlib.figure.Figure at 0x113635550>"
       ]
      }
     ],
     "prompt_number": 164
    },
    {
     "cell_type": "code",
     "collapsed": false,
     "input": [
      "pd.DataFrame(data=e.groupby(\"letter_earned\")[\"ts_mu\"].count()).plot(kind=\"pie\", y=\"ts_mu\", figsize=(5, 5), legend=False, autopct='%1.1f%%')"
     ],
     "language": "python",
     "metadata": {},
     "outputs": [
      {
       "metadata": {},
       "output_type": "pyout",
       "prompt_number": 161,
       "text": [
        "<matplotlib.axes.AxesSubplot at 0x113172690>"
       ]
      },
      {
       "metadata": {},
       "output_type": "display_data",
       "png": "[encoded data removed]",
       "text": [
        "<matplotlib.figure.Figure at 0x1135917d0>"
       ]
      }
     ],
     "prompt_number": 161
    },
    {
     "cell_type": "code",
     "collapsed": false,
     "input": [
      "print e.groupby(\"letter_earned\")[\"ts_mu\"].quantile([0.05, 0.5, 0.95])\n",
      "e.pivot(index=\"fencerid\", columns=\"letter_earned\", values=\"ts_mu\").plot(kind=\"box\")"
     ],
     "language": "python",
     "metadata": {},
     "outputs": [
      {
       "output_type": "stream",
       "stream": "stdout",
       "text": [
        "letter_earned      \n",
        "A              0.05    32.099594\n",
        "               0.50    37.656420\n",
        "               0.95    43.293333\n",
        "B              0.05    28.797785\n",
        "               0.50    33.358300\n",
        "               0.95    39.096393\n",
        "C              0.05    25.541658\n",
        "               0.50    30.967779\n",
        "               0.95    36.403005\n",
        "D              0.05    23.781738\n",
        "               0.50    29.137431\n",
        "               0.95    34.637782\n",
        "E              0.05    21.311130\n",
        "               0.50    27.051357\n",
        "               0.95    34.763665\n",
        "U              0.05    12.728149\n",
        "               0.50    21.352326\n",
        "               0.95    31.585368\n",
        "dtype: float64\n"
       ]
      },
      {
       "metadata": {},
       "output_type": "pyout",
       "prompt_number": 46,
       "text": [
        "<matplotlib.axes.AxesSubplot at 0x10ddf96d0>"
       ]
      },
      {
       "metadata": {},
       "output_type": "display_data",
       "png": "[encoded data removed]",
       "text": [
        "<matplotlib.figure.Figure at 0x10de27b50>"
       ]
      }
     ],
     "prompt_number": 46
    },
    {
     "cell_type": "code",
     "collapsed": false,
     "input": [
      "#import ggplot as gg\n",
      "\n",
      "q = pd.DataFrame(e.groupby(\"letter_earned\")[\"ts_mu\"].quantile([0.05, 0.5, 0.95]), columns=[\"letter_earned\"])\\\n",
      "    .unstack(\"letter_earned\")\n",
      "q.rename(columns={\"letter_earned\" : \"TrueSkill\"}, inplace=True)\n",
      "q.index.names = [\"quantile\"]\n",
      "order = q[\"TrueSkill\"].columns.tolist()[::-1]\n",
      "q = q[\"TrueSkill\"][order]\n",
      "q.plot(kind=\"box\", figsize=(8,6), title=\"TrueSkill distribution vs Letter Rating\").set_ylabel(\"TrueSkill\")"
     ],
     "language": "python",
     "metadata": {},
     "outputs": [
      {
       "metadata": {},
       "output_type": "pyout",
       "prompt_number": 133,
       "text": [
        "<matplotlib.text.Text at 0x112298750>"
       ]
      },
      {
       "metadata": {},
       "output_type": "display_data",
       "png": "[encoded data removed]",
       "text": [
        "<matplotlib.figure.Figure at 0x111e15210>"
       ]
      }
     ],
     "prompt_number": 133
    },
    {
     "cell_type": "code",
     "collapsed": false,
     "input": [
      "q = pd.DataFrame(e.groupby(\"letter_earned\")[\"ts_mu\"].quantile([0.05, 0.5, 0.95])).stack()\n",
      "q.rename(index=, columns={0: \"test\"}, inplace=True)"
     ],
     "language": "python",
     "metadata": {},
     "outputs": [
      {
       "metadata": {},
       "output_type": "pyout",
       "prompt_number": 107,
       "text": [
        "letter_earned         \n",
        "A              0.05  0    32.099594\n",
        "               0.50  0    37.656420\n",
        "               0.95  0    43.293333\n",
        "B              0.05  0    28.797785\n",
        "               0.50  0    33.358300\n",
        "               0.95  0    39.096393\n",
        "C              0.05  0    25.541658\n",
        "               0.50  0    30.967779\n",
        "               0.95  0    36.403005\n",
        "D              0.05  0    23.781738\n",
        "               0.50  0    29.137431\n",
        "               0.95  0    34.637782\n",
        "E              0.05  0    21.311130\n",
        "               0.50  0    27.051357\n",
        "               0.95  0    34.763665\n",
        "U              0.05  0    12.728149\n",
        "               0.50  0    21.352326\n",
        "               0.95  0    31.585368\n",
        "dtype: float64"
       ]
      }
     ],
     "prompt_number": 107
    },
    {
     "cell_type": "code",
     "collapsed": false,
     "input": [
      "e.groupby([\"letter_earned\", \"year_earned\"])[\"ts_mu\"].mean()"
     ],
     "language": "python",
     "metadata": {},
     "outputs": [
      {
       "metadata": {},
       "output_type": "pyout",
       "prompt_number": 34,
       "text": [
        "letter_earned  year_earned\n",
        "A              2010           42.839526\n",
        "               2011           44.477929\n",
        "               2012           45.656463\n",
        "               2013           45.318727\n",
        "               2014           43.238382\n",
        "               2015           42.814478\n",
        "B              2010           39.126927\n",
        "               2011           43.960681\n",
        "               2012           39.516949\n",
        "               2013           40.289527\n",
        "               2014           38.287667\n",
        "               2015           37.592626\n",
        "C              2010           37.005216\n",
        "               2011           37.122957\n",
        "               2012           36.657607\n",
        "               2013           35.562530\n",
        "               2014           35.626229\n",
        "               2015           34.485287\n",
        "D              2010           35.964288\n",
        "               2011           34.531831\n",
        "               2012           33.731098\n",
        "               2013           32.946622\n",
        "               2014           32.411235\n",
        "               2015           32.153822\n",
        "E              2010           32.635375\n",
        "               2011           31.415971\n",
        "               2012           30.485864\n",
        "               2013           29.901865\n",
        "               2014           29.659070\n",
        "               2015           29.115686\n",
        "Name: ts_mu, dtype: float64"
       ]
      }
     ],
     "prompt_number": 34
    },
    {
     "cell_type": "code",
     "collapsed": false,
     "input": [
      "e.groupby([\"year_earned\"])[\"ts_mu\"].mean()"
     ],
     "language": "python",
     "metadata": {},
     "outputs": [
      {
       "metadata": {},
       "output_type": "pyout",
       "prompt_number": 53,
       "text": [
        "year_earned\n",
        "2010           32.696035\n",
        "2011           32.563953\n",
        "2012           31.340647\n",
        "2013           31.410990\n",
        "2014           31.063119\n",
        "2015           30.744309\n",
        "Name: ts_mu, dtype: float64"
       ]
      }
     ],
     "prompt_number": 53
    },
    {
     "cell_type": "code",
     "collapsed": false,
     "input": [
      "e[\"ts_mu\"].hist(bins=100)"
     ],
     "language": "python",
     "metadata": {},
     "outputs": [
      {
       "metadata": {},
       "output_type": "pyout",
       "prompt_number": 35,
       "text": [
        "<matplotlib.axes.AxesSubplot at 0x115398c50>"
       ]
      },
      {
       "metadata": {},
       "output_type": "display_data",
       "png": "[encoded data removed]",
       "text": [
        "<matplotlib.figure.Figure at 0x114cea7d0>"
       ]
      }
     ],
     "prompt_number": 35
    },
    {
     "cell_type": "code",
     "collapsed": false,
     "input": [
      "e.sort(\"ts_mu\").tail()"
     ],
     "language": "python",
     "metadata": {},
     "outputs": [
      {
       "html": [
        "<div style=\"max-height:1000px;max-width:1500px;overflow:auto;\">\n",
        "<table border=\"1\" class=\"dataframe\">\n",
        "  <thead>\n",
        "    <tr style=\"text-align: right;\">\n",
        "      <th></th>\n",
        "      <th>fencerid</th>\n",
        "      <th>weapon</th>\n",
        "      <th>boutid</th>\n",
        "      <th>ts_mu</th>\n",
        "      <th>ts_sigma</th>\n",
        "      <th>start_date</th>\n",
        "      <th>letter_earned</th>\n",
        "      <th>year_earned</th>\n",
        "    </tr>\n",
        "  </thead>\n",
        "  <tbody>\n",
        "    <tr>\n",
        "      <th>3483 </th>\n",
        "      <td>  43827</td>\n",
        "      <td> Epee</td>\n",
        "      <td> 3609320</td>\n",
        "      <td> 46.443830</td>\n",
        "      <td> 1.416870</td>\n",
        "      <td> 2011-09-25</td>\n",
        "      <td> B</td>\n",
        "      <td> 2011</td>\n",
        "    </tr>\n",
        "    <tr>\n",
        "      <th>17842</th>\n",
        "      <td> 116742</td>\n",
        "      <td> Epee</td>\n",
        "      <td> 3659139</td>\n",
        "      <td> 46.775834</td>\n",
        "      <td> 2.638130</td>\n",
        "      <td> 2015-01-17</td>\n",
        "      <td> A</td>\n",
        "      <td> 2015</td>\n",
        "    </tr>\n",
        "    <tr>\n",
        "      <th>5079 </th>\n",
        "      <td>  63074</td>\n",
        "      <td> Epee</td>\n",
        "      <td> 3554280</td>\n",
        "      <td> 47.274443</td>\n",
        "      <td> 1.590223</td>\n",
        "      <td> 2012-06-10</td>\n",
        "      <td> A</td>\n",
        "      <td> 2012</td>\n",
        "    </tr>\n",
        "    <tr>\n",
        "      <th>20021</th>\n",
        "      <td> 119863</td>\n",
        "      <td> Epee</td>\n",
        "      <td> 3711607</td>\n",
        "      <td> 47.839121</td>\n",
        "      <td> 2.753101</td>\n",
        "      <td> 2015-02-22</td>\n",
        "      <td> A</td>\n",
        "      <td> 2015</td>\n",
        "    </tr>\n",
        "    <tr>\n",
        "      <th>4222 </th>\n",
        "      <td>  53197</td>\n",
        "      <td> Epee</td>\n",
        "      <td> 3431315</td>\n",
        "      <td> 48.794906</td>\n",
        "      <td> 1.637883</td>\n",
        "      <td> 2011-03-26</td>\n",
        "      <td> B</td>\n",
        "      <td> 2011</td>\n",
        "    </tr>\n",
        "  </tbody>\n",
        "</table>\n",
        "</div>"
       ],
       "metadata": {},
       "output_type": "pyout",
       "prompt_number": 16,
       "text": [
        "       fencerid weapon   boutid      ts_mu  ts_sigma  start_date  \\\n",
        "3483      43827   Epee  3609320  46.443830  1.416870  2011-09-25   \n",
        "17842    116742   Epee  3659139  46.775834  2.638130  2015-01-17   \n",
        "5079      63074   Epee  3554280  47.274443  1.590223  2012-06-10   \n",
        "20021    119863   Epee  3711607  47.839121  2.753101  2015-02-22   \n",
        "4222      53197   Epee  3431315  48.794906  1.637883  2011-03-26   \n",
        "\n",
        "      letter_earned  year_earned  \n",
        "3483              B         2011  \n",
        "17842             A         2015  \n",
        "5079              A         2012  \n",
        "20021             A         2015  \n",
        "4222              B         2011  "
       ]
      }
     ],
     "prompt_number": 16
    },
    {
     "cell_type": "code",
     "collapsed": false,
     "input": [],
     "language": "python",
     "metadata": {},
     "outputs": []
    }
   ],
   "metadata": {}
  }
 ]
}