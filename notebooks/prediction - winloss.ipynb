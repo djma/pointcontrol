{
 "metadata": {
  "name": "",
  "signature": "sha256:3fc0dc57acc6c9afab4d6ee0f89b8e41419acb4c3ef8b29b6aa0ca194304bcac"
 },
 "nbformat": 3,
 "nbformat_minor": 0,
 "worksheets": []
}