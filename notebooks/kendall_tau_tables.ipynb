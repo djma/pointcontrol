{
 "metadata": {
  "name": "",
  "signature": "sha256:10861f99f214d07135cb4d794f5ebc34aedc8574d65d0c74afcb56c87931288a"
 },
 "nbformat": 3,
 "nbformat_minor": 0,
 "worksheets": [
  {
   "cells": [
    {
     "cell_type": "code",
     "collapsed": false,
     "input": [
      "import sqlite3\n",
      "import pandas as pd\n",
      "import numpy as np\n",
      "from scipy import stats"
     ],
     "language": "python",
     "metadata": {},
     "outputs": [],
     "prompt_number": 16
    },
    {
     "cell_type": "code",
     "collapsed": false,
     "input": [
      "d = pd.read_pickle(\"./epee_events_20140620_20150626_prediction.pickle\")\n",
      "d.rename(columns={\"letter_tau\" : \"le_tau\", \"mu_tau\" : \"ts_tau\"}, inplace=True)\n",
      "\n",
      "d[\"le_tau_n\"] = d[\"le_tau\"] * d[\"num_fencers\"]\n",
      "d[\"ts_tau_n\"] = d[\"ts_tau\"] * d[\"num_fencers\"]\n",
      "d[\"le_tau_nlogn\"] = d[\"le_tau\"] * d[\"num_fencers\"] * np.log(d[\"num_fencers\"])\n",
      "d[\"ts_tau_nlogn\"] = d[\"ts_tau\"] * d[\"num_fencers\"] * np.log(d[\"num_fencers\"])\n",
      "d[\"nlogn\"] = d[\"num_fencers\"] * np.log(d[\"num_fencers\"])\n",
      "print d[[\"le_tau\", \"ts_tau\"]].count()\n",
      "print d[[\"le_tau\", \"ts_tau\"]].median()\n",
      "print d[[\"le_tau\", \"ts_tau\"]].mean()\n",
      "print d[[\"le_tau_n\", \"ts_tau_n\"]].mean() / d[\"num_fencers\"].mean()\n",
      "print d[[\"le_tau_nlogn\", \"ts_tau_nlogn\"]].mean() / d[\"nlogn\"].mean()\n",
      "\n",
      "from scipy.stats import ttest_ind\n",
      "print ttest_ind(d[\"ts_tau\"].dropna(), d[\"le_tau\"].dropna())"
     ],
     "language": "python",
     "metadata": {},
     "outputs": [
      {
       "output_type": "stream",
       "stream": "stdout",
       "text": [
        "le_tau    2412\n",
        "ts_tau    2412\n",
        "dtype: int64\n",
        "le_tau    0.309890\n",
        "ts_tau    0.473051\n",
        "dtype: float64\n",
        "le_tau    0.240983\n",
        "ts_tau    0.397267\n",
        "dtype: float64\n",
        "le_tau_n    0.319021\n",
        "ts_tau_n    0.459272\n",
        "dtype: float64\n",
        "le_tau_nlogn    0.342674\n",
        "ts_tau_nlogn    0.476592\n",
        "dtype: float64\n",
        "(15.158837652736096, 9.6298491629814084e-51)\n"
       ]
      }
     ],
     "prompt_number": 36
    },
    {
     "cell_type": "code",
     "collapsed": false,
     "input": [
      "d = pd.read_pickle(\"./epee_events_20140620_20150626_prediction_tie_adjusted.pickle\")\n",
      "d.rename(columns={\"letter_tau\" : \"le_tau\", \"mu_tau\" : \"ts_tau\"}, inplace=True)\n",
      "\n",
      "d[\"le_tau_n\"] = d[\"le_tau\"] * d[\"num_fencers\"]\n",
      "d[\"ts_tau_n\"] = d[\"ts_tau\"] * d[\"num_fencers\"]\n",
      "d[\"le_tau_nlogn\"] = d[\"le_tau\"] * d[\"num_fencers\"] * np.log(d[\"num_fencers\"])\n",
      "d[\"ts_tau_nlogn\"] = d[\"ts_tau\"] * d[\"num_fencers\"] * np.log(d[\"num_fencers\"])\n",
      "d[\"nlogn\"] = d[\"num_fencers\"] * np.log(d[\"num_fencers\"])\n",
      "print d[[\"le_tau\", \"ts_tau\"]].count()\n",
      "print d[[\"le_tau\", \"ts_tau\"]].median()\n",
      "print d[[\"le_tau\", \"ts_tau\"]].mean()\n",
      "print d[[\"le_tau_n\", \"ts_tau_n\"]].mean() / d[\"num_fencers\"].mean()\n",
      "print d[[\"le_tau_nlogn\", \"ts_tau_nlogn\"]].mean() / d[\"nlogn\"].mean()\n",
      "\n",
      "from scipy.stats import ttest_ind\n",
      "print ttest_ind(d[\"ts_tau\"].dropna(), d[\"le_tau\"].dropna())"
     ],
     "language": "python",
     "metadata": {},
     "outputs": [
      {
       "output_type": "stream",
       "stream": "stdout",
       "text": [
        "le_tau    2469\n",
        "ts_tau    2469\n",
        "dtype: int64\n",
        "le_tau    0.356348\n",
        "ts_tau    0.465222\n",
        "dtype: float64\n",
        "le_tau    0.305092\n",
        "ts_tau    0.387848\n",
        "dtype: float64\n",
        "le_tau_n    0.380025\n",
        "ts_tau_n    0.449494\n",
        "dtype: float64\n",
        "le_tau_nlogn    0.401957\n",
        "ts_tau_nlogn    0.466544\n",
        "dtype: float64\n",
        "(9.1784067795818878, 6.2950754728968122e-20)\n"
       ]
      }
     ],
     "prompt_number": 33
    },
    {
     "cell_type": "code",
     "collapsed": false,
     "input": [
      "d = pd.read_pickle(\"./epee_events_20140620_20150626_prediction_tie_adjusted.pickle\")\n",
      "d.rename(columns={\"letter_tau\" : \"le_tau\", \"mu_tau\" : \"ts_tau\"}, inplace=True)\n",
      "d = d[d[\"le_tau\"] != 0.0]\n",
      "\n",
      "d[\"le_tau_n\"] = d[\"le_tau\"] * d[\"num_fencers\"]\n",
      "d[\"ts_tau_n\"] = d[\"ts_tau\"] * d[\"num_fencers\"]\n",
      "d[\"le_tau_nlogn\"] = d[\"le_tau\"] * d[\"num_fencers\"] * np.log(d[\"num_fencers\"])\n",
      "d[\"ts_tau_nlogn\"] = d[\"ts_tau\"] * d[\"num_fencers\"] * np.log(d[\"num_fencers\"])\n",
      "d[\"nlogn\"] = d[\"num_fencers\"] * np.log(d[\"num_fencers\"])\n",
      "print d[[\"le_tau\", \"ts_tau\"]].count()\n",
      "print d[[\"le_tau\", \"ts_tau\"]].median()\n",
      "print d[[\"le_tau\", \"ts_tau\"]].mean()\n",
      "print d[[\"le_tau_n\", \"ts_tau_n\"]].mean() / d[\"num_fencers\"].mean()\n",
      "print d[[\"le_tau_nlogn\", \"ts_tau_nlogn\"]].mean() / d[\"nlogn\"].mean()\n",
      "\n",
      "from scipy.stats import ttest_ind\n",
      "print ttest_ind(d[\"ts_tau\"].dropna(), d[\"le_tau\"].dropna())"
     ],
     "language": "python",
     "metadata": {},
     "outputs": [
      {
       "output_type": "stream",
       "stream": "stdout",
       "text": [
        "le_tau    1662\n",
        "ts_tau    1662\n",
        "dtype: int64\n",
        "le_tau    0.478119\n",
        "ts_tau    0.528125\n",
        "dtype: float64\n",
        "le_tau    0.453233\n",
        "ts_tau    0.495314\n",
        "dtype: float64\n",
        "le_tau_n    0.458071\n",
        "ts_tau_n    0.505439\n",
        "dtype: float64\n",
        "le_tau_nlogn    0.460957\n",
        "ts_tau_nlogn    0.508653\n",
        "dtype: float64\n",
        "(5.1032401806993661, 3.5263219818711274e-07)\n"
       ]
      }
     ],
     "prompt_number": 34
    },
    {
     "cell_type": "code",
     "collapsed": false,
     "input": [],
     "language": "python",
     "metadata": {},
     "outputs": []
    }
   ],
   "metadata": {}
  }
 ]
}